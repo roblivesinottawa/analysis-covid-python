{
 "cells": [
  {
   "cell_type": "code",
   "execution_count": 1,
   "metadata": {},
   "outputs": [],
   "source": [
    "import pandas as pd\n",
    "import numpy as np\n",
    "import matplotlib.pyplot as plt\n",
    "import seaborn as sns"
   ]
  },
  {
   "cell_type": "code",
   "execution_count": 2,
   "metadata": {},
   "outputs": [],
   "source": [
    "sns.set_style('darkgrid')"
   ]
  },
  {
   "cell_type": "code",
   "execution_count": 3,
   "metadata": {},
   "outputs": [],
   "source": [
    "path = '../../data/03-23-2021.csv'"
   ]
  },
  {
   "cell_type": "code",
   "execution_count": 4,
   "metadata": {},
   "outputs": [],
   "source": [
    "df = pd.read_csv(path)"
   ]
  },
  {
   "cell_type": "code",
   "execution_count": 5,
   "metadata": {},
   "outputs": [
    {
     "data": {
      "text/html": [
       "<div>\n",
       "<style scoped>\n",
       "    .dataframe tbody tr th:only-of-type {\n",
       "        vertical-align: middle;\n",
       "    }\n",
       "\n",
       "    .dataframe tbody tr th {\n",
       "        vertical-align: top;\n",
       "    }\n",
       "\n",
       "    .dataframe thead th {\n",
       "        text-align: right;\n",
       "    }\n",
       "</style>\n",
       "<table border=\"1\" class=\"dataframe\">\n",
       "  <thead>\n",
       "    <tr style=\"text-align: right;\">\n",
       "      <th></th>\n",
       "      <th>FIPS</th>\n",
       "      <th>Admin2</th>\n",
       "      <th>Province_State</th>\n",
       "      <th>Country_Region</th>\n",
       "      <th>Last_Update</th>\n",
       "      <th>Lat</th>\n",
       "      <th>Long_</th>\n",
       "      <th>Confirmed</th>\n",
       "      <th>Deaths</th>\n",
       "      <th>Recovered</th>\n",
       "      <th>Active</th>\n",
       "      <th>Combined_Key</th>\n",
       "      <th>Incident_Rate</th>\n",
       "      <th>Case_Fatality_Ratio</th>\n",
       "    </tr>\n",
       "  </thead>\n",
       "  <tbody>\n",
       "    <tr>\n",
       "      <th>0</th>\n",
       "      <td>NaN</td>\n",
       "      <td>NaN</td>\n",
       "      <td>NaN</td>\n",
       "      <td>Afghanistan</td>\n",
       "      <td>2021-03-24 05:25:40</td>\n",
       "      <td>33.93911</td>\n",
       "      <td>67.709953</td>\n",
       "      <td>56177</td>\n",
       "      <td>2466</td>\n",
       "      <td>49752.0</td>\n",
       "      <td>3959.0</td>\n",
       "      <td>Afghanistan</td>\n",
       "      <td>144.308744</td>\n",
       "      <td>4.389697</td>\n",
       "    </tr>\n",
       "    <tr>\n",
       "      <th>1</th>\n",
       "      <td>NaN</td>\n",
       "      <td>NaN</td>\n",
       "      <td>NaN</td>\n",
       "      <td>Albania</td>\n",
       "      <td>2021-03-24 05:25:40</td>\n",
       "      <td>41.15330</td>\n",
       "      <td>20.168300</td>\n",
       "      <td>121847</td>\n",
       "      <td>2156</td>\n",
       "      <td>86497.0</td>\n",
       "      <td>33194.0</td>\n",
       "      <td>Albania</td>\n",
       "      <td>4234.032942</td>\n",
       "      <td>1.769432</td>\n",
       "    </tr>\n",
       "    <tr>\n",
       "      <th>2</th>\n",
       "      <td>NaN</td>\n",
       "      <td>NaN</td>\n",
       "      <td>NaN</td>\n",
       "      <td>Algeria</td>\n",
       "      <td>2021-03-24 05:25:40</td>\n",
       "      <td>28.03390</td>\n",
       "      <td>1.659600</td>\n",
       "      <td>116349</td>\n",
       "      <td>3066</td>\n",
       "      <td>80981.0</td>\n",
       "      <td>32302.0</td>\n",
       "      <td>Algeria</td>\n",
       "      <td>265.327783</td>\n",
       "      <td>2.635175</td>\n",
       "    </tr>\n",
       "    <tr>\n",
       "      <th>3</th>\n",
       "      <td>NaN</td>\n",
       "      <td>NaN</td>\n",
       "      <td>NaN</td>\n",
       "      <td>Andorra</td>\n",
       "      <td>2021-03-24 05:25:40</td>\n",
       "      <td>42.50630</td>\n",
       "      <td>1.521800</td>\n",
       "      <td>11591</td>\n",
       "      <td>113</td>\n",
       "      <td>11050.0</td>\n",
       "      <td>428.0</td>\n",
       "      <td>Andorra</td>\n",
       "      <td>15001.617809</td>\n",
       "      <td>0.974894</td>\n",
       "    </tr>\n",
       "    <tr>\n",
       "      <th>4</th>\n",
       "      <td>NaN</td>\n",
       "      <td>NaN</td>\n",
       "      <td>NaN</td>\n",
       "      <td>Angola</td>\n",
       "      <td>2021-03-24 05:25:40</td>\n",
       "      <td>-11.20270</td>\n",
       "      <td>17.873900</td>\n",
       "      <td>21774</td>\n",
       "      <td>530</td>\n",
       "      <td>20099.0</td>\n",
       "      <td>1145.0</td>\n",
       "      <td>Angola</td>\n",
       "      <td>66.250297</td>\n",
       "      <td>2.434096</td>\n",
       "    </tr>\n",
       "  </tbody>\n",
       "</table>\n",
       "</div>"
      ],
      "text/plain": [
       "   FIPS Admin2 Province_State Country_Region          Last_Update       Lat  \\\n",
       "0   NaN    NaN            NaN    Afghanistan  2021-03-24 05:25:40  33.93911   \n",
       "1   NaN    NaN            NaN        Albania  2021-03-24 05:25:40  41.15330   \n",
       "2   NaN    NaN            NaN        Algeria  2021-03-24 05:25:40  28.03390   \n",
       "3   NaN    NaN            NaN        Andorra  2021-03-24 05:25:40  42.50630   \n",
       "4   NaN    NaN            NaN         Angola  2021-03-24 05:25:40 -11.20270   \n",
       "\n",
       "       Long_  Confirmed  Deaths  Recovered   Active Combined_Key  \\\n",
       "0  67.709953      56177    2466    49752.0   3959.0  Afghanistan   \n",
       "1  20.168300     121847    2156    86497.0  33194.0      Albania   \n",
       "2   1.659600     116349    3066    80981.0  32302.0      Algeria   \n",
       "3   1.521800      11591     113    11050.0    428.0      Andorra   \n",
       "4  17.873900      21774     530    20099.0   1145.0       Angola   \n",
       "\n",
       "   Incident_Rate  Case_Fatality_Ratio  \n",
       "0     144.308744             4.389697  \n",
       "1    4234.032942             1.769432  \n",
       "2     265.327783             2.635175  \n",
       "3   15001.617809             0.974894  \n",
       "4      66.250297             2.434096  "
      ]
     },
     "execution_count": 5,
     "metadata": {},
     "output_type": "execute_result"
    }
   ],
   "source": [
    "df.head()"
   ]
  },
  {
   "cell_type": "code",
   "execution_count": 6,
   "metadata": {},
   "outputs": [],
   "source": [
    "df.drop(['FIPS', 'Admin2', 'Province_State', 'Last_Update'], axis=1, inplace=True)"
   ]
  },
  {
   "cell_type": "code",
   "execution_count": 7,
   "metadata": {},
   "outputs": [
    {
     "data": {
      "text/html": [
       "<div>\n",
       "<style scoped>\n",
       "    .dataframe tbody tr th:only-of-type {\n",
       "        vertical-align: middle;\n",
       "    }\n",
       "\n",
       "    .dataframe tbody tr th {\n",
       "        vertical-align: top;\n",
       "    }\n",
       "\n",
       "    .dataframe thead th {\n",
       "        text-align: right;\n",
       "    }\n",
       "</style>\n",
       "<table border=\"1\" class=\"dataframe\">\n",
       "  <thead>\n",
       "    <tr style=\"text-align: right;\">\n",
       "      <th></th>\n",
       "      <th>Country_Region</th>\n",
       "      <th>Lat</th>\n",
       "      <th>Long_</th>\n",
       "      <th>Confirmed</th>\n",
       "      <th>Deaths</th>\n",
       "      <th>Recovered</th>\n",
       "      <th>Active</th>\n",
       "      <th>Combined_Key</th>\n",
       "      <th>Incident_Rate</th>\n",
       "      <th>Case_Fatality_Ratio</th>\n",
       "    </tr>\n",
       "  </thead>\n",
       "  <tbody>\n",
       "    <tr>\n",
       "      <th>0</th>\n",
       "      <td>Afghanistan</td>\n",
       "      <td>33.93911</td>\n",
       "      <td>67.709953</td>\n",
       "      <td>56177</td>\n",
       "      <td>2466</td>\n",
       "      <td>49752.0</td>\n",
       "      <td>3959.0</td>\n",
       "      <td>Afghanistan</td>\n",
       "      <td>144.308744</td>\n",
       "      <td>4.389697</td>\n",
       "    </tr>\n",
       "    <tr>\n",
       "      <th>1</th>\n",
       "      <td>Albania</td>\n",
       "      <td>41.15330</td>\n",
       "      <td>20.168300</td>\n",
       "      <td>121847</td>\n",
       "      <td>2156</td>\n",
       "      <td>86497.0</td>\n",
       "      <td>33194.0</td>\n",
       "      <td>Albania</td>\n",
       "      <td>4234.032942</td>\n",
       "      <td>1.769432</td>\n",
       "    </tr>\n",
       "    <tr>\n",
       "      <th>2</th>\n",
       "      <td>Algeria</td>\n",
       "      <td>28.03390</td>\n",
       "      <td>1.659600</td>\n",
       "      <td>116349</td>\n",
       "      <td>3066</td>\n",
       "      <td>80981.0</td>\n",
       "      <td>32302.0</td>\n",
       "      <td>Algeria</td>\n",
       "      <td>265.327783</td>\n",
       "      <td>2.635175</td>\n",
       "    </tr>\n",
       "    <tr>\n",
       "      <th>3</th>\n",
       "      <td>Andorra</td>\n",
       "      <td>42.50630</td>\n",
       "      <td>1.521800</td>\n",
       "      <td>11591</td>\n",
       "      <td>113</td>\n",
       "      <td>11050.0</td>\n",
       "      <td>428.0</td>\n",
       "      <td>Andorra</td>\n",
       "      <td>15001.617809</td>\n",
       "      <td>0.974894</td>\n",
       "    </tr>\n",
       "    <tr>\n",
       "      <th>4</th>\n",
       "      <td>Angola</td>\n",
       "      <td>-11.20270</td>\n",
       "      <td>17.873900</td>\n",
       "      <td>21774</td>\n",
       "      <td>530</td>\n",
       "      <td>20099.0</td>\n",
       "      <td>1145.0</td>\n",
       "      <td>Angola</td>\n",
       "      <td>66.250297</td>\n",
       "      <td>2.434096</td>\n",
       "    </tr>\n",
       "  </tbody>\n",
       "</table>\n",
       "</div>"
      ],
      "text/plain": [
       "  Country_Region       Lat      Long_  Confirmed  Deaths  Recovered   Active  \\\n",
       "0    Afghanistan  33.93911  67.709953      56177    2466    49752.0   3959.0   \n",
       "1        Albania  41.15330  20.168300     121847    2156    86497.0  33194.0   \n",
       "2        Algeria  28.03390   1.659600     116349    3066    80981.0  32302.0   \n",
       "3        Andorra  42.50630   1.521800      11591     113    11050.0    428.0   \n",
       "4         Angola -11.20270  17.873900      21774     530    20099.0   1145.0   \n",
       "\n",
       "  Combined_Key  Incident_Rate  Case_Fatality_Ratio  \n",
       "0  Afghanistan     144.308744             4.389697  \n",
       "1      Albania    4234.032942             1.769432  \n",
       "2      Algeria     265.327783             2.635175  \n",
       "3      Andorra   15001.617809             0.974894  \n",
       "4       Angola      66.250297             2.434096  "
      ]
     },
     "execution_count": 7,
     "metadata": {},
     "output_type": "execute_result"
    }
   ],
   "source": [
    "df.head()"
   ]
  },
  {
   "cell_type": "code",
   "execution_count": 8,
   "metadata": {},
   "outputs": [],
   "source": [
    "df.rename(columns={'Country_Region': 'Country', 'Lat': 'Latitude', 'Long_': 'Longitude'}, inplace=True)"
   ]
  },
  {
   "cell_type": "code",
   "execution_count": 9,
   "metadata": {},
   "outputs": [
    {
     "data": {
      "text/html": [
       "<div>\n",
       "<style scoped>\n",
       "    .dataframe tbody tr th:only-of-type {\n",
       "        vertical-align: middle;\n",
       "    }\n",
       "\n",
       "    .dataframe tbody tr th {\n",
       "        vertical-align: top;\n",
       "    }\n",
       "\n",
       "    .dataframe thead th {\n",
       "        text-align: right;\n",
       "    }\n",
       "</style>\n",
       "<table border=\"1\" class=\"dataframe\">\n",
       "  <thead>\n",
       "    <tr style=\"text-align: right;\">\n",
       "      <th></th>\n",
       "      <th>Country</th>\n",
       "      <th>Latitude</th>\n",
       "      <th>Longitude</th>\n",
       "      <th>Confirmed</th>\n",
       "      <th>Deaths</th>\n",
       "      <th>Recovered</th>\n",
       "      <th>Active</th>\n",
       "      <th>Combined_Key</th>\n",
       "      <th>Incident_Rate</th>\n",
       "      <th>Case_Fatality_Ratio</th>\n",
       "    </tr>\n",
       "  </thead>\n",
       "  <tbody>\n",
       "    <tr>\n",
       "      <th>0</th>\n",
       "      <td>Afghanistan</td>\n",
       "      <td>33.93911</td>\n",
       "      <td>67.709953</td>\n",
       "      <td>56177</td>\n",
       "      <td>2466</td>\n",
       "      <td>49752.0</td>\n",
       "      <td>3959.0</td>\n",
       "      <td>Afghanistan</td>\n",
       "      <td>144.308744</td>\n",
       "      <td>4.389697</td>\n",
       "    </tr>\n",
       "    <tr>\n",
       "      <th>1</th>\n",
       "      <td>Albania</td>\n",
       "      <td>41.15330</td>\n",
       "      <td>20.168300</td>\n",
       "      <td>121847</td>\n",
       "      <td>2156</td>\n",
       "      <td>86497.0</td>\n",
       "      <td>33194.0</td>\n",
       "      <td>Albania</td>\n",
       "      <td>4234.032942</td>\n",
       "      <td>1.769432</td>\n",
       "    </tr>\n",
       "    <tr>\n",
       "      <th>2</th>\n",
       "      <td>Algeria</td>\n",
       "      <td>28.03390</td>\n",
       "      <td>1.659600</td>\n",
       "      <td>116349</td>\n",
       "      <td>3066</td>\n",
       "      <td>80981.0</td>\n",
       "      <td>32302.0</td>\n",
       "      <td>Algeria</td>\n",
       "      <td>265.327783</td>\n",
       "      <td>2.635175</td>\n",
       "    </tr>\n",
       "    <tr>\n",
       "      <th>3</th>\n",
       "      <td>Andorra</td>\n",
       "      <td>42.50630</td>\n",
       "      <td>1.521800</td>\n",
       "      <td>11591</td>\n",
       "      <td>113</td>\n",
       "      <td>11050.0</td>\n",
       "      <td>428.0</td>\n",
       "      <td>Andorra</td>\n",
       "      <td>15001.617809</td>\n",
       "      <td>0.974894</td>\n",
       "    </tr>\n",
       "    <tr>\n",
       "      <th>4</th>\n",
       "      <td>Angola</td>\n",
       "      <td>-11.20270</td>\n",
       "      <td>17.873900</td>\n",
       "      <td>21774</td>\n",
       "      <td>530</td>\n",
       "      <td>20099.0</td>\n",
       "      <td>1145.0</td>\n",
       "      <td>Angola</td>\n",
       "      <td>66.250297</td>\n",
       "      <td>2.434096</td>\n",
       "    </tr>\n",
       "  </tbody>\n",
       "</table>\n",
       "</div>"
      ],
      "text/plain": [
       "       Country  Latitude  Longitude  Confirmed  Deaths  Recovered   Active  \\\n",
       "0  Afghanistan  33.93911  67.709953      56177    2466    49752.0   3959.0   \n",
       "1      Albania  41.15330  20.168300     121847    2156    86497.0  33194.0   \n",
       "2      Algeria  28.03390   1.659600     116349    3066    80981.0  32302.0   \n",
       "3      Andorra  42.50630   1.521800      11591     113    11050.0    428.0   \n",
       "4       Angola -11.20270  17.873900      21774     530    20099.0   1145.0   \n",
       "\n",
       "  Combined_Key  Incident_Rate  Case_Fatality_Ratio  \n",
       "0  Afghanistan     144.308744             4.389697  \n",
       "1      Albania    4234.032942             1.769432  \n",
       "2      Algeria     265.327783             2.635175  \n",
       "3      Andorra   15001.617809             0.974894  \n",
       "4       Angola      66.250297             2.434096  "
      ]
     },
     "execution_count": 9,
     "metadata": {},
     "output_type": "execute_result"
    }
   ],
   "source": [
    "df.head()"
   ]
  },
  {
   "cell_type": "code",
   "execution_count": 10,
   "metadata": {},
   "outputs": [],
   "source": [
    "df.drop(['Latitude', 'Longitude', 'Combined_Key', 'Incident_Rate', 'Case_Fatality_Ratio'], axis=1, inplace=True)"
   ]
  },
  {
   "cell_type": "code",
   "execution_count": 11,
   "metadata": {},
   "outputs": [
    {
     "data": {
      "text/html": [
       "<div>\n",
       "<style scoped>\n",
       "    .dataframe tbody tr th:only-of-type {\n",
       "        vertical-align: middle;\n",
       "    }\n",
       "\n",
       "    .dataframe tbody tr th {\n",
       "        vertical-align: top;\n",
       "    }\n",
       "\n",
       "    .dataframe thead th {\n",
       "        text-align: right;\n",
       "    }\n",
       "</style>\n",
       "<table border=\"1\" class=\"dataframe\">\n",
       "  <thead>\n",
       "    <tr style=\"text-align: right;\">\n",
       "      <th></th>\n",
       "      <th>Country</th>\n",
       "      <th>Confirmed</th>\n",
       "      <th>Deaths</th>\n",
       "      <th>Recovered</th>\n",
       "      <th>Active</th>\n",
       "    </tr>\n",
       "  </thead>\n",
       "  <tbody>\n",
       "    <tr>\n",
       "      <th>0</th>\n",
       "      <td>Afghanistan</td>\n",
       "      <td>56177</td>\n",
       "      <td>2466</td>\n",
       "      <td>49752.0</td>\n",
       "      <td>3959.0</td>\n",
       "    </tr>\n",
       "    <tr>\n",
       "      <th>1</th>\n",
       "      <td>Albania</td>\n",
       "      <td>121847</td>\n",
       "      <td>2156</td>\n",
       "      <td>86497.0</td>\n",
       "      <td>33194.0</td>\n",
       "    </tr>\n",
       "    <tr>\n",
       "      <th>2</th>\n",
       "      <td>Algeria</td>\n",
       "      <td>116349</td>\n",
       "      <td>3066</td>\n",
       "      <td>80981.0</td>\n",
       "      <td>32302.0</td>\n",
       "    </tr>\n",
       "    <tr>\n",
       "      <th>3</th>\n",
       "      <td>Andorra</td>\n",
       "      <td>11591</td>\n",
       "      <td>113</td>\n",
       "      <td>11050.0</td>\n",
       "      <td>428.0</td>\n",
       "    </tr>\n",
       "    <tr>\n",
       "      <th>4</th>\n",
       "      <td>Angola</td>\n",
       "      <td>21774</td>\n",
       "      <td>530</td>\n",
       "      <td>20099.0</td>\n",
       "      <td>1145.0</td>\n",
       "    </tr>\n",
       "    <tr>\n",
       "      <th>5</th>\n",
       "      <td>Antigua and Barbuda</td>\n",
       "      <td>1080</td>\n",
       "      <td>28</td>\n",
       "      <td>715.0</td>\n",
       "      <td>337.0</td>\n",
       "    </tr>\n",
       "    <tr>\n",
       "      <th>6</th>\n",
       "      <td>Argentina</td>\n",
       "      <td>2261577</td>\n",
       "      <td>54823</td>\n",
       "      <td>2043957.0</td>\n",
       "      <td>162797.0</td>\n",
       "    </tr>\n",
       "    <tr>\n",
       "      <th>7</th>\n",
       "      <td>Armenia</td>\n",
       "      <td>185020</td>\n",
       "      <td>3384</td>\n",
       "      <td>169172.0</td>\n",
       "      <td>12464.0</td>\n",
       "    </tr>\n",
       "    <tr>\n",
       "      <th>8</th>\n",
       "      <td>Australia</td>\n",
       "      <td>123</td>\n",
       "      <td>3</td>\n",
       "      <td>117.0</td>\n",
       "      <td>3.0</td>\n",
       "    </tr>\n",
       "    <tr>\n",
       "      <th>9</th>\n",
       "      <td>Australia</td>\n",
       "      <td>5273</td>\n",
       "      <td>54</td>\n",
       "      <td>0.0</td>\n",
       "      <td>5219.0</td>\n",
       "    </tr>\n",
       "  </tbody>\n",
       "</table>\n",
       "</div>"
      ],
      "text/plain": [
       "               Country  Confirmed  Deaths  Recovered    Active\n",
       "0          Afghanistan      56177    2466    49752.0    3959.0\n",
       "1              Albania     121847    2156    86497.0   33194.0\n",
       "2              Algeria     116349    3066    80981.0   32302.0\n",
       "3              Andorra      11591     113    11050.0     428.0\n",
       "4               Angola      21774     530    20099.0    1145.0\n",
       "5  Antigua and Barbuda       1080      28      715.0     337.0\n",
       "6            Argentina    2261577   54823  2043957.0  162797.0\n",
       "7              Armenia     185020    3384   169172.0   12464.0\n",
       "8            Australia        123       3      117.0       3.0\n",
       "9            Australia       5273      54        0.0    5219.0"
      ]
     },
     "execution_count": 11,
     "metadata": {},
     "output_type": "execute_result"
    }
   ],
   "source": [
    "df.head(10)"
   ]
  },
  {
   "cell_type": "code",
   "execution_count": 12,
   "metadata": {},
   "outputs": [
    {
     "name": "stdout",
     "output_type": "stream",
     "text": [
      "<class 'pandas.core.frame.DataFrame'>\n",
      "RangeIndex: 4003 entries, 0 to 4002\n",
      "Data columns (total 5 columns):\n",
      " #   Column     Non-Null Count  Dtype  \n",
      "---  ------     --------------  -----  \n",
      " 0   Country    4003 non-null   object \n",
      " 1   Confirmed  4003 non-null   int64  \n",
      " 2   Deaths     4003 non-null   int64  \n",
      " 3   Recovered  728 non-null    float64\n",
      " 4   Active     724 non-null    float64\n",
      "dtypes: float64(2), int64(2), object(1)\n",
      "memory usage: 156.5+ KB\n"
     ]
    }
   ],
   "source": [
    "df.info()"
   ]
  },
  {
   "cell_type": "code",
   "execution_count": 13,
   "metadata": {},
   "outputs": [
    {
     "data": {
      "text/plain": [
       "Country         0\n",
       "Confirmed       0\n",
       "Deaths          0\n",
       "Recovered    3275\n",
       "Active       3279\n",
       "dtype: int64"
      ]
     },
     "execution_count": 13,
     "metadata": {},
     "output_type": "execute_result"
    }
   ],
   "source": [
    "df.isnull().sum()"
   ]
  },
  {
   "cell_type": "code",
   "execution_count": 14,
   "metadata": {},
   "outputs": [
    {
     "data": {
      "text/html": [
       "<div>\n",
       "<style scoped>\n",
       "    .dataframe tbody tr th:only-of-type {\n",
       "        vertical-align: middle;\n",
       "    }\n",
       "\n",
       "    .dataframe tbody tr th {\n",
       "        vertical-align: top;\n",
       "    }\n",
       "\n",
       "    .dataframe thead th {\n",
       "        text-align: right;\n",
       "    }\n",
       "</style>\n",
       "<table border=\"1\" class=\"dataframe\">\n",
       "  <thead>\n",
       "    <tr style=\"text-align: right;\">\n",
       "      <th></th>\n",
       "      <th>Country</th>\n",
       "      <th>Confirmed</th>\n",
       "      <th>Deaths</th>\n",
       "      <th>Recovered</th>\n",
       "      <th>Active</th>\n",
       "    </tr>\n",
       "  </thead>\n",
       "  <tbody>\n",
       "    <tr>\n",
       "      <th>41</th>\n",
       "      <td>Brazil</td>\n",
       "      <td>66290</td>\n",
       "      <td>1201</td>\n",
       "      <td>53030.0</td>\n",
       "      <td>12059.0</td>\n",
       "    </tr>\n",
       "    <tr>\n",
       "      <th>42</th>\n",
       "      <td>Brazil</td>\n",
       "      <td>148422</td>\n",
       "      <td>3378</td>\n",
       "      <td>140287.0</td>\n",
       "      <td>4757.0</td>\n",
       "    </tr>\n",
       "    <tr>\n",
       "      <th>43</th>\n",
       "      <td>Brazil</td>\n",
       "      <td>93111</td>\n",
       "      <td>1243</td>\n",
       "      <td>70828.0</td>\n",
       "      <td>21040.0</td>\n",
       "    </tr>\n",
       "    <tr>\n",
       "      <th>44</th>\n",
       "      <td>Brazil</td>\n",
       "      <td>340785</td>\n",
       "      <td>11836</td>\n",
       "      <td>290051.0</td>\n",
       "      <td>38898.0</td>\n",
       "    </tr>\n",
       "    <tr>\n",
       "      <th>45</th>\n",
       "      <td>Brazil</td>\n",
       "      <td>774491</td>\n",
       "      <td>14357</td>\n",
       "      <td>744732.0</td>\n",
       "      <td>15402.0</td>\n",
       "    </tr>\n",
       "    <tr>\n",
       "      <th>46</th>\n",
       "      <td>Brazil</td>\n",
       "      <td>511170</td>\n",
       "      <td>13048</td>\n",
       "      <td>358886.0</td>\n",
       "      <td>139236.0</td>\n",
       "    </tr>\n",
       "    <tr>\n",
       "      <th>47</th>\n",
       "      <td>Brazil</td>\n",
       "      <td>332153</td>\n",
       "      <td>5503</td>\n",
       "      <td>308446.0</td>\n",
       "      <td>18204.0</td>\n",
       "    </tr>\n",
       "    <tr>\n",
       "      <th>48</th>\n",
       "      <td>Brazil</td>\n",
       "      <td>363685</td>\n",
       "      <td>7044</td>\n",
       "      <td>339150.0</td>\n",
       "      <td>17491.0</td>\n",
       "    </tr>\n",
       "    <tr>\n",
       "      <th>49</th>\n",
       "      <td>Brazil</td>\n",
       "      <td>457483</td>\n",
       "      <td>10583</td>\n",
       "      <td>437890.0</td>\n",
       "      <td>9010.0</td>\n",
       "    </tr>\n",
       "    <tr>\n",
       "      <th>50</th>\n",
       "      <td>Brazil</td>\n",
       "      <td>235646</td>\n",
       "      <td>5759</td>\n",
       "      <td>215142.0</td>\n",
       "      <td>14745.0</td>\n",
       "    </tr>\n",
       "  </tbody>\n",
       "</table>\n",
       "</div>"
      ],
      "text/plain": [
       "   Country  Confirmed  Deaths  Recovered    Active\n",
       "41  Brazil      66290    1201    53030.0   12059.0\n",
       "42  Brazil     148422    3378   140287.0    4757.0\n",
       "43  Brazil      93111    1243    70828.0   21040.0\n",
       "44  Brazil     340785   11836   290051.0   38898.0\n",
       "45  Brazil     774491   14357   744732.0   15402.0\n",
       "46  Brazil     511170   13048   358886.0  139236.0\n",
       "47  Brazil     332153    5503   308446.0   18204.0\n",
       "48  Brazil     363685    7044   339150.0   17491.0\n",
       "49  Brazil     457483   10583   437890.0    9010.0\n",
       "50  Brazil     235646    5759   215142.0   14745.0"
      ]
     },
     "execution_count": 14,
     "metadata": {},
     "output_type": "execute_result"
    }
   ],
   "source": [
    "df[df.Country == 'Brazil'].head(10)"
   ]
  },
  {
   "cell_type": "code",
   "execution_count": 15,
   "metadata": {},
   "outputs": [
    {
     "data": {
      "text/html": [
       "<div>\n",
       "<style scoped>\n",
       "    .dataframe tbody tr th:only-of-type {\n",
       "        vertical-align: middle;\n",
       "    }\n",
       "\n",
       "    .dataframe tbody tr th {\n",
       "        vertical-align: top;\n",
       "    }\n",
       "\n",
       "    .dataframe thead th {\n",
       "        text-align: right;\n",
       "    }\n",
       "</style>\n",
       "<table border=\"1\" class=\"dataframe\">\n",
       "  <thead>\n",
       "    <tr style=\"text-align: right;\">\n",
       "      <th></th>\n",
       "      <th>Country</th>\n",
       "      <th>Confirmed</th>\n",
       "      <th>Deaths</th>\n",
       "      <th>Recovered</th>\n",
       "      <th>Active</th>\n",
       "    </tr>\n",
       "  </thead>\n",
       "  <tbody>\n",
       "    <tr>\n",
       "      <th>651</th>\n",
       "      <td>US</td>\n",
       "      <td>6525</td>\n",
       "      <td>99</td>\n",
       "      <td>NaN</td>\n",
       "      <td>NaN</td>\n",
       "    </tr>\n",
       "    <tr>\n",
       "      <th>652</th>\n",
       "      <td>US</td>\n",
       "      <td>20354</td>\n",
       "      <td>297</td>\n",
       "      <td>NaN</td>\n",
       "      <td>NaN</td>\n",
       "    </tr>\n",
       "    <tr>\n",
       "      <th>653</th>\n",
       "      <td>US</td>\n",
       "      <td>2213</td>\n",
       "      <td>54</td>\n",
       "      <td>NaN</td>\n",
       "      <td>NaN</td>\n",
       "    </tr>\n",
       "    <tr>\n",
       "      <th>654</th>\n",
       "      <td>US</td>\n",
       "      <td>2530</td>\n",
       "      <td>58</td>\n",
       "      <td>NaN</td>\n",
       "      <td>NaN</td>\n",
       "    </tr>\n",
       "    <tr>\n",
       "      <th>655</th>\n",
       "      <td>US</td>\n",
       "      <td>6388</td>\n",
       "      <td>130</td>\n",
       "      <td>NaN</td>\n",
       "      <td>NaN</td>\n",
       "    </tr>\n",
       "    <tr>\n",
       "      <th>656</th>\n",
       "      <td>US</td>\n",
       "      <td>1195</td>\n",
       "      <td>39</td>\n",
       "      <td>NaN</td>\n",
       "      <td>NaN</td>\n",
       "    </tr>\n",
       "    <tr>\n",
       "      <th>657</th>\n",
       "      <td>US</td>\n",
       "      <td>2073</td>\n",
       "      <td>66</td>\n",
       "      <td>NaN</td>\n",
       "      <td>NaN</td>\n",
       "    </tr>\n",
       "    <tr>\n",
       "      <th>658</th>\n",
       "      <td>US</td>\n",
       "      <td>14162</td>\n",
       "      <td>304</td>\n",
       "      <td>NaN</td>\n",
       "      <td>NaN</td>\n",
       "    </tr>\n",
       "    <tr>\n",
       "      <th>659</th>\n",
       "      <td>US</td>\n",
       "      <td>3470</td>\n",
       "      <td>114</td>\n",
       "      <td>NaN</td>\n",
       "      <td>NaN</td>\n",
       "    </tr>\n",
       "    <tr>\n",
       "      <th>660</th>\n",
       "      <td>US</td>\n",
       "      <td>1794</td>\n",
       "      <td>42</td>\n",
       "      <td>NaN</td>\n",
       "      <td>NaN</td>\n",
       "    </tr>\n",
       "  </tbody>\n",
       "</table>\n",
       "</div>"
      ],
      "text/plain": [
       "    Country  Confirmed  Deaths  Recovered  Active\n",
       "651      US       6525      99        NaN     NaN\n",
       "652      US      20354     297        NaN     NaN\n",
       "653      US       2213      54        NaN     NaN\n",
       "654      US       2530      58        NaN     NaN\n",
       "655      US       6388     130        NaN     NaN\n",
       "656      US       1195      39        NaN     NaN\n",
       "657      US       2073      66        NaN     NaN\n",
       "658      US      14162     304        NaN     NaN\n",
       "659      US       3470     114        NaN     NaN\n",
       "660      US       1794      42        NaN     NaN"
      ]
     },
     "execution_count": 15,
     "metadata": {},
     "output_type": "execute_result"
    }
   ],
   "source": [
    "df[df.Country == 'US'].head(10)"
   ]
  },
  {
   "cell_type": "code",
   "execution_count": 16,
   "metadata": {},
   "outputs": [
    {
     "data": {
      "text/html": [
       "<div>\n",
       "<style scoped>\n",
       "    .dataframe tbody tr th:only-of-type {\n",
       "        vertical-align: middle;\n",
       "    }\n",
       "\n",
       "    .dataframe tbody tr th {\n",
       "        vertical-align: top;\n",
       "    }\n",
       "\n",
       "    .dataframe thead th {\n",
       "        text-align: right;\n",
       "    }\n",
       "</style>\n",
       "<table border=\"1\" class=\"dataframe\">\n",
       "  <thead>\n",
       "    <tr style=\"text-align: right;\">\n",
       "      <th></th>\n",
       "      <th>Country</th>\n",
       "      <th>Confirmed</th>\n",
       "      <th>Deaths</th>\n",
       "      <th>Recovered</th>\n",
       "      <th>Active</th>\n",
       "    </tr>\n",
       "  </thead>\n",
       "  <tbody>\n",
       "    <tr>\n",
       "      <th>76</th>\n",
       "      <td>Canada</td>\n",
       "      <td>142855</td>\n",
       "      <td>1971</td>\n",
       "      <td>134653.0</td>\n",
       "      <td>6231.0</td>\n",
       "    </tr>\n",
       "    <tr>\n",
       "      <th>77</th>\n",
       "      <td>Canada</td>\n",
       "      <td>93253</td>\n",
       "      <td>1438</td>\n",
       "      <td>86307.0</td>\n",
       "      <td>5508.0</td>\n",
       "    </tr>\n",
       "    <tr>\n",
       "      <th>78</th>\n",
       "      <td>Canada</td>\n",
       "      <td>0</td>\n",
       "      <td>1</td>\n",
       "      <td>0.0</td>\n",
       "      <td>NaN</td>\n",
       "    </tr>\n",
       "    <tr>\n",
       "      <th>79</th>\n",
       "      <td>Canada</td>\n",
       "      <td>13</td>\n",
       "      <td>0</td>\n",
       "      <td>13.0</td>\n",
       "      <td>0.0</td>\n",
       "    </tr>\n",
       "    <tr>\n",
       "      <th>80</th>\n",
       "      <td>Canada</td>\n",
       "      <td>33511</td>\n",
       "      <td>929</td>\n",
       "      <td>31335.0</td>\n",
       "      <td>1247.0</td>\n",
       "    </tr>\n",
       "    <tr>\n",
       "      <th>81</th>\n",
       "      <td>Canada</td>\n",
       "      <td>1505</td>\n",
       "      <td>30</td>\n",
       "      <td>1418.0</td>\n",
       "      <td>57.0</td>\n",
       "    </tr>\n",
       "    <tr>\n",
       "      <th>82</th>\n",
       "      <td>Canada</td>\n",
       "      <td>1014</td>\n",
       "      <td>6</td>\n",
       "      <td>1002.0</td>\n",
       "      <td>6.0</td>\n",
       "    </tr>\n",
       "    <tr>\n",
       "      <th>83</th>\n",
       "      <td>Canada</td>\n",
       "      <td>47</td>\n",
       "      <td>0</td>\n",
       "      <td>46.0</td>\n",
       "      <td>1.0</td>\n",
       "    </tr>\n",
       "    <tr>\n",
       "      <th>84</th>\n",
       "      <td>Canada</td>\n",
       "      <td>1691</td>\n",
       "      <td>66</td>\n",
       "      <td>1604.0</td>\n",
       "      <td>21.0</td>\n",
       "    </tr>\n",
       "    <tr>\n",
       "      <th>85</th>\n",
       "      <td>Canada</td>\n",
       "      <td>395</td>\n",
       "      <td>4</td>\n",
       "      <td>391.0</td>\n",
       "      <td>0.0</td>\n",
       "    </tr>\n",
       "  </tbody>\n",
       "</table>\n",
       "</div>"
      ],
      "text/plain": [
       "   Country  Confirmed  Deaths  Recovered  Active\n",
       "76  Canada     142855    1971   134653.0  6231.0\n",
       "77  Canada      93253    1438    86307.0  5508.0\n",
       "78  Canada          0       1        0.0     NaN\n",
       "79  Canada         13       0       13.0     0.0\n",
       "80  Canada      33511     929    31335.0  1247.0\n",
       "81  Canada       1505      30     1418.0    57.0\n",
       "82  Canada       1014       6     1002.0     6.0\n",
       "83  Canada         47       0       46.0     1.0\n",
       "84  Canada       1691      66     1604.0    21.0\n",
       "85  Canada        395       4      391.0     0.0"
      ]
     },
     "execution_count": 16,
     "metadata": {},
     "output_type": "execute_result"
    }
   ],
   "source": [
    "df[df.Country == 'Canada'].head(10)"
   ]
  },
  {
   "cell_type": "code",
   "execution_count": 17,
   "metadata": {},
   "outputs": [
    {
     "data": {
      "text/plain": [
       "<AxesSubplot:xlabel='Deaths'>"
      ]
     },
     "execution_count": 17,
     "metadata": {},
     "output_type": "execute_result"
    },
    {
     "data": {
      "image/png": "[encoded data removed]",
      "text/plain": [
       "<Figure size 432x288 with 1 Axes>"
      ]
     },
     "metadata": {},
     "output_type": "display_data"
    }
   ],
   "source": [
    "df[df.Country == 'Brazil'].groupby('Deaths').sum().plot(kind='line')\n"
   ]
  },
  {
   "cell_type": "code",
   "execution_count": 18,
   "metadata": {},
   "outputs": [
    {
     "data": {
      "text/plain": [
       "<AxesSubplot:xlabel='Deaths'>"
      ]
     },
     "execution_count": 18,
     "metadata": {},
     "output_type": "execute_result"
    },
    {
     "data": {
      "image/png": "[encoded data removed]",
      "text/plain": [
       "<Figure size 432x288 with 1 Axes>"
      ]
     },
     "metadata": {},
     "output_type": "display_data"
    }
   ],
   "source": [
    "df[df.Country == 'US'].groupby('Deaths').sum().plot(kind='line')\n"
   ]
  },
  {
   "cell_type": "code",
   "execution_count": 19,
   "metadata": {},
   "outputs": [
    {
     "data": {
      "text/plain": [
       "<AxesSubplot:xlabel='Deaths'>"
      ]
     },
     "execution_count": 19,
     "metadata": {},
     "output_type": "execute_result"
    },
    {
     "data": {
      "image/png": "[encoded data removed]",
      "text/plain": [
       "<Figure size 432x288 with 1 Axes>"
      ]
     },
     "metadata": {},
     "output_type": "display_data"
    }
   ],
   "source": [
    "df[df.Country == 'Canada'].groupby('Deaths').sum().plot(kind='line')\n"
   ]
  },
  {
   "cell_type": "code",
   "execution_count": 20,
   "metadata": {},
   "outputs": [],
   "source": [
    "# create a dataframe with just the US, Canada, and Brazil data\n",
    "df_us = df[df.Country == 'US']\n",
    "df_canada = df[df.Country == 'Canada']\n",
    "df_brazil = df[df.Country == 'Brazil']"
   ]
  },
  {
   "cell_type": "code",
   "execution_count": 21,
   "metadata": {},
   "outputs": [
    {
     "data": {
      "text/html": [
       "<div>\n",
       "<style scoped>\n",
       "    .dataframe tbody tr th:only-of-type {\n",
       "        vertical-align: middle;\n",
       "    }\n",
       "\n",
       "    .dataframe tbody tr th {\n",
       "        vertical-align: top;\n",
       "    }\n",
       "\n",
       "    .dataframe thead th {\n",
       "        text-align: right;\n",
       "    }\n",
       "</style>\n",
       "<table border=\"1\" class=\"dataframe\">\n",
       "  <thead>\n",
       "    <tr style=\"text-align: right;\">\n",
       "      <th></th>\n",
       "      <th>Country</th>\n",
       "      <th>Confirmed</th>\n",
       "      <th>Deaths</th>\n",
       "      <th>Recovered</th>\n",
       "      <th>Active</th>\n",
       "    </tr>\n",
       "  </thead>\n",
       "  <tbody>\n",
       "    <tr>\n",
       "      <th>651</th>\n",
       "      <td>US</td>\n",
       "      <td>6525</td>\n",
       "      <td>99</td>\n",
       "      <td>NaN</td>\n",
       "      <td>NaN</td>\n",
       "    </tr>\n",
       "    <tr>\n",
       "      <th>652</th>\n",
       "      <td>US</td>\n",
       "      <td>20354</td>\n",
       "      <td>297</td>\n",
       "      <td>NaN</td>\n",
       "      <td>NaN</td>\n",
       "    </tr>\n",
       "    <tr>\n",
       "      <th>653</th>\n",
       "      <td>US</td>\n",
       "      <td>2213</td>\n",
       "      <td>54</td>\n",
       "      <td>NaN</td>\n",
       "      <td>NaN</td>\n",
       "    </tr>\n",
       "    <tr>\n",
       "      <th>654</th>\n",
       "      <td>US</td>\n",
       "      <td>2530</td>\n",
       "      <td>58</td>\n",
       "      <td>NaN</td>\n",
       "      <td>NaN</td>\n",
       "    </tr>\n",
       "    <tr>\n",
       "      <th>655</th>\n",
       "      <td>US</td>\n",
       "      <td>6388</td>\n",
       "      <td>130</td>\n",
       "      <td>NaN</td>\n",
       "      <td>NaN</td>\n",
       "    </tr>\n",
       "    <tr>\n",
       "      <th>...</th>\n",
       "      <td>...</td>\n",
       "      <td>...</td>\n",
       "      <td>...</td>\n",
       "      <td>...</td>\n",
       "      <td>...</td>\n",
       "    </tr>\n",
       "    <tr>\n",
       "      <th>3923</th>\n",
       "      <td>US</td>\n",
       "      <td>0</td>\n",
       "      <td>0</td>\n",
       "      <td>NaN</td>\n",
       "      <td>NaN</td>\n",
       "    </tr>\n",
       "    <tr>\n",
       "      <th>3924</th>\n",
       "      <td>US</td>\n",
       "      <td>889</td>\n",
       "      <td>26</td>\n",
       "      <td>NaN</td>\n",
       "      <td>NaN</td>\n",
       "    </tr>\n",
       "    <tr>\n",
       "      <th>3925</th>\n",
       "      <td>US</td>\n",
       "      <td>632</td>\n",
       "      <td>5</td>\n",
       "      <td>NaN</td>\n",
       "      <td>NaN</td>\n",
       "    </tr>\n",
       "    <tr>\n",
       "      <th>3980</th>\n",
       "      <td>US</td>\n",
       "      <td>226</td>\n",
       "      <td>0</td>\n",
       "      <td>0.0</td>\n",
       "      <td>0.0</td>\n",
       "    </tr>\n",
       "    <tr>\n",
       "      <th>3981</th>\n",
       "      <td>US</td>\n",
       "      <td>315</td>\n",
       "      <td>3</td>\n",
       "      <td>0.0</td>\n",
       "      <td>0.0</td>\n",
       "    </tr>\n",
       "  </tbody>\n",
       "</table>\n",
       "<p>3277 rows × 5 columns</p>\n",
       "</div>"
      ],
      "text/plain": [
       "     Country  Confirmed  Deaths  Recovered  Active\n",
       "651       US       6525      99        NaN     NaN\n",
       "652       US      20354     297        NaN     NaN\n",
       "653       US       2213      54        NaN     NaN\n",
       "654       US       2530      58        NaN     NaN\n",
       "655       US       6388     130        NaN     NaN\n",
       "...      ...        ...     ...        ...     ...\n",
       "3923      US          0       0        NaN     NaN\n",
       "3924      US        889      26        NaN     NaN\n",
       "3925      US        632       5        NaN     NaN\n",
       "3980      US        226       0        0.0     0.0\n",
       "3981      US        315       3        0.0     0.0\n",
       "\n",
       "[3277 rows x 5 columns]"
      ]
     },
     "execution_count": 21,
     "metadata": {},
     "output_type": "execute_result"
    }
   ],
   "source": [
    "df_us"
   ]
  },
  {
   "cell_type": "code",
   "execution_count": 22,
   "metadata": {},
   "outputs": [
    {
     "data": {
      "text/html": [
       "<div>\n",
       "<style scoped>\n",
       "    .dataframe tbody tr th:only-of-type {\n",
       "        vertical-align: middle;\n",
       "    }\n",
       "\n",
       "    .dataframe tbody tr th {\n",
       "        vertical-align: top;\n",
       "    }\n",
       "\n",
       "    .dataframe thead th {\n",
       "        text-align: right;\n",
       "    }\n",
       "</style>\n",
       "<table border=\"1\" class=\"dataframe\">\n",
       "  <thead>\n",
       "    <tr style=\"text-align: right;\">\n",
       "      <th></th>\n",
       "      <th>Country</th>\n",
       "      <th>Confirmed</th>\n",
       "      <th>Deaths</th>\n",
       "      <th>Recovered</th>\n",
       "      <th>Active</th>\n",
       "    </tr>\n",
       "  </thead>\n",
       "  <tbody>\n",
       "    <tr>\n",
       "      <th>76</th>\n",
       "      <td>Canada</td>\n",
       "      <td>142855</td>\n",
       "      <td>1971</td>\n",
       "      <td>134653.0</td>\n",
       "      <td>6231.0</td>\n",
       "    </tr>\n",
       "    <tr>\n",
       "      <th>77</th>\n",
       "      <td>Canada</td>\n",
       "      <td>93253</td>\n",
       "      <td>1438</td>\n",
       "      <td>86307.0</td>\n",
       "      <td>5508.0</td>\n",
       "    </tr>\n",
       "    <tr>\n",
       "      <th>78</th>\n",
       "      <td>Canada</td>\n",
       "      <td>0</td>\n",
       "      <td>1</td>\n",
       "      <td>0.0</td>\n",
       "      <td>NaN</td>\n",
       "    </tr>\n",
       "    <tr>\n",
       "      <th>79</th>\n",
       "      <td>Canada</td>\n",
       "      <td>13</td>\n",
       "      <td>0</td>\n",
       "      <td>13.0</td>\n",
       "      <td>0.0</td>\n",
       "    </tr>\n",
       "    <tr>\n",
       "      <th>80</th>\n",
       "      <td>Canada</td>\n",
       "      <td>33511</td>\n",
       "      <td>929</td>\n",
       "      <td>31335.0</td>\n",
       "      <td>1247.0</td>\n",
       "    </tr>\n",
       "    <tr>\n",
       "      <th>81</th>\n",
       "      <td>Canada</td>\n",
       "      <td>1505</td>\n",
       "      <td>30</td>\n",
       "      <td>1418.0</td>\n",
       "      <td>57.0</td>\n",
       "    </tr>\n",
       "    <tr>\n",
       "      <th>82</th>\n",
       "      <td>Canada</td>\n",
       "      <td>1014</td>\n",
       "      <td>6</td>\n",
       "      <td>1002.0</td>\n",
       "      <td>6.0</td>\n",
       "    </tr>\n",
       "    <tr>\n",
       "      <th>83</th>\n",
       "      <td>Canada</td>\n",
       "      <td>47</td>\n",
       "      <td>0</td>\n",
       "      <td>46.0</td>\n",
       "      <td>1.0</td>\n",
       "    </tr>\n",
       "    <tr>\n",
       "      <th>84</th>\n",
       "      <td>Canada</td>\n",
       "      <td>1691</td>\n",
       "      <td>66</td>\n",
       "      <td>1604.0</td>\n",
       "      <td>21.0</td>\n",
       "    </tr>\n",
       "    <tr>\n",
       "      <th>85</th>\n",
       "      <td>Canada</td>\n",
       "      <td>395</td>\n",
       "      <td>4</td>\n",
       "      <td>391.0</td>\n",
       "      <td>0.0</td>\n",
       "    </tr>\n",
       "    <tr>\n",
       "      <th>86</th>\n",
       "      <td>Canada</td>\n",
       "      <td>337270</td>\n",
       "      <td>7253</td>\n",
       "      <td>315803.0</td>\n",
       "      <td>14235.0</td>\n",
       "    </tr>\n",
       "    <tr>\n",
       "      <th>87</th>\n",
       "      <td>Canada</td>\n",
       "      <td>152</td>\n",
       "      <td>0</td>\n",
       "      <td>144.0</td>\n",
       "      <td>8.0</td>\n",
       "    </tr>\n",
       "    <tr>\n",
       "      <th>88</th>\n",
       "      <td>Canada</td>\n",
       "      <td>303611</td>\n",
       "      <td>10618</td>\n",
       "      <td>286347.0</td>\n",
       "      <td>6742.0</td>\n",
       "    </tr>\n",
       "    <tr>\n",
       "      <th>89</th>\n",
       "      <td>Canada</td>\n",
       "      <td>13</td>\n",
       "      <td>0</td>\n",
       "      <td>13.0</td>\n",
       "      <td>0.0</td>\n",
       "    </tr>\n",
       "    <tr>\n",
       "      <th>90</th>\n",
       "      <td>Canada</td>\n",
       "      <td>31991</td>\n",
       "      <td>419</td>\n",
       "      <td>30100.0</td>\n",
       "      <td>1472.0</td>\n",
       "    </tr>\n",
       "    <tr>\n",
       "      <th>91</th>\n",
       "      <td>Canada</td>\n",
       "      <td>72</td>\n",
       "      <td>1</td>\n",
       "      <td>71.0</td>\n",
       "      <td>0.0</td>\n",
       "    </tr>\n",
       "  </tbody>\n",
       "</table>\n",
       "</div>"
      ],
      "text/plain": [
       "   Country  Confirmed  Deaths  Recovered   Active\n",
       "76  Canada     142855    1971   134653.0   6231.0\n",
       "77  Canada      93253    1438    86307.0   5508.0\n",
       "78  Canada          0       1        0.0      NaN\n",
       "79  Canada         13       0       13.0      0.0\n",
       "80  Canada      33511     929    31335.0   1247.0\n",
       "81  Canada       1505      30     1418.0     57.0\n",
       "82  Canada       1014       6     1002.0      6.0\n",
       "83  Canada         47       0       46.0      1.0\n",
       "84  Canada       1691      66     1604.0     21.0\n",
       "85  Canada        395       4      391.0      0.0\n",
       "86  Canada     337270    7253   315803.0  14235.0\n",
       "87  Canada        152       0      144.0      8.0\n",
       "88  Canada     303611   10618   286347.0   6742.0\n",
       "89  Canada         13       0       13.0      0.0\n",
       "90  Canada      31991     419    30100.0   1472.0\n",
       "91  Canada         72       1       71.0      0.0"
      ]
     },
     "execution_count": 22,
     "metadata": {},
     "output_type": "execute_result"
    }
   ],
   "source": [
    "df_canada"
   ]
  },
  {
   "cell_type": "code",
   "execution_count": 23,
   "metadata": {},
   "outputs": [
    {
     "data": {
      "text/html": [
       "<div>\n",
       "<style scoped>\n",
       "    .dataframe tbody tr th:only-of-type {\n",
       "        vertical-align: middle;\n",
       "    }\n",
       "\n",
       "    .dataframe tbody tr th {\n",
       "        vertical-align: top;\n",
       "    }\n",
       "\n",
       "    .dataframe thead th {\n",
       "        text-align: right;\n",
       "    }\n",
       "</style>\n",
       "<table border=\"1\" class=\"dataframe\">\n",
       "  <thead>\n",
       "    <tr style=\"text-align: right;\">\n",
       "      <th></th>\n",
       "      <th>Country</th>\n",
       "      <th>Confirmed</th>\n",
       "      <th>Deaths</th>\n",
       "      <th>Recovered</th>\n",
       "      <th>Active</th>\n",
       "    </tr>\n",
       "  </thead>\n",
       "  <tbody>\n",
       "    <tr>\n",
       "      <th>41</th>\n",
       "      <td>Brazil</td>\n",
       "      <td>66290</td>\n",
       "      <td>1201</td>\n",
       "      <td>53030.0</td>\n",
       "      <td>12059.0</td>\n",
       "    </tr>\n",
       "    <tr>\n",
       "      <th>42</th>\n",
       "      <td>Brazil</td>\n",
       "      <td>148422</td>\n",
       "      <td>3378</td>\n",
       "      <td>140287.0</td>\n",
       "      <td>4757.0</td>\n",
       "    </tr>\n",
       "    <tr>\n",
       "      <th>43</th>\n",
       "      <td>Brazil</td>\n",
       "      <td>93111</td>\n",
       "      <td>1243</td>\n",
       "      <td>70828.0</td>\n",
       "      <td>21040.0</td>\n",
       "    </tr>\n",
       "    <tr>\n",
       "      <th>44</th>\n",
       "      <td>Brazil</td>\n",
       "      <td>340785</td>\n",
       "      <td>11836</td>\n",
       "      <td>290051.0</td>\n",
       "      <td>38898.0</td>\n",
       "    </tr>\n",
       "    <tr>\n",
       "      <th>45</th>\n",
       "      <td>Brazil</td>\n",
       "      <td>774491</td>\n",
       "      <td>14357</td>\n",
       "      <td>744732.0</td>\n",
       "      <td>15402.0</td>\n",
       "    </tr>\n",
       "    <tr>\n",
       "      <th>46</th>\n",
       "      <td>Brazil</td>\n",
       "      <td>511170</td>\n",
       "      <td>13048</td>\n",
       "      <td>358886.0</td>\n",
       "      <td>139236.0</td>\n",
       "    </tr>\n",
       "    <tr>\n",
       "      <th>47</th>\n",
       "      <td>Brazil</td>\n",
       "      <td>332153</td>\n",
       "      <td>5503</td>\n",
       "      <td>308446.0</td>\n",
       "      <td>18204.0</td>\n",
       "    </tr>\n",
       "    <tr>\n",
       "      <th>48</th>\n",
       "      <td>Brazil</td>\n",
       "      <td>363685</td>\n",
       "      <td>7044</td>\n",
       "      <td>339150.0</td>\n",
       "      <td>17491.0</td>\n",
       "    </tr>\n",
       "    <tr>\n",
       "      <th>49</th>\n",
       "      <td>Brazil</td>\n",
       "      <td>457483</td>\n",
       "      <td>10583</td>\n",
       "      <td>437890.0</td>\n",
       "      <td>9010.0</td>\n",
       "    </tr>\n",
       "    <tr>\n",
       "      <th>50</th>\n",
       "      <td>Brazil</td>\n",
       "      <td>235646</td>\n",
       "      <td>5759</td>\n",
       "      <td>215142.0</td>\n",
       "      <td>14745.0</td>\n",
       "    </tr>\n",
       "    <tr>\n",
       "      <th>51</th>\n",
       "      <td>Brazil</td>\n",
       "      <td>289617</td>\n",
       "      <td>6878</td>\n",
       "      <td>268055.0</td>\n",
       "      <td>14684.0</td>\n",
       "    </tr>\n",
       "    <tr>\n",
       "      <th>52</th>\n",
       "      <td>Brazil</td>\n",
       "      <td>204096</td>\n",
       "      <td>3895</td>\n",
       "      <td>187283.0</td>\n",
       "      <td>12918.0</td>\n",
       "    </tr>\n",
       "    <tr>\n",
       "      <th>53</th>\n",
       "      <td>Brazil</td>\n",
       "      <td>1040198</td>\n",
       "      <td>22123</td>\n",
       "      <td>940404.0</td>\n",
       "      <td>77671.0</td>\n",
       "    </tr>\n",
       "    <tr>\n",
       "      <th>54</th>\n",
       "      <td>Brazil</td>\n",
       "      <td>400523</td>\n",
       "      <td>9899</td>\n",
       "      <td>374689.0</td>\n",
       "      <td>15935.0</td>\n",
       "    </tr>\n",
       "    <tr>\n",
       "      <th>55</th>\n",
       "      <td>Brazil</td>\n",
       "      <td>248452</td>\n",
       "      <td>5313</td>\n",
       "      <td>177591.0</td>\n",
       "      <td>65548.0</td>\n",
       "    </tr>\n",
       "    <tr>\n",
       "      <th>56</th>\n",
       "      <td>Brazil</td>\n",
       "      <td>807157</td>\n",
       "      <td>15281</td>\n",
       "      <td>571242.0</td>\n",
       "      <td>220634.0</td>\n",
       "    </tr>\n",
       "    <tr>\n",
       "      <th>57</th>\n",
       "      <td>Brazil</td>\n",
       "      <td>333498</td>\n",
       "      <td>11762</td>\n",
       "      <td>282616.0</td>\n",
       "      <td>39120.0</td>\n",
       "    </tr>\n",
       "    <tr>\n",
       "      <th>58</th>\n",
       "      <td>Brazil</td>\n",
       "      <td>194359</td>\n",
       "      <td>3851</td>\n",
       "      <td>189251.0</td>\n",
       "      <td>1257.0</td>\n",
       "    </tr>\n",
       "    <tr>\n",
       "      <th>59</th>\n",
       "      <td>Brazil</td>\n",
       "      <td>186841</td>\n",
       "      <td>4209</td>\n",
       "      <td>138506.0</td>\n",
       "      <td>44126.0</td>\n",
       "    </tr>\n",
       "    <tr>\n",
       "      <th>60</th>\n",
       "      <td>Brazil</td>\n",
       "      <td>801499</td>\n",
       "      <td>17499</td>\n",
       "      <td>753739.0</td>\n",
       "      <td>30261.0</td>\n",
       "    </tr>\n",
       "    <tr>\n",
       "      <th>61</th>\n",
       "      <td>Brazil</td>\n",
       "      <td>626661</td>\n",
       "      <td>35331</td>\n",
       "      <td>583243.0</td>\n",
       "      <td>8087.0</td>\n",
       "    </tr>\n",
       "    <tr>\n",
       "      <th>62</th>\n",
       "      <td>Brazil</td>\n",
       "      <td>177652</td>\n",
       "      <td>3777</td>\n",
       "      <td>153228.0</td>\n",
       "      <td>20647.0</td>\n",
       "    </tr>\n",
       "    <tr>\n",
       "      <th>63</th>\n",
       "      <td>Brazil</td>\n",
       "      <td>87866</td>\n",
       "      <td>1290</td>\n",
       "      <td>81632.0</td>\n",
       "      <td>4944.0</td>\n",
       "    </tr>\n",
       "    <tr>\n",
       "      <th>64</th>\n",
       "      <td>Brazil</td>\n",
       "      <td>774409</td>\n",
       "      <td>9833</td>\n",
       "      <td>726073.0</td>\n",
       "      <td>38503.0</td>\n",
       "    </tr>\n",
       "    <tr>\n",
       "      <th>65</th>\n",
       "      <td>Brazil</td>\n",
       "      <td>2332043</td>\n",
       "      <td>68623</td>\n",
       "      <td>2013250.0</td>\n",
       "      <td>250170.0</td>\n",
       "    </tr>\n",
       "    <tr>\n",
       "      <th>66</th>\n",
       "      <td>Brazil</td>\n",
       "      <td>167736</td>\n",
       "      <td>3322</td>\n",
       "      <td>151871.0</td>\n",
       "      <td>12543.0</td>\n",
       "    </tr>\n",
       "    <tr>\n",
       "      <th>67</th>\n",
       "      <td>Brazil</td>\n",
       "      <td>134176</td>\n",
       "      <td>1838</td>\n",
       "      <td>114046.0</td>\n",
       "      <td>18292.0</td>\n",
       "    </tr>\n",
       "  </tbody>\n",
       "</table>\n",
       "</div>"
      ],
      "text/plain": [
       "   Country  Confirmed  Deaths  Recovered    Active\n",
       "41  Brazil      66290    1201    53030.0   12059.0\n",
       "42  Brazil     148422    3378   140287.0    4757.0\n",
       "43  Brazil      93111    1243    70828.0   21040.0\n",
       "44  Brazil     340785   11836   290051.0   38898.0\n",
       "45  Brazil     774491   14357   744732.0   15402.0\n",
       "46  Brazil     511170   13048   358886.0  139236.0\n",
       "47  Brazil     332153    5503   308446.0   18204.0\n",
       "48  Brazil     363685    7044   339150.0   17491.0\n",
       "49  Brazil     457483   10583   437890.0    9010.0\n",
       "50  Brazil     235646    5759   215142.0   14745.0\n",
       "51  Brazil     289617    6878   268055.0   14684.0\n",
       "52  Brazil     204096    3895   187283.0   12918.0\n",
       "53  Brazil    1040198   22123   940404.0   77671.0\n",
       "54  Brazil     400523    9899   374689.0   15935.0\n",
       "55  Brazil     248452    5313   177591.0   65548.0\n",
       "56  Brazil     807157   15281   571242.0  220634.0\n",
       "57  Brazil     333498   11762   282616.0   39120.0\n",
       "58  Brazil     194359    3851   189251.0    1257.0\n",
       "59  Brazil     186841    4209   138506.0   44126.0\n",
       "60  Brazil     801499   17499   753739.0   30261.0\n",
       "61  Brazil     626661   35331   583243.0    8087.0\n",
       "62  Brazil     177652    3777   153228.0   20647.0\n",
       "63  Brazil      87866    1290    81632.0    4944.0\n",
       "64  Brazil     774409    9833   726073.0   38503.0\n",
       "65  Brazil    2332043   68623  2013250.0  250170.0\n",
       "66  Brazil     167736    3322   151871.0   12543.0\n",
       "67  Brazil     134176    1838   114046.0   18292.0"
      ]
     },
     "execution_count": 23,
     "metadata": {},
     "output_type": "execute_result"
    }
   ],
   "source": [
    "df_brazil"
   ]
  },
  {
   "cell_type": "code",
   "execution_count": 24,
   "metadata": {},
   "outputs": [],
   "source": [
    "# combine the US, Canada, and Brazil dataframes into one dataframe\n",
    "df_combined = pd.concat([df_us, df_canada, df_brazil])"
   ]
  },
  {
   "cell_type": "code",
   "execution_count": 25,
   "metadata": {},
   "outputs": [
    {
     "data": {
      "text/plain": [
       "Country  Confirmed  Deaths  Recovered  Active  \n",
       "Canada   13         0       13.0       0.0         2\n",
       "Brazil   66290      1201    53030.0    12059.0     1\n",
       "Canada   1014       6       1002.0     6.0         1\n",
       "Brazil   807157     15281   571242.0   220634.0    1\n",
       "         1040198    22123   940404.0   77671.0     1\n",
       "         2332043    68623   2013250.0  250170.0    1\n",
       "Canada   47         0       46.0       1.0         1\n",
       "         72         1       71.0       0.0         1\n",
       "         152        0       144.0      8.0         1\n",
       "         395        4       391.0      0.0         1\n",
       "         1505       30      1418.0     57.0        1\n",
       "Brazil   774491     14357   744732.0   15402.0     1\n",
       "Canada   1691       66      1604.0     21.0        1\n",
       "         31991      419     30100.0    1472.0      1\n",
       "         33511      929     31335.0    1247.0      1\n",
       "         93253      1438    86307.0    5508.0      1\n",
       "         142855     1971    134653.0   6231.0      1\n",
       "         303611     10618   286347.0   6742.0      1\n",
       "         337270     7253    315803.0   14235.0     1\n",
       "US       226        0       0.0        0.0         1\n",
       "Brazil   801499     17499   753739.0   30261.0     1\n",
       "         774409     9833    726073.0   38503.0     1\n",
       "         87866      1290    81632.0    4944.0      1\n",
       "         235646     5759    215142.0   14745.0     1\n",
       "         93111      1243    70828.0    21040.0     1\n",
       "         134176     1838    114046.0   18292.0     1\n",
       "         148422     3378    140287.0   4757.0      1\n",
       "         167736     3322    151871.0   12543.0     1\n",
       "         177652     3777    153228.0   20647.0     1\n",
       "         186841     4209    138506.0   44126.0     1\n",
       "         194359     3851    189251.0   1257.0      1\n",
       "         204096     3895    187283.0   12918.0     1\n",
       "         248452     5313    177591.0   65548.0     1\n",
       "         626661     35331   583243.0   8087.0      1\n",
       "         289617     6878    268055.0   14684.0     1\n",
       "         332153     5503    308446.0   18204.0     1\n",
       "         333498     11762   282616.0   39120.0     1\n",
       "         340785     11836   290051.0   38898.0     1\n",
       "         363685     7044    339150.0   17491.0     1\n",
       "         400523     9899    374689.0   15935.0     1\n",
       "         457483     10583   437890.0   9010.0      1\n",
       "         511170     13048   358886.0   139236.0    1\n",
       "US       315        3       0.0        0.0         1\n",
       "dtype: int64"
      ]
     },
     "execution_count": 25,
     "metadata": {},
     "output_type": "execute_result"
    }
   ],
   "source": [
    "df_combined.value_counts()"
   ]
  },
  {
   "cell_type": "code",
   "execution_count": 26,
   "metadata": {},
   "outputs": [
    {
     "data": {
      "text/plain": [
       "<AxesSubplot:xlabel='Country'>"
      ]
     },
     "execution_count": 26,
     "metadata": {},
     "output_type": "execute_result"
    },
    {
     "data": {
      "image/png": "[encoded data removed]",
      "text/plain": [
       "<Figure size 720x360 with 1 Axes>"
      ]
     },
     "metadata": {},
     "output_type": "display_data"
    }
   ],
   "source": [
    "df_combined.groupby('Country').sum().plot(kind='line', figsize=(10, 5))"
   ]
  },
  {
   "cell_type": "code",
   "execution_count": 27,
   "metadata": {},
   "outputs": [
    {
     "data": {
      "text/plain": [
       "<AxesSubplot:xlabel='Country', ylabel='Deaths'>"
      ]
     },
     "execution_count": 27,
     "metadata": {},
     "output_type": "execute_result"
    },
    {
     "data": {
      "image/png": "[encoded data removed]",
      "text/plain": [
       "<Figure size 432x288 with 1 Axes>"
      ]
     },
     "metadata": {},
     "output_type": "display_data"
    }
   ],
   "source": [
    "sns.barplot(x='Country', y='Deaths', data=df_combined)"
   ]
  },
  {
   "cell_type": "code",
   "execution_count": 28,
   "metadata": {},
   "outputs": [
    {
     "data": {
      "text/plain": [
       "<Figure size 720x360 with 0 Axes>"
      ]
     },
     "metadata": {},
     "output_type": "display_data"
    },
    {
     "data": {
      "image/png": "[encoded data removed]",
      "text/plain": [
       "<Figure size 431.25x360 with 1 Axes>"
      ]
     },
     "metadata": {},
     "output_type": "display_data"
    }
   ],
   "source": [
    "plt.figure(figsize=(10, 5))\n",
    "sns.FacetGrid(df_combined, hue='Country', height=5).map(plt.scatter, 'Confirmed', 'Deaths').add_legend()\n",
    "plt.show()"
   ]
  },
  {
   "cell_type": "code",
   "execution_count": 29,
   "metadata": {},
   "outputs": [
    {
     "data": {
      "text/plain": [
       "array(['US', 'Canada', 'Brazil'], dtype=object)"
      ]
     },
     "execution_count": 29,
     "metadata": {},
     "output_type": "execute_result"
    }
   ],
   "source": [
    "df_combined.Country.unique()"
   ]
  },
  {
   "cell_type": "code",
   "execution_count": 30,
   "metadata": {},
   "outputs": [
    {
     "data": {
      "text/plain": [
       "<seaborn.axisgrid.JointGrid at 0x7f8702410940>"
      ]
     },
     "execution_count": 30,
     "metadata": {},
     "output_type": "execute_result"
    },
    {
     "data": {
      "image/png": "[encoded data removed]",
      "text/plain": [
       "<Figure size 432x432 with 3 Axes>"
      ]
     },
     "metadata": {},
     "output_type": "display_data"
    }
   ],
   "source": [
    "sns.JointGrid(x='Confirmed', \n",
    "                y='Deaths', \n",
    "                data=df_combined).plot_joint(plt.scatter, color='g')"
   ]
  },
  {
   "cell_type": "code",
   "execution_count": 31,
   "metadata": {},
   "outputs": [
    {
     "data": {
      "text/plain": [
       "<seaborn.axisgrid.JointGrid at 0x7f87013bb940>"
      ]
     },
     "execution_count": 31,
     "metadata": {},
     "output_type": "execute_result"
    },
    {
     "data": {
      "image/png": "[encoded data removed]",
      "text/plain": [
       "<Figure size 432x432 with 3 Axes>"
      ]
     },
     "metadata": {},
     "output_type": "display_data"
    }
   ],
   "source": [
    "sns.jointplot(x='Confirmed',\n",
    "                            y='Deaths',\n",
    "                            data=df_combined,\n",
    "                            kind='reg',\n",
    "                            color='g')\n"
   ]
  },
  {
   "cell_type": "code",
   "execution_count": 32,
   "metadata": {},
   "outputs": [
    {
     "data": {
      "image/png": "[encoded data removed]",
      "text/plain": [
       "<Figure size 720x360 with 1 Axes>"
      ]
     },
     "metadata": {},
     "output_type": "display_data"
    }
   ],
   "source": [
    "plt.figure(figsize=(10, 5))\n",
    "sns.boxplot(x='Country', y='Deaths', data=df_combined, palette='Set3', orient='v')\n",
    "plt.xlabel('Country', fontsize=12, color='black', fontweight='bold')\n",
    "plt.ylabel('Deaths', fontsize=12, color='black', fontweight='bold')   \n",
    "plt.show()"
   ]
  },
  {
   "cell_type": "code",
   "execution_count": 33,
   "metadata": {},
   "outputs": [
    {
     "data": {
      "text/plain": [
       "<seaborn.matrix.ClusterGrid at 0x7f87026baa00>"
      ]
     },
     "execution_count": 33,
     "metadata": {},
     "output_type": "execute_result"
    },
    {
     "data": {
      "image/png": "[encoded data removed]",
      "text/plain": [
       "<Figure size 720x720 with 4 Axes>"
      ]
     },
     "metadata": {},
     "output_type": "display_data"
    }
   ],
   "source": [
    "sns.clustermap(df_combined.corr(), figsize=(10, 10))"
   ]
  },
  {
   "cell_type": "code",
   "execution_count": 34,
   "metadata": {},
   "outputs": [
    {
     "data": {
      "text/plain": [
       "<AxesSubplot:xlabel='Country', ylabel='count'>"
      ]
     },
     "execution_count": 34,
     "metadata": {},
     "output_type": "execute_result"
    },
    {
     "data": {
      "image/png": "[encoded data removed]",
      "text/plain": [
       "<Figure size 432x288 with 1 Axes>"
      ]
     },
     "metadata": {},
     "output_type": "display_data"
    }
   ],
   "source": [
    "sns.countplot(x='Country', data=df_combined, palette='Set3', orient='v', order=df_combined.Country.unique())"
   ]
  },
  {
   "cell_type": "code",
   "execution_count": 35,
   "metadata": {},
   "outputs": [
    {
     "data": {
      "text/plain": [
       "<seaborn.axisgrid.FacetGrid at 0x7f8701b9b700>"
      ]
     },
     "execution_count": 35,
     "metadata": {},
     "output_type": "execute_result"
    },
    {
     "data": {
      "image/png": "[encoded data removed]",
      "text/plain": [
       "<Figure size 360x360 with 1 Axes>"
      ]
     },
     "metadata": {},
     "output_type": "display_data"
    }
   ],
   "source": [
    "sns.displot(x='Country', data=df_combined, palette='Set3')"
   ]
  },
  {
   "cell_type": "code",
   "execution_count": 36,
   "metadata": {},
   "outputs": [
    {
     "data": {
      "text/html": [
       "<div>\n",
       "<style scoped>\n",
       "    .dataframe tbody tr th:only-of-type {\n",
       "        vertical-align: middle;\n",
       "    }\n",
       "\n",
       "    .dataframe tbody tr th {\n",
       "        vertical-align: top;\n",
       "    }\n",
       "\n",
       "    .dataframe thead th {\n",
       "        text-align: right;\n",
       "    }\n",
       "</style>\n",
       "<table border=\"1\" class=\"dataframe\">\n",
       "  <thead>\n",
       "    <tr style=\"text-align: right;\">\n",
       "      <th></th>\n",
       "      <th>Country</th>\n",
       "      <th>Confirmed</th>\n",
       "      <th>Deaths</th>\n",
       "      <th>Recovered</th>\n",
       "      <th>Active</th>\n",
       "    </tr>\n",
       "  </thead>\n",
       "  <tbody>\n",
       "    <tr>\n",
       "      <th>0</th>\n",
       "      <td>Afghanistan</td>\n",
       "      <td>56177</td>\n",
       "      <td>2466</td>\n",
       "      <td>49752.0</td>\n",
       "      <td>3959.0</td>\n",
       "    </tr>\n",
       "    <tr>\n",
       "      <th>1</th>\n",
       "      <td>Albania</td>\n",
       "      <td>121847</td>\n",
       "      <td>2156</td>\n",
       "      <td>86497.0</td>\n",
       "      <td>33194.0</td>\n",
       "    </tr>\n",
       "    <tr>\n",
       "      <th>2</th>\n",
       "      <td>Algeria</td>\n",
       "      <td>116349</td>\n",
       "      <td>3066</td>\n",
       "      <td>80981.0</td>\n",
       "      <td>32302.0</td>\n",
       "    </tr>\n",
       "    <tr>\n",
       "      <th>3</th>\n",
       "      <td>Andorra</td>\n",
       "      <td>11591</td>\n",
       "      <td>113</td>\n",
       "      <td>11050.0</td>\n",
       "      <td>428.0</td>\n",
       "    </tr>\n",
       "    <tr>\n",
       "      <th>4</th>\n",
       "      <td>Angola</td>\n",
       "      <td>21774</td>\n",
       "      <td>530</td>\n",
       "      <td>20099.0</td>\n",
       "      <td>1145.0</td>\n",
       "    </tr>\n",
       "  </tbody>\n",
       "</table>\n",
       "</div>"
      ],
      "text/plain": [
       "       Country  Confirmed  Deaths  Recovered   Active\n",
       "0  Afghanistan      56177    2466    49752.0   3959.0\n",
       "1      Albania     121847    2156    86497.0  33194.0\n",
       "2      Algeria     116349    3066    80981.0  32302.0\n",
       "3      Andorra      11591     113    11050.0    428.0\n",
       "4       Angola      21774     530    20099.0   1145.0"
      ]
     },
     "execution_count": 36,
     "metadata": {},
     "output_type": "execute_result"
    }
   ],
   "source": [
    "df.head()"
   ]
  },
  {
   "cell_type": "code",
   "execution_count": 37,
   "metadata": {},
   "outputs": [
    {
     "data": {
      "text/html": [
       "<div>\n",
       "<style scoped>\n",
       "    .dataframe tbody tr th:only-of-type {\n",
       "        vertical-align: middle;\n",
       "    }\n",
       "\n",
       "    .dataframe tbody tr th {\n",
       "        vertical-align: top;\n",
       "    }\n",
       "\n",
       "    .dataframe thead th {\n",
       "        text-align: right;\n",
       "    }\n",
       "</style>\n",
       "<table border=\"1\" class=\"dataframe\">\n",
       "  <thead>\n",
       "    <tr style=\"text-align: right;\">\n",
       "      <th></th>\n",
       "      <th>Country</th>\n",
       "      <th>Confirmed</th>\n",
       "      <th>Deaths</th>\n",
       "      <th>Recovered</th>\n",
       "      <th>Active</th>\n",
       "    </tr>\n",
       "  </thead>\n",
       "  <tbody>\n",
       "    <tr>\n",
       "      <th>0</th>\n",
       "      <td>Afghanistan</td>\n",
       "      <td>56177</td>\n",
       "      <td>2466</td>\n",
       "      <td>49752.0</td>\n",
       "      <td>3959.0</td>\n",
       "    </tr>\n",
       "    <tr>\n",
       "      <th>1</th>\n",
       "      <td>Albania</td>\n",
       "      <td>121847</td>\n",
       "      <td>2156</td>\n",
       "      <td>86497.0</td>\n",
       "      <td>33194.0</td>\n",
       "    </tr>\n",
       "    <tr>\n",
       "      <th>2</th>\n",
       "      <td>Algeria</td>\n",
       "      <td>116349</td>\n",
       "      <td>3066</td>\n",
       "      <td>80981.0</td>\n",
       "      <td>32302.0</td>\n",
       "    </tr>\n",
       "    <tr>\n",
       "      <th>3</th>\n",
       "      <td>Andorra</td>\n",
       "      <td>11591</td>\n",
       "      <td>113</td>\n",
       "      <td>11050.0</td>\n",
       "      <td>428.0</td>\n",
       "    </tr>\n",
       "    <tr>\n",
       "      <th>4</th>\n",
       "      <td>Angola</td>\n",
       "      <td>21774</td>\n",
       "      <td>530</td>\n",
       "      <td>20099.0</td>\n",
       "      <td>1145.0</td>\n",
       "    </tr>\n",
       "    <tr>\n",
       "      <th>5</th>\n",
       "      <td>Antigua and Barbuda</td>\n",
       "      <td>1080</td>\n",
       "      <td>28</td>\n",
       "      <td>715.0</td>\n",
       "      <td>337.0</td>\n",
       "    </tr>\n",
       "    <tr>\n",
       "      <th>6</th>\n",
       "      <td>Argentina</td>\n",
       "      <td>2261577</td>\n",
       "      <td>54823</td>\n",
       "      <td>2043957.0</td>\n",
       "      <td>162797.0</td>\n",
       "    </tr>\n",
       "    <tr>\n",
       "      <th>7</th>\n",
       "      <td>Armenia</td>\n",
       "      <td>185020</td>\n",
       "      <td>3384</td>\n",
       "      <td>169172.0</td>\n",
       "      <td>12464.0</td>\n",
       "    </tr>\n",
       "    <tr>\n",
       "      <th>8</th>\n",
       "      <td>Australia</td>\n",
       "      <td>29221</td>\n",
       "      <td>909</td>\n",
       "      <td>22982.0</td>\n",
       "      <td>5331.0</td>\n",
       "    </tr>\n",
       "    <tr>\n",
       "      <th>9</th>\n",
       "      <td>Austria</td>\n",
       "      <td>519980</td>\n",
       "      <td>9121</td>\n",
       "      <td>477940.0</td>\n",
       "      <td>32919.0</td>\n",
       "    </tr>\n",
       "  </tbody>\n",
       "</table>\n",
       "</div>"
      ],
      "text/plain": [
       "               Country  Confirmed  Deaths  Recovered    Active\n",
       "0          Afghanistan      56177    2466    49752.0    3959.0\n",
       "1              Albania     121847    2156    86497.0   33194.0\n",
       "2              Algeria     116349    3066    80981.0   32302.0\n",
       "3              Andorra      11591     113    11050.0     428.0\n",
       "4               Angola      21774     530    20099.0    1145.0\n",
       "5  Antigua and Barbuda       1080      28      715.0     337.0\n",
       "6            Argentina    2261577   54823  2043957.0  162797.0\n",
       "7              Armenia     185020    3384   169172.0   12464.0\n",
       "8            Australia      29221     909    22982.0    5331.0\n",
       "9              Austria     519980    9121   477940.0   32919.0"
      ]
     },
     "execution_count": 37,
     "metadata": {},
     "output_type": "execute_result"
    }
   ],
   "source": [
    "labels = ['Country', 'Confirmed', 'Deaths', 'Recovered', 'Active']\n",
    "world = df.groupby('Country').sum().reset_index()\n",
    "world.head(10)"
   ]
  },
  {
   "cell_type": "code",
   "execution_count": 38,
   "metadata": {},
   "outputs": [
    {
     "data": {
      "text/html": [
       "<div>\n",
       "<style scoped>\n",
       "    .dataframe tbody tr th:only-of-type {\n",
       "        vertical-align: middle;\n",
       "    }\n",
       "\n",
       "    .dataframe tbody tr th {\n",
       "        vertical-align: top;\n",
       "    }\n",
       "\n",
       "    .dataframe thead th {\n",
       "        text-align: right;\n",
       "    }\n",
       "</style>\n",
       "<table border=\"1\" class=\"dataframe\">\n",
       "  <thead>\n",
       "    <tr style=\"text-align: right;\">\n",
       "      <th></th>\n",
       "      <th>Country</th>\n",
       "      <th>Confirmed</th>\n",
       "      <th>Deaths</th>\n",
       "      <th>Recovered</th>\n",
       "      <th>Active</th>\n",
       "    </tr>\n",
       "  </thead>\n",
       "  <tbody>\n",
       "    <tr>\n",
       "      <th>181</th>\n",
       "      <td>US</td>\n",
       "      <td>29978671</td>\n",
       "      <td>543449</td>\n",
       "      <td>0.0</td>\n",
       "      <td>0.0</td>\n",
       "    </tr>\n",
       "    <tr>\n",
       "      <th>23</th>\n",
       "      <td>Brazil</td>\n",
       "      <td>12130019</td>\n",
       "      <td>298676</td>\n",
       "      <td>10665161.0</td>\n",
       "      <td>1166182.0</td>\n",
       "    </tr>\n",
       "    <tr>\n",
       "      <th>79</th>\n",
       "      <td>India</td>\n",
       "      <td>11734058</td>\n",
       "      <td>160441</td>\n",
       "      <td>11205160.0</td>\n",
       "      <td>368457.0</td>\n",
       "    </tr>\n",
       "    <tr>\n",
       "      <th>144</th>\n",
       "      <td>Russia</td>\n",
       "      <td>4424595</td>\n",
       "      <td>94231</td>\n",
       "      <td>4041716.0</td>\n",
       "      <td>288648.0</td>\n",
       "    </tr>\n",
       "    <tr>\n",
       "      <th>62</th>\n",
       "      <td>France</td>\n",
       "      <td>4373620</td>\n",
       "      <td>93063</td>\n",
       "      <td>290310.0</td>\n",
       "      <td>3990233.0</td>\n",
       "    </tr>\n",
       "    <tr>\n",
       "      <th>185</th>\n",
       "      <td>United Kingdom</td>\n",
       "      <td>4321019</td>\n",
       "      <td>126523</td>\n",
       "      <td>12383.0</td>\n",
       "      <td>4182113.0</td>\n",
       "    </tr>\n",
       "    <tr>\n",
       "      <th>85</th>\n",
       "      <td>Italy</td>\n",
       "      <td>3419616</td>\n",
       "      <td>105879</td>\n",
       "      <td>2753083.0</td>\n",
       "      <td>560654.0</td>\n",
       "    </tr>\n",
       "    <tr>\n",
       "      <th>164</th>\n",
       "      <td>Spain</td>\n",
       "      <td>3234319</td>\n",
       "      <td>73744</td>\n",
       "      <td>150376.0</td>\n",
       "      <td>3010199.0</td>\n",
       "    </tr>\n",
       "    <tr>\n",
       "      <th>180</th>\n",
       "      <td>Turkey</td>\n",
       "      <td>3061520</td>\n",
       "      <td>30316</td>\n",
       "      <td>2863882.0</td>\n",
       "      <td>167322.0</td>\n",
       "    </tr>\n",
       "    <tr>\n",
       "      <th>66</th>\n",
       "      <td>Germany</td>\n",
       "      <td>2699231</td>\n",
       "      <td>75255</td>\n",
       "      <td>2448828.0</td>\n",
       "      <td>175148.0</td>\n",
       "    </tr>\n",
       "  </tbody>\n",
       "</table>\n",
       "</div>"
      ],
      "text/plain": [
       "            Country  Confirmed  Deaths   Recovered     Active\n",
       "181              US   29978671  543449         0.0        0.0\n",
       "23           Brazil   12130019  298676  10665161.0  1166182.0\n",
       "79            India   11734058  160441  11205160.0   368457.0\n",
       "144          Russia    4424595   94231   4041716.0   288648.0\n",
       "62           France    4373620   93063    290310.0  3990233.0\n",
       "185  United Kingdom    4321019  126523     12383.0  4182113.0\n",
       "85            Italy    3419616  105879   2753083.0   560654.0\n",
       "164           Spain    3234319   73744    150376.0  3010199.0\n",
       "180          Turkey    3061520   30316   2863882.0   167322.0\n",
       "66          Germany    2699231   75255   2448828.0   175148.0"
      ]
     },
     "execution_count": 38,
     "metadata": {},
     "output_type": "execute_result"
    }
   ],
   "source": [
    "world.sort_values(by='Confirmed', ascending=False).head(10)"
   ]
  },
  {
   "cell_type": "code",
   "execution_count": 39,
   "metadata": {},
   "outputs": [
    {
     "data": {
      "text/html": [
       "<div>\n",
       "<style scoped>\n",
       "    .dataframe tbody tr th:only-of-type {\n",
       "        vertical-align: middle;\n",
       "    }\n",
       "\n",
       "    .dataframe tbody tr th {\n",
       "        vertical-align: top;\n",
       "    }\n",
       "\n",
       "    .dataframe thead th {\n",
       "        text-align: right;\n",
       "    }\n",
       "</style>\n",
       "<table border=\"1\" class=\"dataframe\">\n",
       "  <thead>\n",
       "    <tr style=\"text-align: right;\">\n",
       "      <th></th>\n",
       "      <th>Country</th>\n",
       "      <th>Confirmed</th>\n",
       "      <th>Deaths</th>\n",
       "      <th>Recovered</th>\n",
       "      <th>Active</th>\n",
       "    </tr>\n",
       "  </thead>\n",
       "  <tbody>\n",
       "    <tr>\n",
       "      <th>181</th>\n",
       "      <td>US</td>\n",
       "      <td>29978671</td>\n",
       "      <td>543449</td>\n",
       "      <td>0.0</td>\n",
       "      <td>0.0</td>\n",
       "    </tr>\n",
       "    <tr>\n",
       "      <th>23</th>\n",
       "      <td>Brazil</td>\n",
       "      <td>12130019</td>\n",
       "      <td>298676</td>\n",
       "      <td>10665161.0</td>\n",
       "      <td>1166182.0</td>\n",
       "    </tr>\n",
       "    <tr>\n",
       "      <th>115</th>\n",
       "      <td>Mexico</td>\n",
       "      <td>2203041</td>\n",
       "      <td>199048</td>\n",
       "      <td>1744262.0</td>\n",
       "      <td>259731.0</td>\n",
       "    </tr>\n",
       "    <tr>\n",
       "      <th>79</th>\n",
       "      <td>India</td>\n",
       "      <td>11734058</td>\n",
       "      <td>160441</td>\n",
       "      <td>11205160.0</td>\n",
       "      <td>368457.0</td>\n",
       "    </tr>\n",
       "    <tr>\n",
       "      <th>138</th>\n",
       "      <td>Peru</td>\n",
       "      <td>1481259</td>\n",
       "      <td>137494</td>\n",
       "      <td>1388554.0</td>\n",
       "      <td>42231.0</td>\n",
       "    </tr>\n",
       "    <tr>\n",
       "      <th>185</th>\n",
       "      <td>United Kingdom</td>\n",
       "      <td>4321019</td>\n",
       "      <td>126523</td>\n",
       "      <td>12383.0</td>\n",
       "      <td>4182113.0</td>\n",
       "    </tr>\n",
       "    <tr>\n",
       "      <th>85</th>\n",
       "      <td>Italy</td>\n",
       "      <td>3419616</td>\n",
       "      <td>105879</td>\n",
       "      <td>2753083.0</td>\n",
       "      <td>560654.0</td>\n",
       "    </tr>\n",
       "    <tr>\n",
       "      <th>144</th>\n",
       "      <td>Russia</td>\n",
       "      <td>4424595</td>\n",
       "      <td>94231</td>\n",
       "      <td>4041716.0</td>\n",
       "      <td>288648.0</td>\n",
       "    </tr>\n",
       "    <tr>\n",
       "      <th>62</th>\n",
       "      <td>France</td>\n",
       "      <td>4373620</td>\n",
       "      <td>93063</td>\n",
       "      <td>290310.0</td>\n",
       "      <td>3990233.0</td>\n",
       "    </tr>\n",
       "    <tr>\n",
       "      <th>66</th>\n",
       "      <td>Germany</td>\n",
       "      <td>2699231</td>\n",
       "      <td>75255</td>\n",
       "      <td>2448828.0</td>\n",
       "      <td>175148.0</td>\n",
       "    </tr>\n",
       "  </tbody>\n",
       "</table>\n",
       "</div>"
      ],
      "text/plain": [
       "            Country  Confirmed  Deaths   Recovered     Active\n",
       "181              US   29978671  543449         0.0        0.0\n",
       "23           Brazil   12130019  298676  10665161.0  1166182.0\n",
       "115          Mexico    2203041  199048   1744262.0   259731.0\n",
       "79            India   11734058  160441  11205160.0   368457.0\n",
       "138            Peru    1481259  137494   1388554.0    42231.0\n",
       "185  United Kingdom    4321019  126523     12383.0  4182113.0\n",
       "85            Italy    3419616  105879   2753083.0   560654.0\n",
       "144          Russia    4424595   94231   4041716.0   288648.0\n",
       "62           France    4373620   93063    290310.0  3990233.0\n",
       "66          Germany    2699231   75255   2448828.0   175148.0"
      ]
     },
     "execution_count": 39,
     "metadata": {},
     "output_type": "execute_result"
    }
   ],
   "source": [
    "world.sort_values(by='Deaths', ascending=False).head(10)"
   ]
  },
  {
   "cell_type": "code",
   "execution_count": 40,
   "metadata": {},
   "outputs": [
    {
     "data": {
      "text/plain": [
       "<AxesSubplot:>"
      ]
     },
     "execution_count": 40,
     "metadata": {},
     "output_type": "execute_result"
    },
    {
     "data": {
      "image/png": "[encoded data removed]",
      "text/plain": [
       "<Figure size 720x360 with 1 Axes>"
      ]
     },
     "metadata": {},
     "output_type": "display_data"
    }
   ],
   "source": [
    "world.sort_values(by='Country', ascending=False).head(10).plot(kind='bar', figsize=(10, 5))"
   ]
  },
  {
   "cell_type": "code",
   "execution_count": 41,
   "metadata": {},
   "outputs": [],
   "source": [
    "import plotly.express as px"
   ]
  },
  {
   "cell_type": "code",
   "execution_count": 42,
   "metadata": {},
   "outputs": [
    {
     "data": {
      "application/vnd.plotly.v1+json": {
       "config": {
        "plotlyServerURL": "https://plot.ly"
       },
       "data": [
        {
         "geo": "geo",
         "hovertemplate": "<b>%{hovertext}</b><br><br>Confirmed=%{marker.color}<br>Country=%{location}<extra></extra>",
         "hovertext": [
          "Afghanistan",
          "Albania",
          "Algeria",
          "Andorra",
          "Angola",
          "Antigua and Barbuda",
          "Argentina",
          "Armenia",
          "Australia",
          "Austria",
          "Azerbaijan",
          "Bahamas",
          "Bahrain",
          "Bangladesh",
          "Barbados",
          "Belarus",
          "Belgium",
          "Belize",
          "Benin",
          "Bhutan",
          "Bolivia",
          "Bosnia and Herzegovina",
          "Botswana",
          "Brazil",
          "Brunei",
          "Bulgaria",
          "Burkina Faso",
          "Burma",
          "Burundi",
          "Cabo Verde",
          "Cambodia",
          "Cameroon",
          "Canada",
          "Central African Republic",
          "Chad",
          "Chile",
          "China",
          "Colombia",
          "Comoros",
          "Congo (Brazzaville)",
          "Congo (Kinshasa)",
          "Costa Rica",
          "Cote d'Ivoire",
          "Croatia",
          "Cuba",
          "Cyprus",
          "Czechia",
          "Denmark",
          "Diamond Princess",
          "Djibouti",
          "Dominica",
          "Dominican Republic",
          "Ecuador",
          "Egypt",
          "El Salvador",
          "Equatorial Guinea",
          "Eritrea",
          "Estonia",
          "Eswatini",
          "Ethiopia",
          "Fiji",
          "Finland",
          "France",
          "Gabon",
          "Gambia",
          "Georgia",
          "Germany",
          "Ghana",
          "Greece",
          "Grenada",
          "Guatemala",
          "Guinea",
          "Guinea-Bissau",
          "Guyana",
          "Haiti",
          "Holy See",
          "Honduras",
          "Hungary",
          "Iceland",
          "India",
          "Indonesia",
          "Iran",
          "Iraq",
          "Ireland",
          "Israel",
          "Italy",
          "Jamaica",
          "Japan",
          "Jordan",
          "Kazakhstan",
          "Kenya",
          "Kiribati",
          "Korea, South",
          "Kosovo",
          "Kuwait",
          "Kyrgyzstan",
          "Laos",
          "Latvia",
          "Lebanon",
          "Lesotho",
          "Liberia",
          "Libya",
          "Liechtenstein",
          "Lithuania",
          "Luxembourg",
          "MS Zaandam",
          "Madagascar",
          "Malawi",
          "Malaysia",
          "Maldives",
          "Mali",
          "Malta",
          "Marshall Islands",
          "Mauritania",
          "Mauritius",
          "Mexico",
          "Micronesia",
          "Moldova",
          "Monaco",
          "Mongolia",
          "Montenegro",
          "Morocco",
          "Mozambique",
          "Namibia",
          "Nepal",
          "Netherlands",
          "New Zealand",
          "Nicaragua",
          "Niger",
          "Nigeria",
          "North Macedonia",
          "Norway",
          "Oman",
          "Pakistan",
          "Palau",
          "Panama",
          "Papua New Guinea",
          "Paraguay",
          "Peru",
          "Philippines",
          "Poland",
          "Portugal",
          "Qatar",
          "Romania",
          "Russia",
          "Rwanda",
          "Saint Kitts and Nevis",
          "Saint Lucia",
          "Saint Vincent and the Grenadines",
          "Samoa",
          "San Marino",
          "Sao Tome and Principe",
          "Saudi Arabia",
          "Senegal",
          "Serbia",
          "Seychelles",
          "Sierra Leone",
          "Singapore",
          "Slovakia",
          "Slovenia",
          "Solomon Islands",
          "Somalia",
          "South Africa",
          "South Sudan",
          "Spain",
          "Sri Lanka",
          "Sudan",
          "Summer Olympics 2020",
          "Suriname",
          "Sweden",
          "Switzerland",
          "Syria",
          "Taiwan*",
          "Tajikistan",
          "Tanzania",
          "Thailand",
          "Timor-Leste",
          "Togo",
          "Trinidad and Tobago",
          "Tunisia",
          "Turkey",
          "US",
          "Uganda",
          "Ukraine",
          "United Arab Emirates",
          "United Kingdom",
          "Uruguay",
          "Uzbekistan",
          "Vanuatu",
          "Venezuela",
          "Vietnam",
          "West Bank and Gaza",
          "Yemen",
          "Zambia",
          "Zimbabwe"
         ],
         "legendgroup": "",
         "locationmode": "country names",
         "locations": [
          "Afghanistan",
          "Albania",
          "Algeria",
          "Andorra",
          "Angola",
          "Antigua and Barbuda",
          "Argentina",
          "Armenia",
          "Australia",
          "Austria",
          "Azerbaijan",
          "Bahamas",
          "Bahrain",
          "Bangladesh",
          "Barbados",
          "Belarus",
          "Belgium",
          "Belize",
          "Benin",
          "Bhutan",
          "Bolivia",
          "Bosnia and Herzegovina",
          "Botswana",
          "Brazil",
          "Brunei",
          "Bulgaria",
          "Burkina Faso",
          "Burma",
          "Burundi",
          "Cabo Verde",
          "Cambodia",
          "Cameroon",
          "Canada",
          "Central African Republic",
          "Chad",
          "Chile",
          "China",
          "Colombia",
          "Comoros",
          "Congo (Brazzaville)",
          "Congo (Kinshasa)",
          "Costa Rica",
          "Cote d'Ivoire",
          "Croatia",
          "Cuba",
          "Cyprus",
          "Czechia",
          "Denmark",
          "Diamond Princess",
          "Djibouti",
          "Dominica",
          "Dominican Republic",
          "Ecuador",
          "Egypt",
          "El Salvador",
          "Equatorial Guinea",
          "Eritrea",
          "Estonia",
          "Eswatini",
          "Ethiopia",
          "Fiji",
          "Finland",
          "France",
          "Gabon",
          "Gambia",
          "Georgia",
          "Germany",
          "Ghana",
          "Greece",
          "Grenada",
          "Guatemala",
          "Guinea",
          "Guinea-Bissau",
          "Guyana",
          "Haiti",
          "Holy See",
          "Honduras",
          "Hungary",
          "Iceland",
          "India",
          "Indonesia",
          "Iran",
          "Iraq",
          "Ireland",
          "Israel",
          "Italy",
          "Jamaica",
          "Japan",
          "Jordan",
          "Kazakhstan",
          "Kenya",
          "Kiribati",
          "Korea, South",
          "Kosovo",
          "Kuwait",
          "Kyrgyzstan",
          "Laos",
          "Latvia",
          "Lebanon",
          "Lesotho",
          "Liberia",
          "Libya",
          "Liechtenstein",
          "Lithuania",
          "Luxembourg",
          "MS Zaandam",
          "Madagascar",
          "Malawi",
          "Malaysia",
          "Maldives",
          "Mali",
          "Malta",
          "Marshall Islands",
          "Mauritania",
          "Mauritius",
          "Mexico",
          "Micronesia",
          "Moldova",
          "Monaco",
          "Mongolia",
          "Montenegro",
          "Morocco",
          "Mozambique",
          "Namibia",
          "Nepal",
          "Netherlands",
          "New Zealand",
          "Nicaragua",
          "Niger",
          "Nigeria",
          "North Macedonia",
          "Norway",
          "Oman",
          "Pakistan",
          "Palau",
          "Panama",
          "Papua New Guinea",
          "Paraguay",
          "Peru",
          "Philippines",
          "Poland",
          "Portugal",
          "Qatar",
          "Romania",
          "Russia",
          "Rwanda",
          "Saint Kitts and Nevis",
          "Saint Lucia",
          "Saint Vincent and the Grenadines",
          "Samoa",
          "San Marino",
          "Sao Tome and Principe",
          "Saudi Arabia",
          "Senegal",
          "Serbia",
          "Seychelles",
          "Sierra Leone",
          "Singapore",
          "Slovakia",
          "Slovenia",
          "Solomon Islands",
          "Somalia",
          "South Africa",
          "South Sudan",
          "Spain",
          "Sri Lanka",
          "Sudan",
          "Summer Olympics 2020",
          "Suriname",
          "Sweden",
          "Switzerland",
          "Syria",
          "Taiwan*",
          "Tajikistan",
          "Tanzania",
          "Thailand",
          "Timor-Leste",
          "Togo",
          "Trinidad and Tobago",
          "Tunisia",
          "Turkey",
          "US",
          "Uganda",
          "Ukraine",
          "United Arab Emirates",
          "United Kingdom",
          "Uruguay",
          "Uzbekistan",
          "Vanuatu",
          "Venezuela",
          "Vietnam",
          "West Bank and Gaza",
          "Yemen",
          "Zambia",
          "Zimbabwe"
         ],
         "marker": {
          "color": [
           56177,
           121847,
           116349,
           11591,
           21774,
           1080,
           2261577,
           185020,
           29221,
           519980,
           248307,
           8935,
           137550,
           577241,
           3574,
           312474,
           842775,
           12410,
           6818,
           869,
           266086,
           156346,
           37559,
           12130019,
           206,
           312741,
           12572,
           142264,
           2628,
           16555,
           1817,
           40622,
           947393,
           5087,
           4440,
           942958,
           101582,
           2347224,
           3681,
           9564,
           27580,
           213438,
           40868,
           258745,
           68250,
           43303,
           1475538,
           227723,
           712,
           6771,
           156,
           250177,
           313570,
           196709,
           63631,
           6780,
           3118,
           97456,
           17296,
           190594,
           67,
           72713,
           4373620,
           18078,
           5255,
           278178,
           2699231,
           89893,
           242347,
           154,
           189067,
           18945,
           3586,
           9732,
           12722,
           27,
           184031,
           586123,
           6122,
           11734058,
           1471225,
           1815712,
           803041,
           231484,
           829689,
           3419616,
           36231,
           458621,
           553727,
           285241,
           123167,
           0,
           99846,
           80295,
           221743,
           87652,
           49,
           98094,
           444865,
           10685,
           2042,
           153411,
           2714,
           210202,
           59662,
           9,
           22682,
           33323,
           335540,
           22790,
           9474,
           28409,
           4,
           17658,
           826,
           2203041,
           1,
           217715,
           2199,
           5610,
           88116,
           492403,
           66496,
           42771,
           276244,
           1230746,
           2470,
           6629,
           4939,
           162076,
           120882,
           89120,
           152364,
           637042,
           0,
           351667,
           3758,
           198135,
           1481259,
           677653,
           2089869,
           818212,
           174762,
           907007,
           4424595,
           20975,
           44,
           4149,
           1696,
           3,
           4388,
           2159,
           385834,
           37958,
           561372,
           3798,
           3949,
           60221,
           350551,
           207298,
           18,
           10369,
           1538961,
           9919,
           3234319,
           90765,
           31147,
           0,
           9074,
           758335,
           586096,
           17743,
           1007,
           13714,
           509,
           28346,
           351,
           9147,
           7865,
           246507,
           3061520,
           29978671,
           40719,
           1615747,
           444398,
           4321019,
           86007,
           81678,
           3,
           152508,
           2575,
           228044,
           3612,
           86779,
           36717
          ],
          "coloraxis": "coloraxis",
          "size": [
           56177,
           121847,
           116349,
           11591,
           21774,
           1080,
           2261577,
           185020,
           29221,
           519980,
           248307,
           8935,
           137550,
           577241,
           3574,
           312474,
           842775,
           12410,
           6818,
           869,
           266086,
           156346,
           37559,
           12130019,
           206,
           312741,
           12572,
           142264,
           2628,
           16555,
           1817,
           40622,
           947393,
           5087,
           4440,
           942958,
           101582,
           2347224,
           3681,
           9564,
           27580,
           213438,
           40868,
           258745,
           68250,
           43303,
           1475538,
           227723,
           712,
           6771,
           156,
           250177,
           313570,
           196709,
           63631,
           6780,
           3118,
           97456,
           17296,
           190594,
           67,
           72713,
           4373620,
           18078,
           5255,
           278178,
           2699231,
           89893,
           242347,
           154,
           189067,
           18945,
           3586,
           9732,
           12722,
           27,
           184031,
           586123,
           6122,
           11734058,
           1471225,
           1815712,
           803041,
           231484,
           829689,
           3419616,
           36231,
           458621,
           553727,
           285241,
           123167,
           0,
           99846,
           80295,
           221743,
           87652,
           49,
           98094,
           444865,
           10685,
           2042,
           153411,
           2714,
           210202,
           59662,
           9,
           22682,
           33323,
           335540,
           22790,
           9474,
           28409,
           4,
           17658,
           826,
           2203041,
           1,
           217715,
           2199,
           5610,
           88116,
           492403,
           66496,
           42771,
           276244,
           1230746,
           2470,
           6629,
           4939,
           162076,
           120882,
           89120,
           152364,
           637042,
           0,
           351667,
           3758,
           198135,
           1481259,
           677653,
           2089869,
           818212,
           174762,
           907007,
           4424595,
           20975,
           44,
           4149,
           1696,
           3,
           4388,
           2159,
           385834,
           37958,
           561372,
           3798,
           3949,
           60221,
           350551,
           207298,
           18,
           10369,
           1538961,
           9919,
           3234319,
           90765,
           31147,
           0,
           9074,
           758335,
           586096,
           17743,
           1007,
           13714,
           509,
           28346,
           351,
           9147,
           7865,
           246507,
           3061520,
           29978671,
           40719,
           1615747,
           444398,
           4321019,
           86007,
           81678,
           3,
           152508,
           2575,
           228044,
           3612,
           86779,
           36717
          ],
          "sizemode": "area",
          "sizeref": 11991.4684,
          "symbol": "circle"
         },
         "mode": "markers",
         "name": "",
         "showlegend": false,
         "type": "scattergeo"
        }
       ],
       "layout": {
        "coloraxis": {
         "colorbar": {
          "title": {
           "text": "Confirmed"
          }
         },
         "colorscale": [
          [
           0,
           "#0d0887"
          ],
          [
           0.1111111111111111,
           "#46039f"
          ],
          [
           0.2222222222222222,
           "#7201a8"
          ],
          [
           0.3333333333333333,
           "#9c179e"
          ],
          [
           0.4444444444444444,
           "#bd3786"
          ],
          [
           0.5555555555555556,
           "#d8576b"
          ],
          [
           0.6666666666666666,
           "#ed7953"
          ],
          [
           0.7777777777777778,
           "#fb9f3a"
          ],
          [
           0.8888888888888888,
           "#fdca26"
          ],
          [
           1,
           "#f0f921"
          ]
         ]
        },
        "geo": {
         "center": {},
         "domain": {
          "x": [
           0,
           1
          ],
          "y": [
           0,
           1
          ]
         }
        },
        "legend": {
         "itemsizing": "constant",
         "tracegroupgap": 0
        },
        "margin": {
         "t": 60
        },
        "template": {
         "data": {
          "bar": [
           {
            "error_x": {
             "color": "#2a3f5f"
            },
            "error_y": {
             "color": "#2a3f5f"
            },
            "marker": {
             "line": {
              "color": "#E5ECF6",
              "width": 0.5
             },
             "pattern": {
              "fillmode": "overlay",
              "size": 10,
              "solidity": 0.2
             }
            },
            "type": "bar"
           }
          ],
          "barpolar": [
           {
            "marker": {
             "line": {
              "color": "#E5ECF6",
              "width": 0.5
             },
             "pattern": {
              "fillmode": "overlay",
              "size": 10,
              "solidity": 0.2
             }
            },
            "type": "barpolar"
           }
          ],
          "carpet": [
           {
            "aaxis": {
             "endlinecolor": "#2a3f5f",
             "gridcolor": "white",
             "linecolor": "white",
             "minorgridcolor": "white",
             "startlinecolor": "#2a3f5f"
            },
            "baxis": {
             "endlinecolor": "#2a3f5f",
             "gridcolor": "white",
             "linecolor": "white",
             "minorgridcolor": "white",
             "startlinecolor": "#2a3f5f"
            },
            "type": "carpet"
           }
          ],
          "choropleth": [
           {
            "colorbar": {
             "outlinewidth": 0,
             "ticks": ""
            },
            "type": "choropleth"
           }
          ],
          "contour": [
           {
            "colorbar": {
             "outlinewidth": 0,
             "ticks": ""
            },
            "colorscale": [
             [
              0,
              "#0d0887"
             ],
             [
              0.1111111111111111,
              "#46039f"
             ],
             [
              0.2222222222222222,
              "#7201a8"
             ],
             [
              0.3333333333333333,
              "#9c179e"
             ],
             [
              0.4444444444444444,
              "#bd3786"
             ],
             [
              0.5555555555555556,
              "#d8576b"
             ],
             [
              0.6666666666666666,
              "#ed7953"
             ],
             [
              0.7777777777777778,
              "#fb9f3a"
             ],
             [
              0.8888888888888888,
              "#fdca26"
             ],
             [
              1,
              "#f0f921"
             ]
            ],
            "type": "contour"
           }
          ],
          "contourcarpet": [
           {
            "colorbar": {
             "outlinewidth": 0,
             "ticks": ""
            },
            "type": "contourcarpet"
           }
          ],
          "heatmap": [
           {
            "colorbar": {
             "outlinewidth": 0,
             "ticks": ""
            },
            "colorscale": [
             [
              0,
              "#0d0887"
             ],
             [
              0.1111111111111111,
              "#46039f"
             ],
             [
              0.2222222222222222,
              "#7201a8"
             ],
             [
              0.3333333333333333,
              "#9c179e"
             ],
             [
              0.4444444444444444,
              "#bd3786"
             ],
             [
              0.5555555555555556,
              "#d8576b"
             ],
             [
              0.6666666666666666,
              "#ed7953"
             ],
             [
              0.7777777777777778,
              "#fb9f3a"
             ],
             [
              0.8888888888888888,
              "#fdca26"
             ],
             [
              1,
              "#f0f921"
             ]
            ],
            "type": "heatmap"
           }
          ],
          "heatmapgl": [
           {
            "colorbar": {
             "outlinewidth": 0,
             "ticks": ""
            },
            "colorscale": [
             [
              0,
              "#0d0887"
             ],
             [
              0.1111111111111111,
              "#46039f"
             ],
             [
              0.2222222222222222,
              "#7201a8"
             ],
             [
              0.3333333333333333,
              "#9c179e"
             ],
             [
              0.4444444444444444,
              "#bd3786"
             ],
             [
              0.5555555555555556,
              "#d8576b"
             ],
             [
              0.6666666666666666,
              "#ed7953"
             ],
             [
              0.7777777777777778,
              "#fb9f3a"
             ],
             [
              0.8888888888888888,
              "#fdca26"
             ],
             [
              1,
              "#f0f921"
             ]
            ],
            "type": "heatmapgl"
           }
          ],
          "histogram": [
           {
            "marker": {
             "pattern": {
              "fillmode": "overlay",
              "size": 10,
              "solidity": 0.2
             }
            },
            "type": "histogram"
           }
          ],
          "histogram2d": [
           {
            "colorbar": {
             "outlinewidth": 0,
             "ticks": ""
            },
            "colorscale": [
             [
              0,
              "#0d0887"
             ],
             [
              0.1111111111111111,
              "#46039f"
             ],
             [
              0.2222222222222222,
              "#7201a8"
             ],
             [
              0.3333333333333333,
              "#9c179e"
             ],
             [
              0.4444444444444444,
              "#bd3786"
             ],
             [
              0.5555555555555556,
              "#d8576b"
             ],
             [
              0.6666666666666666,
              "#ed7953"
             ],
             [
              0.7777777777777778,
              "#fb9f3a"
             ],
             [
              0.8888888888888888,
              "#fdca26"
             ],
             [
              1,
              "#f0f921"
             ]
            ],
            "type": "histogram2d"
           }
          ],
          "histogram2dcontour": [
           {
            "colorbar": {
             "outlinewidth": 0,
             "ticks": ""
            },
            "colorscale": [
             [
              0,
              "#0d0887"
             ],
             [
              0.1111111111111111,
              "#46039f"
             ],
             [
              0.2222222222222222,
              "#7201a8"
             ],
             [
              0.3333333333333333,
              "#9c179e"
             ],
             [
              0.4444444444444444,
              "#bd3786"
             ],
             [
              0.5555555555555556,
              "#d8576b"
             ],
             [
              0.6666666666666666,
              "#ed7953"
             ],
             [
              0.7777777777777778,
              "#fb9f3a"
             ],
             [
              0.8888888888888888,
              "#fdca26"
             ],
             [
              1,
              "#f0f921"
             ]
            ],
            "type": "histogram2dcontour"
           }
          ],
          "mesh3d": [
           {
            "colorbar": {
             "outlinewidth": 0,
             "ticks": ""
            },
            "type": "mesh3d"
           }
          ],
          "parcoords": [
           {
            "line": {
             "colorbar": {
              "outlinewidth": 0,
              "ticks": ""
             }
            },
            "type": "parcoords"
           }
          ],
          "pie": [
           {
            "automargin": true,
            "type": "pie"
           }
          ],
          "scatter": [
           {
            "marker": {
             "colorbar": {
              "outlinewidth": 0,
              "ticks": ""
             }
            },
            "type": "scatter"
           }
          ],
          "scatter3d": [
           {
            "line": {
             "colorbar": {
              "outlinewidth": 0,
              "ticks": ""
             }
            },
            "marker": {
             "colorbar": {
              "outlinewidth": 0,
              "ticks": ""
             }
            },
            "type": "scatter3d"
           }
          ],
          "scattercarpet": [
           {
            "marker": {
             "colorbar": {
              "outlinewidth": 0,
              "ticks": ""
             }
            },
            "type": "scattercarpet"
           }
          ],
          "scattergeo": [
           {
            "marker": {
             "colorbar": {
              "outlinewidth": 0,
              "ticks": ""
             }
            },
            "type": "scattergeo"
           }
          ],
          "scattergl": [
           {
            "marker": {
             "colorbar": {
              "outlinewidth": 0,
              "ticks": ""
             }
            },
            "type": "scattergl"
           }
          ],
          "scattermapbox": [
           {
            "marker": {
             "colorbar": {
              "outlinewidth": 0,
              "ticks": ""
             }
            },
            "type": "scattermapbox"
           }
          ],
          "scatterpolar": [
           {
            "marker": {
             "colorbar": {
              "outlinewidth": 0,
              "ticks": ""
             }
            },
            "type": "scatterpolar"
           }
          ],
          "scatterpolargl": [
           {
            "marker": {
             "colorbar": {
              "outlinewidth": 0,
              "ticks": ""
             }
            },
            "type": "scatterpolargl"
           }
          ],
          "scatterternary": [
           {
            "marker": {
             "colorbar": {
              "outlinewidth": 0,
              "ticks": ""
             }
            },
            "type": "scatterternary"
           }
          ],
          "surface": [
           {
            "colorbar": {
             "outlinewidth": 0,
             "ticks": ""
            },
            "colorscale": [
             [
              0,
              "#0d0887"
             ],
             [
              0.1111111111111111,
              "#46039f"
             ],
             [
              0.2222222222222222,
              "#7201a8"
             ],
             [
              0.3333333333333333,
              "#9c179e"
             ],
             [
              0.4444444444444444,
              "#bd3786"
             ],
             [
              0.5555555555555556,
              "#d8576b"
             ],
             [
              0.6666666666666666,
              "#ed7953"
             ],
             [
              0.7777777777777778,
              "#fb9f3a"
             ],
             [
              0.8888888888888888,
              "#fdca26"
             ],
             [
              1,
              "#f0f921"
             ]
            ],
            "type": "surface"
           }
          ],
          "table": [
           {
            "cells": {
             "fill": {
              "color": "#EBF0F8"
             },
             "line": {
              "color": "white"
             }
            },
            "header": {
             "fill": {
              "color": "#C8D4E3"
             },
             "line": {
              "color": "white"
             }
            },
            "type": "table"
           }
          ]
         },
         "layout": {
          "annotationdefaults": {
           "arrowcolor": "#2a3f5f",
           "arrowhead": 0,
           "arrowwidth": 1
          },
          "autotypenumbers": "strict",
          "coloraxis": {
           "colorbar": {
            "outlinewidth": 0,
            "ticks": ""
           }
          },
          "colorscale": {
           "diverging": [
            [
             0,
             "#8e0152"
            ],
            [
             0.1,
             "#c51b7d"
            ],
            [
             0.2,
             "#de77ae"
            ],
            [
             0.3,
             "#f1b6da"
            ],
            [
             0.4,
             "#fde0ef"
            ],
            [
             0.5,
             "#f7f7f7"
            ],
            [
             0.6,
             "#e6f5d0"
            ],
            [
             0.7,
             "#b8e186"
            ],
            [
             0.8,
             "#7fbc41"
            ],
            [
             0.9,
             "#4d9221"
            ],
            [
             1,
             "#276419"
            ]
           ],
           "sequential": [
            [
             0,
             "#0d0887"
            ],
            [
             0.1111111111111111,
             "#46039f"
            ],
            [
             0.2222222222222222,
             "#7201a8"
            ],
            [
             0.3333333333333333,
             "#9c179e"
            ],
            [
             0.4444444444444444,
             "#bd3786"
            ],
            [
             0.5555555555555556,
             "#d8576b"
            ],
            [
             0.6666666666666666,
             "#ed7953"
            ],
            [
             0.7777777777777778,
             "#fb9f3a"
            ],
            [
             0.8888888888888888,
             "#fdca26"
            ],
            [
             1,
             "#f0f921"
            ]
           ],
           "sequentialminus": [
            [
             0,
             "#0d0887"
            ],
            [
             0.1111111111111111,
             "#46039f"
            ],
            [
             0.2222222222222222,
             "#7201a8"
            ],
            [
             0.3333333333333333,
             "#9c179e"
            ],
            [
             0.4444444444444444,
             "#bd3786"
            ],
            [
             0.5555555555555556,
             "#d8576b"
            ],
            [
             0.6666666666666666,
             "#ed7953"
            ],
            [
             0.7777777777777778,
             "#fb9f3a"
            ],
            [
             0.8888888888888888,
             "#fdca26"
            ],
            [
             1,
             "#f0f921"
            ]
           ]
          },
          "colorway": [
           "#636efa",
           "#EF553B",
           "#00cc96",
           "#ab63fa",
           "#FFA15A",
           "#19d3f3",
           "#FF6692",
           "#B6E880",
           "#FF97FF",
           "#FECB52"
          ],
          "font": {
           "color": "#2a3f5f"
          },
          "geo": {
           "bgcolor": "white",
           "lakecolor": "white",
           "landcolor": "#E5ECF6",
           "showlakes": true,
           "showland": true,
           "subunitcolor": "white"
          },
          "hoverlabel": {
           "align": "left"
          },
          "hovermode": "closest",
          "mapbox": {
           "style": "light"
          },
          "paper_bgcolor": "white",
          "plot_bgcolor": "#E5ECF6",
          "polar": {
           "angularaxis": {
            "gridcolor": "white",
            "linecolor": "white",
            "ticks": ""
           },
           "bgcolor": "#E5ECF6",
           "radialaxis": {
            "gridcolor": "white",
            "linecolor": "white",
            "ticks": ""
           }
          },
          "scene": {
           "xaxis": {
            "backgroundcolor": "#E5ECF6",
            "gridcolor": "white",
            "gridwidth": 2,
            "linecolor": "white",
            "showbackground": true,
            "ticks": "",
            "zerolinecolor": "white"
           },
           "yaxis": {
            "backgroundcolor": "#E5ECF6",
            "gridcolor": "white",
            "gridwidth": 2,
            "linecolor": "white",
            "showbackground": true,
            "ticks": "",
            "zerolinecolor": "white"
           },
           "zaxis": {
            "backgroundcolor": "#E5ECF6",
            "gridcolor": "white",
            "gridwidth": 2,
            "linecolor": "white",
            "showbackground": true,
            "ticks": "",
            "zerolinecolor": "white"
           }
          },
          "shapedefaults": {
           "line": {
            "color": "#2a3f5f"
           }
          },
          "ternary": {
           "aaxis": {
            "gridcolor": "white",
            "linecolor": "white",
            "ticks": ""
           },
           "baxis": {
            "gridcolor": "white",
            "linecolor": "white",
            "ticks": ""
           },
           "bgcolor": "#E5ECF6",
           "caxis": {
            "gridcolor": "white",
            "linecolor": "white",
            "ticks": ""
           }
          },
          "title": {
           "x": 0.05
          },
          "xaxis": {
           "automargin": true,
           "gridcolor": "white",
           "linecolor": "white",
           "ticks": "",
           "title": {
            "standoff": 15
           },
           "zerolinecolor": "white",
           "zerolinewidth": 2
          },
          "yaxis": {
           "automargin": true,
           "gridcolor": "white",
           "linecolor": "white",
           "ticks": "",
           "title": {
            "standoff": 15
           },
           "zerolinecolor": "white",
           "zerolinewidth": 2
          }
         }
        }
       }
      }
     },
     "metadata": {},
     "output_type": "display_data"
    }
   ],
   "source": [
    "fig = px.scatter_geo(world,\n",
    "                        locations='Country',\n",
    "                        locationmode='country names',\n",
    "                        color='Confirmed',\n",
    "                        hover_name='Country',\n",
    "                        size='Confirmed',\n",
    "                        size_max=50,\n",
    "                        )\n",
    "\n",
    "fig.show()"
   ]
  },
  {
   "cell_type": "code",
   "execution_count": null,
   "metadata": {},
   "outputs": [],
   "source": []
  },
  {
   "cell_type": "code",
   "execution_count": null,
   "metadata": {},
   "outputs": [],
   "source": []
  },
  {
   "cell_type": "code",
   "execution_count": null,
   "metadata": {},
   "outputs": [],
   "source": []
  },
  {
   "cell_type": "code",
   "execution_count": null,
   "metadata": {},
   "outputs": [],
   "source": []
  },
  {
   "cell_type": "code",
   "execution_count": null,
   "metadata": {},
   "outputs": [],
   "source": []
  }
 ],
 "metadata": {
  "interpreter": {
   "hash": "dee03b1924112c3238d23c98c3f985545bca73e9aa3cd91bc9d617365e696192"
  },
  "kernelspec": {
   "display_name": "Python 3.8.8 64-bit ('base': conda)",
   "name": "python3"
  },
  "language_info": {
   "codemirror_mode": {
    "name": "ipython",
    "version": 3
   },
   "file_extension": ".py",
   "mimetype": "text/x-python",
   "name": "python",
   "nbconvert_exporter": "python",
   "pygments_lexer": "ipython3",
   "version": "3.8.8"
  },
  "orig_nbformat": 4
 },
 "nbformat": 4,
 "nbformat_minor": 2
}
