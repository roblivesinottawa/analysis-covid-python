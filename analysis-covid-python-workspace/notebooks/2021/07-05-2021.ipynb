{
 "cells": [
  {
   "cell_type": "code",
   "execution_count": 1,
   "metadata": {},
   "outputs": [],
   "source": [
    "import pandas as pd\n",
    "import numpy as np\n",
    "import matplotlib.pyplot as plt\n",
    "import seaborn as sns\n",
    "\n",
    "sns.set_style(\"darkgrid\")"
   ]
  },
  {
   "cell_type": "code",
   "execution_count": 2,
   "metadata": {},
   "outputs": [],
   "source": [
    "path = '../../data/07-05-2021.csv'"
   ]
  },
  {
   "cell_type": "code",
   "execution_count": 3,
   "metadata": {},
   "outputs": [],
   "source": [
    "df = pd.read_csv(path)"
   ]
  },
  {
   "cell_type": "code",
   "execution_count": 4,
   "metadata": {},
   "outputs": [
    {
     "data": {
      "text/html": [
       "<div>\n",
       "<style scoped>\n",
       "    .dataframe tbody tr th:only-of-type {\n",
       "        vertical-align: middle;\n",
       "    }\n",
       "\n",
       "    .dataframe tbody tr th {\n",
       "        vertical-align: top;\n",
       "    }\n",
       "\n",
       "    .dataframe thead th {\n",
       "        text-align: right;\n",
       "    }\n",
       "</style>\n",
       "<table border=\"1\" class=\"dataframe\">\n",
       "  <thead>\n",
       "    <tr style=\"text-align: right;\">\n",
       "      <th></th>\n",
       "      <th>FIPS</th>\n",
       "      <th>Admin2</th>\n",
       "      <th>Province_State</th>\n",
       "      <th>Country_Region</th>\n",
       "      <th>Last_Update</th>\n",
       "      <th>Lat</th>\n",
       "      <th>Long_</th>\n",
       "      <th>Confirmed</th>\n",
       "      <th>Deaths</th>\n",
       "      <th>Recovered</th>\n",
       "      <th>Active</th>\n",
       "      <th>Combined_Key</th>\n",
       "      <th>Incident_Rate</th>\n",
       "      <th>Case_Fatality_Ratio</th>\n",
       "    </tr>\n",
       "  </thead>\n",
       "  <tbody>\n",
       "    <tr>\n",
       "      <th>0</th>\n",
       "      <td>NaN</td>\n",
       "      <td>NaN</td>\n",
       "      <td>NaN</td>\n",
       "      <td>Afghanistan</td>\n",
       "      <td>2021-07-06 04:21:32</td>\n",
       "      <td>33.93911</td>\n",
       "      <td>67.709953</td>\n",
       "      <td>125937</td>\n",
       "      <td>5283</td>\n",
       "      <td>75314.0</td>\n",
       "      <td>45340.0</td>\n",
       "      <td>Afghanistan</td>\n",
       "      <td>323.509805</td>\n",
       "      <td>4.194955</td>\n",
       "    </tr>\n",
       "    <tr>\n",
       "      <th>1</th>\n",
       "      <td>NaN</td>\n",
       "      <td>NaN</td>\n",
       "      <td>NaN</td>\n",
       "      <td>Albania</td>\n",
       "      <td>2021-07-06 04:21:32</td>\n",
       "      <td>41.15330</td>\n",
       "      <td>20.168300</td>\n",
       "      <td>132537</td>\n",
       "      <td>2456</td>\n",
       "      <td>130029.0</td>\n",
       "      <td>52.0</td>\n",
       "      <td>Albania</td>\n",
       "      <td>4605.497255</td>\n",
       "      <td>1.853067</td>\n",
       "    </tr>\n",
       "    <tr>\n",
       "      <th>2</th>\n",
       "      <td>NaN</td>\n",
       "      <td>NaN</td>\n",
       "      <td>NaN</td>\n",
       "      <td>Algeria</td>\n",
       "      <td>2021-07-06 04:21:32</td>\n",
       "      <td>28.03390</td>\n",
       "      <td>1.659600</td>\n",
       "      <td>141966</td>\n",
       "      <td>3765</td>\n",
       "      <td>98748.0</td>\n",
       "      <td>39453.0</td>\n",
       "      <td>Algeria</td>\n",
       "      <td>323.746005</td>\n",
       "      <td>2.652043</td>\n",
       "    </tr>\n",
       "    <tr>\n",
       "      <th>3</th>\n",
       "      <td>NaN</td>\n",
       "      <td>NaN</td>\n",
       "      <td>NaN</td>\n",
       "      <td>Andorra</td>\n",
       "      <td>2021-07-06 04:21:32</td>\n",
       "      <td>42.50630</td>\n",
       "      <td>1.521800</td>\n",
       "      <td>13918</td>\n",
       "      <td>127</td>\n",
       "      <td>13721.0</td>\n",
       "      <td>70.0</td>\n",
       "      <td>Andorra</td>\n",
       "      <td>18013.330745</td>\n",
       "      <td>0.912487</td>\n",
       "    </tr>\n",
       "    <tr>\n",
       "      <th>4</th>\n",
       "      <td>NaN</td>\n",
       "      <td>NaN</td>\n",
       "      <td>NaN</td>\n",
       "      <td>Angola</td>\n",
       "      <td>2021-07-06 04:21:32</td>\n",
       "      <td>-11.20270</td>\n",
       "      <td>17.873900</td>\n",
       "      <td>39300</td>\n",
       "      <td>915</td>\n",
       "      <td>33739.0</td>\n",
       "      <td>4646.0</td>\n",
       "      <td>Angola</td>\n",
       "      <td>119.575487</td>\n",
       "      <td>2.328244</td>\n",
       "    </tr>\n",
       "    <tr>\n",
       "      <th>5</th>\n",
       "      <td>NaN</td>\n",
       "      <td>NaN</td>\n",
       "      <td>NaN</td>\n",
       "      <td>Antigua and Barbuda</td>\n",
       "      <td>2021-07-06 04:21:32</td>\n",
       "      <td>17.06080</td>\n",
       "      <td>-61.796400</td>\n",
       "      <td>1264</td>\n",
       "      <td>42</td>\n",
       "      <td>1222.0</td>\n",
       "      <td>0.0</td>\n",
       "      <td>Antigua and Barbuda</td>\n",
       "      <td>1290.744220</td>\n",
       "      <td>3.322785</td>\n",
       "    </tr>\n",
       "    <tr>\n",
       "      <th>6</th>\n",
       "      <td>NaN</td>\n",
       "      <td>NaN</td>\n",
       "      <td>NaN</td>\n",
       "      <td>Argentina</td>\n",
       "      <td>2021-07-06 04:21:32</td>\n",
       "      <td>-38.41610</td>\n",
       "      <td>-63.616700</td>\n",
       "      <td>4552750</td>\n",
       "      <td>96521</td>\n",
       "      <td>4175856.0</td>\n",
       "      <td>280373.0</td>\n",
       "      <td>Argentina</td>\n",
       "      <td>10073.396902</td>\n",
       "      <td>2.120059</td>\n",
       "    </tr>\n",
       "    <tr>\n",
       "      <th>7</th>\n",
       "      <td>NaN</td>\n",
       "      <td>NaN</td>\n",
       "      <td>NaN</td>\n",
       "      <td>Armenia</td>\n",
       "      <td>2021-07-06 04:21:32</td>\n",
       "      <td>40.06910</td>\n",
       "      <td>45.038200</td>\n",
       "      <td>225606</td>\n",
       "      <td>4527</td>\n",
       "      <td>217198.0</td>\n",
       "      <td>3881.0</td>\n",
       "      <td>Armenia</td>\n",
       "      <td>7613.506055</td>\n",
       "      <td>2.006596</td>\n",
       "    </tr>\n",
       "    <tr>\n",
       "      <th>8</th>\n",
       "      <td>NaN</td>\n",
       "      <td>NaN</td>\n",
       "      <td>Australian Capital Territory</td>\n",
       "      <td>Australia</td>\n",
       "      <td>2021-07-06 04:21:32</td>\n",
       "      <td>-35.47350</td>\n",
       "      <td>149.012400</td>\n",
       "      <td>124</td>\n",
       "      <td>3</td>\n",
       "      <td>121.0</td>\n",
       "      <td>0.0</td>\n",
       "      <td>Australian Capital Territory, Australia</td>\n",
       "      <td>28.965195</td>\n",
       "      <td>2.419355</td>\n",
       "    </tr>\n",
       "    <tr>\n",
       "      <th>9</th>\n",
       "      <td>NaN</td>\n",
       "      <td>NaN</td>\n",
       "      <td>New South Wales</td>\n",
       "      <td>Australia</td>\n",
       "      <td>2021-07-06 04:21:32</td>\n",
       "      <td>-33.86880</td>\n",
       "      <td>151.209300</td>\n",
       "      <td>5997</td>\n",
       "      <td>54</td>\n",
       "      <td>0.0</td>\n",
       "      <td>5943.0</td>\n",
       "      <td>New South Wales, Australia</td>\n",
       "      <td>73.872875</td>\n",
       "      <td>0.900450</td>\n",
       "    </tr>\n",
       "  </tbody>\n",
       "</table>\n",
       "</div>"
      ],
      "text/plain": [
       "   FIPS Admin2                Province_State       Country_Region  \\\n",
       "0   NaN    NaN                           NaN          Afghanistan   \n",
       "1   NaN    NaN                           NaN              Albania   \n",
       "2   NaN    NaN                           NaN              Algeria   \n",
       "3   NaN    NaN                           NaN              Andorra   \n",
       "4   NaN    NaN                           NaN               Angola   \n",
       "5   NaN    NaN                           NaN  Antigua and Barbuda   \n",
       "6   NaN    NaN                           NaN            Argentina   \n",
       "7   NaN    NaN                           NaN              Armenia   \n",
       "8   NaN    NaN  Australian Capital Territory            Australia   \n",
       "9   NaN    NaN               New South Wales            Australia   \n",
       "\n",
       "           Last_Update       Lat       Long_  Confirmed  Deaths  Recovered  \\\n",
       "0  2021-07-06 04:21:32  33.93911   67.709953     125937    5283    75314.0   \n",
       "1  2021-07-06 04:21:32  41.15330   20.168300     132537    2456   130029.0   \n",
       "2  2021-07-06 04:21:32  28.03390    1.659600     141966    3765    98748.0   \n",
       "3  2021-07-06 04:21:32  42.50630    1.521800      13918     127    13721.0   \n",
       "4  2021-07-06 04:21:32 -11.20270   17.873900      39300     915    33739.0   \n",
       "5  2021-07-06 04:21:32  17.06080  -61.796400       1264      42     1222.0   \n",
       "6  2021-07-06 04:21:32 -38.41610  -63.616700    4552750   96521  4175856.0   \n",
       "7  2021-07-06 04:21:32  40.06910   45.038200     225606    4527   217198.0   \n",
       "8  2021-07-06 04:21:32 -35.47350  149.012400        124       3      121.0   \n",
       "9  2021-07-06 04:21:32 -33.86880  151.209300       5997      54        0.0   \n",
       "\n",
       "     Active                             Combined_Key  Incident_Rate  \\\n",
       "0   45340.0                              Afghanistan     323.509805   \n",
       "1      52.0                                  Albania    4605.497255   \n",
       "2   39453.0                                  Algeria     323.746005   \n",
       "3      70.0                                  Andorra   18013.330745   \n",
       "4    4646.0                                   Angola     119.575487   \n",
       "5       0.0                      Antigua and Barbuda    1290.744220   \n",
       "6  280373.0                                Argentina   10073.396902   \n",
       "7    3881.0                                  Armenia    7613.506055   \n",
       "8       0.0  Australian Capital Territory, Australia      28.965195   \n",
       "9    5943.0               New South Wales, Australia      73.872875   \n",
       "\n",
       "   Case_Fatality_Ratio  \n",
       "0             4.194955  \n",
       "1             1.853067  \n",
       "2             2.652043  \n",
       "3             0.912487  \n",
       "4             2.328244  \n",
       "5             3.322785  \n",
       "6             2.120059  \n",
       "7             2.006596  \n",
       "8             2.419355  \n",
       "9             0.900450  "
      ]
     },
     "execution_count": 4,
     "metadata": {},
     "output_type": "execute_result"
    }
   ],
   "source": [
    "df.head(10)"
   ]
  },
  {
   "cell_type": "code",
   "execution_count": 5,
   "metadata": {},
   "outputs": [
    {
     "name": "stdout",
     "output_type": "stream",
     "text": [
      "<class 'pandas.core.frame.DataFrame'>\n",
      "RangeIndex: 4003 entries, 0 to 4002\n",
      "Data columns (total 14 columns):\n",
      " #   Column               Non-Null Count  Dtype  \n",
      "---  ------               --------------  -----  \n",
      " 0   FIPS                 3266 non-null   float64\n",
      " 1   Admin2               3271 non-null   object \n",
      " 2   Province_State       3830 non-null   object \n",
      " 3   Country_Region       4003 non-null   object \n",
      " 4   Last_Update          4003 non-null   object \n",
      " 5   Lat                  3914 non-null   float64\n",
      " 6   Long_                3914 non-null   float64\n",
      " 7   Confirmed            4003 non-null   int64  \n",
      " 8   Deaths               4003 non-null   int64  \n",
      " 9   Recovered            726 non-null    float64\n",
      " 10  Active               724 non-null    float64\n",
      " 11  Combined_Key         4003 non-null   object \n",
      " 12  Incident_Rate        3914 non-null   float64\n",
      " 13  Case_Fatality_Ratio  3961 non-null   float64\n",
      "dtypes: float64(7), int64(2), object(5)\n",
      "memory usage: 438.0+ KB\n"
     ]
    }
   ],
   "source": [
    "df.info()"
   ]
  },
  {
   "cell_type": "code",
   "execution_count": 6,
   "metadata": {},
   "outputs": [
    {
     "data": {
      "text/html": [
       "<div>\n",
       "<style scoped>\n",
       "    .dataframe tbody tr th:only-of-type {\n",
       "        vertical-align: middle;\n",
       "    }\n",
       "\n",
       "    .dataframe tbody tr th {\n",
       "        vertical-align: top;\n",
       "    }\n",
       "\n",
       "    .dataframe thead th {\n",
       "        text-align: right;\n",
       "    }\n",
       "</style>\n",
       "<table border=\"1\" class=\"dataframe\">\n",
       "  <thead>\n",
       "    <tr style=\"text-align: right;\">\n",
       "      <th></th>\n",
       "      <th>FIPS</th>\n",
       "      <th>Lat</th>\n",
       "      <th>Long_</th>\n",
       "      <th>Confirmed</th>\n",
       "      <th>Deaths</th>\n",
       "      <th>Recovered</th>\n",
       "      <th>Active</th>\n",
       "      <th>Incident_Rate</th>\n",
       "      <th>Case_Fatality_Ratio</th>\n",
       "    </tr>\n",
       "  </thead>\n",
       "  <tbody>\n",
       "    <tr>\n",
       "      <th>count</th>\n",
       "      <td>3266.000000</td>\n",
       "      <td>3914.000000</td>\n",
       "      <td>3914.000000</td>\n",
       "      <td>4.003000e+03</td>\n",
       "      <td>4003.000000</td>\n",
       "      <td>7.260000e+02</td>\n",
       "      <td>7.240000e+02</td>\n",
       "      <td>3914.000000</td>\n",
       "      <td>3961.000000</td>\n",
       "    </tr>\n",
       "    <tr>\n",
       "      <th>mean</th>\n",
       "      <td>32401.272811</td>\n",
       "      <td>35.831394</td>\n",
       "      <td>-71.300276</td>\n",
       "      <td>4.601999e+04</td>\n",
       "      <td>996.385211</td>\n",
       "      <td>1.669906e+05</td>\n",
       "      <td>3.556797e+04</td>\n",
       "      <td>9066.596769</td>\n",
       "      <td>3.092965</td>\n",
       "    </tr>\n",
       "    <tr>\n",
       "      <th>std</th>\n",
       "      <td>18033.806874</td>\n",
       "      <td>13.196117</td>\n",
       "      <td>54.870853</td>\n",
       "      <td>2.577757e+05</td>\n",
       "      <td>5711.290290</td>\n",
       "      <td>4.937035e+05</td>\n",
       "      <td>2.826753e+05</td>\n",
       "      <td>3993.487784</td>\n",
       "      <td>63.398193</td>\n",
       "    </tr>\n",
       "    <tr>\n",
       "      <th>min</th>\n",
       "      <td>66.000000</td>\n",
       "      <td>-52.368000</td>\n",
       "      <td>-178.116500</td>\n",
       "      <td>0.000000e+00</td>\n",
       "      <td>0.000000</td>\n",
       "      <td>0.000000e+00</td>\n",
       "      <td>-2.026473e+06</td>\n",
       "      <td>0.000000</td>\n",
       "      <td>0.000000</td>\n",
       "    </tr>\n",
       "    <tr>\n",
       "      <th>25%</th>\n",
       "      <td>19049.500000</td>\n",
       "      <td>33.212580</td>\n",
       "      <td>-96.580090</td>\n",
       "      <td>1.166500e+03</td>\n",
       "      <td>20.000000</td>\n",
       "      <td>7.685000e+02</td>\n",
       "      <td>1.292500e+02</td>\n",
       "      <td>7050.770667</td>\n",
       "      <td>1.228398</td>\n",
       "    </tr>\n",
       "    <tr>\n",
       "      <th>50%</th>\n",
       "      <td>30068.000000</td>\n",
       "      <td>37.910342</td>\n",
       "      <td>-86.752466</td>\n",
       "      <td>3.238000e+03</td>\n",
       "      <td>60.000000</td>\n",
       "      <td>2.062000e+04</td>\n",
       "      <td>1.676000e+03</td>\n",
       "      <td>9721.328476</td>\n",
       "      <td>1.787424</td>\n",
       "    </tr>\n",
       "    <tr>\n",
       "      <th>75%</th>\n",
       "      <td>47040.500000</td>\n",
       "      <td>42.181730</td>\n",
       "      <td>-77.393369</td>\n",
       "      <td>1.373650e+04</td>\n",
       "      <td>213.000000</td>\n",
       "      <td>9.025200e+04</td>\n",
       "      <td>1.723150e+04</td>\n",
       "      <td>11556.808796</td>\n",
       "      <td>2.510460</td>\n",
       "    </tr>\n",
       "    <tr>\n",
       "      <th>max</th>\n",
       "      <td>99999.000000</td>\n",
       "      <td>71.706900</td>\n",
       "      <td>178.065000</td>\n",
       "      <td>6.104917e+06</td>\n",
       "      <td>129675.000000</td>\n",
       "      <td>5.861720e+06</td>\n",
       "      <td>5.266879e+06</td>\n",
       "      <td>41642.981571</td>\n",
       "      <td>3988.524590</td>\n",
       "    </tr>\n",
       "  </tbody>\n",
       "</table>\n",
       "</div>"
      ],
      "text/plain": [
       "               FIPS          Lat        Long_     Confirmed         Deaths  \\\n",
       "count   3266.000000  3914.000000  3914.000000  4.003000e+03    4003.000000   \n",
       "mean   32401.272811    35.831394   -71.300276  4.601999e+04     996.385211   \n",
       "std    18033.806874    13.196117    54.870853  2.577757e+05    5711.290290   \n",
       "min       66.000000   -52.368000  -178.116500  0.000000e+00       0.000000   \n",
       "25%    19049.500000    33.212580   -96.580090  1.166500e+03      20.000000   \n",
       "50%    30068.000000    37.910342   -86.752466  3.238000e+03      60.000000   \n",
       "75%    47040.500000    42.181730   -77.393369  1.373650e+04     213.000000   \n",
       "max    99999.000000    71.706900   178.065000  6.104917e+06  129675.000000   \n",
       "\n",
       "          Recovered        Active  Incident_Rate  Case_Fatality_Ratio  \n",
       "count  7.260000e+02  7.240000e+02    3914.000000          3961.000000  \n",
       "mean   1.669906e+05  3.556797e+04    9066.596769             3.092965  \n",
       "std    4.937035e+05  2.826753e+05    3993.487784            63.398193  \n",
       "min    0.000000e+00 -2.026473e+06       0.000000             0.000000  \n",
       "25%    7.685000e+02  1.292500e+02    7050.770667             1.228398  \n",
       "50%    2.062000e+04  1.676000e+03    9721.328476             1.787424  \n",
       "75%    9.025200e+04  1.723150e+04   11556.808796             2.510460  \n",
       "max    5.861720e+06  5.266879e+06   41642.981571          3988.524590  "
      ]
     },
     "execution_count": 6,
     "metadata": {},
     "output_type": "execute_result"
    }
   ],
   "source": [
    "df.describe()"
   ]
  },
  {
   "cell_type": "code",
   "execution_count": 7,
   "metadata": {},
   "outputs": [
    {
     "data": {
      "text/plain": [
       "Index(['FIPS', 'Admin2', 'Province_State', 'Country_Region', 'Last_Update',\n",
       "       'Lat', 'Long_', 'Confirmed', 'Deaths', 'Recovered', 'Active',\n",
       "       'Combined_Key', 'Incident_Rate', 'Case_Fatality_Ratio'],\n",
       "      dtype='object')"
      ]
     },
     "execution_count": 7,
     "metadata": {},
     "output_type": "execute_result"
    }
   ],
   "source": [
    "df.columns"
   ]
  },
  {
   "cell_type": "code",
   "execution_count": 8,
   "metadata": {},
   "outputs": [],
   "source": [
    "df.drop(['FIPS', 'Lat', 'Long_', 'Admin2', 'Province_State', 'Last_Update', 'Combined_Key'], axis=1, inplace=True)"
   ]
  },
  {
   "cell_type": "code",
   "execution_count": 9,
   "metadata": {},
   "outputs": [
    {
     "data": {
      "text/html": [
       "<div>\n",
       "<style scoped>\n",
       "    .dataframe tbody tr th:only-of-type {\n",
       "        vertical-align: middle;\n",
       "    }\n",
       "\n",
       "    .dataframe tbody tr th {\n",
       "        vertical-align: top;\n",
       "    }\n",
       "\n",
       "    .dataframe thead th {\n",
       "        text-align: right;\n",
       "    }\n",
       "</style>\n",
       "<table border=\"1\" class=\"dataframe\">\n",
       "  <thead>\n",
       "    <tr style=\"text-align: right;\">\n",
       "      <th></th>\n",
       "      <th>Country_Region</th>\n",
       "      <th>Confirmed</th>\n",
       "      <th>Deaths</th>\n",
       "      <th>Recovered</th>\n",
       "      <th>Active</th>\n",
       "      <th>Incident_Rate</th>\n",
       "      <th>Case_Fatality_Ratio</th>\n",
       "    </tr>\n",
       "  </thead>\n",
       "  <tbody>\n",
       "    <tr>\n",
       "      <th>0</th>\n",
       "      <td>Afghanistan</td>\n",
       "      <td>125937</td>\n",
       "      <td>5283</td>\n",
       "      <td>75314.0</td>\n",
       "      <td>45340.0</td>\n",
       "      <td>323.509805</td>\n",
       "      <td>4.194955</td>\n",
       "    </tr>\n",
       "    <tr>\n",
       "      <th>1</th>\n",
       "      <td>Albania</td>\n",
       "      <td>132537</td>\n",
       "      <td>2456</td>\n",
       "      <td>130029.0</td>\n",
       "      <td>52.0</td>\n",
       "      <td>4605.497255</td>\n",
       "      <td>1.853067</td>\n",
       "    </tr>\n",
       "    <tr>\n",
       "      <th>2</th>\n",
       "      <td>Algeria</td>\n",
       "      <td>141966</td>\n",
       "      <td>3765</td>\n",
       "      <td>98748.0</td>\n",
       "      <td>39453.0</td>\n",
       "      <td>323.746005</td>\n",
       "      <td>2.652043</td>\n",
       "    </tr>\n",
       "    <tr>\n",
       "      <th>3</th>\n",
       "      <td>Andorra</td>\n",
       "      <td>13918</td>\n",
       "      <td>127</td>\n",
       "      <td>13721.0</td>\n",
       "      <td>70.0</td>\n",
       "      <td>18013.330745</td>\n",
       "      <td>0.912487</td>\n",
       "    </tr>\n",
       "    <tr>\n",
       "      <th>4</th>\n",
       "      <td>Angola</td>\n",
       "      <td>39300</td>\n",
       "      <td>915</td>\n",
       "      <td>33739.0</td>\n",
       "      <td>4646.0</td>\n",
       "      <td>119.575487</td>\n",
       "      <td>2.328244</td>\n",
       "    </tr>\n",
       "    <tr>\n",
       "      <th>5</th>\n",
       "      <td>Antigua and Barbuda</td>\n",
       "      <td>1264</td>\n",
       "      <td>42</td>\n",
       "      <td>1222.0</td>\n",
       "      <td>0.0</td>\n",
       "      <td>1290.744220</td>\n",
       "      <td>3.322785</td>\n",
       "    </tr>\n",
       "    <tr>\n",
       "      <th>6</th>\n",
       "      <td>Argentina</td>\n",
       "      <td>4552750</td>\n",
       "      <td>96521</td>\n",
       "      <td>4175856.0</td>\n",
       "      <td>280373.0</td>\n",
       "      <td>10073.396902</td>\n",
       "      <td>2.120059</td>\n",
       "    </tr>\n",
       "    <tr>\n",
       "      <th>7</th>\n",
       "      <td>Armenia</td>\n",
       "      <td>225606</td>\n",
       "      <td>4527</td>\n",
       "      <td>217198.0</td>\n",
       "      <td>3881.0</td>\n",
       "      <td>7613.506055</td>\n",
       "      <td>2.006596</td>\n",
       "    </tr>\n",
       "    <tr>\n",
       "      <th>8</th>\n",
       "      <td>Australia</td>\n",
       "      <td>124</td>\n",
       "      <td>3</td>\n",
       "      <td>121.0</td>\n",
       "      <td>0.0</td>\n",
       "      <td>28.965195</td>\n",
       "      <td>2.419355</td>\n",
       "    </tr>\n",
       "    <tr>\n",
       "      <th>9</th>\n",
       "      <td>Australia</td>\n",
       "      <td>5997</td>\n",
       "      <td>54</td>\n",
       "      <td>0.0</td>\n",
       "      <td>5943.0</td>\n",
       "      <td>73.872875</td>\n",
       "      <td>0.900450</td>\n",
       "    </tr>\n",
       "  </tbody>\n",
       "</table>\n",
       "</div>"
      ],
      "text/plain": [
       "        Country_Region  Confirmed  Deaths  Recovered    Active  Incident_Rate  \\\n",
       "0          Afghanistan     125937    5283    75314.0   45340.0     323.509805   \n",
       "1              Albania     132537    2456   130029.0      52.0    4605.497255   \n",
       "2              Algeria     141966    3765    98748.0   39453.0     323.746005   \n",
       "3              Andorra      13918     127    13721.0      70.0   18013.330745   \n",
       "4               Angola      39300     915    33739.0    4646.0     119.575487   \n",
       "5  Antigua and Barbuda       1264      42     1222.0       0.0    1290.744220   \n",
       "6            Argentina    4552750   96521  4175856.0  280373.0   10073.396902   \n",
       "7              Armenia     225606    4527   217198.0    3881.0    7613.506055   \n",
       "8            Australia        124       3      121.0       0.0      28.965195   \n",
       "9            Australia       5997      54        0.0    5943.0      73.872875   \n",
       "\n",
       "   Case_Fatality_Ratio  \n",
       "0             4.194955  \n",
       "1             1.853067  \n",
       "2             2.652043  \n",
       "3             0.912487  \n",
       "4             2.328244  \n",
       "5             3.322785  \n",
       "6             2.120059  \n",
       "7             2.006596  \n",
       "8             2.419355  \n",
       "9             0.900450  "
      ]
     },
     "execution_count": 9,
     "metadata": {},
     "output_type": "execute_result"
    }
   ],
   "source": [
    "df.head(10)"
   ]
  },
  {
   "cell_type": "code",
   "execution_count": 10,
   "metadata": {},
   "outputs": [],
   "source": [
    "df.rename(columns={'Country_Region': 'Country'}, inplace=True)"
   ]
  },
  {
   "cell_type": "code",
   "execution_count": 11,
   "metadata": {},
   "outputs": [
    {
     "data": {
      "text/html": [
       "<div>\n",
       "<style scoped>\n",
       "    .dataframe tbody tr th:only-of-type {\n",
       "        vertical-align: middle;\n",
       "    }\n",
       "\n",
       "    .dataframe tbody tr th {\n",
       "        vertical-align: top;\n",
       "    }\n",
       "\n",
       "    .dataframe thead th {\n",
       "        text-align: right;\n",
       "    }\n",
       "</style>\n",
       "<table border=\"1\" class=\"dataframe\">\n",
       "  <thead>\n",
       "    <tr style=\"text-align: right;\">\n",
       "      <th></th>\n",
       "      <th>Country</th>\n",
       "      <th>Confirmed</th>\n",
       "      <th>Deaths</th>\n",
       "      <th>Recovered</th>\n",
       "      <th>Active</th>\n",
       "      <th>Incident_Rate</th>\n",
       "      <th>Case_Fatality_Ratio</th>\n",
       "    </tr>\n",
       "  </thead>\n",
       "  <tbody>\n",
       "    <tr>\n",
       "      <th>0</th>\n",
       "      <td>Afghanistan</td>\n",
       "      <td>125937</td>\n",
       "      <td>5283</td>\n",
       "      <td>75314.0</td>\n",
       "      <td>45340.0</td>\n",
       "      <td>323.509805</td>\n",
       "      <td>4.194955</td>\n",
       "    </tr>\n",
       "    <tr>\n",
       "      <th>1</th>\n",
       "      <td>Albania</td>\n",
       "      <td>132537</td>\n",
       "      <td>2456</td>\n",
       "      <td>130029.0</td>\n",
       "      <td>52.0</td>\n",
       "      <td>4605.497255</td>\n",
       "      <td>1.853067</td>\n",
       "    </tr>\n",
       "    <tr>\n",
       "      <th>2</th>\n",
       "      <td>Algeria</td>\n",
       "      <td>141966</td>\n",
       "      <td>3765</td>\n",
       "      <td>98748.0</td>\n",
       "      <td>39453.0</td>\n",
       "      <td>323.746005</td>\n",
       "      <td>2.652043</td>\n",
       "    </tr>\n",
       "    <tr>\n",
       "      <th>3</th>\n",
       "      <td>Andorra</td>\n",
       "      <td>13918</td>\n",
       "      <td>127</td>\n",
       "      <td>13721.0</td>\n",
       "      <td>70.0</td>\n",
       "      <td>18013.330745</td>\n",
       "      <td>0.912487</td>\n",
       "    </tr>\n",
       "    <tr>\n",
       "      <th>4</th>\n",
       "      <td>Angola</td>\n",
       "      <td>39300</td>\n",
       "      <td>915</td>\n",
       "      <td>33739.0</td>\n",
       "      <td>4646.0</td>\n",
       "      <td>119.575487</td>\n",
       "      <td>2.328244</td>\n",
       "    </tr>\n",
       "    <tr>\n",
       "      <th>5</th>\n",
       "      <td>Antigua and Barbuda</td>\n",
       "      <td>1264</td>\n",
       "      <td>42</td>\n",
       "      <td>1222.0</td>\n",
       "      <td>0.0</td>\n",
       "      <td>1290.744220</td>\n",
       "      <td>3.322785</td>\n",
       "    </tr>\n",
       "    <tr>\n",
       "      <th>6</th>\n",
       "      <td>Argentina</td>\n",
       "      <td>4552750</td>\n",
       "      <td>96521</td>\n",
       "      <td>4175856.0</td>\n",
       "      <td>280373.0</td>\n",
       "      <td>10073.396902</td>\n",
       "      <td>2.120059</td>\n",
       "    </tr>\n",
       "    <tr>\n",
       "      <th>7</th>\n",
       "      <td>Armenia</td>\n",
       "      <td>225606</td>\n",
       "      <td>4527</td>\n",
       "      <td>217198.0</td>\n",
       "      <td>3881.0</td>\n",
       "      <td>7613.506055</td>\n",
       "      <td>2.006596</td>\n",
       "    </tr>\n",
       "    <tr>\n",
       "      <th>8</th>\n",
       "      <td>Australia</td>\n",
       "      <td>124</td>\n",
       "      <td>3</td>\n",
       "      <td>121.0</td>\n",
       "      <td>0.0</td>\n",
       "      <td>28.965195</td>\n",
       "      <td>2.419355</td>\n",
       "    </tr>\n",
       "    <tr>\n",
       "      <th>9</th>\n",
       "      <td>Australia</td>\n",
       "      <td>5997</td>\n",
       "      <td>54</td>\n",
       "      <td>0.0</td>\n",
       "      <td>5943.0</td>\n",
       "      <td>73.872875</td>\n",
       "      <td>0.900450</td>\n",
       "    </tr>\n",
       "  </tbody>\n",
       "</table>\n",
       "</div>"
      ],
      "text/plain": [
       "               Country  Confirmed  Deaths  Recovered    Active  Incident_Rate  \\\n",
       "0          Afghanistan     125937    5283    75314.0   45340.0     323.509805   \n",
       "1              Albania     132537    2456   130029.0      52.0    4605.497255   \n",
       "2              Algeria     141966    3765    98748.0   39453.0     323.746005   \n",
       "3              Andorra      13918     127    13721.0      70.0   18013.330745   \n",
       "4               Angola      39300     915    33739.0    4646.0     119.575487   \n",
       "5  Antigua and Barbuda       1264      42     1222.0       0.0    1290.744220   \n",
       "6            Argentina    4552750   96521  4175856.0  280373.0   10073.396902   \n",
       "7              Armenia     225606    4527   217198.0    3881.0    7613.506055   \n",
       "8            Australia        124       3      121.0       0.0      28.965195   \n",
       "9            Australia       5997      54        0.0    5943.0      73.872875   \n",
       "\n",
       "   Case_Fatality_Ratio  \n",
       "0             4.194955  \n",
       "1             1.853067  \n",
       "2             2.652043  \n",
       "3             0.912487  \n",
       "4             2.328244  \n",
       "5             3.322785  \n",
       "6             2.120059  \n",
       "7             2.006596  \n",
       "8             2.419355  \n",
       "9             0.900450  "
      ]
     },
     "execution_count": 11,
     "metadata": {},
     "output_type": "execute_result"
    }
   ],
   "source": [
    "df.head(10)"
   ]
  },
  {
   "cell_type": "code",
   "execution_count": 12,
   "metadata": {},
   "outputs": [
    {
     "data": {
      "text/plain": [
       "Country                   0\n",
       "Confirmed                 0\n",
       "Deaths                    0\n",
       "Recovered              3277\n",
       "Active                 3279\n",
       "Incident_Rate            89\n",
       "Case_Fatality_Ratio      42\n",
       "dtype: int64"
      ]
     },
     "execution_count": 12,
     "metadata": {},
     "output_type": "execute_result"
    }
   ],
   "source": [
    "df.isnull().sum()"
   ]
  },
  {
   "cell_type": "code",
   "execution_count": 13,
   "metadata": {},
   "outputs": [
    {
     "data": {
      "text/html": [
       "<div>\n",
       "<style scoped>\n",
       "    .dataframe tbody tr th:only-of-type {\n",
       "        vertical-align: middle;\n",
       "    }\n",
       "\n",
       "    .dataframe tbody tr th {\n",
       "        vertical-align: top;\n",
       "    }\n",
       "\n",
       "    .dataframe thead th {\n",
       "        text-align: right;\n",
       "    }\n",
       "</style>\n",
       "<table border=\"1\" class=\"dataframe\">\n",
       "  <thead>\n",
       "    <tr style=\"text-align: right;\">\n",
       "      <th></th>\n",
       "      <th>Country</th>\n",
       "      <th>Confirmed</th>\n",
       "      <th>Deaths</th>\n",
       "      <th>Recovered</th>\n",
       "      <th>Active</th>\n",
       "      <th>Incident_Rate</th>\n",
       "      <th>Case_Fatality_Ratio</th>\n",
       "    </tr>\n",
       "  </thead>\n",
       "  <tbody>\n",
       "    <tr>\n",
       "      <th>0</th>\n",
       "      <td>Afghanistan</td>\n",
       "      <td>125937</td>\n",
       "      <td>5283</td>\n",
       "      <td>75314.0</td>\n",
       "      <td>45340.0</td>\n",
       "      <td>323.509805</td>\n",
       "      <td>4.194955</td>\n",
       "    </tr>\n",
       "    <tr>\n",
       "      <th>1</th>\n",
       "      <td>Albania</td>\n",
       "      <td>132537</td>\n",
       "      <td>2456</td>\n",
       "      <td>130029.0</td>\n",
       "      <td>52.0</td>\n",
       "      <td>4605.497255</td>\n",
       "      <td>1.853067</td>\n",
       "    </tr>\n",
       "    <tr>\n",
       "      <th>2</th>\n",
       "      <td>Algeria</td>\n",
       "      <td>141966</td>\n",
       "      <td>3765</td>\n",
       "      <td>98748.0</td>\n",
       "      <td>39453.0</td>\n",
       "      <td>323.746005</td>\n",
       "      <td>2.652043</td>\n",
       "    </tr>\n",
       "    <tr>\n",
       "      <th>3</th>\n",
       "      <td>Andorra</td>\n",
       "      <td>13918</td>\n",
       "      <td>127</td>\n",
       "      <td>13721.0</td>\n",
       "      <td>70.0</td>\n",
       "      <td>18013.330745</td>\n",
       "      <td>0.912487</td>\n",
       "    </tr>\n",
       "    <tr>\n",
       "      <th>4</th>\n",
       "      <td>Angola</td>\n",
       "      <td>39300</td>\n",
       "      <td>915</td>\n",
       "      <td>33739.0</td>\n",
       "      <td>4646.0</td>\n",
       "      <td>119.575487</td>\n",
       "      <td>2.328244</td>\n",
       "    </tr>\n",
       "  </tbody>\n",
       "</table>\n",
       "</div>"
      ],
      "text/plain": [
       "       Country  Confirmed  Deaths  Recovered   Active  Incident_Rate  \\\n",
       "0  Afghanistan     125937    5283    75314.0  45340.0     323.509805   \n",
       "1      Albania     132537    2456   130029.0     52.0    4605.497255   \n",
       "2      Algeria     141966    3765    98748.0  39453.0     323.746005   \n",
       "3      Andorra      13918     127    13721.0     70.0   18013.330745   \n",
       "4       Angola      39300     915    33739.0   4646.0     119.575487   \n",
       "\n",
       "   Case_Fatality_Ratio  \n",
       "0             4.194955  \n",
       "1             1.853067  \n",
       "2             2.652043  \n",
       "3             0.912487  \n",
       "4             2.328244  "
      ]
     },
     "execution_count": 13,
     "metadata": {},
     "output_type": "execute_result"
    }
   ],
   "source": [
    "df.head()"
   ]
  },
  {
   "cell_type": "code",
   "execution_count": 14,
   "metadata": {},
   "outputs": [
    {
     "data": {
      "text/html": [
       "<div>\n",
       "<style scoped>\n",
       "    .dataframe tbody tr th:only-of-type {\n",
       "        vertical-align: middle;\n",
       "    }\n",
       "\n",
       "    .dataframe tbody tr th {\n",
       "        vertical-align: top;\n",
       "    }\n",
       "\n",
       "    .dataframe thead th {\n",
       "        text-align: right;\n",
       "    }\n",
       "</style>\n",
       "<table border=\"1\" class=\"dataframe\">\n",
       "  <thead>\n",
       "    <tr style=\"text-align: right;\">\n",
       "      <th></th>\n",
       "      <th>Country</th>\n",
       "      <th>Confirmed</th>\n",
       "      <th>Deaths</th>\n",
       "      <th>Recovered</th>\n",
       "      <th>Active</th>\n",
       "      <th>Incident_Rate</th>\n",
       "      <th>Case_Fatality_Ratio</th>\n",
       "    </tr>\n",
       "  </thead>\n",
       "  <tbody>\n",
       "    <tr>\n",
       "      <th>655</th>\n",
       "      <td>US</td>\n",
       "      <td>7262</td>\n",
       "      <td>113</td>\n",
       "      <td>NaN</td>\n",
       "      <td>NaN</td>\n",
       "      <td>12998.263796</td>\n",
       "      <td>1.556045</td>\n",
       "    </tr>\n",
       "    <tr>\n",
       "      <th>656</th>\n",
       "      <td>US</td>\n",
       "      <td>22043</td>\n",
       "      <td>315</td>\n",
       "      <td>NaN</td>\n",
       "      <td>NaN</td>\n",
       "      <td>9874.391894</td>\n",
       "      <td>1.429025</td>\n",
       "    </tr>\n",
       "    <tr>\n",
       "      <th>657</th>\n",
       "      <td>US</td>\n",
       "      <td>2347</td>\n",
       "      <td>60</td>\n",
       "      <td>NaN</td>\n",
       "      <td>NaN</td>\n",
       "      <td>9507.413109</td>\n",
       "      <td>2.556455</td>\n",
       "    </tr>\n",
       "    <tr>\n",
       "      <th>658</th>\n",
       "      <td>US</td>\n",
       "      <td>2693</td>\n",
       "      <td>64</td>\n",
       "      <td>NaN</td>\n",
       "      <td>NaN</td>\n",
       "      <td>12025.542556</td>\n",
       "      <td>2.376532</td>\n",
       "    </tr>\n",
       "    <tr>\n",
       "      <th>659</th>\n",
       "      <td>US</td>\n",
       "      <td>6988</td>\n",
       "      <td>139</td>\n",
       "      <td>NaN</td>\n",
       "      <td>NaN</td>\n",
       "      <td>12084.529450</td>\n",
       "      <td>1.989124</td>\n",
       "    </tr>\n",
       "  </tbody>\n",
       "</table>\n",
       "</div>"
      ],
      "text/plain": [
       "    Country  Confirmed  Deaths  Recovered  Active  Incident_Rate  \\\n",
       "655      US       7262     113        NaN     NaN   12998.263796   \n",
       "656      US      22043     315        NaN     NaN    9874.391894   \n",
       "657      US       2347      60        NaN     NaN    9507.413109   \n",
       "658      US       2693      64        NaN     NaN   12025.542556   \n",
       "659      US       6988     139        NaN     NaN   12084.529450   \n",
       "\n",
       "     Case_Fatality_Ratio  \n",
       "655             1.556045  \n",
       "656             1.429025  \n",
       "657             2.556455  \n",
       "658             2.376532  \n",
       "659             1.989124  "
      ]
     },
     "execution_count": 14,
     "metadata": {},
     "output_type": "execute_result"
    }
   ],
   "source": [
    "df[df.Country == 'US'].head()"
   ]
  },
  {
   "cell_type": "code",
   "execution_count": 15,
   "metadata": {},
   "outputs": [
    {
     "data": {
      "text/html": [
       "<div>\n",
       "<style scoped>\n",
       "    .dataframe tbody tr th:only-of-type {\n",
       "        vertical-align: middle;\n",
       "    }\n",
       "\n",
       "    .dataframe tbody tr th {\n",
       "        vertical-align: top;\n",
       "    }\n",
       "\n",
       "    .dataframe thead th {\n",
       "        text-align: right;\n",
       "    }\n",
       "</style>\n",
       "<table border=\"1\" class=\"dataframe\">\n",
       "  <thead>\n",
       "    <tr style=\"text-align: right;\">\n",
       "      <th></th>\n",
       "      <th>Country</th>\n",
       "      <th>Confirmed</th>\n",
       "      <th>Deaths</th>\n",
       "      <th>Recovered</th>\n",
       "      <th>Active</th>\n",
       "      <th>Incident_Rate</th>\n",
       "      <th>Case_Fatality_Ratio</th>\n",
       "    </tr>\n",
       "  </thead>\n",
       "  <tbody>\n",
       "    <tr>\n",
       "      <th>76</th>\n",
       "      <td>Canada</td>\n",
       "      <td>232236</td>\n",
       "      <td>2303</td>\n",
       "      <td>229102.0</td>\n",
       "      <td>831.0</td>\n",
       "      <td>5262.368388</td>\n",
       "      <td>0.991664</td>\n",
       "    </tr>\n",
       "    <tr>\n",
       "      <th>77</th>\n",
       "      <td>Canada</td>\n",
       "      <td>147790</td>\n",
       "      <td>1759</td>\n",
       "      <td>145362.0</td>\n",
       "      <td>669.0</td>\n",
       "      <td>2891.653298</td>\n",
       "      <td>1.190202</td>\n",
       "    </tr>\n",
       "    <tr>\n",
       "      <th>78</th>\n",
       "      <td>Canada</td>\n",
       "      <td>0</td>\n",
       "      <td>1</td>\n",
       "      <td>0.0</td>\n",
       "      <td>NaN</td>\n",
       "      <td>NaN</td>\n",
       "      <td>NaN</td>\n",
       "    </tr>\n",
       "    <tr>\n",
       "      <th>79</th>\n",
       "      <td>Canada</td>\n",
       "      <td>13</td>\n",
       "      <td>0</td>\n",
       "      <td>13.0</td>\n",
       "      <td>0.0</td>\n",
       "      <td>NaN</td>\n",
       "      <td>0.000000</td>\n",
       "    </tr>\n",
       "    <tr>\n",
       "      <th>80</th>\n",
       "      <td>Canada</td>\n",
       "      <td>56482</td>\n",
       "      <td>1151</td>\n",
       "      <td>54309.0</td>\n",
       "      <td>1022.0</td>\n",
       "      <td>4100.276076</td>\n",
       "      <td>2.037817</td>\n",
       "    </tr>\n",
       "  </tbody>\n",
       "</table>\n",
       "</div>"
      ],
      "text/plain": [
       "   Country  Confirmed  Deaths  Recovered  Active  Incident_Rate  \\\n",
       "76  Canada     232236    2303   229102.0   831.0    5262.368388   \n",
       "77  Canada     147790    1759   145362.0   669.0    2891.653298   \n",
       "78  Canada          0       1        0.0     NaN            NaN   \n",
       "79  Canada         13       0       13.0     0.0            NaN   \n",
       "80  Canada      56482    1151    54309.0  1022.0    4100.276076   \n",
       "\n",
       "    Case_Fatality_Ratio  \n",
       "76             0.991664  \n",
       "77             1.190202  \n",
       "78                  NaN  \n",
       "79             0.000000  \n",
       "80             2.037817  "
      ]
     },
     "execution_count": 15,
     "metadata": {},
     "output_type": "execute_result"
    }
   ],
   "source": [
    "df[df.Country == 'Canada'].head()"
   ]
  },
  {
   "cell_type": "code",
   "execution_count": 16,
   "metadata": {},
   "outputs": [
    {
     "data": {
      "text/html": [
       "<div>\n",
       "<style scoped>\n",
       "    .dataframe tbody tr th:only-of-type {\n",
       "        vertical-align: middle;\n",
       "    }\n",
       "\n",
       "    .dataframe tbody tr th {\n",
       "        vertical-align: top;\n",
       "    }\n",
       "\n",
       "    .dataframe thead th {\n",
       "        text-align: right;\n",
       "    }\n",
       "</style>\n",
       "<table border=\"1\" class=\"dataframe\">\n",
       "  <thead>\n",
       "    <tr style=\"text-align: right;\">\n",
       "      <th></th>\n",
       "      <th>Country</th>\n",
       "      <th>Confirmed</th>\n",
       "      <th>Deaths</th>\n",
       "      <th>Recovered</th>\n",
       "      <th>Active</th>\n",
       "      <th>Incident_Rate</th>\n",
       "      <th>Case_Fatality_Ratio</th>\n",
       "    </tr>\n",
       "  </thead>\n",
       "  <tbody>\n",
       "    <tr>\n",
       "      <th>41</th>\n",
       "      <td>Brazil</td>\n",
       "      <td>85983</td>\n",
       "      <td>1757</td>\n",
       "      <td>82354.0</td>\n",
       "      <td>1872.0</td>\n",
       "      <td>9749.357946</td>\n",
       "      <td>2.043427</td>\n",
       "    </tr>\n",
       "    <tr>\n",
       "      <th>42</th>\n",
       "      <td>Brazil</td>\n",
       "      <td>220022</td>\n",
       "      <td>5433</td>\n",
       "      <td>210634.0</td>\n",
       "      <td>3955.0</td>\n",
       "      <td>6592.701949</td>\n",
       "      <td>2.469299</td>\n",
       "    </tr>\n",
       "    <tr>\n",
       "      <th>43</th>\n",
       "      <td>Brazil</td>\n",
       "      <td>117927</td>\n",
       "      <td>1852</td>\n",
       "      <td>97309.0</td>\n",
       "      <td>18766.0</td>\n",
       "      <td>13943.795368</td>\n",
       "      <td>1.570463</td>\n",
       "    </tr>\n",
       "    <tr>\n",
       "      <th>44</th>\n",
       "      <td>Brazil</td>\n",
       "      <td>404347</td>\n",
       "      <td>13349</td>\n",
       "      <td>346721.0</td>\n",
       "      <td>44277.0</td>\n",
       "      <td>9756.002815</td>\n",
       "      <td>3.301372</td>\n",
       "    </tr>\n",
       "    <tr>\n",
       "      <th>45</th>\n",
       "      <td>Brazil</td>\n",
       "      <td>1138377</td>\n",
       "      <td>24312</td>\n",
       "      <td>1102758.0</td>\n",
       "      <td>11307.0</td>\n",
       "      <td>7653.950793</td>\n",
       "      <td>2.135672</td>\n",
       "    </tr>\n",
       "  </tbody>\n",
       "</table>\n",
       "</div>"
      ],
      "text/plain": [
       "   Country  Confirmed  Deaths  Recovered   Active  Incident_Rate  \\\n",
       "41  Brazil      85983    1757    82354.0   1872.0    9749.357946   \n",
       "42  Brazil     220022    5433   210634.0   3955.0    6592.701949   \n",
       "43  Brazil     117927    1852    97309.0  18766.0   13943.795368   \n",
       "44  Brazil     404347   13349   346721.0  44277.0    9756.002815   \n",
       "45  Brazil    1138377   24312  1102758.0  11307.0    7653.950793   \n",
       "\n",
       "    Case_Fatality_Ratio  \n",
       "41             2.043427  \n",
       "42             2.469299  \n",
       "43             1.570463  \n",
       "44             3.301372  \n",
       "45             2.135672  "
      ]
     },
     "execution_count": 16,
     "metadata": {},
     "output_type": "execute_result"
    }
   ],
   "source": [
    "df[df.Country == 'Brazil'].head()"
   ]
  },
  {
   "cell_type": "code",
   "execution_count": 17,
   "metadata": {},
   "outputs": [
    {
     "data": {
      "text/html": [
       "<div>\n",
       "<style scoped>\n",
       "    .dataframe tbody tr th:only-of-type {\n",
       "        vertical-align: middle;\n",
       "    }\n",
       "\n",
       "    .dataframe tbody tr th {\n",
       "        vertical-align: top;\n",
       "    }\n",
       "\n",
       "    .dataframe thead th {\n",
       "        text-align: right;\n",
       "    }\n",
       "</style>\n",
       "<table border=\"1\" class=\"dataframe\">\n",
       "  <thead>\n",
       "    <tr style=\"text-align: right;\">\n",
       "      <th></th>\n",
       "      <th>Country</th>\n",
       "      <th>Confirmed</th>\n",
       "      <th>Deaths</th>\n",
       "      <th>Recovered</th>\n",
       "      <th>Active</th>\n",
       "      <th>Incident_Rate</th>\n",
       "      <th>Case_Fatality_Ratio</th>\n",
       "    </tr>\n",
       "  </thead>\n",
       "  <tbody>\n",
       "    <tr>\n",
       "      <th>111</th>\n",
       "      <td>China</td>\n",
       "      <td>1008</td>\n",
       "      <td>6</td>\n",
       "      <td>998.0</td>\n",
       "      <td>4.0</td>\n",
       "      <td>1.593928</td>\n",
       "      <td>0.595238</td>\n",
       "    </tr>\n",
       "    <tr>\n",
       "      <th>112</th>\n",
       "      <td>China</td>\n",
       "      <td>1078</td>\n",
       "      <td>9</td>\n",
       "      <td>1060.0</td>\n",
       "      <td>9.0</td>\n",
       "      <td>5.004643</td>\n",
       "      <td>0.834879</td>\n",
       "    </tr>\n",
       "    <tr>\n",
       "      <th>113</th>\n",
       "      <td>China</td>\n",
       "      <td>601</td>\n",
       "      <td>6</td>\n",
       "      <td>591.0</td>\n",
       "      <td>4.0</td>\n",
       "      <td>1.937460</td>\n",
       "      <td>0.998336</td>\n",
       "    </tr>\n",
       "    <tr>\n",
       "      <th>114</th>\n",
       "      <td>China</td>\n",
       "      <td>689</td>\n",
       "      <td>1</td>\n",
       "      <td>634.0</td>\n",
       "      <td>54.0</td>\n",
       "      <td>1.748287</td>\n",
       "      <td>0.145138</td>\n",
       "    </tr>\n",
       "    <tr>\n",
       "      <th>115</th>\n",
       "      <td>China</td>\n",
       "      <td>195</td>\n",
       "      <td>2</td>\n",
       "      <td>193.0</td>\n",
       "      <td>0.0</td>\n",
       "      <td>0.739477</td>\n",
       "      <td>1.025641</td>\n",
       "    </tr>\n",
       "  </tbody>\n",
       "</table>\n",
       "</div>"
      ],
      "text/plain": [
       "    Country  Confirmed  Deaths  Recovered  Active  Incident_Rate  \\\n",
       "111   China       1008       6      998.0     4.0       1.593928   \n",
       "112   China       1078       9     1060.0     9.0       5.004643   \n",
       "113   China        601       6      591.0     4.0       1.937460   \n",
       "114   China        689       1      634.0    54.0       1.748287   \n",
       "115   China        195       2      193.0     0.0       0.739477   \n",
       "\n",
       "     Case_Fatality_Ratio  \n",
       "111             0.595238  \n",
       "112             0.834879  \n",
       "113             0.998336  \n",
       "114             0.145138  \n",
       "115             1.025641  "
      ]
     },
     "execution_count": 17,
     "metadata": {},
     "output_type": "execute_result"
    }
   ],
   "source": [
    "df[df.Country == 'China'].head()"
   ]
  },
  {
   "cell_type": "code",
   "execution_count": 18,
   "metadata": {},
   "outputs": [
    {
     "data": {
      "text/html": [
       "<div>\n",
       "<style scoped>\n",
       "    .dataframe tbody tr th:only-of-type {\n",
       "        vertical-align: middle;\n",
       "    }\n",
       "\n",
       "    .dataframe tbody tr th {\n",
       "        vertical-align: top;\n",
       "    }\n",
       "\n",
       "    .dataframe thead th {\n",
       "        text-align: right;\n",
       "    }\n",
       "</style>\n",
       "<table border=\"1\" class=\"dataframe\">\n",
       "  <thead>\n",
       "    <tr style=\"text-align: right;\">\n",
       "      <th></th>\n",
       "      <th>Confirmed</th>\n",
       "      <th>Deaths</th>\n",
       "      <th>Recovered</th>\n",
       "      <th>Active</th>\n",
       "      <th>Incident_Rate</th>\n",
       "      <th>Case_Fatality_Ratio</th>\n",
       "    </tr>\n",
       "    <tr>\n",
       "      <th>Country</th>\n",
       "      <th></th>\n",
       "      <th></th>\n",
       "      <th></th>\n",
       "      <th></th>\n",
       "      <th></th>\n",
       "      <th></th>\n",
       "    </tr>\n",
       "  </thead>\n",
       "  <tbody>\n",
       "    <tr>\n",
       "      <th>US</th>\n",
       "      <td>33781561</td>\n",
       "      <td>605208</td>\n",
       "      <td>0.0</td>\n",
       "      <td>0.0</td>\n",
       "      <td>3.246567e+07</td>\n",
       "      <td>10340.407442</td>\n",
       "    </tr>\n",
       "    <tr>\n",
       "      <th>Brazil</th>\n",
       "      <td>18792511</td>\n",
       "      <td>525112</td>\n",
       "      <td>16675561.0</td>\n",
       "      <td>1591838.0</td>\n",
       "      <td>2.824406e+05</td>\n",
       "      <td>67.807120</td>\n",
       "    </tr>\n",
       "    <tr>\n",
       "      <th>India</th>\n",
       "      <td>30619932</td>\n",
       "      <td>403281</td>\n",
       "      <td>29752294.0</td>\n",
       "      <td>464357.0</td>\n",
       "      <td>1.246779e+05</td>\n",
       "      <td>45.141420</td>\n",
       "    </tr>\n",
       "    <tr>\n",
       "      <th>Mexico</th>\n",
       "      <td>2541873</td>\n",
       "      <td>233689</td>\n",
       "      <td>2019048.0</td>\n",
       "      <td>289136.0</td>\n",
       "      <td>6.270464e+04</td>\n",
       "      <td>335.783836</td>\n",
       "    </tr>\n",
       "    <tr>\n",
       "      <th>Peru</th>\n",
       "      <td>2066677</td>\n",
       "      <td>193389</td>\n",
       "      <td>2027878.0</td>\n",
       "      <td>-154590.0</td>\n",
       "      <td>1.488834e+05</td>\n",
       "      <td>222.972576</td>\n",
       "    </tr>\n",
       "    <tr>\n",
       "      <th>Russia</th>\n",
       "      <td>5568104</td>\n",
       "      <td>136279</td>\n",
       "      <td>5024368.0</td>\n",
       "      <td>407457.0</td>\n",
       "      <td>3.075259e+05</td>\n",
       "      <td>195.854916</td>\n",
       "    </tr>\n",
       "    <tr>\n",
       "      <th>United Kingdom</th>\n",
       "      <td>4947274</td>\n",
       "      <td>128495</td>\n",
       "      <td>15777.0</td>\n",
       "      <td>4803002.0</td>\n",
       "      <td>6.032669e+04</td>\n",
       "      <td>22.844108</td>\n",
       "    </tr>\n",
       "    <tr>\n",
       "      <th>Italy</th>\n",
       "      <td>4263797</td>\n",
       "      <td>127680</td>\n",
       "      <td>4092586.0</td>\n",
       "      <td>43531.0</td>\n",
       "      <td>1.470893e+05</td>\n",
       "      <td>60.892512</td>\n",
       "    </tr>\n",
       "    <tr>\n",
       "      <th>France</th>\n",
       "      <td>5849167</td>\n",
       "      <td>111377</td>\n",
       "      <td>406257.0</td>\n",
       "      <td>5331369.0</td>\n",
       "      <td>6.262583e+04</td>\n",
       "      <td>9.402509</td>\n",
       "    </tr>\n",
       "    <tr>\n",
       "      <th>Colombia</th>\n",
       "      <td>4375861</td>\n",
       "      <td>109466</td>\n",
       "      <td>4076013.0</td>\n",
       "      <td>190383.0</td>\n",
       "      <td>2.259707e+05</td>\n",
       "      <td>89.691976</td>\n",
       "    </tr>\n",
       "  </tbody>\n",
       "</table>\n",
       "</div>"
      ],
      "text/plain": [
       "                Confirmed  Deaths   Recovered     Active  Incident_Rate  \\\n",
       "Country                                                                   \n",
       "US               33781561  605208         0.0        0.0   3.246567e+07   \n",
       "Brazil           18792511  525112  16675561.0  1591838.0   2.824406e+05   \n",
       "India            30619932  403281  29752294.0   464357.0   1.246779e+05   \n",
       "Mexico            2541873  233689   2019048.0   289136.0   6.270464e+04   \n",
       "Peru              2066677  193389   2027878.0  -154590.0   1.488834e+05   \n",
       "Russia            5568104  136279   5024368.0   407457.0   3.075259e+05   \n",
       "United Kingdom    4947274  128495     15777.0  4803002.0   6.032669e+04   \n",
       "Italy             4263797  127680   4092586.0    43531.0   1.470893e+05   \n",
       "France            5849167  111377    406257.0  5331369.0   6.262583e+04   \n",
       "Colombia          4375861  109466   4076013.0   190383.0   2.259707e+05   \n",
       "\n",
       "                Case_Fatality_Ratio  \n",
       "Country                              \n",
       "US                     10340.407442  \n",
       "Brazil                    67.807120  \n",
       "India                     45.141420  \n",
       "Mexico                   335.783836  \n",
       "Peru                     222.972576  \n",
       "Russia                   195.854916  \n",
       "United Kingdom            22.844108  \n",
       "Italy                     60.892512  \n",
       "France                     9.402509  \n",
       "Colombia                  89.691976  "
      ]
     },
     "execution_count": 18,
     "metadata": {},
     "output_type": "execute_result"
    }
   ],
   "source": [
    "# check the top 10 countries with most deaths on july 5th 2021\n",
    "df.groupby('Country').sum().sort_values(by='Deaths', ascending=False).head(10)"
   ]
  },
  {
   "cell_type": "code",
   "execution_count": 19,
   "metadata": {},
   "outputs": [
    {
     "data": {
      "text/plain": [
       "<AxesSubplot:title={'center':'Top 10 Countries with Most Deaths on July 5th, 2021'}, xlabel='Country'>"
      ]
     },
     "execution_count": 19,
     "metadata": {},
     "output_type": "execute_result"
    },
    {
     "data": {
      "image/png": "[encoded data removed]",
      "text/plain": [
       "<Figure size 864x720 with 1 Axes>"
      ]
     },
     "metadata": {},
     "output_type": "display_data"
    }
   ],
   "source": [
    "df.groupby('Country').sum().sort_values(by='Deaths', ascending=False).head(10).plot(kind='bar',\n",
    "                                                                                    stacked=True,\n",
    "                                                                                    width=0.8, \n",
    "                                                                                    figsize=(12, 10), \n",
    "                                                                                    rot=0, \n",
    "                                                                                    title='Top 10 Countries with Most Deaths on July 5th, 2021',\n",
    "                                                                                    )"
   ]
  },
  {
   "cell_type": "code",
   "execution_count": 20,
   "metadata": {},
   "outputs": [
    {
     "data": {
      "text/plain": [
       "<AxesSubplot:xlabel='Country'>"
      ]
     },
     "execution_count": 20,
     "metadata": {},
     "output_type": "execute_result"
    },
    {
     "data": {
      "image/png": "[encoded data removed]",
      "text/plain": [
       "<Figure size 432x288 with 1 Axes>"
      ]
     },
     "metadata": {},
     "output_type": "display_data"
    }
   ],
   "source": [
    "df.groupby(df.Country == 'US').sum().sort_values(by='Deaths', ascending=False).plot(kind='bar')"
   ]
  },
  {
   "cell_type": "code",
   "execution_count": 21,
   "metadata": {},
   "outputs": [
    {
     "data": {
      "text/plain": [
       "<AxesSubplot:title={'center':'Deaths in US'}>"
      ]
     },
     "execution_count": 21,
     "metadata": {},
     "output_type": "execute_result"
    },
    {
     "data": {
      "image/png": "[encoded data removed]",
      "text/plain": [
       "<Figure size 864x720 with 1 Axes>"
      ]
     },
     "metadata": {},
     "output_type": "display_data"
    }
   ],
   "source": [
    "df[df.Country == 'US']['Deaths'].plot(kind='line', figsize=(12, 10), rot=0, title='Deaths in US')"
   ]
  },
  {
   "cell_type": "code",
   "execution_count": 22,
   "metadata": {},
   "outputs": [
    {
     "data": {
      "text/plain": [
       "<AxesSubplot:title={'center':'Deaths in Canada'}>"
      ]
     },
     "execution_count": 22,
     "metadata": {},
     "output_type": "execute_result"
    },
    {
     "data": {
      "image/png": "[encoded data removed]",
      "text/plain": [
       "<Figure size 720x576 with 1 Axes>"
      ]
     },
     "metadata": {},
     "output_type": "display_data"
    }
   ],
   "source": [
    "df[df.Country == 'Canada']['Deaths'].plot(kind='line', figsize=(10, 8), title='Deaths in Canada')"
   ]
  },
  {
   "cell_type": "code",
   "execution_count": 23,
   "metadata": {},
   "outputs": [
    {
     "data": {
      "text/plain": [
       "Index(['Country', 'Confirmed', 'Deaths', 'Recovered', 'Active',\n",
       "       'Incident_Rate', 'Case_Fatality_Ratio'],\n",
       "      dtype='object')"
      ]
     },
     "execution_count": 23,
     "metadata": {},
     "output_type": "execute_result"
    }
   ],
   "source": [
    "df.columns"
   ]
  },
  {
   "cell_type": "code",
   "execution_count": 24,
   "metadata": {},
   "outputs": [
    {
     "data": {
      "text/plain": [
       "<AxesSubplot:title={'center':'Confirmed cases in Canada'}>"
      ]
     },
     "execution_count": 24,
     "metadata": {},
     "output_type": "execute_result"
    },
    {
     "data": {
      "image/png": "[encoded data removed]",
      "text/plain": [
       "<Figure size 720x576 with 1 Axes>"
      ]
     },
     "metadata": {},
     "output_type": "display_data"
    }
   ],
   "source": [
    "df[df.Country == 'Canada']['Confirmed'].plot(kind='line', figsize=(10, 8), title='Confirmed cases in Canada')"
   ]
  },
  {
   "cell_type": "code",
   "execution_count": 25,
   "metadata": {},
   "outputs": [
    {
     "data": {
      "text/plain": [
       "Index(['Country', 'Confirmed', 'Deaths', 'Recovered', 'Active',\n",
       "       'Incident_Rate', 'Case_Fatality_Ratio'],\n",
       "      dtype='object')"
      ]
     },
     "execution_count": 25,
     "metadata": {},
     "output_type": "execute_result"
    }
   ],
   "source": [
    "df.columns"
   ]
  },
  {
   "cell_type": "code",
   "execution_count": 26,
   "metadata": {},
   "outputs": [],
   "source": [
    "df.drop(['Incident_Rate', 'Case_Fatality_Ratio'], axis=1, inplace=True)"
   ]
  },
  {
   "cell_type": "code",
   "execution_count": 27,
   "metadata": {},
   "outputs": [
    {
     "data": {
      "text/plain": [
       "Index(['Country', 'Confirmed', 'Deaths', 'Recovered', 'Active'], dtype='object')"
      ]
     },
     "execution_count": 27,
     "metadata": {},
     "output_type": "execute_result"
    }
   ],
   "source": [
    "df.columns"
   ]
  },
  {
   "cell_type": "code",
   "execution_count": 28,
   "metadata": {},
   "outputs": [],
   "source": [
    "df_us = df[df.Country == 'US']"
   ]
  },
  {
   "cell_type": "code",
   "execution_count": 29,
   "metadata": {},
   "outputs": [
    {
     "data": {
      "text/html": [
       "<div>\n",
       "<style scoped>\n",
       "    .dataframe tbody tr th:only-of-type {\n",
       "        vertical-align: middle;\n",
       "    }\n",
       "\n",
       "    .dataframe tbody tr th {\n",
       "        vertical-align: top;\n",
       "    }\n",
       "\n",
       "    .dataframe thead th {\n",
       "        text-align: right;\n",
       "    }\n",
       "</style>\n",
       "<table border=\"1\" class=\"dataframe\">\n",
       "  <thead>\n",
       "    <tr style=\"text-align: right;\">\n",
       "      <th></th>\n",
       "      <th>Country</th>\n",
       "      <th>Confirmed</th>\n",
       "      <th>Deaths</th>\n",
       "      <th>Recovered</th>\n",
       "      <th>Active</th>\n",
       "    </tr>\n",
       "  </thead>\n",
       "  <tbody>\n",
       "    <tr>\n",
       "      <th>655</th>\n",
       "      <td>US</td>\n",
       "      <td>7262</td>\n",
       "      <td>113</td>\n",
       "      <td>NaN</td>\n",
       "      <td>NaN</td>\n",
       "    </tr>\n",
       "    <tr>\n",
       "      <th>656</th>\n",
       "      <td>US</td>\n",
       "      <td>22043</td>\n",
       "      <td>315</td>\n",
       "      <td>NaN</td>\n",
       "      <td>NaN</td>\n",
       "    </tr>\n",
       "    <tr>\n",
       "      <th>657</th>\n",
       "      <td>US</td>\n",
       "      <td>2347</td>\n",
       "      <td>60</td>\n",
       "      <td>NaN</td>\n",
       "      <td>NaN</td>\n",
       "    </tr>\n",
       "    <tr>\n",
       "      <th>658</th>\n",
       "      <td>US</td>\n",
       "      <td>2693</td>\n",
       "      <td>64</td>\n",
       "      <td>NaN</td>\n",
       "      <td>NaN</td>\n",
       "    </tr>\n",
       "    <tr>\n",
       "      <th>659</th>\n",
       "      <td>US</td>\n",
       "      <td>6988</td>\n",
       "      <td>139</td>\n",
       "      <td>NaN</td>\n",
       "      <td>NaN</td>\n",
       "    </tr>\n",
       "  </tbody>\n",
       "</table>\n",
       "</div>"
      ],
      "text/plain": [
       "    Country  Confirmed  Deaths  Recovered  Active\n",
       "655      US       7262     113        NaN     NaN\n",
       "656      US      22043     315        NaN     NaN\n",
       "657      US       2347      60        NaN     NaN\n",
       "658      US       2693      64        NaN     NaN\n",
       "659      US       6988     139        NaN     NaN"
      ]
     },
     "execution_count": 29,
     "metadata": {},
     "output_type": "execute_result"
    }
   ],
   "source": [
    "df_us.head()"
   ]
  },
  {
   "cell_type": "code",
   "execution_count": 30,
   "metadata": {},
   "outputs": [],
   "source": [
    "df_canada = df[df.Country == 'Canada']"
   ]
  },
  {
   "cell_type": "code",
   "execution_count": 31,
   "metadata": {},
   "outputs": [
    {
     "data": {
      "text/html": [
       "<div>\n",
       "<style scoped>\n",
       "    .dataframe tbody tr th:only-of-type {\n",
       "        vertical-align: middle;\n",
       "    }\n",
       "\n",
       "    .dataframe tbody tr th {\n",
       "        vertical-align: top;\n",
       "    }\n",
       "\n",
       "    .dataframe thead th {\n",
       "        text-align: right;\n",
       "    }\n",
       "</style>\n",
       "<table border=\"1\" class=\"dataframe\">\n",
       "  <thead>\n",
       "    <tr style=\"text-align: right;\">\n",
       "      <th></th>\n",
       "      <th>Country</th>\n",
       "      <th>Confirmed</th>\n",
       "      <th>Deaths</th>\n",
       "      <th>Recovered</th>\n",
       "      <th>Active</th>\n",
       "    </tr>\n",
       "  </thead>\n",
       "  <tbody>\n",
       "    <tr>\n",
       "      <th>76</th>\n",
       "      <td>Canada</td>\n",
       "      <td>232236</td>\n",
       "      <td>2303</td>\n",
       "      <td>229102.0</td>\n",
       "      <td>831.0</td>\n",
       "    </tr>\n",
       "    <tr>\n",
       "      <th>77</th>\n",
       "      <td>Canada</td>\n",
       "      <td>147790</td>\n",
       "      <td>1759</td>\n",
       "      <td>145362.0</td>\n",
       "      <td>669.0</td>\n",
       "    </tr>\n",
       "    <tr>\n",
       "      <th>78</th>\n",
       "      <td>Canada</td>\n",
       "      <td>0</td>\n",
       "      <td>1</td>\n",
       "      <td>0.0</td>\n",
       "      <td>NaN</td>\n",
       "    </tr>\n",
       "    <tr>\n",
       "      <th>79</th>\n",
       "      <td>Canada</td>\n",
       "      <td>13</td>\n",
       "      <td>0</td>\n",
       "      <td>13.0</td>\n",
       "      <td>0.0</td>\n",
       "    </tr>\n",
       "    <tr>\n",
       "      <th>80</th>\n",
       "      <td>Canada</td>\n",
       "      <td>56482</td>\n",
       "      <td>1151</td>\n",
       "      <td>54309.0</td>\n",
       "      <td>1022.0</td>\n",
       "    </tr>\n",
       "  </tbody>\n",
       "</table>\n",
       "</div>"
      ],
      "text/plain": [
       "   Country  Confirmed  Deaths  Recovered  Active\n",
       "76  Canada     232236    2303   229102.0   831.0\n",
       "77  Canada     147790    1759   145362.0   669.0\n",
       "78  Canada          0       1        0.0     NaN\n",
       "79  Canada         13       0       13.0     0.0\n",
       "80  Canada      56482    1151    54309.0  1022.0"
      ]
     },
     "execution_count": 31,
     "metadata": {},
     "output_type": "execute_result"
    }
   ],
   "source": [
    "df_canada.head()"
   ]
  },
  {
   "cell_type": "code",
   "execution_count": 32,
   "metadata": {},
   "outputs": [],
   "source": [
    "# put the dataframes together\n",
    "df_north_america = pd.concat([df_us, df_canada], axis=0)"
   ]
  },
  {
   "cell_type": "code",
   "execution_count": 33,
   "metadata": {},
   "outputs": [
    {
     "data": {
      "text/html": [
       "<div>\n",
       "<style scoped>\n",
       "    .dataframe tbody tr th:only-of-type {\n",
       "        vertical-align: middle;\n",
       "    }\n",
       "\n",
       "    .dataframe tbody tr th {\n",
       "        vertical-align: top;\n",
       "    }\n",
       "\n",
       "    .dataframe thead th {\n",
       "        text-align: right;\n",
       "    }\n",
       "</style>\n",
       "<table border=\"1\" class=\"dataframe\">\n",
       "  <thead>\n",
       "    <tr style=\"text-align: right;\">\n",
       "      <th></th>\n",
       "      <th>Country</th>\n",
       "      <th>Confirmed</th>\n",
       "      <th>Deaths</th>\n",
       "      <th>Recovered</th>\n",
       "      <th>Active</th>\n",
       "    </tr>\n",
       "  </thead>\n",
       "  <tbody>\n",
       "    <tr>\n",
       "      <th>655</th>\n",
       "      <td>US</td>\n",
       "      <td>7262</td>\n",
       "      <td>113</td>\n",
       "      <td>NaN</td>\n",
       "      <td>NaN</td>\n",
       "    </tr>\n",
       "    <tr>\n",
       "      <th>656</th>\n",
       "      <td>US</td>\n",
       "      <td>22043</td>\n",
       "      <td>315</td>\n",
       "      <td>NaN</td>\n",
       "      <td>NaN</td>\n",
       "    </tr>\n",
       "    <tr>\n",
       "      <th>657</th>\n",
       "      <td>US</td>\n",
       "      <td>2347</td>\n",
       "      <td>60</td>\n",
       "      <td>NaN</td>\n",
       "      <td>NaN</td>\n",
       "    </tr>\n",
       "    <tr>\n",
       "      <th>658</th>\n",
       "      <td>US</td>\n",
       "      <td>2693</td>\n",
       "      <td>64</td>\n",
       "      <td>NaN</td>\n",
       "      <td>NaN</td>\n",
       "    </tr>\n",
       "    <tr>\n",
       "      <th>659</th>\n",
       "      <td>US</td>\n",
       "      <td>6988</td>\n",
       "      <td>139</td>\n",
       "      <td>NaN</td>\n",
       "      <td>NaN</td>\n",
       "    </tr>\n",
       "    <tr>\n",
       "      <th>660</th>\n",
       "      <td>US</td>\n",
       "      <td>1250</td>\n",
       "      <td>42</td>\n",
       "      <td>NaN</td>\n",
       "      <td>NaN</td>\n",
       "    </tr>\n",
       "    <tr>\n",
       "      <th>661</th>\n",
       "      <td>US</td>\n",
       "      <td>2264</td>\n",
       "      <td>71</td>\n",
       "      <td>NaN</td>\n",
       "      <td>NaN</td>\n",
       "    </tr>\n",
       "    <tr>\n",
       "      <th>662</th>\n",
       "      <td>US</td>\n",
       "      <td>14778</td>\n",
       "      <td>330</td>\n",
       "      <td>NaN</td>\n",
       "      <td>NaN</td>\n",
       "    </tr>\n",
       "    <tr>\n",
       "      <th>663</th>\n",
       "      <td>US</td>\n",
       "      <td>3738</td>\n",
       "      <td>123</td>\n",
       "      <td>NaN</td>\n",
       "      <td>NaN</td>\n",
       "    </tr>\n",
       "    <tr>\n",
       "      <th>664</th>\n",
       "      <td>US</td>\n",
       "      <td>1874</td>\n",
       "      <td>45</td>\n",
       "      <td>NaN</td>\n",
       "      <td>NaN</td>\n",
       "    </tr>\n",
       "    <tr>\n",
       "      <th>665</th>\n",
       "      <td>US</td>\n",
       "      <td>4481</td>\n",
       "      <td>116</td>\n",
       "      <td>NaN</td>\n",
       "      <td>NaN</td>\n",
       "    </tr>\n",
       "    <tr>\n",
       "      <th>666</th>\n",
       "      <td>US</td>\n",
       "      <td>624</td>\n",
       "      <td>25</td>\n",
       "      <td>NaN</td>\n",
       "      <td>NaN</td>\n",
       "    </tr>\n",
       "    <tr>\n",
       "      <th>667</th>\n",
       "      <td>US</td>\n",
       "      <td>3531</td>\n",
       "      <td>61</td>\n",
       "      <td>NaN</td>\n",
       "      <td>NaN</td>\n",
       "    </tr>\n",
       "    <tr>\n",
       "      <th>668</th>\n",
       "      <td>US</td>\n",
       "      <td>1603</td>\n",
       "      <td>59</td>\n",
       "      <td>NaN</td>\n",
       "      <td>NaN</td>\n",
       "    </tr>\n",
       "    <tr>\n",
       "      <th>669</th>\n",
       "      <td>US</td>\n",
       "      <td>1542</td>\n",
       "      <td>43</td>\n",
       "      <td>NaN</td>\n",
       "      <td>NaN</td>\n",
       "    </tr>\n",
       "    <tr>\n",
       "      <th>670</th>\n",
       "      <td>US</td>\n",
       "      <td>5684</td>\n",
       "      <td>129</td>\n",
       "      <td>NaN</td>\n",
       "      <td>NaN</td>\n",
       "    </tr>\n",
       "    <tr>\n",
       "      <th>671</th>\n",
       "      <td>US</td>\n",
       "      <td>6430</td>\n",
       "      <td>140</td>\n",
       "      <td>NaN</td>\n",
       "      <td>NaN</td>\n",
       "    </tr>\n",
       "    <tr>\n",
       "      <th>672</th>\n",
       "      <td>US</td>\n",
       "      <td>1146</td>\n",
       "      <td>30</td>\n",
       "      <td>NaN</td>\n",
       "      <td>NaN</td>\n",
       "    </tr>\n",
       "    <tr>\n",
       "      <th>673</th>\n",
       "      <td>US</td>\n",
       "      <td>1123</td>\n",
       "      <td>29</td>\n",
       "      <td>NaN</td>\n",
       "      <td>NaN</td>\n",
       "    </tr>\n",
       "    <tr>\n",
       "      <th>674</th>\n",
       "      <td>US</td>\n",
       "      <td>4320</td>\n",
       "      <td>124</td>\n",
       "      <td>NaN</td>\n",
       "      <td>NaN</td>\n",
       "    </tr>\n",
       "  </tbody>\n",
       "</table>\n",
       "</div>"
      ],
      "text/plain": [
       "    Country  Confirmed  Deaths  Recovered  Active\n",
       "655      US       7262     113        NaN     NaN\n",
       "656      US      22043     315        NaN     NaN\n",
       "657      US       2347      60        NaN     NaN\n",
       "658      US       2693      64        NaN     NaN\n",
       "659      US       6988     139        NaN     NaN\n",
       "660      US       1250      42        NaN     NaN\n",
       "661      US       2264      71        NaN     NaN\n",
       "662      US      14778     330        NaN     NaN\n",
       "663      US       3738     123        NaN     NaN\n",
       "664      US       1874      45        NaN     NaN\n",
       "665      US       4481     116        NaN     NaN\n",
       "666      US        624      25        NaN     NaN\n",
       "667      US       3531      61        NaN     NaN\n",
       "668      US       1603      59        NaN     NaN\n",
       "669      US       1542      43        NaN     NaN\n",
       "670      US       5684     129        NaN     NaN\n",
       "671      US       6430     140        NaN     NaN\n",
       "672      US       1146      30        NaN     NaN\n",
       "673      US       1123      29        NaN     NaN\n",
       "674      US       4320     124        NaN     NaN"
      ]
     },
     "execution_count": 33,
     "metadata": {},
     "output_type": "execute_result"
    }
   ],
   "source": [
    "df_north_america.head(20)"
   ]
  },
  {
   "cell_type": "code",
   "execution_count": 34,
   "metadata": {},
   "outputs": [
    {
     "name": "stdout",
     "output_type": "stream",
     "text": [
      "<class 'pandas.core.frame.DataFrame'>\n",
      "Int64Index: 3293 entries, 655 to 91\n",
      "Data columns (total 5 columns):\n",
      " #   Column     Non-Null Count  Dtype  \n",
      "---  ------     --------------  -----  \n",
      " 0   Country    3293 non-null   object \n",
      " 1   Confirmed  3293 non-null   int64  \n",
      " 2   Deaths     3293 non-null   int64  \n",
      " 3   Recovered  16 non-null     float64\n",
      " 4   Active     15 non-null     float64\n",
      "dtypes: float64(2), int64(2), object(1)\n",
      "memory usage: 154.4+ KB\n"
     ]
    }
   ],
   "source": [
    "df_north_america.info()"
   ]
  },
  {
   "cell_type": "code",
   "execution_count": 35,
   "metadata": {},
   "outputs": [
    {
     "data": {
      "text/plain": [
       "<AxesSubplot:xlabel='Country'>"
      ]
     },
     "execution_count": 35,
     "metadata": {},
     "output_type": "execute_result"
    },
    {
     "data": {
      "image/png": "[encoded data removed]",
      "text/plain": [
       "<Figure size 432x288 with 1 Axes>"
      ]
     },
     "metadata": {},
     "output_type": "display_data"
    }
   ],
   "source": [
    "# make a bar chart of the deaths in north america\n",
    "df_north_america.groupby('Country').sum().sort_values(by='Confirmed', ascending=False).plot(kind='bar')"
   ]
  },
  {
   "cell_type": "code",
   "execution_count": 36,
   "metadata": {},
   "outputs": [
    {
     "data": {
      "text/plain": [
       "<AxesSubplot:xlabel='Country', ylabel='Deaths'>"
      ]
     },
     "execution_count": 36,
     "metadata": {},
     "output_type": "execute_result"
    },
    {
     "data": {
      "image/png": "[encoded data removed]",
      "text/plain": [
       "<Figure size 432x288 with 1 Axes>"
      ]
     },
     "metadata": {},
     "output_type": "display_data"
    }
   ],
   "source": [
    "sns.barplot(x='Country', y='Deaths', data=df_north_america)"
   ]
  },
  {
   "cell_type": "code",
   "execution_count": 37,
   "metadata": {},
   "outputs": [
    {
     "data": {
      "text/plain": [
       "<AxesSubplot:xlabel='Country', ylabel='Deaths'>"
      ]
     },
     "execution_count": 37,
     "metadata": {},
     "output_type": "execute_result"
    },
    {
     "data": {
      "image/png": "[encoded data removed]",
      "text/plain": [
       "<Figure size 432x288 with 1 Axes>"
      ]
     },
     "metadata": {},
     "output_type": "display_data"
    }
   ],
   "source": [
    "sns.histplot(x='Country', y='Deaths', data=df_north_america)"
   ]
  },
  {
   "cell_type": "code",
   "execution_count": 38,
   "metadata": {},
   "outputs": [
    {
     "data": {
      "text/plain": [
       "<AxesSubplot:xlabel='Country', ylabel='Deaths'>"
      ]
     },
     "execution_count": 38,
     "metadata": {},
     "output_type": "execute_result"
    },
    {
     "data": {
      "image/png": "[encoded data removed]",
      "text/plain": [
       "<Figure size 432x288 with 1 Axes>"
      ]
     },
     "metadata": {},
     "output_type": "display_data"
    }
   ],
   "source": [
    "sns.lineplot(x='Country', y='Deaths', data=df_north_america)"
   ]
  },
  {
   "cell_type": "code",
   "execution_count": 39,
   "metadata": {},
   "outputs": [
    {
     "data": {
      "text/plain": [
       "<seaborn.axisgrid.FacetGrid at 0x12337a320>"
      ]
     },
     "execution_count": 39,
     "metadata": {},
     "output_type": "execute_result"
    },
    {
     "data": {
      "image/png": "[encoded data removed]",
      "text/plain": [
       "<Figure size 431.25x360 with 1 Axes>"
      ]
     },
     "metadata": {},
     "output_type": "display_data"
    }
   ],
   "source": [
    "sns.FacetGrid(df_north_america, hue='Country', height=5).map(plt.scatter, 'Confirmed', 'Deaths').add_legend()"
   ]
  },
  {
   "cell_type": "code",
   "execution_count": 40,
   "metadata": {},
   "outputs": [
    {
     "data": {
      "text/plain": [
       "<AxesSubplot:xlabel='Country', ylabel='Deaths'>"
      ]
     },
     "execution_count": 40,
     "metadata": {},
     "output_type": "execute_result"
    },
    {
     "data": {
      "image/png": "[encoded data removed]",
      "text/plain": [
       "<Figure size 432x288 with 1 Axes>"
      ]
     },
     "metadata": {},
     "output_type": "display_data"
    }
   ],
   "source": [
    "sns.boxplot(x='Country', y='Deaths', data=df_north_america)"
   ]
  },
  {
   "cell_type": "code",
   "execution_count": 41,
   "metadata": {},
   "outputs": [],
   "source": [
    "columns = ['Confirmed', 'Deaths', 'Recovered', 'Active']\n",
    "world_df = df.groupby('Country')[columns].sum().reset_index()"
   ]
  },
  {
   "cell_type": "code",
   "execution_count": 42,
   "metadata": {},
   "outputs": [
    {
     "data": {
      "text/html": [
       "<div>\n",
       "<style scoped>\n",
       "    .dataframe tbody tr th:only-of-type {\n",
       "        vertical-align: middle;\n",
       "    }\n",
       "\n",
       "    .dataframe tbody tr th {\n",
       "        vertical-align: top;\n",
       "    }\n",
       "\n",
       "    .dataframe thead th {\n",
       "        text-align: right;\n",
       "    }\n",
       "</style>\n",
       "<table border=\"1\" class=\"dataframe\">\n",
       "  <thead>\n",
       "    <tr style=\"text-align: right;\">\n",
       "      <th></th>\n",
       "      <th>Country</th>\n",
       "      <th>Confirmed</th>\n",
       "      <th>Deaths</th>\n",
       "      <th>Recovered</th>\n",
       "      <th>Active</th>\n",
       "    </tr>\n",
       "  </thead>\n",
       "  <tbody>\n",
       "    <tr>\n",
       "      <th>0</th>\n",
       "      <td>Afghanistan</td>\n",
       "      <td>125937</td>\n",
       "      <td>5283</td>\n",
       "      <td>75314.0</td>\n",
       "      <td>45340.0</td>\n",
       "    </tr>\n",
       "    <tr>\n",
       "      <th>1</th>\n",
       "      <td>Albania</td>\n",
       "      <td>132537</td>\n",
       "      <td>2456</td>\n",
       "      <td>130029.0</td>\n",
       "      <td>52.0</td>\n",
       "    </tr>\n",
       "    <tr>\n",
       "      <th>2</th>\n",
       "      <td>Algeria</td>\n",
       "      <td>141966</td>\n",
       "      <td>3765</td>\n",
       "      <td>98748.0</td>\n",
       "      <td>39453.0</td>\n",
       "    </tr>\n",
       "    <tr>\n",
       "      <th>3</th>\n",
       "      <td>Andorra</td>\n",
       "      <td>13918</td>\n",
       "      <td>127</td>\n",
       "      <td>13721.0</td>\n",
       "      <td>70.0</td>\n",
       "    </tr>\n",
       "    <tr>\n",
       "      <th>4</th>\n",
       "      <td>Angola</td>\n",
       "      <td>39300</td>\n",
       "      <td>915</td>\n",
       "      <td>33739.0</td>\n",
       "      <td>4646.0</td>\n",
       "    </tr>\n",
       "  </tbody>\n",
       "</table>\n",
       "</div>"
      ],
      "text/plain": [
       "       Country  Confirmed  Deaths  Recovered   Active\n",
       "0  Afghanistan     125937    5283    75314.0  45340.0\n",
       "1      Albania     132537    2456   130029.0     52.0\n",
       "2      Algeria     141966    3765    98748.0  39453.0\n",
       "3      Andorra      13918     127    13721.0     70.0\n",
       "4       Angola      39300     915    33739.0   4646.0"
      ]
     },
     "execution_count": 42,
     "metadata": {},
     "output_type": "execute_result"
    }
   ],
   "source": [
    "world_df.head()"
   ]
  },
  {
   "cell_type": "code",
   "execution_count": 43,
   "metadata": {},
   "outputs": [
    {
     "data": {
      "text/html": [
       "<div>\n",
       "<style scoped>\n",
       "    .dataframe tbody tr th:only-of-type {\n",
       "        vertical-align: middle;\n",
       "    }\n",
       "\n",
       "    .dataframe tbody tr th {\n",
       "        vertical-align: top;\n",
       "    }\n",
       "\n",
       "    .dataframe thead th {\n",
       "        text-align: right;\n",
       "    }\n",
       "</style>\n",
       "<table border=\"1\" class=\"dataframe\">\n",
       "  <thead>\n",
       "    <tr style=\"text-align: right;\">\n",
       "      <th></th>\n",
       "      <th>Country</th>\n",
       "      <th>Confirmed</th>\n",
       "      <th>Deaths</th>\n",
       "      <th>Recovered</th>\n",
       "      <th>Active</th>\n",
       "    </tr>\n",
       "  </thead>\n",
       "  <tbody>\n",
       "    <tr>\n",
       "      <th>181</th>\n",
       "      <td>US</td>\n",
       "      <td>33781561</td>\n",
       "      <td>605208</td>\n",
       "      <td>0.0</td>\n",
       "      <td>0.0</td>\n",
       "    </tr>\n",
       "    <tr>\n",
       "      <th>79</th>\n",
       "      <td>India</td>\n",
       "      <td>30619932</td>\n",
       "      <td>403281</td>\n",
       "      <td>29752294.0</td>\n",
       "      <td>464357.0</td>\n",
       "    </tr>\n",
       "    <tr>\n",
       "      <th>23</th>\n",
       "      <td>Brazil</td>\n",
       "      <td>18792511</td>\n",
       "      <td>525112</td>\n",
       "      <td>16675561.0</td>\n",
       "      <td>1591838.0</td>\n",
       "    </tr>\n",
       "    <tr>\n",
       "      <th>62</th>\n",
       "      <td>France</td>\n",
       "      <td>5849167</td>\n",
       "      <td>111377</td>\n",
       "      <td>406257.0</td>\n",
       "      <td>5331369.0</td>\n",
       "    </tr>\n",
       "    <tr>\n",
       "      <th>144</th>\n",
       "      <td>Russia</td>\n",
       "      <td>5568104</td>\n",
       "      <td>136279</td>\n",
       "      <td>5024368.0</td>\n",
       "      <td>407457.0</td>\n",
       "    </tr>\n",
       "    <tr>\n",
       "      <th>180</th>\n",
       "      <td>Turkey</td>\n",
       "      <td>5449464</td>\n",
       "      <td>49959</td>\n",
       "      <td>5319665.0</td>\n",
       "      <td>79725.0</td>\n",
       "    </tr>\n",
       "    <tr>\n",
       "      <th>185</th>\n",
       "      <td>United Kingdom</td>\n",
       "      <td>4947274</td>\n",
       "      <td>128495</td>\n",
       "      <td>15777.0</td>\n",
       "      <td>4803002.0</td>\n",
       "    </tr>\n",
       "    <tr>\n",
       "      <th>6</th>\n",
       "      <td>Argentina</td>\n",
       "      <td>4552750</td>\n",
       "      <td>96521</td>\n",
       "      <td>4175856.0</td>\n",
       "      <td>280373.0</td>\n",
       "    </tr>\n",
       "    <tr>\n",
       "      <th>37</th>\n",
       "      <td>Colombia</td>\n",
       "      <td>4375861</td>\n",
       "      <td>109466</td>\n",
       "      <td>4076013.0</td>\n",
       "      <td>190383.0</td>\n",
       "    </tr>\n",
       "    <tr>\n",
       "      <th>85</th>\n",
       "      <td>Italy</td>\n",
       "      <td>4263797</td>\n",
       "      <td>127680</td>\n",
       "      <td>4092586.0</td>\n",
       "      <td>43531.0</td>\n",
       "    </tr>\n",
       "  </tbody>\n",
       "</table>\n",
       "</div>"
      ],
      "text/plain": [
       "            Country  Confirmed  Deaths   Recovered     Active\n",
       "181              US   33781561  605208         0.0        0.0\n",
       "79            India   30619932  403281  29752294.0   464357.0\n",
       "23           Brazil   18792511  525112  16675561.0  1591838.0\n",
       "62           France    5849167  111377    406257.0  5331369.0\n",
       "144          Russia    5568104  136279   5024368.0   407457.0\n",
       "180          Turkey    5449464   49959   5319665.0    79725.0\n",
       "185  United Kingdom    4947274  128495     15777.0  4803002.0\n",
       "6         Argentina    4552750   96521   4175856.0   280373.0\n",
       "37         Colombia    4375861  109466   4076013.0   190383.0\n",
       "85            Italy    4263797  127680   4092586.0    43531.0"
      ]
     },
     "execution_count": 43,
     "metadata": {},
     "output_type": "execute_result"
    }
   ],
   "source": [
    "# top 10 countries with most confirmed cases\n",
    "world_df.sort_values(by='Confirmed', ascending=False).head(10)"
   ]
  },
  {
   "cell_type": "code",
   "execution_count": 44,
   "metadata": {},
   "outputs": [
    {
     "data": {
      "text/html": [
       "<div>\n",
       "<style scoped>\n",
       "    .dataframe tbody tr th:only-of-type {\n",
       "        vertical-align: middle;\n",
       "    }\n",
       "\n",
       "    .dataframe tbody tr th {\n",
       "        vertical-align: top;\n",
       "    }\n",
       "\n",
       "    .dataframe thead th {\n",
       "        text-align: right;\n",
       "    }\n",
       "</style>\n",
       "<table border=\"1\" class=\"dataframe\">\n",
       "  <thead>\n",
       "    <tr style=\"text-align: right;\">\n",
       "      <th></th>\n",
       "      <th>Country</th>\n",
       "      <th>Confirmed</th>\n",
       "      <th>Deaths</th>\n",
       "      <th>Recovered</th>\n",
       "      <th>Active</th>\n",
       "    </tr>\n",
       "  </thead>\n",
       "  <tbody>\n",
       "    <tr>\n",
       "      <th>181</th>\n",
       "      <td>US</td>\n",
       "      <td>33781561</td>\n",
       "      <td>605208</td>\n",
       "      <td>0.0</td>\n",
       "      <td>0.0</td>\n",
       "    </tr>\n",
       "  </tbody>\n",
       "</table>\n",
       "</div>"
      ],
      "text/plain": [
       "    Country  Confirmed  Deaths  Recovered  Active\n",
       "181      US   33781561  605208        0.0     0.0"
      ]
     },
     "execution_count": 44,
     "metadata": {},
     "output_type": "execute_result"
    }
   ],
   "source": [
    "world_df[world_df.Country == 'US'].head()"
   ]
  },
  {
   "cell_type": "code",
   "execution_count": 45,
   "metadata": {},
   "outputs": [
    {
     "data": {
      "text/html": [
       "<div>\n",
       "<style scoped>\n",
       "    .dataframe tbody tr th:only-of-type {\n",
       "        vertical-align: middle;\n",
       "    }\n",
       "\n",
       "    .dataframe tbody tr th {\n",
       "        vertical-align: top;\n",
       "    }\n",
       "\n",
       "    .dataframe thead th {\n",
       "        text-align: right;\n",
       "    }\n",
       "</style>\n",
       "<table border=\"1\" class=\"dataframe\">\n",
       "  <thead>\n",
       "    <tr style=\"text-align: right;\">\n",
       "      <th></th>\n",
       "      <th>Country</th>\n",
       "      <th>Confirmed</th>\n",
       "      <th>Deaths</th>\n",
       "      <th>Recovered</th>\n",
       "      <th>Active</th>\n",
       "    </tr>\n",
       "  </thead>\n",
       "  <tbody>\n",
       "    <tr>\n",
       "      <th>32</th>\n",
       "      <td>Canada</td>\n",
       "      <td>1425594</td>\n",
       "      <td>26369</td>\n",
       "      <td>1393150.0</td>\n",
       "      <td>5782.0</td>\n",
       "    </tr>\n",
       "  </tbody>\n",
       "</table>\n",
       "</div>"
      ],
      "text/plain": [
       "   Country  Confirmed  Deaths  Recovered  Active\n",
       "32  Canada    1425594   26369  1393150.0  5782.0"
      ]
     },
     "execution_count": 45,
     "metadata": {},
     "output_type": "execute_result"
    }
   ],
   "source": [
    "world_df[world_df.Country == 'Canada'].head()"
   ]
  },
  {
   "cell_type": "code",
   "execution_count": 46,
   "metadata": {},
   "outputs": [],
   "source": [
    "import plotly.express as px"
   ]
  },
  {
   "cell_type": "code",
   "execution_count": 47,
   "metadata": {},
   "outputs": [
    {
     "data": {
      "application/vnd.plotly.v1+json": {
       "config": {
        "plotlyServerURL": "https://plot.ly"
       },
       "data": [
        {
         "customdata": [
          [
           125937,
           45340,
           75314,
           5283
          ],
          [
           132537,
           52,
           130029,
           2456
          ],
          [
           141966,
           39453,
           98748,
           3765
          ],
          [
           13918,
           70,
           13721,
           127
          ],
          [
           39300,
           4646,
           33739,
           915
          ],
          [
           1264,
           0,
           1222,
           42
          ],
          [
           4552750,
           280373,
           4175856,
           96521
          ],
          [
           225606,
           3881,
           217198,
           4527
          ],
          [
           30831,
           6078,
           23843,
           910
          ],
          [
           650817,
           1726,
           638378,
           10713
          ],
          [
           336479,
           1035,
           330466,
           4978
          ],
          [
           12808,
           933,
           11629,
           246
          ],
          [
           266557,
           1821,
           263373,
           1363
          ],
          [
           954881,
           100570,
           839082,
           15229
          ],
          [
           4086,
           31,
           4008,
           47
          ],
          [
           421964,
           3822,
           414948,
           3194
          ],
          [
           1088363,
           1063173,
           0,
           25190
          ],
          [
           13391,
           332,
           12729,
           330
          ],
          [
           8199,
           95,
           8000,
           104
          ],
          [
           2169,
           288,
           1880,
           1
          ],
          [
           446362,
           58999,
           370378,
           16985
          ],
          [
           205047,
           11717,
           183663,
           9667
          ],
          [
           73977,
           4720,
           68069,
           1188
          ],
          [
           18792511,
           1591838,
           16675561,
           525112
          ],
          [
           262,
           9,
           250,
           3
          ],
          [
           422151,
           8417,
           395609,
           18125
          ],
          [
           13494,
           13,
           13313,
           168
          ],
          [
           168374,
           25440,
           139473,
           3461
          ],
          [
           5521,
           4740,
           773,
           8
          ],
          [
           32745,
           551,
           31906,
           288
          ],
          [
           55187,
           7053,
           47386,
           748
          ],
          [
           80858,
           44273,
           35261,
           1324
          ],
          [
           1425594,
           5782,
           1393150,
           26369
          ],
          [
           7141,
           184,
           6859,
           98
          ],
          [
           4952,
           2,
           4776,
           174
          ],
          [
           1572608,
           22056,
           1517303,
           33249
          ],
          [
           103890,
           515,
           98527,
           4848
          ],
          [
           4375861,
           190383,
           4076013,
           109466
          ],
          [
           3958,
           46,
           3766,
           146
          ],
          [
           12790,
           864,
           11759,
           167
          ],
          [
           42617,
           13132,
           28523,
           962
          ],
          [
           374324,
           69690,
           299908,
           4726
          ],
          [
           48580,
           295,
           47970,
           315
          ],
          [
           360246,
           499,
           351528,
           8219
          ],
          [
           207322,
           19169,
           186781,
           1372
          ],
          [
           79529,
           39368,
           39061,
           380
          ],
          [
           1668040,
           1550,
           1636179,
           30311
          ],
          [
           296489,
           3913,
           290038,
           2538
          ],
          [
           712,
           0,
           699,
           13
          ],
          [
           11606,
           5,
           11446,
           155
          ],
          [
           194,
           3,
           191,
           0
          ],
          [
           329531,
           55619,
           270055,
           3857
          ],
          [
           462649,
           9550,
           431404,
           21695
          ],
          [
           282257,
           51121,
           214852,
           16284
          ],
          [
           80235,
           4236,
           73590,
           2409
          ],
          [
           8759,
           84,
           8553,
           122
          ],
          [
           6127,
           294,
           5808,
           25
          ],
          [
           131207,
           2353,
           127584,
           1270
          ],
          [
           19084,
           299,
           18107,
           678
          ],
          [
           276503,
           11015,
           261156,
           4332
          ],
          [
           6513,
           5193,
           1287,
           33
          ],
          [
           96569,
           49596,
           46000,
           973
          ],
          [
           5849167,
           5331369,
           406257,
           111377
          ],
          [
           25106,
           127,
           24818,
           161
          ],
          [
           6116,
           67,
           5867,
           182
          ],
          [
           369886,
           9386,
           355127,
           5373
          ],
          [
           3738862,
           19194,
           3628600,
           91068
          ],
          [
           96402,
           1619,
           93987,
           796
          ],
          [
           426963,
           320477,
           93764,
           12743
          ],
          [
           161,
           0,
           160,
           1
          ],
          [
           302534,
           23128,
           269908,
           9498
          ],
          [
           23871,
           1116,
           22582,
           173
          ],
          [
           3881,
           217,
           3595,
           69
          ],
          [
           20389,
           1557,
           18354,
           478
          ],
          [
           18952,
           5595,
           12906,
           451
          ],
          [
           27,
           0,
           27,
           0
          ],
          [
           269000,
           168391,
           93480,
           7129
          ],
          [
           808262,
           38071,
           740195,
           29996
          ],
          [
           6654,
           50,
           6476,
           30
          ],
          [
           30619932,
           464357,
           29752294,
           403281
          ],
          [
           2313829,
           309999,
           1942690,
           61140
          ],
          [
           3270843,
           245020,
           2940874,
           84949
          ],
          [
           1379505,
           90916,
           1271244,
           17345
          ],
          [
           274641,
           246277,
           23364,
           5000
          ],
          [
           843465,
           2925,
           834111,
           6429
          ],
          [
           4263797,
           43531,
           4092586,
           127680
          ],
          [
           50389,
           16691,
           32604,
           1094
          ],
          [
           808220,
           18522,
           774886,
           14812
          ],
          [
           753776,
           6776,
           737215,
           9785
          ],
          [
           497008,
           37457,
           456005,
           7934
          ],
          [
           186053,
           53552,
           128811,
           3690
          ],
          [
           2,
           2,
           0,
           0
          ],
          [
           161541,
           8749,
           150760,
           2032
          ],
          [
           107800,
           154,
           105381,
           2265
          ],
          [
           365649,
           18514,
           345106,
           2029
          ],
          [
           132070,
           16812,
           113212,
           2046
          ],
          [
           2300,
           222,
           2075,
           3
          ],
          [
           137653,
           771,
           134354,
           2528
          ],
          [
           545671,
           4248,
           533560,
           7863
          ],
          [
           11568,
           4747,
           6492,
           329
          ],
          [
           4520,
           2320,
           2464,
           133
          ],
          [
           195824,
           13213,
           179398,
           3213
          ],
          [
           3138,
           18,
           2968,
           58
          ],
          [
           278906,
           6557,
           267958,
           4391
          ],
          [
           71429,
           824,
           69787,
           818
          ],
          [
           9,
           0,
           7,
           2
          ],
          [
           42329,
           669,
           40736,
           924
          ],
          [
           37057,
           2438,
           33404,
           1215
          ],
          [
           785039,
           0,
           710017,
           5574
          ],
          [
           74480,
           3238,
           71029,
           213
          ],
          [
           14451,
           3842,
           10082,
           527
          ],
          [
           30664,
           79,
           30165,
           420
          ],
          [
           4,
           0,
           4,
           0
          ],
          [
           21134,
           665,
           19980,
           489
          ],
          [
           1984,
           306,
           1534,
           18
          ],
          [
           2541873,
           289136,
           2019048,
           233689
          ],
          [
           1,
           0,
           1,
           0
          ],
          [
           257035,
           860,
           249978,
           6197
          ],
          [
           2589,
           17,
           2539,
           33
          ],
          [
           126811,
           39037,
           87145,
           629
          ],
          [
           100338,
           278,
           98441,
           1619
          ],
          [
           534797,
           5361,
           520107,
           9329
          ],
          [
           80888,
           7809,
           72167,
           912
          ],
          [
           97087,
           24652,
           70773,
           1662
          ],
          [
           646367,
           25690,
           611429,
           9248
          ],
          [
           1718397,
           1672958,
           27399,
           18040
          ],
          [
           2759,
           37,
           2696,
           26
          ],
          [
           8178,
           3762,
           4225,
           191
          ],
          [
           5515,
           109,
           5212,
           194
          ],
          [
           167909,
           1387,
           164400,
           2122
          ],
          [
           155716,
           130,
           150100,
           5486
          ],
          [
           132136,
           113344,
           17998,
           794
          ],
          [
           276736,
           28638,
           244782,
           3316
          ],
          [
           964490,
           33390,
           908648,
           22452
          ],
          [
           0,
           0,
           0,
           0
          ],
          [
           408728,
           12711,
           389434,
           6583
          ],
          [
           17098,
           407,
           16518,
           173
          ],
          [
           429884,
           34146,
           382291,
           13447
          ],
          [
           2066677,
           -154590,
           2027878,
           193389
          ],
          [
           1441746,
           51594,
           1364960,
           25192
          ],
          [
           2880308,
           152995,
           2652228,
           75085
          ],
          [
           890571,
           38830,
           834624,
           17117
          ],
          [
           222667,
           1477,
           220597,
           593
          ],
          [
           1080979,
           1655,
           1045351,
           33973
          ],
          [
           5568104,
           407457,
           5024368,
           136279
          ],
          [
           43396,
           15080,
           27837,
           479
          ],
          [
           492,
           252,
           237,
           3
          ],
          [
           5326,
           83,
           5158,
           85
          ],
          [
           2238,
           105,
           2121,
           12
          ],
          [
           3,
           0,
           3,
           0
          ],
          [
           5092,
           0,
           5002,
           90
          ],
          [
           2377,
           17,
           2323,
           37
          ],
          [
           494032,
           11773,
           474368,
           7891
          ],
          [
           43959,
           1011,
           41773,
           1175
          ],
          [
           716983,
           709924,
           0,
           7059
          ],
          [
           16259,
           993,
           15240,
           57
          ],
          [
           5811,
           2004,
           3700,
           107
          ],
          [
           62630,
           295,
           62299,
           36
          ],
          [
           391720,
           123907,
           255300,
           12513
          ],
          [
           257429,
           425,
           252584,
           4420
          ],
          [
           20,
           0,
           20,
           0
          ],
          [
           14977,
           6955,
           7247,
           775
          ],
          [
           2075409,
           185417,
           1827821,
           62171
          ],
          [
           10879,
           248,
           10514,
           117
          ],
          [
           3866475,
           3635165,
           150376,
           80934
          ],
          [
           266499,
           28289,
           234942,
           3268
          ],
          [
           36709,
           3341,
           30608,
           2760
          ],
          [
           6,
           6,
           0,
           0
          ],
          [
           22465,
           3458,
           18459,
           548
          ],
          [
           1090880,
           1076249,
           0,
           14631
          ],
          [
           703783,
           375288,
           317600,
           10774
          ],
          [
           25686,
           1941,
           21856,
           1889
          ],
          [
           15061,
           3364,
           11008,
           689
          ],
          [
           14029,
           146,
           13382,
           96
          ],
          [
           509,
           305,
           183,
           21
          ],
          [
           289233,
           260084,
           26873,
           2276
          ],
          [
           9512,
           925,
           8562,
           25
          ],
          [
           14082,
           414,
           13536,
           132
          ],
          [
           33555,
           6417,
           26239,
           899
          ],
          [
           447161,
           67141,
           364538,
           15482
          ],
          [
           5449464,
           79725,
           5319665,
           49959
          ],
          [
           33781561,
           0,
           0,
           605208
          ],
          [
           84116,
           25812,
           56338,
           1966
          ],
          [
           2305013,
           19555,
           2230674,
           54784
          ],
          [
           641049,
           19916,
           619294,
           1839
          ],
          [
           4947274,
           4803002,
           15777,
           128495
          ],
          [
           373286,
           10646,
           356929,
           5711
          ],
          [
           113072,
           3253,
           109068,
           751
          ],
          [
           4,
           0,
           3,
           1
          ],
          [
           278665,
           15232,
           260224,
           3209
          ],
          [
           21312,
           13200,
           8022,
           90
          ],
          [
           314569,
           2222,
           308774,
           3573
          ],
          [
           6929,
           1459,
           4108,
           1362
          ],
          [
           165513,
           17113,
           145908,
           2492
          ],
          [
           56014,
           12697,
           41406,
           1911
          ]
         ],
         "geo": "geo",
         "hovertemplate": "<b>%{hovertext}</b><br><br>Confirmed=%{marker.color}<br>Country=%{location}<br>Active=%{customdata[1]}<br>Recovered=%{customdata[2]}<br>Deaths=%{customdata[3]}<extra></extra>",
         "hovertext": [
          "Afghanistan",
          "Albania",
          "Algeria",
          "Andorra",
          "Angola",
          "Antigua and Barbuda",
          "Argentina",
          "Armenia",
          "Australia",
          "Austria",
          "Azerbaijan",
          "Bahamas",
          "Bahrain",
          "Bangladesh",
          "Barbados",
          "Belarus",
          "Belgium",
          "Belize",
          "Benin",
          "Bhutan",
          "Bolivia",
          "Bosnia and Herzegovina",
          "Botswana",
          "Brazil",
          "Brunei",
          "Bulgaria",
          "Burkina Faso",
          "Burma",
          "Burundi",
          "Cabo Verde",
          "Cambodia",
          "Cameroon",
          "Canada",
          "Central African Republic",
          "Chad",
          "Chile",
          "China",
          "Colombia",
          "Comoros",
          "Congo (Brazzaville)",
          "Congo (Kinshasa)",
          "Costa Rica",
          "Cote d'Ivoire",
          "Croatia",
          "Cuba",
          "Cyprus",
          "Czechia",
          "Denmark",
          "Diamond Princess",
          "Djibouti",
          "Dominica",
          "Dominican Republic",
          "Ecuador",
          "Egypt",
          "El Salvador",
          "Equatorial Guinea",
          "Eritrea",
          "Estonia",
          "Eswatini",
          "Ethiopia",
          "Fiji",
          "Finland",
          "France",
          "Gabon",
          "Gambia",
          "Georgia",
          "Germany",
          "Ghana",
          "Greece",
          "Grenada",
          "Guatemala",
          "Guinea",
          "Guinea-Bissau",
          "Guyana",
          "Haiti",
          "Holy See",
          "Honduras",
          "Hungary",
          "Iceland",
          "India",
          "Indonesia",
          "Iran",
          "Iraq",
          "Ireland",
          "Israel",
          "Italy",
          "Jamaica",
          "Japan",
          "Jordan",
          "Kazakhstan",
          "Kenya",
          "Kiribati",
          "Korea, South",
          "Kosovo",
          "Kuwait",
          "Kyrgyzstan",
          "Laos",
          "Latvia",
          "Lebanon",
          "Lesotho",
          "Liberia",
          "Libya",
          "Liechtenstein",
          "Lithuania",
          "Luxembourg",
          "MS Zaandam",
          "Madagascar",
          "Malawi",
          "Malaysia",
          "Maldives",
          "Mali",
          "Malta",
          "Marshall Islands",
          "Mauritania",
          "Mauritius",
          "Mexico",
          "Micronesia",
          "Moldova",
          "Monaco",
          "Mongolia",
          "Montenegro",
          "Morocco",
          "Mozambique",
          "Namibia",
          "Nepal",
          "Netherlands",
          "New Zealand",
          "Nicaragua",
          "Niger",
          "Nigeria",
          "North Macedonia",
          "Norway",
          "Oman",
          "Pakistan",
          "Palau",
          "Panama",
          "Papua New Guinea",
          "Paraguay",
          "Peru",
          "Philippines",
          "Poland",
          "Portugal",
          "Qatar",
          "Romania",
          "Russia",
          "Rwanda",
          "Saint Kitts and Nevis",
          "Saint Lucia",
          "Saint Vincent and the Grenadines",
          "Samoa",
          "San Marino",
          "Sao Tome and Principe",
          "Saudi Arabia",
          "Senegal",
          "Serbia",
          "Seychelles",
          "Sierra Leone",
          "Singapore",
          "Slovakia",
          "Slovenia",
          "Solomon Islands",
          "Somalia",
          "South Africa",
          "South Sudan",
          "Spain",
          "Sri Lanka",
          "Sudan",
          "Summer Olympics 2020",
          "Suriname",
          "Sweden",
          "Switzerland",
          "Syria",
          "Taiwan*",
          "Tajikistan",
          "Tanzania",
          "Thailand",
          "Timor-Leste",
          "Togo",
          "Trinidad and Tobago",
          "Tunisia",
          "Turkey",
          "US",
          "Uganda",
          "Ukraine",
          "United Arab Emirates",
          "United Kingdom",
          "Uruguay",
          "Uzbekistan",
          "Vanuatu",
          "Venezuela",
          "Vietnam",
          "West Bank and Gaza",
          "Yemen",
          "Zambia",
          "Zimbabwe"
         ],
         "legendgroup": "",
         "locationmode": "country names",
         "locations": [
          "Afghanistan",
          "Albania",
          "Algeria",
          "Andorra",
          "Angola",
          "Antigua and Barbuda",
          "Argentina",
          "Armenia",
          "Australia",
          "Austria",
          "Azerbaijan",
          "Bahamas",
          "Bahrain",
          "Bangladesh",
          "Barbados",
          "Belarus",
          "Belgium",
          "Belize",
          "Benin",
          "Bhutan",
          "Bolivia",
          "Bosnia and Herzegovina",
          "Botswana",
          "Brazil",
          "Brunei",
          "Bulgaria",
          "Burkina Faso",
          "Burma",
          "Burundi",
          "Cabo Verde",
          "Cambodia",
          "Cameroon",
          "Canada",
          "Central African Republic",
          "Chad",
          "Chile",
          "China",
          "Colombia",
          "Comoros",
          "Congo (Brazzaville)",
          "Congo (Kinshasa)",
          "Costa Rica",
          "Cote d'Ivoire",
          "Croatia",
          "Cuba",
          "Cyprus",
          "Czechia",
          "Denmark",
          "Diamond Princess",
          "Djibouti",
          "Dominica",
          "Dominican Republic",
          "Ecuador",
          "Egypt",
          "El Salvador",
          "Equatorial Guinea",
          "Eritrea",
          "Estonia",
          "Eswatini",
          "Ethiopia",
          "Fiji",
          "Finland",
          "France",
          "Gabon",
          "Gambia",
          "Georgia",
          "Germany",
          "Ghana",
          "Greece",
          "Grenada",
          "Guatemala",
          "Guinea",
          "Guinea-Bissau",
          "Guyana",
          "Haiti",
          "Holy See",
          "Honduras",
          "Hungary",
          "Iceland",
          "India",
          "Indonesia",
          "Iran",
          "Iraq",
          "Ireland",
          "Israel",
          "Italy",
          "Jamaica",
          "Japan",
          "Jordan",
          "Kazakhstan",
          "Kenya",
          "Kiribati",
          "Korea, South",
          "Kosovo",
          "Kuwait",
          "Kyrgyzstan",
          "Laos",
          "Latvia",
          "Lebanon",
          "Lesotho",
          "Liberia",
          "Libya",
          "Liechtenstein",
          "Lithuania",
          "Luxembourg",
          "MS Zaandam",
          "Madagascar",
          "Malawi",
          "Malaysia",
          "Maldives",
          "Mali",
          "Malta",
          "Marshall Islands",
          "Mauritania",
          "Mauritius",
          "Mexico",
          "Micronesia",
          "Moldova",
          "Monaco",
          "Mongolia",
          "Montenegro",
          "Morocco",
          "Mozambique",
          "Namibia",
          "Nepal",
          "Netherlands",
          "New Zealand",
          "Nicaragua",
          "Niger",
          "Nigeria",
          "North Macedonia",
          "Norway",
          "Oman",
          "Pakistan",
          "Palau",
          "Panama",
          "Papua New Guinea",
          "Paraguay",
          "Peru",
          "Philippines",
          "Poland",
          "Portugal",
          "Qatar",
          "Romania",
          "Russia",
          "Rwanda",
          "Saint Kitts and Nevis",
          "Saint Lucia",
          "Saint Vincent and the Grenadines",
          "Samoa",
          "San Marino",
          "Sao Tome and Principe",
          "Saudi Arabia",
          "Senegal",
          "Serbia",
          "Seychelles",
          "Sierra Leone",
          "Singapore",
          "Slovakia",
          "Slovenia",
          "Solomon Islands",
          "Somalia",
          "South Africa",
          "South Sudan",
          "Spain",
          "Sri Lanka",
          "Sudan",
          "Summer Olympics 2020",
          "Suriname",
          "Sweden",
          "Switzerland",
          "Syria",
          "Taiwan*",
          "Tajikistan",
          "Tanzania",
          "Thailand",
          "Timor-Leste",
          "Togo",
          "Trinidad and Tobago",
          "Tunisia",
          "Turkey",
          "US",
          "Uganda",
          "Ukraine",
          "United Arab Emirates",
          "United Kingdom",
          "Uruguay",
          "Uzbekistan",
          "Vanuatu",
          "Venezuela",
          "Vietnam",
          "West Bank and Gaza",
          "Yemen",
          "Zambia",
          "Zimbabwe"
         ],
         "marker": {
          "color": [
           125937,
           132537,
           141966,
           13918,
           39300,
           1264,
           4552750,
           225606,
           30831,
           650817,
           336479,
           12808,
           266557,
           954881,
           4086,
           421964,
           1088363,
           13391,
           8199,
           2169,
           446362,
           205047,
           73977,
           18792511,
           262,
           422151,
           13494,
           168374,
           5521,
           32745,
           55187,
           80858,
           1425594,
           7141,
           4952,
           1572608,
           103890,
           4375861,
           3958,
           12790,
           42617,
           374324,
           48580,
           360246,
           207322,
           79529,
           1668040,
           296489,
           712,
           11606,
           194,
           329531,
           462649,
           282257,
           80235,
           8759,
           6127,
           131207,
           19084,
           276503,
           6513,
           96569,
           5849167,
           25106,
           6116,
           369886,
           3738862,
           96402,
           426963,
           161,
           302534,
           23871,
           3881,
           20389,
           18952,
           27,
           269000,
           808262,
           6654,
           30619932,
           2313829,
           3270843,
           1379505,
           274641,
           843465,
           4263797,
           50389,
           808220,
           753776,
           497008,
           186053,
           2,
           161541,
           107800,
           365649,
           132070,
           2300,
           137653,
           545671,
           11568,
           4520,
           195824,
           3138,
           278906,
           71429,
           9,
           42329,
           37057,
           785039,
           74480,
           14451,
           30664,
           4,
           21134,
           1984,
           2541873,
           1,
           257035,
           2589,
           126811,
           100338,
           534797,
           80888,
           97087,
           646367,
           1718397,
           2759,
           8178,
           5515,
           167909,
           155716,
           132136,
           276736,
           964490,
           0,
           408728,
           17098,
           429884,
           2066677,
           1441746,
           2880308,
           890571,
           222667,
           1080979,
           5568104,
           43396,
           492,
           5326,
           2238,
           3,
           5092,
           2377,
           494032,
           43959,
           716983,
           16259,
           5811,
           62630,
           391720,
           257429,
           20,
           14977,
           2075409,
           10879,
           3866475,
           266499,
           36709,
           6,
           22465,
           1090880,
           703783,
           25686,
           15061,
           14029,
           509,
           289233,
           9512,
           14082,
           33555,
           447161,
           5449464,
           33781561,
           84116,
           2305013,
           641049,
           4947274,
           373286,
           113072,
           4,
           278665,
           21312,
           314569,
           6929,
           165513,
           56014
          ],
          "coloraxis": "coloraxis",
          "size": [
           125937,
           132537,
           141966,
           13918,
           39300,
           1264,
           4552750,
           225606,
           30831,
           650817,
           336479,
           12808,
           266557,
           954881,
           4086,
           421964,
           1088363,
           13391,
           8199,
           2169,
           446362,
           205047,
           73977,
           18792511,
           262,
           422151,
           13494,
           168374,
           5521,
           32745,
           55187,
           80858,
           1425594,
           7141,
           4952,
           1572608,
           103890,
           4375861,
           3958,
           12790,
           42617,
           374324,
           48580,
           360246,
           207322,
           79529,
           1668040,
           296489,
           712,
           11606,
           194,
           329531,
           462649,
           282257,
           80235,
           8759,
           6127,
           131207,
           19084,
           276503,
           6513,
           96569,
           5849167,
           25106,
           6116,
           369886,
           3738862,
           96402,
           426963,
           161,
           302534,
           23871,
           3881,
           20389,
           18952,
           27,
           269000,
           808262,
           6654,
           30619932,
           2313829,
           3270843,
           1379505,
           274641,
           843465,
           4263797,
           50389,
           808220,
           753776,
           497008,
           186053,
           2,
           161541,
           107800,
           365649,
           132070,
           2300,
           137653,
           545671,
           11568,
           4520,
           195824,
           3138,
           278906,
           71429,
           9,
           42329,
           37057,
           785039,
           74480,
           14451,
           30664,
           4,
           21134,
           1984,
           2541873,
           1,
           257035,
           2589,
           126811,
           100338,
           534797,
           80888,
           97087,
           646367,
           1718397,
           2759,
           8178,
           5515,
           167909,
           155716,
           132136,
           276736,
           964490,
           0,
           408728,
           17098,
           429884,
           2066677,
           1441746,
           2880308,
           890571,
           222667,
           1080979,
           5568104,
           43396,
           492,
           5326,
           2238,
           3,
           5092,
           2377,
           494032,
           43959,
           716983,
           16259,
           5811,
           62630,
           391720,
           257429,
           20,
           14977,
           2075409,
           10879,
           3866475,
           266499,
           36709,
           6,
           22465,
           1090880,
           703783,
           25686,
           15061,
           14029,
           509,
           289233,
           9512,
           14082,
           33555,
           447161,
           5449464,
           33781561,
           84116,
           2305013,
           641049,
           4947274,
           373286,
           113072,
           4,
           278665,
           21312,
           314569,
           6929,
           165513,
           56014
          ],
          "sizemode": "area",
          "sizeref": 9383.766944444444,
          "symbol": "circle"
         },
         "mode": "markers",
         "name": "",
         "showlegend": false,
         "type": "scattergeo"
        }
       ],
       "layout": {
        "coloraxis": {
         "colorbar": {
          "title": {
           "text": "Confirmed"
          }
         },
         "colorscale": [
          [
           0,
           "#0d0887"
          ],
          [
           0.1111111111111111,
           "#46039f"
          ],
          [
           0.2222222222222222,
           "#7201a8"
          ],
          [
           0.3333333333333333,
           "#9c179e"
          ],
          [
           0.4444444444444444,
           "#bd3786"
          ],
          [
           0.5555555555555556,
           "#d8576b"
          ],
          [
           0.6666666666666666,
           "#ed7953"
          ],
          [
           0.7777777777777778,
           "#fb9f3a"
          ],
          [
           0.8888888888888888,
           "#fdca26"
          ],
          [
           1,
           "#f0f921"
          ]
         ]
        },
        "geo": {
         "center": {},
         "domain": {
          "x": [
           0,
           1
          ],
          "y": [
           0,
           1
          ]
         },
         "projection": {
          "type": "natural earth"
         }
        },
        "legend": {
         "itemsizing": "constant",
         "tracegroupgap": 0
        },
        "margin": {
         "t": 60
        },
        "template": {
         "data": {
          "bar": [
           {
            "error_x": {
             "color": "#2a3f5f"
            },
            "error_y": {
             "color": "#2a3f5f"
            },
            "marker": {
             "line": {
              "color": "#E5ECF6",
              "width": 0.5
             },
             "pattern": {
              "fillmode": "overlay",
              "size": 10,
              "solidity": 0.2
             }
            },
            "type": "bar"
           }
          ],
          "barpolar": [
           {
            "marker": {
             "line": {
              "color": "#E5ECF6",
              "width": 0.5
             },
             "pattern": {
              "fillmode": "overlay",
              "size": 10,
              "solidity": 0.2
             }
            },
            "type": "barpolar"
           }
          ],
          "carpet": [
           {
            "aaxis": {
             "endlinecolor": "#2a3f5f",
             "gridcolor": "white",
             "linecolor": "white",
             "minorgridcolor": "white",
             "startlinecolor": "#2a3f5f"
            },
            "baxis": {
             "endlinecolor": "#2a3f5f",
             "gridcolor": "white",
             "linecolor": "white",
             "minorgridcolor": "white",
             "startlinecolor": "#2a3f5f"
            },
            "type": "carpet"
           }
          ],
          "choropleth": [
           {
            "colorbar": {
             "outlinewidth": 0,
             "ticks": ""
            },
            "type": "choropleth"
           }
          ],
          "contour": [
           {
            "colorbar": {
             "outlinewidth": 0,
             "ticks": ""
            },
            "colorscale": [
             [
              0,
              "#0d0887"
             ],
             [
              0.1111111111111111,
              "#46039f"
             ],
             [
              0.2222222222222222,
              "#7201a8"
             ],
             [
              0.3333333333333333,
              "#9c179e"
             ],
             [
              0.4444444444444444,
              "#bd3786"
             ],
             [
              0.5555555555555556,
              "#d8576b"
             ],
             [
              0.6666666666666666,
              "#ed7953"
             ],
             [
              0.7777777777777778,
              "#fb9f3a"
             ],
             [
              0.8888888888888888,
              "#fdca26"
             ],
             [
              1,
              "#f0f921"
             ]
            ],
            "type": "contour"
           }
          ],
          "contourcarpet": [
           {
            "colorbar": {
             "outlinewidth": 0,
             "ticks": ""
            },
            "type": "contourcarpet"
           }
          ],
          "heatmap": [
           {
            "colorbar": {
             "outlinewidth": 0,
             "ticks": ""
            },
            "colorscale": [
             [
              0,
              "#0d0887"
             ],
             [
              0.1111111111111111,
              "#46039f"
             ],
             [
              0.2222222222222222,
              "#7201a8"
             ],
             [
              0.3333333333333333,
              "#9c179e"
             ],
             [
              0.4444444444444444,
              "#bd3786"
             ],
             [
              0.5555555555555556,
              "#d8576b"
             ],
             [
              0.6666666666666666,
              "#ed7953"
             ],
             [
              0.7777777777777778,
              "#fb9f3a"
             ],
             [
              0.8888888888888888,
              "#fdca26"
             ],
             [
              1,
              "#f0f921"
             ]
            ],
            "type": "heatmap"
           }
          ],
          "heatmapgl": [
           {
            "colorbar": {
             "outlinewidth": 0,
             "ticks": ""
            },
            "colorscale": [
             [
              0,
              "#0d0887"
             ],
             [
              0.1111111111111111,
              "#46039f"
             ],
             [
              0.2222222222222222,
              "#7201a8"
             ],
             [
              0.3333333333333333,
              "#9c179e"
             ],
             [
              0.4444444444444444,
              "#bd3786"
             ],
             [
              0.5555555555555556,
              "#d8576b"
             ],
             [
              0.6666666666666666,
              "#ed7953"
             ],
             [
              0.7777777777777778,
              "#fb9f3a"
             ],
             [
              0.8888888888888888,
              "#fdca26"
             ],
             [
              1,
              "#f0f921"
             ]
            ],
            "type": "heatmapgl"
           }
          ],
          "histogram": [
           {
            "marker": {
             "pattern": {
              "fillmode": "overlay",
              "size": 10,
              "solidity": 0.2
             }
            },
            "type": "histogram"
           }
          ],
          "histogram2d": [
           {
            "colorbar": {
             "outlinewidth": 0,
             "ticks": ""
            },
            "colorscale": [
             [
              0,
              "#0d0887"
             ],
             [
              0.1111111111111111,
              "#46039f"
             ],
             [
              0.2222222222222222,
              "#7201a8"
             ],
             [
              0.3333333333333333,
              "#9c179e"
             ],
             [
              0.4444444444444444,
              "#bd3786"
             ],
             [
              0.5555555555555556,
              "#d8576b"
             ],
             [
              0.6666666666666666,
              "#ed7953"
             ],
             [
              0.7777777777777778,
              "#fb9f3a"
             ],
             [
              0.8888888888888888,
              "#fdca26"
             ],
             [
              1,
              "#f0f921"
             ]
            ],
            "type": "histogram2d"
           }
          ],
          "histogram2dcontour": [
           {
            "colorbar": {
             "outlinewidth": 0,
             "ticks": ""
            },
            "colorscale": [
             [
              0,
              "#0d0887"
             ],
             [
              0.1111111111111111,
              "#46039f"
             ],
             [
              0.2222222222222222,
              "#7201a8"
             ],
             [
              0.3333333333333333,
              "#9c179e"
             ],
             [
              0.4444444444444444,
              "#bd3786"
             ],
             [
              0.5555555555555556,
              "#d8576b"
             ],
             [
              0.6666666666666666,
              "#ed7953"
             ],
             [
              0.7777777777777778,
              "#fb9f3a"
             ],
             [
              0.8888888888888888,
              "#fdca26"
             ],
             [
              1,
              "#f0f921"
             ]
            ],
            "type": "histogram2dcontour"
           }
          ],
          "mesh3d": [
           {
            "colorbar": {
             "outlinewidth": 0,
             "ticks": ""
            },
            "type": "mesh3d"
           }
          ],
          "parcoords": [
           {
            "line": {
             "colorbar": {
              "outlinewidth": 0,
              "ticks": ""
             }
            },
            "type": "parcoords"
           }
          ],
          "pie": [
           {
            "automargin": true,
            "type": "pie"
           }
          ],
          "scatter": [
           {
            "marker": {
             "colorbar": {
              "outlinewidth": 0,
              "ticks": ""
             }
            },
            "type": "scatter"
           }
          ],
          "scatter3d": [
           {
            "line": {
             "colorbar": {
              "outlinewidth": 0,
              "ticks": ""
             }
            },
            "marker": {
             "colorbar": {
              "outlinewidth": 0,
              "ticks": ""
             }
            },
            "type": "scatter3d"
           }
          ],
          "scattercarpet": [
           {
            "marker": {
             "colorbar": {
              "outlinewidth": 0,
              "ticks": ""
             }
            },
            "type": "scattercarpet"
           }
          ],
          "scattergeo": [
           {
            "marker": {
             "colorbar": {
              "outlinewidth": 0,
              "ticks": ""
             }
            },
            "type": "scattergeo"
           }
          ],
          "scattergl": [
           {
            "marker": {
             "colorbar": {
              "outlinewidth": 0,
              "ticks": ""
             }
            },
            "type": "scattergl"
           }
          ],
          "scattermapbox": [
           {
            "marker": {
             "colorbar": {
              "outlinewidth": 0,
              "ticks": ""
             }
            },
            "type": "scattermapbox"
           }
          ],
          "scatterpolar": [
           {
            "marker": {
             "colorbar": {
              "outlinewidth": 0,
              "ticks": ""
             }
            },
            "type": "scatterpolar"
           }
          ],
          "scatterpolargl": [
           {
            "marker": {
             "colorbar": {
              "outlinewidth": 0,
              "ticks": ""
             }
            },
            "type": "scatterpolargl"
           }
          ],
          "scatterternary": [
           {
            "marker": {
             "colorbar": {
              "outlinewidth": 0,
              "ticks": ""
             }
            },
            "type": "scatterternary"
           }
          ],
          "surface": [
           {
            "colorbar": {
             "outlinewidth": 0,
             "ticks": ""
            },
            "colorscale": [
             [
              0,
              "#0d0887"
             ],
             [
              0.1111111111111111,
              "#46039f"
             ],
             [
              0.2222222222222222,
              "#7201a8"
             ],
             [
              0.3333333333333333,
              "#9c179e"
             ],
             [
              0.4444444444444444,
              "#bd3786"
             ],
             [
              0.5555555555555556,
              "#d8576b"
             ],
             [
              0.6666666666666666,
              "#ed7953"
             ],
             [
              0.7777777777777778,
              "#fb9f3a"
             ],
             [
              0.8888888888888888,
              "#fdca26"
             ],
             [
              1,
              "#f0f921"
             ]
            ],
            "type": "surface"
           }
          ],
          "table": [
           {
            "cells": {
             "fill": {
              "color": "#EBF0F8"
             },
             "line": {
              "color": "white"
             }
            },
            "header": {
             "fill": {
              "color": "#C8D4E3"
             },
             "line": {
              "color": "white"
             }
            },
            "type": "table"
           }
          ]
         },
         "layout": {
          "annotationdefaults": {
           "arrowcolor": "#2a3f5f",
           "arrowhead": 0,
           "arrowwidth": 1
          },
          "autotypenumbers": "strict",
          "coloraxis": {
           "colorbar": {
            "outlinewidth": 0,
            "ticks": ""
           }
          },
          "colorscale": {
           "diverging": [
            [
             0,
             "#8e0152"
            ],
            [
             0.1,
             "#c51b7d"
            ],
            [
             0.2,
             "#de77ae"
            ],
            [
             0.3,
             "#f1b6da"
            ],
            [
             0.4,
             "#fde0ef"
            ],
            [
             0.5,
             "#f7f7f7"
            ],
            [
             0.6,
             "#e6f5d0"
            ],
            [
             0.7,
             "#b8e186"
            ],
            [
             0.8,
             "#7fbc41"
            ],
            [
             0.9,
             "#4d9221"
            ],
            [
             1,
             "#276419"
            ]
           ],
           "sequential": [
            [
             0,
             "#0d0887"
            ],
            [
             0.1111111111111111,
             "#46039f"
            ],
            [
             0.2222222222222222,
             "#7201a8"
            ],
            [
             0.3333333333333333,
             "#9c179e"
            ],
            [
             0.4444444444444444,
             "#bd3786"
            ],
            [
             0.5555555555555556,
             "#d8576b"
            ],
            [
             0.6666666666666666,
             "#ed7953"
            ],
            [
             0.7777777777777778,
             "#fb9f3a"
            ],
            [
             0.8888888888888888,
             "#fdca26"
            ],
            [
             1,
             "#f0f921"
            ]
           ],
           "sequentialminus": [
            [
             0,
             "#0d0887"
            ],
            [
             0.1111111111111111,
             "#46039f"
            ],
            [
             0.2222222222222222,
             "#7201a8"
            ],
            [
             0.3333333333333333,
             "#9c179e"
            ],
            [
             0.4444444444444444,
             "#bd3786"
            ],
            [
             0.5555555555555556,
             "#d8576b"
            ],
            [
             0.6666666666666666,
             "#ed7953"
            ],
            [
             0.7777777777777778,
             "#fb9f3a"
            ],
            [
             0.8888888888888888,
             "#fdca26"
            ],
            [
             1,
             "#f0f921"
            ]
           ]
          },
          "colorway": [
           "#636efa",
           "#EF553B",
           "#00cc96",
           "#ab63fa",
           "#FFA15A",
           "#19d3f3",
           "#FF6692",
           "#B6E880",
           "#FF97FF",
           "#FECB52"
          ],
          "font": {
           "color": "#2a3f5f"
          },
          "geo": {
           "bgcolor": "white",
           "lakecolor": "white",
           "landcolor": "#E5ECF6",
           "showlakes": true,
           "showland": true,
           "subunitcolor": "white"
          },
          "hoverlabel": {
           "align": "left"
          },
          "hovermode": "closest",
          "mapbox": {
           "style": "light"
          },
          "paper_bgcolor": "white",
          "plot_bgcolor": "#E5ECF6",
          "polar": {
           "angularaxis": {
            "gridcolor": "white",
            "linecolor": "white",
            "ticks": ""
           },
           "bgcolor": "#E5ECF6",
           "radialaxis": {
            "gridcolor": "white",
            "linecolor": "white",
            "ticks": ""
           }
          },
          "scene": {
           "xaxis": {
            "backgroundcolor": "#E5ECF6",
            "gridcolor": "white",
            "gridwidth": 2,
            "linecolor": "white",
            "showbackground": true,
            "ticks": "",
            "zerolinecolor": "white"
           },
           "yaxis": {
            "backgroundcolor": "#E5ECF6",
            "gridcolor": "white",
            "gridwidth": 2,
            "linecolor": "white",
            "showbackground": true,
            "ticks": "",
            "zerolinecolor": "white"
           },
           "zaxis": {
            "backgroundcolor": "#E5ECF6",
            "gridcolor": "white",
            "gridwidth": 2,
            "linecolor": "white",
            "showbackground": true,
            "ticks": "",
            "zerolinecolor": "white"
           }
          },
          "shapedefaults": {
           "line": {
            "color": "#2a3f5f"
           }
          },
          "ternary": {
           "aaxis": {
            "gridcolor": "white",
            "linecolor": "white",
            "ticks": ""
           },
           "baxis": {
            "gridcolor": "white",
            "linecolor": "white",
            "ticks": ""
           },
           "bgcolor": "#E5ECF6",
           "caxis": {
            "gridcolor": "white",
            "linecolor": "white",
            "ticks": ""
           }
          },
          "title": {
           "x": 0.05
          },
          "xaxis": {
           "automargin": true,
           "gridcolor": "white",
           "linecolor": "white",
           "ticks": "",
           "title": {
            "standoff": 15
           },
           "zerolinecolor": "white",
           "zerolinewidth": 2
          },
          "yaxis": {
           "automargin": true,
           "gridcolor": "white",
           "linecolor": "white",
           "ticks": "",
           "title": {
            "standoff": 15
           },
           "zerolinecolor": "white",
           "zerolinewidth": 2
          }
         }
        }
       }
      }
     },
     "metadata": {},
     "output_type": "display_data"
    }
   ],
   "source": [
    "fig = px.scatter_geo(world_df,\n",
    "                     locations='Country',\n",
    "                     locationmode='country names',\n",
    "                     color='Confirmed',\n",
    "                     hover_name='Country',\n",
    "                     hover_data=['Confirmed', 'Active', 'Recovered', 'Deaths'],\n",
    "                     size='Confirmed',\n",
    "                     projection='natural earth',\n",
    "                     size_max=60,\n",
    "                     )\n",
    "\n",
    "fig.show()"
   ]
  },
  {
   "cell_type": "code",
   "execution_count": 48,
   "metadata": {},
   "outputs": [
    {
     "data": {
      "text/html": [
       "<div>\n",
       "<style scoped>\n",
       "    .dataframe tbody tr th:only-of-type {\n",
       "        vertical-align: middle;\n",
       "    }\n",
       "\n",
       "    .dataframe tbody tr th {\n",
       "        vertical-align: top;\n",
       "    }\n",
       "\n",
       "    .dataframe thead th {\n",
       "        text-align: right;\n",
       "    }\n",
       "</style>\n",
       "<table border=\"1\" class=\"dataframe\">\n",
       "  <thead>\n",
       "    <tr style=\"text-align: right;\">\n",
       "      <th></th>\n",
       "      <th>Country</th>\n",
       "      <th>Confirmed</th>\n",
       "      <th>Deaths</th>\n",
       "      <th>Recovered</th>\n",
       "      <th>Active</th>\n",
       "    </tr>\n",
       "  </thead>\n",
       "  <tbody>\n",
       "    <tr>\n",
       "      <th>181</th>\n",
       "      <td>US</td>\n",
       "      <td>33781561</td>\n",
       "      <td>605208</td>\n",
       "      <td>0.0</td>\n",
       "      <td>0.0</td>\n",
       "    </tr>\n",
       "    <tr>\n",
       "      <th>23</th>\n",
       "      <td>Brazil</td>\n",
       "      <td>18792511</td>\n",
       "      <td>525112</td>\n",
       "      <td>16675561.0</td>\n",
       "      <td>1591838.0</td>\n",
       "    </tr>\n",
       "    <tr>\n",
       "      <th>79</th>\n",
       "      <td>India</td>\n",
       "      <td>30619932</td>\n",
       "      <td>403281</td>\n",
       "      <td>29752294.0</td>\n",
       "      <td>464357.0</td>\n",
       "    </tr>\n",
       "    <tr>\n",
       "      <th>115</th>\n",
       "      <td>Mexico</td>\n",
       "      <td>2541873</td>\n",
       "      <td>233689</td>\n",
       "      <td>2019048.0</td>\n",
       "      <td>289136.0</td>\n",
       "    </tr>\n",
       "    <tr>\n",
       "      <th>138</th>\n",
       "      <td>Peru</td>\n",
       "      <td>2066677</td>\n",
       "      <td>193389</td>\n",
       "      <td>2027878.0</td>\n",
       "      <td>-154590.0</td>\n",
       "    </tr>\n",
       "    <tr>\n",
       "      <th>144</th>\n",
       "      <td>Russia</td>\n",
       "      <td>5568104</td>\n",
       "      <td>136279</td>\n",
       "      <td>5024368.0</td>\n",
       "      <td>407457.0</td>\n",
       "    </tr>\n",
       "    <tr>\n",
       "      <th>185</th>\n",
       "      <td>United Kingdom</td>\n",
       "      <td>4947274</td>\n",
       "      <td>128495</td>\n",
       "      <td>15777.0</td>\n",
       "      <td>4803002.0</td>\n",
       "    </tr>\n",
       "    <tr>\n",
       "      <th>85</th>\n",
       "      <td>Italy</td>\n",
       "      <td>4263797</td>\n",
       "      <td>127680</td>\n",
       "      <td>4092586.0</td>\n",
       "      <td>43531.0</td>\n",
       "    </tr>\n",
       "    <tr>\n",
       "      <th>62</th>\n",
       "      <td>France</td>\n",
       "      <td>5849167</td>\n",
       "      <td>111377</td>\n",
       "      <td>406257.0</td>\n",
       "      <td>5331369.0</td>\n",
       "    </tr>\n",
       "    <tr>\n",
       "      <th>37</th>\n",
       "      <td>Colombia</td>\n",
       "      <td>4375861</td>\n",
       "      <td>109466</td>\n",
       "      <td>4076013.0</td>\n",
       "      <td>190383.0</td>\n",
       "    </tr>\n",
       "  </tbody>\n",
       "</table>\n",
       "</div>"
      ],
      "text/plain": [
       "            Country  Confirmed  Deaths   Recovered     Active\n",
       "181              US   33781561  605208         0.0        0.0\n",
       "23           Brazil   18792511  525112  16675561.0  1591838.0\n",
       "79            India   30619932  403281  29752294.0   464357.0\n",
       "115          Mexico    2541873  233689   2019048.0   289136.0\n",
       "138            Peru    2066677  193389   2027878.0  -154590.0\n",
       "144          Russia    5568104  136279   5024368.0   407457.0\n",
       "185  United Kingdom    4947274  128495     15777.0  4803002.0\n",
       "85            Italy    4263797  127680   4092586.0    43531.0\n",
       "62           France    5849167  111377    406257.0  5331369.0\n",
       "37         Colombia    4375861  109466   4076013.0   190383.0"
      ]
     },
     "execution_count": 48,
     "metadata": {},
     "output_type": "execute_result"
    }
   ],
   "source": [
    "world_df.sort_values(by=\"Deaths\", ascending=False).head(10)"
   ]
  },
  {
   "cell_type": "code",
   "execution_count": null,
   "metadata": {},
   "outputs": [],
   "source": []
  }
 ],
 "metadata": {
  "interpreter": {
   "hash": "aee8b7b246df8f9039afb4144a1f6fd8d2ca17a180786b69acc140d282b71a49"
  },
  "kernelspec": {
   "display_name": "Python 3.10.0 64-bit",
   "language": "python",
   "name": "python3"
  },
  "language_info": {
   "codemirror_mode": {
    "name": "ipython",
    "version": 3
   },
   "file_extension": ".py",
   "mimetype": "text/x-python",
   "name": "python",
   "nbconvert_exporter": "python",
   "pygments_lexer": "ipython3",
   "version": "3.10.0"
  },
  "orig_nbformat": 4
 },
 "nbformat": 4,
 "nbformat_minor": 2
}
