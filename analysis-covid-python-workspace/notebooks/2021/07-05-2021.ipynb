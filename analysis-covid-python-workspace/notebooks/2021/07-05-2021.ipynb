{
 "cells": [
  {
   "cell_type": "code",
   "execution_count": null,
   "metadata": {},
   "outputs": [],
   "source": []
  },
  {
   "cell_type": "code",
   "execution_count": 1,
   "metadata": {},
   "outputs": [],
   "source": [
    "import pandas as pd\n",
    "import numpy as np\n",
    "import matplotlib.pyplot as plt\n",
    "import seaborn as sns\n",
    "\n",
    "sns.set_style(\"darkgrid\")"
   ]
  },
  {
   "cell_type": "code",
   "execution_count": 2,
   "metadata": {},
   "outputs": [],
   "source": [
    "path = '../../data/07-05-2021.csv'"
   ]
  },
  {
   "cell_type": "code",
   "execution_count": 3,
   "metadata": {},
   "outputs": [],
   "source": [
    "df = pd.read_csv(path)"
   ]
  },
  {
   "cell_type": "code",
   "execution_count": 4,
   "metadata": {},
   "outputs": [
    {
     "data": {
      "text/html": [
       "<div>\n",
       "<style scoped>\n",
       "    .dataframe tbody tr th:only-of-type {\n",
       "        vertical-align: middle;\n",
       "    }\n",
       "\n",
       "    .dataframe tbody tr th {\n",
       "        vertical-align: top;\n",
       "    }\n",
       "\n",
       "    .dataframe thead th {\n",
       "        text-align: right;\n",
       "    }\n",
       "</style>\n",
       "<table border=\"1\" class=\"dataframe\">\n",
       "  <thead>\n",
       "    <tr style=\"text-align: right;\">\n",
       "      <th></th>\n",
       "      <th>FIPS</th>\n",
       "      <th>Admin2</th>\n",
       "      <th>Province_State</th>\n",
       "      <th>Country_Region</th>\n",
       "      <th>Last_Update</th>\n",
       "      <th>Lat</th>\n",
       "      <th>Long_</th>\n",
       "      <th>Confirmed</th>\n",
       "      <th>Deaths</th>\n",
       "      <th>Recovered</th>\n",
       "      <th>Active</th>\n",
       "      <th>Combined_Key</th>\n",
       "      <th>Incident_Rate</th>\n",
       "      <th>Case_Fatality_Ratio</th>\n",
       "    </tr>\n",
       "  </thead>\n",
       "  <tbody>\n",
       "    <tr>\n",
       "      <th>0</th>\n",
       "      <td>NaN</td>\n",
       "      <td>NaN</td>\n",
       "      <td>NaN</td>\n",
       "      <td>Afghanistan</td>\n",
       "      <td>2021-07-06 04:21:32</td>\n",
       "      <td>33.93911</td>\n",
       "      <td>67.709953</td>\n",
       "      <td>125937</td>\n",
       "      <td>5283</td>\n",
       "      <td>75314.0</td>\n",
       "      <td>45340.0</td>\n",
       "      <td>Afghanistan</td>\n",
       "      <td>323.509805</td>\n",
       "      <td>4.194955</td>\n",
       "    </tr>\n",
       "    <tr>\n",
       "      <th>1</th>\n",
       "      <td>NaN</td>\n",
       "      <td>NaN</td>\n",
       "      <td>NaN</td>\n",
       "      <td>Albania</td>\n",
       "      <td>2021-07-06 04:21:32</td>\n",
       "      <td>41.15330</td>\n",
       "      <td>20.168300</td>\n",
       "      <td>132537</td>\n",
       "      <td>2456</td>\n",
       "      <td>130029.0</td>\n",
       "      <td>52.0</td>\n",
       "      <td>Albania</td>\n",
       "      <td>4605.497255</td>\n",
       "      <td>1.853067</td>\n",
       "    </tr>\n",
       "    <tr>\n",
       "      <th>2</th>\n",
       "      <td>NaN</td>\n",
       "      <td>NaN</td>\n",
       "      <td>NaN</td>\n",
       "      <td>Algeria</td>\n",
       "      <td>2021-07-06 04:21:32</td>\n",
       "      <td>28.03390</td>\n",
       "      <td>1.659600</td>\n",
       "      <td>141966</td>\n",
       "      <td>3765</td>\n",
       "      <td>98748.0</td>\n",
       "      <td>39453.0</td>\n",
       "      <td>Algeria</td>\n",
       "      <td>323.746005</td>\n",
       "      <td>2.652043</td>\n",
       "    </tr>\n",
       "    <tr>\n",
       "      <th>3</th>\n",
       "      <td>NaN</td>\n",
       "      <td>NaN</td>\n",
       "      <td>NaN</td>\n",
       "      <td>Andorra</td>\n",
       "      <td>2021-07-06 04:21:32</td>\n",
       "      <td>42.50630</td>\n",
       "      <td>1.521800</td>\n",
       "      <td>13918</td>\n",
       "      <td>127</td>\n",
       "      <td>13721.0</td>\n",
       "      <td>70.0</td>\n",
       "      <td>Andorra</td>\n",
       "      <td>18013.330745</td>\n",
       "      <td>0.912487</td>\n",
       "    </tr>\n",
       "    <tr>\n",
       "      <th>4</th>\n",
       "      <td>NaN</td>\n",
       "      <td>NaN</td>\n",
       "      <td>NaN</td>\n",
       "      <td>Angola</td>\n",
       "      <td>2021-07-06 04:21:32</td>\n",
       "      <td>-11.20270</td>\n",
       "      <td>17.873900</td>\n",
       "      <td>39300</td>\n",
       "      <td>915</td>\n",
       "      <td>33739.0</td>\n",
       "      <td>4646.0</td>\n",
       "      <td>Angola</td>\n",
       "      <td>119.575487</td>\n",
       "      <td>2.328244</td>\n",
       "    </tr>\n",
       "    <tr>\n",
       "      <th>5</th>\n",
       "      <td>NaN</td>\n",
       "      <td>NaN</td>\n",
       "      <td>NaN</td>\n",
       "      <td>Antigua and Barbuda</td>\n",
       "      <td>2021-07-06 04:21:32</td>\n",
       "      <td>17.06080</td>\n",
       "      <td>-61.796400</td>\n",
       "      <td>1264</td>\n",
       "      <td>42</td>\n",
       "      <td>1222.0</td>\n",
       "      <td>0.0</td>\n",
       "      <td>Antigua and Barbuda</td>\n",
       "      <td>1290.744220</td>\n",
       "      <td>3.322785</td>\n",
       "    </tr>\n",
       "    <tr>\n",
       "      <th>6</th>\n",
       "      <td>NaN</td>\n",
       "      <td>NaN</td>\n",
       "      <td>NaN</td>\n",
       "      <td>Argentina</td>\n",
       "      <td>2021-07-06 04:21:32</td>\n",
       "      <td>-38.41610</td>\n",
       "      <td>-63.616700</td>\n",
       "      <td>4552750</td>\n",
       "      <td>96521</td>\n",
       "      <td>4175856.0</td>\n",
       "      <td>280373.0</td>\n",
       "      <td>Argentina</td>\n",
       "      <td>10073.396902</td>\n",
       "      <td>2.120059</td>\n",
       "    </tr>\n",
       "    <tr>\n",
       "      <th>7</th>\n",
       "      <td>NaN</td>\n",
       "      <td>NaN</td>\n",
       "      <td>NaN</td>\n",
       "      <td>Armenia</td>\n",
       "      <td>2021-07-06 04:21:32</td>\n",
       "      <td>40.06910</td>\n",
       "      <td>45.038200</td>\n",
       "      <td>225606</td>\n",
       "      <td>4527</td>\n",
       "      <td>217198.0</td>\n",
       "      <td>3881.0</td>\n",
       "      <td>Armenia</td>\n",
       "      <td>7613.506055</td>\n",
       "      <td>2.006596</td>\n",
       "    </tr>\n",
       "    <tr>\n",
       "      <th>8</th>\n",
       "      <td>NaN</td>\n",
       "      <td>NaN</td>\n",
       "      <td>Australian Capital Territory</td>\n",
       "      <td>Australia</td>\n",
       "      <td>2021-07-06 04:21:32</td>\n",
       "      <td>-35.47350</td>\n",
       "      <td>149.012400</td>\n",
       "      <td>124</td>\n",
       "      <td>3</td>\n",
       "      <td>121.0</td>\n",
       "      <td>0.0</td>\n",
       "      <td>Australian Capital Territory, Australia</td>\n",
       "      <td>28.965195</td>\n",
       "      <td>2.419355</td>\n",
       "    </tr>\n",
       "    <tr>\n",
       "      <th>9</th>\n",
       "      <td>NaN</td>\n",
       "      <td>NaN</td>\n",
       "      <td>New South Wales</td>\n",
       "      <td>Australia</td>\n",
       "      <td>2021-07-06 04:21:32</td>\n",
       "      <td>-33.86880</td>\n",
       "      <td>151.209300</td>\n",
       "      <td>5997</td>\n",
       "      <td>54</td>\n",
       "      <td>0.0</td>\n",
       "      <td>5943.0</td>\n",
       "      <td>New South Wales, Australia</td>\n",
       "      <td>73.872875</td>\n",
       "      <td>0.900450</td>\n",
       "    </tr>\n",
       "  </tbody>\n",
       "</table>\n",
       "</div>"
      ],
      "text/plain": [
       "   FIPS Admin2                Province_State       Country_Region  \\\n",
       "0   NaN    NaN                           NaN          Afghanistan   \n",
       "1   NaN    NaN                           NaN              Albania   \n",
       "2   NaN    NaN                           NaN              Algeria   \n",
       "3   NaN    NaN                           NaN              Andorra   \n",
       "4   NaN    NaN                           NaN               Angola   \n",
       "5   NaN    NaN                           NaN  Antigua and Barbuda   \n",
       "6   NaN    NaN                           NaN            Argentina   \n",
       "7   NaN    NaN                           NaN              Armenia   \n",
       "8   NaN    NaN  Australian Capital Territory            Australia   \n",
       "9   NaN    NaN               New South Wales            Australia   \n",
       "\n",
       "           Last_Update       Lat       Long_  Confirmed  Deaths  Recovered  \\\n",
       "0  2021-07-06 04:21:32  33.93911   67.709953     125937    5283    75314.0   \n",
       "1  2021-07-06 04:21:32  41.15330   20.168300     132537    2456   130029.0   \n",
       "2  2021-07-06 04:21:32  28.03390    1.659600     141966    3765    98748.0   \n",
       "3  2021-07-06 04:21:32  42.50630    1.521800      13918     127    13721.0   \n",
       "4  2021-07-06 04:21:32 -11.20270   17.873900      39300     915    33739.0   \n",
       "5  2021-07-06 04:21:32  17.06080  -61.796400       1264      42     1222.0   \n",
       "6  2021-07-06 04:21:32 -38.41610  -63.616700    4552750   96521  4175856.0   \n",
       "7  2021-07-06 04:21:32  40.06910   45.038200     225606    4527   217198.0   \n",
       "8  2021-07-06 04:21:32 -35.47350  149.012400        124       3      121.0   \n",
       "9  2021-07-06 04:21:32 -33.86880  151.209300       5997      54        0.0   \n",
       "\n",
       "     Active                             Combined_Key  Incident_Rate  \\\n",
       "0   45340.0                              Afghanistan     323.509805   \n",
       "1      52.0                                  Albania    4605.497255   \n",
       "2   39453.0                                  Algeria     323.746005   \n",
       "3      70.0                                  Andorra   18013.330745   \n",
       "4    4646.0                                   Angola     119.575487   \n",
       "5       0.0                      Antigua and Barbuda    1290.744220   \n",
       "6  280373.0                                Argentina   10073.396902   \n",
       "7    3881.0                                  Armenia    7613.506055   \n",
       "8       0.0  Australian Capital Territory, Australia      28.965195   \n",
       "9    5943.0               New South Wales, Australia      73.872875   \n",
       "\n",
       "   Case_Fatality_Ratio  \n",
       "0             4.194955  \n",
       "1             1.853067  \n",
       "2             2.652043  \n",
       "3             0.912487  \n",
       "4             2.328244  \n",
       "5             3.322785  \n",
       "6             2.120059  \n",
       "7             2.006596  \n",
       "8             2.419355  \n",
       "9             0.900450  "
      ]
     },
     "execution_count": 4,
     "metadata": {},
     "output_type": "execute_result"
    }
   ],
   "source": [
    "df.head(10)"
   ]
  },
  {
   "cell_type": "code",
   "execution_count": 5,
   "metadata": {},
   "outputs": [
    {
     "data": {
      "text/plain": [
       "Index(['FIPS', 'Admin2', 'Province_State', 'Country_Region', 'Last_Update',\n",
       "       'Lat', 'Long_', 'Confirmed', 'Deaths', 'Recovered', 'Active',\n",
       "       'Combined_Key', 'Incident_Rate', 'Case_Fatality_Ratio'],\n",
       "      dtype='object')"
      ]
     },
     "execution_count": 5,
     "metadata": {},
     "output_type": "execute_result"
    }
   ],
   "source": [
    "df.columns"
   ]
  },
  {
   "cell_type": "code",
   "execution_count": 6,
   "metadata": {},
   "outputs": [],
   "source": [
    "df.drop(['FIPS', 'Admin2', 'Last_Update', 'Lat', 'Long_', 'Combined_Key', 'Incident_Rate', 'Case_Fatality_Ratio'], axis=1, inplace=True)"
   ]
  },
  {
   "cell_type": "code",
   "execution_count": 7,
   "metadata": {},
   "outputs": [
    {
     "data": {
      "text/html": [
       "<div>\n",
       "<style scoped>\n",
       "    .dataframe tbody tr th:only-of-type {\n",
       "        vertical-align: middle;\n",
       "    }\n",
       "\n",
       "    .dataframe tbody tr th {\n",
       "        vertical-align: top;\n",
       "    }\n",
       "\n",
       "    .dataframe thead th {\n",
       "        text-align: right;\n",
       "    }\n",
       "</style>\n",
       "<table border=\"1\" class=\"dataframe\">\n",
       "  <thead>\n",
       "    <tr style=\"text-align: right;\">\n",
       "      <th></th>\n",
       "      <th>Province_State</th>\n",
       "      <th>Country_Region</th>\n",
       "      <th>Confirmed</th>\n",
       "      <th>Deaths</th>\n",
       "      <th>Recovered</th>\n",
       "      <th>Active</th>\n",
       "    </tr>\n",
       "  </thead>\n",
       "  <tbody>\n",
       "    <tr>\n",
       "      <th>0</th>\n",
       "      <td>NaN</td>\n",
       "      <td>Afghanistan</td>\n",
       "      <td>125937</td>\n",
       "      <td>5283</td>\n",
       "      <td>75314.0</td>\n",
       "      <td>45340.0</td>\n",
       "    </tr>\n",
       "    <tr>\n",
       "      <th>1</th>\n",
       "      <td>NaN</td>\n",
       "      <td>Albania</td>\n",
       "      <td>132537</td>\n",
       "      <td>2456</td>\n",
       "      <td>130029.0</td>\n",
       "      <td>52.0</td>\n",
       "    </tr>\n",
       "    <tr>\n",
       "      <th>2</th>\n",
       "      <td>NaN</td>\n",
       "      <td>Algeria</td>\n",
       "      <td>141966</td>\n",
       "      <td>3765</td>\n",
       "      <td>98748.0</td>\n",
       "      <td>39453.0</td>\n",
       "    </tr>\n",
       "    <tr>\n",
       "      <th>3</th>\n",
       "      <td>NaN</td>\n",
       "      <td>Andorra</td>\n",
       "      <td>13918</td>\n",
       "      <td>127</td>\n",
       "      <td>13721.0</td>\n",
       "      <td>70.0</td>\n",
       "    </tr>\n",
       "    <tr>\n",
       "      <th>4</th>\n",
       "      <td>NaN</td>\n",
       "      <td>Angola</td>\n",
       "      <td>39300</td>\n",
       "      <td>915</td>\n",
       "      <td>33739.0</td>\n",
       "      <td>4646.0</td>\n",
       "    </tr>\n",
       "  </tbody>\n",
       "</table>\n",
       "</div>"
      ],
      "text/plain": [
       "  Province_State Country_Region  Confirmed  Deaths  Recovered   Active\n",
       "0            NaN    Afghanistan     125937    5283    75314.0  45340.0\n",
       "1            NaN        Albania     132537    2456   130029.0     52.0\n",
       "2            NaN        Algeria     141966    3765    98748.0  39453.0\n",
       "3            NaN        Andorra      13918     127    13721.0     70.0\n",
       "4            NaN         Angola      39300     915    33739.0   4646.0"
      ]
     },
     "execution_count": 7,
     "metadata": {},
     "output_type": "execute_result"
    }
   ],
   "source": [
    "df.head()"
   ]
  },
  {
   "cell_type": "code",
   "execution_count": 8,
   "metadata": {},
   "outputs": [
    {
     "data": {
      "text/plain": [
       "Province_State     173\n",
       "Country_Region       0\n",
       "Confirmed            0\n",
       "Deaths               0\n",
       "Recovered         3277\n",
       "Active            3279\n",
       "dtype: int64"
      ]
     },
     "execution_count": 8,
     "metadata": {},
     "output_type": "execute_result"
    }
   ],
   "source": [
    "df.isnull().sum()"
   ]
  },
  {
   "cell_type": "code",
   "execution_count": 9,
   "metadata": {},
   "outputs": [],
   "source": [
    "df_us = df[df['Country_Region'] == 'US']"
   ]
  },
  {
   "cell_type": "code",
   "execution_count": 10,
   "metadata": {},
   "outputs": [
    {
     "data": {
      "text/html": [
       "<div>\n",
       "<style scoped>\n",
       "    .dataframe tbody tr th:only-of-type {\n",
       "        vertical-align: middle;\n",
       "    }\n",
       "\n",
       "    .dataframe tbody tr th {\n",
       "        vertical-align: top;\n",
       "    }\n",
       "\n",
       "    .dataframe thead th {\n",
       "        text-align: right;\n",
       "    }\n",
       "</style>\n",
       "<table border=\"1\" class=\"dataframe\">\n",
       "  <thead>\n",
       "    <tr style=\"text-align: right;\">\n",
       "      <th></th>\n",
       "      <th>Province_State</th>\n",
       "      <th>Country_Region</th>\n",
       "      <th>Confirmed</th>\n",
       "      <th>Deaths</th>\n",
       "      <th>Recovered</th>\n",
       "      <th>Active</th>\n",
       "    </tr>\n",
       "  </thead>\n",
       "  <tbody>\n",
       "    <tr>\n",
       "      <th>655</th>\n",
       "      <td>Alabama</td>\n",
       "      <td>US</td>\n",
       "      <td>7262</td>\n",
       "      <td>113</td>\n",
       "      <td>NaN</td>\n",
       "      <td>NaN</td>\n",
       "    </tr>\n",
       "    <tr>\n",
       "      <th>656</th>\n",
       "      <td>Alabama</td>\n",
       "      <td>US</td>\n",
       "      <td>22043</td>\n",
       "      <td>315</td>\n",
       "      <td>NaN</td>\n",
       "      <td>NaN</td>\n",
       "    </tr>\n",
       "    <tr>\n",
       "      <th>657</th>\n",
       "      <td>Alabama</td>\n",
       "      <td>US</td>\n",
       "      <td>2347</td>\n",
       "      <td>60</td>\n",
       "      <td>NaN</td>\n",
       "      <td>NaN</td>\n",
       "    </tr>\n",
       "    <tr>\n",
       "      <th>658</th>\n",
       "      <td>Alabama</td>\n",
       "      <td>US</td>\n",
       "      <td>2693</td>\n",
       "      <td>64</td>\n",
       "      <td>NaN</td>\n",
       "      <td>NaN</td>\n",
       "    </tr>\n",
       "    <tr>\n",
       "      <th>659</th>\n",
       "      <td>Alabama</td>\n",
       "      <td>US</td>\n",
       "      <td>6988</td>\n",
       "      <td>139</td>\n",
       "      <td>NaN</td>\n",
       "      <td>NaN</td>\n",
       "    </tr>\n",
       "    <tr>\n",
       "      <th>660</th>\n",
       "      <td>Alabama</td>\n",
       "      <td>US</td>\n",
       "      <td>1250</td>\n",
       "      <td>42</td>\n",
       "      <td>NaN</td>\n",
       "      <td>NaN</td>\n",
       "    </tr>\n",
       "    <tr>\n",
       "      <th>661</th>\n",
       "      <td>Alabama</td>\n",
       "      <td>US</td>\n",
       "      <td>2264</td>\n",
       "      <td>71</td>\n",
       "      <td>NaN</td>\n",
       "      <td>NaN</td>\n",
       "    </tr>\n",
       "    <tr>\n",
       "      <th>662</th>\n",
       "      <td>Alabama</td>\n",
       "      <td>US</td>\n",
       "      <td>14778</td>\n",
       "      <td>330</td>\n",
       "      <td>NaN</td>\n",
       "      <td>NaN</td>\n",
       "    </tr>\n",
       "    <tr>\n",
       "      <th>663</th>\n",
       "      <td>Alabama</td>\n",
       "      <td>US</td>\n",
       "      <td>3738</td>\n",
       "      <td>123</td>\n",
       "      <td>NaN</td>\n",
       "      <td>NaN</td>\n",
       "    </tr>\n",
       "    <tr>\n",
       "      <th>664</th>\n",
       "      <td>Alabama</td>\n",
       "      <td>US</td>\n",
       "      <td>1874</td>\n",
       "      <td>45</td>\n",
       "      <td>NaN</td>\n",
       "      <td>NaN</td>\n",
       "    </tr>\n",
       "  </tbody>\n",
       "</table>\n",
       "</div>"
      ],
      "text/plain": [
       "    Province_State Country_Region  Confirmed  Deaths  Recovered  Active\n",
       "655        Alabama             US       7262     113        NaN     NaN\n",
       "656        Alabama             US      22043     315        NaN     NaN\n",
       "657        Alabama             US       2347      60        NaN     NaN\n",
       "658        Alabama             US       2693      64        NaN     NaN\n",
       "659        Alabama             US       6988     139        NaN     NaN\n",
       "660        Alabama             US       1250      42        NaN     NaN\n",
       "661        Alabama             US       2264      71        NaN     NaN\n",
       "662        Alabama             US      14778     330        NaN     NaN\n",
       "663        Alabama             US       3738     123        NaN     NaN\n",
       "664        Alabama             US       1874      45        NaN     NaN"
      ]
     },
     "execution_count": 10,
     "metadata": {},
     "output_type": "execute_result"
    }
   ],
   "source": [
    "df_us.head(10)"
   ]
  },
  {
   "cell_type": "code",
   "execution_count": 11,
   "metadata": {},
   "outputs": [
    {
     "name": "stderr",
     "output_type": "stream",
     "text": [
      "/home/roblivesinottawa/.local/lib/python3.8/site-packages/pandas/core/frame.py:4906: SettingWithCopyWarning: \n",
      "A value is trying to be set on a copy of a slice from a DataFrame\n",
      "\n",
      "See the caveats in the documentation: https://pandas.pydata.org/pandas-docs/stable/user_guide/indexing.html#returning-a-view-versus-a-copy\n",
      "  return super().drop(\n"
     ]
    }
   ],
   "source": [
    "df_us.drop(['Recovered', 'Active'], axis=1, inplace=True)"
   ]
  },
  {
   "cell_type": "code",
   "execution_count": 12,
   "metadata": {},
   "outputs": [
    {
     "data": {
      "text/html": [
       "<div>\n",
       "<style scoped>\n",
       "    .dataframe tbody tr th:only-of-type {\n",
       "        vertical-align: middle;\n",
       "    }\n",
       "\n",
       "    .dataframe tbody tr th {\n",
       "        vertical-align: top;\n",
       "    }\n",
       "\n",
       "    .dataframe thead th {\n",
       "        text-align: right;\n",
       "    }\n",
       "</style>\n",
       "<table border=\"1\" class=\"dataframe\">\n",
       "  <thead>\n",
       "    <tr style=\"text-align: right;\">\n",
       "      <th></th>\n",
       "      <th>Province_State</th>\n",
       "      <th>Country_Region</th>\n",
       "      <th>Confirmed</th>\n",
       "      <th>Deaths</th>\n",
       "    </tr>\n",
       "  </thead>\n",
       "  <tbody>\n",
       "    <tr>\n",
       "      <th>655</th>\n",
       "      <td>Alabama</td>\n",
       "      <td>US</td>\n",
       "      <td>7262</td>\n",
       "      <td>113</td>\n",
       "    </tr>\n",
       "    <tr>\n",
       "      <th>656</th>\n",
       "      <td>Alabama</td>\n",
       "      <td>US</td>\n",
       "      <td>22043</td>\n",
       "      <td>315</td>\n",
       "    </tr>\n",
       "    <tr>\n",
       "      <th>657</th>\n",
       "      <td>Alabama</td>\n",
       "      <td>US</td>\n",
       "      <td>2347</td>\n",
       "      <td>60</td>\n",
       "    </tr>\n",
       "    <tr>\n",
       "      <th>658</th>\n",
       "      <td>Alabama</td>\n",
       "      <td>US</td>\n",
       "      <td>2693</td>\n",
       "      <td>64</td>\n",
       "    </tr>\n",
       "    <tr>\n",
       "      <th>659</th>\n",
       "      <td>Alabama</td>\n",
       "      <td>US</td>\n",
       "      <td>6988</td>\n",
       "      <td>139</td>\n",
       "    </tr>\n",
       "    <tr>\n",
       "      <th>660</th>\n",
       "      <td>Alabama</td>\n",
       "      <td>US</td>\n",
       "      <td>1250</td>\n",
       "      <td>42</td>\n",
       "    </tr>\n",
       "    <tr>\n",
       "      <th>661</th>\n",
       "      <td>Alabama</td>\n",
       "      <td>US</td>\n",
       "      <td>2264</td>\n",
       "      <td>71</td>\n",
       "    </tr>\n",
       "    <tr>\n",
       "      <th>662</th>\n",
       "      <td>Alabama</td>\n",
       "      <td>US</td>\n",
       "      <td>14778</td>\n",
       "      <td>330</td>\n",
       "    </tr>\n",
       "    <tr>\n",
       "      <th>663</th>\n",
       "      <td>Alabama</td>\n",
       "      <td>US</td>\n",
       "      <td>3738</td>\n",
       "      <td>123</td>\n",
       "    </tr>\n",
       "    <tr>\n",
       "      <th>664</th>\n",
       "      <td>Alabama</td>\n",
       "      <td>US</td>\n",
       "      <td>1874</td>\n",
       "      <td>45</td>\n",
       "    </tr>\n",
       "  </tbody>\n",
       "</table>\n",
       "</div>"
      ],
      "text/plain": [
       "    Province_State Country_Region  Confirmed  Deaths\n",
       "655        Alabama             US       7262     113\n",
       "656        Alabama             US      22043     315\n",
       "657        Alabama             US       2347      60\n",
       "658        Alabama             US       2693      64\n",
       "659        Alabama             US       6988     139\n",
       "660        Alabama             US       1250      42\n",
       "661        Alabama             US       2264      71\n",
       "662        Alabama             US      14778     330\n",
       "663        Alabama             US       3738     123\n",
       "664        Alabama             US       1874      45"
      ]
     },
     "execution_count": 12,
     "metadata": {},
     "output_type": "execute_result"
    }
   ],
   "source": [
    "df_us.head(10)"
   ]
  },
  {
   "cell_type": "code",
   "execution_count": 13,
   "metadata": {},
   "outputs": [
    {
     "name": "stderr",
     "output_type": "stream",
     "text": [
      "/home/roblivesinottawa/.local/lib/python3.8/site-packages/pandas/core/frame.py:5039: SettingWithCopyWarning: \n",
      "A value is trying to be set on a copy of a slice from a DataFrame\n",
      "\n",
      "See the caveats in the documentation: https://pandas.pydata.org/pandas-docs/stable/user_guide/indexing.html#returning-a-view-versus-a-copy\n",
      "  return super().rename(\n"
     ]
    }
   ],
   "source": [
    "df_us.rename(columns={'Province_State': 'State', 'Country_Region': 'Country'}, inplace=True)"
   ]
  },
  {
   "cell_type": "code",
   "execution_count": 14,
   "metadata": {},
   "outputs": [
    {
     "data": {
      "text/html": [
       "<div>\n",
       "<style scoped>\n",
       "    .dataframe tbody tr th:only-of-type {\n",
       "        vertical-align: middle;\n",
       "    }\n",
       "\n",
       "    .dataframe tbody tr th {\n",
       "        vertical-align: top;\n",
       "    }\n",
       "\n",
       "    .dataframe thead th {\n",
       "        text-align: right;\n",
       "    }\n",
       "</style>\n",
       "<table border=\"1\" class=\"dataframe\">\n",
       "  <thead>\n",
       "    <tr style=\"text-align: right;\">\n",
       "      <th></th>\n",
       "      <th>State</th>\n",
       "      <th>Country</th>\n",
       "      <th>Confirmed</th>\n",
       "      <th>Deaths</th>\n",
       "    </tr>\n",
       "  </thead>\n",
       "  <tbody>\n",
       "    <tr>\n",
       "      <th>655</th>\n",
       "      <td>Alabama</td>\n",
       "      <td>US</td>\n",
       "      <td>7262</td>\n",
       "      <td>113</td>\n",
       "    </tr>\n",
       "    <tr>\n",
       "      <th>656</th>\n",
       "      <td>Alabama</td>\n",
       "      <td>US</td>\n",
       "      <td>22043</td>\n",
       "      <td>315</td>\n",
       "    </tr>\n",
       "    <tr>\n",
       "      <th>657</th>\n",
       "      <td>Alabama</td>\n",
       "      <td>US</td>\n",
       "      <td>2347</td>\n",
       "      <td>60</td>\n",
       "    </tr>\n",
       "    <tr>\n",
       "      <th>658</th>\n",
       "      <td>Alabama</td>\n",
       "      <td>US</td>\n",
       "      <td>2693</td>\n",
       "      <td>64</td>\n",
       "    </tr>\n",
       "    <tr>\n",
       "      <th>659</th>\n",
       "      <td>Alabama</td>\n",
       "      <td>US</td>\n",
       "      <td>6988</td>\n",
       "      <td>139</td>\n",
       "    </tr>\n",
       "  </tbody>\n",
       "</table>\n",
       "</div>"
      ],
      "text/plain": [
       "       State Country  Confirmed  Deaths\n",
       "655  Alabama      US       7262     113\n",
       "656  Alabama      US      22043     315\n",
       "657  Alabama      US       2347      60\n",
       "658  Alabama      US       2693      64\n",
       "659  Alabama      US       6988     139"
      ]
     },
     "execution_count": 14,
     "metadata": {},
     "output_type": "execute_result"
    }
   ],
   "source": [
    "df_us.head()"
   ]
  },
  {
   "cell_type": "code",
   "execution_count": 15,
   "metadata": {},
   "outputs": [
    {
     "data": {
      "text/plain": [
       "848     1253\n",
       "849        0\n",
       "850       47\n",
       "851      201\n",
       "852       55\n",
       "853       16\n",
       "854      820\n",
       "855        8\n",
       "856      113\n",
       "857     1727\n",
       "858       20\n",
       "859       49\n",
       "860      739\n",
       "861       36\n",
       "862     1408\n",
       "863      245\n",
       "864       63\n",
       "865       26\n",
       "866    24506\n",
       "867      241\n",
       "868      233\n",
       "869        7\n",
       "870       49\n",
       "871      470\n",
       "872        4\n",
       "873        3\n",
       "874      494\n",
       "875       81\n",
       "876       72\n",
       "877     5126\n",
       "878      302\n",
       "879        4\n",
       "880     4539\n",
       "881     1679\n",
       "882       63\n",
       "883     5037\n",
       "884     3780\n",
       "885      558\n",
       "886     1410\n",
       "887      257\n",
       "888      541\n",
       "889      460\n",
       "890     2095\n",
       "891      208\n",
       "892      205\n",
       "893        0\n",
       "894       29\n",
       "895      268\n",
       "896      316\n",
       "897     1029\n",
       "898      114\n",
       "899       63\n",
       "900        3\n",
       "901      853\n",
       "902       64\n",
       "903        0\n",
       "904     1033\n",
       "905      213\n",
       "906       51\n",
       "Name: Deaths, dtype: int64"
      ]
     },
     "execution_count": 15,
     "metadata": {},
     "output_type": "execute_result"
    }
   ],
   "source": [
    "df_us[df_us['State'] == 'California']['Deaths']"
   ]
  },
  {
   "cell_type": "code",
   "execution_count": 16,
   "metadata": {},
   "outputs": [
    {
     "data": {
      "text/plain": [
       "<AxesSubplot:>"
      ]
     },
     "execution_count": 16,
     "metadata": {},
     "output_type": "execute_result"
    },
    {
     "data": {
      "image/png": "[encoded data removed]",
      "text/plain": [
       "<Figure size 720x432 with 1 Axes>"
      ]
     },
     "metadata": {},
     "output_type": "display_data"
    }
   ],
   "source": [
    "df_us[df_us['State'] == 'California']['Deaths'].plot(kind='line', figsize=(10, 6))"
   ]
  },
  {
   "cell_type": "code",
   "execution_count": 17,
   "metadata": {},
   "outputs": [
    {
     "data": {
      "text/plain": [
       "State\n",
       "California      63286\n",
       "New York        53496\n",
       "Texas           52482\n",
       "Florida         37985\n",
       "Pennsylvania    27706\n",
       "Name: Deaths, dtype: int64"
      ]
     },
     "execution_count": 17,
     "metadata": {},
     "output_type": "execute_result"
    }
   ],
   "source": [
    "# check the top 5 states with the most deaths\n",
    "df_us.groupby('State')['Deaths'].sum().sort_values(ascending=False).head(5)"
   ]
  },
  {
   "cell_type": "code",
   "execution_count": 18,
   "metadata": {},
   "outputs": [
    {
     "data": {
      "text/html": [
       "<div>\n",
       "<style scoped>\n",
       "    .dataframe tbody tr th:only-of-type {\n",
       "        vertical-align: middle;\n",
       "    }\n",
       "\n",
       "    .dataframe tbody tr th {\n",
       "        vertical-align: top;\n",
       "    }\n",
       "\n",
       "    .dataframe thead th {\n",
       "        text-align: right;\n",
       "    }\n",
       "</style>\n",
       "<table border=\"1\" class=\"dataframe\">\n",
       "  <thead>\n",
       "    <tr style=\"text-align: right;\">\n",
       "      <th></th>\n",
       "      <th>State</th>\n",
       "      <th>Country</th>\n",
       "      <th>Confirmed</th>\n",
       "      <th>Deaths</th>\n",
       "    </tr>\n",
       "  </thead>\n",
       "  <tbody>\n",
       "    <tr>\n",
       "      <th>655</th>\n",
       "      <td>Alabama</td>\n",
       "      <td>US</td>\n",
       "      <td>7262</td>\n",
       "      <td>113</td>\n",
       "    </tr>\n",
       "    <tr>\n",
       "      <th>656</th>\n",
       "      <td>Alabama</td>\n",
       "      <td>US</td>\n",
       "      <td>22043</td>\n",
       "      <td>315</td>\n",
       "    </tr>\n",
       "    <tr>\n",
       "      <th>657</th>\n",
       "      <td>Alabama</td>\n",
       "      <td>US</td>\n",
       "      <td>2347</td>\n",
       "      <td>60</td>\n",
       "    </tr>\n",
       "    <tr>\n",
       "      <th>658</th>\n",
       "      <td>Alabama</td>\n",
       "      <td>US</td>\n",
       "      <td>2693</td>\n",
       "      <td>64</td>\n",
       "    </tr>\n",
       "    <tr>\n",
       "      <th>659</th>\n",
       "      <td>Alabama</td>\n",
       "      <td>US</td>\n",
       "      <td>6988</td>\n",
       "      <td>139</td>\n",
       "    </tr>\n",
       "  </tbody>\n",
       "</table>\n",
       "</div>"
      ],
      "text/plain": [
       "       State Country  Confirmed  Deaths\n",
       "655  Alabama      US       7262     113\n",
       "656  Alabama      US      22043     315\n",
       "657  Alabama      US       2347      60\n",
       "658  Alabama      US       2693      64\n",
       "659  Alabama      US       6988     139"
      ]
     },
     "execution_count": 18,
     "metadata": {},
     "output_type": "execute_result"
    }
   ],
   "source": [
    "df_us.head()"
   ]
  },
  {
   "cell_type": "code",
   "execution_count": 19,
   "metadata": {},
   "outputs": [
    {
     "data": {
      "text/plain": [
       "State\n",
       "California      63286\n",
       "New York        53496\n",
       "Texas           52482\n",
       "Florida         37985\n",
       "Pennsylvania    27706\n",
       "Name: Deaths, dtype: int64"
      ]
     },
     "execution_count": 19,
     "metadata": {},
     "output_type": "execute_result"
    }
   ],
   "source": [
    "df_us.groupby('State')['Deaths'].sum().sort_values(ascending=False).head(5)"
   ]
  },
  {
   "cell_type": "code",
   "execution_count": 20,
   "metadata": {},
   "outputs": [
    {
     "data": {
      "text/plain": [
       "<AxesSubplot:xlabel='State'>"
      ]
     },
     "execution_count": 20,
     "metadata": {},
     "output_type": "execute_result"
    },
    {
     "data": {
      "image/png": "[encoded data removed]",
      "text/plain": [
       "<Figure size 720x432 with 1 Axes>"
      ]
     },
     "metadata": {},
     "output_type": "display_data"
    }
   ],
   "source": [
    "df_us.groupby('State')['Deaths'].sum().sort_values(ascending=False).head(5).plot(kind='bar', figsize=(10, 6), rot=45, color='red')"
   ]
  },
  {
   "cell_type": "code",
   "execution_count": 21,
   "metadata": {},
   "outputs": [
    {
     "data": {
      "text/html": [
       "<div>\n",
       "<style scoped>\n",
       "    .dataframe tbody tr th:only-of-type {\n",
       "        vertical-align: middle;\n",
       "    }\n",
       "\n",
       "    .dataframe tbody tr th {\n",
       "        vertical-align: top;\n",
       "    }\n",
       "\n",
       "    .dataframe thead th {\n",
       "        text-align: right;\n",
       "    }\n",
       "</style>\n",
       "<table border=\"1\" class=\"dataframe\">\n",
       "  <thead>\n",
       "    <tr style=\"text-align: right;\">\n",
       "      <th></th>\n",
       "      <th>Province_State</th>\n",
       "      <th>Country_Region</th>\n",
       "      <th>Confirmed</th>\n",
       "      <th>Deaths</th>\n",
       "      <th>Recovered</th>\n",
       "      <th>Active</th>\n",
       "    </tr>\n",
       "  </thead>\n",
       "  <tbody>\n",
       "    <tr>\n",
       "      <th>0</th>\n",
       "      <td>NaN</td>\n",
       "      <td>Afghanistan</td>\n",
       "      <td>125937</td>\n",
       "      <td>5283</td>\n",
       "      <td>75314.0</td>\n",
       "      <td>45340.0</td>\n",
       "    </tr>\n",
       "    <tr>\n",
       "      <th>1</th>\n",
       "      <td>NaN</td>\n",
       "      <td>Albania</td>\n",
       "      <td>132537</td>\n",
       "      <td>2456</td>\n",
       "      <td>130029.0</td>\n",
       "      <td>52.0</td>\n",
       "    </tr>\n",
       "    <tr>\n",
       "      <th>2</th>\n",
       "      <td>NaN</td>\n",
       "      <td>Algeria</td>\n",
       "      <td>141966</td>\n",
       "      <td>3765</td>\n",
       "      <td>98748.0</td>\n",
       "      <td>39453.0</td>\n",
       "    </tr>\n",
       "    <tr>\n",
       "      <th>3</th>\n",
       "      <td>NaN</td>\n",
       "      <td>Andorra</td>\n",
       "      <td>13918</td>\n",
       "      <td>127</td>\n",
       "      <td>13721.0</td>\n",
       "      <td>70.0</td>\n",
       "    </tr>\n",
       "    <tr>\n",
       "      <th>4</th>\n",
       "      <td>NaN</td>\n",
       "      <td>Angola</td>\n",
       "      <td>39300</td>\n",
       "      <td>915</td>\n",
       "      <td>33739.0</td>\n",
       "      <td>4646.0</td>\n",
       "    </tr>\n",
       "    <tr>\n",
       "      <th>5</th>\n",
       "      <td>NaN</td>\n",
       "      <td>Antigua and Barbuda</td>\n",
       "      <td>1264</td>\n",
       "      <td>42</td>\n",
       "      <td>1222.0</td>\n",
       "      <td>0.0</td>\n",
       "    </tr>\n",
       "    <tr>\n",
       "      <th>6</th>\n",
       "      <td>NaN</td>\n",
       "      <td>Argentina</td>\n",
       "      <td>4552750</td>\n",
       "      <td>96521</td>\n",
       "      <td>4175856.0</td>\n",
       "      <td>280373.0</td>\n",
       "    </tr>\n",
       "    <tr>\n",
       "      <th>7</th>\n",
       "      <td>NaN</td>\n",
       "      <td>Armenia</td>\n",
       "      <td>225606</td>\n",
       "      <td>4527</td>\n",
       "      <td>217198.0</td>\n",
       "      <td>3881.0</td>\n",
       "    </tr>\n",
       "    <tr>\n",
       "      <th>8</th>\n",
       "      <td>Australian Capital Territory</td>\n",
       "      <td>Australia</td>\n",
       "      <td>124</td>\n",
       "      <td>3</td>\n",
       "      <td>121.0</td>\n",
       "      <td>0.0</td>\n",
       "    </tr>\n",
       "    <tr>\n",
       "      <th>9</th>\n",
       "      <td>New South Wales</td>\n",
       "      <td>Australia</td>\n",
       "      <td>5997</td>\n",
       "      <td>54</td>\n",
       "      <td>0.0</td>\n",
       "      <td>5943.0</td>\n",
       "    </tr>\n",
       "  </tbody>\n",
       "</table>\n",
       "</div>"
      ],
      "text/plain": [
       "                 Province_State       Country_Region  Confirmed  Deaths  \\\n",
       "0                           NaN          Afghanistan     125937    5283   \n",
       "1                           NaN              Albania     132537    2456   \n",
       "2                           NaN              Algeria     141966    3765   \n",
       "3                           NaN              Andorra      13918     127   \n",
       "4                           NaN               Angola      39300     915   \n",
       "5                           NaN  Antigua and Barbuda       1264      42   \n",
       "6                           NaN            Argentina    4552750   96521   \n",
       "7                           NaN              Armenia     225606    4527   \n",
       "8  Australian Capital Territory            Australia        124       3   \n",
       "9               New South Wales            Australia       5997      54   \n",
       "\n",
       "   Recovered    Active  \n",
       "0    75314.0   45340.0  \n",
       "1   130029.0      52.0  \n",
       "2    98748.0   39453.0  \n",
       "3    13721.0      70.0  \n",
       "4    33739.0    4646.0  \n",
       "5     1222.0       0.0  \n",
       "6  4175856.0  280373.0  \n",
       "7   217198.0    3881.0  \n",
       "8      121.0       0.0  \n",
       "9        0.0    5943.0  "
      ]
     },
     "execution_count": 21,
     "metadata": {},
     "output_type": "execute_result"
    }
   ],
   "source": [
    "df.head(10)"
   ]
  },
  {
   "cell_type": "code",
   "execution_count": 22,
   "metadata": {},
   "outputs": [],
   "source": [
    "df.rename(columns={'Province_State': 'State', 'Country_Region': 'Country'}, inplace=True)"
   ]
  },
  {
   "cell_type": "code",
   "execution_count": 23,
   "metadata": {},
   "outputs": [
    {
     "data": {
      "text/html": [
       "<div>\n",
       "<style scoped>\n",
       "    .dataframe tbody tr th:only-of-type {\n",
       "        vertical-align: middle;\n",
       "    }\n",
       "\n",
       "    .dataframe tbody tr th {\n",
       "        vertical-align: top;\n",
       "    }\n",
       "\n",
       "    .dataframe thead th {\n",
       "        text-align: right;\n",
       "    }\n",
       "</style>\n",
       "<table border=\"1\" class=\"dataframe\">\n",
       "  <thead>\n",
       "    <tr style=\"text-align: right;\">\n",
       "      <th></th>\n",
       "      <th>State</th>\n",
       "      <th>Country</th>\n",
       "      <th>Confirmed</th>\n",
       "      <th>Deaths</th>\n",
       "      <th>Recovered</th>\n",
       "      <th>Active</th>\n",
       "    </tr>\n",
       "  </thead>\n",
       "  <tbody>\n",
       "    <tr>\n",
       "      <th>0</th>\n",
       "      <td>NaN</td>\n",
       "      <td>Afghanistan</td>\n",
       "      <td>125937</td>\n",
       "      <td>5283</td>\n",
       "      <td>75314.0</td>\n",
       "      <td>45340.0</td>\n",
       "    </tr>\n",
       "    <tr>\n",
       "      <th>1</th>\n",
       "      <td>NaN</td>\n",
       "      <td>Albania</td>\n",
       "      <td>132537</td>\n",
       "      <td>2456</td>\n",
       "      <td>130029.0</td>\n",
       "      <td>52.0</td>\n",
       "    </tr>\n",
       "    <tr>\n",
       "      <th>2</th>\n",
       "      <td>NaN</td>\n",
       "      <td>Algeria</td>\n",
       "      <td>141966</td>\n",
       "      <td>3765</td>\n",
       "      <td>98748.0</td>\n",
       "      <td>39453.0</td>\n",
       "    </tr>\n",
       "    <tr>\n",
       "      <th>3</th>\n",
       "      <td>NaN</td>\n",
       "      <td>Andorra</td>\n",
       "      <td>13918</td>\n",
       "      <td>127</td>\n",
       "      <td>13721.0</td>\n",
       "      <td>70.0</td>\n",
       "    </tr>\n",
       "    <tr>\n",
       "      <th>4</th>\n",
       "      <td>NaN</td>\n",
       "      <td>Angola</td>\n",
       "      <td>39300</td>\n",
       "      <td>915</td>\n",
       "      <td>33739.0</td>\n",
       "      <td>4646.0</td>\n",
       "    </tr>\n",
       "    <tr>\n",
       "      <th>5</th>\n",
       "      <td>NaN</td>\n",
       "      <td>Antigua and Barbuda</td>\n",
       "      <td>1264</td>\n",
       "      <td>42</td>\n",
       "      <td>1222.0</td>\n",
       "      <td>0.0</td>\n",
       "    </tr>\n",
       "    <tr>\n",
       "      <th>6</th>\n",
       "      <td>NaN</td>\n",
       "      <td>Argentina</td>\n",
       "      <td>4552750</td>\n",
       "      <td>96521</td>\n",
       "      <td>4175856.0</td>\n",
       "      <td>280373.0</td>\n",
       "    </tr>\n",
       "    <tr>\n",
       "      <th>7</th>\n",
       "      <td>NaN</td>\n",
       "      <td>Armenia</td>\n",
       "      <td>225606</td>\n",
       "      <td>4527</td>\n",
       "      <td>217198.0</td>\n",
       "      <td>3881.0</td>\n",
       "    </tr>\n",
       "    <tr>\n",
       "      <th>8</th>\n",
       "      <td>Australian Capital Territory</td>\n",
       "      <td>Australia</td>\n",
       "      <td>124</td>\n",
       "      <td>3</td>\n",
       "      <td>121.0</td>\n",
       "      <td>0.0</td>\n",
       "    </tr>\n",
       "    <tr>\n",
       "      <th>9</th>\n",
       "      <td>New South Wales</td>\n",
       "      <td>Australia</td>\n",
       "      <td>5997</td>\n",
       "      <td>54</td>\n",
       "      <td>0.0</td>\n",
       "      <td>5943.0</td>\n",
       "    </tr>\n",
       "  </tbody>\n",
       "</table>\n",
       "</div>"
      ],
      "text/plain": [
       "                          State              Country  Confirmed  Deaths  \\\n",
       "0                           NaN          Afghanistan     125937    5283   \n",
       "1                           NaN              Albania     132537    2456   \n",
       "2                           NaN              Algeria     141966    3765   \n",
       "3                           NaN              Andorra      13918     127   \n",
       "4                           NaN               Angola      39300     915   \n",
       "5                           NaN  Antigua and Barbuda       1264      42   \n",
       "6                           NaN            Argentina    4552750   96521   \n",
       "7                           NaN              Armenia     225606    4527   \n",
       "8  Australian Capital Territory            Australia        124       3   \n",
       "9               New South Wales            Australia       5997      54   \n",
       "\n",
       "   Recovered    Active  \n",
       "0    75314.0   45340.0  \n",
       "1   130029.0      52.0  \n",
       "2    98748.0   39453.0  \n",
       "3    13721.0      70.0  \n",
       "4    33739.0    4646.0  \n",
       "5     1222.0       0.0  \n",
       "6  4175856.0  280373.0  \n",
       "7   217198.0    3881.0  \n",
       "8      121.0       0.0  \n",
       "9        0.0    5943.0  "
      ]
     },
     "execution_count": 23,
     "metadata": {},
     "output_type": "execute_result"
    }
   ],
   "source": [
    "df.head(10)"
   ]
  },
  {
   "cell_type": "code",
   "execution_count": 24,
   "metadata": {},
   "outputs": [],
   "source": [
    "df_canada = df[df['Country'] == 'Canada']"
   ]
  },
  {
   "cell_type": "code",
   "execution_count": 25,
   "metadata": {},
   "outputs": [
    {
     "data": {
      "text/html": [
       "<div>\n",
       "<style scoped>\n",
       "    .dataframe tbody tr th:only-of-type {\n",
       "        vertical-align: middle;\n",
       "    }\n",
       "\n",
       "    .dataframe tbody tr th {\n",
       "        vertical-align: top;\n",
       "    }\n",
       "\n",
       "    .dataframe thead th {\n",
       "        text-align: right;\n",
       "    }\n",
       "</style>\n",
       "<table border=\"1\" class=\"dataframe\">\n",
       "  <thead>\n",
       "    <tr style=\"text-align: right;\">\n",
       "      <th></th>\n",
       "      <th>State</th>\n",
       "      <th>Country</th>\n",
       "      <th>Confirmed</th>\n",
       "      <th>Deaths</th>\n",
       "      <th>Recovered</th>\n",
       "      <th>Active</th>\n",
       "    </tr>\n",
       "  </thead>\n",
       "  <tbody>\n",
       "    <tr>\n",
       "      <th>76</th>\n",
       "      <td>Alberta</td>\n",
       "      <td>Canada</td>\n",
       "      <td>232236</td>\n",
       "      <td>2303</td>\n",
       "      <td>229102.0</td>\n",
       "      <td>831.0</td>\n",
       "    </tr>\n",
       "    <tr>\n",
       "      <th>77</th>\n",
       "      <td>British Columbia</td>\n",
       "      <td>Canada</td>\n",
       "      <td>147790</td>\n",
       "      <td>1759</td>\n",
       "      <td>145362.0</td>\n",
       "      <td>669.0</td>\n",
       "    </tr>\n",
       "    <tr>\n",
       "      <th>78</th>\n",
       "      <td>Diamond Princess</td>\n",
       "      <td>Canada</td>\n",
       "      <td>0</td>\n",
       "      <td>1</td>\n",
       "      <td>0.0</td>\n",
       "      <td>NaN</td>\n",
       "    </tr>\n",
       "    <tr>\n",
       "      <th>79</th>\n",
       "      <td>Grand Princess</td>\n",
       "      <td>Canada</td>\n",
       "      <td>13</td>\n",
       "      <td>0</td>\n",
       "      <td>13.0</td>\n",
       "      <td>0.0</td>\n",
       "    </tr>\n",
       "    <tr>\n",
       "      <th>80</th>\n",
       "      <td>Manitoba</td>\n",
       "      <td>Canada</td>\n",
       "      <td>56482</td>\n",
       "      <td>1151</td>\n",
       "      <td>54309.0</td>\n",
       "      <td>1022.0</td>\n",
       "    </tr>\n",
       "    <tr>\n",
       "      <th>81</th>\n",
       "      <td>New Brunswick</td>\n",
       "      <td>Canada</td>\n",
       "      <td>2338</td>\n",
       "      <td>46</td>\n",
       "      <td>2273.0</td>\n",
       "      <td>19.0</td>\n",
       "    </tr>\n",
       "    <tr>\n",
       "      <th>82</th>\n",
       "      <td>Newfoundland and Labrador</td>\n",
       "      <td>Canada</td>\n",
       "      <td>1400</td>\n",
       "      <td>7</td>\n",
       "      <td>1372.0</td>\n",
       "      <td>21.0</td>\n",
       "    </tr>\n",
       "    <tr>\n",
       "      <th>83</th>\n",
       "      <td>Northwest Territories</td>\n",
       "      <td>Canada</td>\n",
       "      <td>128</td>\n",
       "      <td>0</td>\n",
       "      <td>128.0</td>\n",
       "      <td>0.0</td>\n",
       "    </tr>\n",
       "    <tr>\n",
       "      <th>84</th>\n",
       "      <td>Nova Scotia</td>\n",
       "      <td>Canada</td>\n",
       "      <td>5854</td>\n",
       "      <td>92</td>\n",
       "      <td>5717.0</td>\n",
       "      <td>45.0</td>\n",
       "    </tr>\n",
       "    <tr>\n",
       "      <th>85</th>\n",
       "      <td>Nunavut</td>\n",
       "      <td>Canada</td>\n",
       "      <td>657</td>\n",
       "      <td>4</td>\n",
       "      <td>653.0</td>\n",
       "      <td>0.0</td>\n",
       "    </tr>\n",
       "  </tbody>\n",
       "</table>\n",
       "</div>"
      ],
      "text/plain": [
       "                        State Country  Confirmed  Deaths  Recovered  Active\n",
       "76                    Alberta  Canada     232236    2303   229102.0   831.0\n",
       "77           British Columbia  Canada     147790    1759   145362.0   669.0\n",
       "78           Diamond Princess  Canada          0       1        0.0     NaN\n",
       "79             Grand Princess  Canada         13       0       13.0     0.0\n",
       "80                   Manitoba  Canada      56482    1151    54309.0  1022.0\n",
       "81              New Brunswick  Canada       2338      46     2273.0    19.0\n",
       "82  Newfoundland and Labrador  Canada       1400       7     1372.0    21.0\n",
       "83      Northwest Territories  Canada        128       0      128.0     0.0\n",
       "84                Nova Scotia  Canada       5854      92     5717.0    45.0\n",
       "85                    Nunavut  Canada        657       4      653.0     0.0"
      ]
     },
     "execution_count": 25,
     "metadata": {},
     "output_type": "execute_result"
    }
   ],
   "source": [
    "df_canada.head(10)"
   ]
  },
  {
   "cell_type": "code",
   "execution_count": 26,
   "metadata": {},
   "outputs": [
    {
     "name": "stderr",
     "output_type": "stream",
     "text": [
      "/home/roblivesinottawa/.local/lib/python3.8/site-packages/pandas/core/frame.py:5039: SettingWithCopyWarning: \n",
      "A value is trying to be set on a copy of a slice from a DataFrame\n",
      "\n",
      "See the caveats in the documentation: https://pandas.pydata.org/pandas-docs/stable/user_guide/indexing.html#returning-a-view-versus-a-copy\n",
      "  return super().rename(\n"
     ]
    }
   ],
   "source": [
    "df_canada.rename({'State': 'Province'}, axis=1, inplace=True)"
   ]
  },
  {
   "cell_type": "code",
   "execution_count": 27,
   "metadata": {},
   "outputs": [
    {
     "data": {
      "text/html": [
       "<div>\n",
       "<style scoped>\n",
       "    .dataframe tbody tr th:only-of-type {\n",
       "        vertical-align: middle;\n",
       "    }\n",
       "\n",
       "    .dataframe tbody tr th {\n",
       "        vertical-align: top;\n",
       "    }\n",
       "\n",
       "    .dataframe thead th {\n",
       "        text-align: right;\n",
       "    }\n",
       "</style>\n",
       "<table border=\"1\" class=\"dataframe\">\n",
       "  <thead>\n",
       "    <tr style=\"text-align: right;\">\n",
       "      <th></th>\n",
       "      <th>Province</th>\n",
       "      <th>Country</th>\n",
       "      <th>Confirmed</th>\n",
       "      <th>Deaths</th>\n",
       "      <th>Recovered</th>\n",
       "      <th>Active</th>\n",
       "    </tr>\n",
       "  </thead>\n",
       "  <tbody>\n",
       "    <tr>\n",
       "      <th>76</th>\n",
       "      <td>Alberta</td>\n",
       "      <td>Canada</td>\n",
       "      <td>232236</td>\n",
       "      <td>2303</td>\n",
       "      <td>229102.0</td>\n",
       "      <td>831.0</td>\n",
       "    </tr>\n",
       "    <tr>\n",
       "      <th>77</th>\n",
       "      <td>British Columbia</td>\n",
       "      <td>Canada</td>\n",
       "      <td>147790</td>\n",
       "      <td>1759</td>\n",
       "      <td>145362.0</td>\n",
       "      <td>669.0</td>\n",
       "    </tr>\n",
       "    <tr>\n",
       "      <th>78</th>\n",
       "      <td>Diamond Princess</td>\n",
       "      <td>Canada</td>\n",
       "      <td>0</td>\n",
       "      <td>1</td>\n",
       "      <td>0.0</td>\n",
       "      <td>NaN</td>\n",
       "    </tr>\n",
       "    <tr>\n",
       "      <th>79</th>\n",
       "      <td>Grand Princess</td>\n",
       "      <td>Canada</td>\n",
       "      <td>13</td>\n",
       "      <td>0</td>\n",
       "      <td>13.0</td>\n",
       "      <td>0.0</td>\n",
       "    </tr>\n",
       "    <tr>\n",
       "      <th>80</th>\n",
       "      <td>Manitoba</td>\n",
       "      <td>Canada</td>\n",
       "      <td>56482</td>\n",
       "      <td>1151</td>\n",
       "      <td>54309.0</td>\n",
       "      <td>1022.0</td>\n",
       "    </tr>\n",
       "    <tr>\n",
       "      <th>81</th>\n",
       "      <td>New Brunswick</td>\n",
       "      <td>Canada</td>\n",
       "      <td>2338</td>\n",
       "      <td>46</td>\n",
       "      <td>2273.0</td>\n",
       "      <td>19.0</td>\n",
       "    </tr>\n",
       "    <tr>\n",
       "      <th>82</th>\n",
       "      <td>Newfoundland and Labrador</td>\n",
       "      <td>Canada</td>\n",
       "      <td>1400</td>\n",
       "      <td>7</td>\n",
       "      <td>1372.0</td>\n",
       "      <td>21.0</td>\n",
       "    </tr>\n",
       "    <tr>\n",
       "      <th>83</th>\n",
       "      <td>Northwest Territories</td>\n",
       "      <td>Canada</td>\n",
       "      <td>128</td>\n",
       "      <td>0</td>\n",
       "      <td>128.0</td>\n",
       "      <td>0.0</td>\n",
       "    </tr>\n",
       "    <tr>\n",
       "      <th>84</th>\n",
       "      <td>Nova Scotia</td>\n",
       "      <td>Canada</td>\n",
       "      <td>5854</td>\n",
       "      <td>92</td>\n",
       "      <td>5717.0</td>\n",
       "      <td>45.0</td>\n",
       "    </tr>\n",
       "    <tr>\n",
       "      <th>85</th>\n",
       "      <td>Nunavut</td>\n",
       "      <td>Canada</td>\n",
       "      <td>657</td>\n",
       "      <td>4</td>\n",
       "      <td>653.0</td>\n",
       "      <td>0.0</td>\n",
       "    </tr>\n",
       "    <tr>\n",
       "      <th>86</th>\n",
       "      <td>Ontario</td>\n",
       "      <td>Canada</td>\n",
       "      <td>553551</td>\n",
       "      <td>9215</td>\n",
       "      <td>542430.0</td>\n",
       "      <td>1939.0</td>\n",
       "    </tr>\n",
       "    <tr>\n",
       "      <th>87</th>\n",
       "      <td>Prince Edward Island</td>\n",
       "      <td>Canada</td>\n",
       "      <td>207</td>\n",
       "      <td>0</td>\n",
       "      <td>206.0</td>\n",
       "      <td>1.0</td>\n",
       "    </tr>\n",
       "    <tr>\n",
       "      <th>88</th>\n",
       "      <td>Quebec</td>\n",
       "      <td>Canada</td>\n",
       "      <td>375522</td>\n",
       "      <td>11218</td>\n",
       "      <td>363245.0</td>\n",
       "      <td>732.0</td>\n",
       "    </tr>\n",
       "    <tr>\n",
       "      <th>89</th>\n",
       "      <td>Repatriated Travellers</td>\n",
       "      <td>Canada</td>\n",
       "      <td>13</td>\n",
       "      <td>0</td>\n",
       "      <td>13.0</td>\n",
       "      <td>0.0</td>\n",
       "    </tr>\n",
       "    <tr>\n",
       "      <th>90</th>\n",
       "      <td>Saskatchewan</td>\n",
       "      <td>Canada</td>\n",
       "      <td>48978</td>\n",
       "      <td>568</td>\n",
       "      <td>48050.0</td>\n",
       "      <td>360.0</td>\n",
       "    </tr>\n",
       "    <tr>\n",
       "      <th>91</th>\n",
       "      <td>Yukon</td>\n",
       "      <td>Canada</td>\n",
       "      <td>425</td>\n",
       "      <td>5</td>\n",
       "      <td>277.0</td>\n",
       "      <td>143.0</td>\n",
       "    </tr>\n",
       "  </tbody>\n",
       "</table>\n",
       "</div>"
      ],
      "text/plain": [
       "                     Province Country  Confirmed  Deaths  Recovered  Active\n",
       "76                    Alberta  Canada     232236    2303   229102.0   831.0\n",
       "77           British Columbia  Canada     147790    1759   145362.0   669.0\n",
       "78           Diamond Princess  Canada          0       1        0.0     NaN\n",
       "79             Grand Princess  Canada         13       0       13.0     0.0\n",
       "80                   Manitoba  Canada      56482    1151    54309.0  1022.0\n",
       "81              New Brunswick  Canada       2338      46     2273.0    19.0\n",
       "82  Newfoundland and Labrador  Canada       1400       7     1372.0    21.0\n",
       "83      Northwest Territories  Canada        128       0      128.0     0.0\n",
       "84                Nova Scotia  Canada       5854      92     5717.0    45.0\n",
       "85                    Nunavut  Canada        657       4      653.0     0.0\n",
       "86                    Ontario  Canada     553551    9215   542430.0  1939.0\n",
       "87       Prince Edward Island  Canada        207       0      206.0     1.0\n",
       "88                     Quebec  Canada     375522   11218   363245.0   732.0\n",
       "89     Repatriated Travellers  Canada         13       0       13.0     0.0\n",
       "90               Saskatchewan  Canada      48978     568    48050.0   360.0\n",
       "91                      Yukon  Canada        425       5      277.0   143.0"
      ]
     },
     "execution_count": 27,
     "metadata": {},
     "output_type": "execute_result"
    }
   ],
   "source": [
    "df_canada"
   ]
  },
  {
   "cell_type": "code",
   "execution_count": 28,
   "metadata": {},
   "outputs": [
    {
     "data": {
      "text/html": [
       "<div>\n",
       "<style scoped>\n",
       "    .dataframe tbody tr th:only-of-type {\n",
       "        vertical-align: middle;\n",
       "    }\n",
       "\n",
       "    .dataframe tbody tr th {\n",
       "        vertical-align: top;\n",
       "    }\n",
       "\n",
       "    .dataframe thead th {\n",
       "        text-align: right;\n",
       "    }\n",
       "</style>\n",
       "<table border=\"1\" class=\"dataframe\">\n",
       "  <thead>\n",
       "    <tr style=\"text-align: right;\">\n",
       "      <th></th>\n",
       "      <th>Province</th>\n",
       "      <th>Country</th>\n",
       "      <th>Confirmed</th>\n",
       "      <th>Deaths</th>\n",
       "      <th>Recovered</th>\n",
       "      <th>Active</th>\n",
       "    </tr>\n",
       "  </thead>\n",
       "  <tbody>\n",
       "    <tr>\n",
       "      <th>88</th>\n",
       "      <td>Quebec</td>\n",
       "      <td>Canada</td>\n",
       "      <td>375522</td>\n",
       "      <td>11218</td>\n",
       "      <td>363245.0</td>\n",
       "      <td>732.0</td>\n",
       "    </tr>\n",
       "  </tbody>\n",
       "</table>\n",
       "</div>"
      ],
      "text/plain": [
       "   Province Country  Confirmed  Deaths  Recovered  Active\n",
       "88   Quebec  Canada     375522   11218   363245.0   732.0"
      ]
     },
     "execution_count": 28,
     "metadata": {},
     "output_type": "execute_result"
    }
   ],
   "source": [
    "df_canada[df_canada.Province == 'Quebec']"
   ]
  },
  {
   "cell_type": "code",
   "execution_count": 29,
   "metadata": {},
   "outputs": [
    {
     "data": {
      "text/html": [
       "<div>\n",
       "<style scoped>\n",
       "    .dataframe tbody tr th:only-of-type {\n",
       "        vertical-align: middle;\n",
       "    }\n",
       "\n",
       "    .dataframe tbody tr th {\n",
       "        vertical-align: top;\n",
       "    }\n",
       "\n",
       "    .dataframe thead th {\n",
       "        text-align: right;\n",
       "    }\n",
       "</style>\n",
       "<table border=\"1\" class=\"dataframe\">\n",
       "  <thead>\n",
       "    <tr style=\"text-align: right;\">\n",
       "      <th></th>\n",
       "      <th>Province</th>\n",
       "      <th>Country</th>\n",
       "      <th>Confirmed</th>\n",
       "      <th>Deaths</th>\n",
       "      <th>Recovered</th>\n",
       "      <th>Active</th>\n",
       "    </tr>\n",
       "  </thead>\n",
       "  <tbody>\n",
       "    <tr>\n",
       "      <th>76</th>\n",
       "      <td>Alberta</td>\n",
       "      <td>Canada</td>\n",
       "      <td>232236</td>\n",
       "      <td>2303</td>\n",
       "      <td>229102.0</td>\n",
       "      <td>831.0</td>\n",
       "    </tr>\n",
       "    <tr>\n",
       "      <th>77</th>\n",
       "      <td>British Columbia</td>\n",
       "      <td>Canada</td>\n",
       "      <td>147790</td>\n",
       "      <td>1759</td>\n",
       "      <td>145362.0</td>\n",
       "      <td>669.0</td>\n",
       "    </tr>\n",
       "    <tr>\n",
       "      <th>78</th>\n",
       "      <td>Diamond Princess</td>\n",
       "      <td>Canada</td>\n",
       "      <td>0</td>\n",
       "      <td>1</td>\n",
       "      <td>0.0</td>\n",
       "      <td>NaN</td>\n",
       "    </tr>\n",
       "    <tr>\n",
       "      <th>79</th>\n",
       "      <td>Grand Princess</td>\n",
       "      <td>Canada</td>\n",
       "      <td>13</td>\n",
       "      <td>0</td>\n",
       "      <td>13.0</td>\n",
       "      <td>0.0</td>\n",
       "    </tr>\n",
       "    <tr>\n",
       "      <th>80</th>\n",
       "      <td>Manitoba</td>\n",
       "      <td>Canada</td>\n",
       "      <td>56482</td>\n",
       "      <td>1151</td>\n",
       "      <td>54309.0</td>\n",
       "      <td>1022.0</td>\n",
       "    </tr>\n",
       "    <tr>\n",
       "      <th>81</th>\n",
       "      <td>New Brunswick</td>\n",
       "      <td>Canada</td>\n",
       "      <td>2338</td>\n",
       "      <td>46</td>\n",
       "      <td>2273.0</td>\n",
       "      <td>19.0</td>\n",
       "    </tr>\n",
       "    <tr>\n",
       "      <th>82</th>\n",
       "      <td>Newfoundland and Labrador</td>\n",
       "      <td>Canada</td>\n",
       "      <td>1400</td>\n",
       "      <td>7</td>\n",
       "      <td>1372.0</td>\n",
       "      <td>21.0</td>\n",
       "    </tr>\n",
       "    <tr>\n",
       "      <th>83</th>\n",
       "      <td>Northwest Territories</td>\n",
       "      <td>Canada</td>\n",
       "      <td>128</td>\n",
       "      <td>0</td>\n",
       "      <td>128.0</td>\n",
       "      <td>0.0</td>\n",
       "    </tr>\n",
       "    <tr>\n",
       "      <th>84</th>\n",
       "      <td>Nova Scotia</td>\n",
       "      <td>Canada</td>\n",
       "      <td>5854</td>\n",
       "      <td>92</td>\n",
       "      <td>5717.0</td>\n",
       "      <td>45.0</td>\n",
       "    </tr>\n",
       "    <tr>\n",
       "      <th>85</th>\n",
       "      <td>Nunavut</td>\n",
       "      <td>Canada</td>\n",
       "      <td>657</td>\n",
       "      <td>4</td>\n",
       "      <td>653.0</td>\n",
       "      <td>0.0</td>\n",
       "    </tr>\n",
       "    <tr>\n",
       "      <th>86</th>\n",
       "      <td>Ontario</td>\n",
       "      <td>Canada</td>\n",
       "      <td>553551</td>\n",
       "      <td>9215</td>\n",
       "      <td>542430.0</td>\n",
       "      <td>1939.0</td>\n",
       "    </tr>\n",
       "    <tr>\n",
       "      <th>87</th>\n",
       "      <td>Prince Edward Island</td>\n",
       "      <td>Canada</td>\n",
       "      <td>207</td>\n",
       "      <td>0</td>\n",
       "      <td>206.0</td>\n",
       "      <td>1.0</td>\n",
       "    </tr>\n",
       "    <tr>\n",
       "      <th>88</th>\n",
       "      <td>Quebec</td>\n",
       "      <td>Canada</td>\n",
       "      <td>375522</td>\n",
       "      <td>11218</td>\n",
       "      <td>363245.0</td>\n",
       "      <td>732.0</td>\n",
       "    </tr>\n",
       "    <tr>\n",
       "      <th>89</th>\n",
       "      <td>Repatriated Travellers</td>\n",
       "      <td>Canada</td>\n",
       "      <td>13</td>\n",
       "      <td>0</td>\n",
       "      <td>13.0</td>\n",
       "      <td>0.0</td>\n",
       "    </tr>\n",
       "    <tr>\n",
       "      <th>90</th>\n",
       "      <td>Saskatchewan</td>\n",
       "      <td>Canada</td>\n",
       "      <td>48978</td>\n",
       "      <td>568</td>\n",
       "      <td>48050.0</td>\n",
       "      <td>360.0</td>\n",
       "    </tr>\n",
       "    <tr>\n",
       "      <th>91</th>\n",
       "      <td>Yukon</td>\n",
       "      <td>Canada</td>\n",
       "      <td>425</td>\n",
       "      <td>5</td>\n",
       "      <td>277.0</td>\n",
       "      <td>143.0</td>\n",
       "    </tr>\n",
       "  </tbody>\n",
       "</table>\n",
       "</div>"
      ],
      "text/plain": [
       "                     Province Country  Confirmed  Deaths  Recovered  Active\n",
       "76                    Alberta  Canada     232236    2303   229102.0   831.0\n",
       "77           British Columbia  Canada     147790    1759   145362.0   669.0\n",
       "78           Diamond Princess  Canada          0       1        0.0     NaN\n",
       "79             Grand Princess  Canada         13       0       13.0     0.0\n",
       "80                   Manitoba  Canada      56482    1151    54309.0  1022.0\n",
       "81              New Brunswick  Canada       2338      46     2273.0    19.0\n",
       "82  Newfoundland and Labrador  Canada       1400       7     1372.0    21.0\n",
       "83      Northwest Territories  Canada        128       0      128.0     0.0\n",
       "84                Nova Scotia  Canada       5854      92     5717.0    45.0\n",
       "85                    Nunavut  Canada        657       4      653.0     0.0\n",
       "86                    Ontario  Canada     553551    9215   542430.0  1939.0\n",
       "87       Prince Edward Island  Canada        207       0      206.0     1.0\n",
       "88                     Quebec  Canada     375522   11218   363245.0   732.0\n",
       "89     Repatriated Travellers  Canada         13       0       13.0     0.0\n",
       "90               Saskatchewan  Canada      48978     568    48050.0   360.0\n",
       "91                      Yukon  Canada        425       5      277.0   143.0"
      ]
     },
     "execution_count": 29,
     "metadata": {},
     "output_type": "execute_result"
    }
   ],
   "source": [
    "df_canada"
   ]
  },
  {
   "cell_type": "code",
   "execution_count": 30,
   "metadata": {},
   "outputs": [
    {
     "data": {
      "text/html": [
       "<div>\n",
       "<style scoped>\n",
       "    .dataframe tbody tr th:only-of-type {\n",
       "        vertical-align: middle;\n",
       "    }\n",
       "\n",
       "    .dataframe tbody tr th {\n",
       "        vertical-align: top;\n",
       "    }\n",
       "\n",
       "    .dataframe thead th {\n",
       "        text-align: right;\n",
       "    }\n",
       "</style>\n",
       "<table border=\"1\" class=\"dataframe\">\n",
       "  <thead>\n",
       "    <tr style=\"text-align: right;\">\n",
       "      <th></th>\n",
       "      <th>Province</th>\n",
       "      <th>Country</th>\n",
       "      <th>Confirmed</th>\n",
       "      <th>Deaths</th>\n",
       "      <th>Recovered</th>\n",
       "      <th>Active</th>\n",
       "    </tr>\n",
       "  </thead>\n",
       "  <tbody>\n",
       "    <tr>\n",
       "      <th>86</th>\n",
       "      <td>Ontario</td>\n",
       "      <td>Canada</td>\n",
       "      <td>553551</td>\n",
       "      <td>9215</td>\n",
       "      <td>542430.0</td>\n",
       "      <td>1939.0</td>\n",
       "    </tr>\n",
       "  </tbody>\n",
       "</table>\n",
       "</div>"
      ],
      "text/plain": [
       "   Province Country  Confirmed  Deaths  Recovered  Active\n",
       "86  Ontario  Canada     553551    9215   542430.0  1939.0"
      ]
     },
     "execution_count": 30,
     "metadata": {},
     "output_type": "execute_result"
    }
   ],
   "source": [
    "df_canada[df_canada['Province'] == 'Ontario']  "
   ]
  },
  {
   "cell_type": "code",
   "execution_count": 31,
   "metadata": {},
   "outputs": [
    {
     "data": {
      "text/html": [
       "<div>\n",
       "<style scoped>\n",
       "    .dataframe tbody tr th:only-of-type {\n",
       "        vertical-align: middle;\n",
       "    }\n",
       "\n",
       "    .dataframe tbody tr th {\n",
       "        vertical-align: top;\n",
       "    }\n",
       "\n",
       "    .dataframe thead th {\n",
       "        text-align: right;\n",
       "    }\n",
       "</style>\n",
       "<table border=\"1\" class=\"dataframe\">\n",
       "  <thead>\n",
       "    <tr style=\"text-align: right;\">\n",
       "      <th></th>\n",
       "      <th>State</th>\n",
       "      <th>Country</th>\n",
       "      <th>Confirmed</th>\n",
       "      <th>Deaths</th>\n",
       "    </tr>\n",
       "  </thead>\n",
       "  <tbody>\n",
       "    <tr>\n",
       "      <th>655</th>\n",
       "      <td>Alabama</td>\n",
       "      <td>US</td>\n",
       "      <td>7262</td>\n",
       "      <td>113</td>\n",
       "    </tr>\n",
       "    <tr>\n",
       "      <th>656</th>\n",
       "      <td>Alabama</td>\n",
       "      <td>US</td>\n",
       "      <td>22043</td>\n",
       "      <td>315</td>\n",
       "    </tr>\n",
       "    <tr>\n",
       "      <th>657</th>\n",
       "      <td>Alabama</td>\n",
       "      <td>US</td>\n",
       "      <td>2347</td>\n",
       "      <td>60</td>\n",
       "    </tr>\n",
       "    <tr>\n",
       "      <th>658</th>\n",
       "      <td>Alabama</td>\n",
       "      <td>US</td>\n",
       "      <td>2693</td>\n",
       "      <td>64</td>\n",
       "    </tr>\n",
       "    <tr>\n",
       "      <th>659</th>\n",
       "      <td>Alabama</td>\n",
       "      <td>US</td>\n",
       "      <td>6988</td>\n",
       "      <td>139</td>\n",
       "    </tr>\n",
       "  </tbody>\n",
       "</table>\n",
       "</div>"
      ],
      "text/plain": [
       "       State Country  Confirmed  Deaths\n",
       "655  Alabama      US       7262     113\n",
       "656  Alabama      US      22043     315\n",
       "657  Alabama      US       2347      60\n",
       "658  Alabama      US       2693      64\n",
       "659  Alabama      US       6988     139"
      ]
     },
     "execution_count": 31,
     "metadata": {},
     "output_type": "execute_result"
    }
   ],
   "source": [
    "df_us.head()\n"
   ]
  },
  {
   "cell_type": "code",
   "execution_count": 32,
   "metadata": {},
   "outputs": [
    {
     "name": "stdout",
     "output_type": "stream",
     "text": [
      "<class 'pandas.core.frame.DataFrame'>\n",
      "Int64Index: 3277 entries, 655 to 3931\n",
      "Data columns (total 4 columns):\n",
      " #   Column     Non-Null Count  Dtype \n",
      "---  ------     --------------  ----- \n",
      " 0   State      3277 non-null   object\n",
      " 1   Country    3277 non-null   object\n",
      " 2   Confirmed  3277 non-null   int64 \n",
      " 3   Deaths     3277 non-null   int64 \n",
      "dtypes: int64(2), object(2)\n",
      "memory usage: 128.0+ KB\n"
     ]
    }
   ],
   "source": [
    "df_us.info()"
   ]
  },
  {
   "cell_type": "code",
   "execution_count": 33,
   "metadata": {},
   "outputs": [
    {
     "name": "stdout",
     "output_type": "stream",
     "text": [
      "<class 'pandas.core.frame.DataFrame'>\n",
      "Int64Index: 16 entries, 76 to 91\n",
      "Data columns (total 6 columns):\n",
      " #   Column     Non-Null Count  Dtype  \n",
      "---  ------     --------------  -----  \n",
      " 0   Province   16 non-null     object \n",
      " 1   Country    16 non-null     object \n",
      " 2   Confirmed  16 non-null     int64  \n",
      " 3   Deaths     16 non-null     int64  \n",
      " 4   Recovered  16 non-null     float64\n",
      " 5   Active     15 non-null     float64\n",
      "dtypes: float64(2), int64(2), object(2)\n",
      "memory usage: 896.0+ bytes\n"
     ]
    }
   ],
   "source": [
    "df_canada.info()"
   ]
  },
  {
   "cell_type": "code",
   "execution_count": 34,
   "metadata": {},
   "outputs": [],
   "source": [
    "df_brazil = df[df.Country == 'Brazil']"
   ]
  },
  {
   "cell_type": "code",
   "execution_count": 35,
   "metadata": {},
   "outputs": [
    {
     "data": {
      "text/html": [
       "<div>\n",
       "<style scoped>\n",
       "    .dataframe tbody tr th:only-of-type {\n",
       "        vertical-align: middle;\n",
       "    }\n",
       "\n",
       "    .dataframe tbody tr th {\n",
       "        vertical-align: top;\n",
       "    }\n",
       "\n",
       "    .dataframe thead th {\n",
       "        text-align: right;\n",
       "    }\n",
       "</style>\n",
       "<table border=\"1\" class=\"dataframe\">\n",
       "  <thead>\n",
       "    <tr style=\"text-align: right;\">\n",
       "      <th></th>\n",
       "      <th>State</th>\n",
       "      <th>Country</th>\n",
       "      <th>Confirmed</th>\n",
       "      <th>Deaths</th>\n",
       "      <th>Recovered</th>\n",
       "      <th>Active</th>\n",
       "    </tr>\n",
       "  </thead>\n",
       "  <tbody>\n",
       "    <tr>\n",
       "      <th>41</th>\n",
       "      <td>Acre</td>\n",
       "      <td>Brazil</td>\n",
       "      <td>85983</td>\n",
       "      <td>1757</td>\n",
       "      <td>82354.0</td>\n",
       "      <td>1872.0</td>\n",
       "    </tr>\n",
       "    <tr>\n",
       "      <th>42</th>\n",
       "      <td>Alagoas</td>\n",
       "      <td>Brazil</td>\n",
       "      <td>220022</td>\n",
       "      <td>5433</td>\n",
       "      <td>210634.0</td>\n",
       "      <td>3955.0</td>\n",
       "    </tr>\n",
       "    <tr>\n",
       "      <th>43</th>\n",
       "      <td>Amapa</td>\n",
       "      <td>Brazil</td>\n",
       "      <td>117927</td>\n",
       "      <td>1852</td>\n",
       "      <td>97309.0</td>\n",
       "      <td>18766.0</td>\n",
       "    </tr>\n",
       "    <tr>\n",
       "      <th>44</th>\n",
       "      <td>Amazonas</td>\n",
       "      <td>Brazil</td>\n",
       "      <td>404347</td>\n",
       "      <td>13349</td>\n",
       "      <td>346721.0</td>\n",
       "      <td>44277.0</td>\n",
       "    </tr>\n",
       "    <tr>\n",
       "      <th>45</th>\n",
       "      <td>Bahia</td>\n",
       "      <td>Brazil</td>\n",
       "      <td>1138377</td>\n",
       "      <td>24312</td>\n",
       "      <td>1102758.0</td>\n",
       "      <td>11307.0</td>\n",
       "    </tr>\n",
       "    <tr>\n",
       "      <th>46</th>\n",
       "      <td>Ceara</td>\n",
       "      <td>Brazil</td>\n",
       "      <td>893270</td>\n",
       "      <td>22753</td>\n",
       "      <td>626584.0</td>\n",
       "      <td>243933.0</td>\n",
       "    </tr>\n",
       "    <tr>\n",
       "      <th>47</th>\n",
       "      <td>Distrito Federal</td>\n",
       "      <td>Brazil</td>\n",
       "      <td>434114</td>\n",
       "      <td>9312</td>\n",
       "      <td>416953.0</td>\n",
       "      <td>7849.0</td>\n",
       "    </tr>\n",
       "    <tr>\n",
       "      <th>48</th>\n",
       "      <td>Espirito Santo</td>\n",
       "      <td>Brazil</td>\n",
       "      <td>521830</td>\n",
       "      <td>11556</td>\n",
       "      <td>495815.0</td>\n",
       "      <td>14459.0</td>\n",
       "    </tr>\n",
       "    <tr>\n",
       "      <th>49</th>\n",
       "      <td>Goias</td>\n",
       "      <td>Brazil</td>\n",
       "      <td>683684</td>\n",
       "      <td>19409</td>\n",
       "      <td>655260.0</td>\n",
       "      <td>9015.0</td>\n",
       "    </tr>\n",
       "    <tr>\n",
       "      <th>50</th>\n",
       "      <td>Maranhao</td>\n",
       "      <td>Brazil</td>\n",
       "      <td>320832</td>\n",
       "      <td>9164</td>\n",
       "      <td>278534.0</td>\n",
       "      <td>33134.0</td>\n",
       "    </tr>\n",
       "    <tr>\n",
       "      <th>51</th>\n",
       "      <td>Mato Grosso</td>\n",
       "      <td>Brazil</td>\n",
       "      <td>454430</td>\n",
       "      <td>11970</td>\n",
       "      <td>435158.0</td>\n",
       "      <td>7302.0</td>\n",
       "    </tr>\n",
       "    <tr>\n",
       "      <th>52</th>\n",
       "      <td>Mato Grosso do Sul</td>\n",
       "      <td>Brazil</td>\n",
       "      <td>338645</td>\n",
       "      <td>8365</td>\n",
       "      <td>320253.0</td>\n",
       "      <td>10027.0</td>\n",
       "    </tr>\n",
       "    <tr>\n",
       "      <th>53</th>\n",
       "      <td>Minas Gerais</td>\n",
       "      <td>Brazil</td>\n",
       "      <td>1828904</td>\n",
       "      <td>47120</td>\n",
       "      <td>1706564.0</td>\n",
       "      <td>75220.0</td>\n",
       "    </tr>\n",
       "    <tr>\n",
       "      <th>54</th>\n",
       "      <td>Para</td>\n",
       "      <td>Brazil</td>\n",
       "      <td>556694</td>\n",
       "      <td>15587</td>\n",
       "      <td>520959.0</td>\n",
       "      <td>20148.0</td>\n",
       "    </tr>\n",
       "    <tr>\n",
       "      <th>55</th>\n",
       "      <td>Paraiba</td>\n",
       "      <td>Brazil</td>\n",
       "      <td>401700</td>\n",
       "      <td>8703</td>\n",
       "      <td>266319.0</td>\n",
       "      <td>126678.0</td>\n",
       "    </tr>\n",
       "    <tr>\n",
       "      <th>56</th>\n",
       "      <td>Parana</td>\n",
       "      <td>Brazil</td>\n",
       "      <td>1305082</td>\n",
       "      <td>31529</td>\n",
       "      <td>915019.0</td>\n",
       "      <td>358534.0</td>\n",
       "    </tr>\n",
       "    <tr>\n",
       "      <th>57</th>\n",
       "      <td>Pernambuco</td>\n",
       "      <td>Brazil</td>\n",
       "      <td>559358</td>\n",
       "      <td>17908</td>\n",
       "      <td>475280.0</td>\n",
       "      <td>66170.0</td>\n",
       "    </tr>\n",
       "    <tr>\n",
       "      <th>58</th>\n",
       "      <td>Piaui</td>\n",
       "      <td>Brazil</td>\n",
       "      <td>298645</td>\n",
       "      <td>6657</td>\n",
       "      <td>291428.0</td>\n",
       "      <td>560.0</td>\n",
       "    </tr>\n",
       "    <tr>\n",
       "      <th>59</th>\n",
       "      <td>Rio Grande do Norte</td>\n",
       "      <td>Brazil</td>\n",
       "      <td>345615</td>\n",
       "      <td>6841</td>\n",
       "      <td>150649.0</td>\n",
       "      <td>188125.0</td>\n",
       "    </tr>\n",
       "    <tr>\n",
       "      <th>60</th>\n",
       "      <td>Rio Grande do Sul</td>\n",
       "      <td>Brazil</td>\n",
       "      <td>1231166</td>\n",
       "      <td>31761</td>\n",
       "      <td>1185582.0</td>\n",
       "      <td>13823.0</td>\n",
       "    </tr>\n",
       "  </tbody>\n",
       "</table>\n",
       "</div>"
      ],
      "text/plain": [
       "                  State Country  Confirmed  Deaths  Recovered    Active\n",
       "41                 Acre  Brazil      85983    1757    82354.0    1872.0\n",
       "42              Alagoas  Brazil     220022    5433   210634.0    3955.0\n",
       "43                Amapa  Brazil     117927    1852    97309.0   18766.0\n",
       "44             Amazonas  Brazil     404347   13349   346721.0   44277.0\n",
       "45                Bahia  Brazil    1138377   24312  1102758.0   11307.0\n",
       "46                Ceara  Brazil     893270   22753   626584.0  243933.0\n",
       "47     Distrito Federal  Brazil     434114    9312   416953.0    7849.0\n",
       "48       Espirito Santo  Brazil     521830   11556   495815.0   14459.0\n",
       "49                Goias  Brazil     683684   19409   655260.0    9015.0\n",
       "50             Maranhao  Brazil     320832    9164   278534.0   33134.0\n",
       "51          Mato Grosso  Brazil     454430   11970   435158.0    7302.0\n",
       "52   Mato Grosso do Sul  Brazil     338645    8365   320253.0   10027.0\n",
       "53         Minas Gerais  Brazil    1828904   47120  1706564.0   75220.0\n",
       "54                 Para  Brazil     556694   15587   520959.0   20148.0\n",
       "55              Paraiba  Brazil     401700    8703   266319.0  126678.0\n",
       "56               Parana  Brazil    1305082   31529   915019.0  358534.0\n",
       "57           Pernambuco  Brazil     559358   17908   475280.0   66170.0\n",
       "58                Piaui  Brazil     298645    6657   291428.0     560.0\n",
       "59  Rio Grande do Norte  Brazil     345615    6841   150649.0  188125.0\n",
       "60    Rio Grande do Sul  Brazil    1231166   31761  1185582.0   13823.0"
      ]
     },
     "execution_count": 35,
     "metadata": {},
     "output_type": "execute_result"
    }
   ],
   "source": [
    "df_brazil.head(20)"
   ]
  },
  {
   "cell_type": "code",
   "execution_count": 36,
   "metadata": {},
   "outputs": [
    {
     "data": {
      "text/html": [
       "<div>\n",
       "<style scoped>\n",
       "    .dataframe tbody tr th:only-of-type {\n",
       "        vertical-align: middle;\n",
       "    }\n",
       "\n",
       "    .dataframe tbody tr th {\n",
       "        vertical-align: top;\n",
       "    }\n",
       "\n",
       "    .dataframe thead th {\n",
       "        text-align: right;\n",
       "    }\n",
       "</style>\n",
       "<table border=\"1\" class=\"dataframe\">\n",
       "  <thead>\n",
       "    <tr style=\"text-align: right;\">\n",
       "      <th></th>\n",
       "      <th>State</th>\n",
       "      <th>Country</th>\n",
       "      <th>Confirmed</th>\n",
       "      <th>Deaths</th>\n",
       "      <th>Recovered</th>\n",
       "      <th>Active</th>\n",
       "    </tr>\n",
       "  </thead>\n",
       "  <tbody>\n",
       "    <tr>\n",
       "      <th>0</th>\n",
       "      <td>NaN</td>\n",
       "      <td>Afghanistan</td>\n",
       "      <td>125937</td>\n",
       "      <td>5283</td>\n",
       "      <td>75314.0</td>\n",
       "      <td>45340.0</td>\n",
       "    </tr>\n",
       "    <tr>\n",
       "      <th>1</th>\n",
       "      <td>NaN</td>\n",
       "      <td>Albania</td>\n",
       "      <td>132537</td>\n",
       "      <td>2456</td>\n",
       "      <td>130029.0</td>\n",
       "      <td>52.0</td>\n",
       "    </tr>\n",
       "    <tr>\n",
       "      <th>2</th>\n",
       "      <td>NaN</td>\n",
       "      <td>Algeria</td>\n",
       "      <td>141966</td>\n",
       "      <td>3765</td>\n",
       "      <td>98748.0</td>\n",
       "      <td>39453.0</td>\n",
       "    </tr>\n",
       "    <tr>\n",
       "      <th>3</th>\n",
       "      <td>NaN</td>\n",
       "      <td>Andorra</td>\n",
       "      <td>13918</td>\n",
       "      <td>127</td>\n",
       "      <td>13721.0</td>\n",
       "      <td>70.0</td>\n",
       "    </tr>\n",
       "    <tr>\n",
       "      <th>4</th>\n",
       "      <td>NaN</td>\n",
       "      <td>Angola</td>\n",
       "      <td>39300</td>\n",
       "      <td>915</td>\n",
       "      <td>33739.0</td>\n",
       "      <td>4646.0</td>\n",
       "    </tr>\n",
       "    <tr>\n",
       "      <th>5</th>\n",
       "      <td>NaN</td>\n",
       "      <td>Antigua and Barbuda</td>\n",
       "      <td>1264</td>\n",
       "      <td>42</td>\n",
       "      <td>1222.0</td>\n",
       "      <td>0.0</td>\n",
       "    </tr>\n",
       "    <tr>\n",
       "      <th>6</th>\n",
       "      <td>NaN</td>\n",
       "      <td>Argentina</td>\n",
       "      <td>4552750</td>\n",
       "      <td>96521</td>\n",
       "      <td>4175856.0</td>\n",
       "      <td>280373.0</td>\n",
       "    </tr>\n",
       "    <tr>\n",
       "      <th>7</th>\n",
       "      <td>NaN</td>\n",
       "      <td>Armenia</td>\n",
       "      <td>225606</td>\n",
       "      <td>4527</td>\n",
       "      <td>217198.0</td>\n",
       "      <td>3881.0</td>\n",
       "    </tr>\n",
       "    <tr>\n",
       "      <th>8</th>\n",
       "      <td>Australian Capital Territory</td>\n",
       "      <td>Australia</td>\n",
       "      <td>124</td>\n",
       "      <td>3</td>\n",
       "      <td>121.0</td>\n",
       "      <td>0.0</td>\n",
       "    </tr>\n",
       "    <tr>\n",
       "      <th>9</th>\n",
       "      <td>New South Wales</td>\n",
       "      <td>Australia</td>\n",
       "      <td>5997</td>\n",
       "      <td>54</td>\n",
       "      <td>0.0</td>\n",
       "      <td>5943.0</td>\n",
       "    </tr>\n",
       "  </tbody>\n",
       "</table>\n",
       "</div>"
      ],
      "text/plain": [
       "                          State              Country  Confirmed  Deaths  \\\n",
       "0                           NaN          Afghanistan     125937    5283   \n",
       "1                           NaN              Albania     132537    2456   \n",
       "2                           NaN              Algeria     141966    3765   \n",
       "3                           NaN              Andorra      13918     127   \n",
       "4                           NaN               Angola      39300     915   \n",
       "5                           NaN  Antigua and Barbuda       1264      42   \n",
       "6                           NaN            Argentina    4552750   96521   \n",
       "7                           NaN              Armenia     225606    4527   \n",
       "8  Australian Capital Territory            Australia        124       3   \n",
       "9               New South Wales            Australia       5997      54   \n",
       "\n",
       "   Recovered    Active  \n",
       "0    75314.0   45340.0  \n",
       "1   130029.0      52.0  \n",
       "2    98748.0   39453.0  \n",
       "3    13721.0      70.0  \n",
       "4    33739.0    4646.0  \n",
       "5     1222.0       0.0  \n",
       "6  4175856.0  280373.0  \n",
       "7   217198.0    3881.0  \n",
       "8      121.0       0.0  \n",
       "9        0.0    5943.0  "
      ]
     },
     "execution_count": 36,
     "metadata": {},
     "output_type": "execute_result"
    }
   ],
   "source": [
    "df.head(10)"
   ]
  },
  {
   "cell_type": "code",
   "execution_count": 37,
   "metadata": {},
   "outputs": [
    {
     "data": {
      "text/html": [
       "<div>\n",
       "<style scoped>\n",
       "    .dataframe tbody tr th:only-of-type {\n",
       "        vertical-align: middle;\n",
       "    }\n",
       "\n",
       "    .dataframe tbody tr th {\n",
       "        vertical-align: top;\n",
       "    }\n",
       "\n",
       "    .dataframe thead th {\n",
       "        text-align: right;\n",
       "    }\n",
       "</style>\n",
       "<table border=\"1\" class=\"dataframe\">\n",
       "  <thead>\n",
       "    <tr style=\"text-align: right;\">\n",
       "      <th></th>\n",
       "      <th>Province</th>\n",
       "      <th>Country</th>\n",
       "      <th>Confirmed</th>\n",
       "      <th>Deaths</th>\n",
       "      <th>Recovered</th>\n",
       "      <th>Active</th>\n",
       "    </tr>\n",
       "  </thead>\n",
       "  <tbody>\n",
       "    <tr>\n",
       "      <th>76</th>\n",
       "      <td>Alberta</td>\n",
       "      <td>Canada</td>\n",
       "      <td>232236</td>\n",
       "      <td>2303</td>\n",
       "      <td>229102.0</td>\n",
       "      <td>831.0</td>\n",
       "    </tr>\n",
       "    <tr>\n",
       "      <th>77</th>\n",
       "      <td>British Columbia</td>\n",
       "      <td>Canada</td>\n",
       "      <td>147790</td>\n",
       "      <td>1759</td>\n",
       "      <td>145362.0</td>\n",
       "      <td>669.0</td>\n",
       "    </tr>\n",
       "    <tr>\n",
       "      <th>78</th>\n",
       "      <td>Diamond Princess</td>\n",
       "      <td>Canada</td>\n",
       "      <td>0</td>\n",
       "      <td>1</td>\n",
       "      <td>0.0</td>\n",
       "      <td>NaN</td>\n",
       "    </tr>\n",
       "    <tr>\n",
       "      <th>79</th>\n",
       "      <td>Grand Princess</td>\n",
       "      <td>Canada</td>\n",
       "      <td>13</td>\n",
       "      <td>0</td>\n",
       "      <td>13.0</td>\n",
       "      <td>0.0</td>\n",
       "    </tr>\n",
       "    <tr>\n",
       "      <th>80</th>\n",
       "      <td>Manitoba</td>\n",
       "      <td>Canada</td>\n",
       "      <td>56482</td>\n",
       "      <td>1151</td>\n",
       "      <td>54309.0</td>\n",
       "      <td>1022.0</td>\n",
       "    </tr>\n",
       "  </tbody>\n",
       "</table>\n",
       "</div>"
      ],
      "text/plain": [
       "            Province Country  Confirmed  Deaths  Recovered  Active\n",
       "76           Alberta  Canada     232236    2303   229102.0   831.0\n",
       "77  British Columbia  Canada     147790    1759   145362.0   669.0\n",
       "78  Diamond Princess  Canada          0       1        0.0     NaN\n",
       "79    Grand Princess  Canada         13       0       13.0     0.0\n",
       "80          Manitoba  Canada      56482    1151    54309.0  1022.0"
      ]
     },
     "execution_count": 37,
     "metadata": {},
     "output_type": "execute_result"
    }
   ],
   "source": [
    "df_canada.head()"
   ]
  },
  {
   "cell_type": "code",
   "execution_count": 38,
   "metadata": {},
   "outputs": [
    {
     "data": {
      "text/html": [
       "<div>\n",
       "<style scoped>\n",
       "    .dataframe tbody tr th:only-of-type {\n",
       "        vertical-align: middle;\n",
       "    }\n",
       "\n",
       "    .dataframe tbody tr th {\n",
       "        vertical-align: top;\n",
       "    }\n",
       "\n",
       "    .dataframe thead th {\n",
       "        text-align: right;\n",
       "    }\n",
       "</style>\n",
       "<table border=\"1\" class=\"dataframe\">\n",
       "  <thead>\n",
       "    <tr style=\"text-align: right;\">\n",
       "      <th></th>\n",
       "      <th>Province</th>\n",
       "      <th>Country</th>\n",
       "      <th>Confirmed</th>\n",
       "      <th>Deaths</th>\n",
       "      <th>Recovered</th>\n",
       "      <th>Active</th>\n",
       "    </tr>\n",
       "  </thead>\n",
       "  <tbody>\n",
       "    <tr>\n",
       "      <th>86</th>\n",
       "      <td>Ontario</td>\n",
       "      <td>Canada</td>\n",
       "      <td>553551</td>\n",
       "      <td>9215</td>\n",
       "      <td>542430.0</td>\n",
       "      <td>1939.0</td>\n",
       "    </tr>\n",
       "  </tbody>\n",
       "</table>\n",
       "</div>"
      ],
      "text/plain": [
       "   Province Country  Confirmed  Deaths  Recovered  Active\n",
       "86  Ontario  Canada     553551    9215   542430.0  1939.0"
      ]
     },
     "execution_count": 38,
     "metadata": {},
     "output_type": "execute_result"
    }
   ],
   "source": [
    "df_canada[df_canada['Province'] == 'Ontario'].sort_values(by='Confirmed', ascending=False)"
   ]
  },
  {
   "cell_type": "code",
   "execution_count": 39,
   "metadata": {},
   "outputs": [],
   "source": [
    "import plotly.express as px"
   ]
  },
  {
   "cell_type": "code",
   "execution_count": 40,
   "metadata": {},
   "outputs": [
    {
     "data": {
      "text/html": [
       "<div>\n",
       "<style scoped>\n",
       "    .dataframe tbody tr th:only-of-type {\n",
       "        vertical-align: middle;\n",
       "    }\n",
       "\n",
       "    .dataframe tbody tr th {\n",
       "        vertical-align: top;\n",
       "    }\n",
       "\n",
       "    .dataframe thead th {\n",
       "        text-align: right;\n",
       "    }\n",
       "</style>\n",
       "<table border=\"1\" class=\"dataframe\">\n",
       "  <thead>\n",
       "    <tr style=\"text-align: right;\">\n",
       "      <th></th>\n",
       "      <th>State</th>\n",
       "      <th>Country</th>\n",
       "      <th>Confirmed</th>\n",
       "      <th>Deaths</th>\n",
       "    </tr>\n",
       "  </thead>\n",
       "  <tbody>\n",
       "    <tr>\n",
       "      <th>655</th>\n",
       "      <td>Alabama</td>\n",
       "      <td>US</td>\n",
       "      <td>7262</td>\n",
       "      <td>113</td>\n",
       "    </tr>\n",
       "    <tr>\n",
       "      <th>656</th>\n",
       "      <td>Alabama</td>\n",
       "      <td>US</td>\n",
       "      <td>22043</td>\n",
       "      <td>315</td>\n",
       "    </tr>\n",
       "    <tr>\n",
       "      <th>657</th>\n",
       "      <td>Alabama</td>\n",
       "      <td>US</td>\n",
       "      <td>2347</td>\n",
       "      <td>60</td>\n",
       "    </tr>\n",
       "    <tr>\n",
       "      <th>658</th>\n",
       "      <td>Alabama</td>\n",
       "      <td>US</td>\n",
       "      <td>2693</td>\n",
       "      <td>64</td>\n",
       "    </tr>\n",
       "    <tr>\n",
       "      <th>659</th>\n",
       "      <td>Alabama</td>\n",
       "      <td>US</td>\n",
       "      <td>6988</td>\n",
       "      <td>139</td>\n",
       "    </tr>\n",
       "  </tbody>\n",
       "</table>\n",
       "</div>"
      ],
      "text/plain": [
       "       State Country  Confirmed  Deaths\n",
       "655  Alabama      US       7262     113\n",
       "656  Alabama      US      22043     315\n",
       "657  Alabama      US       2347      60\n",
       "658  Alabama      US       2693      64\n",
       "659  Alabama      US       6988     139"
      ]
     },
     "execution_count": 40,
     "metadata": {},
     "output_type": "execute_result"
    }
   ],
   "source": [
    "df_us.head()"
   ]
  },
  {
   "cell_type": "code",
   "execution_count": 44,
   "metadata": {},
   "outputs": [
    {
     "data": {
      "application/vnd.plotly.v1+json": {
       "config": {
        "plotlyServerURL": "https://plot.ly"
       },
       "data": [
        {
         "customdata": [
          [
           7262,
           113
          ],
          [
           22043,
           315
          ],
          [
           2347,
           60
          ],
          [
           2693,
           64
          ],
          [
           6988,
           139
          ],
          [
           1250,
           42
          ],
          [
           2264,
           71
          ],
          [
           14778,
           330
          ],
          [
           3738,
           123
          ],
          [
           1874,
           45
          ],
          [
           4481,
           116
          ],
          [
           624,
           25
          ],
          [
           3531,
           61
          ],
          [
           1603,
           59
          ],
          [
           1542,
           43
          ],
          [
           5684,
           129
          ],
          [
           6430,
           140
          ],
          [
           1146,
           30
          ],
          [
           1123,
           29
          ],
          [
           4320,
           124
          ],
          [
           1588,
           57
          ],
          [
           10014,
           201
          ],
          [
           4951,
           117
          ],
          [
           3623,
           159
          ],
          [
           9033,
           190
          ],
          [
           10322,
           214
          ],
          [
           4038,
           81
          ],
          [
           14249,
           366
          ],
          [
           2202,
           63
          ],
          [
           4328,
           81
          ],
          [
           2593,
           81
          ],
          [
           938,
           35
          ],
          [
           2273,
           77
          ],
          [
           1955,
           44
          ],
          [
           10858,
           290
          ],
          [
           7047,
           114
          ],
          [
           81328,
           1569
          ],
          [
           1476,
           38
          ],
          [
           9653,
           251
          ],
          [
           3144,
           100
          ],
          [
           16343,
           178
          ],
          [
           10210,
           158
          ],
          [
           1421,
           54
          ],
          [
           1636,
           52
          ],
          [
           35869,
           526
          ],
          [
           2511,
           66
          ],
          [
           3286,
           106
          ],
          [
           12500,
           231
          ],
          [
           42424,
           839
          ],
          [
           1827,
           41
          ],
          [
           25129,
           614
          ],
          [
           14669,
           287
          ],
          [
           0,
           0
          ],
          [
           1088,
           28
          ],
          [
           2372,
           62
          ],
          [
           3151,
           78
          ],
          [
           1882,
           44
          ],
          [
           4561,
           42
          ],
          [
           25745,
           255
          ],
          [
           10205,
           250
          ],
          [
           1062,
           32
          ],
          [
           8485,
           185
          ],
          [
           4154,
           156
          ],
          [
           26243,
           464
          ],
          [
           0,
           0
          ],
          [
           7372,
           282
          ],
          [
           1706,
           39
          ],
          [
           1272,
           31
          ],
          [
           2841,
           72
          ],
          [
           368,
           3
          ],
          [
           729,
           1
          ],
          [
           31286,
           181
          ],
          [
           3921,
           22
          ],
          [
           0,
           0
          ],
          [
           203,
           0
          ],
          [
           443,
           3
          ],
          [
           254,
           0
          ],
          [
           114,
           0
          ],
          [
           234,
           2
          ],
          [
           8090,
           44
          ],
          [
           31,
           0
          ],
          [
           1505,
           5
          ],
          [
           4618,
           22
          ],
          [
           675,
           2
          ],
          [
           1128,
           6
          ],
          [
           1417,
           4
          ],
          [
           11881,
           60
          ],
          [
           409,
           0
          ],
          [
           1090,
           4
          ],
          [
           627,
           2
          ],
          [
           174,
           1
          ],
          [
           185,
           2
          ],
          [
           385,
           2
          ],
          [
           22,
           0
          ],
          [
           773,
           5
          ],
          [
           299,
           0
          ],
          [
           0,
           0
          ],
          [
           67,
           0
          ],
          [
           84,
           2
          ],
          [
           372,
           4
          ],
          [
           11507,
           437
          ],
          [
           12219,
           293
          ],
          [
           18073,
           331
          ],
          [
           7111,
           229
          ],
          [
           5599,
           85
          ],
          [
           579,
           10
          ],
          [
           2493,
           78
          ],
          [
           561596,
           10309
          ],
          [
           23917,
           756
          ],
          [
           16751,
           552
          ],
          [
           0,
           0
          ],
          [
           117941,
           2433
          ],
          [
           54133,
           908
          ],
          [
           8098,
           181
          ],
          [
           0,
           0
          ],
          [
           19646,
           529
          ],
          [
           37347,
           848
          ],
          [
           2247,
           39
          ],
          [
           2062,
           36
          ],
          [
           3551,
           105
          ],
          [
           30014,
           423
          ],
          [
           4132,
           80
          ],
          [
           1474,
           33
          ],
          [
           425,
           3
          ],
          [
           2925,
           46
          ],
          [
           1631,
           41
          ],
          [
           2233,
           40
          ],
          [
           1811,
           52
          ],
          [
           2088,
           74
          ],
          [
           1001,
           25
          ],
          [
           2426,
           57
          ],
          [
           2270,
           34
          ],
          [
           13897,
           186
          ],
          [
           7276,
           120
          ],
          [
           6205,
           97
          ],
          [
           1996,
           51
          ],
          [
           816,
           16
          ],
          [
           1381,
           23
          ],
          [
           2085,
           44
          ],
          [
           13242,
           166
          ],
          [
           1721,
           40
          ],
          [
           1181,
           47
          ],
          [
           10641,
           265
          ],
          [
           1805,
           36
          ],
          [
           6314,
           78
          ],
          [
           2090,
           20
          ],
          [
           5433,
           77
          ],
          [
           1689,
           25
          ],
          [
           3992,
           125
          ],
          [
           1731,
           42
          ],
          [
           3272,
           38
          ],
          [
           9315,
           171
          ],
          [
           2982,
           38
          ],
          [
           563,
           9
          ],
          [
           2177,
           43
          ],
          [
           1715,
           38
          ],
          [
           3264,
           48
          ],
          [
           1279,
           43
          ],
          [
           2301,
           25
          ],
          [
           7855,
           127
          ],
          [
           1512,
           23
          ],
          [
           1162,
           31
          ],
          [
           4473,
           37
          ],
          [
           5932,
           110
          ],
          [
           891,
           18
          ],
          [
           767,
           33
          ],
          [
           894,
           24
          ],
          [
           791,
           26
          ],
          [
           2470,
           63
          ],
          [
           890,
           11
          ],
          [
           1887,
           45
          ],
          [
           1048,
           23
          ],
          [
           3251,
           77
          ],
          [
           2045,
           74
          ],
          [
           8190,
           111
          ],
          [
           919,
           22
          ],
          [
           41646,
           680
          ],
          [
           2220,
           48
          ],
          [
           12782,
           173
          ],
          [
           988,
           14
          ],
          [
           777,
           18
          ],
          [
           15635,
           287
          ],
          [
           2843,
           24
          ],
          [
           1666,
           47
          ],
          [
           3660,
           44
          ],
          [
           1121,
           31
          ],
          [
           2965,
           0
          ],
          [
           4136,
           115
          ],
          [
           1408,
           24
          ],
          [
           31746,
           357
          ],
          [
           8480,
           124
          ],
          [
           654,
           14
          ],
          [
           3468,
           66
          ],
          [
           92011,
           1253
          ],
          [
           89,
           0
          ],
          [
           3803,
           47
          ],
          [
           14712,
           201
          ],
          [
           2226,
           55
          ],
          [
           2303,
           16
          ],
          [
           72646,
           820
          ],
          [
           1455,
           8
          ],
          [
           11297,
           113
          ],
          [
           111726,
           1727
          ],
          [
           3028,
           20
          ],
          [
           4615,
           49
          ],
          [
           31626,
           739
          ],
          [
           1417,
           36
          ],
          [
           111111,
           1408
          ],
          [
           24279,
           245
          ],
          [
           3658,
           63
          ],
          [
           5821,
           26
          ],
          [
           1252739,
           24506
          ],
          [
           17702,
           241
          ],
          [
           14453,
           233
          ],
          [
           467,
           7
          ],
          [
           4219,
           49
          ],
          [
           32318,
           470
          ],
          [
           557,
           4
          ],
          [
           1286,
           3
          ],
          [
           45168,
           494
          ],
          [
           10112,
           81
          ],
          [
           5181,
           72
          ],
          [
           273738,
           5126
          ],
          [
           25520,
           302
          ],
          [
           723,
           4
          ],
          [
           308143,
           4539
          ],
          [
           110707,
           1679
          ],
          [
           6254,
           63
          ],
          [
           303822,
           5037
          ],
          [
           282692,
           3780
          ],
          [
           38672,
           558
          ],
          [
           77869,
           1410
          ],
          [
           22154,
           257
          ],
          [
           43384,
           541
          ],
          [
           35833,
           460
          ],
          [
           120002,
           2095
          ],
          [
           17157,
           208
          ],
          [
           14313,
           205
          ],
          [
           74,
           0
          ],
          [
           2309,
           29
          ],
          [
           34180,
           268
          ],
          [
           31496,
           316
          ],
          [
           63414,
           1029
          ],
          [
           9762,
           114
          ],
          [
           5747,
           63
          ],
          [
           410,
           3
          ],
          [
           59546,
           853
          ],
          [
           4150,
           64
          ],
          [
           21,
           0
          ],
          [
           84734,
           1033
          ],
          [
           14614,
           213
          ],
          [
           6358,
           51
          ],
          [
           61047,
           720
          ],
          [
           1733,
           37
          ],
          [
           62977,
           761
          ],
          [
           1055,
           3
          ],
          [
           325,
           4
          ],
          [
           1545,
           22
          ],
          [
           24054,
           235
          ],
          [
           5013,
           76
          ],
          [
           1778,
           25
          ],
          [
           130,
           6
          ],
          [
           478,
           3
          ],
          [
           740,
           22
          ],
          [
           251,
           5
          ],
          [
           2216,
           17
          ],
          [
           229,
           2
          ],
          [
           2958,
           66
          ],
          [
           74504,
           845
          ],
          [
           130,
           1
          ],
          [
           30602,
           247
          ],
          [
           6368,
           23
          ],
          [
           73673,
           880
          ],
          [
           1890,
           14
          ],
          [
           6558,
           63
          ],
          [
           6223,
           50
          ],
          [
           285,
           3
          ],
          [
           1507,
           7
          ],
          [
           1401,
           6
          ],
          [
           20,
           0
          ],
          [
           440,
           18
          ],
          [
           67,
           0
          ],
          [
           49017,
           806
          ],
          [
           95,
           3
          ],
          [
           647,
           11
          ],
          [
           4175,
           41
          ],
          [
           836,
           0
          ],
          [
           27831,
           248
          ],
          [
           1179,
           14
          ],
          [
           1036,
           4
          ],
          [
           4065,
           69
          ],
          [
           17405,
           253
          ],
          [
           94,
           1
          ],
          [
           1055,
           26
          ],
          [
           2103,
           25
          ],
          [
           3759,
           66
          ],
          [
           2756,
           96
          ],
          [
           2088,
           67
          ],
          [
           297,
           3
          ],
          [
           0,
           0
          ],
          [
           833,
           5
          ],
          [
           400,
           13
          ],
          [
           2622,
           4
          ],
          [
           1279,
           22
          ],
          [
           19633,
           420
          ],
          [
           630,
           5
          ],
          [
           910,
           16
          ],
          [
           2306,
           21
          ],
          [
           457,
           5
          ],
          [
           47,
           0
          ],
          [
           926,
           1
          ],
          [
           236,
           3
          ],
          [
           3774,
           8
          ],
          [
           1926,
           18
          ],
          [
           77,
           0
          ],
          [
           474,
           13
          ],
          [
           33569,
           352
          ],
          [
           970,
           17
          ],
          [
           100549,
           2202
          ],
          [
           84551,
           2440
          ],
          [
           14696,
           298
          ],
          [
           12874,
           374
          ],
          [
           92430,
           2131
          ],
          [
           22590,
           451
          ],
          [
           9655,
           187
          ],
          [
           1180,
           1
          ],
          [
           10951,
           195
          ],
          [
           18272,
           349
          ],
          [
           65131,
           847
          ],
          [
           26261,
           499
          ],
          [
           227,
           0
          ],
          [
           49,
           0
          ],
          [
           49378,
           1141
          ],
          [
           25834,
           285
          ],
          [
           3682,
           62
          ],
          [
           20899,
           394
          ],
          [
           3119,
           58
          ],
          [
           44447,
           914
          ],
          [
           250300,
           3079
          ],
          [
           1727,
           45
          ],
          [
           13697,
           437
          ],
          [
           11649,
           463
          ],
          [
           19906,
           352
          ],
          [
           38011,
           551
          ],
          [
           8398,
           170
          ],
          [
           4475,
           97
          ],
          [
           1650,
           24
          ],
          [
           104659,
           1483
          ],
          [
           36948,
           706
          ],
          [
           7701,
           114
          ],
          [
           1375,
           20
          ],
          [
           5854,
           99
          ],
          [
           1656,
           44
          ],
          [
           1003,
           19
          ],
          [
           2020,
           45
          ],
          [
           1656,
           25
          ],
          [
           3408,
           45
          ],
          [
           4963,
           87
          ],
          [
           15081,
           482
          ],
          [
           8917,
           366
          ],
          [
           147394,
           1832
          ],
          [
           2313,
           49
          ],
          [
           13128,
           306
          ],
          [
           6512,
           158
          ],
          [
           1532,
           28
          ],
          [
           1631,
           26
          ],
          [
           31924,
           663
          ],
          [
           75330,
           1009
          ],
          [
           33402,
           332
          ],
          [
           3649,
           56
          ],
          [
           1095,
           16
          ],
          [
           2114,
           45
          ],
          [
           40588,
           689
          ],
          [
           32460,
           996
          ],
          [
           13047,
           335
          ],
          [
           511394,
           6472
          ],
          [
           7261,
           52
          ],
          [
           9036,
           127
          ],
          [
           21318,
           367
          ],
          [
           4314,
           89
          ],
          [
           146910,
           1310
          ],
          [
           47608,
           529
          ],
          [
           151746,
           2883
          ],
          [
           43789,
           802
          ],
          [
           82969,
           1671
          ],
          [
           72946,
           1387
          ],
          [
           6898,
           160
          ],
          [
           18936,
           291
          ],
          [
           34230,
           844
          ],
          [
           36667,
           516
          ],
          [
           24170,
           221
          ],
          [
           28361,
           657
          ],
          [
           9676,
           284
          ],
          [
           5458,
           140
          ],
          [
           2769,
           48
          ],
          [
           3017,
           1012
          ],
          [
           1892,
           74
          ],
          [
           46235,
           846
          ],
          [
           3593,
           56
          ],
          [
           8033,
           89
          ],
          [
           2768,
           52
          ],
          [
           2339,
           72
          ],
          [
           1051,
           23
          ],
          [
           1670,
           40
          ],
          [
           232,
           10
          ],
          [
           4585,
           136
          ],
          [
           1851,
           38
          ],
          [
           10243,
           146
          ],
          [
           14971,
           236
          ],
          [
           2113,
           83
          ],
          [
           1910,
           47
          ],
          [
           16204,
           464
          ],
          [
           1490,
           51
          ],
          [
           1673,
           41
          ],
          [
           1425,
           50
          ],
          [
           3771,
           41
          ],
          [
           6853,
           121
          ],
          [
           2626,
           65
          ],
          [
           3215,
           90
          ],
          [
           585,
           16
          ],
          [
           4123,
           39
          ],
          [
           994,
           68
          ],
          [
           11582,
           246
          ],
          [
           6637,
           73
          ],
          [
           1612,
           36
          ],
          [
           23766,
           464
          ],
          [
           4542,
           17
          ],
          [
           2877,
           76
          ],
          [
           31589,
           334
          ],
          [
           15214,
           149
          ],
          [
           237,
           3
          ],
          [
           27545,
           525
          ],
          [
           987,
           27
          ],
          [
           80344,
           1110
          ],
          [
           5376,
           179
          ],
          [
           4847,
           129
          ],
          [
           17155,
           213
          ],
          [
           1898,
           44
          ],
          [
           14411,
           232
          ],
          [
           670,
           21
          ],
          [
           2109,
           90
          ],
          [
           1469,
           14
          ],
          [
           3112,
           50
          ],
          [
           67331,
           1075
          ],
          [
           2985,
           73
          ],
          [
           2120,
           106
          ],
          [
           1090,
           44
          ],
          [
           7724,
           312
          ],
          [
           15634,
           232
          ],
          [
           1196,
           47
          ],
          [
           478,
           9
          ],
          [
           4714,
           74
          ],
          [
           2299,
           74
          ],
          [
           2621,
           83
          ],
          [
           993,
           31
          ],
          [
           2463,
           73
          ],
          [
           9170,
           176
          ],
          [
           12093,
           239
          ],
          [
           22947,
           206
          ],
          [
           2695,
           54
          ],
          [
           99450,
           1474
          ],
          [
           3075,
           89
          ],
          [
           269,
           19
          ],
          [
           8343,
           178
          ],
          [
           8262,
           120
          ],
          [
           2279,
           64
          ],
          [
           1837,
           62
          ],
          [
           103391,
           1208
          ],
          [
           5099,
           164
          ],
          [
           27826,
           492
          ],
          [
           926,
           69
          ],
          [
           2688,
           90
          ],
          [
           2653,
           62
          ],
          [
           2415,
           57
          ],
          [
           891,
           22
          ],
          [
           25976,
           335
          ],
          [
           14942,
           272
          ],
          [
           1010,
           31
          ],
          [
           10019,
           151
          ],
          [
           1413,
           39
          ],
          [
           1923,
           44
          ],
          [
           1970,
           69
          ],
          [
           872,
           44
          ],
          [
           1127,
           50
          ],
          [
           2069,
           59
          ],
          [
           2072,
           58
          ],
          [
           797,
           13
          ],
          [
           5657,
           173
          ],
          [
           2770,
           59
          ],
          [
           4191,
           68
          ],
          [
           842,
           28
          ],
          [
           883,
           13
          ],
          [
           13065,
           217
          ],
          [
           3018,
           79
          ],
          [
           890,
           37
          ],
          [
           3272,
           56
          ],
          [
           571,
           24
          ],
          [
           2546,
           52
          ],
          [
           866,
           16
          ],
          [
           2067,
           89
          ],
          [
           853,
           14
          ],
          [
           2103,
           84
          ],
          [
           2715,
           103
          ],
          [
           905,
           23
          ],
          [
           2152,
           31
          ],
          [
           5026,
           92
          ],
          [
           16895,
           500
          ],
          [
           11397,
           263
          ],
          [
           4039,
           73
          ],
          [
           1506,
           31
          ],
          [
           29568,
           695
          ],
          [
           17427,
           231
          ],
          [
           2716,
           70
          ],
          [
           3518,
           80
          ],
          [
           2531,
           62
          ],
          [
           2365,
           43
          ],
          [
           5701,
           100
          ],
          [
           938,
           45
          ],
          [
           2237,
           59
          ],
          [
           168,
           3
          ],
          [
           1795,
           50
          ],
          [
           648,
           34
          ],
          [
           25173,
           532
          ],
          [
           7904,
           177
          ],
          [
           350,
           5
          ],
          [
           1019,
           33
          ],
          [
           959,
           19
          ],
          [
           6502,
           203
          ],
          [
           3159,
           81
          ],
          [
           1057,
           25
          ],
          [
           2624,
           106
          ],
          [
           499,
           19
          ],
          [
           124,
           3
          ],
          [
           2362,
           69
          ],
          [
           809,
           26
          ],
          [
           1333,
           60
          ],
          [
           823,
           49
          ],
          [
           4593,
           126
          ],
          [
           4965,
           132
          ],
          [
           3461,
           119
          ],
          [
           1276,
           60
          ],
          [
           859,
           34
          ],
          [
           7646,
           239
          ],
          [
           1049,
           42
          ],
          [
           732,
           46
          ],
          [
           3044,
           4
          ],
          [
           2292,
           81
          ],
          [
           3518,
           133
          ],
          [
           7793,
           90
          ],
          [
           10744,
           265
          ],
          [
           4983,
           181
          ],
          [
           550,
           20
          ],
          [
           2075,
           88
          ],
          [
           3640,
           91
          ],
          [
           148,
           4
          ],
          [
           630,
           25
          ],
          [
           3215,
           83
          ],
          [
           17029,
           250
          ],
          [
           836,
           48
          ],
          [
           1114,
           30
          ],
          [
           942,
           27
          ],
          [
           1804,
           69
          ],
          [
           103,
           3
          ],
          [
           8373,
           140
          ],
          [
           3293,
           55
          ],
          [
           28051,
           401
          ],
          [
           393,
           2
          ],
          [
           4909,
           57
          ],
          [
           1397,
           3
          ],
          [
           0,
           0
          ],
          [
           53642,
           486
          ],
          [
           343,
           4
          ],
          [
           8888,
           110
          ],
          [
           395,
           2
          ],
          [
           769,
           10
          ],
          [
           4856,
           75
          ],
          [
           2401,
           18
          ],
          [
           379,
           2
          ],
          [
           3392,
           45
          ],
          [
           15048,
           177
          ],
          [
           896,
           11
          ],
          [
           212,
           1
          ],
          [
           72,
           0
          ],
          [
           27679,
           313
          ],
          [
           714,
           12
          ],
          [
           2974,
           28
          ],
          [
           59,
           0
          ],
          [
           1085,
           14
          ],
          [
           257,
           3
          ],
          [
           2132,
           19
          ],
          [
           1230,
           17
          ],
          [
           1143,
           14
          ],
          [
           1849,
           40
          ],
          [
           1340,
           24
          ],
          [
           1343,
           18
          ],
          [
           3034,
           33
          ],
          [
           2657,
           23
          ],
          [
           19100,
           217
          ],
          [
           3219,
           12
          ],
          [
           534,
           9
          ],
          [
           438,
           11
          ],
          [
           512,
           11
          ],
          [
           7350,
           28
          ],
          [
           2358,
           33
          ],
          [
           3759,
           58
          ],
          [
           365,
           4
          ],
          [
           1090,
           31
          ],
          [
           2632,
           38
          ],
          [
           659,
           9
          ],
          [
           1198,
           35
          ],
          [
           1233,
           4
          ],
          [
           9819,
           131
          ],
          [
           0,
           0
          ],
          [
           877,
           6
          ],
          [
           1240,
           22
          ],
          [
           8840,
           127
          ],
          [
           476,
           11
          ],
          [
           2091,
           24
          ],
          [
           6850,
           79
          ],
          [
           752,
           6
          ],
          [
           3794,
           85
          ],
          [
           531,
           2
          ],
          [
           1788,
           37
          ],
          [
           2050,
           27
          ],
          [
           21163,
           156
          ],
          [
           3844,
           75
          ],
          [
           1852,
           33
          ],
          [
           1508,
           43
          ],
          [
           5798,
           91
          ],
          [
           5779,
           101
          ],
          [
           557173,
           10494
          ],
          [
           2145,
           25
          ],
          [
           1304,
           19
          ],
          [
           1575,
           29
          ],
          [
           10164,
           121
          ],
          [
           2610,
           36
          ],
          [
           92595,
           1320
          ],
          [
           1772,
           41
          ],
          [
           584,
           12
          ],
          [
           4774,
           74
          ],
          [
           3228,
           55
          ],
          [
           1892,
           50
          ],
          [
           4555,
           78
          ],
          [
           4052,
           59
          ],
          [
           470,
           4
          ],
          [
           1457,
           34
          ],
          [
           5995,
           78
          ],
          [
           847,
           16
          ],
          [
           1829,
           31
          ],
          [
           391,
           12
          ],
          [
           529,
           14
          ],
          [
           5082,
           70
          ],
          [
           3161,
           68
          ],
          [
           5123,
           65
          ],
          [
           1167,
           18
          ],
          [
           4459,
           122
          ],
          [
           2725,
           52
          ],
          [
           1830,
           24
          ],
          [
           1482,
           16
          ],
          [
           59564,
           811
          ],
          [
           14613,
           217
          ],
          [
           13313,
           99
          ],
          [
           5666,
           156
          ],
          [
           12802,
           252
          ],
          [
           68466,
           1022
          ],
          [
           2407,
           27
          ],
          [
           4197,
           54
          ],
          [
           4908,
           92
          ],
          [
           4009,
           64
          ],
          [
           11018,
           212
          ],
          [
           4812,
           89
          ],
          [
           31180,
           532
          ],
          [
           4546,
           117
          ],
          [
           1084,
           19
          ],
          [
           1560,
           45
          ],
          [
           1364,
           40
          ],
          [
           2954,
           51
          ],
          [
           29212,
           297
          ],
          [
           18573,
           190
          ],
          [
           1257,
           12
          ],
          [
           1500,
           34
          ],
          [
           4405,
           94
          ],
          [
           3801,
           74
          ],
          [
           3983,
           83
          ],
          [
           1637,
           28
          ],
          [
           6236,
           84
          ],
          [
           2,
           0
          ],
          [
           23478,
           343
          ],
          [
           3204,
           60
          ],
          [
           1526,
           14
          ],
          [
           1837,
           53
          ],
          [
           332,
           4
          ],
          [
           703,
           7
          ],
          [
           489,
           3
          ],
          [
           4175,
           87
          ],
          [
           1769,
           40
          ],
          [
           15260,
           329
          ],
          [
           2613,
           57
          ],
          [
           19165,
           240
          ],
          [
           783,
           7
          ],
          [
           492,
           1
          ],
          [
           2329,
           38
          ],
          [
           28609,
           519
          ],
          [
           648,
           24
          ],
          [
           4842,
           86
          ],
          [
           17257,
           306
          ],
          [
           61,
           2433
          ],
          [
           2314,
           41
          ],
          [
           10054,
           146
          ],
          [
           1380,
           12
          ],
          [
           1848,
           49
          ],
          [
           1651,
           25
          ],
          [
           1822,
           53
          ],
          [
           1707,
           26
          ],
          [
           7210,
           174
          ],
          [
           77081,
           1039
          ],
          [
           7663,
           136
          ],
          [
           34231,
           514
          ],
          [
           4864,
           83
          ],
          [
           3457,
           56
          ],
          [
           41854,
           693
          ],
          [
           8180,
           157
          ],
          [
           1061,
           14
          ],
          [
           1365,
           32
          ],
          [
           7035,
           104
          ],
          [
           1046,
           43
          ],
          [
           1942,
           22
          ],
          [
           6040,
           110
          ],
          [
           13251,
           196
          ],
          [
           2694,
           48
          ],
          [
           4464,
           55
          ],
          [
           1025,
           16
          ],
          [
           3054,
           100
          ],
          [
           4425,
           85
          ],
          [
           5914,
           78
          ],
          [
           2900,
           92
          ],
          [
           10993,
           198
          ],
          [
           6228,
           118
          ],
          [
           29478,
           465
          ],
          [
           2851,
           64
          ],
          [
           7840,
           180
          ],
          [
           2270,
           48
          ],
          [
           1705,
           35
          ],
          [
           2045,
           43
          ],
          [
           4479,
           95
          ],
          [
           7269,
           180
          ],
          [
           2882,
           85
          ],
          [
           36732,
           423
          ],
          [
           8612,
           146
          ],
          [
           4422,
           75
          ],
          [
           17762,
           319
          ],
          [
           5906,
           111
          ],
          [
           10421,
           227
          ],
          [
           4042,
           81
          ],
          [
           5098,
           77
          ],
          [
           3917,
           55
          ],
          [
           2017,
           32
          ],
          [
           3365,
           86
          ],
          [
           2354,
           49
          ],
          [
           18527,
           389
          ],
          [
           3799,
           91
          ],
          [
           9655,
           123
          ],
          [
           2739,
           72
          ],
          [
           12458,
           222
          ],
          [
           56264,
           1017
          ],
          [
           4782,
           124
          ],
          [
           13226,
           344
          ],
          [
           103610,
           1790
          ],
          [
           6258,
           116
          ],
          [
           920,
           15
          ],
          [
           3981,
           69
          ],
          [
           12287,
           177
          ],
          [
           4434,
           91
          ],
          [
           6791,
           142
          ],
          [
           1176,
           36
          ],
          [
           5832,
           89
          ],
          [
           580,
           11
          ],
          [
           1888,
           55
          ],
          [
           2138,
           58
          ],
          [
           1501,
           16
          ],
          [
           1873,
           37
          ],
          [
           1385,
           34
          ],
          [
           19427,
           327
          ],
          [
           2756,
           35
          ],
          [
           1209,
           48
          ],
          [
           3743,
           61
          ],
          [
           2454,
           83
          ],
          [
           3486,
           70
          ],
          [
           1763,
           26
          ],
          [
           2707,
           58
          ],
          [
           5044,
           97
          ],
          [
           2346,
           31
          ],
          [
           37046,
           566
          ],
          [
           2285,
           59
          ],
          [
           4023,
           59
          ],
          [
           2159,
           43
          ],
          [
           821,
           8
          ],
          [
           23028,
           229
          ],
          [
           1675,
           47
          ],
          [
           0,
           424
          ],
          [
           731,
           10
          ],
          [
           22671,
           402
          ],
          [
           1765,
           44
          ],
          [
           12667,
           254
          ],
          [
           3630,
           83
          ],
          [
           858,
           15
          ],
          [
           7888,
           156
          ],
          [
           2467,
           37
          ],
          [
           7177,
           201
          ],
          [
           2971,
           81
          ],
          [
           3349,
           54
          ],
          [
           4079,
           44
          ],
          [
           876,
           32
          ],
          [
           349,
           4
          ],
          [
           1532,
           52
          ],
          [
           1291,
           49
          ],
          [
           536,
           11
          ],
          [
           2618,
           55
          ],
          [
           16353,
           316
          ],
          [
           2686,
           34
          ],
          [
           2896,
           62
          ],
          [
           1943,
           34
          ],
          [
           4274,
           40
          ],
          [
           1672,
           35
          ],
          [
           1395,
           13
          ],
          [
           2873,
           52
          ],
          [
           1393,
           55
          ],
          [
           1924,
           23
          ],
          [
           5562,
           97
          ],
          [
           1599,
           38
          ],
          [
           1252,
           17
          ],
          [
           1016,
           24
          ],
          [
           2168,
           27
          ],
          [
           1713,
           57
          ],
          [
           5618,
           93
          ],
          [
           2690,
           41
          ],
          [
           11305,
           99
          ],
          [
           853,
           25
          ],
          [
           623,
           9
          ],
          [
           2112,
           43
          ],
          [
           4703,
           73
          ],
          [
           2498,
           45
          ],
          [
           13540,
           213
          ],
          [
           1361,
           41
          ],
          [
           1879,
           43
          ],
          [
           1639,
           42
          ],
          [
           1241,
           23
          ],
          [
           628,
           10
          ],
          [
           781,
           11
          ],
          [
           1377,
           33
          ],
          [
           1237,
           32
          ],
          [
           1823,
           51
          ],
          [
           1507,
           34
          ],
          [
           1885,
           44
          ],
          [
           1802,
           73
          ],
          [
           2957,
           37
          ],
          [
           1051,
           22
          ],
          [
           1207,
           26
          ],
          [
           917,
           35
          ],
          [
           1502,
           24
          ],
          [
           2253,
           42
          ],
          [
           4223,
           73
          ],
          [
           1341,
           35
          ],
          [
           14647,
           85
          ],
          [
           3013,
           57
          ],
          [
           971,
           32
          ],
          [
           2164,
           66
          ],
          [
           3856,
           57
          ],
          [
           21300,
           341
          ],
          [
           1301,
           49
          ],
          [
           780,
           23
          ],
          [
           1599,
           41
          ],
          [
           1648,
           19
          ],
          [
           2332,
           51
          ],
          [
           3663,
           77
          ],
          [
           4889,
           76
          ],
          [
           1644,
           24
          ],
          [
           1267,
           43
          ],
          [
           836,
           31
          ],
          [
           964,
           32
          ],
          [
           1037,
           38
          ],
          [
           4892,
           106
          ],
          [
           1997,
           61
          ],
          [
           789,
           17
          ],
          [
           1945,
           22
          ],
          [
           1136,
           24
          ],
          [
           4035,
           82
          ],
          [
           857,
           22
          ],
          [
           58384,
           643
          ],
          [
           11249,
           177
          ],
          [
           1572,
           36
          ],
          [
           567,
           24
          ],
          [
           1310,
           20
          ],
          [
           20342,
           249
          ],
          [
           1320,
           37
          ],
          [
           5179,
           74
          ],
          [
           10732,
           48
          ],
          [
           2127,
           72
          ],
          [
           668,
           12
          ],
          [
           955,
           0
          ],
          [
           1302,
           35
          ],
          [
           566,
           18
          ],
          [
           4351,
           122
          ],
          [
           5856,
           92
          ],
          [
           2575,
           51
          ],
          [
           551,
           23
          ],
          [
           5220,
           94
          ],
          [
           1448,
           31
          ],
          [
           2005,
           35
          ],
          [
           15262,
           230
          ],
          [
           763,
           8
          ],
          [
           1867,
           40
          ],
          [
           1260,
           20
          ],
          [
           854,
           18
          ],
          [
           1540,
           14
          ],
          [
           374,
           6
          ],
          [
           2608,
           51
          ],
          [
           1445,
           28
          ],
          [
           1243,
           38
          ],
          [
           7654,
           91
          ],
          [
           278,
           3
          ],
          [
           274,
           6
          ],
          [
           2643,
           53
          ],
          [
           371,
           13
          ],
          [
           250,
           7
          ],
          [
           815,
           30
          ],
          [
           1004,
           25
          ],
          [
           752,
           23
          ],
          [
           172,
           9
          ],
          [
           4012,
           108
          ],
          [
           4901,
           78
          ],
          [
           281,
           12
          ],
          [
           1833,
           47
          ],
          [
           1055,
           23
          ],
          [
           9408,
           85
          ],
          [
           267,
           12
          ],
          [
           181,
           5
          ],
          [
           3765,
           73
          ],
          [
           1229,
           25
          ],
          [
           6114,
           73
          ],
          [
           5787,
           76
          ],
          [
           2605,
           43
          ],
          [
           3667,
           42
          ],
          [
           388,
           20
          ],
          [
           265,
           9
          ],
          [
           949,
           18
          ],
          [
           596,
           14
          ],
          [
           104,
           1
          ],
          [
           576,
           11
          ],
          [
           210,
           1
          ],
          [
           624,
           18
          ],
          [
           3710,
           72
          ],
          [
           416,
           9
          ],
          [
           213,
           9
          ],
          [
           1419,
           17
          ],
          [
           1766,
           38
          ],
          [
           216,
           6
          ],
          [
           59976,
           770
          ],
          [
           573,
           10
          ],
          [
           780,
           15
          ],
          [
           236,
           4
          ],
          [
           2774,
           50
          ],
          [
           128,
           7
          ],
          [
           7348,
           94
          ],
          [
           266,
           5
          ],
          [
           835,
           8
          ],
          [
           305,
           6
          ],
          [
           4329,
           86
          ],
          [
           1120,
           24
          ],
          [
           1138,
           26
          ],
          [
           3341,
           85
          ],
          [
           514,
           13
          ],
          [
           2813,
           42
          ],
          [
           569,
           18
          ],
          [
           3486,
           84
          ],
          [
           592,
           23
          ],
          [
           270,
           8
          ],
          [
           1532,
           55
          ],
          [
           1825,
           35
          ],
          [
           372,
           16
          ],
          [
           1220,
           27
          ],
          [
           1268,
           26
          ],
          [
           294,
           12
          ],
          [
           559,
           13
          ],
          [
           0,
           0
          ],
          [
           1179,
           14
          ],
          [
           711,
           25
          ],
          [
           2004,
           32
          ],
          [
           815,
           25
          ],
          [
           333,
           7
          ],
          [
           8605,
           141
          ],
          [
           671,
           13
          ],
          [
           1076,
           12
          ],
          [
           6706,
           43
          ],
          [
           662,
           11
          ],
          [
           434,
           14
          ],
          [
           865,
           28
          ],
          [
           6369,
           142
          ],
          [
           604,
           24
          ],
          [
           58092,
           792
          ],
          [
           3879,
           42
          ],
          [
           17775,
           369
          ],
          [
           437,
           14
          ],
          [
           662,
           12
          ],
          [
           279,
           3
          ],
          [
           344,
           10
          ],
          [
           186,
           6
          ],
          [
           559,
           10
          ],
          [
           2239,
           53
          ],
          [
           1105,
           20
          ],
          [
           407,
           8
          ],
          [
           0,
           0
          ],
          [
           698,
           14
          ],
          [
           179,
           4
          ],
          [
           555,
           14
          ],
          [
           218,
           6
          ],
          [
           1039,
           16
          ],
          [
           225,
           5
          ],
          [
           21072,
           287
          ],
          [
           1960,
           54
          ],
          [
           2122,
           44
          ],
          [
           1799,
           23
          ],
          [
           421,
           9
          ],
          [
           4517,
           103
          ],
          [
           1052,
           24
          ],
          [
           3181,
           58
          ],
          [
           14447,
           147
          ],
          [
           1765,
           20
          ],
          [
           5146,
           76
          ],
          [
           3509,
           78
          ],
          [
           673,
           8
          ],
          [
           1055,
           9
          ],
          [
           1323,
           18
          ],
          [
           7416,
           83
          ],
          [
           1480,
           28
          ],
          [
           1486,
           32
          ],
          [
           3593,
           50
          ],
          [
           8769,
           80
          ],
          [
           485,
           10
          ],
          [
           1042,
           21
          ],
          [
           2379,
           35
          ],
          [
           1519,
           39
          ],
          [
           7089,
           107
          ],
          [
           3042,
           32
          ],
          [
           2721,
           46
          ],
          [
           1454,
           31
          ],
          [
           687,
           24
          ],
          [
           697,
           12
          ],
          [
           11022,
           193
          ],
          [
           924,
           25
          ],
          [
           987,
           2
          ],
          [
           1188,
           12
          ],
          [
           36544,
           315
          ],
          [
           1233,
           25
          ],
          [
           3503,
           73
          ],
          [
           4198,
           56
          ],
          [
           547,
           16
          ],
          [
           746,
           33
          ],
          [
           1555,
           37
          ],
          [
           2539,
           21
          ],
          [
           4397,
           96
          ],
          [
           2256,
           58
          ],
          [
           1234,
           17
          ],
          [
           3726,
           63
          ],
          [
           897,
           15
          ],
          [
           10017,
           170
          ],
          [
           2952,
           91
          ],
          [
           1835,
           25
          ],
          [
           2027,
           53
          ],
          [
           4988,
           79
          ],
          [
           1389,
           20
          ],
          [
           402,
           15
          ],
          [
           4739,
           149
          ],
          [
           1336,
           32
          ],
          [
           83167,
           1339
          ],
          [
           4808,
           72
          ],
          [
           2108,
           37
          ],
          [
           16908,
           204
          ],
          [
           1164,
           24
          ],
          [
           3879,
           46
          ],
          [
           1370,
           26
          ],
          [
           7583,
           81
          ],
          [
           1488,
           28
          ],
          [
           1295,
           26
          ],
          [
           961,
           8
          ],
          [
           1976,
           46
          ],
          [
           1365,
           40
          ],
          [
           2413,
           59
          ],
          [
           889,
           25
          ],
          [
           2953,
           73
          ],
          [
           1558,
           21
          ],
          [
           9594,
           112
          ],
          [
           1038,
           18
          ],
          [
           2392,
           38
          ],
          [
           2896,
           60
          ],
          [
           1062,
           20
          ],
          [
           1764,
           40
          ],
          [
           6962,
           133
          ],
          [
           2006,
           34
          ],
          [
           904,
           28
          ],
          [
           2097,
           26
          ],
          [
           489,
           17
          ],
          [
           2639,
           54
          ],
          [
           1069,
           30
          ],
          [
           1346,
           44
          ],
          [
           2862,
           30
          ],
          [
           2330,
           5
          ],
          [
           3084,
           67
          ],
          [
           5017,
           62
          ],
          [
           599,
           8
          ],
          [
           2516,
           55
          ],
          [
           7695,
           84
          ],
          [
           744,
           13
          ],
          [
           508,
           16
          ],
          [
           1048,
           4
          ],
          [
           2795,
           66
          ],
          [
           5875,
           106
          ],
          [
           1354,
           13
          ],
          [
           6600,
           110
          ],
          [
           237,
           14
          ],
          [
           1640,
           24
          ],
          [
           2331,
           21
          ],
          [
           1891,
           46
          ],
          [
           5484,
           36
          ],
          [
           4826,
           78
          ],
          [
           2159,
           42
          ],
          [
           1656,
           25
          ],
          [
           3189,
           53
          ],
          [
           1172,
           28
          ],
          [
           1341,
           14
          ],
          [
           707,
           7
          ],
          [
           9,
           0
          ],
          [
           1452,
           16
          ],
          [
           16345,
           185
          ],
          [
           1461,
           41
          ],
          [
           2215,
           48
          ],
          [
           1421,
           22
          ],
          [
           4058,
           61
          ],
          [
           549,
           6
          ],
          [
           2167,
           22
          ],
          [
           6819,
           197
          ],
          [
           3276,
           92
          ],
          [
           12966,
           168
          ],
          [
           2333,
           36
          ],
          [
           4353,
           125
          ],
          [
           3336,
           79
          ],
          [
           1713,
           84
          ],
          [
           14488,
           310
          ],
          [
           27284,
           762
          ],
          [
           23292,
           456
          ],
          [
           1141,
           29
          ],
          [
           634,
           7
          ],
          [
           1180,
           38
          ],
          [
           1483,
           55
          ],
          [
           1928,
           62
          ],
          [
           2908,
           78
          ],
          [
           41285,
           841
          ],
          [
           1139,
           27
          ],
          [
           3274,
           115
          ],
          [
           3701,
           98
          ],
          [
           2576,
           107
          ],
          [
           2274,
           58
          ],
          [
           7420,
           161
          ],
          [
           3960,
           102
          ],
          [
           2085,
           52
          ],
          [
           47666,
           911
          ],
          [
           3254,
           97
          ],
          [
           1711,
           37
          ],
          [
           24638,
           294
          ],
          [
           10254,
           205
          ],
          [
           4718,
           94
          ],
          [
           14450,
           212
          ],
          [
           1576,
           40
          ],
          [
           2884,
           78
          ],
          [
           4172,
           94
          ],
          [
           31139,
           805
          ],
          [
           19118,
           464
          ],
          [
           0,
           0
          ],
          [
           2576,
           27
          ],
          [
           2741,
           75
          ],
          [
           12765,
           328
          ],
          [
           907,
           38
          ],
          [
           2524,
           57
          ],
          [
           3007,
           64
          ],
          [
           4153,
           54
          ],
          [
           5669,
           98
          ],
          [
           985,
           12
          ],
          [
           2048,
           51
          ],
          [
           3898,
           141
          ],
          [
           9223,
           262
          ],
          [
           5590,
           118
          ],
          [
           5124,
           143
          ],
          [
           26548,
           529
          ],
          [
           13310,
           307
          ],
          [
           372,
           8
          ],
          [
           11036,
           228
          ],
          [
           388,
           0
          ],
          [
           2457,
           82
          ],
          [
           5803,
           126
          ],
          [
           3232,
           106
          ],
          [
           4504,
           134
          ],
          [
           4273,
           114
          ],
          [
           3007,
           63
          ],
          [
           1193,
           41
          ],
          [
           1211,
           34
          ],
          [
           1588,
           47
          ],
          [
           8423,
           86
          ],
          [
           1904,
           48
          ],
          [
           17270,
           200
          ],
          [
           1396,
           15
          ],
          [
           1377,
           38
          ],
          [
           6612,
           74
          ],
          [
           1149,
           6
          ],
          [
           1083,
           3
          ],
          [
           0,
           0
          ],
          [
           3650,
           68
          ],
          [
           6356,
           99
          ],
          [
           591,
           7
          ],
          [
           1476,
           11
          ],
          [
           2287,
           32
          ],
          [
           3,
           0
          ],
          [
           1052,
           21
          ],
          [
           945,
           18
          ],
          [
           13547,
           134
          ],
          [
           7057,
           212
          ],
          [
           43998,
           665
          ],
          [
           65990,
           1683
          ],
          [
           53162,
           1253
          ],
          [
           4239,
           86
          ],
          [
           2352,
           30
          ],
          [
           9528,
           254
          ],
          [
           6359,
           152
          ],
          [
           10976,
           216
          ],
          [
           2853,
           65
          ],
          [
           19849,
           343
          ],
          [
           2048,
           65
          ],
          [
           16668,
           301
          ],
          [
           19352,
           256
          ],
          [
           1361,
           51
          ],
          [
           71243,
           1625
          ],
          [
           85600,
           1597
          ],
          [
           3012,
           51
          ],
          [
           2626,
           40
          ],
          [
           6067,
           132
          ],
          [
           2185,
           44
          ],
          [
           0,
           18
          ],
          [
           14671,
           332
          ],
          [
           7737,
           174
          ],
          [
           3701,
           106
          ],
          [
           13951,
           470
          ],
          [
           6562,
           288
          ],
          [
           66928,
           1745
          ],
          [
           2934,
           5
          ],
          [
           97993,
           2404
          ],
          [
           2585,
           113
          ],
          [
           52459,
           1537
          ],
          [
           9177,
           300
          ],
          [
           135427,
           3781
          ],
          [
           55037,
           1804
          ],
          [
           49311,
           1446
          ],
          [
           93172,
           1849
          ],
          [
           47146,
           7
          ],
          [
           77456,
           2248
          ],
          [
           739,
           33
          ],
          [
           519,
           7
          ],
          [
           11191,
           161
          ],
          [
           2273,
           63
          ],
          [
           1636,
           30
          ],
          [
           1209,
           29
          ],
          [
           823,
           39
          ],
          [
           5965,
           69
          ],
          [
           11267,
           355
          ],
          [
           1284,
           36
          ],
          [
           15531,
           293
          ],
          [
           4919,
           97
          ],
          [
           14573,
           318
          ],
          [
           5504,
           77
          ],
          [
           1677,
           22
          ],
          [
           1931,
           46
          ],
          [
           2515,
           34
          ],
          [
           2482,
           85
          ],
          [
           7659,
           93
          ],
          [
           995,
           14
          ],
          [
           4057,
           95
          ],
          [
           2755,
           74
          ],
          [
           10157,
           212
          ],
          [
           2379,
           43
          ],
          [
           320,
           5
          ],
          [
           41760,
           971
          ],
          [
           2305,
           61
          ],
          [
           1406,
           52
          ],
          [
           6480,
           99
          ],
          [
           4094,
           121
          ],
          [
           4403,
           93
          ],
          [
           3143,
           43
          ],
          [
           4093,
           82
          ],
          [
           24913,
           392
          ],
          [
           6337,
           80
          ],
          [
           2007,
           74
          ],
          [
           1054,
           53
          ],
          [
           6340,
           100
          ],
          [
           15844,
           293
          ],
          [
           23198,
           402
          ],
          [
           1144,
           27
          ],
          [
           73728,
           860
          ],
          [
           174,
           2
          ],
          [
           638,
           16
          ],
          [
           9244,
           206
          ],
          [
           1243,
           19
          ],
          [
           9388,
           171
          ],
          [
           16757,
           196
          ],
          [
           481,
           5
          ],
          [
           714,
           3
          ],
          [
           100235,
           2493
          ],
          [
           1210,
           22
          ],
          [
           5088,
           64
          ],
          [
           2140,
           37
          ],
          [
           3217,
           36
          ],
          [
           2130,
           43
          ],
          [
           26748,
           152
          ],
          [
           7577,
           94
          ],
          [
           1513,
           27
          ],
          [
           15436,
           264
          ],
          [
           6093,
           114
          ],
          [
           618,
           20
          ],
          [
           16313,
           371
          ],
          [
           4901,
           68
          ],
          [
           118774,
           2447
          ],
          [
           2769,
           60
          ],
          [
           1747,
           43
          ],
          [
           482,
           21
          ],
          [
           1962,
           31
          ],
          [
           691,
           31
          ],
          [
           2349,
           41
          ],
          [
           32947,
           441
          ],
          [
           1633,
           15
          ],
          [
           1057,
           34
          ],
          [
           1900,
           55
          ],
          [
           21392,
           625
          ],
          [
           4261,
           125
          ],
          [
           438,
           5
          ],
          [
           6438,
           107
          ],
          [
           18483,
           448
          ],
          [
           6256,
           101
          ],
          [
           5668,
           174
          ],
          [
           23,
           0
          ],
          [
           7149,
           130
          ],
          [
           26515,
           302
          ],
          [
           166071,
           5169
          ],
          [
           2903,
           48
          ],
          [
           1389,
           37
          ],
          [
           42864,
           462
          ],
          [
           3871,
           56
          ],
          [
           4083,
           63
          ],
          [
           5831,
           98
          ],
          [
           605,
           4
          ],
          [
           7637,
           44
          ],
          [
           3081,
           40
          ],
          [
           3544,
           57
          ],
          [
           10688,
           49
          ],
          [
           2871,
           32
          ],
          [
           1540,
           38
          ],
          [
           6219,
           52
          ],
          [
           8275,
           92
          ],
          [
           890,
           16
          ],
          [
           172,
           0
          ],
          [
           1674,
           24
          ],
          [
           6834,
           97
          ],
          [
           46938,
           474
          ],
          [
           1877,
           3
          ],
          [
           4760,
           81
          ],
          [
           1560,
           19
          ],
          [
           1577,
           10
          ],
          [
           3478,
           34
          ],
          [
           4840,
           74
          ],
          [
           595,
           8
          ],
          [
           125276,
           1790
          ],
          [
           1747,
           16
          ],
          [
           1971,
           41
          ],
          [
           4411,
           65
          ],
          [
           4614,
           66
          ],
          [
           1228,
           12
          ],
          [
           1469,
           28
          ],
          [
           6690,
           85
          ],
          [
           490,
           22
          ],
          [
           958,
           19
          ],
          [
           757,
           22
          ],
          [
           833,
           20
          ],
          [
           345,
           4
          ],
          [
           2979,
           27
          ],
          [
           584,
           3
          ],
          [
           3642,
           54
          ],
          [
           565,
           9
          ],
          [
           888,
           17
          ],
          [
           2354,
           33
          ],
          [
           4324,
           61
          ],
          [
           2639,
           43
          ],
          [
           3120,
           55
          ],
          [
           4256,
           62
          ],
          [
           4718,
           33
          ],
          [
           1070,
           10
          ],
          [
           3319,
           45
          ],
          [
           4083,
           50
          ],
          [
           548,
           9
          ],
          [
           13427,
           102
          ],
          [
           5874,
           86
          ],
          [
           1538,
           20
          ],
          [
           3355,
           23
          ],
          [
           1168,
           26
          ],
          [
           3893,
           72
          ],
          [
           1129,
           6
          ],
          [
           52603,
           905
          ],
          [
           402,
           7
          ],
          [
           1767,
           40
          ],
          [
           1827,
           46
          ],
          [
           8220,
           111
          ],
          [
           1285,
           19
          ],
          [
           2113,
           21
          ],
          [
           17572,
           139
          ],
          [
           12042,
           95
          ],
          [
           1468,
           10
          ],
          [
           18171,
           318
          ],
          [
           22583,
           226
          ],
          [
           3987,
           18
          ],
          [
           925,
           11
          ],
          [
           1072,
           18
          ],
          [
           2867,
           33
          ],
          [
           377,
           5
          ],
          [
           478,
           93
          ],
          [
           2079,
           3
          ],
          [
           1640,
           23
          ],
          [
           2391,
           23
          ],
          [
           27471,
           295
          ],
          [
           1356,
           9
          ],
          [
           834,
           13
          ],
          [
           4619,
           52
          ],
          [
           16405,
           150
          ],
          [
           1151,
           20
          ],
          [
           3128,
           86
          ],
          [
           3313,
           74
          ],
          [
           1276,
           43
          ],
          [
           2154,
           73
          ],
          [
           1025,
           25
          ],
          [
           4848,
           134
          ],
          [
           1745,
           32
          ],
          [
           1224,
           30
          ],
          [
           2118,
           59
          ],
          [
           798,
           18
          ],
          [
           1033,
           30
          ],
          [
           1792,
           80
          ],
          [
           1888,
           54
          ],
          [
           3024,
           84
          ],
          [
           3015,
           66
          ],
          [
           2692,
           83
          ],
          [
           22415,
           273
          ],
          [
           7894,
           154
          ],
          [
           852,
           23
          ],
          [
           2535,
           51
          ],
          [
           1321,
           34
          ],
          [
           2641,
           88
          ],
          [
           3901,
           88
          ],
          [
           18614,
           317
          ],
          [
           21070,
           425
          ],
          [
           1910,
           74
          ],
          [
           975,
           33
          ],
          [
           169,
           6
          ],
          [
           3053,
           80
          ],
          [
           13845,
           251
          ],
          [
           2226,
           48
          ],
          [
           664,
           28
          ],
          [
           1089,
           34
          ],
          [
           8493,
           168
          ],
          [
           969,
           29
          ],
          [
           6335,
           123
          ],
          [
           6404,
           88
          ],
          [
           7275,
           243
          ],
          [
           1323,
           25
          ],
          [
           2733,
           74
          ],
          [
           10124,
           176
          ],
          [
           3519,
           125
          ],
          [
           4025,
           113
          ],
          [
           6561,
           150
          ],
          [
           10335,
           227
          ],
          [
           2726,
           80
          ],
          [
           4598,
           105
          ],
          [
           4180,
           136
          ],
          [
           1293,
           44
          ],
          [
           4089,
           180
          ],
          [
           2502,
           64
          ],
          [
           1287,
           35
          ],
          [
           4678,
           98
          ],
          [
           4680,
           111
          ],
          [
           4652,
           148
          ],
          [
           1283,
           38
          ],
          [
           3392,
           111
          ],
          [
           4292,
           73
          ],
          [
           2868,
           61
          ],
          [
           826,
           17
          ],
          [
           14077,
           282
          ],
          [
           3215,
           74
          ],
          [
           510,
           17
          ],
          [
           3021,
           89
          ],
          [
           1659,
           34
          ],
          [
           1920,
           34
          ],
          [
           3399,
           93
          ],
          [
           1802,
           42
          ],
          [
           3434,
           87
          ],
          [
           2934,
           68
          ],
          [
           2331,
           69
          ],
          [
           1086,
           27
          ],
          [
           0,
           0
          ],
          [
           4173,
           78
          ],
          [
           1361,
           47
          ],
          [
           4457,
           121
          ],
          [
           5448,
           138
          ],
          [
           2659,
           42
          ],
          [
           1151,
           32
          ],
          [
           702,
           32
          ],
          [
           2311,
           82
          ],
          [
           1682,
           40
          ],
          [
           3165,
           71
          ],
          [
           2502,
           19
          ],
          [
           2002,
           21
          ],
          [
           463,
           6
          ],
          [
           2810,
           58
          ],
          [
           3118,
           47
          ],
          [
           1259,
           16
          ],
          [
           1364,
           32
          ],
          [
           1750,
           35
          ],
          [
           1166,
           14
          ],
          [
           18676,
           100
          ],
          [
           9948,
           148
          ],
          [
           4319,
           50
          ],
          [
           884,
           15
          ],
          [
           5162,
           51
          ],
          [
           4494,
           90
          ],
          [
           9037,
           139
          ],
          [
           1078,
           24
          ],
          [
           552,
           11
          ],
          [
           9616,
           116
          ],
          [
           1173,
           21
          ],
          [
           754,
           8
          ],
          [
           9418,
           97
          ],
          [
           719,
           8
          ],
          [
           10550,
           174
          ],
          [
           2040,
           65
          ],
          [
           9442,
           130
          ],
          [
           1964,
           27
          ],
          [
           2683,
           40
          ],
          [
           642,
           17
          ],
          [
           1556,
           28
          ],
          [
           763,
           11
          ],
          [
           1152,
           32
          ],
          [
           1069,
           19
          ],
          [
           1035,
           29
          ],
          [
           3111,
           50
          ],
          [
           10902,
           186
          ],
          [
           1591,
           47
          ],
          [
           868,
           20
          ],
          [
           32001,
           492
          ],
          [
           1144,
           35
          ],
          [
           908,
           14
          ],
          [
           2103,
           40
          ],
          [
           719,
           15
          ],
          [
           466,
           14
          ],
          [
           1091,
           7
          ],
          [
           3713,
           46
          ],
          [
           928,
           7
          ],
          [
           39968,
           481
          ],
          [
           17080,
           247
          ],
          [
           23885,
           254
          ],
          [
           4909,
           59
          ],
          [
           45736,
           597
          ],
          [
           388,
           3
          ],
          [
           3757,
           75
          ],
          [
           3238,
           57
          ],
          [
           3789,
           89
          ],
          [
           1077,
           20
          ],
          [
           6364,
           52
          ],
          [
           1607,
           17
          ],
          [
           2159,
           46
          ],
          [
           1656,
           18
          ],
          [
           1696,
           16
          ],
          [
           659,
           8
          ],
          [
           3690,
           53
          ],
          [
           2657,
           31
          ],
          [
           313,
           2
          ],
          [
           2733,
           57
          ],
          [
           1508,
           28
          ],
          [
           1848,
           33
          ],
          [
           1026,
           12
          ],
          [
           1083,
           13
          ],
          [
           1845,
           44
          ],
          [
           2157,
           47
          ],
          [
           5936,
           80
          ],
          [
           2760,
           25
          ],
          [
           856,
           5
          ],
          [
           1659,
           16
          ],
          [
           688,
           21
          ],
          [
           1628,
           39
          ],
          [
           2282,
           30
          ],
          [
           5261,
           77
          ],
          [
           4062,
           134
          ],
          [
           1830,
           26
          ],
          [
           4313,
           50
          ],
          [
           3810,
           38
          ],
          [
           3682,
           55
          ],
          [
           486,
           4
          ],
          [
           1079,
           13
          ],
          [
           2717,
           31
          ],
          [
           2062,
           28
          ],
          [
           395,
           3
          ],
          [
           1116,
           17
          ],
          [
           2900,
           38
          ],
          [
           347,
           7
          ],
          [
           306,
           4
          ],
          [
           4760,
           87
          ],
          [
           625,
           12
          ],
          [
           686,
           7
          ],
          [
           43710,
           474
          ],
          [
           820,
           8
          ],
          [
           9001,
           116
          ],
          [
           102240,
           2270
          ],
          [
           25578,
           533
          ],
          [
           1849,
           17
          ],
          [
           2564,
           42
          ],
          [
           2749,
           49
          ],
          [
           872,
           14
          ],
          [
           6215,
           102
          ],
          [
           2051,
           23
          ],
          [
           0,
           0
          ],
          [
           2033,
           46
          ],
          [
           3279,
           28
          ],
          [
           2802,
           52
          ],
          [
           1050,
           14
          ],
          [
           4182,
           57
          ],
          [
           190,
           2
          ],
          [
           1780,
           34
          ],
          [
           928,
           12
          ],
          [
           2591,
           76
          ],
          [
           823,
           24
          ],
          [
           524,
           5
          ],
          [
           915,
           17
          ],
          [
           151,
           5
          ],
          [
           9524,
           188
          ],
          [
           516,
           7
          ],
          [
           1208,
           18
          ],
          [
           197,
           8
          ],
          [
           1107,
           29
          ],
          [
           1128,
           16
          ],
          [
           291,
           2
          ],
          [
           1132,
           31
          ],
          [
           12466,
           102
          ],
          [
           14922,
           63
          ],
          [
           80,
           2
          ],
          [
           1547,
           43
          ],
          [
           57,
           2
          ],
          [
           204,
           2
          ],
          [
           2037,
           46
          ],
          [
           1115,
           8
          ],
          [
           92,
           1
          ],
          [
           2139,
           36
          ],
          [
           7069,
           92
          ],
          [
           119,
           1
          ],
          [
           1651,
           18
          ],
          [
           796,
           8
          ],
          [
           183,
           1
          ],
          [
           152,
           7
          ],
          [
           293,
           2
          ],
          [
           9383,
           96
          ],
          [
           376,
           14
          ],
          [
           1463,
           20
          ],
          [
           12,
           1
          ],
          [
           527,
           16
          ],
          [
           509,
           4
          ],
          [
           135,
           6
          ],
          [
           941,
           11
          ],
          [
           141,
           2
          ],
          [
           3265,
           50
          ],
          [
           1246,
           18
          ],
          [
           1670,
           55
          ],
          [
           1233,
           50
          ],
          [
           678,
           15
          ],
          [
           424,
           5
          ],
          [
           4167,
           86
          ],
          [
           753,
           14
          ],
          [
           404,
           7
          ],
          [
           506,
           6
          ],
          [
           729,
           11
          ],
          [
           55,
           1
          ],
          [
           0,
           0
          ],
          [
           902,
           18
          ],
          [
           183,
           8
          ],
          [
           121,
           6
          ],
          [
           18093,
           274
          ],
          [
           2993,
           46
          ],
          [
           536,
           7
          ],
          [
           22,
           1
          ],
          [
           36,
           0
          ],
          [
           21,
           0
          ],
          [
           584,
           4
          ],
          [
           944,
           8
          ],
          [
           176,
           3
          ],
          [
           220,
           2
          ],
          [
           5521,
           57
          ],
          [
           671,
           12
          ],
          [
           850,
           11
          ],
          [
           2676,
           16
          ],
          [
           776,
           11
          ],
          [
           463,
           5
          ],
          [
           301,
           7
          ],
          [
           938,
           16
          ],
          [
           706,
           11
          ],
          [
           1593,
           21
          ],
          [
           1056,
           15
          ],
          [
           852,
           19
          ],
          [
           3939,
           65
          ],
          [
           749,
           12
          ],
          [
           2888,
           31
          ],
          [
           107,
           1
          ],
          [
           611,
           9
          ],
          [
           4964,
           62
          ],
          [
           71755,
           718
          ],
          [
           185,
           4
          ],
          [
           507,
           8
          ],
          [
           242,
           4
          ],
          [
           193,
           1
          ],
          [
           508,
           5
          ],
          [
           2188,
           19
          ],
          [
           113,
           1
          ],
          [
           153,
           1
          ],
          [
           187,
           5
          ],
          [
           41,
           4
          ],
          [
           214,
           1
          ],
          [
           7863,
           117
          ],
          [
           967,
           17
          ],
          [
           219,
           0
          ],
          [
           61,
           0
          ],
          [
           255,
           5
          ],
          [
           865,
           16
          ],
          [
           54,
           2
          ],
          [
           559,
           10
          ],
          [
           669,
           1
          ],
          [
           641,
           9
          ],
          [
           690,
           5
          ],
          [
           723,
           10
          ],
          [
           54,
           0
          ],
          [
           423,
           1
          ],
          [
           888,
           12
          ],
          [
           31468,
           170
          ],
          [
           3874,
           60
          ],
          [
           82,
           0
          ],
          [
           42,
           0
          ],
          [
           4303,
           44
          ],
          [
           29,
           1
          ],
          [
           787,
           15
          ],
          [
           513,
           7
          ],
          [
           414,
           10
          ],
          [
           696,
           15
          ],
          [
           434,
           11
          ],
          [
           1473,
           10
          ],
          [
           234,
           1
          ],
          [
           294,
           11
          ],
          [
           1001,
           10
          ],
          [
           642,
           20
          ],
          [
           4152,
           50
          ],
          [
           585,
           9
          ],
          [
           1214,
           15
          ],
          [
           738,
           19
          ],
          [
           102,
           2
          ],
          [
           2044,
           2
          ],
          [
           22854,
           131
          ],
          [
           2534,
           16
          ],
          [
           4193,
           48
          ],
          [
           1761,
           32
          ],
          [
           530,
           10
          ],
          [
           212,
           4
          ],
          [
           39,
           0
          ],
          [
           372,
           11
          ],
          [
           495,
           4
          ],
          [
           53,
           1
          ],
          [
           848,
           11
          ],
          [
           3447,
           31
          ],
          [
           327,
           2
          ],
          [
           2198,
           25
          ],
          [
           1090,
           7
          ],
          [
           391,
           7
          ],
          [
           39,
           0
          ],
          [
           1768,
           11
          ],
          [
           6627,
           124
          ],
          [
           2134,
           49
          ],
          [
           260838,
           4508
          ],
          [
           3019,
           37
          ],
          [
           5189,
           58
          ],
          [
           38,
           0
          ],
          [
           55,
           0
          ],
          [
           1219,
           14
          ],
          [
           482,
           9
          ],
          [
           376,
           3
          ],
          [
           3367,
           65
          ],
          [
           309,
           7
          ],
          [
           3022,
           108
          ],
          [
           971,
           20
          ],
          [
           120,
           3
          ],
          [
           0,
           0
          ],
          [
           46361,
           686
          ],
          [
           636,
           6
          ],
          [
           4183,
           100
          ],
          [
           2496,
           13
          ],
          [
           3900,
           35
          ],
          [
           2060,
           43
          ],
          [
           4084,
           28
          ],
          [
           36418,
           647
          ],
          [
           9690,
           116
          ],
          [
           24412,
           266
          ],
          [
           10099,
           97
          ],
          [
           1886,
           26
          ],
          [
           327,
           1
          ],
          [
           31675,
           695
          ],
          [
           105095,
           2890
          ],
          [
           44455,
           872
          ],
          [
           55979,
           1341
          ],
          [
           9304,
           208
          ],
          [
           17256,
           442
          ],
          [
           94514,
           3024
          ],
          [
           30746,
           646
          ],
          [
           88461,
           2304
          ],
          [
           9908,
           176
          ],
          [
           34215,
           961
          ],
          [
           92721,
           2369
          ],
          [
           76258,
           1638
          ],
          [
           50413,
           1241
          ],
          [
           76603,
           2172
          ],
          [
           73465,
           1939
          ],
          [
           6123,
           188
          ],
          [
           30277,
           846
          ],
          [
           14130,
           307
          ],
          [
           823,
           0
          ],
          [
           71841,
           1980
          ],
          [
           10049,
           238
          ],
          [
           59153,
           966
          ],
          [
           97,
           5
          ],
          [
           9073,
           171
          ],
          [
           2914,
           125
          ],
          [
           799,
           46
          ],
          [
           5332,
           86
          ],
          [
           178,
           2
          ],
          [
           25130,
           493
          ],
          [
           6960,
           141
          ],
          [
           1756,
           41
          ],
          [
           471,
           11
          ],
          [
           13,
           1
          ],
          [
           368,
           9
          ],
          [
           8449,
           197
          ],
          [
           1766,
           19
          ],
          [
           538,
           7
          ],
          [
           3386,
           92
          ],
          [
           12388,
           478
          ],
          [
           175,
           7
          ],
          [
           4075,
           81
          ],
          [
           537,
           11
          ],
          [
           3805,
           80
          ],
          [
           2033,
           59
          ],
          [
           15745,
           497
          ],
          [
           1410,
           17
          ],
          [
           12265,
           241
          ],
          [
           10632,
           151
          ],
          [
           781,
           52
          ],
          [
           1330,
           61
          ],
          [
           1727,
           53
          ],
          [
           891,
           15
          ],
          [
           4350,
           0
          ],
          [
           260,
           10
          ],
          [
           6928,
           119
          ],
          [
           24739,
           357
          ],
          [
           3562,
           87
          ],
          [
           184114,
           6584
          ],
          [
           18669,
           366
          ],
          [
           5728,
           92
          ],
          [
           6357,
           92
          ],
          [
           8966,
           145
          ],
          [
           7786,
           136
          ],
          [
           3516,
           77
          ],
          [
           4855,
           33
          ],
          [
           4083,
           104
          ],
          [
           3935,
           63
          ],
          [
           2395,
           39
          ],
          [
           29524,
           446
          ],
          [
           89729,
           1812
          ],
          [
           1597,
           26
          ],
          [
           2564,
           12
          ],
          [
           4432,
           93
          ],
          [
           5442,
           124
          ],
          [
           3406,
           79
          ],
          [
           316,
           2
          ],
          [
           5209,
           109
          ],
          [
           6187,
           68
          ],
          [
           281604,
           10489
          ],
          [
           2827,
           36
          ],
          [
           4540,
           60
          ],
          [
           4571,
           89
          ],
          [
           69233,
           1115
          ],
          [
           4259,
           127
          ],
          [
           184153,
           3180
          ],
          [
           139000,
           4515
          ],
          [
           20073,
           374
          ],
          [
           22674,
           517
          ],
          [
           39089,
           678
          ],
          [
           7415,
           93
          ],
          [
           48440,
           847
          ],
          [
           3125,
           83
          ],
          [
           7641,
           93
          ],
          [
           3471,
           47
          ],
          [
           0,
           250
          ],
          [
           10634,
           93
          ],
          [
           278222,
           9986
          ],
          [
           11253,
           144
          ],
          [
           75510,
           1846
          ],
          [
           47086,
           757
          ],
          [
           15417,
           168
          ],
          [
           13219,
           205
          ],
          [
           1705,
           18
          ],
          [
           1082,
           14
          ],
          [
           2013,
           57
          ],
          [
           6672,
           97
          ],
          [
           6974,
           146
          ],
          [
           201580,
           3407
          ],
          [
           6699,
           76
          ],
          [
           3843,
           63
          ],
          [
           4364,
           52
          ],
          [
           13936,
           257
          ],
          [
           92,
           16
          ],
          [
           3680,
           57
          ],
          [
           3167,
           55
          ],
          [
           5800,
           71
          ],
          [
           129938,
           2293
          ],
          [
           3596,
           53
          ],
          [
           1180,
           26
          ],
          [
           19042,
           289
          ],
          [
           4456,
           84
          ],
          [
           1095,
           5
          ],
          [
           2638,
           56
          ],
          [
           2252,
           45
          ],
          [
           2164,
           21
          ],
          [
           4791,
           102
          ],
          [
           1795,
           45
          ],
          [
           3516,
           47
          ],
          [
           9342,
           156
          ],
          [
           18089,
           325
          ],
          [
           10152,
           162
          ],
          [
           22396,
           262
          ],
          [
           9521,
           111
          ],
          [
           695,
           6
          ],
          [
           5261,
           55
          ],
          [
           2200,
           30
          ],
          [
           19823,
           311
          ],
          [
           4756,
           89
          ],
          [
           2638,
           38
          ],
          [
           1488,
           34
          ],
          [
           906,
           18
          ],
          [
           11717,
           228
          ],
          [
           6459,
           151
          ],
          [
           9470,
           126
          ],
          [
           30343,
           321
          ],
          [
           1580,
           16
          ],
          [
           2191,
           10
          ],
          [
           17032,
           197
          ],
          [
           4180,
           40
          ],
          [
           6387,
           142
          ],
          [
           25793,
           231
          ],
          [
           5704,
           113
          ],
          [
           37030,
           422
          ],
          [
           7047,
           54
          ],
          [
           27198,
           441
          ],
          [
           749,
           13
          ],
          [
           666,
           13
          ],
          [
           5991,
           83
          ],
          [
           2421,
           47
          ],
          [
           48742,
           721
          ],
          [
           5686,
           114
          ],
          [
           12069,
           181
          ],
          [
           4498,
           99
          ],
          [
           10314,
           165
          ],
          [
           2117,
           64
          ],
          [
           4908,
           56
          ],
          [
           671,
           9
          ],
          [
           19284,
           236
          ],
          [
           3660,
           56
          ],
          [
           22291,
           237
          ],
          [
           899,
           28
          ],
          [
           6154,
           82
          ],
          [
           6270,
           124
          ],
          [
           10289,
           86
          ],
          [
           3166,
           41
          ],
          [
           1601,
           42
          ],
          [
           2329,
           45
          ],
          [
           5289,
           63
          ],
          [
           114737,
           975
          ],
          [
           1480,
           16
          ],
          [
           3384,
           97
          ],
          [
           9067,
           194
          ],
          [
           11709,
           199
          ],
          [
           19559,
           175
          ],
          [
           1895,
           61
          ],
          [
           17902,
           154
          ],
          [
           8601,
           101
          ],
          [
           1119,
           13
          ],
          [
           3451,
           84
          ],
          [
           5554,
           71
          ],
          [
           1037,
           12
          ],
          [
           3513,
           71
          ],
          [
           20514,
           96
          ],
          [
           1500,
           30
          ],
          [
           15352,
           232
          ],
          [
           4828,
           98
          ],
          [
           16886,
           271
          ],
          [
           8100,
           156
          ],
          [
           17258,
           311
          ],
          [
           7444,
           218
          ],
          [
           8164,
           114
          ],
          [
           3910,
           88
          ],
          [
           7933,
           138
          ],
          [
           4234,
           82
          ],
          [
           8411,
           170
          ],
          [
           1210,
           18
          ],
          [
           2387,
           33
          ],
          [
           326,
           6
          ],
          [
           0,
           0
          ],
          [
           24944,
           225
          ],
          [
           4995,
           90
          ],
          [
           89608,
           737
          ],
          [
           1817,
           20
          ],
          [
           1140,
           32
          ],
          [
           5024,
           33
          ],
          [
           11496,
           244
          ],
          [
           6954,
           117
          ],
          [
           9929,
           181
          ],
          [
           4136,
           55
          ],
          [
           1640,
           28
          ],
          [
           271,
           3
          ],
          [
           1422,
           31
          ],
          [
           1104,
           19
          ],
          [
           54,
           0
          ],
          [
           724,
           20
          ],
          [
           407,
           5
          ],
          [
           247,
           3
          ],
          [
           16040,
           196
          ],
          [
           24792,
           210
          ],
          [
           432,
           5
          ],
          [
           800,
           33
          ],
          [
           187,
           2
          ],
          [
           401,
           7
          ],
          [
           470,
           6
          ],
          [
           441,
           13
          ],
          [
           600,
           19
          ],
          [
           261,
           3
          ],
          [
           10721,
           79
          ],
          [
           211,
           7
          ],
          [
           330,
           2
          ],
          [
           332,
           4
          ],
          [
           279,
           10
          ],
          [
           538,
           17
          ],
          [
           267,
           10
          ],
          [
           658,
           23
          ],
          [
           354,
           7
          ],
          [
           1464,
           14
          ],
          [
           1294,
           31
          ],
          [
           1164,
           10
          ],
          [
           5349,
           101
          ],
          [
           1391,
           18
          ],
          [
           482,
           15
          ],
          [
           158,
           3
          ],
          [
           824,
           11
          ],
          [
           550,
           25
          ],
          [
           1729,
           30
          ],
          [
           700,
           17
          ],
          [
           322,
           14
          ],
          [
           2027,
           17
          ],
          [
           2161,
           28
          ],
          [
           501,
           7
          ],
          [
           122,
           2
          ],
          [
           665,
           12
          ],
          [
           32,
           0
          ],
          [
           4959,
           52
          ],
          [
           195,
           2
          ],
          [
           3546,
           81
          ],
          [
           327,
           11
          ],
          [
           1054,
           18
          ],
          [
           0,
           31
          ],
          [
           1913,
           27
          ],
          [
           9976,
           200
          ],
          [
           458,
           8
          ],
          [
           5039,
           40
          ],
          [
           183,
           2
          ],
          [
           2441,
           58
          ],
          [
           11948,
           245
          ],
          [
           4370,
           98
          ],
          [
           7216,
           180
          ],
          [
           5250,
           60
          ],
          [
           5045,
           87
          ],
          [
           6172,
           179
          ],
          [
           4033,
           62
          ],
          [
           39535,
           611
          ],
          [
           1981,
           49
          ],
          [
           3456,
           60
          ],
          [
           14269,
           309
          ],
          [
           20190,
           261
          ],
          [
           3821,
           66
          ],
          [
           9054,
           236
          ],
          [
           2702,
           61
          ],
          [
           4063,
           111
          ],
          [
           116147,
           2278
          ],
          [
           5429,
           131
          ],
          [
           4325,
           99
          ],
          [
           18935,
           137
          ],
          [
           8065,
           167
          ],
          [
           16607,
           207
          ],
          [
           2863,
           50
          ],
          [
           129263,
           1501
          ],
          [
           4328,
           75
          ],
          [
           2413,
           50
          ],
          [
           6871,
           153
          ],
          [
           15331,
           255
          ],
          [
           3265,
           54
          ],
          [
           81572,
           1264
          ],
          [
           7010,
           137
          ],
          [
           2770,
           66
          ],
          [
           1143,
           38
          ],
          [
           2742,
           67
          ],
          [
           3610,
           68
          ],
          [
           2206,
           63
          ],
          [
           2715,
           102
          ],
          [
           5577,
           123
          ],
          [
           3193,
           54
          ],
          [
           5691,
           163
          ],
          [
           4581,
           113
          ],
          [
           21259,
           395
          ],
          [
           5757,
           105
          ],
          [
           16699,
           227
          ],
          [
           3888,
           79
          ],
          [
           25735,
           511
          ],
          [
           43462,
           835
          ],
          [
           4451,
           65
          ],
          [
           22436,
           620
          ],
          [
           8655,
           140
          ],
          [
           15660,
           278
          ],
          [
           1491,
           40
          ],
          [
           4881,
           86
          ],
          [
           10880,
           229
          ],
          [
           1364,
           45
          ],
          [
           52697,
           1066
          ],
          [
           1102,
           24
          ],
          [
           2923,
           43
          ],
          [
           8930,
           140
          ],
          [
           1364,
           39
          ],
          [
           3739,
           81
          ],
          [
           1770,
           42
          ],
          [
           2974,
           50
          ],
          [
           8684,
           123
          ],
          [
           2429,
           37
          ],
          [
           13276,
           217
          ],
          [
           3883,
           106
          ],
          [
           4337,
           104
          ],
          [
           11632,
           214
          ],
          [
           6964,
           165
          ],
          [
           5452,
           130
          ],
          [
           6565,
           108
          ],
          [
           5353,
           130
          ],
          [
           4782,
           97
          ],
          [
           33470,
           940
          ],
          [
           48541,
           1024
          ],
          [
           16605,
           494
          ],
          [
           8674,
           258
          ],
          [
           0,
           4
          ],
          [
           5859,
           49
          ],
          [
           2478,
           65
          ],
          [
           865,
           17
          ],
          [
           24665,
           311
          ],
          [
           5330,
           111
          ],
          [
           9181,
           227
          ],
          [
           3507,
           78
          ],
          [
           13302,
           204
          ],
          [
           2350,
           57
          ],
          [
           3226,
           44
          ],
          [
           1155,
           7
          ],
          [
           1885,
           27
          ],
          [
           475,
           6
          ],
          [
           2902,
           58
          ],
          [
           1055,
           20
          ],
          [
           6219,
           79
          ],
          [
           3997,
           96
          ],
          [
           17461,
           187
          ],
          [
           6337,
           129
          ],
          [
           5711,
           79
          ],
          [
           1633,
           27
          ],
          [
           219,
           2
          ],
          [
           31412,
           439
          ],
          [
           705,
           15
          ],
          [
           14407,
           200
          ],
          [
           697,
           16
          ],
          [
           2053,
           18
          ],
          [
           7100,
           165
          ],
          [
           4088,
           104
          ],
          [
           4780,
           96
          ],
          [
           553,
           14
          ],
          [
           357,
           6
          ],
          [
           7835,
           139
          ],
          [
           3640,
           79
          ],
          [
           6001,
           130
          ],
          [
           549,
           7
          ],
          [
           584,
           22
          ],
          [
           327,
           6
          ],
          [
           422,
           8
          ],
          [
           1267,
           17
          ],
          [
           1253,
           29
          ],
          [
           3133,
           56
          ],
          [
           710,
           18
          ],
          [
           1385,
           37
          ],
          [
           5350,
           128
          ],
          [
           2057,
           41
          ],
          [
           821,
           26
          ],
          [
           844,
           13
          ],
          [
           5680,
           67
          ],
          [
           3281,
           72
          ],
          [
           4319,
           65
          ],
          [
           1533,
           22
          ],
          [
           956,
           24
          ],
          [
           2060,
           23
          ],
          [
           4303,
           74
          ],
          [
           5359,
           73
          ],
          [
           4006,
           94
          ],
          [
           2028,
           61
          ],
          [
           2041,
           44
          ],
          [
           9434,
           177
          ],
          [
           1383,
           20
          ],
          [
           1170,
           20
          ],
          [
           1805,
           32
          ],
          [
           87823,
           1312
          ],
          [
           3908,
           85
          ],
          [
           4812,
           80
          ],
          [
           4231,
           70
          ],
          [
           0,
           0
          ],
          [
           1801,
           53
          ],
          [
           8724,
           76
          ],
          [
           4684,
           78
          ],
          [
           5181,
           80
          ],
          [
           8430,
           131
          ],
          [
           1017,
           22
          ],
          [
           390,
           12
          ],
          [
           10717,
           195
          ],
          [
           2889,
           78
          ],
          [
           4213,
           56
          ],
          [
           4924,
           106
          ],
          [
           3544,
           34
          ],
          [
           807,
           17
          ],
          [
           76351,
           1126
          ],
          [
           993,
           0
          ],
          [
           8290,
           123
          ],
          [
           5309,
           119
          ],
          [
           1089,
           23
          ],
          [
           1220,
           18
          ],
          [
           3173,
           36
          ],
          [
           1038,
           15
          ],
          [
           3285,
           22
          ],
          [
           19112,
           235
          ],
          [
           1077,
           9
          ],
          [
           1953,
           30
          ],
          [
           2191,
           39
          ],
          [
           1308,
           23
          ],
          [
           746,
           12
          ],
          [
           10125,
           82
          ],
          [
           3992,
           83
          ],
          [
           82,
           1
          ],
          [
           552,
           7
          ],
          [
           439,
           11
          ],
          [
           1232,
           33
          ],
          [
           11664,
           148
          ],
          [
           2397,
           41
          ],
          [
           3677,
           72
          ],
          [
           4811,
           78
          ],
          [
           472,
           8
          ],
          [
           14070,
           168
          ],
          [
           1458,
           22
          ],
          [
           5770,
           81
          ],
          [
           3624,
           64
          ],
          [
           23644,
           326
          ],
          [
           1167,
           16
          ],
          [
           40616,
           615
          ],
          [
           4062,
           56
          ],
          [
           70,
           1
          ],
          [
           679,
           4
          ],
          [
           8707,
           87
          ],
          [
           0,
           0
          ],
          [
           1518,
           24
          ],
          [
           196,
           5
          ],
          [
           1461,
           30
          ],
          [
           26977,
           252
          ],
          [
           35,
           1
          ],
          [
           4830,
           80
          ],
          [
           9690,
           189
          ],
          [
           101959,
           2016
          ],
          [
           6014,
           148
          ],
          [
           15559,
           389
          ],
          [
           4729,
           142
          ],
          [
           48491,
           1042
          ],
          [
           13523,
           343
          ],
          [
           6131,
           96
          ],
          [
           60848,
           1328
          ],
          [
           17633,
           418
          ],
          [
           14831,
           441
          ],
          [
           309,
           8
          ],
          [
           6402,
           176
          ],
          [
           16929,
           228
          ],
          [
           40835,
           824
          ],
          [
           3206,
           96
          ],
          [
           8653,
           156
          ],
          [
           3712,
           67
          ],
          [
           5906,
           136
          ],
          [
           7555,
           156
          ],
          [
           20632,
           526
          ],
          [
           26147,
           559
          ],
          [
           52423,
           1411
          ],
          [
           2871,
           41
          ],
          [
           21235,
           417
          ],
          [
           13443,
           328
          ],
          [
           1435,
           21
          ],
          [
           15480,
           375
          ],
          [
           1377,
           15
          ],
          [
           3361,
           42
          ],
          [
           5173,
           135
          ],
          [
           6417,
           179
          ],
          [
           3345,
           99
          ],
          [
           2142,
           88
          ],
          [
           18568,
           482
          ],
          [
           55447,
           1165
          ],
          [
           7701,
           216
          ],
          [
           16204,
           295
          ],
          [
           39869,
           862
          ],
          [
           32141,
           829
          ],
          [
           11970,
           296
          ],
          [
           3814,
           75
          ],
          [
           9730,
           266
          ],
          [
           5440,
           181
          ],
          [
           14839,
           321
          ],
          [
           70451,
           1736
          ],
          [
           2010,
           67
          ],
          [
           35915,
           717
          ],
          [
           9721,
           360
          ],
          [
           3854,
           101
          ],
          [
           154800,
           3762
          ],
          [
           4040,
           54
          ],
          [
           1223,
           25
          ],
          [
           14823,
           412
          ],
          [
           3686,
           86
          ],
          [
           8081,
           218
          ],
          [
           442,
           21
          ],
          [
           2659,
           62
          ],
          [
           3132,
           112
          ],
          [
           0,
           0
          ],
          [
           6162,
           89
          ],
          [
           4105,
           102
          ],
          [
           2643,
           104
          ],
          [
           17941,
           307
          ],
          [
           4163,
           84
          ],
          [
           34445,
           779
          ],
          [
           1999,
           54
          ],
          [
           47070,
           831
          ],
          [
           468,
           0
          ],
          [
           1331,
           0
          ],
          [
           1534,
           0
          ],
          [
           1210,
           0
          ],
          [
           675,
           0
          ],
          [
           799,
           0
          ],
          [
           2997,
           0
          ],
          [
           304,
           0
          ],
          [
           772,
           0
          ],
          [
           1226,
           0
          ],
          [
           10373,
           0
          ],
          [
           922,
           0
          ],
          [
           6289,
           0
          ],
          [
           1196,
           0
          ],
          [
           1957,
           0
          ],
          [
           8693,
           0
          ],
          [
           1240,
           0
          ],
          [
           1288,
           0
          ],
          [
           393,
           0
          ],
          [
           772,
           0
          ],
          [
           1287,
           0
          ],
          [
           878,
           0
          ],
          [
           713,
           0
          ],
          [
           1561,
           0
          ],
          [
           39,
           0
          ],
          [
           2051,
           0
          ],
          [
           1229,
           0
          ],
          [
           560,
           0
          ],
          [
           232,
           0
          ],
          [
           837,
           0
          ],
          [
           383,
           0
          ],
          [
           4273,
           0
          ],
          [
           2185,
           0
          ],
          [
           1145,
           0
          ],
          [
           418,
           0
          ],
          [
           2071,
           0
          ],
          [
           1407,
           0
          ],
          [
           367,
           0
          ],
          [
           1127,
           0
          ],
          [
           2264,
           0
          ],
          [
           441,
           0
          ],
          [
           786,
           0
          ],
          [
           255,
           0
          ],
          [
           1629,
           0
          ],
          [
           1278,
           0
          ],
          [
           753,
           0
          ],
          [
           1437,
           0
          ],
          [
           105,
           0
          ],
          [
           366,
           0
          ],
          [
           1984,
           0
          ],
          [
           1403,
           0
          ],
          [
           1469,
           0
          ],
          [
           1070,
           0
          ],
          [
           1566,
           0
          ],
          [
           890,
           0
          ],
          [
           295,
           0
          ],
          [
           366,
           0
          ],
          [
           569,
           0
          ],
          [
           3422,
           0
          ],
          [
           908,
           0
          ],
          [
           545,
           0
          ],
          [
           2163,
           0
          ],
          [
           397,
           0
          ],
          [
           743,
           0
          ],
          [
           632,
           0
          ],
          [
           18496,
           0
          ],
          [
           1757,
           0
          ],
          [
           1316,
           0
          ],
          [
           472,
           0
          ],
          [
           3940,
           0
          ],
          [
           3890,
           0
          ],
          [
           2999,
           0
          ],
          [
           4021,
           2552
          ],
          [
           900,
           0
          ],
          [
           1772,
           0
          ],
          [
           2966,
           0
          ],
          [
           122,
           0
          ],
          [
           753,
           0
          ],
          [
           1122,
           0
          ],
          [
           837,
           0
          ],
          [
           0,
           0
          ],
          [
           5187,
           145
          ],
          [
           18828,
           365
          ],
          [
           6975,
           42
          ],
          [
           99519,
           1997
          ],
          [
           12008,
           10
          ],
          [
           10126,
           171
          ],
          [
           2599,
           41
          ],
          [
           17594,
           224
          ],
          [
           945,
           15
          ],
          [
           23300,
           532
          ],
          [
           1598,
           53
          ],
          [
           2620,
           58
          ],
          [
           17175,
           210
          ],
          [
           18048,
           208
          ],
          [
           1338,
           37
          ],
          [
           44039,
           517
          ],
          [
           6226,
           158
          ],
          [
           4271,
           76
          ],
          [
           4930,
           108
          ],
          [
           3483,
           113
          ],
          [
           3716,
           132
          ],
          [
           8627,
           180
          ],
          [
           4436,
           85
          ],
          [
           18470,
           223
          ],
          [
           3177,
           43
          ],
          [
           2427,
           83
          ],
          [
           18043,
           425
          ],
          [
           6811,
           141
          ],
          [
           75709,
           1035
          ],
          [
           8316,
           174
          ],
          [
           1929,
           52
          ],
          [
           39829,
           585
          ],
          [
           2436,
           50
          ],
          [
           7565,
           140
          ],
          [
           10973,
           173
          ],
          [
           7549,
           173
          ],
          [
           1945,
           64
          ],
          [
           33829,
           480
          ],
          [
           3571,
           108
          ],
          [
           3511,
           59
          ],
          [
           1035,
           28
          ],
          [
           5116,
           109
          ],
          [
           9957,
           139
          ],
          [
           9882,
           255
          ],
          [
           19096,
           304
          ],
          [
           47820,
           579
          ],
          [
           1810,
           48
          ],
          [
           42077,
           833
          ],
          [
           10649,
           211
          ],
          [
           0,
           0
          ],
          [
           3182,
           84
          ],
          [
           4125,
           103
          ],
          [
           32177,
           393
          ],
          [
           475,
           15
          ],
          [
           2965,
           40
          ],
          [
           392,
           9
          ],
          [
           1555,
           28
          ],
          [
           4237,
           37
          ],
          [
           5645,
           95
          ],
          [
           719,
           10
          ],
          [
           427,
           14
          ],
          [
           1093,
           20
          ],
          [
           132,
           4
          ],
          [
           1393,
           22
          ],
          [
           464,
           5
          ],
          [
           1933,
           15
          ],
          [
           4657,
           83
          ],
          [
           487,
           12
          ],
          [
           880,
           13
          ],
          [
           3252,
           67
          ],
          [
           713,
           29
          ],
          [
           533,
           9
          ],
          [
           1479,
           29
          ],
          [
           456,
           9
          ],
          [
           515,
           14
          ],
          [
           606,
           16
          ],
          [
           373,
           13
          ],
          [
           1057,
           42
          ],
          [
           589,
           30
          ],
          [
           266,
           10
          ],
          [
           802,
           39
          ],
          [
           365,
           6
          ],
          [
           392,
           4
          ],
          [
           97,
           1
          ],
          [
           2526,
           42
          ],
          [
           920,
           28
          ],
          [
           141,
           1
          ],
          [
           291,
           14
          ],
          [
           282,
           16
          ],
          [
           96,
           0
          ],
          [
           819,
           18
          ],
          [
           1390,
           20
          ],
          [
           3018,
           48
          ],
          [
           8722,
           78
          ],
          [
           659,
           11
          ],
          [
           375,
           6
          ],
          [
           814,
           25
          ],
          [
           247,
           4
          ],
          [
           2801,
           31
          ],
          [
           260,
           2
          ],
          [
           307,
           10
          ],
          [
           31764,
           366
          ],
          [
           667,
           20
          ],
          [
           2121,
           50
          ],
          [
           13949,
           205
          ],
          [
           359,
           14
          ],
          [
           391,
           4
          ],
          [
           1396,
           42
          ],
          [
           347,
           3
          ],
          [
           848,
           26
          ],
          [
           355,
           2
          ],
          [
           145,
           3
          ],
          [
           1235,
           33
          ],
          [
           757,
           17
          ],
          [
           1182,
           58
          ],
          [
           0,
           0
          ],
          [
           2228,
           43
          ],
          [
           773,
           15
          ],
          [
           3115,
           34
          ],
          [
           343,
           9
          ],
          [
           8820,
           175
          ],
          [
           6722,
           132
          ],
          [
           1688,
           41
          ],
          [
           2225,
           11
          ],
          [
           15952,
           198
          ],
          [
           15321,
           154
          ],
          [
           4197,
           62
          ],
          [
           1941,
           32
          ],
          [
           3714,
           83
          ],
          [
           6767,
           159
          ],
          [
           4672,
           56
          ],
          [
           2205,
           51
          ],
          [
           3230,
           74
          ],
          [
           1121,
           30
          ],
          [
           4545,
           100
          ],
          [
           6986,
           123
          ],
          [
           2061,
           50
          ],
          [
           6883,
           140
          ],
          [
           90372,
           951
          ],
          [
           2874,
           56
          ],
          [
           1622,
           39
          ],
          [
           7106,
           115
          ],
          [
           5527,
           108
          ],
          [
           5214,
           83
          ],
          [
           2521,
           49
          ],
          [
           5231,
           92
          ],
          [
           6674,
           150
          ],
          [
           4049,
           100
          ],
          [
           2678,
           50
          ],
          [
           8045,
           159
          ],
          [
           1804,
           35
          ],
          [
           8684,
           174
          ],
          [
           45461,
           508
          ],
          [
           620,
           13
          ],
          [
           3547,
           64
          ],
          [
           3610,
           69
          ],
          [
           6335,
           113
          ],
          [
           2716,
           62
          ],
          [
           3865,
           79
          ],
          [
           3403,
           76
          ],
          [
           2894,
           47
          ],
          [
           1122,
           34
          ],
          [
           1942,
           32
          ],
          [
           1368,
           37
          ],
          [
           6333,
           126
          ],
          [
           2446,
           39
          ],
          [
           52157,
           648
          ],
          [
           1728,
           30
          ],
          [
           3268,
           50
          ],
          [
           6106,
           94
          ],
          [
           1626,
           26
          ],
          [
           4408,
           67
          ],
          [
           6239,
           71
          ],
          [
           3669,
           78
          ],
          [
           11590,
           244
          ],
          [
           3268,
           49
          ],
          [
           4337,
           61
          ],
          [
           13749,
           177
          ],
          [
           6672,
           103
          ],
          [
           2879,
           55
          ],
          [
           1429,
           24
          ],
          [
           5987,
           97
          ],
          [
           21067,
           234
          ],
          [
           1033,
           17
          ],
          [
           2555,
           37
          ],
          [
           4624,
           97
          ],
          [
           17895,
           88
          ],
          [
           3091,
           62
          ],
          [
           1072,
           29
          ],
          [
           773,
           24
          ],
          [
           2112,
           24
          ],
          [
           11843,
           179
          ],
          [
           4388,
           82
          ],
          [
           6378,
           108
          ],
          [
           9974,
           141
          ],
          [
           43727,
           448
          ],
          [
           3225,
           48
          ],
          [
           1762,
           29
          ],
          [
           13597,
           178
          ],
          [
           98792,
           1695
          ],
          [
           2810,
           40
          ],
          [
           1379,
           28
          ],
          [
           17352,
           311
          ],
          [
           24553,
           356
          ],
          [
           7473,
           104
          ],
          [
           2534,
           21
          ],
          [
           12707,
           95
          ],
          [
           2070,
           50
          ],
          [
           1957,
           34
          ],
          [
           872,
           23
          ],
          [
           5602,
           84
          ],
          [
           14865,
           254
          ],
          [
           3003,
           36
          ],
          [
           4240,
           69
          ],
          [
           3793,
           73
          ],
          [
           28671,
           218
          ],
          [
           19393,
           250
          ],
          [
           6242,
           133
          ],
          [
           1840,
           47
          ],
          [
           8705,
           287
          ],
          [
           1297,
           41
          ],
          [
           813,
           12
          ],
          [
           208,
           6
          ],
          [
           5835,
           151
          ],
          [
           2244,
           37
          ],
          [
           864,
           19
          ],
          [
           1450,
           29
          ],
          [
           9812,
           101
          ],
          [
           300,
           13
          ],
          [
           3538,
           75
          ],
          [
           25135,
           448
          ],
          [
           227474,
           3634
          ],
          [
           778,
           21
          ],
          [
           30,
           2
          ],
          [
           1698,
           37
          ],
          [
           7754,
           225
          ],
          [
           38833,
           535
          ],
          [
           28043,
           263
          ],
          [
           937,
           17
          ],
          [
           169,
           6
          ],
          [
           859,
           36
          ],
          [
           4370,
           121
          ],
          [
           2488,
           48
          ],
          [
           4928,
           67
          ],
          [
           5793,
           100
          ],
          [
           2478,
           25
          ],
          [
           1214,
           41
          ],
          [
           42400,
           1689
          ],
          [
           1327,
           44
          ],
          [
           605,
           14
          ],
          [
           2190,
           84
          ],
          [
           1069,
           32
          ],
          [
           5251,
           29
          ],
          [
           4311,
           145
          ],
          [
           1378,
           17
          ],
          [
           1042,
           17
          ],
          [
           335,
           15
          ],
          [
           469,
           13
          ],
          [
           757,
           34
          ],
          [
           93173,
           850
          ],
          [
           331,
           9
          ],
          [
           1772,
           32
          ],
          [
           11385,
           306
          ],
          [
           1570,
           51
          ],
          [
           504,
           8
          ],
          [
           3806,
           72
          ],
          [
           7378,
           88
          ],
          [
           190,
           7
          ],
          [
           544,
           12
          ],
          [
           595,
           15
          ],
          [
           759,
           29
          ],
          [
           367,
           11
          ],
          [
           987,
           26
          ],
          [
           306870,
           4135
          ],
          [
           1742,
           69
          ],
          [
           1990,
           61
          ],
          [
           2954,
           68
          ],
          [
           352,
           12
          ],
          [
           77111,
           778
          ],
          [
           188,
           10
          ],
          [
           2585,
           37
          ],
          [
           424,
           15
          ],
          [
           1276,
           42
          ],
          [
           1371,
           50
          ],
          [
           17592,
           379
          ],
          [
           248,
           6
          ],
          [
           136711,
           2742
          ],
          [
           23151,
           324
          ],
          [
           4262,
           70
          ],
          [
           2102,
           33
          ],
          [
           3482,
           109
          ],
          [
           2779,
           69
          ],
          [
           306,
           14
          ],
          [
           900,
           30
          ],
          [
           124,
           10
          ],
          [
           70032,
           709
          ],
          [
           816,
           26
          ],
          [
           1985,
           50
          ],
          [
           2879,
           52
          ],
          [
           1468,
           45
          ],
          [
           41239,
           447
          ],
          [
           559,
           22
          ],
          [
           2593,
           52
          ],
          [
           104,
           2
          ],
          [
           482,
           15
          ],
          [
           2745,
           58
          ],
          [
           2544,
           57
          ],
          [
           11374,
           346
          ],
          [
           11487,
           360
          ],
          [
           3824,
           74
          ],
          [
           15658,
           222
          ],
          [
           6187,
           156
          ],
          [
           498,
           14
          ],
          [
           806,
           27
          ],
          [
           944,
           24
          ],
          [
           387,
           12
          ],
          [
           6109,
           116
          ],
          [
           403645,
           6600
          ],
          [
           5474,
           112
          ],
          [
           661,
           2
          ],
          [
           462,
           27
          ],
          [
           21245,
           262
          ],
          [
           586,
           3
          ],
          [
           6073,
           194
          ],
          [
           93595,
           2911
          ],
          [
           4570,
           111
          ],
          [
           3132,
           104
          ],
          [
           6662,
           134
          ],
          [
           3540,
           114
          ],
          [
           1965,
           58
          ],
          [
           4708,
           102
          ],
          [
           541,
           12
          ],
          [
           6267,
           179
          ],
          [
           2427,
           72
          ],
          [
           129,
           1
          ],
          [
           587,
           16
          ],
          [
           1870,
           31
          ],
          [
           2549,
           93
          ],
          [
           195,
           5
          ],
          [
           20450,
           443
          ],
          [
           621,
           16
          ],
          [
           4424,
           108
          ],
          [
           20204,
           379
          ],
          [
           2588,
           55
          ],
          [
           2394,
           37
          ],
          [
           16554,
           266
          ],
          [
           3352,
           72
          ],
          [
           39,
           2
          ],
          [
           106,
           2
          ],
          [
           4610,
           92
          ],
          [
           295,
           7
          ],
          [
           11,
           0
          ],
          [
           347,
           6
          ],
          [
           2697,
           94
          ],
          [
           263,
           17
          ],
          [
           999,
           30
          ],
          [
           5961,
           157
          ],
          [
           2492,
           83
          ],
          [
           2225,
           33
          ],
          [
           2500,
           76
          ],
          [
           2245,
           39
          ],
          [
           1654,
           43
          ],
          [
           8200,
           197
          ],
          [
           2831,
           80
          ],
          [
           350,
           12
          ],
          [
           1138,
           22
          ],
          [
           1713,
           53
          ],
          [
           2,
           0
          ],
          [
           49534,
           798
          ],
          [
           628,
           24
          ],
          [
           1991,
           30
          ],
          [
           618,
           33
          ],
          [
           652,
           19
          ],
          [
           422,
           6
          ],
          [
           4290,
           114
          ],
          [
           10829,
           361
          ],
          [
           591,
           20
          ],
          [
           27716,
           482
          ],
          [
           85,
           5
          ],
          [
           4676,
           107
          ],
          [
           213,
           9
          ],
          [
           17810,
           274
          ],
          [
           2584,
           49
          ],
          [
           660,
           21
          ],
          [
           609,
           31
          ],
          [
           2131,
           73
          ],
          [
           55665,
           603
          ],
          [
           2766,
           73
          ],
          [
           953,
           34
          ],
          [
           118,
           8
          ],
          [
           5206,
           174
          ],
          [
           5947,
           145
          ],
          [
           641,
           38
          ],
          [
           1550,
           52
          ],
          [
           44196,
           843
          ],
          [
           1206,
           27
          ],
          [
           289,
           4
          ],
          [
           8859,
           155
          ],
          [
           2955,
           76
          ],
          [
           1863,
           76
          ],
          [
           16301,
           189
          ],
          [
           1330,
           35
          ],
          [
           1690,
           35
          ],
          [
           3417,
           120
          ],
          [
           17692,
           462
          ],
          [
           820,
           25
          ],
          [
           824,
           27
          ],
          [
           17104,
           292
          ],
          [
           387,
           8
          ],
          [
           310,
           13
          ],
          [
           806,
           38
          ],
          [
           2214,
           44
          ],
          [
           686,
           23
          ],
          [
           63,
           1
          ],
          [
           2247,
           47
          ],
          [
           11870,
           158
          ],
          [
           1308,
           39
          ],
          [
           4441,
           109
          ],
          [
           526,
           45
          ],
          [
           587,
           32
          ],
          [
           1470,
           39
          ],
          [
           4526,
           152
          ],
          [
           782,
           23
          ],
          [
           243,
           6
          ],
          [
           2433,
           62
          ],
          [
           276,
           5
          ],
          [
           2025,
           72
          ],
          [
           235,
           12
          ],
          [
           20765,
           489
          ],
          [
           1089,
           14
          ],
          [
           9577,
           304
          ],
          [
           801,
           25
          ],
          [
           109,
           4
          ],
          [
           157,
           6
          ],
          [
           475,
           8
          ],
          [
           893,
           18
          ],
          [
           263690,
           3577
          ],
          [
           15953,
           416
          ],
          [
           74,
           2
          ],
          [
           1702,
           57
          ],
          [
           73,
           5
          ],
          [
           4230,
           84
          ],
          [
           16959,
           273
          ],
          [
           84842,
           1041
          ],
          [
           866,
           29
          ],
          [
           1338,
           42
          ],
          [
           0,
           0
          ],
          [
           3542,
           77
          ],
          [
           375,
           10
          ],
          [
           3677,
           73
          ],
          [
           7974,
           223
          ],
          [
           4486,
           123
          ],
          [
           9296,
           227
          ],
          [
           8701,
           133
          ],
          [
           4228,
           51
          ],
          [
           1219,
           24
          ],
          [
           4291,
           95
          ],
          [
           47029,
           799
          ],
          [
           4287,
           118
          ],
          [
           573,
           12
          ],
          [
           15261,
           381
          ],
          [
           1933,
           55
          ],
          [
           3206,
           92
          ],
          [
           47343,
           483
          ],
          [
           4701,
           69
          ],
          [
           783,
           21
          ],
          [
           7565,
           127
          ],
          [
           3519,
           129
          ],
          [
           877,
           28
          ],
          [
           2197,
           45
          ],
          [
           1804,
           36
          ],
          [
           1883,
           41
          ],
          [
           22470,
           112
          ],
          [
           9255,
           70
          ],
          [
           39938,
           182
          ],
          [
           154070,
           918
          ],
          [
           1939,
           37
          ],
          [
           3786,
           29
          ],
          [
           29967,
           280
          ],
          [
           5653,
           14
          ],
          [
           7698,
           45
          ],
          [
           4547,
           38
          ],
          [
           953,
           0
          ],
          [
           98989,
           406
          ],
          [
           4741,
           22
          ],
          [
           32104,
           225
          ],
          [
           1067,
           8
          ],
          [
           2053,
           15
          ],
          [
           1082,
           7
          ],
          [
           7544,
           106
          ],
          [
           295,
           2
          ],
          [
           2033,
           39
          ],
          [
           217,
           2
          ],
          [
           889,
           3
          ],
          [
           822,
           3
          ],
          [
           1292,
           11
          ],
          [
           2288,
           20
          ],
          [
           20,
           0
          ],
          [
           1898,
           15
          ],
          [
           1398,
           14
          ],
          [
           1521,
           13
          ],
          [
           3916,
           30
          ],
          [
           2872,
           45
          ],
          [
           5831,
           85
          ],
          [
           11894,
           140
          ],
          [
           1387,
           50
          ],
          [
           927,
           36
          ],
          [
           2990,
           40
          ],
          [
           1629,
           26
          ],
          [
           15318,
           258
          ],
          [
           5991,
           80
          ],
          [
           274,
           11
          ],
          [
           6689,
           109
          ],
          [
           689,
           10
          ],
          [
           2616,
           38
          ],
          [
           1581,
           37
          ],
          [
           1339,
           25
          ],
          [
           1541,
           45
          ],
          [
           2140,
           32
          ],
          [
           937,
           22
          ],
          [
           4986,
           100
          ],
          [
           2704,
           40
          ],
          [
           2720,
           79
          ],
          [
           511,
           16
          ],
          [
           872,
           21
          ],
          [
           4044,
           57
          ],
          [
           21282,
           308
          ],
          [
           28318,
           451
          ],
          [
           1023,
           21
          ],
          [
           1721,
           62
          ],
          [
           611,
           14
          ],
          [
           326,
           6
          ],
          [
           4735,
           67
          ],
          [
           516,
           10
          ],
          [
           4506,
           141
          ],
          [
           996,
           18
          ],
          [
           2164,
           46
          ],
          [
           679,
           42
          ],
          [
           789,
           11
          ],
          [
           77196,
           1116
          ],
          [
           574,
           20
          ],
          [
           430,
           8
          ],
          [
           4789,
           69
          ],
          [
           884,
           22
          ],
          [
           1929,
           20
          ],
          [
           4115,
           81
          ],
          [
           1142,
           33
          ],
          [
           8123,
           103
          ],
          [
           2156,
           25
          ],
          [
           1175,
           53
          ],
          [
           1336,
           22
          ],
          [
           2279,
           49
          ],
          [
           1483,
           23
          ],
          [
           1513,
           38
          ],
          [
           1300,
           18
          ],
          [
           1583,
           26
          ],
          [
           2840,
           78
          ],
          [
           10739,
           182
          ],
          [
           8283,
           167
          ],
          [
           6537,
           95
          ],
          [
           26016,
           638
          ],
          [
           4679,
           124
          ],
          [
           110,
           1
          ],
          [
           2711,
           79
          ],
          [
           3182,
           70
          ],
          [
           4688,
           72
          ],
          [
           1733,
           20
          ],
          [
           1249,
           14
          ],
          [
           419,
           9
          ],
          [
           719,
           17
          ],
          [
           2433,
           49
          ],
          [
           1205,
           33
          ],
          [
           28102,
           283
          ],
          [
           2030,
           34
          ],
          [
           790,
           15
          ],
          [
           7485,
           147
          ],
          [
           616,
           14
          ],
          [
           4314,
           48
          ],
          [
           1221,
           11
          ],
          [
           1630,
           79
          ],
          [
           604,
           12
          ],
          [
           2362,
           68
          ],
          [
           576,
           20
          ],
          [
           9430,
           98
          ],
          [
           892,
           13
          ],
          [
           1528,
           19
          ],
          [
           14385,
           239
          ],
          [
           18074,
           272
          ],
          [
           809,
           36
          ],
          [
           749,
           20
          ],
          [
           292,
           7
          ],
          [
           1927,
           49
          ],
          [
           2247,
           40
          ],
          [
           2130,
           59
          ],
          [
           1404,
           43
          ],
          [
           3959,
           87
          ],
          [
           5639,
           83
          ],
          [
           900,
           18
          ],
          [
           9223,
           204
          ],
          [
           1928,
           17
          ],
          [
           2173,
           36
          ],
          [
           3634,
           32
          ],
          [
           45828,
           508
          ],
          [
           2727,
           62
          ],
          [
           2180,
           19
          ],
          [
           360,
           2
          ],
          [
           1444,
           15
          ],
          [
           17054,
           271
          ],
          [
           8448,
           147
          ],
          [
           8638,
           199
          ],
          [
           1572,
           48
          ],
          [
           6886,
           112
          ],
          [
           2312,
           40
          ],
          [
           2218,
           50
          ],
          [
           1876,
           60
          ],
          [
           4310,
           134
          ],
          [
           2987,
           96
          ],
          [
           1990,
           57
          ],
          [
           10225,
           125
          ],
          [
           11549,
           82
          ],
          [
           2531,
           70
          ],
          [
           8014,
           190
          ],
          [
           424,
           9
          ],
          [
           1204,
           23
          ],
          [
           3762,
           75
          ],
          [
           0,
           0
          ],
          [
           36472,
           417
          ],
          [
           3142,
           61
          ],
          [
           5034,
           111
          ],
          [
           2403,
           38
          ],
          [
           1311,
           27
          ],
          [
           768,
           14
          ],
          [
           2946,
           49
          ],
          [
           3276,
           104
          ],
          [
           2744,
           81
          ],
          [
           3808,
           59
          ],
          [
           2270,
           24
          ],
          [
           1510,
           30
          ],
          [
           17946,
           230
          ],
          [
           6952,
           71
          ],
          [
           1448,
           12
          ],
          [
           26009,
           289
          ],
          [
           133,
           6
          ],
          [
           6701,
           92
          ],
          [
           3712,
           23
          ],
          [
           404,
           8
          ],
          [
           12880,
           116
          ],
          [
           133,
           5
          ],
          [
           9392,
           84
          ],
          [
           4593,
           76
          ],
          [
           1877,
           29
          ],
          [
           450,
           4
          ],
          [
           112712,
           1657
          ],
          [
           8854,
           117
          ],
          [
           3354,
           36
          ],
          [
           889,
           10
          ],
          [
           5342,
           77
          ],
          [
           677,
           12
          ],
          [
           2945,
           34
          ],
          [
           2807,
           43
          ],
          [
           1008,
           14
          ],
          [
           831,
           9
          ],
          [
           57045,
           647
          ],
          [
           186,
           0
          ],
          [
           6055,
           77
          ],
          [
           391,
           1
          ],
          [
           40331,
           606
          ],
          [
           46939,
           680
          ],
          [
           2396,
           32
          ],
          [
           11100,
           112
          ],
          [
           1517,
           3
          ],
          [
           156,
           1
          ],
          [
           5507,
           68
          ],
          [
           9931,
           103
          ],
          [
           4341,
           50
          ],
          [
           30759,
           451
          ],
          [
           1515,
           32
          ],
          [
           12847,
           132
          ],
          [
           2179,
           36
          ],
          [
           1018,
           5
          ],
          [
           2247,
           60
          ],
          [
           8888,
           178
          ],
          [
           392,
           1
          ],
          [
           543,
           11
          ],
          [
           644,
           6
          ],
          [
           3557,
           80
          ],
          [
           885,
           6
          ],
          [
           1317,
           28
          ],
          [
           2900,
           64
          ],
          [
           1927,
           36
          ],
          [
           2844,
           89
          ],
          [
           1583,
           24
          ],
          [
           6198,
           81
          ],
          [
           2260,
           61
          ],
          [
           4800,
           59
          ],
          [
           15496,
           357
          ],
          [
           1290,
           22
          ],
          [
           1607,
           24
          ],
          [
           3300,
           96
          ],
          [
           4655,
           52
          ],
          [
           3538,
           79
          ],
          [
           2064,
           37
          ],
          [
           1615,
           26
          ],
          [
           5193,
           127
          ],
          [
           2985,
           92
          ],
          [
           2764,
           43
          ],
          [
           9399,
           90
          ],
          [
           1223,
           17
          ],
          [
           1227,
           23
          ],
          [
           1905,
           22
          ],
          [
           4314,
           87
          ],
          [
           725,
           11
          ],
          [
           959,
           12
          ],
          [
           681,
           12
          ],
          [
           2959,
           46
          ],
          [
           5331,
           93
          ],
          [
           7096,
           98
          ],
          [
           2858,
           15
          ],
          [
           761,
           11
          ],
          [
           665,
           9
          ],
          [
           864,
           22
          ],
          [
           1282,
           25
          ],
          [
           547,
           10
          ],
          [
           748,
           13
          ],
          [
           0,
           0
          ],
          [
           1970,
           34
          ],
          [
           3182,
           44
          ],
          [
           546,
           8
          ],
          [
           1392,
           32
          ],
          [
           457,
           4
          ],
          [
           7948,
           176
          ],
          [
           2059,
           41
          ],
          [
           1969,
           20
          ],
          [
           1402,
           15
          ],
          [
           6066,
           86
          ],
          [
           1290,
           20
          ],
          [
           35721,
           302
          ],
          [
           1418,
           7
          ],
          [
           1590,
           26
          ],
          [
           6537,
           56
          ],
          [
           7714,
           97
          ],
          [
           3705,
           65
          ],
          [
           5925,
           73
          ],
          [
           1803,
           19
          ],
          [
           46836,
           338
          ],
          [
           12954,
           201
          ],
          [
           2853,
           32
          ],
          [
           5009,
           64
          ],
          [
           5139,
           33
          ],
          [
           11993,
           122
          ],
          [
           507,
           13
          ],
          [
           13889,
           139
          ],
          [
           1047,
           26
          ],
          [
           5764,
           94
          ],
          [
           3659,
           25
          ],
          [
           2064,
           23
          ],
          [
           2155,
           14
          ],
          [
           706,
           40
          ],
          [
           2721,
           29
          ],
          [
           9700,
           136
          ],
          [
           3356,
           31
          ],
          [
           18836,
           336
          ],
          [
           2729,
           36
          ],
          [
           13554,
           90
          ],
          [
           1728,
           10
          ],
          [
           2221,
           51
          ],
          [
           3290,
           96
          ],
          [
           8929,
           94
          ],
          [
           16435,
           227
          ],
          [
           4714,
           73
          ],
          [
           1610,
           28
          ],
          [
           813,
           11
          ],
          [
           117936,
           1429
          ],
          [
           4764,
           48
          ],
          [
           5122,
           68
          ],
          [
           3829,
           78
          ],
          [
           23915,
           242
          ],
          [
           9300,
           104
          ],
          [
           892,
           7
          ],
          [
           4999,
           43
          ],
          [
           4835,
           64
          ],
          [
           7447,
           74
          ],
          [
           1348,
           7
          ],
          [
           25358,
           399
          ],
          [
           1409,
           16
          ],
          [
           18391,
           209
          ],
          [
           1465,
           24
          ],
          [
           6257,
           57
          ],
          [
           1858,
           29
          ],
          [
           5345,
           85
          ],
          [
           14829,
           168
          ],
          [
           9849,
           70
          ],
          [
           2139,
           38
          ],
          [
           3669,
           48
          ],
          [
           0,
           0
          ],
          [
           2027,
           43
          ],
          [
           2444,
           45
          ],
          [
           12516,
           166
          ],
          [
           1596,
           24
          ],
          [
           16932,
           191
          ],
          [
           49238,
           634
          ],
          [
           6121,
           167
          ],
          [
           2589,
           38
          ],
          [
           21514,
           225
          ],
          [
           7724,
           106
          ],
          [
           4652,
           17
          ],
          [
           1204,
           35
          ],
          [
           5191,
           60
          ],
          [
           1640,
           24
          ],
          [
           1038,
           18
          ],
          [
           459,
           13
          ],
          [
           5302,
           87
          ],
          [
           1246,
           24
          ],
          [
           372,
           3
          ],
          [
           745,
           10
          ],
          [
           10583,
           121
          ],
          [
           1432,
           14
          ],
          [
           8262,
           140
          ],
          [
           163,
           2
          ],
          [
           2903,
           32
          ],
          [
           684,
           13
          ],
          [
           3273,
           31
          ],
          [
           797,
           7
          ],
          [
           4788,
           40
          ],
          [
           3802,
           11
          ],
          [
           2321,
           13
          ],
          [
           0,
           0
          ],
          [
           927,
           26
          ],
          [
           661,
           6
          ]
         ],
         "geo": "geo",
         "hovertemplate": "Confirmed=%{marker.color}<br>State=%{location}<br>Deaths=%{customdata[1]}<extra></extra>",
         "legendgroup": "",
         "locationmode": "USA-states",
         "locations": [
          "Alabama",
          "Alabama",
          "Alabama",
          "Alabama",
          "Alabama",
          "Alabama",
          "Alabama",
          "Alabama",
          "Alabama",
          "Alabama",
          "Alabama",
          "Alabama",
          "Alabama",
          "Alabama",
          "Alabama",
          "Alabama",
          "Alabama",
          "Alabama",
          "Alabama",
          "Alabama",
          "Alabama",
          "Alabama",
          "Alabama",
          "Alabama",
          "Alabama",
          "Alabama",
          "Alabama",
          "Alabama",
          "Alabama",
          "Alabama",
          "Alabama",
          "Alabama",
          "Alabama",
          "Alabama",
          "Alabama",
          "Alabama",
          "Alabama",
          "Alabama",
          "Alabama",
          "Alabama",
          "Alabama",
          "Alabama",
          "Alabama",
          "Alabama",
          "Alabama",
          "Alabama",
          "Alabama",
          "Alabama",
          "Alabama",
          "Alabama",
          "Alabama",
          "Alabama",
          "Alabama",
          "Alabama",
          "Alabama",
          "Alabama",
          "Alabama",
          "Alabama",
          "Alabama",
          "Alabama",
          "Alabama",
          "Alabama",
          "Alabama",
          "Alabama",
          "Alabama",
          "Alabama",
          "Alabama",
          "Alabama",
          "Alabama",
          "Alaska",
          "Alaska",
          "Alaska",
          "Alaska",
          "Alaska",
          "Alaska",
          "Alaska",
          "Alaska",
          "Alaska",
          "Alaska",
          "Alaska",
          "Alaska",
          "Alaska",
          "Alaska",
          "Alaska",
          "Alaska",
          "Alaska",
          "Alaska",
          "Alaska",
          "Alaska",
          "Alaska",
          "Alaska",
          "Alaska",
          "Alaska",
          "Alaska",
          "Alaska",
          "Alaska",
          "Alaska",
          "Alaska",
          "Alaska",
          "Alaska",
          "Arizona",
          "Arizona",
          "Arizona",
          "Arizona",
          "Arizona",
          "Arizona",
          "Arizona",
          "Arizona",
          "Arizona",
          "Arizona",
          "Arizona",
          "Arizona",
          "Arizona",
          "Arizona",
          "Arizona",
          "Arizona",
          "Arizona",
          "Arkansas",
          "Arkansas",
          "Arkansas",
          "Arkansas",
          "Arkansas",
          "Arkansas",
          "Arkansas",
          "Arkansas",
          "Arkansas",
          "Arkansas",
          "Arkansas",
          "Arkansas",
          "Arkansas",
          "Arkansas",
          "Arkansas",
          "Arkansas",
          "Arkansas",
          "Arkansas",
          "Arkansas",
          "Arkansas",
          "Arkansas",
          "Arkansas",
          "Arkansas",
          "Arkansas",
          "Arkansas",
          "Arkansas",
          "Arkansas",
          "Arkansas",
          "Arkansas",
          "Arkansas",
          "Arkansas",
          "Arkansas",
          "Arkansas",
          "Arkansas",
          "Arkansas",
          "Arkansas",
          "Arkansas",
          "Arkansas",
          "Arkansas",
          "Arkansas",
          "Arkansas",
          "Arkansas",
          "Arkansas",
          "Arkansas",
          "Arkansas",
          "Arkansas",
          "Arkansas",
          "Arkansas",
          "Arkansas",
          "Arkansas",
          "Arkansas",
          "Arkansas",
          "Arkansas",
          "Arkansas",
          "Arkansas",
          "Arkansas",
          "Arkansas",
          "Arkansas",
          "Arkansas",
          "Arkansas",
          "Arkansas",
          "Arkansas",
          "Arkansas",
          "Arkansas",
          "Arkansas",
          "Arkansas",
          "Arkansas",
          "Arkansas",
          "Arkansas",
          "Arkansas",
          "Arkansas",
          "Arkansas",
          "Arkansas",
          "Arkansas",
          "Arkansas",
          "Arkansas",
          "California",
          "California",
          "California",
          "California",
          "California",
          "California",
          "California",
          "California",
          "California",
          "California",
          "California",
          "California",
          "California",
          "California",
          "California",
          "California",
          "California",
          "California",
          "California",
          "California",
          "California",
          "California",
          "California",
          "California",
          "California",
          "California",
          "California",
          "California",
          "California",
          "California",
          "California",
          "California",
          "California",
          "California",
          "California",
          "California",
          "California",
          "California",
          "California",
          "California",
          "California",
          "California",
          "California",
          "California",
          "California",
          "California",
          "California",
          "California",
          "California",
          "California",
          "California",
          "California",
          "California",
          "California",
          "California",
          "California",
          "California",
          "California",
          "California",
          "Colorado",
          "Colorado",
          "Colorado",
          "Colorado",
          "Colorado",
          "Colorado",
          "Colorado",
          "Colorado",
          "Colorado",
          "Colorado",
          "Colorado",
          "Colorado",
          "Colorado",
          "Colorado",
          "Colorado",
          "Colorado",
          "Colorado",
          "Colorado",
          "Colorado",
          "Colorado",
          "Colorado",
          "Colorado",
          "Colorado",
          "Colorado",
          "Colorado",
          "Colorado",
          "Colorado",
          "Colorado",
          "Colorado",
          "Colorado",
          "Colorado",
          "Colorado",
          "Colorado",
          "Colorado",
          "Colorado",
          "Colorado",
          "Colorado",
          "Colorado",
          "Colorado",
          "Colorado",
          "Colorado",
          "Colorado",
          "Colorado",
          "Colorado",
          "Colorado",
          "Colorado",
          "Colorado",
          "Colorado",
          "Colorado",
          "Colorado",
          "Colorado",
          "Colorado",
          "Colorado",
          "Colorado",
          "Colorado",
          "Colorado",
          "Colorado",
          "Colorado",
          "Colorado",
          "Colorado",
          "Colorado",
          "Colorado",
          "Colorado",
          "Colorado",
          "Colorado",
          "Colorado",
          "Connecticut",
          "Connecticut",
          "Connecticut",
          "Connecticut",
          "Connecticut",
          "Connecticut",
          "Connecticut",
          "Connecticut",
          "Connecticut",
          "Delaware",
          "Delaware",
          "Delaware",
          "Delaware",
          "Diamond Princess",
          "District of Columbia",
          "Florida",
          "Florida",
          "Florida",
          "Florida",
          "Florida",
          "Florida",
          "Florida",
          "Florida",
          "Florida",
          "Florida",
          "Florida",
          "Florida",
          "Florida",
          "Florida",
          "Florida",
          "Florida",
          "Florida",
          "Florida",
          "Florida",
          "Florida",
          "Florida",
          "Florida",
          "Florida",
          "Florida",
          "Florida",
          "Florida",
          "Florida",
          "Florida",
          "Florida",
          "Florida",
          "Florida",
          "Florida",
          "Florida",
          "Florida",
          "Florida",
          "Florida",
          "Florida",
          "Florida",
          "Florida",
          "Florida",
          "Florida",
          "Florida",
          "Florida",
          "Florida",
          "Florida",
          "Florida",
          "Florida",
          "Florida",
          "Florida",
          "Florida",
          "Florida",
          "Florida",
          "Florida",
          "Florida",
          "Florida",
          "Florida",
          "Florida",
          "Florida",
          "Florida",
          "Florida",
          "Florida",
          "Florida",
          "Florida",
          "Florida",
          "Florida",
          "Florida",
          "Florida",
          "Florida",
          "Georgia",
          "Georgia",
          "Georgia",
          "Georgia",
          "Georgia",
          "Georgia",
          "Georgia",
          "Georgia",
          "Georgia",
          "Georgia",
          "Georgia",
          "Georgia",
          "Georgia",
          "Georgia",
          "Georgia",
          "Georgia",
          "Georgia",
          "Georgia",
          "Georgia",
          "Georgia",
          "Georgia",
          "Georgia",
          "Georgia",
          "Georgia",
          "Georgia",
          "Georgia",
          "Georgia",
          "Georgia",
          "Georgia",
          "Georgia",
          "Georgia",
          "Georgia",
          "Georgia",
          "Georgia",
          "Georgia",
          "Georgia",
          "Georgia",
          "Georgia",
          "Georgia",
          "Georgia",
          "Georgia",
          "Georgia",
          "Georgia",
          "Georgia",
          "Georgia",
          "Georgia",
          "Georgia",
          "Georgia",
          "Georgia",
          "Georgia",
          "Georgia",
          "Georgia",
          "Georgia",
          "Georgia",
          "Georgia",
          "Georgia",
          "Georgia",
          "Georgia",
          "Georgia",
          "Georgia",
          "Georgia",
          "Georgia",
          "Georgia",
          "Georgia",
          "Georgia",
          "Georgia",
          "Georgia",
          "Georgia",
          "Georgia",
          "Georgia",
          "Georgia",
          "Georgia",
          "Georgia",
          "Georgia",
          "Georgia",
          "Georgia",
          "Georgia",
          "Georgia",
          "Georgia",
          "Georgia",
          "Georgia",
          "Georgia",
          "Georgia",
          "Georgia",
          "Georgia",
          "Georgia",
          "Georgia",
          "Georgia",
          "Georgia",
          "Georgia",
          "Georgia",
          "Georgia",
          "Georgia",
          "Georgia",
          "Georgia",
          "Georgia",
          "Georgia",
          "Georgia",
          "Georgia",
          "Georgia",
          "Georgia",
          "Georgia",
          "Georgia",
          "Georgia",
          "Georgia",
          "Georgia",
          "Georgia",
          "Georgia",
          "Georgia",
          "Georgia",
          "Georgia",
          "Georgia",
          "Georgia",
          "Georgia",
          "Georgia",
          "Georgia",
          "Georgia",
          "Georgia",
          "Georgia",
          "Georgia",
          "Georgia",
          "Georgia",
          "Georgia",
          "Georgia",
          "Georgia",
          "Georgia",
          "Georgia",
          "Georgia",
          "Georgia",
          "Georgia",
          "Georgia",
          "Georgia",
          "Georgia",
          "Georgia",
          "Georgia",
          "Georgia",
          "Georgia",
          "Georgia",
          "Georgia",
          "Georgia",
          "Georgia",
          "Georgia",
          "Georgia",
          "Georgia",
          "Georgia",
          "Georgia",
          "Georgia",
          "Georgia",
          "Georgia",
          "Georgia",
          "Georgia",
          "Georgia",
          "Georgia",
          "Georgia",
          "Georgia",
          "Georgia",
          "Georgia",
          "Georgia",
          "Georgia",
          "Georgia",
          "Georgia",
          "Grand Princess",
          "Guam",
          "Hawaii",
          "Hawaii",
          "Hawaii",
          "Hawaii",
          "Hawaii",
          "Hawaii",
          "Idaho",
          "Idaho",
          "Idaho",
          "Idaho",
          "Idaho",
          "Idaho",
          "Idaho",
          "Idaho",
          "Idaho",
          "Idaho",
          "Idaho",
          "Idaho",
          "Idaho",
          "Idaho",
          "Idaho",
          "Idaho",
          "Idaho",
          "Idaho",
          "Idaho",
          "Idaho",
          "Idaho",
          "Idaho",
          "Idaho",
          "Idaho",
          "Idaho",
          "Idaho",
          "Idaho",
          "Idaho",
          "Idaho",
          "Idaho",
          "Idaho",
          "Idaho",
          "Idaho",
          "Idaho",
          "Idaho",
          "Idaho",
          "Idaho",
          "Idaho",
          "Idaho",
          "Idaho",
          "Idaho",
          "Idaho",
          "Idaho",
          "Idaho",
          "Idaho",
          "Illinois",
          "Illinois",
          "Illinois",
          "Illinois",
          "Illinois",
          "Illinois",
          "Illinois",
          "Illinois",
          "Illinois",
          "Illinois",
          "Illinois",
          "Illinois",
          "Illinois",
          "Illinois",
          "Illinois",
          "Illinois",
          "Illinois",
          "Illinois",
          "Illinois",
          "Illinois",
          "Illinois",
          "Illinois",
          "Illinois",
          "Illinois",
          "Illinois",
          "Illinois",
          "Illinois",
          "Illinois",
          "Illinois",
          "Illinois",
          "Illinois",
          "Illinois",
          "Illinois",
          "Illinois",
          "Illinois",
          "Illinois",
          "Illinois",
          "Illinois",
          "Illinois",
          "Illinois",
          "Illinois",
          "Illinois",
          "Illinois",
          "Illinois",
          "Illinois",
          "Illinois",
          "Illinois",
          "Illinois",
          "Illinois",
          "Illinois",
          "Illinois",
          "Illinois",
          "Illinois",
          "Illinois",
          "Illinois",
          "Illinois",
          "Illinois",
          "Illinois",
          "Illinois",
          "Illinois",
          "Illinois",
          "Illinois",
          "Illinois",
          "Illinois",
          "Illinois",
          "Illinois",
          "Illinois",
          "Illinois",
          "Illinois",
          "Illinois",
          "Illinois",
          "Illinois",
          "Illinois",
          "Illinois",
          "Illinois",
          "Illinois",
          "Illinois",
          "Illinois",
          "Illinois",
          "Illinois",
          "Illinois",
          "Illinois",
          "Illinois",
          "Illinois",
          "Illinois",
          "Illinois",
          "Illinois",
          "Illinois",
          "Illinois",
          "Illinois",
          "Illinois",
          "Illinois",
          "Illinois",
          "Illinois",
          "Illinois",
          "Illinois",
          "Illinois",
          "Illinois",
          "Illinois",
          "Illinois",
          "Illinois",
          "Illinois",
          "Illinois",
          "Illinois",
          "Indiana",
          "Indiana",
          "Indiana",
          "Indiana",
          "Indiana",
          "Indiana",
          "Indiana",
          "Indiana",
          "Indiana",
          "Indiana",
          "Indiana",
          "Indiana",
          "Indiana",
          "Indiana",
          "Indiana",
          "Indiana",
          "Indiana",
          "Indiana",
          "Indiana",
          "Indiana",
          "Indiana",
          "Indiana",
          "Indiana",
          "Indiana",
          "Indiana",
          "Indiana",
          "Indiana",
          "Indiana",
          "Indiana",
          "Indiana",
          "Indiana",
          "Indiana",
          "Indiana",
          "Indiana",
          "Indiana",
          "Indiana",
          "Indiana",
          "Indiana",
          "Indiana",
          "Indiana",
          "Indiana",
          "Indiana",
          "Indiana",
          "Indiana",
          "Indiana",
          "Indiana",
          "Indiana",
          "Indiana",
          "Indiana",
          "Indiana",
          "Indiana",
          "Indiana",
          "Indiana",
          "Indiana",
          "Indiana",
          "Indiana",
          "Indiana",
          "Indiana",
          "Indiana",
          "Indiana",
          "Indiana",
          "Indiana",
          "Indiana",
          "Indiana",
          "Indiana",
          "Indiana",
          "Indiana",
          "Indiana",
          "Indiana",
          "Indiana",
          "Indiana",
          "Indiana",
          "Indiana",
          "Indiana",
          "Indiana",
          "Indiana",
          "Indiana",
          "Indiana",
          "Indiana",
          "Indiana",
          "Indiana",
          "Indiana",
          "Indiana",
          "Indiana",
          "Indiana",
          "Indiana",
          "Indiana",
          "Indiana",
          "Indiana",
          "Indiana",
          "Indiana",
          "Indiana",
          "Indiana",
          "Iowa",
          "Iowa",
          "Iowa",
          "Iowa",
          "Iowa",
          "Iowa",
          "Iowa",
          "Iowa",
          "Iowa",
          "Iowa",
          "Iowa",
          "Iowa",
          "Iowa",
          "Iowa",
          "Iowa",
          "Iowa",
          "Iowa",
          "Iowa",
          "Iowa",
          "Iowa",
          "Iowa",
          "Iowa",
          "Iowa",
          "Iowa",
          "Iowa",
          "Iowa",
          "Iowa",
          "Iowa",
          "Iowa",
          "Iowa",
          "Iowa",
          "Iowa",
          "Iowa",
          "Iowa",
          "Iowa",
          "Iowa",
          "Iowa",
          "Iowa",
          "Iowa",
          "Iowa",
          "Iowa",
          "Iowa",
          "Iowa",
          "Iowa",
          "Iowa",
          "Iowa",
          "Iowa",
          "Iowa",
          "Iowa",
          "Iowa",
          "Iowa",
          "Iowa",
          "Iowa",
          "Iowa",
          "Iowa",
          "Iowa",
          "Iowa",
          "Iowa",
          "Iowa",
          "Iowa",
          "Iowa",
          "Iowa",
          "Iowa",
          "Iowa",
          "Iowa",
          "Iowa",
          "Iowa",
          "Iowa",
          "Iowa",
          "Iowa",
          "Iowa",
          "Iowa",
          "Iowa",
          "Iowa",
          "Iowa",
          "Iowa",
          "Iowa",
          "Iowa",
          "Iowa",
          "Iowa",
          "Iowa",
          "Iowa",
          "Iowa",
          "Iowa",
          "Iowa",
          "Iowa",
          "Iowa",
          "Iowa",
          "Iowa",
          "Iowa",
          "Iowa",
          "Iowa",
          "Iowa",
          "Iowa",
          "Iowa",
          "Iowa",
          "Iowa",
          "Iowa",
          "Iowa",
          "Iowa",
          "Kansas",
          "Kansas",
          "Kansas",
          "Kansas",
          "Kansas",
          "Kansas",
          "Kansas",
          "Kansas",
          "Kansas",
          "Kansas",
          "Kansas",
          "Kansas",
          "Kansas",
          "Kansas",
          "Kansas",
          "Kansas",
          "Kansas",
          "Kansas",
          "Kansas",
          "Kansas",
          "Kansas",
          "Kansas",
          "Kansas",
          "Kansas",
          "Kansas",
          "Kansas",
          "Kansas",
          "Kansas",
          "Kansas",
          "Kansas",
          "Kansas",
          "Kansas",
          "Kansas",
          "Kansas",
          "Kansas",
          "Kansas",
          "Kansas",
          "Kansas",
          "Kansas",
          "Kansas",
          "Kansas",
          "Kansas",
          "Kansas",
          "Kansas",
          "Kansas",
          "Kansas",
          "Kansas",
          "Kansas",
          "Kansas",
          "Kansas",
          "Kansas",
          "Kansas",
          "Kansas",
          "Kansas",
          "Kansas",
          "Kansas",
          "Kansas",
          "Kansas",
          "Kansas",
          "Kansas",
          "Kansas",
          "Kansas",
          "Kansas",
          "Kansas",
          "Kansas",
          "Kansas",
          "Kansas",
          "Kansas",
          "Kansas",
          "Kansas",
          "Kansas",
          "Kansas",
          "Kansas",
          "Kansas",
          "Kansas",
          "Kansas",
          "Kansas",
          "Kansas",
          "Kansas",
          "Kansas",
          "Kansas",
          "Kansas",
          "Kansas",
          "Kansas",
          "Kansas",
          "Kansas",
          "Kansas",
          "Kansas",
          "Kansas",
          "Kansas",
          "Kansas",
          "Kansas",
          "Kansas",
          "Kansas",
          "Kansas",
          "Kansas",
          "Kansas",
          "Kansas",
          "Kansas",
          "Kansas",
          "Kansas",
          "Kansas",
          "Kansas",
          "Kansas",
          "Kansas",
          "Kansas",
          "Kansas",
          "Kentucky",
          "Kentucky",
          "Kentucky",
          "Kentucky",
          "Kentucky",
          "Kentucky",
          "Kentucky",
          "Kentucky",
          "Kentucky",
          "Kentucky",
          "Kentucky",
          "Kentucky",
          "Kentucky",
          "Kentucky",
          "Kentucky",
          "Kentucky",
          "Kentucky",
          "Kentucky",
          "Kentucky",
          "Kentucky",
          "Kentucky",
          "Kentucky",
          "Kentucky",
          "Kentucky",
          "Kentucky",
          "Kentucky",
          "Kentucky",
          "Kentucky",
          "Kentucky",
          "Kentucky",
          "Kentucky",
          "Kentucky",
          "Kentucky",
          "Kentucky",
          "Kentucky",
          "Kentucky",
          "Kentucky",
          "Kentucky",
          "Kentucky",
          "Kentucky",
          "Kentucky",
          "Kentucky",
          "Kentucky",
          "Kentucky",
          "Kentucky",
          "Kentucky",
          "Kentucky",
          "Kentucky",
          "Kentucky",
          "Kentucky",
          "Kentucky",
          "Kentucky",
          "Kentucky",
          "Kentucky",
          "Kentucky",
          "Kentucky",
          "Kentucky",
          "Kentucky",
          "Kentucky",
          "Kentucky",
          "Kentucky",
          "Kentucky",
          "Kentucky",
          "Kentucky",
          "Kentucky",
          "Kentucky",
          "Kentucky",
          "Kentucky",
          "Kentucky",
          "Kentucky",
          "Kentucky",
          "Kentucky",
          "Kentucky",
          "Kentucky",
          "Kentucky",
          "Kentucky",
          "Kentucky",
          "Kentucky",
          "Kentucky",
          "Kentucky",
          "Kentucky",
          "Kentucky",
          "Kentucky",
          "Kentucky",
          "Kentucky",
          "Kentucky",
          "Kentucky",
          "Kentucky",
          "Kentucky",
          "Kentucky",
          "Kentucky",
          "Kentucky",
          "Kentucky",
          "Kentucky",
          "Kentucky",
          "Kentucky",
          "Kentucky",
          "Kentucky",
          "Kentucky",
          "Kentucky",
          "Kentucky",
          "Kentucky",
          "Kentucky",
          "Kentucky",
          "Kentucky",
          "Kentucky",
          "Kentucky",
          "Kentucky",
          "Kentucky",
          "Kentucky",
          "Kentucky",
          "Kentucky",
          "Kentucky",
          "Kentucky",
          "Kentucky",
          "Kentucky",
          "Kentucky",
          "Kentucky",
          "Kentucky",
          "Kentucky",
          "Kentucky",
          "Louisiana",
          "Louisiana",
          "Louisiana",
          "Louisiana",
          "Louisiana",
          "Louisiana",
          "Louisiana",
          "Louisiana",
          "Louisiana",
          "Louisiana",
          "Louisiana",
          "Louisiana",
          "Louisiana",
          "Louisiana",
          "Louisiana",
          "Louisiana",
          "Louisiana",
          "Louisiana",
          "Louisiana",
          "Louisiana",
          "Louisiana",
          "Louisiana",
          "Louisiana",
          "Louisiana",
          "Louisiana",
          "Louisiana",
          "Louisiana",
          "Louisiana",
          "Louisiana",
          "Louisiana",
          "Louisiana",
          "Louisiana",
          "Louisiana",
          "Louisiana",
          "Louisiana",
          "Louisiana",
          "Louisiana",
          "Louisiana",
          "Louisiana",
          "Louisiana",
          "Louisiana",
          "Louisiana",
          "Louisiana",
          "Louisiana",
          "Louisiana",
          "Louisiana",
          "Louisiana",
          "Louisiana",
          "Louisiana",
          "Louisiana",
          "Louisiana",
          "Louisiana",
          "Louisiana",
          "Louisiana",
          "Louisiana",
          "Louisiana",
          "Louisiana",
          "Louisiana",
          "Louisiana",
          "Louisiana",
          "Louisiana",
          "Louisiana",
          "Louisiana",
          "Louisiana",
          "Louisiana",
          "Louisiana",
          "Maine",
          "Maine",
          "Maine",
          "Maine",
          "Maine",
          "Maine",
          "Maine",
          "Maine",
          "Maine",
          "Maine",
          "Maine",
          "Maine",
          "Maine",
          "Maine",
          "Maine",
          "Maine",
          "Maine",
          "Maine",
          "Maryland",
          "Maryland",
          "Maryland",
          "Maryland",
          "Maryland",
          "Maryland",
          "Maryland",
          "Maryland",
          "Maryland",
          "Maryland",
          "Maryland",
          "Maryland",
          "Maryland",
          "Maryland",
          "Maryland",
          "Maryland",
          "Maryland",
          "Maryland",
          "Maryland",
          "Maryland",
          "Maryland",
          "Maryland",
          "Maryland",
          "Maryland",
          "Maryland",
          "Massachusetts",
          "Massachusetts",
          "Massachusetts",
          "Massachusetts",
          "Massachusetts",
          "Massachusetts",
          "Massachusetts",
          "Massachusetts",
          "Massachusetts",
          "Massachusetts",
          "Massachusetts",
          "Massachusetts",
          "Massachusetts",
          "Massachusetts",
          "Michigan",
          "Michigan",
          "Michigan",
          "Michigan",
          "Michigan",
          "Michigan",
          "Michigan",
          "Michigan",
          "Michigan",
          "Michigan",
          "Michigan",
          "Michigan",
          "Michigan",
          "Michigan",
          "Michigan",
          "Michigan",
          "Michigan",
          "Michigan",
          "Michigan",
          "Michigan",
          "Michigan",
          "Michigan",
          "Michigan",
          "Michigan",
          "Michigan",
          "Michigan",
          "Michigan",
          "Michigan",
          "Michigan",
          "Michigan",
          "Michigan",
          "Michigan",
          "Michigan",
          "Michigan",
          "Michigan",
          "Michigan",
          "Michigan",
          "Michigan",
          "Michigan",
          "Michigan",
          "Michigan",
          "Michigan",
          "Michigan",
          "Michigan",
          "Michigan",
          "Michigan",
          "Michigan",
          "Michigan",
          "Michigan",
          "Michigan",
          "Michigan",
          "Michigan",
          "Michigan",
          "Michigan",
          "Michigan",
          "Michigan",
          "Michigan",
          "Michigan",
          "Michigan",
          "Michigan",
          "Michigan",
          "Michigan",
          "Michigan",
          "Michigan",
          "Michigan",
          "Michigan",
          "Michigan",
          "Michigan",
          "Michigan",
          "Michigan",
          "Michigan",
          "Michigan",
          "Michigan",
          "Michigan",
          "Michigan",
          "Michigan",
          "Michigan",
          "Michigan",
          "Michigan",
          "Michigan",
          "Michigan",
          "Michigan",
          "Michigan",
          "Michigan",
          "Michigan",
          "Michigan",
          "Michigan",
          "Minnesota",
          "Minnesota",
          "Minnesota",
          "Minnesota",
          "Minnesota",
          "Minnesota",
          "Minnesota",
          "Minnesota",
          "Minnesota",
          "Minnesota",
          "Minnesota",
          "Minnesota",
          "Minnesota",
          "Minnesota",
          "Minnesota",
          "Minnesota",
          "Minnesota",
          "Minnesota",
          "Minnesota",
          "Minnesota",
          "Minnesota",
          "Minnesota",
          "Minnesota",
          "Minnesota",
          "Minnesota",
          "Minnesota",
          "Minnesota",
          "Minnesota",
          "Minnesota",
          "Minnesota",
          "Minnesota",
          "Minnesota",
          "Minnesota",
          "Minnesota",
          "Minnesota",
          "Minnesota",
          "Minnesota",
          "Minnesota",
          "Minnesota",
          "Minnesota",
          "Minnesota",
          "Minnesota",
          "Minnesota",
          "Minnesota",
          "Minnesota",
          "Minnesota",
          "Minnesota",
          "Minnesota",
          "Minnesota",
          "Minnesota",
          "Minnesota",
          "Minnesota",
          "Minnesota",
          "Minnesota",
          "Minnesota",
          "Minnesota",
          "Minnesota",
          "Minnesota",
          "Minnesota",
          "Minnesota",
          "Minnesota",
          "Minnesota",
          "Minnesota",
          "Minnesota",
          "Minnesota",
          "Minnesota",
          "Minnesota",
          "Minnesota",
          "Minnesota",
          "Minnesota",
          "Minnesota",
          "Minnesota",
          "Minnesota",
          "Minnesota",
          "Minnesota",
          "Minnesota",
          "Minnesota",
          "Minnesota",
          "Minnesota",
          "Minnesota",
          "Minnesota",
          "Minnesota",
          "Minnesota",
          "Minnesota",
          "Minnesota",
          "Minnesota",
          "Minnesota",
          "Minnesota",
          "Mississippi",
          "Mississippi",
          "Mississippi",
          "Mississippi",
          "Mississippi",
          "Mississippi",
          "Mississippi",
          "Mississippi",
          "Mississippi",
          "Mississippi",
          "Mississippi",
          "Mississippi",
          "Mississippi",
          "Mississippi",
          "Mississippi",
          "Mississippi",
          "Mississippi",
          "Mississippi",
          "Mississippi",
          "Mississippi",
          "Mississippi",
          "Mississippi",
          "Mississippi",
          "Mississippi",
          "Mississippi",
          "Mississippi",
          "Mississippi",
          "Mississippi",
          "Mississippi",
          "Mississippi",
          "Mississippi",
          "Mississippi",
          "Mississippi",
          "Mississippi",
          "Mississippi",
          "Mississippi",
          "Mississippi",
          "Mississippi",
          "Mississippi",
          "Mississippi",
          "Mississippi",
          "Mississippi",
          "Mississippi",
          "Mississippi",
          "Mississippi",
          "Mississippi",
          "Mississippi",
          "Mississippi",
          "Mississippi",
          "Mississippi",
          "Mississippi",
          "Mississippi",
          "Mississippi",
          "Mississippi",
          "Mississippi",
          "Mississippi",
          "Mississippi",
          "Mississippi",
          "Mississippi",
          "Mississippi",
          "Mississippi",
          "Mississippi",
          "Mississippi",
          "Mississippi",
          "Mississippi",
          "Mississippi",
          "Mississippi",
          "Mississippi",
          "Mississippi",
          "Mississippi",
          "Mississippi",
          "Mississippi",
          "Mississippi",
          "Mississippi",
          "Mississippi",
          "Mississippi",
          "Mississippi",
          "Mississippi",
          "Mississippi",
          "Mississippi",
          "Mississippi",
          "Mississippi",
          "Mississippi",
          "Missouri",
          "Missouri",
          "Missouri",
          "Missouri",
          "Missouri",
          "Missouri",
          "Missouri",
          "Missouri",
          "Missouri",
          "Missouri",
          "Missouri",
          "Missouri",
          "Missouri",
          "Missouri",
          "Missouri",
          "Missouri",
          "Missouri",
          "Missouri",
          "Missouri",
          "Missouri",
          "Missouri",
          "Missouri",
          "Missouri",
          "Missouri",
          "Missouri",
          "Missouri",
          "Missouri",
          "Missouri",
          "Missouri",
          "Missouri",
          "Missouri",
          "Missouri",
          "Missouri",
          "Missouri",
          "Missouri",
          "Missouri",
          "Missouri",
          "Missouri",
          "Missouri",
          "Missouri",
          "Missouri",
          "Missouri",
          "Missouri",
          "Missouri",
          "Missouri",
          "Missouri",
          "Missouri",
          "Missouri",
          "Missouri",
          "Missouri",
          "Missouri",
          "Missouri",
          "Missouri",
          "Missouri",
          "Missouri",
          "Missouri",
          "Missouri",
          "Missouri",
          "Missouri",
          "Missouri",
          "Missouri",
          "Missouri",
          "Missouri",
          "Missouri",
          "Missouri",
          "Missouri",
          "Missouri",
          "Missouri",
          "Missouri",
          "Missouri",
          "Missouri",
          "Missouri",
          "Missouri",
          "Missouri",
          "Missouri",
          "Missouri",
          "Missouri",
          "Missouri",
          "Missouri",
          "Missouri",
          "Missouri",
          "Missouri",
          "Missouri",
          "Missouri",
          "Missouri",
          "Missouri",
          "Missouri",
          "Missouri",
          "Missouri",
          "Missouri",
          "Missouri",
          "Missouri",
          "Missouri",
          "Missouri",
          "Missouri",
          "Missouri",
          "Missouri",
          "Missouri",
          "Missouri",
          "Missouri",
          "Missouri",
          "Missouri",
          "Missouri",
          "Missouri",
          "Missouri",
          "Missouri",
          "Missouri",
          "Missouri",
          "Missouri",
          "Missouri",
          "Missouri",
          "Missouri",
          "Missouri",
          "Missouri",
          "Missouri",
          "Missouri",
          "Missouri",
          "Montana",
          "Montana",
          "Montana",
          "Montana",
          "Montana",
          "Montana",
          "Montana",
          "Montana",
          "Montana",
          "Montana",
          "Montana",
          "Montana",
          "Montana",
          "Montana",
          "Montana",
          "Montana",
          "Montana",
          "Montana",
          "Montana",
          "Montana",
          "Montana",
          "Montana",
          "Montana",
          "Montana",
          "Montana",
          "Montana",
          "Montana",
          "Montana",
          "Montana",
          "Montana",
          "Montana",
          "Montana",
          "Montana",
          "Montana",
          "Montana",
          "Montana",
          "Montana",
          "Montana",
          "Montana",
          "Montana",
          "Montana",
          "Montana",
          "Montana",
          "Montana",
          "Montana",
          "Montana",
          "Montana",
          "Montana",
          "Montana",
          "Montana",
          "Montana",
          "Montana",
          "Montana",
          "Montana",
          "Montana",
          "Montana",
          "Montana",
          "Nebraska",
          "Nebraska",
          "Nebraska",
          "Nebraska",
          "Nebraska",
          "Nebraska",
          "Nebraska",
          "Nebraska",
          "Nebraska",
          "Nebraska",
          "Nebraska",
          "Nebraska",
          "Nebraska",
          "Nebraska",
          "Nebraska",
          "Nebraska",
          "Nebraska",
          "Nebraska",
          "Nebraska",
          "Nebraska",
          "Nebraska",
          "Nebraska",
          "Nebraska",
          "Nebraska",
          "Nebraska",
          "Nebraska",
          "Nebraska",
          "Nebraska",
          "Nebraska",
          "Nebraska",
          "Nebraska",
          "Nebraska",
          "Nebraska",
          "Nebraska",
          "Nebraska",
          "Nebraska",
          "Nebraska",
          "Nebraska",
          "Nebraska",
          "Nebraska",
          "Nebraska",
          "Nebraska",
          "Nebraska",
          "Nebraska",
          "Nebraska",
          "Nebraska",
          "Nebraska",
          "Nebraska",
          "Nebraska",
          "Nebraska",
          "Nebraska",
          "Nebraska",
          "Nebraska",
          "Nebraska",
          "Nebraska",
          "Nebraska",
          "Nebraska",
          "Nebraska",
          "Nebraska",
          "Nebraska",
          "Nebraska",
          "Nebraska",
          "Nebraska",
          "Nebraska",
          "Nebraska",
          "Nebraska",
          "Nebraska",
          "Nebraska",
          "Nebraska",
          "Nebraska",
          "Nebraska",
          "Nebraska",
          "Nebraska",
          "Nebraska",
          "Nebraska",
          "Nebraska",
          "Nebraska",
          "Nebraska",
          "Nebraska",
          "Nebraska",
          "Nebraska",
          "Nebraska",
          "Nebraska",
          "Nebraska",
          "Nebraska",
          "Nebraska",
          "Nebraska",
          "Nebraska",
          "Nebraska",
          "Nebraska",
          "Nebraska",
          "Nebraska",
          "Nebraska",
          "Nebraska",
          "Nevada",
          "Nevada",
          "Nevada",
          "Nevada",
          "Nevada",
          "Nevada",
          "Nevada",
          "Nevada",
          "Nevada",
          "Nevada",
          "Nevada",
          "Nevada",
          "Nevada",
          "Nevada",
          "Nevada",
          "Nevada",
          "Nevada",
          "Nevada",
          "New Hampshire",
          "New Hampshire",
          "New Hampshire",
          "New Hampshire",
          "New Hampshire",
          "New Hampshire",
          "New Hampshire",
          "New Hampshire",
          "New Hampshire",
          "New Hampshire",
          "New Hampshire",
          "New Jersey",
          "New Jersey",
          "New Jersey",
          "New Jersey",
          "New Jersey",
          "New Jersey",
          "New Jersey",
          "New Jersey",
          "New Jersey",
          "New Jersey",
          "New Jersey",
          "New Jersey",
          "New Jersey",
          "New Jersey",
          "New Jersey",
          "New Jersey",
          "New Jersey",
          "New Jersey",
          "New Jersey",
          "New Jersey",
          "New Jersey",
          "New Jersey",
          "New Mexico",
          "New Mexico",
          "New Mexico",
          "New Mexico",
          "New Mexico",
          "New Mexico",
          "New Mexico",
          "New Mexico",
          "New Mexico",
          "New Mexico",
          "New Mexico",
          "New Mexico",
          "New Mexico",
          "New Mexico",
          "New Mexico",
          "New Mexico",
          "New Mexico",
          "New Mexico",
          "New Mexico",
          "New Mexico",
          "New Mexico",
          "New Mexico",
          "New Mexico",
          "New Mexico",
          "New Mexico",
          "New Mexico",
          "New Mexico",
          "New Mexico",
          "New Mexico",
          "New Mexico",
          "New Mexico",
          "New Mexico",
          "New Mexico",
          "New Mexico",
          "New York",
          "New York",
          "New York",
          "New York",
          "New York",
          "New York",
          "New York",
          "New York",
          "New York",
          "New York",
          "New York",
          "New York",
          "New York",
          "New York",
          "New York",
          "New York",
          "New York",
          "New York",
          "New York",
          "New York",
          "New York",
          "New York",
          "New York",
          "New York",
          "New York",
          "New York",
          "New York",
          "New York",
          "New York",
          "New York",
          "New York",
          "New York",
          "New York",
          "New York",
          "New York",
          "New York",
          "New York",
          "New York",
          "New York",
          "New York",
          "New York",
          "New York",
          "New York",
          "New York",
          "New York",
          "New York",
          "New York",
          "New York",
          "New York",
          "New York",
          "New York",
          "New York",
          "New York",
          "New York",
          "New York",
          "New York",
          "New York",
          "New York",
          "New York",
          "New York",
          "New York",
          "New York",
          "New York",
          "New York",
          "North Carolina",
          "North Carolina",
          "North Carolina",
          "North Carolina",
          "North Carolina",
          "North Carolina",
          "North Carolina",
          "North Carolina",
          "North Carolina",
          "North Carolina",
          "North Carolina",
          "North Carolina",
          "North Carolina",
          "North Carolina",
          "North Carolina",
          "North Carolina",
          "North Carolina",
          "North Carolina",
          "North Carolina",
          "North Carolina",
          "North Carolina",
          "North Carolina",
          "North Carolina",
          "North Carolina",
          "North Carolina",
          "North Carolina",
          "North Carolina",
          "North Carolina",
          "North Carolina",
          "North Carolina",
          "North Carolina",
          "North Carolina",
          "North Carolina",
          "North Carolina",
          "North Carolina",
          "North Carolina",
          "North Carolina",
          "North Carolina",
          "North Carolina",
          "North Carolina",
          "North Carolina",
          "North Carolina",
          "North Carolina",
          "North Carolina",
          "North Carolina",
          "North Carolina",
          "North Carolina",
          "North Carolina",
          "North Carolina",
          "North Carolina",
          "North Carolina",
          "North Carolina",
          "North Carolina",
          "North Carolina",
          "North Carolina",
          "North Carolina",
          "North Carolina",
          "North Carolina",
          "North Carolina",
          "North Carolina",
          "North Carolina",
          "North Carolina",
          "North Carolina",
          "North Carolina",
          "North Carolina",
          "North Carolina",
          "North Carolina",
          "North Carolina",
          "North Carolina",
          "North Carolina",
          "North Carolina",
          "North Carolina",
          "North Carolina",
          "North Carolina",
          "North Carolina",
          "North Carolina",
          "North Carolina",
          "North Carolina",
          "North Carolina",
          "North Carolina",
          "North Carolina",
          "North Carolina",
          "North Carolina",
          "North Carolina",
          "North Carolina",
          "North Carolina",
          "North Carolina",
          "North Carolina",
          "North Carolina",
          "North Carolina",
          "North Carolina",
          "North Carolina",
          "North Carolina",
          "North Carolina",
          "North Carolina",
          "North Carolina",
          "North Carolina",
          "North Carolina",
          "North Carolina",
          "North Carolina",
          "North Carolina",
          "North Dakota",
          "North Dakota",
          "North Dakota",
          "North Dakota",
          "North Dakota",
          "North Dakota",
          "North Dakota",
          "North Dakota",
          "North Dakota",
          "North Dakota",
          "North Dakota",
          "North Dakota",
          "North Dakota",
          "North Dakota",
          "North Dakota",
          "North Dakota",
          "North Dakota",
          "North Dakota",
          "North Dakota",
          "North Dakota",
          "North Dakota",
          "North Dakota",
          "North Dakota",
          "North Dakota",
          "North Dakota",
          "North Dakota",
          "North Dakota",
          "North Dakota",
          "North Dakota",
          "North Dakota",
          "North Dakota",
          "North Dakota",
          "North Dakota",
          "North Dakota",
          "North Dakota",
          "North Dakota",
          "North Dakota",
          "North Dakota",
          "North Dakota",
          "North Dakota",
          "North Dakota",
          "North Dakota",
          "North Dakota",
          "North Dakota",
          "North Dakota",
          "North Dakota",
          "North Dakota",
          "North Dakota",
          "North Dakota",
          "North Dakota",
          "North Dakota",
          "North Dakota",
          "North Dakota",
          "North Dakota",
          "Northern Mariana Islands",
          "Ohio",
          "Ohio",
          "Ohio",
          "Ohio",
          "Ohio",
          "Ohio",
          "Ohio",
          "Ohio",
          "Ohio",
          "Ohio",
          "Ohio",
          "Ohio",
          "Ohio",
          "Ohio",
          "Ohio",
          "Ohio",
          "Ohio",
          "Ohio",
          "Ohio",
          "Ohio",
          "Ohio",
          "Ohio",
          "Ohio",
          "Ohio",
          "Ohio",
          "Ohio",
          "Ohio",
          "Ohio",
          "Ohio",
          "Ohio",
          "Ohio",
          "Ohio",
          "Ohio",
          "Ohio",
          "Ohio",
          "Ohio",
          "Ohio",
          "Ohio",
          "Ohio",
          "Ohio",
          "Ohio",
          "Ohio",
          "Ohio",
          "Ohio",
          "Ohio",
          "Ohio",
          "Ohio",
          "Ohio",
          "Ohio",
          "Ohio",
          "Ohio",
          "Ohio",
          "Ohio",
          "Ohio",
          "Ohio",
          "Ohio",
          "Ohio",
          "Ohio",
          "Ohio",
          "Ohio",
          "Ohio",
          "Ohio",
          "Ohio",
          "Ohio",
          "Ohio",
          "Ohio",
          "Ohio",
          "Ohio",
          "Ohio",
          "Ohio",
          "Ohio",
          "Ohio",
          "Ohio",
          "Ohio",
          "Ohio",
          "Ohio",
          "Ohio",
          "Ohio",
          "Ohio",
          "Ohio",
          "Ohio",
          "Ohio",
          "Ohio",
          "Ohio",
          "Ohio",
          "Ohio",
          "Ohio",
          "Ohio",
          "Ohio",
          "Oklahoma",
          "Oklahoma",
          "Oklahoma",
          "Oklahoma",
          "Oklahoma",
          "Oklahoma",
          "Oklahoma",
          "Oklahoma",
          "Oklahoma",
          "Oklahoma",
          "Oklahoma",
          "Oklahoma",
          "Oklahoma",
          "Oklahoma",
          "Oklahoma",
          "Oklahoma",
          "Oklahoma",
          "Oklahoma",
          "Oklahoma",
          "Oklahoma",
          "Oklahoma",
          "Oklahoma",
          "Oklahoma",
          "Oklahoma",
          "Oklahoma",
          "Oklahoma",
          "Oklahoma",
          "Oklahoma",
          "Oklahoma",
          "Oklahoma",
          "Oklahoma",
          "Oklahoma",
          "Oklahoma",
          "Oklahoma",
          "Oklahoma",
          "Oklahoma",
          "Oklahoma",
          "Oklahoma",
          "Oklahoma",
          "Oklahoma",
          "Oklahoma",
          "Oklahoma",
          "Oklahoma",
          "Oklahoma",
          "Oklahoma",
          "Oklahoma",
          "Oklahoma",
          "Oklahoma",
          "Oklahoma",
          "Oklahoma",
          "Oklahoma",
          "Oklahoma",
          "Oklahoma",
          "Oklahoma",
          "Oklahoma",
          "Oklahoma",
          "Oklahoma",
          "Oklahoma",
          "Oklahoma",
          "Oklahoma",
          "Oklahoma",
          "Oklahoma",
          "Oklahoma",
          "Oklahoma",
          "Oklahoma",
          "Oklahoma",
          "Oklahoma",
          "Oklahoma",
          "Oklahoma",
          "Oklahoma",
          "Oklahoma",
          "Oklahoma",
          "Oklahoma",
          "Oklahoma",
          "Oklahoma",
          "Oklahoma",
          "Oklahoma",
          "Oklahoma",
          "Oklahoma",
          "Oregon",
          "Oregon",
          "Oregon",
          "Oregon",
          "Oregon",
          "Oregon",
          "Oregon",
          "Oregon",
          "Oregon",
          "Oregon",
          "Oregon",
          "Oregon",
          "Oregon",
          "Oregon",
          "Oregon",
          "Oregon",
          "Oregon",
          "Oregon",
          "Oregon",
          "Oregon",
          "Oregon",
          "Oregon",
          "Oregon",
          "Oregon",
          "Oregon",
          "Oregon",
          "Oregon",
          "Oregon",
          "Oregon",
          "Oregon",
          "Oregon",
          "Oregon",
          "Oregon",
          "Oregon",
          "Oregon",
          "Oregon",
          "Oregon",
          "Pennsylvania",
          "Pennsylvania",
          "Pennsylvania",
          "Pennsylvania",
          "Pennsylvania",
          "Pennsylvania",
          "Pennsylvania",
          "Pennsylvania",
          "Pennsylvania",
          "Pennsylvania",
          "Pennsylvania",
          "Pennsylvania",
          "Pennsylvania",
          "Pennsylvania",
          "Pennsylvania",
          "Pennsylvania",
          "Pennsylvania",
          "Pennsylvania",
          "Pennsylvania",
          "Pennsylvania",
          "Pennsylvania",
          "Pennsylvania",
          "Pennsylvania",
          "Pennsylvania",
          "Pennsylvania",
          "Pennsylvania",
          "Pennsylvania",
          "Pennsylvania",
          "Pennsylvania",
          "Pennsylvania",
          "Pennsylvania",
          "Pennsylvania",
          "Pennsylvania",
          "Pennsylvania",
          "Pennsylvania",
          "Pennsylvania",
          "Pennsylvania",
          "Pennsylvania",
          "Pennsylvania",
          "Pennsylvania",
          "Pennsylvania",
          "Pennsylvania",
          "Pennsylvania",
          "Pennsylvania",
          "Pennsylvania",
          "Pennsylvania",
          "Pennsylvania",
          "Pennsylvania",
          "Pennsylvania",
          "Pennsylvania",
          "Pennsylvania",
          "Pennsylvania",
          "Pennsylvania",
          "Pennsylvania",
          "Pennsylvania",
          "Pennsylvania",
          "Pennsylvania",
          "Pennsylvania",
          "Pennsylvania",
          "Pennsylvania",
          "Pennsylvania",
          "Pennsylvania",
          "Pennsylvania",
          "Pennsylvania",
          "Pennsylvania",
          "Pennsylvania",
          "Pennsylvania",
          "Pennsylvania",
          "Puerto Rico",
          "Puerto Rico",
          "Puerto Rico",
          "Puerto Rico",
          "Puerto Rico",
          "Puerto Rico",
          "Puerto Rico",
          "Puerto Rico",
          "Puerto Rico",
          "Puerto Rico",
          "Puerto Rico",
          "Puerto Rico",
          "Puerto Rico",
          "Puerto Rico",
          "Puerto Rico",
          "Puerto Rico",
          "Puerto Rico",
          "Puerto Rico",
          "Puerto Rico",
          "Puerto Rico",
          "Puerto Rico",
          "Puerto Rico",
          "Puerto Rico",
          "Puerto Rico",
          "Puerto Rico",
          "Puerto Rico",
          "Puerto Rico",
          "Puerto Rico",
          "Puerto Rico",
          "Puerto Rico",
          "Puerto Rico",
          "Puerto Rico",
          "Puerto Rico",
          "Puerto Rico",
          "Puerto Rico",
          "Puerto Rico",
          "Puerto Rico",
          "Puerto Rico",
          "Puerto Rico",
          "Puerto Rico",
          "Puerto Rico",
          "Puerto Rico",
          "Puerto Rico",
          "Puerto Rico",
          "Puerto Rico",
          "Puerto Rico",
          "Puerto Rico",
          "Puerto Rico",
          "Puerto Rico",
          "Puerto Rico",
          "Puerto Rico",
          "Puerto Rico",
          "Puerto Rico",
          "Puerto Rico",
          "Puerto Rico",
          "Puerto Rico",
          "Puerto Rico",
          "Puerto Rico",
          "Puerto Rico",
          "Puerto Rico",
          "Puerto Rico",
          "Puerto Rico",
          "Puerto Rico",
          "Puerto Rico",
          "Puerto Rico",
          "Puerto Rico",
          "Puerto Rico",
          "Puerto Rico",
          "Puerto Rico",
          "Puerto Rico",
          "Puerto Rico",
          "Puerto Rico",
          "Puerto Rico",
          "Puerto Rico",
          "Puerto Rico",
          "Puerto Rico",
          "Puerto Rico",
          "Puerto Rico",
          "Puerto Rico",
          "Puerto Rico",
          "Recovered",
          "Rhode Island",
          "Rhode Island",
          "Rhode Island",
          "Rhode Island",
          "Rhode Island",
          "Rhode Island",
          "South Carolina",
          "South Carolina",
          "South Carolina",
          "South Carolina",
          "South Carolina",
          "South Carolina",
          "South Carolina",
          "South Carolina",
          "South Carolina",
          "South Carolina",
          "South Carolina",
          "South Carolina",
          "South Carolina",
          "South Carolina",
          "South Carolina",
          "South Carolina",
          "South Carolina",
          "South Carolina",
          "South Carolina",
          "South Carolina",
          "South Carolina",
          "South Carolina",
          "South Carolina",
          "South Carolina",
          "South Carolina",
          "South Carolina",
          "South Carolina",
          "South Carolina",
          "South Carolina",
          "South Carolina",
          "South Carolina",
          "South Carolina",
          "South Carolina",
          "South Carolina",
          "South Carolina",
          "South Carolina",
          "South Carolina",
          "South Carolina",
          "South Carolina",
          "South Carolina",
          "South Carolina",
          "South Carolina",
          "South Carolina",
          "South Carolina",
          "South Carolina",
          "South Carolina",
          "South Carolina",
          "South Dakota",
          "South Dakota",
          "South Dakota",
          "South Dakota",
          "South Dakota",
          "South Dakota",
          "South Dakota",
          "South Dakota",
          "South Dakota",
          "South Dakota",
          "South Dakota",
          "South Dakota",
          "South Dakota",
          "South Dakota",
          "South Dakota",
          "South Dakota",
          "South Dakota",
          "South Dakota",
          "South Dakota",
          "South Dakota",
          "South Dakota",
          "South Dakota",
          "South Dakota",
          "South Dakota",
          "South Dakota",
          "South Dakota",
          "South Dakota",
          "South Dakota",
          "South Dakota",
          "South Dakota",
          "South Dakota",
          "South Dakota",
          "South Dakota",
          "South Dakota",
          "South Dakota",
          "South Dakota",
          "South Dakota",
          "South Dakota",
          "South Dakota",
          "South Dakota",
          "South Dakota",
          "South Dakota",
          "South Dakota",
          "South Dakota",
          "South Dakota",
          "South Dakota",
          "South Dakota",
          "South Dakota",
          "South Dakota",
          "South Dakota",
          "South Dakota",
          "South Dakota",
          "South Dakota",
          "South Dakota",
          "South Dakota",
          "South Dakota",
          "South Dakota",
          "South Dakota",
          "South Dakota",
          "South Dakota",
          "South Dakota",
          "South Dakota",
          "South Dakota",
          "South Dakota",
          "South Dakota",
          "South Dakota",
          "South Dakota",
          "Tennessee",
          "Tennessee",
          "Tennessee",
          "Tennessee",
          "Tennessee",
          "Tennessee",
          "Tennessee",
          "Tennessee",
          "Tennessee",
          "Tennessee",
          "Tennessee",
          "Tennessee",
          "Tennessee",
          "Tennessee",
          "Tennessee",
          "Tennessee",
          "Tennessee",
          "Tennessee",
          "Tennessee",
          "Tennessee",
          "Tennessee",
          "Tennessee",
          "Tennessee",
          "Tennessee",
          "Tennessee",
          "Tennessee",
          "Tennessee",
          "Tennessee",
          "Tennessee",
          "Tennessee",
          "Tennessee",
          "Tennessee",
          "Tennessee",
          "Tennessee",
          "Tennessee",
          "Tennessee",
          "Tennessee",
          "Tennessee",
          "Tennessee",
          "Tennessee",
          "Tennessee",
          "Tennessee",
          "Tennessee",
          "Tennessee",
          "Tennessee",
          "Tennessee",
          "Tennessee",
          "Tennessee",
          "Tennessee",
          "Tennessee",
          "Tennessee",
          "Tennessee",
          "Tennessee",
          "Tennessee",
          "Tennessee",
          "Tennessee",
          "Tennessee",
          "Tennessee",
          "Tennessee",
          "Tennessee",
          "Tennessee",
          "Tennessee",
          "Tennessee",
          "Tennessee",
          "Tennessee",
          "Tennessee",
          "Tennessee",
          "Tennessee",
          "Tennessee",
          "Tennessee",
          "Tennessee",
          "Tennessee",
          "Tennessee",
          "Tennessee",
          "Tennessee",
          "Tennessee",
          "Tennessee",
          "Tennessee",
          "Tennessee",
          "Tennessee",
          "Tennessee",
          "Tennessee",
          "Tennessee",
          "Tennessee",
          "Tennessee",
          "Tennessee",
          "Tennessee",
          "Tennessee",
          "Tennessee",
          "Tennessee",
          "Tennessee",
          "Tennessee",
          "Tennessee",
          "Tennessee",
          "Tennessee",
          "Tennessee",
          "Tennessee",
          "Texas",
          "Texas",
          "Texas",
          "Texas",
          "Texas",
          "Texas",
          "Texas",
          "Texas",
          "Texas",
          "Texas",
          "Texas",
          "Texas",
          "Texas",
          "Texas",
          "Texas",
          "Texas",
          "Texas",
          "Texas",
          "Texas",
          "Texas",
          "Texas",
          "Texas",
          "Texas",
          "Texas",
          "Texas",
          "Texas",
          "Texas",
          "Texas",
          "Texas",
          "Texas",
          "Texas",
          "Texas",
          "Texas",
          "Texas",
          "Texas",
          "Texas",
          "Texas",
          "Texas",
          "Texas",
          "Texas",
          "Texas",
          "Texas",
          "Texas",
          "Texas",
          "Texas",
          "Texas",
          "Texas",
          "Texas",
          "Texas",
          "Texas",
          "Texas",
          "Texas",
          "Texas",
          "Texas",
          "Texas",
          "Texas",
          "Texas",
          "Texas",
          "Texas",
          "Texas",
          "Texas",
          "Texas",
          "Texas",
          "Texas",
          "Texas",
          "Texas",
          "Texas",
          "Texas",
          "Texas",
          "Texas",
          "Texas",
          "Texas",
          "Texas",
          "Texas",
          "Texas",
          "Texas",
          "Texas",
          "Texas",
          "Texas",
          "Texas",
          "Texas",
          "Texas",
          "Texas",
          "Texas",
          "Texas",
          "Texas",
          "Texas",
          "Texas",
          "Texas",
          "Texas",
          "Texas",
          "Texas",
          "Texas",
          "Texas",
          "Texas",
          "Texas",
          "Texas",
          "Texas",
          "Texas",
          "Texas",
          "Texas",
          "Texas",
          "Texas",
          "Texas",
          "Texas",
          "Texas",
          "Texas",
          "Texas",
          "Texas",
          "Texas",
          "Texas",
          "Texas",
          "Texas",
          "Texas",
          "Texas",
          "Texas",
          "Texas",
          "Texas",
          "Texas",
          "Texas",
          "Texas",
          "Texas",
          "Texas",
          "Texas",
          "Texas",
          "Texas",
          "Texas",
          "Texas",
          "Texas",
          "Texas",
          "Texas",
          "Texas",
          "Texas",
          "Texas",
          "Texas",
          "Texas",
          "Texas",
          "Texas",
          "Texas",
          "Texas",
          "Texas",
          "Texas",
          "Texas",
          "Texas",
          "Texas",
          "Texas",
          "Texas",
          "Texas",
          "Texas",
          "Texas",
          "Texas",
          "Texas",
          "Texas",
          "Texas",
          "Texas",
          "Texas",
          "Texas",
          "Texas",
          "Texas",
          "Texas",
          "Texas",
          "Texas",
          "Texas",
          "Texas",
          "Texas",
          "Texas",
          "Texas",
          "Texas",
          "Texas",
          "Texas",
          "Texas",
          "Texas",
          "Texas",
          "Texas",
          "Texas",
          "Texas",
          "Texas",
          "Texas",
          "Texas",
          "Texas",
          "Texas",
          "Texas",
          "Texas",
          "Texas",
          "Texas",
          "Texas",
          "Texas",
          "Texas",
          "Texas",
          "Texas",
          "Texas",
          "Texas",
          "Texas",
          "Texas",
          "Texas",
          "Texas",
          "Texas",
          "Texas",
          "Texas",
          "Texas",
          "Texas",
          "Texas",
          "Texas",
          "Texas",
          "Texas",
          "Texas",
          "Texas",
          "Texas",
          "Texas",
          "Texas",
          "Texas",
          "Texas",
          "Texas",
          "Texas",
          "Texas",
          "Texas",
          "Texas",
          "Texas",
          "Texas",
          "Texas",
          "Texas",
          "Texas",
          "Texas",
          "Texas",
          "Texas",
          "Texas",
          "Texas",
          "Texas",
          "Texas",
          "Texas",
          "Texas",
          "Texas",
          "Texas",
          "Texas",
          "Texas",
          "Texas",
          "Texas",
          "Texas",
          "Texas",
          "Texas",
          "Texas",
          "Texas",
          "Texas",
          "Texas",
          "Texas",
          "Texas",
          "Texas",
          "Texas",
          "Texas",
          "Texas",
          "Texas",
          "Texas",
          "Texas",
          "Texas",
          "Texas",
          "Utah",
          "Utah",
          "Utah",
          "Utah",
          "Utah",
          "Utah",
          "Utah",
          "Utah",
          "Utah",
          "Utah",
          "Utah",
          "Utah",
          "Utah",
          "Utah",
          "Vermont",
          "Vermont",
          "Vermont",
          "Vermont",
          "Vermont",
          "Vermont",
          "Vermont",
          "Vermont",
          "Vermont",
          "Vermont",
          "Vermont",
          "Vermont",
          "Vermont",
          "Vermont",
          "Vermont",
          "Virgin Islands",
          "Virginia",
          "Virginia",
          "Virginia",
          "Virginia",
          "Virginia",
          "Virginia",
          "Virginia",
          "Virginia",
          "Virginia",
          "Virginia",
          "Virginia",
          "Virginia",
          "Virginia",
          "Virginia",
          "Virginia",
          "Virginia",
          "Virginia",
          "Virginia",
          "Virginia",
          "Virginia",
          "Virginia",
          "Virginia",
          "Virginia",
          "Virginia",
          "Virginia",
          "Virginia",
          "Virginia",
          "Virginia",
          "Virginia",
          "Virginia",
          "Virginia",
          "Virginia",
          "Virginia",
          "Virginia",
          "Virginia",
          "Virginia",
          "Virginia",
          "Virginia",
          "Virginia",
          "Virginia",
          "Virginia",
          "Virginia",
          "Virginia",
          "Virginia",
          "Virginia",
          "Virginia",
          "Virginia",
          "Virginia",
          "Virginia",
          "Virginia",
          "Virginia",
          "Virginia",
          "Virginia",
          "Virginia",
          "Virginia",
          "Virginia",
          "Virginia",
          "Virginia",
          "Virginia",
          "Virginia",
          "Virginia",
          "Virginia",
          "Virginia",
          "Virginia",
          "Virginia",
          "Virginia",
          "Virginia",
          "Virginia",
          "Virginia",
          "Virginia",
          "Virginia",
          "Virginia",
          "Virginia",
          "Virginia",
          "Virginia",
          "Virginia",
          "Virginia",
          "Virginia",
          "Virginia",
          "Virginia",
          "Virginia",
          "Virginia",
          "Virginia",
          "Virginia",
          "Virginia",
          "Virginia",
          "Virginia",
          "Virginia",
          "Virginia",
          "Virginia",
          "Virginia",
          "Virginia",
          "Virginia",
          "Virginia",
          "Virginia",
          "Virginia",
          "Virginia",
          "Virginia",
          "Virginia",
          "Virginia",
          "Virginia",
          "Virginia",
          "Virginia",
          "Virginia",
          "Virginia",
          "Virginia",
          "Virginia",
          "Virginia",
          "Virginia",
          "Virginia",
          "Virginia",
          "Virginia",
          "Virginia",
          "Virginia",
          "Virginia",
          "Virginia",
          "Virginia",
          "Virginia",
          "Virginia",
          "Virginia",
          "Virginia",
          "Virginia",
          "Virginia",
          "Virginia",
          "Virginia",
          "Virginia",
          "Virginia",
          "Virginia",
          "Virginia",
          "Virginia",
          "Virginia",
          "Virginia",
          "Virginia",
          "Virginia",
          "Washington",
          "Washington",
          "Washington",
          "Washington",
          "Washington",
          "Washington",
          "Washington",
          "Washington",
          "Washington",
          "Washington",
          "Washington",
          "Washington",
          "Washington",
          "Washington",
          "Washington",
          "Washington",
          "Washington",
          "Washington",
          "Washington",
          "Washington",
          "Washington",
          "Washington",
          "Washington",
          "Washington",
          "Washington",
          "Washington",
          "Washington",
          "Washington",
          "Washington",
          "Washington",
          "Washington",
          "Washington",
          "Washington",
          "Washington",
          "Washington",
          "Washington",
          "Washington",
          "Washington",
          "Washington",
          "Washington",
          "West Virginia",
          "West Virginia",
          "West Virginia",
          "West Virginia",
          "West Virginia",
          "West Virginia",
          "West Virginia",
          "West Virginia",
          "West Virginia",
          "West Virginia",
          "West Virginia",
          "West Virginia",
          "West Virginia",
          "West Virginia",
          "West Virginia",
          "West Virginia",
          "West Virginia",
          "West Virginia",
          "West Virginia",
          "West Virginia",
          "West Virginia",
          "West Virginia",
          "West Virginia",
          "West Virginia",
          "West Virginia",
          "West Virginia",
          "West Virginia",
          "West Virginia",
          "West Virginia",
          "West Virginia",
          "West Virginia",
          "West Virginia",
          "West Virginia",
          "West Virginia",
          "West Virginia",
          "West Virginia",
          "West Virginia",
          "West Virginia",
          "West Virginia",
          "West Virginia",
          "West Virginia",
          "West Virginia",
          "West Virginia",
          "West Virginia",
          "West Virginia",
          "West Virginia",
          "West Virginia",
          "West Virginia",
          "West Virginia",
          "West Virginia",
          "West Virginia",
          "West Virginia",
          "West Virginia",
          "West Virginia",
          "West Virginia",
          "West Virginia",
          "Wisconsin",
          "Wisconsin",
          "Wisconsin",
          "Wisconsin",
          "Wisconsin",
          "Wisconsin",
          "Wisconsin",
          "Wisconsin",
          "Wisconsin",
          "Wisconsin",
          "Wisconsin",
          "Wisconsin",
          "Wisconsin",
          "Wisconsin",
          "Wisconsin",
          "Wisconsin",
          "Wisconsin",
          "Wisconsin",
          "Wisconsin",
          "Wisconsin",
          "Wisconsin",
          "Wisconsin",
          "Wisconsin",
          "Wisconsin",
          "Wisconsin",
          "Wisconsin",
          "Wisconsin",
          "Wisconsin",
          "Wisconsin",
          "Wisconsin",
          "Wisconsin",
          "Wisconsin",
          "Wisconsin",
          "Wisconsin",
          "Wisconsin",
          "Wisconsin",
          "Wisconsin",
          "Wisconsin",
          "Wisconsin",
          "Wisconsin",
          "Wisconsin",
          "Wisconsin",
          "Wisconsin",
          "Wisconsin",
          "Wisconsin",
          "Wisconsin",
          "Wisconsin",
          "Wisconsin",
          "Wisconsin",
          "Wisconsin",
          "Wisconsin",
          "Wisconsin",
          "Wisconsin",
          "Wisconsin",
          "Wisconsin",
          "Wisconsin",
          "Wisconsin",
          "Wisconsin",
          "Wisconsin",
          "Wisconsin",
          "Wisconsin",
          "Wisconsin",
          "Wisconsin",
          "Wisconsin",
          "Wisconsin",
          "Wisconsin",
          "Wisconsin",
          "Wisconsin",
          "Wisconsin",
          "Wisconsin",
          "Wisconsin",
          "Wisconsin",
          "Wisconsin",
          "Wyoming",
          "Wyoming",
          "Wyoming",
          "Wyoming",
          "Wyoming",
          "Wyoming",
          "Wyoming",
          "Wyoming",
          "Wyoming",
          "Wyoming",
          "Wyoming",
          "Wyoming",
          "Wyoming",
          "Wyoming",
          "Wyoming",
          "Wyoming",
          "Wyoming",
          "Wyoming",
          "Wyoming",
          "Wyoming",
          "Wyoming",
          "Wyoming",
          "Wyoming",
          "Wyoming"
         ],
         "marker": {
          "color": [
           7262,
           22043,
           2347,
           2693,
           6988,
           1250,
           2264,
           14778,
           3738,
           1874,
           4481,
           624,
           3531,
           1603,
           1542,
           5684,
           6430,
           1146,
           1123,
           4320,
           1588,
           10014,
           4951,
           3623,
           9033,
           10322,
           4038,
           14249,
           2202,
           4328,
           2593,
           938,
           2273,
           1955,
           10858,
           7047,
           81328,
           1476,
           9653,
           3144,
           16343,
           10210,
           1421,
           1636,
           35869,
           2511,
           3286,
           12500,
           42424,
           1827,
           25129,
           14669,
           0,
           1088,
           2372,
           3151,
           1882,
           4561,
           25745,
           10205,
           1062,
           8485,
           4154,
           26243,
           0,
           7372,
           1706,
           1272,
           2841,
           368,
           729,
           31286,
           3921,
           0,
           203,
           443,
           254,
           114,
           234,
           8090,
           31,
           1505,
           4618,
           675,
           1128,
           1417,
           11881,
           409,
           1090,
           627,
           174,
           185,
           385,
           22,
           773,
           299,
           0,
           67,
           84,
           372,
           11507,
           12219,
           18073,
           7111,
           5599,
           579,
           2493,
           561596,
           23917,
           16751,
           0,
           117941,
           54133,
           8098,
           0,
           19646,
           37347,
           2247,
           2062,
           3551,
           30014,
           4132,
           1474,
           425,
           2925,
           1631,
           2233,
           1811,
           2088,
           1001,
           2426,
           2270,
           13897,
           7276,
           6205,
           1996,
           816,
           1381,
           2085,
           13242,
           1721,
           1181,
           10641,
           1805,
           6314,
           2090,
           5433,
           1689,
           3992,
           1731,
           3272,
           9315,
           2982,
           563,
           2177,
           1715,
           3264,
           1279,
           2301,
           7855,
           1512,
           1162,
           4473,
           5932,
           891,
           767,
           894,
           791,
           2470,
           890,
           1887,
           1048,
           3251,
           2045,
           8190,
           919,
           41646,
           2220,
           12782,
           988,
           777,
           15635,
           2843,
           1666,
           3660,
           1121,
           2965,
           4136,
           1408,
           31746,
           8480,
           654,
           3468,
           92011,
           89,
           3803,
           14712,
           2226,
           2303,
           72646,
           1455,
           11297,
           111726,
           3028,
           4615,
           31626,
           1417,
           111111,
           24279,
           3658,
           5821,
           1252739,
           17702,
           14453,
           467,
           4219,
           32318,
           557,
           1286,
           45168,
           10112,
           5181,
           273738,
           25520,
           723,
           308143,
           110707,
           6254,
           303822,
           282692,
           38672,
           77869,
           22154,
           43384,
           35833,
           120002,
           17157,
           14313,
           74,
           2309,
           34180,
           31496,
           63414,
           9762,
           5747,
           410,
           59546,
           4150,
           21,
           84734,
           14614,
           6358,
           61047,
           1733,
           62977,
           1055,
           325,
           1545,
           24054,
           5013,
           1778,
           130,
           478,
           740,
           251,
           2216,
           229,
           2958,
           74504,
           130,
           30602,
           6368,
           73673,
           1890,
           6558,
           6223,
           285,
           1507,
           1401,
           20,
           440,
           67,
           49017,
           95,
           647,
           4175,
           836,
           27831,
           1179,
           1036,
           4065,
           17405,
           94,
           1055,
           2103,
           3759,
           2756,
           2088,
           297,
           0,
           833,
           400,
           2622,
           1279,
           19633,
           630,
           910,
           2306,
           457,
           47,
           926,
           236,
           3774,
           1926,
           77,
           474,
           33569,
           970,
           100549,
           84551,
           14696,
           12874,
           92430,
           22590,
           9655,
           1180,
           10951,
           18272,
           65131,
           26261,
           227,
           49,
           49378,
           25834,
           3682,
           20899,
           3119,
           44447,
           250300,
           1727,
           13697,
           11649,
           19906,
           38011,
           8398,
           4475,
           1650,
           104659,
           36948,
           7701,
           1375,
           5854,
           1656,
           1003,
           2020,
           1656,
           3408,
           4963,
           15081,
           8917,
           147394,
           2313,
           13128,
           6512,
           1532,
           1631,
           31924,
           75330,
           33402,
           3649,
           1095,
           2114,
           40588,
           32460,
           13047,
           511394,
           7261,
           9036,
           21318,
           4314,
           146910,
           47608,
           151746,
           43789,
           82969,
           72946,
           6898,
           18936,
           34230,
           36667,
           24170,
           28361,
           9676,
           5458,
           2769,
           3017,
           1892,
           46235,
           3593,
           8033,
           2768,
           2339,
           1051,
           1670,
           232,
           4585,
           1851,
           10243,
           14971,
           2113,
           1910,
           16204,
           1490,
           1673,
           1425,
           3771,
           6853,
           2626,
           3215,
           585,
           4123,
           994,
           11582,
           6637,
           1612,
           23766,
           4542,
           2877,
           31589,
           15214,
           237,
           27545,
           987,
           80344,
           5376,
           4847,
           17155,
           1898,
           14411,
           670,
           2109,
           1469,
           3112,
           67331,
           2985,
           2120,
           1090,
           7724,
           15634,
           1196,
           478,
           4714,
           2299,
           2621,
           993,
           2463,
           9170,
           12093,
           22947,
           2695,
           99450,
           3075,
           269,
           8343,
           8262,
           2279,
           1837,
           103391,
           5099,
           27826,
           926,
           2688,
           2653,
           2415,
           891,
           25976,
           14942,
           1010,
           10019,
           1413,
           1923,
           1970,
           872,
           1127,
           2069,
           2072,
           797,
           5657,
           2770,
           4191,
           842,
           883,
           13065,
           3018,
           890,
           3272,
           571,
           2546,
           866,
           2067,
           853,
           2103,
           2715,
           905,
           2152,
           5026,
           16895,
           11397,
           4039,
           1506,
           29568,
           17427,
           2716,
           3518,
           2531,
           2365,
           5701,
           938,
           2237,
           168,
           1795,
           648,
           25173,
           7904,
           350,
           1019,
           959,
           6502,
           3159,
           1057,
           2624,
           499,
           124,
           2362,
           809,
           1333,
           823,
           4593,
           4965,
           3461,
           1276,
           859,
           7646,
           1049,
           732,
           3044,
           2292,
           3518,
           7793,
           10744,
           4983,
           550,
           2075,
           3640,
           148,
           630,
           3215,
           17029,
           836,
           1114,
           942,
           1804,
           103,
           8373,
           3293,
           28051,
           393,
           4909,
           1397,
           0,
           53642,
           343,
           8888,
           395,
           769,
           4856,
           2401,
           379,
           3392,
           15048,
           896,
           212,
           72,
           27679,
           714,
           2974,
           59,
           1085,
           257,
           2132,
           1230,
           1143,
           1849,
           1340,
           1343,
           3034,
           2657,
           19100,
           3219,
           534,
           438,
           512,
           7350,
           2358,
           3759,
           365,
           1090,
           2632,
           659,
           1198,
           1233,
           9819,
           0,
           877,
           1240,
           8840,
           476,
           2091,
           6850,
           752,
           3794,
           531,
           1788,
           2050,
           21163,
           3844,
           1852,
           1508,
           5798,
           5779,
           557173,
           2145,
           1304,
           1575,
           10164,
           2610,
           92595,
           1772,
           584,
           4774,
           3228,
           1892,
           4555,
           4052,
           470,
           1457,
           5995,
           847,
           1829,
           391,
           529,
           5082,
           3161,
           5123,
           1167,
           4459,
           2725,
           1830,
           1482,
           59564,
           14613,
           13313,
           5666,
           12802,
           68466,
           2407,
           4197,
           4908,
           4009,
           11018,
           4812,
           31180,
           4546,
           1084,
           1560,
           1364,
           2954,
           29212,
           18573,
           1257,
           1500,
           4405,
           3801,
           3983,
           1637,
           6236,
           2,
           23478,
           3204,
           1526,
           1837,
           332,
           703,
           489,
           4175,
           1769,
           15260,
           2613,
           19165,
           783,
           492,
           2329,
           28609,
           648,
           4842,
           17257,
           61,
           2314,
           10054,
           1380,
           1848,
           1651,
           1822,
           1707,
           7210,
           77081,
           7663,
           34231,
           4864,
           3457,
           41854,
           8180,
           1061,
           1365,
           7035,
           1046,
           1942,
           6040,
           13251,
           2694,
           4464,
           1025,
           3054,
           4425,
           5914,
           2900,
           10993,
           6228,
           29478,
           2851,
           7840,
           2270,
           1705,
           2045,
           4479,
           7269,
           2882,
           36732,
           8612,
           4422,
           17762,
           5906,
           10421,
           4042,
           5098,
           3917,
           2017,
           3365,
           2354,
           18527,
           3799,
           9655,
           2739,
           12458,
           56264,
           4782,
           13226,
           103610,
           6258,
           920,
           3981,
           12287,
           4434,
           6791,
           1176,
           5832,
           580,
           1888,
           2138,
           1501,
           1873,
           1385,
           19427,
           2756,
           1209,
           3743,
           2454,
           3486,
           1763,
           2707,
           5044,
           2346,
           37046,
           2285,
           4023,
           2159,
           821,
           23028,
           1675,
           0,
           731,
           22671,
           1765,
           12667,
           3630,
           858,
           7888,
           2467,
           7177,
           2971,
           3349,
           4079,
           876,
           349,
           1532,
           1291,
           536,
           2618,
           16353,
           2686,
           2896,
           1943,
           4274,
           1672,
           1395,
           2873,
           1393,
           1924,
           5562,
           1599,
           1252,
           1016,
           2168,
           1713,
           5618,
           2690,
           11305,
           853,
           623,
           2112,
           4703,
           2498,
           13540,
           1361,
           1879,
           1639,
           1241,
           628,
           781,
           1377,
           1237,
           1823,
           1507,
           1885,
           1802,
           2957,
           1051,
           1207,
           917,
           1502,
           2253,
           4223,
           1341,
           14647,
           3013,
           971,
           2164,
           3856,
           21300,
           1301,
           780,
           1599,
           1648,
           2332,
           3663,
           4889,
           1644,
           1267,
           836,
           964,
           1037,
           4892,
           1997,
           789,
           1945,
           1136,
           4035,
           857,
           58384,
           11249,
           1572,
           567,
           1310,
           20342,
           1320,
           5179,
           10732,
           2127,
           668,
           955,
           1302,
           566,
           4351,
           5856,
           2575,
           551,
           5220,
           1448,
           2005,
           15262,
           763,
           1867,
           1260,
           854,
           1540,
           374,
           2608,
           1445,
           1243,
           7654,
           278,
           274,
           2643,
           371,
           250,
           815,
           1004,
           752,
           172,
           4012,
           4901,
           281,
           1833,
           1055,
           9408,
           267,
           181,
           3765,
           1229,
           6114,
           5787,
           2605,
           3667,
           388,
           265,
           949,
           596,
           104,
           576,
           210,
           624,
           3710,
           416,
           213,
           1419,
           1766,
           216,
           59976,
           573,
           780,
           236,
           2774,
           128,
           7348,
           266,
           835,
           305,
           4329,
           1120,
           1138,
           3341,
           514,
           2813,
           569,
           3486,
           592,
           270,
           1532,
           1825,
           372,
           1220,
           1268,
           294,
           559,
           0,
           1179,
           711,
           2004,
           815,
           333,
           8605,
           671,
           1076,
           6706,
           662,
           434,
           865,
           6369,
           604,
           58092,
           3879,
           17775,
           437,
           662,
           279,
           344,
           186,
           559,
           2239,
           1105,
           407,
           0,
           698,
           179,
           555,
           218,
           1039,
           225,
           21072,
           1960,
           2122,
           1799,
           421,
           4517,
           1052,
           3181,
           14447,
           1765,
           5146,
           3509,
           673,
           1055,
           1323,
           7416,
           1480,
           1486,
           3593,
           8769,
           485,
           1042,
           2379,
           1519,
           7089,
           3042,
           2721,
           1454,
           687,
           697,
           11022,
           924,
           987,
           1188,
           36544,
           1233,
           3503,
           4198,
           547,
           746,
           1555,
           2539,
           4397,
           2256,
           1234,
           3726,
           897,
           10017,
           2952,
           1835,
           2027,
           4988,
           1389,
           402,
           4739,
           1336,
           83167,
           4808,
           2108,
           16908,
           1164,
           3879,
           1370,
           7583,
           1488,
           1295,
           961,
           1976,
           1365,
           2413,
           889,
           2953,
           1558,
           9594,
           1038,
           2392,
           2896,
           1062,
           1764,
           6962,
           2006,
           904,
           2097,
           489,
           2639,
           1069,
           1346,
           2862,
           2330,
           3084,
           5017,
           599,
           2516,
           7695,
           744,
           508,
           1048,
           2795,
           5875,
           1354,
           6600,
           237,
           1640,
           2331,
           1891,
           5484,
           4826,
           2159,
           1656,
           3189,
           1172,
           1341,
           707,
           9,
           1452,
           16345,
           1461,
           2215,
           1421,
           4058,
           549,
           2167,
           6819,
           3276,
           12966,
           2333,
           4353,
           3336,
           1713,
           14488,
           27284,
           23292,
           1141,
           634,
           1180,
           1483,
           1928,
           2908,
           41285,
           1139,
           3274,
           3701,
           2576,
           2274,
           7420,
           3960,
           2085,
           47666,
           3254,
           1711,
           24638,
           10254,
           4718,
           14450,
           1576,
           2884,
           4172,
           31139,
           19118,
           0,
           2576,
           2741,
           12765,
           907,
           2524,
           3007,
           4153,
           5669,
           985,
           2048,
           3898,
           9223,
           5590,
           5124,
           26548,
           13310,
           372,
           11036,
           388,
           2457,
           5803,
           3232,
           4504,
           4273,
           3007,
           1193,
           1211,
           1588,
           8423,
           1904,
           17270,
           1396,
           1377,
           6612,
           1149,
           1083,
           0,
           3650,
           6356,
           591,
           1476,
           2287,
           3,
           1052,
           945,
           13547,
           7057,
           43998,
           65990,
           53162,
           4239,
           2352,
           9528,
           6359,
           10976,
           2853,
           19849,
           2048,
           16668,
           19352,
           1361,
           71243,
           85600,
           3012,
           2626,
           6067,
           2185,
           0,
           14671,
           7737,
           3701,
           13951,
           6562,
           66928,
           2934,
           97993,
           2585,
           52459,
           9177,
           135427,
           55037,
           49311,
           93172,
           47146,
           77456,
           739,
           519,
           11191,
           2273,
           1636,
           1209,
           823,
           5965,
           11267,
           1284,
           15531,
           4919,
           14573,
           5504,
           1677,
           1931,
           2515,
           2482,
           7659,
           995,
           4057,
           2755,
           10157,
           2379,
           320,
           41760,
           2305,
           1406,
           6480,
           4094,
           4403,
           3143,
           4093,
           24913,
           6337,
           2007,
           1054,
           6340,
           15844,
           23198,
           1144,
           73728,
           174,
           638,
           9244,
           1243,
           9388,
           16757,
           481,
           714,
           100235,
           1210,
           5088,
           2140,
           3217,
           2130,
           26748,
           7577,
           1513,
           15436,
           6093,
           618,
           16313,
           4901,
           118774,
           2769,
           1747,
           482,
           1962,
           691,
           2349,
           32947,
           1633,
           1057,
           1900,
           21392,
           4261,
           438,
           6438,
           18483,
           6256,
           5668,
           23,
           7149,
           26515,
           166071,
           2903,
           1389,
           42864,
           3871,
           4083,
           5831,
           605,
           7637,
           3081,
           3544,
           10688,
           2871,
           1540,
           6219,
           8275,
           890,
           172,
           1674,
           6834,
           46938,
           1877,
           4760,
           1560,
           1577,
           3478,
           4840,
           595,
           125276,
           1747,
           1971,
           4411,
           4614,
           1228,
           1469,
           6690,
           490,
           958,
           757,
           833,
           345,
           2979,
           584,
           3642,
           565,
           888,
           2354,
           4324,
           2639,
           3120,
           4256,
           4718,
           1070,
           3319,
           4083,
           548,
           13427,
           5874,
           1538,
           3355,
           1168,
           3893,
           1129,
           52603,
           402,
           1767,
           1827,
           8220,
           1285,
           2113,
           17572,
           12042,
           1468,
           18171,
           22583,
           3987,
           925,
           1072,
           2867,
           377,
           478,
           2079,
           1640,
           2391,
           27471,
           1356,
           834,
           4619,
           16405,
           1151,
           3128,
           3313,
           1276,
           2154,
           1025,
           4848,
           1745,
           1224,
           2118,
           798,
           1033,
           1792,
           1888,
           3024,
           3015,
           2692,
           22415,
           7894,
           852,
           2535,
           1321,
           2641,
           3901,
           18614,
           21070,
           1910,
           975,
           169,
           3053,
           13845,
           2226,
           664,
           1089,
           8493,
           969,
           6335,
           6404,
           7275,
           1323,
           2733,
           10124,
           3519,
           4025,
           6561,
           10335,
           2726,
           4598,
           4180,
           1293,
           4089,
           2502,
           1287,
           4678,
           4680,
           4652,
           1283,
           3392,
           4292,
           2868,
           826,
           14077,
           3215,
           510,
           3021,
           1659,
           1920,
           3399,
           1802,
           3434,
           2934,
           2331,
           1086,
           0,
           4173,
           1361,
           4457,
           5448,
           2659,
           1151,
           702,
           2311,
           1682,
           3165,
           2502,
           2002,
           463,
           2810,
           3118,
           1259,
           1364,
           1750,
           1166,
           18676,
           9948,
           4319,
           884,
           5162,
           4494,
           9037,
           1078,
           552,
           9616,
           1173,
           754,
           9418,
           719,
           10550,
           2040,
           9442,
           1964,
           2683,
           642,
           1556,
           763,
           1152,
           1069,
           1035,
           3111,
           10902,
           1591,
           868,
           32001,
           1144,
           908,
           2103,
           719,
           466,
           1091,
           3713,
           928,
           39968,
           17080,
           23885,
           4909,
           45736,
           388,
           3757,
           3238,
           3789,
           1077,
           6364,
           1607,
           2159,
           1656,
           1696,
           659,
           3690,
           2657,
           313,
           2733,
           1508,
           1848,
           1026,
           1083,
           1845,
           2157,
           5936,
           2760,
           856,
           1659,
           688,
           1628,
           2282,
           5261,
           4062,
           1830,
           4313,
           3810,
           3682,
           486,
           1079,
           2717,
           2062,
           395,
           1116,
           2900,
           347,
           306,
           4760,
           625,
           686,
           43710,
           820,
           9001,
           102240,
           25578,
           1849,
           2564,
           2749,
           872,
           6215,
           2051,
           0,
           2033,
           3279,
           2802,
           1050,
           4182,
           190,
           1780,
           928,
           2591,
           823,
           524,
           915,
           151,
           9524,
           516,
           1208,
           197,
           1107,
           1128,
           291,
           1132,
           12466,
           14922,
           80,
           1547,
           57,
           204,
           2037,
           1115,
           92,
           2139,
           7069,
           119,
           1651,
           796,
           183,
           152,
           293,
           9383,
           376,
           1463,
           12,
           527,
           509,
           135,
           941,
           141,
           3265,
           1246,
           1670,
           1233,
           678,
           424,
           4167,
           753,
           404,
           506,
           729,
           55,
           0,
           902,
           183,
           121,
           18093,
           2993,
           536,
           22,
           36,
           21,
           584,
           944,
           176,
           220,
           5521,
           671,
           850,
           2676,
           776,
           463,
           301,
           938,
           706,
           1593,
           1056,
           852,
           3939,
           749,
           2888,
           107,
           611,
           4964,
           71755,
           185,
           507,
           242,
           193,
           508,
           2188,
           113,
           153,
           187,
           41,
           214,
           7863,
           967,
           219,
           61,
           255,
           865,
           54,
           559,
           669,
           641,
           690,
           723,
           54,
           423,
           888,
           31468,
           3874,
           82,
           42,
           4303,
           29,
           787,
           513,
           414,
           696,
           434,
           1473,
           234,
           294,
           1001,
           642,
           4152,
           585,
           1214,
           738,
           102,
           2044,
           22854,
           2534,
           4193,
           1761,
           530,
           212,
           39,
           372,
           495,
           53,
           848,
           3447,
           327,
           2198,
           1090,
           391,
           39,
           1768,
           6627,
           2134,
           260838,
           3019,
           5189,
           38,
           55,
           1219,
           482,
           376,
           3367,
           309,
           3022,
           971,
           120,
           0,
           46361,
           636,
           4183,
           2496,
           3900,
           2060,
           4084,
           36418,
           9690,
           24412,
           10099,
           1886,
           327,
           31675,
           105095,
           44455,
           55979,
           9304,
           17256,
           94514,
           30746,
           88461,
           9908,
           34215,
           92721,
           76258,
           50413,
           76603,
           73465,
           6123,
           30277,
           14130,
           823,
           71841,
           10049,
           59153,
           97,
           9073,
           2914,
           799,
           5332,
           178,
           25130,
           6960,
           1756,
           471,
           13,
           368,
           8449,
           1766,
           538,
           3386,
           12388,
           175,
           4075,
           537,
           3805,
           2033,
           15745,
           1410,
           12265,
           10632,
           781,
           1330,
           1727,
           891,
           4350,
           260,
           6928,
           24739,
           3562,
           184114,
           18669,
           5728,
           6357,
           8966,
           7786,
           3516,
           4855,
           4083,
           3935,
           2395,
           29524,
           89729,
           1597,
           2564,
           4432,
           5442,
           3406,
           316,
           5209,
           6187,
           281604,
           2827,
           4540,
           4571,
           69233,
           4259,
           184153,
           139000,
           20073,
           22674,
           39089,
           7415,
           48440,
           3125,
           7641,
           3471,
           0,
           10634,
           278222,
           11253,
           75510,
           47086,
           15417,
           13219,
           1705,
           1082,
           2013,
           6672,
           6974,
           201580,
           6699,
           3843,
           4364,
           13936,
           92,
           3680,
           3167,
           5800,
           129938,
           3596,
           1180,
           19042,
           4456,
           1095,
           2638,
           2252,
           2164,
           4791,
           1795,
           3516,
           9342,
           18089,
           10152,
           22396,
           9521,
           695,
           5261,
           2200,
           19823,
           4756,
           2638,
           1488,
           906,
           11717,
           6459,
           9470,
           30343,
           1580,
           2191,
           17032,
           4180,
           6387,
           25793,
           5704,
           37030,
           7047,
           27198,
           749,
           666,
           5991,
           2421,
           48742,
           5686,
           12069,
           4498,
           10314,
           2117,
           4908,
           671,
           19284,
           3660,
           22291,
           899,
           6154,
           6270,
           10289,
           3166,
           1601,
           2329,
           5289,
           114737,
           1480,
           3384,
           9067,
           11709,
           19559,
           1895,
           17902,
           8601,
           1119,
           3451,
           5554,
           1037,
           3513,
           20514,
           1500,
           15352,
           4828,
           16886,
           8100,
           17258,
           7444,
           8164,
           3910,
           7933,
           4234,
           8411,
           1210,
           2387,
           326,
           0,
           24944,
           4995,
           89608,
           1817,
           1140,
           5024,
           11496,
           6954,
           9929,
           4136,
           1640,
           271,
           1422,
           1104,
           54,
           724,
           407,
           247,
           16040,
           24792,
           432,
           800,
           187,
           401,
           470,
           441,
           600,
           261,
           10721,
           211,
           330,
           332,
           279,
           538,
           267,
           658,
           354,
           1464,
           1294,
           1164,
           5349,
           1391,
           482,
           158,
           824,
           550,
           1729,
           700,
           322,
           2027,
           2161,
           501,
           122,
           665,
           32,
           4959,
           195,
           3546,
           327,
           1054,
           0,
           1913,
           9976,
           458,
           5039,
           183,
           2441,
           11948,
           4370,
           7216,
           5250,
           5045,
           6172,
           4033,
           39535,
           1981,
           3456,
           14269,
           20190,
           3821,
           9054,
           2702,
           4063,
           116147,
           5429,
           4325,
           18935,
           8065,
           16607,
           2863,
           129263,
           4328,
           2413,
           6871,
           15331,
           3265,
           81572,
           7010,
           2770,
           1143,
           2742,
           3610,
           2206,
           2715,
           5577,
           3193,
           5691,
           4581,
           21259,
           5757,
           16699,
           3888,
           25735,
           43462,
           4451,
           22436,
           8655,
           15660,
           1491,
           4881,
           10880,
           1364,
           52697,
           1102,
           2923,
           8930,
           1364,
           3739,
           1770,
           2974,
           8684,
           2429,
           13276,
           3883,
           4337,
           11632,
           6964,
           5452,
           6565,
           5353,
           4782,
           33470,
           48541,
           16605,
           8674,
           0,
           5859,
           2478,
           865,
           24665,
           5330,
           9181,
           3507,
           13302,
           2350,
           3226,
           1155,
           1885,
           475,
           2902,
           1055,
           6219,
           3997,
           17461,
           6337,
           5711,
           1633,
           219,
           31412,
           705,
           14407,
           697,
           2053,
           7100,
           4088,
           4780,
           553,
           357,
           7835,
           3640,
           6001,
           549,
           584,
           327,
           422,
           1267,
           1253,
           3133,
           710,
           1385,
           5350,
           2057,
           821,
           844,
           5680,
           3281,
           4319,
           1533,
           956,
           2060,
           4303,
           5359,
           4006,
           2028,
           2041,
           9434,
           1383,
           1170,
           1805,
           87823,
           3908,
           4812,
           4231,
           0,
           1801,
           8724,
           4684,
           5181,
           8430,
           1017,
           390,
           10717,
           2889,
           4213,
           4924,
           3544,
           807,
           76351,
           993,
           8290,
           5309,
           1089,
           1220,
           3173,
           1038,
           3285,
           19112,
           1077,
           1953,
           2191,
           1308,
           746,
           10125,
           3992,
           82,
           552,
           439,
           1232,
           11664,
           2397,
           3677,
           4811,
           472,
           14070,
           1458,
           5770,
           3624,
           23644,
           1167,
           40616,
           4062,
           70,
           679,
           8707,
           0,
           1518,
           196,
           1461,
           26977,
           35,
           4830,
           9690,
           101959,
           6014,
           15559,
           4729,
           48491,
           13523,
           6131,
           60848,
           17633,
           14831,
           309,
           6402,
           16929,
           40835,
           3206,
           8653,
           3712,
           5906,
           7555,
           20632,
           26147,
           52423,
           2871,
           21235,
           13443,
           1435,
           15480,
           1377,
           3361,
           5173,
           6417,
           3345,
           2142,
           18568,
           55447,
           7701,
           16204,
           39869,
           32141,
           11970,
           3814,
           9730,
           5440,
           14839,
           70451,
           2010,
           35915,
           9721,
           3854,
           154800,
           4040,
           1223,
           14823,
           3686,
           8081,
           442,
           2659,
           3132,
           0,
           6162,
           4105,
           2643,
           17941,
           4163,
           34445,
           1999,
           47070,
           468,
           1331,
           1534,
           1210,
           675,
           799,
           2997,
           304,
           772,
           1226,
           10373,
           922,
           6289,
           1196,
           1957,
           8693,
           1240,
           1288,
           393,
           772,
           1287,
           878,
           713,
           1561,
           39,
           2051,
           1229,
           560,
           232,
           837,
           383,
           4273,
           2185,
           1145,
           418,
           2071,
           1407,
           367,
           1127,
           2264,
           441,
           786,
           255,
           1629,
           1278,
           753,
           1437,
           105,
           366,
           1984,
           1403,
           1469,
           1070,
           1566,
           890,
           295,
           366,
           569,
           3422,
           908,
           545,
           2163,
           397,
           743,
           632,
           18496,
           1757,
           1316,
           472,
           3940,
           3890,
           2999,
           4021,
           900,
           1772,
           2966,
           122,
           753,
           1122,
           837,
           0,
           5187,
           18828,
           6975,
           99519,
           12008,
           10126,
           2599,
           17594,
           945,
           23300,
           1598,
           2620,
           17175,
           18048,
           1338,
           44039,
           6226,
           4271,
           4930,
           3483,
           3716,
           8627,
           4436,
           18470,
           3177,
           2427,
           18043,
           6811,
           75709,
           8316,
           1929,
           39829,
           2436,
           7565,
           10973,
           7549,
           1945,
           33829,
           3571,
           3511,
           1035,
           5116,
           9957,
           9882,
           19096,
           47820,
           1810,
           42077,
           10649,
           0,
           3182,
           4125,
           32177,
           475,
           2965,
           392,
           1555,
           4237,
           5645,
           719,
           427,
           1093,
           132,
           1393,
           464,
           1933,
           4657,
           487,
           880,
           3252,
           713,
           533,
           1479,
           456,
           515,
           606,
           373,
           1057,
           589,
           266,
           802,
           365,
           392,
           97,
           2526,
           920,
           141,
           291,
           282,
           96,
           819,
           1390,
           3018,
           8722,
           659,
           375,
           814,
           247,
           2801,
           260,
           307,
           31764,
           667,
           2121,
           13949,
           359,
           391,
           1396,
           347,
           848,
           355,
           145,
           1235,
           757,
           1182,
           0,
           2228,
           773,
           3115,
           343,
           8820,
           6722,
           1688,
           2225,
           15952,
           15321,
           4197,
           1941,
           3714,
           6767,
           4672,
           2205,
           3230,
           1121,
           4545,
           6986,
           2061,
           6883,
           90372,
           2874,
           1622,
           7106,
           5527,
           5214,
           2521,
           5231,
           6674,
           4049,
           2678,
           8045,
           1804,
           8684,
           45461,
           620,
           3547,
           3610,
           6335,
           2716,
           3865,
           3403,
           2894,
           1122,
           1942,
           1368,
           6333,
           2446,
           52157,
           1728,
           3268,
           6106,
           1626,
           4408,
           6239,
           3669,
           11590,
           3268,
           4337,
           13749,
           6672,
           2879,
           1429,
           5987,
           21067,
           1033,
           2555,
           4624,
           17895,
           3091,
           1072,
           773,
           2112,
           11843,
           4388,
           6378,
           9974,
           43727,
           3225,
           1762,
           13597,
           98792,
           2810,
           1379,
           17352,
           24553,
           7473,
           2534,
           12707,
           2070,
           1957,
           872,
           5602,
           14865,
           3003,
           4240,
           3793,
           28671,
           19393,
           6242,
           1840,
           8705,
           1297,
           813,
           208,
           5835,
           2244,
           864,
           1450,
           9812,
           300,
           3538,
           25135,
           227474,
           778,
           30,
           1698,
           7754,
           38833,
           28043,
           937,
           169,
           859,
           4370,
           2488,
           4928,
           5793,
           2478,
           1214,
           42400,
           1327,
           605,
           2190,
           1069,
           5251,
           4311,
           1378,
           1042,
           335,
           469,
           757,
           93173,
           331,
           1772,
           11385,
           1570,
           504,
           3806,
           7378,
           190,
           544,
           595,
           759,
           367,
           987,
           306870,
           1742,
           1990,
           2954,
           352,
           77111,
           188,
           2585,
           424,
           1276,
           1371,
           17592,
           248,
           136711,
           23151,
           4262,
           2102,
           3482,
           2779,
           306,
           900,
           124,
           70032,
           816,
           1985,
           2879,
           1468,
           41239,
           559,
           2593,
           104,
           482,
           2745,
           2544,
           11374,
           11487,
           3824,
           15658,
           6187,
           498,
           806,
           944,
           387,
           6109,
           403645,
           5474,
           661,
           462,
           21245,
           586,
           6073,
           93595,
           4570,
           3132,
           6662,
           3540,
           1965,
           4708,
           541,
           6267,
           2427,
           129,
           587,
           1870,
           2549,
           195,
           20450,
           621,
           4424,
           20204,
           2588,
           2394,
           16554,
           3352,
           39,
           106,
           4610,
           295,
           11,
           347,
           2697,
           263,
           999,
           5961,
           2492,
           2225,
           2500,
           2245,
           1654,
           8200,
           2831,
           350,
           1138,
           1713,
           2,
           49534,
           628,
           1991,
           618,
           652,
           422,
           4290,
           10829,
           591,
           27716,
           85,
           4676,
           213,
           17810,
           2584,
           660,
           609,
           2131,
           55665,
           2766,
           953,
           118,
           5206,
           5947,
           641,
           1550,
           44196,
           1206,
           289,
           8859,
           2955,
           1863,
           16301,
           1330,
           1690,
           3417,
           17692,
           820,
           824,
           17104,
           387,
           310,
           806,
           2214,
           686,
           63,
           2247,
           11870,
           1308,
           4441,
           526,
           587,
           1470,
           4526,
           782,
           243,
           2433,
           276,
           2025,
           235,
           20765,
           1089,
           9577,
           801,
           109,
           157,
           475,
           893,
           263690,
           15953,
           74,
           1702,
           73,
           4230,
           16959,
           84842,
           866,
           1338,
           0,
           3542,
           375,
           3677,
           7974,
           4486,
           9296,
           8701,
           4228,
           1219,
           4291,
           47029,
           4287,
           573,
           15261,
           1933,
           3206,
           47343,
           4701,
           783,
           7565,
           3519,
           877,
           2197,
           1804,
           1883,
           22470,
           9255,
           39938,
           154070,
           1939,
           3786,
           29967,
           5653,
           7698,
           4547,
           953,
           98989,
           4741,
           32104,
           1067,
           2053,
           1082,
           7544,
           295,
           2033,
           217,
           889,
           822,
           1292,
           2288,
           20,
           1898,
           1398,
           1521,
           3916,
           2872,
           5831,
           11894,
           1387,
           927,
           2990,
           1629,
           15318,
           5991,
           274,
           6689,
           689,
           2616,
           1581,
           1339,
           1541,
           2140,
           937,
           4986,
           2704,
           2720,
           511,
           872,
           4044,
           21282,
           28318,
           1023,
           1721,
           611,
           326,
           4735,
           516,
           4506,
           996,
           2164,
           679,
           789,
           77196,
           574,
           430,
           4789,
           884,
           1929,
           4115,
           1142,
           8123,
           2156,
           1175,
           1336,
           2279,
           1483,
           1513,
           1300,
           1583,
           2840,
           10739,
           8283,
           6537,
           26016,
           4679,
           110,
           2711,
           3182,
           4688,
           1733,
           1249,
           419,
           719,
           2433,
           1205,
           28102,
           2030,
           790,
           7485,
           616,
           4314,
           1221,
           1630,
           604,
           2362,
           576,
           9430,
           892,
           1528,
           14385,
           18074,
           809,
           749,
           292,
           1927,
           2247,
           2130,
           1404,
           3959,
           5639,
           900,
           9223,
           1928,
           2173,
           3634,
           45828,
           2727,
           2180,
           360,
           1444,
           17054,
           8448,
           8638,
           1572,
           6886,
           2312,
           2218,
           1876,
           4310,
           2987,
           1990,
           10225,
           11549,
           2531,
           8014,
           424,
           1204,
           3762,
           0,
           36472,
           3142,
           5034,
           2403,
           1311,
           768,
           2946,
           3276,
           2744,
           3808,
           2270,
           1510,
           17946,
           6952,
           1448,
           26009,
           133,
           6701,
           3712,
           404,
           12880,
           133,
           9392,
           4593,
           1877,
           450,
           112712,
           8854,
           3354,
           889,
           5342,
           677,
           2945,
           2807,
           1008,
           831,
           57045,
           186,
           6055,
           391,
           40331,
           46939,
           2396,
           11100,
           1517,
           156,
           5507,
           9931,
           4341,
           30759,
           1515,
           12847,
           2179,
           1018,
           2247,
           8888,
           392,
           543,
           644,
           3557,
           885,
           1317,
           2900,
           1927,
           2844,
           1583,
           6198,
           2260,
           4800,
           15496,
           1290,
           1607,
           3300,
           4655,
           3538,
           2064,
           1615,
           5193,
           2985,
           2764,
           9399,
           1223,
           1227,
           1905,
           4314,
           725,
           959,
           681,
           2959,
           5331,
           7096,
           2858,
           761,
           665,
           864,
           1282,
           547,
           748,
           0,
           1970,
           3182,
           546,
           1392,
           457,
           7948,
           2059,
           1969,
           1402,
           6066,
           1290,
           35721,
           1418,
           1590,
           6537,
           7714,
           3705,
           5925,
           1803,
           46836,
           12954,
           2853,
           5009,
           5139,
           11993,
           507,
           13889,
           1047,
           5764,
           3659,
           2064,
           2155,
           706,
           2721,
           9700,
           3356,
           18836,
           2729,
           13554,
           1728,
           2221,
           3290,
           8929,
           16435,
           4714,
           1610,
           813,
           117936,
           4764,
           5122,
           3829,
           23915,
           9300,
           892,
           4999,
           4835,
           7447,
           1348,
           25358,
           1409,
           18391,
           1465,
           6257,
           1858,
           5345,
           14829,
           9849,
           2139,
           3669,
           0,
           2027,
           2444,
           12516,
           1596,
           16932,
           49238,
           6121,
           2589,
           21514,
           7724,
           4652,
           1204,
           5191,
           1640,
           1038,
           459,
           5302,
           1246,
           372,
           745,
           10583,
           1432,
           8262,
           163,
           2903,
           684,
           3273,
           797,
           4788,
           3802,
           2321,
           0,
           927,
           661
          ],
          "coloraxis": "coloraxis",
          "size": [
           7262,
           22043,
           2347,
           2693,
           6988,
           1250,
           2264,
           14778,
           3738,
           1874,
           4481,
           624,
           3531,
           1603,
           1542,
           5684,
           6430,
           1146,
           1123,
           4320,
           1588,
           10014,
           4951,
           3623,
           9033,
           10322,
           4038,
           14249,
           2202,
           4328,
           2593,
           938,
           2273,
           1955,
           10858,
           7047,
           81328,
           1476,
           9653,
           3144,
           16343,
           10210,
           1421,
           1636,
           35869,
           2511,
           3286,
           12500,
           42424,
           1827,
           25129,
           14669,
           0,
           1088,
           2372,
           3151,
           1882,
           4561,
           25745,
           10205,
           1062,
           8485,
           4154,
           26243,
           0,
           7372,
           1706,
           1272,
           2841,
           368,
           729,
           31286,
           3921,
           0,
           203,
           443,
           254,
           114,
           234,
           8090,
           31,
           1505,
           4618,
           675,
           1128,
           1417,
           11881,
           409,
           1090,
           627,
           174,
           185,
           385,
           22,
           773,
           299,
           0,
           67,
           84,
           372,
           11507,
           12219,
           18073,
           7111,
           5599,
           579,
           2493,
           561596,
           23917,
           16751,
           0,
           117941,
           54133,
           8098,
           0,
           19646,
           37347,
           2247,
           2062,
           3551,
           30014,
           4132,
           1474,
           425,
           2925,
           1631,
           2233,
           1811,
           2088,
           1001,
           2426,
           2270,
           13897,
           7276,
           6205,
           1996,
           816,
           1381,
           2085,
           13242,
           1721,
           1181,
           10641,
           1805,
           6314,
           2090,
           5433,
           1689,
           3992,
           1731,
           3272,
           9315,
           2982,
           563,
           2177,
           1715,
           3264,
           1279,
           2301,
           7855,
           1512,
           1162,
           4473,
           5932,
           891,
           767,
           894,
           791,
           2470,
           890,
           1887,
           1048,
           3251,
           2045,
           8190,
           919,
           41646,
           2220,
           12782,
           988,
           777,
           15635,
           2843,
           1666,
           3660,
           1121,
           2965,
           4136,
           1408,
           31746,
           8480,
           654,
           3468,
           92011,
           89,
           3803,
           14712,
           2226,
           2303,
           72646,
           1455,
           11297,
           111726,
           3028,
           4615,
           31626,
           1417,
           111111,
           24279,
           3658,
           5821,
           1252739,
           17702,
           14453,
           467,
           4219,
           32318,
           557,
           1286,
           45168,
           10112,
           5181,
           273738,
           25520,
           723,
           308143,
           110707,
           6254,
           303822,
           282692,
           38672,
           77869,
           22154,
           43384,
           35833,
           120002,
           17157,
           14313,
           74,
           2309,
           34180,
           31496,
           63414,
           9762,
           5747,
           410,
           59546,
           4150,
           21,
           84734,
           14614,
           6358,
           61047,
           1733,
           62977,
           1055,
           325,
           1545,
           24054,
           5013,
           1778,
           130,
           478,
           740,
           251,
           2216,
           229,
           2958,
           74504,
           130,
           30602,
           6368,
           73673,
           1890,
           6558,
           6223,
           285,
           1507,
           1401,
           20,
           440,
           67,
           49017,
           95,
           647,
           4175,
           836,
           27831,
           1179,
           1036,
           4065,
           17405,
           94,
           1055,
           2103,
           3759,
           2756,
           2088,
           297,
           0,
           833,
           400,
           2622,
           1279,
           19633,
           630,
           910,
           2306,
           457,
           47,
           926,
           236,
           3774,
           1926,
           77,
           474,
           33569,
           970,
           100549,
           84551,
           14696,
           12874,
           92430,
           22590,
           9655,
           1180,
           10951,
           18272,
           65131,
           26261,
           227,
           49,
           49378,
           25834,
           3682,
           20899,
           3119,
           44447,
           250300,
           1727,
           13697,
           11649,
           19906,
           38011,
           8398,
           4475,
           1650,
           104659,
           36948,
           7701,
           1375,
           5854,
           1656,
           1003,
           2020,
           1656,
           3408,
           4963,
           15081,
           8917,
           147394,
           2313,
           13128,
           6512,
           1532,
           1631,
           31924,
           75330,
           33402,
           3649,
           1095,
           2114,
           40588,
           32460,
           13047,
           511394,
           7261,
           9036,
           21318,
           4314,
           146910,
           47608,
           151746,
           43789,
           82969,
           72946,
           6898,
           18936,
           34230,
           36667,
           24170,
           28361,
           9676,
           5458,
           2769,
           3017,
           1892,
           46235,
           3593,
           8033,
           2768,
           2339,
           1051,
           1670,
           232,
           4585,
           1851,
           10243,
           14971,
           2113,
           1910,
           16204,
           1490,
           1673,
           1425,
           3771,
           6853,
           2626,
           3215,
           585,
           4123,
           994,
           11582,
           6637,
           1612,
           23766,
           4542,
           2877,
           31589,
           15214,
           237,
           27545,
           987,
           80344,
           5376,
           4847,
           17155,
           1898,
           14411,
           670,
           2109,
           1469,
           3112,
           67331,
           2985,
           2120,
           1090,
           7724,
           15634,
           1196,
           478,
           4714,
           2299,
           2621,
           993,
           2463,
           9170,
           12093,
           22947,
           2695,
           99450,
           3075,
           269,
           8343,
           8262,
           2279,
           1837,
           103391,
           5099,
           27826,
           926,
           2688,
           2653,
           2415,
           891,
           25976,
           14942,
           1010,
           10019,
           1413,
           1923,
           1970,
           872,
           1127,
           2069,
           2072,
           797,
           5657,
           2770,
           4191,
           842,
           883,
           13065,
           3018,
           890,
           3272,
           571,
           2546,
           866,
           2067,
           853,
           2103,
           2715,
           905,
           2152,
           5026,
           16895,
           11397,
           4039,
           1506,
           29568,
           17427,
           2716,
           3518,
           2531,
           2365,
           5701,
           938,
           2237,
           168,
           1795,
           648,
           25173,
           7904,
           350,
           1019,
           959,
           6502,
           3159,
           1057,
           2624,
           499,
           124,
           2362,
           809,
           1333,
           823,
           4593,
           4965,
           3461,
           1276,
           859,
           7646,
           1049,
           732,
           3044,
           2292,
           3518,
           7793,
           10744,
           4983,
           550,
           2075,
           3640,
           148,
           630,
           3215,
           17029,
           836,
           1114,
           942,
           1804,
           103,
           8373,
           3293,
           28051,
           393,
           4909,
           1397,
           0,
           53642,
           343,
           8888,
           395,
           769,
           4856,
           2401,
           379,
           3392,
           15048,
           896,
           212,
           72,
           27679,
           714,
           2974,
           59,
           1085,
           257,
           2132,
           1230,
           1143,
           1849,
           1340,
           1343,
           3034,
           2657,
           19100,
           3219,
           534,
           438,
           512,
           7350,
           2358,
           3759,
           365,
           1090,
           2632,
           659,
           1198,
           1233,
           9819,
           0,
           877,
           1240,
           8840,
           476,
           2091,
           6850,
           752,
           3794,
           531,
           1788,
           2050,
           21163,
           3844,
           1852,
           1508,
           5798,
           5779,
           557173,
           2145,
           1304,
           1575,
           10164,
           2610,
           92595,
           1772,
           584,
           4774,
           3228,
           1892,
           4555,
           4052,
           470,
           1457,
           5995,
           847,
           1829,
           391,
           529,
           5082,
           3161,
           5123,
           1167,
           4459,
           2725,
           1830,
           1482,
           59564,
           14613,
           13313,
           5666,
           12802,
           68466,
           2407,
           4197,
           4908,
           4009,
           11018,
           4812,
           31180,
           4546,
           1084,
           1560,
           1364,
           2954,
           29212,
           18573,
           1257,
           1500,
           4405,
           3801,
           3983,
           1637,
           6236,
           2,
           23478,
           3204,
           1526,
           1837,
           332,
           703,
           489,
           4175,
           1769,
           15260,
           2613,
           19165,
           783,
           492,
           2329,
           28609,
           648,
           4842,
           17257,
           61,
           2314,
           10054,
           1380,
           1848,
           1651,
           1822,
           1707,
           7210,
           77081,
           7663,
           34231,
           4864,
           3457,
           41854,
           8180,
           1061,
           1365,
           7035,
           1046,
           1942,
           6040,
           13251,
           2694,
           4464,
           1025,
           3054,
           4425,
           5914,
           2900,
           10993,
           6228,
           29478,
           2851,
           7840,
           2270,
           1705,
           2045,
           4479,
           7269,
           2882,
           36732,
           8612,
           4422,
           17762,
           5906,
           10421,
           4042,
           5098,
           3917,
           2017,
           3365,
           2354,
           18527,
           3799,
           9655,
           2739,
           12458,
           56264,
           4782,
           13226,
           103610,
           6258,
           920,
           3981,
           12287,
           4434,
           6791,
           1176,
           5832,
           580,
           1888,
           2138,
           1501,
           1873,
           1385,
           19427,
           2756,
           1209,
           3743,
           2454,
           3486,
           1763,
           2707,
           5044,
           2346,
           37046,
           2285,
           4023,
           2159,
           821,
           23028,
           1675,
           0,
           731,
           22671,
           1765,
           12667,
           3630,
           858,
           7888,
           2467,
           7177,
           2971,
           3349,
           4079,
           876,
           349,
           1532,
           1291,
           536,
           2618,
           16353,
           2686,
           2896,
           1943,
           4274,
           1672,
           1395,
           2873,
           1393,
           1924,
           5562,
           1599,
           1252,
           1016,
           2168,
           1713,
           5618,
           2690,
           11305,
           853,
           623,
           2112,
           4703,
           2498,
           13540,
           1361,
           1879,
           1639,
           1241,
           628,
           781,
           1377,
           1237,
           1823,
           1507,
           1885,
           1802,
           2957,
           1051,
           1207,
           917,
           1502,
           2253,
           4223,
           1341,
           14647,
           3013,
           971,
           2164,
           3856,
           21300,
           1301,
           780,
           1599,
           1648,
           2332,
           3663,
           4889,
           1644,
           1267,
           836,
           964,
           1037,
           4892,
           1997,
           789,
           1945,
           1136,
           4035,
           857,
           58384,
           11249,
           1572,
           567,
           1310,
           20342,
           1320,
           5179,
           10732,
           2127,
           668,
           955,
           1302,
           566,
           4351,
           5856,
           2575,
           551,
           5220,
           1448,
           2005,
           15262,
           763,
           1867,
           1260,
           854,
           1540,
           374,
           2608,
           1445,
           1243,
           7654,
           278,
           274,
           2643,
           371,
           250,
           815,
           1004,
           752,
           172,
           4012,
           4901,
           281,
           1833,
           1055,
           9408,
           267,
           181,
           3765,
           1229,
           6114,
           5787,
           2605,
           3667,
           388,
           265,
           949,
           596,
           104,
           576,
           210,
           624,
           3710,
           416,
           213,
           1419,
           1766,
           216,
           59976,
           573,
           780,
           236,
           2774,
           128,
           7348,
           266,
           835,
           305,
           4329,
           1120,
           1138,
           3341,
           514,
           2813,
           569,
           3486,
           592,
           270,
           1532,
           1825,
           372,
           1220,
           1268,
           294,
           559,
           0,
           1179,
           711,
           2004,
           815,
           333,
           8605,
           671,
           1076,
           6706,
           662,
           434,
           865,
           6369,
           604,
           58092,
           3879,
           17775,
           437,
           662,
           279,
           344,
           186,
           559,
           2239,
           1105,
           407,
           0,
           698,
           179,
           555,
           218,
           1039,
           225,
           21072,
           1960,
           2122,
           1799,
           421,
           4517,
           1052,
           3181,
           14447,
           1765,
           5146,
           3509,
           673,
           1055,
           1323,
           7416,
           1480,
           1486,
           3593,
           8769,
           485,
           1042,
           2379,
           1519,
           7089,
           3042,
           2721,
           1454,
           687,
           697,
           11022,
           924,
           987,
           1188,
           36544,
           1233,
           3503,
           4198,
           547,
           746,
           1555,
           2539,
           4397,
           2256,
           1234,
           3726,
           897,
           10017,
           2952,
           1835,
           2027,
           4988,
           1389,
           402,
           4739,
           1336,
           83167,
           4808,
           2108,
           16908,
           1164,
           3879,
           1370,
           7583,
           1488,
           1295,
           961,
           1976,
           1365,
           2413,
           889,
           2953,
           1558,
           9594,
           1038,
           2392,
           2896,
           1062,
           1764,
           6962,
           2006,
           904,
           2097,
           489,
           2639,
           1069,
           1346,
           2862,
           2330,
           3084,
           5017,
           599,
           2516,
           7695,
           744,
           508,
           1048,
           2795,
           5875,
           1354,
           6600,
           237,
           1640,
           2331,
           1891,
           5484,
           4826,
           2159,
           1656,
           3189,
           1172,
           1341,
           707,
           9,
           1452,
           16345,
           1461,
           2215,
           1421,
           4058,
           549,
           2167,
           6819,
           3276,
           12966,
           2333,
           4353,
           3336,
           1713,
           14488,
           27284,
           23292,
           1141,
           634,
           1180,
           1483,
           1928,
           2908,
           41285,
           1139,
           3274,
           3701,
           2576,
           2274,
           7420,
           3960,
           2085,
           47666,
           3254,
           1711,
           24638,
           10254,
           4718,
           14450,
           1576,
           2884,
           4172,
           31139,
           19118,
           0,
           2576,
           2741,
           12765,
           907,
           2524,
           3007,
           4153,
           5669,
           985,
           2048,
           3898,
           9223,
           5590,
           5124,
           26548,
           13310,
           372,
           11036,
           388,
           2457,
           5803,
           3232,
           4504,
           4273,
           3007,
           1193,
           1211,
           1588,
           8423,
           1904,
           17270,
           1396,
           1377,
           6612,
           1149,
           1083,
           0,
           3650,
           6356,
           591,
           1476,
           2287,
           3,
           1052,
           945,
           13547,
           7057,
           43998,
           65990,
           53162,
           4239,
           2352,
           9528,
           6359,
           10976,
           2853,
           19849,
           2048,
           16668,
           19352,
           1361,
           71243,
           85600,
           3012,
           2626,
           6067,
           2185,
           0,
           14671,
           7737,
           3701,
           13951,
           6562,
           66928,
           2934,
           97993,
           2585,
           52459,
           9177,
           135427,
           55037,
           49311,
           93172,
           47146,
           77456,
           739,
           519,
           11191,
           2273,
           1636,
           1209,
           823,
           5965,
           11267,
           1284,
           15531,
           4919,
           14573,
           5504,
           1677,
           1931,
           2515,
           2482,
           7659,
           995,
           4057,
           2755,
           10157,
           2379,
           320,
           41760,
           2305,
           1406,
           6480,
           4094,
           4403,
           3143,
           4093,
           24913,
           6337,
           2007,
           1054,
           6340,
           15844,
           23198,
           1144,
           73728,
           174,
           638,
           9244,
           1243,
           9388,
           16757,
           481,
           714,
           100235,
           1210,
           5088,
           2140,
           3217,
           2130,
           26748,
           7577,
           1513,
           15436,
           6093,
           618,
           16313,
           4901,
           118774,
           2769,
           1747,
           482,
           1962,
           691,
           2349,
           32947,
           1633,
           1057,
           1900,
           21392,
           4261,
           438,
           6438,
           18483,
           6256,
           5668,
           23,
           7149,
           26515,
           166071,
           2903,
           1389,
           42864,
           3871,
           4083,
           5831,
           605,
           7637,
           3081,
           3544,
           10688,
           2871,
           1540,
           6219,
           8275,
           890,
           172,
           1674,
           6834,
           46938,
           1877,
           4760,
           1560,
           1577,
           3478,
           4840,
           595,
           125276,
           1747,
           1971,
           4411,
           4614,
           1228,
           1469,
           6690,
           490,
           958,
           757,
           833,
           345,
           2979,
           584,
           3642,
           565,
           888,
           2354,
           4324,
           2639,
           3120,
           4256,
           4718,
           1070,
           3319,
           4083,
           548,
           13427,
           5874,
           1538,
           3355,
           1168,
           3893,
           1129,
           52603,
           402,
           1767,
           1827,
           8220,
           1285,
           2113,
           17572,
           12042,
           1468,
           18171,
           22583,
           3987,
           925,
           1072,
           2867,
           377,
           478,
           2079,
           1640,
           2391,
           27471,
           1356,
           834,
           4619,
           16405,
           1151,
           3128,
           3313,
           1276,
           2154,
           1025,
           4848,
           1745,
           1224,
           2118,
           798,
           1033,
           1792,
           1888,
           3024,
           3015,
           2692,
           22415,
           7894,
           852,
           2535,
           1321,
           2641,
           3901,
           18614,
           21070,
           1910,
           975,
           169,
           3053,
           13845,
           2226,
           664,
           1089,
           8493,
           969,
           6335,
           6404,
           7275,
           1323,
           2733,
           10124,
           3519,
           4025,
           6561,
           10335,
           2726,
           4598,
           4180,
           1293,
           4089,
           2502,
           1287,
           4678,
           4680,
           4652,
           1283,
           3392,
           4292,
           2868,
           826,
           14077,
           3215,
           510,
           3021,
           1659,
           1920,
           3399,
           1802,
           3434,
           2934,
           2331,
           1086,
           0,
           4173,
           1361,
           4457,
           5448,
           2659,
           1151,
           702,
           2311,
           1682,
           3165,
           2502,
           2002,
           463,
           2810,
           3118,
           1259,
           1364,
           1750,
           1166,
           18676,
           9948,
           4319,
           884,
           5162,
           4494,
           9037,
           1078,
           552,
           9616,
           1173,
           754,
           9418,
           719,
           10550,
           2040,
           9442,
           1964,
           2683,
           642,
           1556,
           763,
           1152,
           1069,
           1035,
           3111,
           10902,
           1591,
           868,
           32001,
           1144,
           908,
           2103,
           719,
           466,
           1091,
           3713,
           928,
           39968,
           17080,
           23885,
           4909,
           45736,
           388,
           3757,
           3238,
           3789,
           1077,
           6364,
           1607,
           2159,
           1656,
           1696,
           659,
           3690,
           2657,
           313,
           2733,
           1508,
           1848,
           1026,
           1083,
           1845,
           2157,
           5936,
           2760,
           856,
           1659,
           688,
           1628,
           2282,
           5261,
           4062,
           1830,
           4313,
           3810,
           3682,
           486,
           1079,
           2717,
           2062,
           395,
           1116,
           2900,
           347,
           306,
           4760,
           625,
           686,
           43710,
           820,
           9001,
           102240,
           25578,
           1849,
           2564,
           2749,
           872,
           6215,
           2051,
           0,
           2033,
           3279,
           2802,
           1050,
           4182,
           190,
           1780,
           928,
           2591,
           823,
           524,
           915,
           151,
           9524,
           516,
           1208,
           197,
           1107,
           1128,
           291,
           1132,
           12466,
           14922,
           80,
           1547,
           57,
           204,
           2037,
           1115,
           92,
           2139,
           7069,
           119,
           1651,
           796,
           183,
           152,
           293,
           9383,
           376,
           1463,
           12,
           527,
           509,
           135,
           941,
           141,
           3265,
           1246,
           1670,
           1233,
           678,
           424,
           4167,
           753,
           404,
           506,
           729,
           55,
           0,
           902,
           183,
           121,
           18093,
           2993,
           536,
           22,
           36,
           21,
           584,
           944,
           176,
           220,
           5521,
           671,
           850,
           2676,
           776,
           463,
           301,
           938,
           706,
           1593,
           1056,
           852,
           3939,
           749,
           2888,
           107,
           611,
           4964,
           71755,
           185,
           507,
           242,
           193,
           508,
           2188,
           113,
           153,
           187,
           41,
           214,
           7863,
           967,
           219,
           61,
           255,
           865,
           54,
           559,
           669,
           641,
           690,
           723,
           54,
           423,
           888,
           31468,
           3874,
           82,
           42,
           4303,
           29,
           787,
           513,
           414,
           696,
           434,
           1473,
           234,
           294,
           1001,
           642,
           4152,
           585,
           1214,
           738,
           102,
           2044,
           22854,
           2534,
           4193,
           1761,
           530,
           212,
           39,
           372,
           495,
           53,
           848,
           3447,
           327,
           2198,
           1090,
           391,
           39,
           1768,
           6627,
           2134,
           260838,
           3019,
           5189,
           38,
           55,
           1219,
           482,
           376,
           3367,
           309,
           3022,
           971,
           120,
           0,
           46361,
           636,
           4183,
           2496,
           3900,
           2060,
           4084,
           36418,
           9690,
           24412,
           10099,
           1886,
           327,
           31675,
           105095,
           44455,
           55979,
           9304,
           17256,
           94514,
           30746,
           88461,
           9908,
           34215,
           92721,
           76258,
           50413,
           76603,
           73465,
           6123,
           30277,
           14130,
           823,
           71841,
           10049,
           59153,
           97,
           9073,
           2914,
           799,
           5332,
           178,
           25130,
           6960,
           1756,
           471,
           13,
           368,
           8449,
           1766,
           538,
           3386,
           12388,
           175,
           4075,
           537,
           3805,
           2033,
           15745,
           1410,
           12265,
           10632,
           781,
           1330,
           1727,
           891,
           4350,
           260,
           6928,
           24739,
           3562,
           184114,
           18669,
           5728,
           6357,
           8966,
           7786,
           3516,
           4855,
           4083,
           3935,
           2395,
           29524,
           89729,
           1597,
           2564,
           4432,
           5442,
           3406,
           316,
           5209,
           6187,
           281604,
           2827,
           4540,
           4571,
           69233,
           4259,
           184153,
           139000,
           20073,
           22674,
           39089,
           7415,
           48440,
           3125,
           7641,
           3471,
           0,
           10634,
           278222,
           11253,
           75510,
           47086,
           15417,
           13219,
           1705,
           1082,
           2013,
           6672,
           6974,
           201580,
           6699,
           3843,
           4364,
           13936,
           92,
           3680,
           3167,
           5800,
           129938,
           3596,
           1180,
           19042,
           4456,
           1095,
           2638,
           2252,
           2164,
           4791,
           1795,
           3516,
           9342,
           18089,
           10152,
           22396,
           9521,
           695,
           5261,
           2200,
           19823,
           4756,
           2638,
           1488,
           906,
           11717,
           6459,
           9470,
           30343,
           1580,
           2191,
           17032,
           4180,
           6387,
           25793,
           5704,
           37030,
           7047,
           27198,
           749,
           666,
           5991,
           2421,
           48742,
           5686,
           12069,
           4498,
           10314,
           2117,
           4908,
           671,
           19284,
           3660,
           22291,
           899,
           6154,
           6270,
           10289,
           3166,
           1601,
           2329,
           5289,
           114737,
           1480,
           3384,
           9067,
           11709,
           19559,
           1895,
           17902,
           8601,
           1119,
           3451,
           5554,
           1037,
           3513,
           20514,
           1500,
           15352,
           4828,
           16886,
           8100,
           17258,
           7444,
           8164,
           3910,
           7933,
           4234,
           8411,
           1210,
           2387,
           326,
           0,
           24944,
           4995,
           89608,
           1817,
           1140,
           5024,
           11496,
           6954,
           9929,
           4136,
           1640,
           271,
           1422,
           1104,
           54,
           724,
           407,
           247,
           16040,
           24792,
           432,
           800,
           187,
           401,
           470,
           441,
           600,
           261,
           10721,
           211,
           330,
           332,
           279,
           538,
           267,
           658,
           354,
           1464,
           1294,
           1164,
           5349,
           1391,
           482,
           158,
           824,
           550,
           1729,
           700,
           322,
           2027,
           2161,
           501,
           122,
           665,
           32,
           4959,
           195,
           3546,
           327,
           1054,
           0,
           1913,
           9976,
           458,
           5039,
           183,
           2441,
           11948,
           4370,
           7216,
           5250,
           5045,
           6172,
           4033,
           39535,
           1981,
           3456,
           14269,
           20190,
           3821,
           9054,
           2702,
           4063,
           116147,
           5429,
           4325,
           18935,
           8065,
           16607,
           2863,
           129263,
           4328,
           2413,
           6871,
           15331,
           3265,
           81572,
           7010,
           2770,
           1143,
           2742,
           3610,
           2206,
           2715,
           5577,
           3193,
           5691,
           4581,
           21259,
           5757,
           16699,
           3888,
           25735,
           43462,
           4451,
           22436,
           8655,
           15660,
           1491,
           4881,
           10880,
           1364,
           52697,
           1102,
           2923,
           8930,
           1364,
           3739,
           1770,
           2974,
           8684,
           2429,
           13276,
           3883,
           4337,
           11632,
           6964,
           5452,
           6565,
           5353,
           4782,
           33470,
           48541,
           16605,
           8674,
           0,
           5859,
           2478,
           865,
           24665,
           5330,
           9181,
           3507,
           13302,
           2350,
           3226,
           1155,
           1885,
           475,
           2902,
           1055,
           6219,
           3997,
           17461,
           6337,
           5711,
           1633,
           219,
           31412,
           705,
           14407,
           697,
           2053,
           7100,
           4088,
           4780,
           553,
           357,
           7835,
           3640,
           6001,
           549,
           584,
           327,
           422,
           1267,
           1253,
           3133,
           710,
           1385,
           5350,
           2057,
           821,
           844,
           5680,
           3281,
           4319,
           1533,
           956,
           2060,
           4303,
           5359,
           4006,
           2028,
           2041,
           9434,
           1383,
           1170,
           1805,
           87823,
           3908,
           4812,
           4231,
           0,
           1801,
           8724,
           4684,
           5181,
           8430,
           1017,
           390,
           10717,
           2889,
           4213,
           4924,
           3544,
           807,
           76351,
           993,
           8290,
           5309,
           1089,
           1220,
           3173,
           1038,
           3285,
           19112,
           1077,
           1953,
           2191,
           1308,
           746,
           10125,
           3992,
           82,
           552,
           439,
           1232,
           11664,
           2397,
           3677,
           4811,
           472,
           14070,
           1458,
           5770,
           3624,
           23644,
           1167,
           40616,
           4062,
           70,
           679,
           8707,
           0,
           1518,
           196,
           1461,
           26977,
           35,
           4830,
           9690,
           101959,
           6014,
           15559,
           4729,
           48491,
           13523,
           6131,
           60848,
           17633,
           14831,
           309,
           6402,
           16929,
           40835,
           3206,
           8653,
           3712,
           5906,
           7555,
           20632,
           26147,
           52423,
           2871,
           21235,
           13443,
           1435,
           15480,
           1377,
           3361,
           5173,
           6417,
           3345,
           2142,
           18568,
           55447,
           7701,
           16204,
           39869,
           32141,
           11970,
           3814,
           9730,
           5440,
           14839,
           70451,
           2010,
           35915,
           9721,
           3854,
           154800,
           4040,
           1223,
           14823,
           3686,
           8081,
           442,
           2659,
           3132,
           0,
           6162,
           4105,
           2643,
           17941,
           4163,
           34445,
           1999,
           47070,
           468,
           1331,
           1534,
           1210,
           675,
           799,
           2997,
           304,
           772,
           1226,
           10373,
           922,
           6289,
           1196,
           1957,
           8693,
           1240,
           1288,
           393,
           772,
           1287,
           878,
           713,
           1561,
           39,
           2051,
           1229,
           560,
           232,
           837,
           383,
           4273,
           2185,
           1145,
           418,
           2071,
           1407,
           367,
           1127,
           2264,
           441,
           786,
           255,
           1629,
           1278,
           753,
           1437,
           105,
           366,
           1984,
           1403,
           1469,
           1070,
           1566,
           890,
           295,
           366,
           569,
           3422,
           908,
           545,
           2163,
           397,
           743,
           632,
           18496,
           1757,
           1316,
           472,
           3940,
           3890,
           2999,
           4021,
           900,
           1772,
           2966,
           122,
           753,
           1122,
           837,
           0,
           5187,
           18828,
           6975,
           99519,
           12008,
           10126,
           2599,
           17594,
           945,
           23300,
           1598,
           2620,
           17175,
           18048,
           1338,
           44039,
           6226,
           4271,
           4930,
           3483,
           3716,
           8627,
           4436,
           18470,
           3177,
           2427,
           18043,
           6811,
           75709,
           8316,
           1929,
           39829,
           2436,
           7565,
           10973,
           7549,
           1945,
           33829,
           3571,
           3511,
           1035,
           5116,
           9957,
           9882,
           19096,
           47820,
           1810,
           42077,
           10649,
           0,
           3182,
           4125,
           32177,
           475,
           2965,
           392,
           1555,
           4237,
           5645,
           719,
           427,
           1093,
           132,
           1393,
           464,
           1933,
           4657,
           487,
           880,
           3252,
           713,
           533,
           1479,
           456,
           515,
           606,
           373,
           1057,
           589,
           266,
           802,
           365,
           392,
           97,
           2526,
           920,
           141,
           291,
           282,
           96,
           819,
           1390,
           3018,
           8722,
           659,
           375,
           814,
           247,
           2801,
           260,
           307,
           31764,
           667,
           2121,
           13949,
           359,
           391,
           1396,
           347,
           848,
           355,
           145,
           1235,
           757,
           1182,
           0,
           2228,
           773,
           3115,
           343,
           8820,
           6722,
           1688,
           2225,
           15952,
           15321,
           4197,
           1941,
           3714,
           6767,
           4672,
           2205,
           3230,
           1121,
           4545,
           6986,
           2061,
           6883,
           90372,
           2874,
           1622,
           7106,
           5527,
           5214,
           2521,
           5231,
           6674,
           4049,
           2678,
           8045,
           1804,
           8684,
           45461,
           620,
           3547,
           3610,
           6335,
           2716,
           3865,
           3403,
           2894,
           1122,
           1942,
           1368,
           6333,
           2446,
           52157,
           1728,
           3268,
           6106,
           1626,
           4408,
           6239,
           3669,
           11590,
           3268,
           4337,
           13749,
           6672,
           2879,
           1429,
           5987,
           21067,
           1033,
           2555,
           4624,
           17895,
           3091,
           1072,
           773,
           2112,
           11843,
           4388,
           6378,
           9974,
           43727,
           3225,
           1762,
           13597,
           98792,
           2810,
           1379,
           17352,
           24553,
           7473,
           2534,
           12707,
           2070,
           1957,
           872,
           5602,
           14865,
           3003,
           4240,
           3793,
           28671,
           19393,
           6242,
           1840,
           8705,
           1297,
           813,
           208,
           5835,
           2244,
           864,
           1450,
           9812,
           300,
           3538,
           25135,
           227474,
           778,
           30,
           1698,
           7754,
           38833,
           28043,
           937,
           169,
           859,
           4370,
           2488,
           4928,
           5793,
           2478,
           1214,
           42400,
           1327,
           605,
           2190,
           1069,
           5251,
           4311,
           1378,
           1042,
           335,
           469,
           757,
           93173,
           331,
           1772,
           11385,
           1570,
           504,
           3806,
           7378,
           190,
           544,
           595,
           759,
           367,
           987,
           306870,
           1742,
           1990,
           2954,
           352,
           77111,
           188,
           2585,
           424,
           1276,
           1371,
           17592,
           248,
           136711,
           23151,
           4262,
           2102,
           3482,
           2779,
           306,
           900,
           124,
           70032,
           816,
           1985,
           2879,
           1468,
           41239,
           559,
           2593,
           104,
           482,
           2745,
           2544,
           11374,
           11487,
           3824,
           15658,
           6187,
           498,
           806,
           944,
           387,
           6109,
           403645,
           5474,
           661,
           462,
           21245,
           586,
           6073,
           93595,
           4570,
           3132,
           6662,
           3540,
           1965,
           4708,
           541,
           6267,
           2427,
           129,
           587,
           1870,
           2549,
           195,
           20450,
           621,
           4424,
           20204,
           2588,
           2394,
           16554,
           3352,
           39,
           106,
           4610,
           295,
           11,
           347,
           2697,
           263,
           999,
           5961,
           2492,
           2225,
           2500,
           2245,
           1654,
           8200,
           2831,
           350,
           1138,
           1713,
           2,
           49534,
           628,
           1991,
           618,
           652,
           422,
           4290,
           10829,
           591,
           27716,
           85,
           4676,
           213,
           17810,
           2584,
           660,
           609,
           2131,
           55665,
           2766,
           953,
           118,
           5206,
           5947,
           641,
           1550,
           44196,
           1206,
           289,
           8859,
           2955,
           1863,
           16301,
           1330,
           1690,
           3417,
           17692,
           820,
           824,
           17104,
           387,
           310,
           806,
           2214,
           686,
           63,
           2247,
           11870,
           1308,
           4441,
           526,
           587,
           1470,
           4526,
           782,
           243,
           2433,
           276,
           2025,
           235,
           20765,
           1089,
           9577,
           801,
           109,
           157,
           475,
           893,
           263690,
           15953,
           74,
           1702,
           73,
           4230,
           16959,
           84842,
           866,
           1338,
           0,
           3542,
           375,
           3677,
           7974,
           4486,
           9296,
           8701,
           4228,
           1219,
           4291,
           47029,
           4287,
           573,
           15261,
           1933,
           3206,
           47343,
           4701,
           783,
           7565,
           3519,
           877,
           2197,
           1804,
           1883,
           22470,
           9255,
           39938,
           154070,
           1939,
           3786,
           29967,
           5653,
           7698,
           4547,
           953,
           98989,
           4741,
           32104,
           1067,
           2053,
           1082,
           7544,
           295,
           2033,
           217,
           889,
           822,
           1292,
           2288,
           20,
           1898,
           1398,
           1521,
           3916,
           2872,
           5831,
           11894,
           1387,
           927,
           2990,
           1629,
           15318,
           5991,
           274,
           6689,
           689,
           2616,
           1581,
           1339,
           1541,
           2140,
           937,
           4986,
           2704,
           2720,
           511,
           872,
           4044,
           21282,
           28318,
           1023,
           1721,
           611,
           326,
           4735,
           516,
           4506,
           996,
           2164,
           679,
           789,
           77196,
           574,
           430,
           4789,
           884,
           1929,
           4115,
           1142,
           8123,
           2156,
           1175,
           1336,
           2279,
           1483,
           1513,
           1300,
           1583,
           2840,
           10739,
           8283,
           6537,
           26016,
           4679,
           110,
           2711,
           3182,
           4688,
           1733,
           1249,
           419,
           719,
           2433,
           1205,
           28102,
           2030,
           790,
           7485,
           616,
           4314,
           1221,
           1630,
           604,
           2362,
           576,
           9430,
           892,
           1528,
           14385,
           18074,
           809,
           749,
           292,
           1927,
           2247,
           2130,
           1404,
           3959,
           5639,
           900,
           9223,
           1928,
           2173,
           3634,
           45828,
           2727,
           2180,
           360,
           1444,
           17054,
           8448,
           8638,
           1572,
           6886,
           2312,
           2218,
           1876,
           4310,
           2987,
           1990,
           10225,
           11549,
           2531,
           8014,
           424,
           1204,
           3762,
           0,
           36472,
           3142,
           5034,
           2403,
           1311,
           768,
           2946,
           3276,
           2744,
           3808,
           2270,
           1510,
           17946,
           6952,
           1448,
           26009,
           133,
           6701,
           3712,
           404,
           12880,
           133,
           9392,
           4593,
           1877,
           450,
           112712,
           8854,
           3354,
           889,
           5342,
           677,
           2945,
           2807,
           1008,
           831,
           57045,
           186,
           6055,
           391,
           40331,
           46939,
           2396,
           11100,
           1517,
           156,
           5507,
           9931,
           4341,
           30759,
           1515,
           12847,
           2179,
           1018,
           2247,
           8888,
           392,
           543,
           644,
           3557,
           885,
           1317,
           2900,
           1927,
           2844,
           1583,
           6198,
           2260,
           4800,
           15496,
           1290,
           1607,
           3300,
           4655,
           3538,
           2064,
           1615,
           5193,
           2985,
           2764,
           9399,
           1223,
           1227,
           1905,
           4314,
           725,
           959,
           681,
           2959,
           5331,
           7096,
           2858,
           761,
           665,
           864,
           1282,
           547,
           748,
           0,
           1970,
           3182,
           546,
           1392,
           457,
           7948,
           2059,
           1969,
           1402,
           6066,
           1290,
           35721,
           1418,
           1590,
           6537,
           7714,
           3705,
           5925,
           1803,
           46836,
           12954,
           2853,
           5009,
           5139,
           11993,
           507,
           13889,
           1047,
           5764,
           3659,
           2064,
           2155,
           706,
           2721,
           9700,
           3356,
           18836,
           2729,
           13554,
           1728,
           2221,
           3290,
           8929,
           16435,
           4714,
           1610,
           813,
           117936,
           4764,
           5122,
           3829,
           23915,
           9300,
           892,
           4999,
           4835,
           7447,
           1348,
           25358,
           1409,
           18391,
           1465,
           6257,
           1858,
           5345,
           14829,
           9849,
           2139,
           3669,
           0,
           2027,
           2444,
           12516,
           1596,
           16932,
           49238,
           6121,
           2589,
           21514,
           7724,
           4652,
           1204,
           5191,
           1640,
           1038,
           459,
           5302,
           1246,
           372,
           745,
           10583,
           1432,
           8262,
           163,
           2903,
           684,
           3273,
           797,
           4788,
           3802,
           2321,
           0,
           927,
           661
          ],
          "sizemode": "area",
          "sizeref": 501.0956,
          "symbol": "circle"
         },
         "mode": "markers",
         "name": "",
         "showlegend": false,
         "type": "scattergeo"
        }
       ],
       "layout": {
        "coloraxis": {
         "cmax": 1000,
         "cmin": 0,
         "colorbar": {
          "title": {
           "text": "Confirmed"
          }
         },
         "colorscale": [
          [
           0,
           "#0d0887"
          ],
          [
           0.1111111111111111,
           "#46039f"
          ],
          [
           0.2222222222222222,
           "#7201a8"
          ],
          [
           0.3333333333333333,
           "#9c179e"
          ],
          [
           0.4444444444444444,
           "#bd3786"
          ],
          [
           0.5555555555555556,
           "#d8576b"
          ],
          [
           0.6666666666666666,
           "#ed7953"
          ],
          [
           0.7777777777777778,
           "#fb9f3a"
          ],
          [
           0.8888888888888888,
           "#fdca26"
          ],
          [
           1,
           "#f0f921"
          ]
         ]
        },
        "geo": {
         "center": {},
         "domain": {
          "x": [
           0,
           1
          ],
          "y": [
           0,
           1
          ]
         },
         "projection": {
          "type": "natural earth"
         }
        },
        "legend": {
         "itemsizing": "constant",
         "tracegroupgap": 0
        },
        "margin": {
         "t": 60
        },
        "template": {
         "data": {
          "bar": [
           {
            "error_x": {
             "color": "#2a3f5f"
            },
            "error_y": {
             "color": "#2a3f5f"
            },
            "marker": {
             "line": {
              "color": "#E5ECF6",
              "width": 0.5
             },
             "pattern": {
              "fillmode": "overlay",
              "size": 10,
              "solidity": 0.2
             }
            },
            "type": "bar"
           }
          ],
          "barpolar": [
           {
            "marker": {
             "line": {
              "color": "#E5ECF6",
              "width": 0.5
             },
             "pattern": {
              "fillmode": "overlay",
              "size": 10,
              "solidity": 0.2
             }
            },
            "type": "barpolar"
           }
          ],
          "carpet": [
           {
            "aaxis": {
             "endlinecolor": "#2a3f5f",
             "gridcolor": "white",
             "linecolor": "white",
             "minorgridcolor": "white",
             "startlinecolor": "#2a3f5f"
            },
            "baxis": {
             "endlinecolor": "#2a3f5f",
             "gridcolor": "white",
             "linecolor": "white",
             "minorgridcolor": "white",
             "startlinecolor": "#2a3f5f"
            },
            "type": "carpet"
           }
          ],
          "choropleth": [
           {
            "colorbar": {
             "outlinewidth": 0,
             "ticks": ""
            },
            "type": "choropleth"
           }
          ],
          "contour": [
           {
            "colorbar": {
             "outlinewidth": 0,
             "ticks": ""
            },
            "colorscale": [
             [
              0,
              "#0d0887"
             ],
             [
              0.1111111111111111,
              "#46039f"
             ],
             [
              0.2222222222222222,
              "#7201a8"
             ],
             [
              0.3333333333333333,
              "#9c179e"
             ],
             [
              0.4444444444444444,
              "#bd3786"
             ],
             [
              0.5555555555555556,
              "#d8576b"
             ],
             [
              0.6666666666666666,
              "#ed7953"
             ],
             [
              0.7777777777777778,
              "#fb9f3a"
             ],
             [
              0.8888888888888888,
              "#fdca26"
             ],
             [
              1,
              "#f0f921"
             ]
            ],
            "type": "contour"
           }
          ],
          "contourcarpet": [
           {
            "colorbar": {
             "outlinewidth": 0,
             "ticks": ""
            },
            "type": "contourcarpet"
           }
          ],
          "heatmap": [
           {
            "colorbar": {
             "outlinewidth": 0,
             "ticks": ""
            },
            "colorscale": [
             [
              0,
              "#0d0887"
             ],
             [
              0.1111111111111111,
              "#46039f"
             ],
             [
              0.2222222222222222,
              "#7201a8"
             ],
             [
              0.3333333333333333,
              "#9c179e"
             ],
             [
              0.4444444444444444,
              "#bd3786"
             ],
             [
              0.5555555555555556,
              "#d8576b"
             ],
             [
              0.6666666666666666,
              "#ed7953"
             ],
             [
              0.7777777777777778,
              "#fb9f3a"
             ],
             [
              0.8888888888888888,
              "#fdca26"
             ],
             [
              1,
              "#f0f921"
             ]
            ],
            "type": "heatmap"
           }
          ],
          "heatmapgl": [
           {
            "colorbar": {
             "outlinewidth": 0,
             "ticks": ""
            },
            "colorscale": [
             [
              0,
              "#0d0887"
             ],
             [
              0.1111111111111111,
              "#46039f"
             ],
             [
              0.2222222222222222,
              "#7201a8"
             ],
             [
              0.3333333333333333,
              "#9c179e"
             ],
             [
              0.4444444444444444,
              "#bd3786"
             ],
             [
              0.5555555555555556,
              "#d8576b"
             ],
             [
              0.6666666666666666,
              "#ed7953"
             ],
             [
              0.7777777777777778,
              "#fb9f3a"
             ],
             [
              0.8888888888888888,
              "#fdca26"
             ],
             [
              1,
              "#f0f921"
             ]
            ],
            "type": "heatmapgl"
           }
          ],
          "histogram": [
           {
            "marker": {
             "pattern": {
              "fillmode": "overlay",
              "size": 10,
              "solidity": 0.2
             }
            },
            "type": "histogram"
           }
          ],
          "histogram2d": [
           {
            "colorbar": {
             "outlinewidth": 0,
             "ticks": ""
            },
            "colorscale": [
             [
              0,
              "#0d0887"
             ],
             [
              0.1111111111111111,
              "#46039f"
             ],
             [
              0.2222222222222222,
              "#7201a8"
             ],
             [
              0.3333333333333333,
              "#9c179e"
             ],
             [
              0.4444444444444444,
              "#bd3786"
             ],
             [
              0.5555555555555556,
              "#d8576b"
             ],
             [
              0.6666666666666666,
              "#ed7953"
             ],
             [
              0.7777777777777778,
              "#fb9f3a"
             ],
             [
              0.8888888888888888,
              "#fdca26"
             ],
             [
              1,
              "#f0f921"
             ]
            ],
            "type": "histogram2d"
           }
          ],
          "histogram2dcontour": [
           {
            "colorbar": {
             "outlinewidth": 0,
             "ticks": ""
            },
            "colorscale": [
             [
              0,
              "#0d0887"
             ],
             [
              0.1111111111111111,
              "#46039f"
             ],
             [
              0.2222222222222222,
              "#7201a8"
             ],
             [
              0.3333333333333333,
              "#9c179e"
             ],
             [
              0.4444444444444444,
              "#bd3786"
             ],
             [
              0.5555555555555556,
              "#d8576b"
             ],
             [
              0.6666666666666666,
              "#ed7953"
             ],
             [
              0.7777777777777778,
              "#fb9f3a"
             ],
             [
              0.8888888888888888,
              "#fdca26"
             ],
             [
              1,
              "#f0f921"
             ]
            ],
            "type": "histogram2dcontour"
           }
          ],
          "mesh3d": [
           {
            "colorbar": {
             "outlinewidth": 0,
             "ticks": ""
            },
            "type": "mesh3d"
           }
          ],
          "parcoords": [
           {
            "line": {
             "colorbar": {
              "outlinewidth": 0,
              "ticks": ""
             }
            },
            "type": "parcoords"
           }
          ],
          "pie": [
           {
            "automargin": true,
            "type": "pie"
           }
          ],
          "scatter": [
           {
            "marker": {
             "colorbar": {
              "outlinewidth": 0,
              "ticks": ""
             }
            },
            "type": "scatter"
           }
          ],
          "scatter3d": [
           {
            "line": {
             "colorbar": {
              "outlinewidth": 0,
              "ticks": ""
             }
            },
            "marker": {
             "colorbar": {
              "outlinewidth": 0,
              "ticks": ""
             }
            },
            "type": "scatter3d"
           }
          ],
          "scattercarpet": [
           {
            "marker": {
             "colorbar": {
              "outlinewidth": 0,
              "ticks": ""
             }
            },
            "type": "scattercarpet"
           }
          ],
          "scattergeo": [
           {
            "marker": {
             "colorbar": {
              "outlinewidth": 0,
              "ticks": ""
             }
            },
            "type": "scattergeo"
           }
          ],
          "scattergl": [
           {
            "marker": {
             "colorbar": {
              "outlinewidth": 0,
              "ticks": ""
             }
            },
            "type": "scattergl"
           }
          ],
          "scattermapbox": [
           {
            "marker": {
             "colorbar": {
              "outlinewidth": 0,
              "ticks": ""
             }
            },
            "type": "scattermapbox"
           }
          ],
          "scatterpolar": [
           {
            "marker": {
             "colorbar": {
              "outlinewidth": 0,
              "ticks": ""
             }
            },
            "type": "scatterpolar"
           }
          ],
          "scatterpolargl": [
           {
            "marker": {
             "colorbar": {
              "outlinewidth": 0,
              "ticks": ""
             }
            },
            "type": "scatterpolargl"
           }
          ],
          "scatterternary": [
           {
            "marker": {
             "colorbar": {
              "outlinewidth": 0,
              "ticks": ""
             }
            },
            "type": "scatterternary"
           }
          ],
          "surface": [
           {
            "colorbar": {
             "outlinewidth": 0,
             "ticks": ""
            },
            "colorscale": [
             [
              0,
              "#0d0887"
             ],
             [
              0.1111111111111111,
              "#46039f"
             ],
             [
              0.2222222222222222,
              "#7201a8"
             ],
             [
              0.3333333333333333,
              "#9c179e"
             ],
             [
              0.4444444444444444,
              "#bd3786"
             ],
             [
              0.5555555555555556,
              "#d8576b"
             ],
             [
              0.6666666666666666,
              "#ed7953"
             ],
             [
              0.7777777777777778,
              "#fb9f3a"
             ],
             [
              0.8888888888888888,
              "#fdca26"
             ],
             [
              1,
              "#f0f921"
             ]
            ],
            "type": "surface"
           }
          ],
          "table": [
           {
            "cells": {
             "fill": {
              "color": "#EBF0F8"
             },
             "line": {
              "color": "white"
             }
            },
            "header": {
             "fill": {
              "color": "#C8D4E3"
             },
             "line": {
              "color": "white"
             }
            },
            "type": "table"
           }
          ]
         },
         "layout": {
          "annotationdefaults": {
           "arrowcolor": "#2a3f5f",
           "arrowhead": 0,
           "arrowwidth": 1
          },
          "autotypenumbers": "strict",
          "coloraxis": {
           "colorbar": {
            "outlinewidth": 0,
            "ticks": ""
           }
          },
          "colorscale": {
           "diverging": [
            [
             0,
             "#8e0152"
            ],
            [
             0.1,
             "#c51b7d"
            ],
            [
             0.2,
             "#de77ae"
            ],
            [
             0.3,
             "#f1b6da"
            ],
            [
             0.4,
             "#fde0ef"
            ],
            [
             0.5,
             "#f7f7f7"
            ],
            [
             0.6,
             "#e6f5d0"
            ],
            [
             0.7,
             "#b8e186"
            ],
            [
             0.8,
             "#7fbc41"
            ],
            [
             0.9,
             "#4d9221"
            ],
            [
             1,
             "#276419"
            ]
           ],
           "sequential": [
            [
             0,
             "#0d0887"
            ],
            [
             0.1111111111111111,
             "#46039f"
            ],
            [
             0.2222222222222222,
             "#7201a8"
            ],
            [
             0.3333333333333333,
             "#9c179e"
            ],
            [
             0.4444444444444444,
             "#bd3786"
            ],
            [
             0.5555555555555556,
             "#d8576b"
            ],
            [
             0.6666666666666666,
             "#ed7953"
            ],
            [
             0.7777777777777778,
             "#fb9f3a"
            ],
            [
             0.8888888888888888,
             "#fdca26"
            ],
            [
             1,
             "#f0f921"
            ]
           ],
           "sequentialminus": [
            [
             0,
             "#0d0887"
            ],
            [
             0.1111111111111111,
             "#46039f"
            ],
            [
             0.2222222222222222,
             "#7201a8"
            ],
            [
             0.3333333333333333,
             "#9c179e"
            ],
            [
             0.4444444444444444,
             "#bd3786"
            ],
            [
             0.5555555555555556,
             "#d8576b"
            ],
            [
             0.6666666666666666,
             "#ed7953"
            ],
            [
             0.7777777777777778,
             "#fb9f3a"
            ],
            [
             0.8888888888888888,
             "#fdca26"
            ],
            [
             1,
             "#f0f921"
            ]
           ]
          },
          "colorway": [
           "#636efa",
           "#EF553B",
           "#00cc96",
           "#ab63fa",
           "#FFA15A",
           "#19d3f3",
           "#FF6692",
           "#B6E880",
           "#FF97FF",
           "#FECB52"
          ],
          "font": {
           "color": "#2a3f5f"
          },
          "geo": {
           "bgcolor": "white",
           "lakecolor": "white",
           "landcolor": "#E5ECF6",
           "showlakes": true,
           "showland": true,
           "subunitcolor": "white"
          },
          "hoverlabel": {
           "align": "left"
          },
          "hovermode": "closest",
          "mapbox": {
           "style": "light"
          },
          "paper_bgcolor": "white",
          "plot_bgcolor": "#E5ECF6",
          "polar": {
           "angularaxis": {
            "gridcolor": "white",
            "linecolor": "white",
            "ticks": ""
           },
           "bgcolor": "#E5ECF6",
           "radialaxis": {
            "gridcolor": "white",
            "linecolor": "white",
            "ticks": ""
           }
          },
          "scene": {
           "xaxis": {
            "backgroundcolor": "#E5ECF6",
            "gridcolor": "white",
            "gridwidth": 2,
            "linecolor": "white",
            "showbackground": true,
            "ticks": "",
            "zerolinecolor": "white"
           },
           "yaxis": {
            "backgroundcolor": "#E5ECF6",
            "gridcolor": "white",
            "gridwidth": 2,
            "linecolor": "white",
            "showbackground": true,
            "ticks": "",
            "zerolinecolor": "white"
           },
           "zaxis": {
            "backgroundcolor": "#E5ECF6",
            "gridcolor": "white",
            "gridwidth": 2,
            "linecolor": "white",
            "showbackground": true,
            "ticks": "",
            "zerolinecolor": "white"
           }
          },
          "shapedefaults": {
           "line": {
            "color": "#2a3f5f"
           }
          },
          "ternary": {
           "aaxis": {
            "gridcolor": "white",
            "linecolor": "white",
            "ticks": ""
           },
           "baxis": {
            "gridcolor": "white",
            "linecolor": "white",
            "ticks": ""
           },
           "bgcolor": "#E5ECF6",
           "caxis": {
            "gridcolor": "white",
            "linecolor": "white",
            "ticks": ""
           }
          },
          "title": {
           "x": 0.05
          },
          "xaxis": {
           "automargin": true,
           "gridcolor": "white",
           "linecolor": "white",
           "ticks": "",
           "title": {
            "standoff": 15
           },
           "zerolinecolor": "white",
           "zerolinewidth": 2
          },
          "yaxis": {
           "automargin": true,
           "gridcolor": "white",
           "linecolor": "white",
           "ticks": "",
           "title": {
            "standoff": 15
           },
           "zerolinecolor": "white",
           "zerolinewidth": 2
          }
         }
        }
       }
      }
     },
     "metadata": {},
     "output_type": "display_data"
    }
   ],
   "source": [
    "# make a data visualization of the data about Brazil\n",
    "fig = px.scatter_geo(df_us,\n",
    "                        locations='State',\n",
    "                        locationmode='USA-states',\n",
    "                        color='Confirmed',\n",
    "                        # hover_name='Country',\n",
    "                        hover_data=['Confirmed', 'Deaths'],\n",
    "                        size='Confirmed',\n",
    "                        size_max=50,\n",
    "                        range_color=(0, 1000),  # set the range of the color scale\n",
    "                        projection='natural earth')\n",
    "\n",
    "fig.show()\n",
    "                        \n"
   ]
  },
  {
   "cell_type": "code",
   "execution_count": 47,
   "metadata": {},
   "outputs": [],
   "source": [
    "import chart_studio.plotly as py\n",
    "import plotly.graph_objs as go \n",
    "from plotly.offline import download_plotlyjs, init_notebook_mode, plot, iplot"
   ]
  },
  {
   "cell_type": "code",
   "execution_count": 48,
   "metadata": {},
   "outputs": [
    {
     "data": {
      "application/vnd.plotly.v1+json": {
       "config": {
        "linkText": "Export to plot.ly",
        "plotlyServerURL": "https://plot.ly",
        "showLink": false
       },
       "data": [
        {
         "colorbar": {
          "title": {
           "text": "Deaths in the US by COVID-19"
          }
         },
         "colorscale": [
          [
           0,
           "rgb(23, 28, 66)"
          ],
          [
           0.09090909090909091,
           "rgb(41, 58, 143)"
          ],
          [
           0.18181818181818182,
           "rgb(11, 102, 189)"
          ],
          [
           0.2727272727272727,
           "rgb(69, 144, 185)"
          ],
          [
           0.36363636363636365,
           "rgb(142, 181, 194)"
          ],
          [
           0.45454545454545453,
           "rgb(210, 216, 219)"
          ],
          [
           0.5454545454545454,
           "rgb(230, 210, 204)"
          ],
          [
           0.6363636363636364,
           "rgb(213, 157, 137)"
          ],
          [
           0.7272727272727273,
           "rgb(196, 101, 72)"
          ],
          [
           0.8181818181818182,
           "rgb(172, 43, 36)"
          ],
          [
           0.9090909090909091,
           "rgb(120, 14, 40)"
          ],
          [
           1,
           "rgb(60, 9, 17)"
          ]
         ],
         "locationmode": "USA-states",
         "locations": [
          "Alabama",
          "Alabama",
          "Alabama",
          "Alabama",
          "Alabama",
          "Alabama",
          "Alabama",
          "Alabama",
          "Alabama",
          "Alabama",
          "Alabama",
          "Alabama",
          "Alabama",
          "Alabama",
          "Alabama",
          "Alabama",
          "Alabama",
          "Alabama",
          "Alabama",
          "Alabama",
          "Alabama",
          "Alabama",
          "Alabama",
          "Alabama",
          "Alabama",
          "Alabama",
          "Alabama",
          "Alabama",
          "Alabama",
          "Alabama",
          "Alabama",
          "Alabama",
          "Alabama",
          "Alabama",
          "Alabama",
          "Alabama",
          "Alabama",
          "Alabama",
          "Alabama",
          "Alabama",
          "Alabama",
          "Alabama",
          "Alabama",
          "Alabama",
          "Alabama",
          "Alabama",
          "Alabama",
          "Alabama",
          "Alabama",
          "Alabama",
          "Alabama",
          "Alabama",
          "Alabama",
          "Alabama",
          "Alabama",
          "Alabama",
          "Alabama",
          "Alabama",
          "Alabama",
          "Alabama",
          "Alabama",
          "Alabama",
          "Alabama",
          "Alabama",
          "Alabama",
          "Alabama",
          "Alabama",
          "Alabama",
          "Alabama",
          "Alaska",
          "Alaska",
          "Alaska",
          "Alaska",
          "Alaska",
          "Alaska",
          "Alaska",
          "Alaska",
          "Alaska",
          "Alaska",
          "Alaska",
          "Alaska",
          "Alaska",
          "Alaska",
          "Alaska",
          "Alaska",
          "Alaska",
          "Alaska",
          "Alaska",
          "Alaska",
          "Alaska",
          "Alaska",
          "Alaska",
          "Alaska",
          "Alaska",
          "Alaska",
          "Alaska",
          "Alaska",
          "Alaska",
          "Alaska",
          "Alaska",
          "Arizona",
          "Arizona",
          "Arizona",
          "Arizona",
          "Arizona",
          "Arizona",
          "Arizona",
          "Arizona",
          "Arizona",
          "Arizona",
          "Arizona",
          "Arizona",
          "Arizona",
          "Arizona",
          "Arizona",
          "Arizona",
          "Arizona",
          "Arkansas",
          "Arkansas",
          "Arkansas",
          "Arkansas",
          "Arkansas",
          "Arkansas",
          "Arkansas",
          "Arkansas",
          "Arkansas",
          "Arkansas",
          "Arkansas",
          "Arkansas",
          "Arkansas",
          "Arkansas",
          "Arkansas",
          "Arkansas",
          "Arkansas",
          "Arkansas",
          "Arkansas",
          "Arkansas",
          "Arkansas",
          "Arkansas",
          "Arkansas",
          "Arkansas",
          "Arkansas",
          "Arkansas",
          "Arkansas",
          "Arkansas",
          "Arkansas",
          "Arkansas",
          "Arkansas",
          "Arkansas",
          "Arkansas",
          "Arkansas",
          "Arkansas",
          "Arkansas",
          "Arkansas",
          "Arkansas",
          "Arkansas",
          "Arkansas",
          "Arkansas",
          "Arkansas",
          "Arkansas",
          "Arkansas",
          "Arkansas",
          "Arkansas",
          "Arkansas",
          "Arkansas",
          "Arkansas",
          "Arkansas",
          "Arkansas",
          "Arkansas",
          "Arkansas",
          "Arkansas",
          "Arkansas",
          "Arkansas",
          "Arkansas",
          "Arkansas",
          "Arkansas",
          "Arkansas",
          "Arkansas",
          "Arkansas",
          "Arkansas",
          "Arkansas",
          "Arkansas",
          "Arkansas",
          "Arkansas",
          "Arkansas",
          "Arkansas",
          "Arkansas",
          "Arkansas",
          "Arkansas",
          "Arkansas",
          "Arkansas",
          "Arkansas",
          "Arkansas",
          "California",
          "California",
          "California",
          "California",
          "California",
          "California",
          "California",
          "California",
          "California",
          "California",
          "California",
          "California",
          "California",
          "California",
          "California",
          "California",
          "California",
          "California",
          "California",
          "California",
          "California",
          "California",
          "California",
          "California",
          "California",
          "California",
          "California",
          "California",
          "California",
          "California",
          "California",
          "California",
          "California",
          "California",
          "California",
          "California",
          "California",
          "California",
          "California",
          "California",
          "California",
          "California",
          "California",
          "California",
          "California",
          "California",
          "California",
          "California",
          "California",
          "California",
          "California",
          "California",
          "California",
          "California",
          "California",
          "California",
          "California",
          "California",
          "California",
          "Colorado",
          "Colorado",
          "Colorado",
          "Colorado",
          "Colorado",
          "Colorado",
          "Colorado",
          "Colorado",
          "Colorado",
          "Colorado",
          "Colorado",
          "Colorado",
          "Colorado",
          "Colorado",
          "Colorado",
          "Colorado",
          "Colorado",
          "Colorado",
          "Colorado",
          "Colorado",
          "Colorado",
          "Colorado",
          "Colorado",
          "Colorado",
          "Colorado",
          "Colorado",
          "Colorado",
          "Colorado",
          "Colorado",
          "Colorado",
          "Colorado",
          "Colorado",
          "Colorado",
          "Colorado",
          "Colorado",
          "Colorado",
          "Colorado",
          "Colorado",
          "Colorado",
          "Colorado",
          "Colorado",
          "Colorado",
          "Colorado",
          "Colorado",
          "Colorado",
          "Colorado",
          "Colorado",
          "Colorado",
          "Colorado",
          "Colorado",
          "Colorado",
          "Colorado",
          "Colorado",
          "Colorado",
          "Colorado",
          "Colorado",
          "Colorado",
          "Colorado",
          "Colorado",
          "Colorado",
          "Colorado",
          "Colorado",
          "Colorado",
          "Colorado",
          "Colorado",
          "Colorado",
          "Connecticut",
          "Connecticut",
          "Connecticut",
          "Connecticut",
          "Connecticut",
          "Connecticut",
          "Connecticut",
          "Connecticut",
          "Connecticut",
          "Delaware",
          "Delaware",
          "Delaware",
          "Delaware",
          "Diamond Princess",
          "District of Columbia",
          "Florida",
          "Florida",
          "Florida",
          "Florida",
          "Florida",
          "Florida",
          "Florida",
          "Florida",
          "Florida",
          "Florida",
          "Florida",
          "Florida",
          "Florida",
          "Florida",
          "Florida",
          "Florida",
          "Florida",
          "Florida",
          "Florida",
          "Florida",
          "Florida",
          "Florida",
          "Florida",
          "Florida",
          "Florida",
          "Florida",
          "Florida",
          "Florida",
          "Florida",
          "Florida",
          "Florida",
          "Florida",
          "Florida",
          "Florida",
          "Florida",
          "Florida",
          "Florida",
          "Florida",
          "Florida",
          "Florida",
          "Florida",
          "Florida",
          "Florida",
          "Florida",
          "Florida",
          "Florida",
          "Florida",
          "Florida",
          "Florida",
          "Florida",
          "Florida",
          "Florida",
          "Florida",
          "Florida",
          "Florida",
          "Florida",
          "Florida",
          "Florida",
          "Florida",
          "Florida",
          "Florida",
          "Florida",
          "Florida",
          "Florida",
          "Florida",
          "Florida",
          "Florida",
          "Florida",
          "Georgia",
          "Georgia",
          "Georgia",
          "Georgia",
          "Georgia",
          "Georgia",
          "Georgia",
          "Georgia",
          "Georgia",
          "Georgia",
          "Georgia",
          "Georgia",
          "Georgia",
          "Georgia",
          "Georgia",
          "Georgia",
          "Georgia",
          "Georgia",
          "Georgia",
          "Georgia",
          "Georgia",
          "Georgia",
          "Georgia",
          "Georgia",
          "Georgia",
          "Georgia",
          "Georgia",
          "Georgia",
          "Georgia",
          "Georgia",
          "Georgia",
          "Georgia",
          "Georgia",
          "Georgia",
          "Georgia",
          "Georgia",
          "Georgia",
          "Georgia",
          "Georgia",
          "Georgia",
          "Georgia",
          "Georgia",
          "Georgia",
          "Georgia",
          "Georgia",
          "Georgia",
          "Georgia",
          "Georgia",
          "Georgia",
          "Georgia",
          "Georgia",
          "Georgia",
          "Georgia",
          "Georgia",
          "Georgia",
          "Georgia",
          "Georgia",
          "Georgia",
          "Georgia",
          "Georgia",
          "Georgia",
          "Georgia",
          "Georgia",
          "Georgia",
          "Georgia",
          "Georgia",
          "Georgia",
          "Georgia",
          "Georgia",
          "Georgia",
          "Georgia",
          "Georgia",
          "Georgia",
          "Georgia",
          "Georgia",
          "Georgia",
          "Georgia",
          "Georgia",
          "Georgia",
          "Georgia",
          "Georgia",
          "Georgia",
          "Georgia",
          "Georgia",
          "Georgia",
          "Georgia",
          "Georgia",
          "Georgia",
          "Georgia",
          "Georgia",
          "Georgia",
          "Georgia",
          "Georgia",
          "Georgia",
          "Georgia",
          "Georgia",
          "Georgia",
          "Georgia",
          "Georgia",
          "Georgia",
          "Georgia",
          "Georgia",
          "Georgia",
          "Georgia",
          "Georgia",
          "Georgia",
          "Georgia",
          "Georgia",
          "Georgia",
          "Georgia",
          "Georgia",
          "Georgia",
          "Georgia",
          "Georgia",
          "Georgia",
          "Georgia",
          "Georgia",
          "Georgia",
          "Georgia",
          "Georgia",
          "Georgia",
          "Georgia",
          "Georgia",
          "Georgia",
          "Georgia",
          "Georgia",
          "Georgia",
          "Georgia",
          "Georgia",
          "Georgia",
          "Georgia",
          "Georgia",
          "Georgia",
          "Georgia",
          "Georgia",
          "Georgia",
          "Georgia",
          "Georgia",
          "Georgia",
          "Georgia",
          "Georgia",
          "Georgia",
          "Georgia",
          "Georgia",
          "Georgia",
          "Georgia",
          "Georgia",
          "Georgia",
          "Georgia",
          "Georgia",
          "Georgia",
          "Georgia",
          "Georgia",
          "Georgia",
          "Georgia",
          "Georgia",
          "Georgia",
          "Georgia",
          "Georgia",
          "Georgia",
          "Georgia",
          "Grand Princess",
          "Guam",
          "Hawaii",
          "Hawaii",
          "Hawaii",
          "Hawaii",
          "Hawaii",
          "Hawaii",
          "Idaho",
          "Idaho",
          "Idaho",
          "Idaho",
          "Idaho",
          "Idaho",
          "Idaho",
          "Idaho",
          "Idaho",
          "Idaho",
          "Idaho",
          "Idaho",
          "Idaho",
          "Idaho",
          "Idaho",
          "Idaho",
          "Idaho",
          "Idaho",
          "Idaho",
          "Idaho",
          "Idaho",
          "Idaho",
          "Idaho",
          "Idaho",
          "Idaho",
          "Idaho",
          "Idaho",
          "Idaho",
          "Idaho",
          "Idaho",
          "Idaho",
          "Idaho",
          "Idaho",
          "Idaho",
          "Idaho",
          "Idaho",
          "Idaho",
          "Idaho",
          "Idaho",
          "Idaho",
          "Idaho",
          "Idaho",
          "Idaho",
          "Idaho",
          "Idaho",
          "Illinois",
          "Illinois",
          "Illinois",
          "Illinois",
          "Illinois",
          "Illinois",
          "Illinois",
          "Illinois",
          "Illinois",
          "Illinois",
          "Illinois",
          "Illinois",
          "Illinois",
          "Illinois",
          "Illinois",
          "Illinois",
          "Illinois",
          "Illinois",
          "Illinois",
          "Illinois",
          "Illinois",
          "Illinois",
          "Illinois",
          "Illinois",
          "Illinois",
          "Illinois",
          "Illinois",
          "Illinois",
          "Illinois",
          "Illinois",
          "Illinois",
          "Illinois",
          "Illinois",
          "Illinois",
          "Illinois",
          "Illinois",
          "Illinois",
          "Illinois",
          "Illinois",
          "Illinois",
          "Illinois",
          "Illinois",
          "Illinois",
          "Illinois",
          "Illinois",
          "Illinois",
          "Illinois",
          "Illinois",
          "Illinois",
          "Illinois",
          "Illinois",
          "Illinois",
          "Illinois",
          "Illinois",
          "Illinois",
          "Illinois",
          "Illinois",
          "Illinois",
          "Illinois",
          "Illinois",
          "Illinois",
          "Illinois",
          "Illinois",
          "Illinois",
          "Illinois",
          "Illinois",
          "Illinois",
          "Illinois",
          "Illinois",
          "Illinois",
          "Illinois",
          "Illinois",
          "Illinois",
          "Illinois",
          "Illinois",
          "Illinois",
          "Illinois",
          "Illinois",
          "Illinois",
          "Illinois",
          "Illinois",
          "Illinois",
          "Illinois",
          "Illinois",
          "Illinois",
          "Illinois",
          "Illinois",
          "Illinois",
          "Illinois",
          "Illinois",
          "Illinois",
          "Illinois",
          "Illinois",
          "Illinois",
          "Illinois",
          "Illinois",
          "Illinois",
          "Illinois",
          "Illinois",
          "Illinois",
          "Illinois",
          "Illinois",
          "Illinois",
          "Illinois",
          "Indiana",
          "Indiana",
          "Indiana",
          "Indiana",
          "Indiana",
          "Indiana",
          "Indiana",
          "Indiana",
          "Indiana",
          "Indiana",
          "Indiana",
          "Indiana",
          "Indiana",
          "Indiana",
          "Indiana",
          "Indiana",
          "Indiana",
          "Indiana",
          "Indiana",
          "Indiana",
          "Indiana",
          "Indiana",
          "Indiana",
          "Indiana",
          "Indiana",
          "Indiana",
          "Indiana",
          "Indiana",
          "Indiana",
          "Indiana",
          "Indiana",
          "Indiana",
          "Indiana",
          "Indiana",
          "Indiana",
          "Indiana",
          "Indiana",
          "Indiana",
          "Indiana",
          "Indiana",
          "Indiana",
          "Indiana",
          "Indiana",
          "Indiana",
          "Indiana",
          "Indiana",
          "Indiana",
          "Indiana",
          "Indiana",
          "Indiana",
          "Indiana",
          "Indiana",
          "Indiana",
          "Indiana",
          "Indiana",
          "Indiana",
          "Indiana",
          "Indiana",
          "Indiana",
          "Indiana",
          "Indiana",
          "Indiana",
          "Indiana",
          "Indiana",
          "Indiana",
          "Indiana",
          "Indiana",
          "Indiana",
          "Indiana",
          "Indiana",
          "Indiana",
          "Indiana",
          "Indiana",
          "Indiana",
          "Indiana",
          "Indiana",
          "Indiana",
          "Indiana",
          "Indiana",
          "Indiana",
          "Indiana",
          "Indiana",
          "Indiana",
          "Indiana",
          "Indiana",
          "Indiana",
          "Indiana",
          "Indiana",
          "Indiana",
          "Indiana",
          "Indiana",
          "Indiana",
          "Indiana",
          "Iowa",
          "Iowa",
          "Iowa",
          "Iowa",
          "Iowa",
          "Iowa",
          "Iowa",
          "Iowa",
          "Iowa",
          "Iowa",
          "Iowa",
          "Iowa",
          "Iowa",
          "Iowa",
          "Iowa",
          "Iowa",
          "Iowa",
          "Iowa",
          "Iowa",
          "Iowa",
          "Iowa",
          "Iowa",
          "Iowa",
          "Iowa",
          "Iowa",
          "Iowa",
          "Iowa",
          "Iowa",
          "Iowa",
          "Iowa",
          "Iowa",
          "Iowa",
          "Iowa",
          "Iowa",
          "Iowa",
          "Iowa",
          "Iowa",
          "Iowa",
          "Iowa",
          "Iowa",
          "Iowa",
          "Iowa",
          "Iowa",
          "Iowa",
          "Iowa",
          "Iowa",
          "Iowa",
          "Iowa",
          "Iowa",
          "Iowa",
          "Iowa",
          "Iowa",
          "Iowa",
          "Iowa",
          "Iowa",
          "Iowa",
          "Iowa",
          "Iowa",
          "Iowa",
          "Iowa",
          "Iowa",
          "Iowa",
          "Iowa",
          "Iowa",
          "Iowa",
          "Iowa",
          "Iowa",
          "Iowa",
          "Iowa",
          "Iowa",
          "Iowa",
          "Iowa",
          "Iowa",
          "Iowa",
          "Iowa",
          "Iowa",
          "Iowa",
          "Iowa",
          "Iowa",
          "Iowa",
          "Iowa",
          "Iowa",
          "Iowa",
          "Iowa",
          "Iowa",
          "Iowa",
          "Iowa",
          "Iowa",
          "Iowa",
          "Iowa",
          "Iowa",
          "Iowa",
          "Iowa",
          "Iowa",
          "Iowa",
          "Iowa",
          "Iowa",
          "Iowa",
          "Iowa",
          "Iowa",
          "Kansas",
          "Kansas",
          "Kansas",
          "Kansas",
          "Kansas",
          "Kansas",
          "Kansas",
          "Kansas",
          "Kansas",
          "Kansas",
          "Kansas",
          "Kansas",
          "Kansas",
          "Kansas",
          "Kansas",
          "Kansas",
          "Kansas",
          "Kansas",
          "Kansas",
          "Kansas",
          "Kansas",
          "Kansas",
          "Kansas",
          "Kansas",
          "Kansas",
          "Kansas",
          "Kansas",
          "Kansas",
          "Kansas",
          "Kansas",
          "Kansas",
          "Kansas",
          "Kansas",
          "Kansas",
          "Kansas",
          "Kansas",
          "Kansas",
          "Kansas",
          "Kansas",
          "Kansas",
          "Kansas",
          "Kansas",
          "Kansas",
          "Kansas",
          "Kansas",
          "Kansas",
          "Kansas",
          "Kansas",
          "Kansas",
          "Kansas",
          "Kansas",
          "Kansas",
          "Kansas",
          "Kansas",
          "Kansas",
          "Kansas",
          "Kansas",
          "Kansas",
          "Kansas",
          "Kansas",
          "Kansas",
          "Kansas",
          "Kansas",
          "Kansas",
          "Kansas",
          "Kansas",
          "Kansas",
          "Kansas",
          "Kansas",
          "Kansas",
          "Kansas",
          "Kansas",
          "Kansas",
          "Kansas",
          "Kansas",
          "Kansas",
          "Kansas",
          "Kansas",
          "Kansas",
          "Kansas",
          "Kansas",
          "Kansas",
          "Kansas",
          "Kansas",
          "Kansas",
          "Kansas",
          "Kansas",
          "Kansas",
          "Kansas",
          "Kansas",
          "Kansas",
          "Kansas",
          "Kansas",
          "Kansas",
          "Kansas",
          "Kansas",
          "Kansas",
          "Kansas",
          "Kansas",
          "Kansas",
          "Kansas",
          "Kansas",
          "Kansas",
          "Kansas",
          "Kansas",
          "Kansas",
          "Kansas",
          "Kentucky",
          "Kentucky",
          "Kentucky",
          "Kentucky",
          "Kentucky",
          "Kentucky",
          "Kentucky",
          "Kentucky",
          "Kentucky",
          "Kentucky",
          "Kentucky",
          "Kentucky",
          "Kentucky",
          "Kentucky",
          "Kentucky",
          "Kentucky",
          "Kentucky",
          "Kentucky",
          "Kentucky",
          "Kentucky",
          "Kentucky",
          "Kentucky",
          "Kentucky",
          "Kentucky",
          "Kentucky",
          "Kentucky",
          "Kentucky",
          "Kentucky",
          "Kentucky",
          "Kentucky",
          "Kentucky",
          "Kentucky",
          "Kentucky",
          "Kentucky",
          "Kentucky",
          "Kentucky",
          "Kentucky",
          "Kentucky",
          "Kentucky",
          "Kentucky",
          "Kentucky",
          "Kentucky",
          "Kentucky",
          "Kentucky",
          "Kentucky",
          "Kentucky",
          "Kentucky",
          "Kentucky",
          "Kentucky",
          "Kentucky",
          "Kentucky",
          "Kentucky",
          "Kentucky",
          "Kentucky",
          "Kentucky",
          "Kentucky",
          "Kentucky",
          "Kentucky",
          "Kentucky",
          "Kentucky",
          "Kentucky",
          "Kentucky",
          "Kentucky",
          "Kentucky",
          "Kentucky",
          "Kentucky",
          "Kentucky",
          "Kentucky",
          "Kentucky",
          "Kentucky",
          "Kentucky",
          "Kentucky",
          "Kentucky",
          "Kentucky",
          "Kentucky",
          "Kentucky",
          "Kentucky",
          "Kentucky",
          "Kentucky",
          "Kentucky",
          "Kentucky",
          "Kentucky",
          "Kentucky",
          "Kentucky",
          "Kentucky",
          "Kentucky",
          "Kentucky",
          "Kentucky",
          "Kentucky",
          "Kentucky",
          "Kentucky",
          "Kentucky",
          "Kentucky",
          "Kentucky",
          "Kentucky",
          "Kentucky",
          "Kentucky",
          "Kentucky",
          "Kentucky",
          "Kentucky",
          "Kentucky",
          "Kentucky",
          "Kentucky",
          "Kentucky",
          "Kentucky",
          "Kentucky",
          "Kentucky",
          "Kentucky",
          "Kentucky",
          "Kentucky",
          "Kentucky",
          "Kentucky",
          "Kentucky",
          "Kentucky",
          "Kentucky",
          "Kentucky",
          "Kentucky",
          "Kentucky",
          "Kentucky",
          "Kentucky",
          "Kentucky",
          "Louisiana",
          "Louisiana",
          "Louisiana",
          "Louisiana",
          "Louisiana",
          "Louisiana",
          "Louisiana",
          "Louisiana",
          "Louisiana",
          "Louisiana",
          "Louisiana",
          "Louisiana",
          "Louisiana",
          "Louisiana",
          "Louisiana",
          "Louisiana",
          "Louisiana",
          "Louisiana",
          "Louisiana",
          "Louisiana",
          "Louisiana",
          "Louisiana",
          "Louisiana",
          "Louisiana",
          "Louisiana",
          "Louisiana",
          "Louisiana",
          "Louisiana",
          "Louisiana",
          "Louisiana",
          "Louisiana",
          "Louisiana",
          "Louisiana",
          "Louisiana",
          "Louisiana",
          "Louisiana",
          "Louisiana",
          "Louisiana",
          "Louisiana",
          "Louisiana",
          "Louisiana",
          "Louisiana",
          "Louisiana",
          "Louisiana",
          "Louisiana",
          "Louisiana",
          "Louisiana",
          "Louisiana",
          "Louisiana",
          "Louisiana",
          "Louisiana",
          "Louisiana",
          "Louisiana",
          "Louisiana",
          "Louisiana",
          "Louisiana",
          "Louisiana",
          "Louisiana",
          "Louisiana",
          "Louisiana",
          "Louisiana",
          "Louisiana",
          "Louisiana",
          "Louisiana",
          "Louisiana",
          "Louisiana",
          "Maine",
          "Maine",
          "Maine",
          "Maine",
          "Maine",
          "Maine",
          "Maine",
          "Maine",
          "Maine",
          "Maine",
          "Maine",
          "Maine",
          "Maine",
          "Maine",
          "Maine",
          "Maine",
          "Maine",
          "Maine",
          "Maryland",
          "Maryland",
          "Maryland",
          "Maryland",
          "Maryland",
          "Maryland",
          "Maryland",
          "Maryland",
          "Maryland",
          "Maryland",
          "Maryland",
          "Maryland",
          "Maryland",
          "Maryland",
          "Maryland",
          "Maryland",
          "Maryland",
          "Maryland",
          "Maryland",
          "Maryland",
          "Maryland",
          "Maryland",
          "Maryland",
          "Maryland",
          "Maryland",
          "Massachusetts",
          "Massachusetts",
          "Massachusetts",
          "Massachusetts",
          "Massachusetts",
          "Massachusetts",
          "Massachusetts",
          "Massachusetts",
          "Massachusetts",
          "Massachusetts",
          "Massachusetts",
          "Massachusetts",
          "Massachusetts",
          "Massachusetts",
          "Michigan",
          "Michigan",
          "Michigan",
          "Michigan",
          "Michigan",
          "Michigan",
          "Michigan",
          "Michigan",
          "Michigan",
          "Michigan",
          "Michigan",
          "Michigan",
          "Michigan",
          "Michigan",
          "Michigan",
          "Michigan",
          "Michigan",
          "Michigan",
          "Michigan",
          "Michigan",
          "Michigan",
          "Michigan",
          "Michigan",
          "Michigan",
          "Michigan",
          "Michigan",
          "Michigan",
          "Michigan",
          "Michigan",
          "Michigan",
          "Michigan",
          "Michigan",
          "Michigan",
          "Michigan",
          "Michigan",
          "Michigan",
          "Michigan",
          "Michigan",
          "Michigan",
          "Michigan",
          "Michigan",
          "Michigan",
          "Michigan",
          "Michigan",
          "Michigan",
          "Michigan",
          "Michigan",
          "Michigan",
          "Michigan",
          "Michigan",
          "Michigan",
          "Michigan",
          "Michigan",
          "Michigan",
          "Michigan",
          "Michigan",
          "Michigan",
          "Michigan",
          "Michigan",
          "Michigan",
          "Michigan",
          "Michigan",
          "Michigan",
          "Michigan",
          "Michigan",
          "Michigan",
          "Michigan",
          "Michigan",
          "Michigan",
          "Michigan",
          "Michigan",
          "Michigan",
          "Michigan",
          "Michigan",
          "Michigan",
          "Michigan",
          "Michigan",
          "Michigan",
          "Michigan",
          "Michigan",
          "Michigan",
          "Michigan",
          "Michigan",
          "Michigan",
          "Michigan",
          "Michigan",
          "Michigan",
          "Minnesota",
          "Minnesota",
          "Minnesota",
          "Minnesota",
          "Minnesota",
          "Minnesota",
          "Minnesota",
          "Minnesota",
          "Minnesota",
          "Minnesota",
          "Minnesota",
          "Minnesota",
          "Minnesota",
          "Minnesota",
          "Minnesota",
          "Minnesota",
          "Minnesota",
          "Minnesota",
          "Minnesota",
          "Minnesota",
          "Minnesota",
          "Minnesota",
          "Minnesota",
          "Minnesota",
          "Minnesota",
          "Minnesota",
          "Minnesota",
          "Minnesota",
          "Minnesota",
          "Minnesota",
          "Minnesota",
          "Minnesota",
          "Minnesota",
          "Minnesota",
          "Minnesota",
          "Minnesota",
          "Minnesota",
          "Minnesota",
          "Minnesota",
          "Minnesota",
          "Minnesota",
          "Minnesota",
          "Minnesota",
          "Minnesota",
          "Minnesota",
          "Minnesota",
          "Minnesota",
          "Minnesota",
          "Minnesota",
          "Minnesota",
          "Minnesota",
          "Minnesota",
          "Minnesota",
          "Minnesota",
          "Minnesota",
          "Minnesota",
          "Minnesota",
          "Minnesota",
          "Minnesota",
          "Minnesota",
          "Minnesota",
          "Minnesota",
          "Minnesota",
          "Minnesota",
          "Minnesota",
          "Minnesota",
          "Minnesota",
          "Minnesota",
          "Minnesota",
          "Minnesota",
          "Minnesota",
          "Minnesota",
          "Minnesota",
          "Minnesota",
          "Minnesota",
          "Minnesota",
          "Minnesota",
          "Minnesota",
          "Minnesota",
          "Minnesota",
          "Minnesota",
          "Minnesota",
          "Minnesota",
          "Minnesota",
          "Minnesota",
          "Minnesota",
          "Minnesota",
          "Minnesota",
          "Mississippi",
          "Mississippi",
          "Mississippi",
          "Mississippi",
          "Mississippi",
          "Mississippi",
          "Mississippi",
          "Mississippi",
          "Mississippi",
          "Mississippi",
          "Mississippi",
          "Mississippi",
          "Mississippi",
          "Mississippi",
          "Mississippi",
          "Mississippi",
          "Mississippi",
          "Mississippi",
          "Mississippi",
          "Mississippi",
          "Mississippi",
          "Mississippi",
          "Mississippi",
          "Mississippi",
          "Mississippi",
          "Mississippi",
          "Mississippi",
          "Mississippi",
          "Mississippi",
          "Mississippi",
          "Mississippi",
          "Mississippi",
          "Mississippi",
          "Mississippi",
          "Mississippi",
          "Mississippi",
          "Mississippi",
          "Mississippi",
          "Mississippi",
          "Mississippi",
          "Mississippi",
          "Mississippi",
          "Mississippi",
          "Mississippi",
          "Mississippi",
          "Mississippi",
          "Mississippi",
          "Mississippi",
          "Mississippi",
          "Mississippi",
          "Mississippi",
          "Mississippi",
          "Mississippi",
          "Mississippi",
          "Mississippi",
          "Mississippi",
          "Mississippi",
          "Mississippi",
          "Mississippi",
          "Mississippi",
          "Mississippi",
          "Mississippi",
          "Mississippi",
          "Mississippi",
          "Mississippi",
          "Mississippi",
          "Mississippi",
          "Mississippi",
          "Mississippi",
          "Mississippi",
          "Mississippi",
          "Mississippi",
          "Mississippi",
          "Mississippi",
          "Mississippi",
          "Mississippi",
          "Mississippi",
          "Mississippi",
          "Mississippi",
          "Mississippi",
          "Mississippi",
          "Mississippi",
          "Mississippi",
          "Missouri",
          "Missouri",
          "Missouri",
          "Missouri",
          "Missouri",
          "Missouri",
          "Missouri",
          "Missouri",
          "Missouri",
          "Missouri",
          "Missouri",
          "Missouri",
          "Missouri",
          "Missouri",
          "Missouri",
          "Missouri",
          "Missouri",
          "Missouri",
          "Missouri",
          "Missouri",
          "Missouri",
          "Missouri",
          "Missouri",
          "Missouri",
          "Missouri",
          "Missouri",
          "Missouri",
          "Missouri",
          "Missouri",
          "Missouri",
          "Missouri",
          "Missouri",
          "Missouri",
          "Missouri",
          "Missouri",
          "Missouri",
          "Missouri",
          "Missouri",
          "Missouri",
          "Missouri",
          "Missouri",
          "Missouri",
          "Missouri",
          "Missouri",
          "Missouri",
          "Missouri",
          "Missouri",
          "Missouri",
          "Missouri",
          "Missouri",
          "Missouri",
          "Missouri",
          "Missouri",
          "Missouri",
          "Missouri",
          "Missouri",
          "Missouri",
          "Missouri",
          "Missouri",
          "Missouri",
          "Missouri",
          "Missouri",
          "Missouri",
          "Missouri",
          "Missouri",
          "Missouri",
          "Missouri",
          "Missouri",
          "Missouri",
          "Missouri",
          "Missouri",
          "Missouri",
          "Missouri",
          "Missouri",
          "Missouri",
          "Missouri",
          "Missouri",
          "Missouri",
          "Missouri",
          "Missouri",
          "Missouri",
          "Missouri",
          "Missouri",
          "Missouri",
          "Missouri",
          "Missouri",
          "Missouri",
          "Missouri",
          "Missouri",
          "Missouri",
          "Missouri",
          "Missouri",
          "Missouri",
          "Missouri",
          "Missouri",
          "Missouri",
          "Missouri",
          "Missouri",
          "Missouri",
          "Missouri",
          "Missouri",
          "Missouri",
          "Missouri",
          "Missouri",
          "Missouri",
          "Missouri",
          "Missouri",
          "Missouri",
          "Missouri",
          "Missouri",
          "Missouri",
          "Missouri",
          "Missouri",
          "Missouri",
          "Missouri",
          "Missouri",
          "Missouri",
          "Montana",
          "Montana",
          "Montana",
          "Montana",
          "Montana",
          "Montana",
          "Montana",
          "Montana",
          "Montana",
          "Montana",
          "Montana",
          "Montana",
          "Montana",
          "Montana",
          "Montana",
          "Montana",
          "Montana",
          "Montana",
          "Montana",
          "Montana",
          "Montana",
          "Montana",
          "Montana",
          "Montana",
          "Montana",
          "Montana",
          "Montana",
          "Montana",
          "Montana",
          "Montana",
          "Montana",
          "Montana",
          "Montana",
          "Montana",
          "Montana",
          "Montana",
          "Montana",
          "Montana",
          "Montana",
          "Montana",
          "Montana",
          "Montana",
          "Montana",
          "Montana",
          "Montana",
          "Montana",
          "Montana",
          "Montana",
          "Montana",
          "Montana",
          "Montana",
          "Montana",
          "Montana",
          "Montana",
          "Montana",
          "Montana",
          "Montana",
          "Nebraska",
          "Nebraska",
          "Nebraska",
          "Nebraska",
          "Nebraska",
          "Nebraska",
          "Nebraska",
          "Nebraska",
          "Nebraska",
          "Nebraska",
          "Nebraska",
          "Nebraska",
          "Nebraska",
          "Nebraska",
          "Nebraska",
          "Nebraska",
          "Nebraska",
          "Nebraska",
          "Nebraska",
          "Nebraska",
          "Nebraska",
          "Nebraska",
          "Nebraska",
          "Nebraska",
          "Nebraska",
          "Nebraska",
          "Nebraska",
          "Nebraska",
          "Nebraska",
          "Nebraska",
          "Nebraska",
          "Nebraska",
          "Nebraska",
          "Nebraska",
          "Nebraska",
          "Nebraska",
          "Nebraska",
          "Nebraska",
          "Nebraska",
          "Nebraska",
          "Nebraska",
          "Nebraska",
          "Nebraska",
          "Nebraska",
          "Nebraska",
          "Nebraska",
          "Nebraska",
          "Nebraska",
          "Nebraska",
          "Nebraska",
          "Nebraska",
          "Nebraska",
          "Nebraska",
          "Nebraska",
          "Nebraska",
          "Nebraska",
          "Nebraska",
          "Nebraska",
          "Nebraska",
          "Nebraska",
          "Nebraska",
          "Nebraska",
          "Nebraska",
          "Nebraska",
          "Nebraska",
          "Nebraska",
          "Nebraska",
          "Nebraska",
          "Nebraska",
          "Nebraska",
          "Nebraska",
          "Nebraska",
          "Nebraska",
          "Nebraska",
          "Nebraska",
          "Nebraska",
          "Nebraska",
          "Nebraska",
          "Nebraska",
          "Nebraska",
          "Nebraska",
          "Nebraska",
          "Nebraska",
          "Nebraska",
          "Nebraska",
          "Nebraska",
          "Nebraska",
          "Nebraska",
          "Nebraska",
          "Nebraska",
          "Nebraska",
          "Nebraska",
          "Nebraska",
          "Nebraska",
          "Nevada",
          "Nevada",
          "Nevada",
          "Nevada",
          "Nevada",
          "Nevada",
          "Nevada",
          "Nevada",
          "Nevada",
          "Nevada",
          "Nevada",
          "Nevada",
          "Nevada",
          "Nevada",
          "Nevada",
          "Nevada",
          "Nevada",
          "Nevada",
          "New Hampshire",
          "New Hampshire",
          "New Hampshire",
          "New Hampshire",
          "New Hampshire",
          "New Hampshire",
          "New Hampshire",
          "New Hampshire",
          "New Hampshire",
          "New Hampshire",
          "New Hampshire",
          "New Jersey",
          "New Jersey",
          "New Jersey",
          "New Jersey",
          "New Jersey",
          "New Jersey",
          "New Jersey",
          "New Jersey",
          "New Jersey",
          "New Jersey",
          "New Jersey",
          "New Jersey",
          "New Jersey",
          "New Jersey",
          "New Jersey",
          "New Jersey",
          "New Jersey",
          "New Jersey",
          "New Jersey",
          "New Jersey",
          "New Jersey",
          "New Jersey",
          "New Mexico",
          "New Mexico",
          "New Mexico",
          "New Mexico",
          "New Mexico",
          "New Mexico",
          "New Mexico",
          "New Mexico",
          "New Mexico",
          "New Mexico",
          "New Mexico",
          "New Mexico",
          "New Mexico",
          "New Mexico",
          "New Mexico",
          "New Mexico",
          "New Mexico",
          "New Mexico",
          "New Mexico",
          "New Mexico",
          "New Mexico",
          "New Mexico",
          "New Mexico",
          "New Mexico",
          "New Mexico",
          "New Mexico",
          "New Mexico",
          "New Mexico",
          "New Mexico",
          "New Mexico",
          "New Mexico",
          "New Mexico",
          "New Mexico",
          "New Mexico",
          "New York",
          "New York",
          "New York",
          "New York",
          "New York",
          "New York",
          "New York",
          "New York",
          "New York",
          "New York",
          "New York",
          "New York",
          "New York",
          "New York",
          "New York",
          "New York",
          "New York",
          "New York",
          "New York",
          "New York",
          "New York",
          "New York",
          "New York",
          "New York",
          "New York",
          "New York",
          "New York",
          "New York",
          "New York",
          "New York",
          "New York",
          "New York",
          "New York",
          "New York",
          "New York",
          "New York",
          "New York",
          "New York",
          "New York",
          "New York",
          "New York",
          "New York",
          "New York",
          "New York",
          "New York",
          "New York",
          "New York",
          "New York",
          "New York",
          "New York",
          "New York",
          "New York",
          "New York",
          "New York",
          "New York",
          "New York",
          "New York",
          "New York",
          "New York",
          "New York",
          "New York",
          "New York",
          "New York",
          "New York",
          "North Carolina",
          "North Carolina",
          "North Carolina",
          "North Carolina",
          "North Carolina",
          "North Carolina",
          "North Carolina",
          "North Carolina",
          "North Carolina",
          "North Carolina",
          "North Carolina",
          "North Carolina",
          "North Carolina",
          "North Carolina",
          "North Carolina",
          "North Carolina",
          "North Carolina",
          "North Carolina",
          "North Carolina",
          "North Carolina",
          "North Carolina",
          "North Carolina",
          "North Carolina",
          "North Carolina",
          "North Carolina",
          "North Carolina",
          "North Carolina",
          "North Carolina",
          "North Carolina",
          "North Carolina",
          "North Carolina",
          "North Carolina",
          "North Carolina",
          "North Carolina",
          "North Carolina",
          "North Carolina",
          "North Carolina",
          "North Carolina",
          "North Carolina",
          "North Carolina",
          "North Carolina",
          "North Carolina",
          "North Carolina",
          "North Carolina",
          "North Carolina",
          "North Carolina",
          "North Carolina",
          "North Carolina",
          "North Carolina",
          "North Carolina",
          "North Carolina",
          "North Carolina",
          "North Carolina",
          "North Carolina",
          "North Carolina",
          "North Carolina",
          "North Carolina",
          "North Carolina",
          "North Carolina",
          "North Carolina",
          "North Carolina",
          "North Carolina",
          "North Carolina",
          "North Carolina",
          "North Carolina",
          "North Carolina",
          "North Carolina",
          "North Carolina",
          "North Carolina",
          "North Carolina",
          "North Carolina",
          "North Carolina",
          "North Carolina",
          "North Carolina",
          "North Carolina",
          "North Carolina",
          "North Carolina",
          "North Carolina",
          "North Carolina",
          "North Carolina",
          "North Carolina",
          "North Carolina",
          "North Carolina",
          "North Carolina",
          "North Carolina",
          "North Carolina",
          "North Carolina",
          "North Carolina",
          "North Carolina",
          "North Carolina",
          "North Carolina",
          "North Carolina",
          "North Carolina",
          "North Carolina",
          "North Carolina",
          "North Carolina",
          "North Carolina",
          "North Carolina",
          "North Carolina",
          "North Carolina",
          "North Carolina",
          "North Dakota",
          "North Dakota",
          "North Dakota",
          "North Dakota",
          "North Dakota",
          "North Dakota",
          "North Dakota",
          "North Dakota",
          "North Dakota",
          "North Dakota",
          "North Dakota",
          "North Dakota",
          "North Dakota",
          "North Dakota",
          "North Dakota",
          "North Dakota",
          "North Dakota",
          "North Dakota",
          "North Dakota",
          "North Dakota",
          "North Dakota",
          "North Dakota",
          "North Dakota",
          "North Dakota",
          "North Dakota",
          "North Dakota",
          "North Dakota",
          "North Dakota",
          "North Dakota",
          "North Dakota",
          "North Dakota",
          "North Dakota",
          "North Dakota",
          "North Dakota",
          "North Dakota",
          "North Dakota",
          "North Dakota",
          "North Dakota",
          "North Dakota",
          "North Dakota",
          "North Dakota",
          "North Dakota",
          "North Dakota",
          "North Dakota",
          "North Dakota",
          "North Dakota",
          "North Dakota",
          "North Dakota",
          "North Dakota",
          "North Dakota",
          "North Dakota",
          "North Dakota",
          "North Dakota",
          "North Dakota",
          "Northern Mariana Islands",
          "Ohio",
          "Ohio",
          "Ohio",
          "Ohio",
          "Ohio",
          "Ohio",
          "Ohio",
          "Ohio",
          "Ohio",
          "Ohio",
          "Ohio",
          "Ohio",
          "Ohio",
          "Ohio",
          "Ohio",
          "Ohio",
          "Ohio",
          "Ohio",
          "Ohio",
          "Ohio",
          "Ohio",
          "Ohio",
          "Ohio",
          "Ohio",
          "Ohio",
          "Ohio",
          "Ohio",
          "Ohio",
          "Ohio",
          "Ohio",
          "Ohio",
          "Ohio",
          "Ohio",
          "Ohio",
          "Ohio",
          "Ohio",
          "Ohio",
          "Ohio",
          "Ohio",
          "Ohio",
          "Ohio",
          "Ohio",
          "Ohio",
          "Ohio",
          "Ohio",
          "Ohio",
          "Ohio",
          "Ohio",
          "Ohio",
          "Ohio",
          "Ohio",
          "Ohio",
          "Ohio",
          "Ohio",
          "Ohio",
          "Ohio",
          "Ohio",
          "Ohio",
          "Ohio",
          "Ohio",
          "Ohio",
          "Ohio",
          "Ohio",
          "Ohio",
          "Ohio",
          "Ohio",
          "Ohio",
          "Ohio",
          "Ohio",
          "Ohio",
          "Ohio",
          "Ohio",
          "Ohio",
          "Ohio",
          "Ohio",
          "Ohio",
          "Ohio",
          "Ohio",
          "Ohio",
          "Ohio",
          "Ohio",
          "Ohio",
          "Ohio",
          "Ohio",
          "Ohio",
          "Ohio",
          "Ohio",
          "Ohio",
          "Ohio",
          "Oklahoma",
          "Oklahoma",
          "Oklahoma",
          "Oklahoma",
          "Oklahoma",
          "Oklahoma",
          "Oklahoma",
          "Oklahoma",
          "Oklahoma",
          "Oklahoma",
          "Oklahoma",
          "Oklahoma",
          "Oklahoma",
          "Oklahoma",
          "Oklahoma",
          "Oklahoma",
          "Oklahoma",
          "Oklahoma",
          "Oklahoma",
          "Oklahoma",
          "Oklahoma",
          "Oklahoma",
          "Oklahoma",
          "Oklahoma",
          "Oklahoma",
          "Oklahoma",
          "Oklahoma",
          "Oklahoma",
          "Oklahoma",
          "Oklahoma",
          "Oklahoma",
          "Oklahoma",
          "Oklahoma",
          "Oklahoma",
          "Oklahoma",
          "Oklahoma",
          "Oklahoma",
          "Oklahoma",
          "Oklahoma",
          "Oklahoma",
          "Oklahoma",
          "Oklahoma",
          "Oklahoma",
          "Oklahoma",
          "Oklahoma",
          "Oklahoma",
          "Oklahoma",
          "Oklahoma",
          "Oklahoma",
          "Oklahoma",
          "Oklahoma",
          "Oklahoma",
          "Oklahoma",
          "Oklahoma",
          "Oklahoma",
          "Oklahoma",
          "Oklahoma",
          "Oklahoma",
          "Oklahoma",
          "Oklahoma",
          "Oklahoma",
          "Oklahoma",
          "Oklahoma",
          "Oklahoma",
          "Oklahoma",
          "Oklahoma",
          "Oklahoma",
          "Oklahoma",
          "Oklahoma",
          "Oklahoma",
          "Oklahoma",
          "Oklahoma",
          "Oklahoma",
          "Oklahoma",
          "Oklahoma",
          "Oklahoma",
          "Oklahoma",
          "Oklahoma",
          "Oklahoma",
          "Oregon",
          "Oregon",
          "Oregon",
          "Oregon",
          "Oregon",
          "Oregon",
          "Oregon",
          "Oregon",
          "Oregon",
          "Oregon",
          "Oregon",
          "Oregon",
          "Oregon",
          "Oregon",
          "Oregon",
          "Oregon",
          "Oregon",
          "Oregon",
          "Oregon",
          "Oregon",
          "Oregon",
          "Oregon",
          "Oregon",
          "Oregon",
          "Oregon",
          "Oregon",
          "Oregon",
          "Oregon",
          "Oregon",
          "Oregon",
          "Oregon",
          "Oregon",
          "Oregon",
          "Oregon",
          "Oregon",
          "Oregon",
          "Oregon",
          "Pennsylvania",
          "Pennsylvania",
          "Pennsylvania",
          "Pennsylvania",
          "Pennsylvania",
          "Pennsylvania",
          "Pennsylvania",
          "Pennsylvania",
          "Pennsylvania",
          "Pennsylvania",
          "Pennsylvania",
          "Pennsylvania",
          "Pennsylvania",
          "Pennsylvania",
          "Pennsylvania",
          "Pennsylvania",
          "Pennsylvania",
          "Pennsylvania",
          "Pennsylvania",
          "Pennsylvania",
          "Pennsylvania",
          "Pennsylvania",
          "Pennsylvania",
          "Pennsylvania",
          "Pennsylvania",
          "Pennsylvania",
          "Pennsylvania",
          "Pennsylvania",
          "Pennsylvania",
          "Pennsylvania",
          "Pennsylvania",
          "Pennsylvania",
          "Pennsylvania",
          "Pennsylvania",
          "Pennsylvania",
          "Pennsylvania",
          "Pennsylvania",
          "Pennsylvania",
          "Pennsylvania",
          "Pennsylvania",
          "Pennsylvania",
          "Pennsylvania",
          "Pennsylvania",
          "Pennsylvania",
          "Pennsylvania",
          "Pennsylvania",
          "Pennsylvania",
          "Pennsylvania",
          "Pennsylvania",
          "Pennsylvania",
          "Pennsylvania",
          "Pennsylvania",
          "Pennsylvania",
          "Pennsylvania",
          "Pennsylvania",
          "Pennsylvania",
          "Pennsylvania",
          "Pennsylvania",
          "Pennsylvania",
          "Pennsylvania",
          "Pennsylvania",
          "Pennsylvania",
          "Pennsylvania",
          "Pennsylvania",
          "Pennsylvania",
          "Pennsylvania",
          "Pennsylvania",
          "Pennsylvania",
          "Puerto Rico",
          "Puerto Rico",
          "Puerto Rico",
          "Puerto Rico",
          "Puerto Rico",
          "Puerto Rico",
          "Puerto Rico",
          "Puerto Rico",
          "Puerto Rico",
          "Puerto Rico",
          "Puerto Rico",
          "Puerto Rico",
          "Puerto Rico",
          "Puerto Rico",
          "Puerto Rico",
          "Puerto Rico",
          "Puerto Rico",
          "Puerto Rico",
          "Puerto Rico",
          "Puerto Rico",
          "Puerto Rico",
          "Puerto Rico",
          "Puerto Rico",
          "Puerto Rico",
          "Puerto Rico",
          "Puerto Rico",
          "Puerto Rico",
          "Puerto Rico",
          "Puerto Rico",
          "Puerto Rico",
          "Puerto Rico",
          "Puerto Rico",
          "Puerto Rico",
          "Puerto Rico",
          "Puerto Rico",
          "Puerto Rico",
          "Puerto Rico",
          "Puerto Rico",
          "Puerto Rico",
          "Puerto Rico",
          "Puerto Rico",
          "Puerto Rico",
          "Puerto Rico",
          "Puerto Rico",
          "Puerto Rico",
          "Puerto Rico",
          "Puerto Rico",
          "Puerto Rico",
          "Puerto Rico",
          "Puerto Rico",
          "Puerto Rico",
          "Puerto Rico",
          "Puerto Rico",
          "Puerto Rico",
          "Puerto Rico",
          "Puerto Rico",
          "Puerto Rico",
          "Puerto Rico",
          "Puerto Rico",
          "Puerto Rico",
          "Puerto Rico",
          "Puerto Rico",
          "Puerto Rico",
          "Puerto Rico",
          "Puerto Rico",
          "Puerto Rico",
          "Puerto Rico",
          "Puerto Rico",
          "Puerto Rico",
          "Puerto Rico",
          "Puerto Rico",
          "Puerto Rico",
          "Puerto Rico",
          "Puerto Rico",
          "Puerto Rico",
          "Puerto Rico",
          "Puerto Rico",
          "Puerto Rico",
          "Puerto Rico",
          "Puerto Rico",
          "Recovered",
          "Rhode Island",
          "Rhode Island",
          "Rhode Island",
          "Rhode Island",
          "Rhode Island",
          "Rhode Island",
          "South Carolina",
          "South Carolina",
          "South Carolina",
          "South Carolina",
          "South Carolina",
          "South Carolina",
          "South Carolina",
          "South Carolina",
          "South Carolina",
          "South Carolina",
          "South Carolina",
          "South Carolina",
          "South Carolina",
          "South Carolina",
          "South Carolina",
          "South Carolina",
          "South Carolina",
          "South Carolina",
          "South Carolina",
          "South Carolina",
          "South Carolina",
          "South Carolina",
          "South Carolina",
          "South Carolina",
          "South Carolina",
          "South Carolina",
          "South Carolina",
          "South Carolina",
          "South Carolina",
          "South Carolina",
          "South Carolina",
          "South Carolina",
          "South Carolina",
          "South Carolina",
          "South Carolina",
          "South Carolina",
          "South Carolina",
          "South Carolina",
          "South Carolina",
          "South Carolina",
          "South Carolina",
          "South Carolina",
          "South Carolina",
          "South Carolina",
          "South Carolina",
          "South Carolina",
          "South Carolina",
          "South Dakota",
          "South Dakota",
          "South Dakota",
          "South Dakota",
          "South Dakota",
          "South Dakota",
          "South Dakota",
          "South Dakota",
          "South Dakota",
          "South Dakota",
          "South Dakota",
          "South Dakota",
          "South Dakota",
          "South Dakota",
          "South Dakota",
          "South Dakota",
          "South Dakota",
          "South Dakota",
          "South Dakota",
          "South Dakota",
          "South Dakota",
          "South Dakota",
          "South Dakota",
          "South Dakota",
          "South Dakota",
          "South Dakota",
          "South Dakota",
          "South Dakota",
          "South Dakota",
          "South Dakota",
          "South Dakota",
          "South Dakota",
          "South Dakota",
          "South Dakota",
          "South Dakota",
          "South Dakota",
          "South Dakota",
          "South Dakota",
          "South Dakota",
          "South Dakota",
          "South Dakota",
          "South Dakota",
          "South Dakota",
          "South Dakota",
          "South Dakota",
          "South Dakota",
          "South Dakota",
          "South Dakota",
          "South Dakota",
          "South Dakota",
          "South Dakota",
          "South Dakota",
          "South Dakota",
          "South Dakota",
          "South Dakota",
          "South Dakota",
          "South Dakota",
          "South Dakota",
          "South Dakota",
          "South Dakota",
          "South Dakota",
          "South Dakota",
          "South Dakota",
          "South Dakota",
          "South Dakota",
          "South Dakota",
          "South Dakota",
          "Tennessee",
          "Tennessee",
          "Tennessee",
          "Tennessee",
          "Tennessee",
          "Tennessee",
          "Tennessee",
          "Tennessee",
          "Tennessee",
          "Tennessee",
          "Tennessee",
          "Tennessee",
          "Tennessee",
          "Tennessee",
          "Tennessee",
          "Tennessee",
          "Tennessee",
          "Tennessee",
          "Tennessee",
          "Tennessee",
          "Tennessee",
          "Tennessee",
          "Tennessee",
          "Tennessee",
          "Tennessee",
          "Tennessee",
          "Tennessee",
          "Tennessee",
          "Tennessee",
          "Tennessee",
          "Tennessee",
          "Tennessee",
          "Tennessee",
          "Tennessee",
          "Tennessee",
          "Tennessee",
          "Tennessee",
          "Tennessee",
          "Tennessee",
          "Tennessee",
          "Tennessee",
          "Tennessee",
          "Tennessee",
          "Tennessee",
          "Tennessee",
          "Tennessee",
          "Tennessee",
          "Tennessee",
          "Tennessee",
          "Tennessee",
          "Tennessee",
          "Tennessee",
          "Tennessee",
          "Tennessee",
          "Tennessee",
          "Tennessee",
          "Tennessee",
          "Tennessee",
          "Tennessee",
          "Tennessee",
          "Tennessee",
          "Tennessee",
          "Tennessee",
          "Tennessee",
          "Tennessee",
          "Tennessee",
          "Tennessee",
          "Tennessee",
          "Tennessee",
          "Tennessee",
          "Tennessee",
          "Tennessee",
          "Tennessee",
          "Tennessee",
          "Tennessee",
          "Tennessee",
          "Tennessee",
          "Tennessee",
          "Tennessee",
          "Tennessee",
          "Tennessee",
          "Tennessee",
          "Tennessee",
          "Tennessee",
          "Tennessee",
          "Tennessee",
          "Tennessee",
          "Tennessee",
          "Tennessee",
          "Tennessee",
          "Tennessee",
          "Tennessee",
          "Tennessee",
          "Tennessee",
          "Tennessee",
          "Tennessee",
          "Tennessee",
          "Texas",
          "Texas",
          "Texas",
          "Texas",
          "Texas",
          "Texas",
          "Texas",
          "Texas",
          "Texas",
          "Texas",
          "Texas",
          "Texas",
          "Texas",
          "Texas",
          "Texas",
          "Texas",
          "Texas",
          "Texas",
          "Texas",
          "Texas",
          "Texas",
          "Texas",
          "Texas",
          "Texas",
          "Texas",
          "Texas",
          "Texas",
          "Texas",
          "Texas",
          "Texas",
          "Texas",
          "Texas",
          "Texas",
          "Texas",
          "Texas",
          "Texas",
          "Texas",
          "Texas",
          "Texas",
          "Texas",
          "Texas",
          "Texas",
          "Texas",
          "Texas",
          "Texas",
          "Texas",
          "Texas",
          "Texas",
          "Texas",
          "Texas",
          "Texas",
          "Texas",
          "Texas",
          "Texas",
          "Texas",
          "Texas",
          "Texas",
          "Texas",
          "Texas",
          "Texas",
          "Texas",
          "Texas",
          "Texas",
          "Texas",
          "Texas",
          "Texas",
          "Texas",
          "Texas",
          "Texas",
          "Texas",
          "Texas",
          "Texas",
          "Texas",
          "Texas",
          "Texas",
          "Texas",
          "Texas",
          "Texas",
          "Texas",
          "Texas",
          "Texas",
          "Texas",
          "Texas",
          "Texas",
          "Texas",
          "Texas",
          "Texas",
          "Texas",
          "Texas",
          "Texas",
          "Texas",
          "Texas",
          "Texas",
          "Texas",
          "Texas",
          "Texas",
          "Texas",
          "Texas",
          "Texas",
          "Texas",
          "Texas",
          "Texas",
          "Texas",
          "Texas",
          "Texas",
          "Texas",
          "Texas",
          "Texas",
          "Texas",
          "Texas",
          "Texas",
          "Texas",
          "Texas",
          "Texas",
          "Texas",
          "Texas",
          "Texas",
          "Texas",
          "Texas",
          "Texas",
          "Texas",
          "Texas",
          "Texas",
          "Texas",
          "Texas",
          "Texas",
          "Texas",
          "Texas",
          "Texas",
          "Texas",
          "Texas",
          "Texas",
          "Texas",
          "Texas",
          "Texas",
          "Texas",
          "Texas",
          "Texas",
          "Texas",
          "Texas",
          "Texas",
          "Texas",
          "Texas",
          "Texas",
          "Texas",
          "Texas",
          "Texas",
          "Texas",
          "Texas",
          "Texas",
          "Texas",
          "Texas",
          "Texas",
          "Texas",
          "Texas",
          "Texas",
          "Texas",
          "Texas",
          "Texas",
          "Texas",
          "Texas",
          "Texas",
          "Texas",
          "Texas",
          "Texas",
          "Texas",
          "Texas",
          "Texas",
          "Texas",
          "Texas",
          "Texas",
          "Texas",
          "Texas",
          "Texas",
          "Texas",
          "Texas",
          "Texas",
          "Texas",
          "Texas",
          "Texas",
          "Texas",
          "Texas",
          "Texas",
          "Texas",
          "Texas",
          "Texas",
          "Texas",
          "Texas",
          "Texas",
          "Texas",
          "Texas",
          "Texas",
          "Texas",
          "Texas",
          "Texas",
          "Texas",
          "Texas",
          "Texas",
          "Texas",
          "Texas",
          "Texas",
          "Texas",
          "Texas",
          "Texas",
          "Texas",
          "Texas",
          "Texas",
          "Texas",
          "Texas",
          "Texas",
          "Texas",
          "Texas",
          "Texas",
          "Texas",
          "Texas",
          "Texas",
          "Texas",
          "Texas",
          "Texas",
          "Texas",
          "Texas",
          "Texas",
          "Texas",
          "Texas",
          "Texas",
          "Texas",
          "Texas",
          "Texas",
          "Texas",
          "Texas",
          "Texas",
          "Texas",
          "Texas",
          "Texas",
          "Texas",
          "Texas",
          "Texas",
          "Texas",
          "Texas",
          "Texas",
          "Texas",
          "Texas",
          "Texas",
          "Texas",
          "Texas",
          "Texas",
          "Texas",
          "Texas",
          "Texas",
          "Texas",
          "Texas",
          "Texas",
          "Texas",
          "Texas",
          "Texas",
          "Utah",
          "Utah",
          "Utah",
          "Utah",
          "Utah",
          "Utah",
          "Utah",
          "Utah",
          "Utah",
          "Utah",
          "Utah",
          "Utah",
          "Utah",
          "Utah",
          "Vermont",
          "Vermont",
          "Vermont",
          "Vermont",
          "Vermont",
          "Vermont",
          "Vermont",
          "Vermont",
          "Vermont",
          "Vermont",
          "Vermont",
          "Vermont",
          "Vermont",
          "Vermont",
          "Vermont",
          "Virgin Islands",
          "Virginia",
          "Virginia",
          "Virginia",
          "Virginia",
          "Virginia",
          "Virginia",
          "Virginia",
          "Virginia",
          "Virginia",
          "Virginia",
          "Virginia",
          "Virginia",
          "Virginia",
          "Virginia",
          "Virginia",
          "Virginia",
          "Virginia",
          "Virginia",
          "Virginia",
          "Virginia",
          "Virginia",
          "Virginia",
          "Virginia",
          "Virginia",
          "Virginia",
          "Virginia",
          "Virginia",
          "Virginia",
          "Virginia",
          "Virginia",
          "Virginia",
          "Virginia",
          "Virginia",
          "Virginia",
          "Virginia",
          "Virginia",
          "Virginia",
          "Virginia",
          "Virginia",
          "Virginia",
          "Virginia",
          "Virginia",
          "Virginia",
          "Virginia",
          "Virginia",
          "Virginia",
          "Virginia",
          "Virginia",
          "Virginia",
          "Virginia",
          "Virginia",
          "Virginia",
          "Virginia",
          "Virginia",
          "Virginia",
          "Virginia",
          "Virginia",
          "Virginia",
          "Virginia",
          "Virginia",
          "Virginia",
          "Virginia",
          "Virginia",
          "Virginia",
          "Virginia",
          "Virginia",
          "Virginia",
          "Virginia",
          "Virginia",
          "Virginia",
          "Virginia",
          "Virginia",
          "Virginia",
          "Virginia",
          "Virginia",
          "Virginia",
          "Virginia",
          "Virginia",
          "Virginia",
          "Virginia",
          "Virginia",
          "Virginia",
          "Virginia",
          "Virginia",
          "Virginia",
          "Virginia",
          "Virginia",
          "Virginia",
          "Virginia",
          "Virginia",
          "Virginia",
          "Virginia",
          "Virginia",
          "Virginia",
          "Virginia",
          "Virginia",
          "Virginia",
          "Virginia",
          "Virginia",
          "Virginia",
          "Virginia",
          "Virginia",
          "Virginia",
          "Virginia",
          "Virginia",
          "Virginia",
          "Virginia",
          "Virginia",
          "Virginia",
          "Virginia",
          "Virginia",
          "Virginia",
          "Virginia",
          "Virginia",
          "Virginia",
          "Virginia",
          "Virginia",
          "Virginia",
          "Virginia",
          "Virginia",
          "Virginia",
          "Virginia",
          "Virginia",
          "Virginia",
          "Virginia",
          "Virginia",
          "Virginia",
          "Virginia",
          "Virginia",
          "Virginia",
          "Virginia",
          "Virginia",
          "Virginia",
          "Virginia",
          "Washington",
          "Washington",
          "Washington",
          "Washington",
          "Washington",
          "Washington",
          "Washington",
          "Washington",
          "Washington",
          "Washington",
          "Washington",
          "Washington",
          "Washington",
          "Washington",
          "Washington",
          "Washington",
          "Washington",
          "Washington",
          "Washington",
          "Washington",
          "Washington",
          "Washington",
          "Washington",
          "Washington",
          "Washington",
          "Washington",
          "Washington",
          "Washington",
          "Washington",
          "Washington",
          "Washington",
          "Washington",
          "Washington",
          "Washington",
          "Washington",
          "Washington",
          "Washington",
          "Washington",
          "Washington",
          "Washington",
          "West Virginia",
          "West Virginia",
          "West Virginia",
          "West Virginia",
          "West Virginia",
          "West Virginia",
          "West Virginia",
          "West Virginia",
          "West Virginia",
          "West Virginia",
          "West Virginia",
          "West Virginia",
          "West Virginia",
          "West Virginia",
          "West Virginia",
          "West Virginia",
          "West Virginia",
          "West Virginia",
          "West Virginia",
          "West Virginia",
          "West Virginia",
          "West Virginia",
          "West Virginia",
          "West Virginia",
          "West Virginia",
          "West Virginia",
          "West Virginia",
          "West Virginia",
          "West Virginia",
          "West Virginia",
          "West Virginia",
          "West Virginia",
          "West Virginia",
          "West Virginia",
          "West Virginia",
          "West Virginia",
          "West Virginia",
          "West Virginia",
          "West Virginia",
          "West Virginia",
          "West Virginia",
          "West Virginia",
          "West Virginia",
          "West Virginia",
          "West Virginia",
          "West Virginia",
          "West Virginia",
          "West Virginia",
          "West Virginia",
          "West Virginia",
          "West Virginia",
          "West Virginia",
          "West Virginia",
          "West Virginia",
          "West Virginia",
          "West Virginia",
          "Wisconsin",
          "Wisconsin",
          "Wisconsin",
          "Wisconsin",
          "Wisconsin",
          "Wisconsin",
          "Wisconsin",
          "Wisconsin",
          "Wisconsin",
          "Wisconsin",
          "Wisconsin",
          "Wisconsin",
          "Wisconsin",
          "Wisconsin",
          "Wisconsin",
          "Wisconsin",
          "Wisconsin",
          "Wisconsin",
          "Wisconsin",
          "Wisconsin",
          "Wisconsin",
          "Wisconsin",
          "Wisconsin",
          "Wisconsin",
          "Wisconsin",
          "Wisconsin",
          "Wisconsin",
          "Wisconsin",
          "Wisconsin",
          "Wisconsin",
          "Wisconsin",
          "Wisconsin",
          "Wisconsin",
          "Wisconsin",
          "Wisconsin",
          "Wisconsin",
          "Wisconsin",
          "Wisconsin",
          "Wisconsin",
          "Wisconsin",
          "Wisconsin",
          "Wisconsin",
          "Wisconsin",
          "Wisconsin",
          "Wisconsin",
          "Wisconsin",
          "Wisconsin",
          "Wisconsin",
          "Wisconsin",
          "Wisconsin",
          "Wisconsin",
          "Wisconsin",
          "Wisconsin",
          "Wisconsin",
          "Wisconsin",
          "Wisconsin",
          "Wisconsin",
          "Wisconsin",
          "Wisconsin",
          "Wisconsin",
          "Wisconsin",
          "Wisconsin",
          "Wisconsin",
          "Wisconsin",
          "Wisconsin",
          "Wisconsin",
          "Wisconsin",
          "Wisconsin",
          "Wisconsin",
          "Wisconsin",
          "Wisconsin",
          "Wisconsin",
          "Wisconsin",
          "Wyoming",
          "Wyoming",
          "Wyoming",
          "Wyoming",
          "Wyoming",
          "Wyoming",
          "Wyoming",
          "Wyoming",
          "Wyoming",
          "Wyoming",
          "Wyoming",
          "Wyoming",
          "Wyoming",
          "Wyoming",
          "Wyoming",
          "Wyoming",
          "Wyoming",
          "Wyoming",
          "Wyoming",
          "Wyoming",
          "Wyoming",
          "Wyoming",
          "Wyoming",
          "Wyoming"
         ],
         "marker": {
          "line": {
           "color": "rgb(255,255,255)",
           "width": 2
          }
         },
         "text": [
          113,
          315,
          60,
          64,
          139,
          42,
          71,
          330,
          123,
          45,
          116,
          25,
          61,
          59,
          43,
          129,
          140,
          30,
          29,
          124,
          57,
          201,
          117,
          159,
          190,
          214,
          81,
          366,
          63,
          81,
          81,
          35,
          77,
          44,
          290,
          114,
          1569,
          38,
          251,
          100,
          178,
          158,
          54,
          52,
          526,
          66,
          106,
          231,
          839,
          41,
          614,
          287,
          0,
          28,
          62,
          78,
          44,
          42,
          255,
          250,
          32,
          185,
          156,
          464,
          0,
          282,
          39,
          31,
          72,
          3,
          1,
          181,
          22,
          0,
          0,
          3,
          0,
          0,
          2,
          44,
          0,
          5,
          22,
          2,
          6,
          4,
          60,
          0,
          4,
          2,
          1,
          2,
          2,
          0,
          5,
          0,
          0,
          0,
          2,
          4,
          437,
          293,
          331,
          229,
          85,
          10,
          78,
          10309,
          756,
          552,
          0,
          2433,
          908,
          181,
          0,
          529,
          848,
          39,
          36,
          105,
          423,
          80,
          33,
          3,
          46,
          41,
          40,
          52,
          74,
          25,
          57,
          34,
          186,
          120,
          97,
          51,
          16,
          23,
          44,
          166,
          40,
          47,
          265,
          36,
          78,
          20,
          77,
          25,
          125,
          42,
          38,
          171,
          38,
          9,
          43,
          38,
          48,
          43,
          25,
          127,
          23,
          31,
          37,
          110,
          18,
          33,
          24,
          26,
          63,
          11,
          45,
          23,
          77,
          74,
          111,
          22,
          680,
          48,
          173,
          14,
          18,
          287,
          24,
          47,
          44,
          31,
          0,
          115,
          24,
          357,
          124,
          14,
          66,
          1253,
          0,
          47,
          201,
          55,
          16,
          820,
          8,
          113,
          1727,
          20,
          49,
          739,
          36,
          1408,
          245,
          63,
          26,
          24506,
          241,
          233,
          7,
          49,
          470,
          4,
          3,
          494,
          81,
          72,
          5126,
          302,
          4,
          4539,
          1679,
          63,
          5037,
          3780,
          558,
          1410,
          257,
          541,
          460,
          2095,
          208,
          205,
          0,
          29,
          268,
          316,
          1029,
          114,
          63,
          3,
          853,
          64,
          0,
          1033,
          213,
          51,
          720,
          37,
          761,
          3,
          4,
          22,
          235,
          76,
          25,
          6,
          3,
          22,
          5,
          17,
          2,
          66,
          845,
          1,
          247,
          23,
          880,
          14,
          63,
          50,
          3,
          7,
          6,
          0,
          18,
          0,
          806,
          3,
          11,
          41,
          0,
          248,
          14,
          4,
          69,
          253,
          1,
          26,
          25,
          66,
          96,
          67,
          3,
          0,
          5,
          13,
          4,
          22,
          420,
          5,
          16,
          21,
          5,
          0,
          1,
          3,
          8,
          18,
          0,
          13,
          352,
          17,
          2202,
          2440,
          298,
          374,
          2131,
          451,
          187,
          1,
          195,
          349,
          847,
          499,
          0,
          0,
          1141,
          285,
          62,
          394,
          58,
          914,
          3079,
          45,
          437,
          463,
          352,
          551,
          170,
          97,
          24,
          1483,
          706,
          114,
          20,
          99,
          44,
          19,
          45,
          25,
          45,
          87,
          482,
          366,
          1832,
          49,
          306,
          158,
          28,
          26,
          663,
          1009,
          332,
          56,
          16,
          45,
          689,
          996,
          335,
          6472,
          52,
          127,
          367,
          89,
          1310,
          529,
          2883,
          802,
          1671,
          1387,
          160,
          291,
          844,
          516,
          221,
          657,
          284,
          140,
          48,
          1012,
          74,
          846,
          56,
          89,
          52,
          72,
          23,
          40,
          10,
          136,
          38,
          146,
          236,
          83,
          47,
          464,
          51,
          41,
          50,
          41,
          121,
          65,
          90,
          16,
          39,
          68,
          246,
          73,
          36,
          464,
          17,
          76,
          334,
          149,
          3,
          525,
          27,
          1110,
          179,
          129,
          213,
          44,
          232,
          21,
          90,
          14,
          50,
          1075,
          73,
          106,
          44,
          312,
          232,
          47,
          9,
          74,
          74,
          83,
          31,
          73,
          176,
          239,
          206,
          54,
          1474,
          89,
          19,
          178,
          120,
          64,
          62,
          1208,
          164,
          492,
          69,
          90,
          62,
          57,
          22,
          335,
          272,
          31,
          151,
          39,
          44,
          69,
          44,
          50,
          59,
          58,
          13,
          173,
          59,
          68,
          28,
          13,
          217,
          79,
          37,
          56,
          24,
          52,
          16,
          89,
          14,
          84,
          103,
          23,
          31,
          92,
          500,
          263,
          73,
          31,
          695,
          231,
          70,
          80,
          62,
          43,
          100,
          45,
          59,
          3,
          50,
          34,
          532,
          177,
          5,
          33,
          19,
          203,
          81,
          25,
          106,
          19,
          3,
          69,
          26,
          60,
          49,
          126,
          132,
          119,
          60,
          34,
          239,
          42,
          46,
          4,
          81,
          133,
          90,
          265,
          181,
          20,
          88,
          91,
          4,
          25,
          83,
          250,
          48,
          30,
          27,
          69,
          3,
          140,
          55,
          401,
          2,
          57,
          3,
          0,
          486,
          4,
          110,
          2,
          10,
          75,
          18,
          2,
          45,
          177,
          11,
          1,
          0,
          313,
          12,
          28,
          0,
          14,
          3,
          19,
          17,
          14,
          40,
          24,
          18,
          33,
          23,
          217,
          12,
          9,
          11,
          11,
          28,
          33,
          58,
          4,
          31,
          38,
          9,
          35,
          4,
          131,
          0,
          6,
          22,
          127,
          11,
          24,
          79,
          6,
          85,
          2,
          37,
          27,
          156,
          75,
          33,
          43,
          91,
          101,
          10494,
          25,
          19,
          29,
          121,
          36,
          1320,
          41,
          12,
          74,
          55,
          50,
          78,
          59,
          4,
          34,
          78,
          16,
          31,
          12,
          14,
          70,
          68,
          65,
          18,
          122,
          52,
          24,
          16,
          811,
          217,
          99,
          156,
          252,
          1022,
          27,
          54,
          92,
          64,
          212,
          89,
          532,
          117,
          19,
          45,
          40,
          51,
          297,
          190,
          12,
          34,
          94,
          74,
          83,
          28,
          84,
          0,
          343,
          60,
          14,
          53,
          4,
          7,
          3,
          87,
          40,
          329,
          57,
          240,
          7,
          1,
          38,
          519,
          24,
          86,
          306,
          2433,
          41,
          146,
          12,
          49,
          25,
          53,
          26,
          174,
          1039,
          136,
          514,
          83,
          56,
          693,
          157,
          14,
          32,
          104,
          43,
          22,
          110,
          196,
          48,
          55,
          16,
          100,
          85,
          78,
          92,
          198,
          118,
          465,
          64,
          180,
          48,
          35,
          43,
          95,
          180,
          85,
          423,
          146,
          75,
          319,
          111,
          227,
          81,
          77,
          55,
          32,
          86,
          49,
          389,
          91,
          123,
          72,
          222,
          1017,
          124,
          344,
          1790,
          116,
          15,
          69,
          177,
          91,
          142,
          36,
          89,
          11,
          55,
          58,
          16,
          37,
          34,
          327,
          35,
          48,
          61,
          83,
          70,
          26,
          58,
          97,
          31,
          566,
          59,
          59,
          43,
          8,
          229,
          47,
          424,
          10,
          402,
          44,
          254,
          83,
          15,
          156,
          37,
          201,
          81,
          54,
          44,
          32,
          4,
          52,
          49,
          11,
          55,
          316,
          34,
          62,
          34,
          40,
          35,
          13,
          52,
          55,
          23,
          97,
          38,
          17,
          24,
          27,
          57,
          93,
          41,
          99,
          25,
          9,
          43,
          73,
          45,
          213,
          41,
          43,
          42,
          23,
          10,
          11,
          33,
          32,
          51,
          34,
          44,
          73,
          37,
          22,
          26,
          35,
          24,
          42,
          73,
          35,
          85,
          57,
          32,
          66,
          57,
          341,
          49,
          23,
          41,
          19,
          51,
          77,
          76,
          24,
          43,
          31,
          32,
          38,
          106,
          61,
          17,
          22,
          24,
          82,
          22,
          643,
          177,
          36,
          24,
          20,
          249,
          37,
          74,
          48,
          72,
          12,
          0,
          35,
          18,
          122,
          92,
          51,
          23,
          94,
          31,
          35,
          230,
          8,
          40,
          20,
          18,
          14,
          6,
          51,
          28,
          38,
          91,
          3,
          6,
          53,
          13,
          7,
          30,
          25,
          23,
          9,
          108,
          78,
          12,
          47,
          23,
          85,
          12,
          5,
          73,
          25,
          73,
          76,
          43,
          42,
          20,
          9,
          18,
          14,
          1,
          11,
          1,
          18,
          72,
          9,
          9,
          17,
          38,
          6,
          770,
          10,
          15,
          4,
          50,
          7,
          94,
          5,
          8,
          6,
          86,
          24,
          26,
          85,
          13,
          42,
          18,
          84,
          23,
          8,
          55,
          35,
          16,
          27,
          26,
          12,
          13,
          0,
          14,
          25,
          32,
          25,
          7,
          141,
          13,
          12,
          43,
          11,
          14,
          28,
          142,
          24,
          792,
          42,
          369,
          14,
          12,
          3,
          10,
          6,
          10,
          53,
          20,
          8,
          0,
          14,
          4,
          14,
          6,
          16,
          5,
          287,
          54,
          44,
          23,
          9,
          103,
          24,
          58,
          147,
          20,
          76,
          78,
          8,
          9,
          18,
          83,
          28,
          32,
          50,
          80,
          10,
          21,
          35,
          39,
          107,
          32,
          46,
          31,
          24,
          12,
          193,
          25,
          2,
          12,
          315,
          25,
          73,
          56,
          16,
          33,
          37,
          21,
          96,
          58,
          17,
          63,
          15,
          170,
          91,
          25,
          53,
          79,
          20,
          15,
          149,
          32,
          1339,
          72,
          37,
          204,
          24,
          46,
          26,
          81,
          28,
          26,
          8,
          46,
          40,
          59,
          25,
          73,
          21,
          112,
          18,
          38,
          60,
          20,
          40,
          133,
          34,
          28,
          26,
          17,
          54,
          30,
          44,
          30,
          5,
          67,
          62,
          8,
          55,
          84,
          13,
          16,
          4,
          66,
          106,
          13,
          110,
          14,
          24,
          21,
          46,
          36,
          78,
          42,
          25,
          53,
          28,
          14,
          7,
          0,
          16,
          185,
          41,
          48,
          22,
          61,
          6,
          22,
          197,
          92,
          168,
          36,
          125,
          79,
          84,
          310,
          762,
          456,
          29,
          7,
          38,
          55,
          62,
          78,
          841,
          27,
          115,
          98,
          107,
          58,
          161,
          102,
          52,
          911,
          97,
          37,
          294,
          205,
          94,
          212,
          40,
          78,
          94,
          805,
          464,
          0,
          27,
          75,
          328,
          38,
          57,
          64,
          54,
          98,
          12,
          51,
          141,
          262,
          118,
          143,
          529,
          307,
          8,
          228,
          0,
          82,
          126,
          106,
          134,
          114,
          63,
          41,
          34,
          47,
          86,
          48,
          200,
          15,
          38,
          74,
          6,
          3,
          0,
          68,
          99,
          7,
          11,
          32,
          0,
          21,
          18,
          134,
          212,
          665,
          1683,
          1253,
          86,
          30,
          254,
          152,
          216,
          65,
          343,
          65,
          301,
          256,
          51,
          1625,
          1597,
          51,
          40,
          132,
          44,
          18,
          332,
          174,
          106,
          470,
          288,
          1745,
          5,
          2404,
          113,
          1537,
          300,
          3781,
          1804,
          1446,
          1849,
          7,
          2248,
          33,
          7,
          161,
          63,
          30,
          29,
          39,
          69,
          355,
          36,
          293,
          97,
          318,
          77,
          22,
          46,
          34,
          85,
          93,
          14,
          95,
          74,
          212,
          43,
          5,
          971,
          61,
          52,
          99,
          121,
          93,
          43,
          82,
          392,
          80,
          74,
          53,
          100,
          293,
          402,
          27,
          860,
          2,
          16,
          206,
          19,
          171,
          196,
          5,
          3,
          2493,
          22,
          64,
          37,
          36,
          43,
          152,
          94,
          27,
          264,
          114,
          20,
          371,
          68,
          2447,
          60,
          43,
          21,
          31,
          31,
          41,
          441,
          15,
          34,
          55,
          625,
          125,
          5,
          107,
          448,
          101,
          174,
          0,
          130,
          302,
          5169,
          48,
          37,
          462,
          56,
          63,
          98,
          4,
          44,
          40,
          57,
          49,
          32,
          38,
          52,
          92,
          16,
          0,
          24,
          97,
          474,
          3,
          81,
          19,
          10,
          34,
          74,
          8,
          1790,
          16,
          41,
          65,
          66,
          12,
          28,
          85,
          22,
          19,
          22,
          20,
          4,
          27,
          3,
          54,
          9,
          17,
          33,
          61,
          43,
          55,
          62,
          33,
          10,
          45,
          50,
          9,
          102,
          86,
          20,
          23,
          26,
          72,
          6,
          905,
          7,
          40,
          46,
          111,
          19,
          21,
          139,
          95,
          10,
          318,
          226,
          18,
          11,
          18,
          33,
          5,
          93,
          3,
          23,
          23,
          295,
          9,
          13,
          52,
          150,
          20,
          86,
          74,
          43,
          73,
          25,
          134,
          32,
          30,
          59,
          18,
          30,
          80,
          54,
          84,
          66,
          83,
          273,
          154,
          23,
          51,
          34,
          88,
          88,
          317,
          425,
          74,
          33,
          6,
          80,
          251,
          48,
          28,
          34,
          168,
          29,
          123,
          88,
          243,
          25,
          74,
          176,
          125,
          113,
          150,
          227,
          80,
          105,
          136,
          44,
          180,
          64,
          35,
          98,
          111,
          148,
          38,
          111,
          73,
          61,
          17,
          282,
          74,
          17,
          89,
          34,
          34,
          93,
          42,
          87,
          68,
          69,
          27,
          0,
          78,
          47,
          121,
          138,
          42,
          32,
          32,
          82,
          40,
          71,
          19,
          21,
          6,
          58,
          47,
          16,
          32,
          35,
          14,
          100,
          148,
          50,
          15,
          51,
          90,
          139,
          24,
          11,
          116,
          21,
          8,
          97,
          8,
          174,
          65,
          130,
          27,
          40,
          17,
          28,
          11,
          32,
          19,
          29,
          50,
          186,
          47,
          20,
          492,
          35,
          14,
          40,
          15,
          14,
          7,
          46,
          7,
          481,
          247,
          254,
          59,
          597,
          3,
          75,
          57,
          89,
          20,
          52,
          17,
          46,
          18,
          16,
          8,
          53,
          31,
          2,
          57,
          28,
          33,
          12,
          13,
          44,
          47,
          80,
          25,
          5,
          16,
          21,
          39,
          30,
          77,
          134,
          26,
          50,
          38,
          55,
          4,
          13,
          31,
          28,
          3,
          17,
          38,
          7,
          4,
          87,
          12,
          7,
          474,
          8,
          116,
          2270,
          533,
          17,
          42,
          49,
          14,
          102,
          23,
          0,
          46,
          28,
          52,
          14,
          57,
          2,
          34,
          12,
          76,
          24,
          5,
          17,
          5,
          188,
          7,
          18,
          8,
          29,
          16,
          2,
          31,
          102,
          63,
          2,
          43,
          2,
          2,
          46,
          8,
          1,
          36,
          92,
          1,
          18,
          8,
          1,
          7,
          2,
          96,
          14,
          20,
          1,
          16,
          4,
          6,
          11,
          2,
          50,
          18,
          55,
          50,
          15,
          5,
          86,
          14,
          7,
          6,
          11,
          1,
          0,
          18,
          8,
          6,
          274,
          46,
          7,
          1,
          0,
          0,
          4,
          8,
          3,
          2,
          57,
          12,
          11,
          16,
          11,
          5,
          7,
          16,
          11,
          21,
          15,
          19,
          65,
          12,
          31,
          1,
          9,
          62,
          718,
          4,
          8,
          4,
          1,
          5,
          19,
          1,
          1,
          5,
          4,
          1,
          117,
          17,
          0,
          0,
          5,
          16,
          2,
          10,
          1,
          9,
          5,
          10,
          0,
          1,
          12,
          170,
          60,
          0,
          0,
          44,
          1,
          15,
          7,
          10,
          15,
          11,
          10,
          1,
          11,
          10,
          20,
          50,
          9,
          15,
          19,
          2,
          2,
          131,
          16,
          48,
          32,
          10,
          4,
          0,
          11,
          4,
          1,
          11,
          31,
          2,
          25,
          7,
          7,
          0,
          11,
          124,
          49,
          4508,
          37,
          58,
          0,
          0,
          14,
          9,
          3,
          65,
          7,
          108,
          20,
          3,
          0,
          686,
          6,
          100,
          13,
          35,
          43,
          28,
          647,
          116,
          266,
          97,
          26,
          1,
          695,
          2890,
          872,
          1341,
          208,
          442,
          3024,
          646,
          2304,
          176,
          961,
          2369,
          1638,
          1241,
          2172,
          1939,
          188,
          846,
          307,
          0,
          1980,
          238,
          966,
          5,
          171,
          125,
          46,
          86,
          2,
          493,
          141,
          41,
          11,
          1,
          9,
          197,
          19,
          7,
          92,
          478,
          7,
          81,
          11,
          80,
          59,
          497,
          17,
          241,
          151,
          52,
          61,
          53,
          15,
          0,
          10,
          119,
          357,
          87,
          6584,
          366,
          92,
          92,
          145,
          136,
          77,
          33,
          104,
          63,
          39,
          446,
          1812,
          26,
          12,
          93,
          124,
          79,
          2,
          109,
          68,
          10489,
          36,
          60,
          89,
          1115,
          127,
          3180,
          4515,
          374,
          517,
          678,
          93,
          847,
          83,
          93,
          47,
          250,
          93,
          9986,
          144,
          1846,
          757,
          168,
          205,
          18,
          14,
          57,
          97,
          146,
          3407,
          76,
          63,
          52,
          257,
          16,
          57,
          55,
          71,
          2293,
          53,
          26,
          289,
          84,
          5,
          56,
          45,
          21,
          102,
          45,
          47,
          156,
          325,
          162,
          262,
          111,
          6,
          55,
          30,
          311,
          89,
          38,
          34,
          18,
          228,
          151,
          126,
          321,
          16,
          10,
          197,
          40,
          142,
          231,
          113,
          422,
          54,
          441,
          13,
          13,
          83,
          47,
          721,
          114,
          181,
          99,
          165,
          64,
          56,
          9,
          236,
          56,
          237,
          28,
          82,
          124,
          86,
          41,
          42,
          45,
          63,
          975,
          16,
          97,
          194,
          199,
          175,
          61,
          154,
          101,
          13,
          84,
          71,
          12,
          71,
          96,
          30,
          232,
          98,
          271,
          156,
          311,
          218,
          114,
          88,
          138,
          82,
          170,
          18,
          33,
          6,
          0,
          225,
          90,
          737,
          20,
          32,
          33,
          244,
          117,
          181,
          55,
          28,
          3,
          31,
          19,
          0,
          20,
          5,
          3,
          196,
          210,
          5,
          33,
          2,
          7,
          6,
          13,
          19,
          3,
          79,
          7,
          2,
          4,
          10,
          17,
          10,
          23,
          7,
          14,
          31,
          10,
          101,
          18,
          15,
          3,
          11,
          25,
          30,
          17,
          14,
          17,
          28,
          7,
          2,
          12,
          0,
          52,
          2,
          81,
          11,
          18,
          31,
          27,
          200,
          8,
          40,
          2,
          58,
          245,
          98,
          180,
          60,
          87,
          179,
          62,
          611,
          49,
          60,
          309,
          261,
          66,
          236,
          61,
          111,
          2278,
          131,
          99,
          137,
          167,
          207,
          50,
          1501,
          75,
          50,
          153,
          255,
          54,
          1264,
          137,
          66,
          38,
          67,
          68,
          63,
          102,
          123,
          54,
          163,
          113,
          395,
          105,
          227,
          79,
          511,
          835,
          65,
          620,
          140,
          278,
          40,
          86,
          229,
          45,
          1066,
          24,
          43,
          140,
          39,
          81,
          42,
          50,
          123,
          37,
          217,
          106,
          104,
          214,
          165,
          130,
          108,
          130,
          97,
          940,
          1024,
          494,
          258,
          4,
          49,
          65,
          17,
          311,
          111,
          227,
          78,
          204,
          57,
          44,
          7,
          27,
          6,
          58,
          20,
          79,
          96,
          187,
          129,
          79,
          27,
          2,
          439,
          15,
          200,
          16,
          18,
          165,
          104,
          96,
          14,
          6,
          139,
          79,
          130,
          7,
          22,
          6,
          8,
          17,
          29,
          56,
          18,
          37,
          128,
          41,
          26,
          13,
          67,
          72,
          65,
          22,
          24,
          23,
          74,
          73,
          94,
          61,
          44,
          177,
          20,
          20,
          32,
          1312,
          85,
          80,
          70,
          0,
          53,
          76,
          78,
          80,
          131,
          22,
          12,
          195,
          78,
          56,
          106,
          34,
          17,
          1126,
          0,
          123,
          119,
          23,
          18,
          36,
          15,
          22,
          235,
          9,
          30,
          39,
          23,
          12,
          82,
          83,
          1,
          7,
          11,
          33,
          148,
          41,
          72,
          78,
          8,
          168,
          22,
          81,
          64,
          326,
          16,
          615,
          56,
          1,
          4,
          87,
          0,
          24,
          5,
          30,
          252,
          1,
          80,
          189,
          2016,
          148,
          389,
          142,
          1042,
          343,
          96,
          1328,
          418,
          441,
          8,
          176,
          228,
          824,
          96,
          156,
          67,
          136,
          156,
          526,
          559,
          1411,
          41,
          417,
          328,
          21,
          375,
          15,
          42,
          135,
          179,
          99,
          88,
          482,
          1165,
          216,
          295,
          862,
          829,
          296,
          75,
          266,
          181,
          321,
          1736,
          67,
          717,
          360,
          101,
          3762,
          54,
          25,
          412,
          86,
          218,
          21,
          62,
          112,
          0,
          89,
          102,
          104,
          307,
          84,
          779,
          54,
          831,
          0,
          0,
          0,
          0,
          0,
          0,
          0,
          0,
          0,
          0,
          0,
          0,
          0,
          0,
          0,
          0,
          0,
          0,
          0,
          0,
          0,
          0,
          0,
          0,
          0,
          0,
          0,
          0,
          0,
          0,
          0,
          0,
          0,
          0,
          0,
          0,
          0,
          0,
          0,
          0,
          0,
          0,
          0,
          0,
          0,
          0,
          0,
          0,
          0,
          0,
          0,
          0,
          0,
          0,
          0,
          0,
          0,
          0,
          0,
          0,
          0,
          0,
          0,
          0,
          0,
          0,
          0,
          0,
          0,
          0,
          0,
          0,
          2552,
          0,
          0,
          0,
          0,
          0,
          0,
          0,
          0,
          145,
          365,
          42,
          1997,
          10,
          171,
          41,
          224,
          15,
          532,
          53,
          58,
          210,
          208,
          37,
          517,
          158,
          76,
          108,
          113,
          132,
          180,
          85,
          223,
          43,
          83,
          425,
          141,
          1035,
          174,
          52,
          585,
          50,
          140,
          173,
          173,
          64,
          480,
          108,
          59,
          28,
          109,
          139,
          255,
          304,
          579,
          48,
          833,
          211,
          0,
          84,
          103,
          393,
          15,
          40,
          9,
          28,
          37,
          95,
          10,
          14,
          20,
          4,
          22,
          5,
          15,
          83,
          12,
          13,
          67,
          29,
          9,
          29,
          9,
          14,
          16,
          13,
          42,
          30,
          10,
          39,
          6,
          4,
          1,
          42,
          28,
          1,
          14,
          16,
          0,
          18,
          20,
          48,
          78,
          11,
          6,
          25,
          4,
          31,
          2,
          10,
          366,
          20,
          50,
          205,
          14,
          4,
          42,
          3,
          26,
          2,
          3,
          33,
          17,
          58,
          0,
          43,
          15,
          34,
          9,
          175,
          132,
          41,
          11,
          198,
          154,
          62,
          32,
          83,
          159,
          56,
          51,
          74,
          30,
          100,
          123,
          50,
          140,
          951,
          56,
          39,
          115,
          108,
          83,
          49,
          92,
          150,
          100,
          50,
          159,
          35,
          174,
          508,
          13,
          64,
          69,
          113,
          62,
          79,
          76,
          47,
          34,
          32,
          37,
          126,
          39,
          648,
          30,
          50,
          94,
          26,
          67,
          71,
          78,
          244,
          49,
          61,
          177,
          103,
          55,
          24,
          97,
          234,
          17,
          37,
          97,
          88,
          62,
          29,
          24,
          24,
          179,
          82,
          108,
          141,
          448,
          48,
          29,
          178,
          1695,
          40,
          28,
          311,
          356,
          104,
          21,
          95,
          50,
          34,
          23,
          84,
          254,
          36,
          69,
          73,
          218,
          250,
          133,
          47,
          287,
          41,
          12,
          6,
          151,
          37,
          19,
          29,
          101,
          13,
          75,
          448,
          3634,
          21,
          2,
          37,
          225,
          535,
          263,
          17,
          6,
          36,
          121,
          48,
          67,
          100,
          25,
          41,
          1689,
          44,
          14,
          84,
          32,
          29,
          145,
          17,
          17,
          15,
          13,
          34,
          850,
          9,
          32,
          306,
          51,
          8,
          72,
          88,
          7,
          12,
          15,
          29,
          11,
          26,
          4135,
          69,
          61,
          68,
          12,
          778,
          10,
          37,
          15,
          42,
          50,
          379,
          6,
          2742,
          324,
          70,
          33,
          109,
          69,
          14,
          30,
          10,
          709,
          26,
          50,
          52,
          45,
          447,
          22,
          52,
          2,
          15,
          58,
          57,
          346,
          360,
          74,
          222,
          156,
          14,
          27,
          24,
          12,
          116,
          6600,
          112,
          2,
          27,
          262,
          3,
          194,
          2911,
          111,
          104,
          134,
          114,
          58,
          102,
          12,
          179,
          72,
          1,
          16,
          31,
          93,
          5,
          443,
          16,
          108,
          379,
          55,
          37,
          266,
          72,
          2,
          2,
          92,
          7,
          0,
          6,
          94,
          17,
          30,
          157,
          83,
          33,
          76,
          39,
          43,
          197,
          80,
          12,
          22,
          53,
          0,
          798,
          24,
          30,
          33,
          19,
          6,
          114,
          361,
          20,
          482,
          5,
          107,
          9,
          274,
          49,
          21,
          31,
          73,
          603,
          73,
          34,
          8,
          174,
          145,
          38,
          52,
          843,
          27,
          4,
          155,
          76,
          76,
          189,
          35,
          35,
          120,
          462,
          25,
          27,
          292,
          8,
          13,
          38,
          44,
          23,
          1,
          47,
          158,
          39,
          109,
          45,
          32,
          39,
          152,
          23,
          6,
          62,
          5,
          72,
          12,
          489,
          14,
          304,
          25,
          4,
          6,
          8,
          18,
          3577,
          416,
          2,
          57,
          5,
          84,
          273,
          1041,
          29,
          42,
          0,
          77,
          10,
          73,
          223,
          123,
          227,
          133,
          51,
          24,
          95,
          799,
          118,
          12,
          381,
          55,
          92,
          483,
          69,
          21,
          127,
          129,
          28,
          45,
          36,
          41,
          112,
          70,
          182,
          918,
          37,
          29,
          280,
          14,
          45,
          38,
          0,
          406,
          22,
          225,
          8,
          15,
          7,
          106,
          2,
          39,
          2,
          3,
          3,
          11,
          20,
          0,
          15,
          14,
          13,
          30,
          45,
          85,
          140,
          50,
          36,
          40,
          26,
          258,
          80,
          11,
          109,
          10,
          38,
          37,
          25,
          45,
          32,
          22,
          100,
          40,
          79,
          16,
          21,
          57,
          308,
          451,
          21,
          62,
          14,
          6,
          67,
          10,
          141,
          18,
          46,
          42,
          11,
          1116,
          20,
          8,
          69,
          22,
          20,
          81,
          33,
          103,
          25,
          53,
          22,
          49,
          23,
          38,
          18,
          26,
          78,
          182,
          167,
          95,
          638,
          124,
          1,
          79,
          70,
          72,
          20,
          14,
          9,
          17,
          49,
          33,
          283,
          34,
          15,
          147,
          14,
          48,
          11,
          79,
          12,
          68,
          20,
          98,
          13,
          19,
          239,
          272,
          36,
          20,
          7,
          49,
          40,
          59,
          43,
          87,
          83,
          18,
          204,
          17,
          36,
          32,
          508,
          62,
          19,
          2,
          15,
          271,
          147,
          199,
          48,
          112,
          40,
          50,
          60,
          134,
          96,
          57,
          125,
          82,
          70,
          190,
          9,
          23,
          75,
          0,
          417,
          61,
          111,
          38,
          27,
          14,
          49,
          104,
          81,
          59,
          24,
          30,
          230,
          71,
          12,
          289,
          6,
          92,
          23,
          8,
          116,
          5,
          84,
          76,
          29,
          4,
          1657,
          117,
          36,
          10,
          77,
          12,
          34,
          43,
          14,
          9,
          647,
          0,
          77,
          1,
          606,
          680,
          32,
          112,
          3,
          1,
          68,
          103,
          50,
          451,
          32,
          132,
          36,
          5,
          60,
          178,
          1,
          11,
          6,
          80,
          6,
          28,
          64,
          36,
          89,
          24,
          81,
          61,
          59,
          357,
          22,
          24,
          96,
          52,
          79,
          37,
          26,
          127,
          92,
          43,
          90,
          17,
          23,
          22,
          87,
          11,
          12,
          12,
          46,
          93,
          98,
          15,
          11,
          9,
          22,
          25,
          10,
          13,
          0,
          34,
          44,
          8,
          32,
          4,
          176,
          41,
          20,
          15,
          86,
          20,
          302,
          7,
          26,
          56,
          97,
          65,
          73,
          19,
          338,
          201,
          32,
          64,
          33,
          122,
          13,
          139,
          26,
          94,
          25,
          23,
          14,
          40,
          29,
          136,
          31,
          336,
          36,
          90,
          10,
          51,
          96,
          94,
          227,
          73,
          28,
          11,
          1429,
          48,
          68,
          78,
          242,
          104,
          7,
          43,
          64,
          74,
          7,
          399,
          16,
          209,
          24,
          57,
          29,
          85,
          168,
          70,
          38,
          48,
          0,
          43,
          45,
          166,
          24,
          191,
          634,
          167,
          38,
          225,
          106,
          17,
          35,
          60,
          24,
          18,
          13,
          87,
          24,
          3,
          10,
          121,
          14,
          140,
          2,
          32,
          13,
          31,
          7,
          40,
          11,
          13,
          0,
          26,
          6
         ],
         "type": "choropleth",
         "z": [
          113,
          315,
          60,
          64,
          139,
          42,
          71,
          330,
          123,
          45,
          116,
          25,
          61,
          59,
          43,
          129,
          140,
          30,
          29,
          124,
          57,
          201,
          117,
          159,
          190,
          214,
          81,
          366,
          63,
          81,
          81,
          35,
          77,
          44,
          290,
          114,
          1569,
          38,
          251,
          100,
          178,
          158,
          54,
          52,
          526,
          66,
          106,
          231,
          839,
          41,
          614,
          287,
          0,
          28,
          62,
          78,
          44,
          42,
          255,
          250,
          32,
          185,
          156,
          464,
          0,
          282,
          39,
          31,
          72,
          3,
          1,
          181,
          22,
          0,
          0,
          3,
          0,
          0,
          2,
          44,
          0,
          5,
          22,
          2,
          6,
          4,
          60,
          0,
          4,
          2,
          1,
          2,
          2,
          0,
          5,
          0,
          0,
          0,
          2,
          4,
          437,
          293,
          331,
          229,
          85,
          10,
          78,
          10309,
          756,
          552,
          0,
          2433,
          908,
          181,
          0,
          529,
          848,
          39,
          36,
          105,
          423,
          80,
          33,
          3,
          46,
          41,
          40,
          52,
          74,
          25,
          57,
          34,
          186,
          120,
          97,
          51,
          16,
          23,
          44,
          166,
          40,
          47,
          265,
          36,
          78,
          20,
          77,
          25,
          125,
          42,
          38,
          171,
          38,
          9,
          43,
          38,
          48,
          43,
          25,
          127,
          23,
          31,
          37,
          110,
          18,
          33,
          24,
          26,
          63,
          11,
          45,
          23,
          77,
          74,
          111,
          22,
          680,
          48,
          173,
          14,
          18,
          287,
          24,
          47,
          44,
          31,
          0,
          115,
          24,
          357,
          124,
          14,
          66,
          1253,
          0,
          47,
          201,
          55,
          16,
          820,
          8,
          113,
          1727,
          20,
          49,
          739,
          36,
          1408,
          245,
          63,
          26,
          24506,
          241,
          233,
          7,
          49,
          470,
          4,
          3,
          494,
          81,
          72,
          5126,
          302,
          4,
          4539,
          1679,
          63,
          5037,
          3780,
          558,
          1410,
          257,
          541,
          460,
          2095,
          208,
          205,
          0,
          29,
          268,
          316,
          1029,
          114,
          63,
          3,
          853,
          64,
          0,
          1033,
          213,
          51,
          720,
          37,
          761,
          3,
          4,
          22,
          235,
          76,
          25,
          6,
          3,
          22,
          5,
          17,
          2,
          66,
          845,
          1,
          247,
          23,
          880,
          14,
          63,
          50,
          3,
          7,
          6,
          0,
          18,
          0,
          806,
          3,
          11,
          41,
          0,
          248,
          14,
          4,
          69,
          253,
          1,
          26,
          25,
          66,
          96,
          67,
          3,
          0,
          5,
          13,
          4,
          22,
          420,
          5,
          16,
          21,
          5,
          0,
          1,
          3,
          8,
          18,
          0,
          13,
          352,
          17,
          2202,
          2440,
          298,
          374,
          2131,
          451,
          187,
          1,
          195,
          349,
          847,
          499,
          0,
          0,
          1141,
          285,
          62,
          394,
          58,
          914,
          3079,
          45,
          437,
          463,
          352,
          551,
          170,
          97,
          24,
          1483,
          706,
          114,
          20,
          99,
          44,
          19,
          45,
          25,
          45,
          87,
          482,
          366,
          1832,
          49,
          306,
          158,
          28,
          26,
          663,
          1009,
          332,
          56,
          16,
          45,
          689,
          996,
          335,
          6472,
          52,
          127,
          367,
          89,
          1310,
          529,
          2883,
          802,
          1671,
          1387,
          160,
          291,
          844,
          516,
          221,
          657,
          284,
          140,
          48,
          1012,
          74,
          846,
          56,
          89,
          52,
          72,
          23,
          40,
          10,
          136,
          38,
          146,
          236,
          83,
          47,
          464,
          51,
          41,
          50,
          41,
          121,
          65,
          90,
          16,
          39,
          68,
          246,
          73,
          36,
          464,
          17,
          76,
          334,
          149,
          3,
          525,
          27,
          1110,
          179,
          129,
          213,
          44,
          232,
          21,
          90,
          14,
          50,
          1075,
          73,
          106,
          44,
          312,
          232,
          47,
          9,
          74,
          74,
          83,
          31,
          73,
          176,
          239,
          206,
          54,
          1474,
          89,
          19,
          178,
          120,
          64,
          62,
          1208,
          164,
          492,
          69,
          90,
          62,
          57,
          22,
          335,
          272,
          31,
          151,
          39,
          44,
          69,
          44,
          50,
          59,
          58,
          13,
          173,
          59,
          68,
          28,
          13,
          217,
          79,
          37,
          56,
          24,
          52,
          16,
          89,
          14,
          84,
          103,
          23,
          31,
          92,
          500,
          263,
          73,
          31,
          695,
          231,
          70,
          80,
          62,
          43,
          100,
          45,
          59,
          3,
          50,
          34,
          532,
          177,
          5,
          33,
          19,
          203,
          81,
          25,
          106,
          19,
          3,
          69,
          26,
          60,
          49,
          126,
          132,
          119,
          60,
          34,
          239,
          42,
          46,
          4,
          81,
          133,
          90,
          265,
          181,
          20,
          88,
          91,
          4,
          25,
          83,
          250,
          48,
          30,
          27,
          69,
          3,
          140,
          55,
          401,
          2,
          57,
          3,
          0,
          486,
          4,
          110,
          2,
          10,
          75,
          18,
          2,
          45,
          177,
          11,
          1,
          0,
          313,
          12,
          28,
          0,
          14,
          3,
          19,
          17,
          14,
          40,
          24,
          18,
          33,
          23,
          217,
          12,
          9,
          11,
          11,
          28,
          33,
          58,
          4,
          31,
          38,
          9,
          35,
          4,
          131,
          0,
          6,
          22,
          127,
          11,
          24,
          79,
          6,
          85,
          2,
          37,
          27,
          156,
          75,
          33,
          43,
          91,
          101,
          10494,
          25,
          19,
          29,
          121,
          36,
          1320,
          41,
          12,
          74,
          55,
          50,
          78,
          59,
          4,
          34,
          78,
          16,
          31,
          12,
          14,
          70,
          68,
          65,
          18,
          122,
          52,
          24,
          16,
          811,
          217,
          99,
          156,
          252,
          1022,
          27,
          54,
          92,
          64,
          212,
          89,
          532,
          117,
          19,
          45,
          40,
          51,
          297,
          190,
          12,
          34,
          94,
          74,
          83,
          28,
          84,
          0,
          343,
          60,
          14,
          53,
          4,
          7,
          3,
          87,
          40,
          329,
          57,
          240,
          7,
          1,
          38,
          519,
          24,
          86,
          306,
          2433,
          41,
          146,
          12,
          49,
          25,
          53,
          26,
          174,
          1039,
          136,
          514,
          83,
          56,
          693,
          157,
          14,
          32,
          104,
          43,
          22,
          110,
          196,
          48,
          55,
          16,
          100,
          85,
          78,
          92,
          198,
          118,
          465,
          64,
          180,
          48,
          35,
          43,
          95,
          180,
          85,
          423,
          146,
          75,
          319,
          111,
          227,
          81,
          77,
          55,
          32,
          86,
          49,
          389,
          91,
          123,
          72,
          222,
          1017,
          124,
          344,
          1790,
          116,
          15,
          69,
          177,
          91,
          142,
          36,
          89,
          11,
          55,
          58,
          16,
          37,
          34,
          327,
          35,
          48,
          61,
          83,
          70,
          26,
          58,
          97,
          31,
          566,
          59,
          59,
          43,
          8,
          229,
          47,
          424,
          10,
          402,
          44,
          254,
          83,
          15,
          156,
          37,
          201,
          81,
          54,
          44,
          32,
          4,
          52,
          49,
          11,
          55,
          316,
          34,
          62,
          34,
          40,
          35,
          13,
          52,
          55,
          23,
          97,
          38,
          17,
          24,
          27,
          57,
          93,
          41,
          99,
          25,
          9,
          43,
          73,
          45,
          213,
          41,
          43,
          42,
          23,
          10,
          11,
          33,
          32,
          51,
          34,
          44,
          73,
          37,
          22,
          26,
          35,
          24,
          42,
          73,
          35,
          85,
          57,
          32,
          66,
          57,
          341,
          49,
          23,
          41,
          19,
          51,
          77,
          76,
          24,
          43,
          31,
          32,
          38,
          106,
          61,
          17,
          22,
          24,
          82,
          22,
          643,
          177,
          36,
          24,
          20,
          249,
          37,
          74,
          48,
          72,
          12,
          0,
          35,
          18,
          122,
          92,
          51,
          23,
          94,
          31,
          35,
          230,
          8,
          40,
          20,
          18,
          14,
          6,
          51,
          28,
          38,
          91,
          3,
          6,
          53,
          13,
          7,
          30,
          25,
          23,
          9,
          108,
          78,
          12,
          47,
          23,
          85,
          12,
          5,
          73,
          25,
          73,
          76,
          43,
          42,
          20,
          9,
          18,
          14,
          1,
          11,
          1,
          18,
          72,
          9,
          9,
          17,
          38,
          6,
          770,
          10,
          15,
          4,
          50,
          7,
          94,
          5,
          8,
          6,
          86,
          24,
          26,
          85,
          13,
          42,
          18,
          84,
          23,
          8,
          55,
          35,
          16,
          27,
          26,
          12,
          13,
          0,
          14,
          25,
          32,
          25,
          7,
          141,
          13,
          12,
          43,
          11,
          14,
          28,
          142,
          24,
          792,
          42,
          369,
          14,
          12,
          3,
          10,
          6,
          10,
          53,
          20,
          8,
          0,
          14,
          4,
          14,
          6,
          16,
          5,
          287,
          54,
          44,
          23,
          9,
          103,
          24,
          58,
          147,
          20,
          76,
          78,
          8,
          9,
          18,
          83,
          28,
          32,
          50,
          80,
          10,
          21,
          35,
          39,
          107,
          32,
          46,
          31,
          24,
          12,
          193,
          25,
          2,
          12,
          315,
          25,
          73,
          56,
          16,
          33,
          37,
          21,
          96,
          58,
          17,
          63,
          15,
          170,
          91,
          25,
          53,
          79,
          20,
          15,
          149,
          32,
          1339,
          72,
          37,
          204,
          24,
          46,
          26,
          81,
          28,
          26,
          8,
          46,
          40,
          59,
          25,
          73,
          21,
          112,
          18,
          38,
          60,
          20,
          40,
          133,
          34,
          28,
          26,
          17,
          54,
          30,
          44,
          30,
          5,
          67,
          62,
          8,
          55,
          84,
          13,
          16,
          4,
          66,
          106,
          13,
          110,
          14,
          24,
          21,
          46,
          36,
          78,
          42,
          25,
          53,
          28,
          14,
          7,
          0,
          16,
          185,
          41,
          48,
          22,
          61,
          6,
          22,
          197,
          92,
          168,
          36,
          125,
          79,
          84,
          310,
          762,
          456,
          29,
          7,
          38,
          55,
          62,
          78,
          841,
          27,
          115,
          98,
          107,
          58,
          161,
          102,
          52,
          911,
          97,
          37,
          294,
          205,
          94,
          212,
          40,
          78,
          94,
          805,
          464,
          0,
          27,
          75,
          328,
          38,
          57,
          64,
          54,
          98,
          12,
          51,
          141,
          262,
          118,
          143,
          529,
          307,
          8,
          228,
          0,
          82,
          126,
          106,
          134,
          114,
          63,
          41,
          34,
          47,
          86,
          48,
          200,
          15,
          38,
          74,
          6,
          3,
          0,
          68,
          99,
          7,
          11,
          32,
          0,
          21,
          18,
          134,
          212,
          665,
          1683,
          1253,
          86,
          30,
          254,
          152,
          216,
          65,
          343,
          65,
          301,
          256,
          51,
          1625,
          1597,
          51,
          40,
          132,
          44,
          18,
          332,
          174,
          106,
          470,
          288,
          1745,
          5,
          2404,
          113,
          1537,
          300,
          3781,
          1804,
          1446,
          1849,
          7,
          2248,
          33,
          7,
          161,
          63,
          30,
          29,
          39,
          69,
          355,
          36,
          293,
          97,
          318,
          77,
          22,
          46,
          34,
          85,
          93,
          14,
          95,
          74,
          212,
          43,
          5,
          971,
          61,
          52,
          99,
          121,
          93,
          43,
          82,
          392,
          80,
          74,
          53,
          100,
          293,
          402,
          27,
          860,
          2,
          16,
          206,
          19,
          171,
          196,
          5,
          3,
          2493,
          22,
          64,
          37,
          36,
          43,
          152,
          94,
          27,
          264,
          114,
          20,
          371,
          68,
          2447,
          60,
          43,
          21,
          31,
          31,
          41,
          441,
          15,
          34,
          55,
          625,
          125,
          5,
          107,
          448,
          101,
          174,
          0,
          130,
          302,
          5169,
          48,
          37,
          462,
          56,
          63,
          98,
          4,
          44,
          40,
          57,
          49,
          32,
          38,
          52,
          92,
          16,
          0,
          24,
          97,
          474,
          3,
          81,
          19,
          10,
          34,
          74,
          8,
          1790,
          16,
          41,
          65,
          66,
          12,
          28,
          85,
          22,
          19,
          22,
          20,
          4,
          27,
          3,
          54,
          9,
          17,
          33,
          61,
          43,
          55,
          62,
          33,
          10,
          45,
          50,
          9,
          102,
          86,
          20,
          23,
          26,
          72,
          6,
          905,
          7,
          40,
          46,
          111,
          19,
          21,
          139,
          95,
          10,
          318,
          226,
          18,
          11,
          18,
          33,
          5,
          93,
          3,
          23,
          23,
          295,
          9,
          13,
          52,
          150,
          20,
          86,
          74,
          43,
          73,
          25,
          134,
          32,
          30,
          59,
          18,
          30,
          80,
          54,
          84,
          66,
          83,
          273,
          154,
          23,
          51,
          34,
          88,
          88,
          317,
          425,
          74,
          33,
          6,
          80,
          251,
          48,
          28,
          34,
          168,
          29,
          123,
          88,
          243,
          25,
          74,
          176,
          125,
          113,
          150,
          227,
          80,
          105,
          136,
          44,
          180,
          64,
          35,
          98,
          111,
          148,
          38,
          111,
          73,
          61,
          17,
          282,
          74,
          17,
          89,
          34,
          34,
          93,
          42,
          87,
          68,
          69,
          27,
          0,
          78,
          47,
          121,
          138,
          42,
          32,
          32,
          82,
          40,
          71,
          19,
          21,
          6,
          58,
          47,
          16,
          32,
          35,
          14,
          100,
          148,
          50,
          15,
          51,
          90,
          139,
          24,
          11,
          116,
          21,
          8,
          97,
          8,
          174,
          65,
          130,
          27,
          40,
          17,
          28,
          11,
          32,
          19,
          29,
          50,
          186,
          47,
          20,
          492,
          35,
          14,
          40,
          15,
          14,
          7,
          46,
          7,
          481,
          247,
          254,
          59,
          597,
          3,
          75,
          57,
          89,
          20,
          52,
          17,
          46,
          18,
          16,
          8,
          53,
          31,
          2,
          57,
          28,
          33,
          12,
          13,
          44,
          47,
          80,
          25,
          5,
          16,
          21,
          39,
          30,
          77,
          134,
          26,
          50,
          38,
          55,
          4,
          13,
          31,
          28,
          3,
          17,
          38,
          7,
          4,
          87,
          12,
          7,
          474,
          8,
          116,
          2270,
          533,
          17,
          42,
          49,
          14,
          102,
          23,
          0,
          46,
          28,
          52,
          14,
          57,
          2,
          34,
          12,
          76,
          24,
          5,
          17,
          5,
          188,
          7,
          18,
          8,
          29,
          16,
          2,
          31,
          102,
          63,
          2,
          43,
          2,
          2,
          46,
          8,
          1,
          36,
          92,
          1,
          18,
          8,
          1,
          7,
          2,
          96,
          14,
          20,
          1,
          16,
          4,
          6,
          11,
          2,
          50,
          18,
          55,
          50,
          15,
          5,
          86,
          14,
          7,
          6,
          11,
          1,
          0,
          18,
          8,
          6,
          274,
          46,
          7,
          1,
          0,
          0,
          4,
          8,
          3,
          2,
          57,
          12,
          11,
          16,
          11,
          5,
          7,
          16,
          11,
          21,
          15,
          19,
          65,
          12,
          31,
          1,
          9,
          62,
          718,
          4,
          8,
          4,
          1,
          5,
          19,
          1,
          1,
          5,
          4,
          1,
          117,
          17,
          0,
          0,
          5,
          16,
          2,
          10,
          1,
          9,
          5,
          10,
          0,
          1,
          12,
          170,
          60,
          0,
          0,
          44,
          1,
          15,
          7,
          10,
          15,
          11,
          10,
          1,
          11,
          10,
          20,
          50,
          9,
          15,
          19,
          2,
          2,
          131,
          16,
          48,
          32,
          10,
          4,
          0,
          11,
          4,
          1,
          11,
          31,
          2,
          25,
          7,
          7,
          0,
          11,
          124,
          49,
          4508,
          37,
          58,
          0,
          0,
          14,
          9,
          3,
          65,
          7,
          108,
          20,
          3,
          0,
          686,
          6,
          100,
          13,
          35,
          43,
          28,
          647,
          116,
          266,
          97,
          26,
          1,
          695,
          2890,
          872,
          1341,
          208,
          442,
          3024,
          646,
          2304,
          176,
          961,
          2369,
          1638,
          1241,
          2172,
          1939,
          188,
          846,
          307,
          0,
          1980,
          238,
          966,
          5,
          171,
          125,
          46,
          86,
          2,
          493,
          141,
          41,
          11,
          1,
          9,
          197,
          19,
          7,
          92,
          478,
          7,
          81,
          11,
          80,
          59,
          497,
          17,
          241,
          151,
          52,
          61,
          53,
          15,
          0,
          10,
          119,
          357,
          87,
          6584,
          366,
          92,
          92,
          145,
          136,
          77,
          33,
          104,
          63,
          39,
          446,
          1812,
          26,
          12,
          93,
          124,
          79,
          2,
          109,
          68,
          10489,
          36,
          60,
          89,
          1115,
          127,
          3180,
          4515,
          374,
          517,
          678,
          93,
          847,
          83,
          93,
          47,
          250,
          93,
          9986,
          144,
          1846,
          757,
          168,
          205,
          18,
          14,
          57,
          97,
          146,
          3407,
          76,
          63,
          52,
          257,
          16,
          57,
          55,
          71,
          2293,
          53,
          26,
          289,
          84,
          5,
          56,
          45,
          21,
          102,
          45,
          47,
          156,
          325,
          162,
          262,
          111,
          6,
          55,
          30,
          311,
          89,
          38,
          34,
          18,
          228,
          151,
          126,
          321,
          16,
          10,
          197,
          40,
          142,
          231,
          113,
          422,
          54,
          441,
          13,
          13,
          83,
          47,
          721,
          114,
          181,
          99,
          165,
          64,
          56,
          9,
          236,
          56,
          237,
          28,
          82,
          124,
          86,
          41,
          42,
          45,
          63,
          975,
          16,
          97,
          194,
          199,
          175,
          61,
          154,
          101,
          13,
          84,
          71,
          12,
          71,
          96,
          30,
          232,
          98,
          271,
          156,
          311,
          218,
          114,
          88,
          138,
          82,
          170,
          18,
          33,
          6,
          0,
          225,
          90,
          737,
          20,
          32,
          33,
          244,
          117,
          181,
          55,
          28,
          3,
          31,
          19,
          0,
          20,
          5,
          3,
          196,
          210,
          5,
          33,
          2,
          7,
          6,
          13,
          19,
          3,
          79,
          7,
          2,
          4,
          10,
          17,
          10,
          23,
          7,
          14,
          31,
          10,
          101,
          18,
          15,
          3,
          11,
          25,
          30,
          17,
          14,
          17,
          28,
          7,
          2,
          12,
          0,
          52,
          2,
          81,
          11,
          18,
          31,
          27,
          200,
          8,
          40,
          2,
          58,
          245,
          98,
          180,
          60,
          87,
          179,
          62,
          611,
          49,
          60,
          309,
          261,
          66,
          236,
          61,
          111,
          2278,
          131,
          99,
          137,
          167,
          207,
          50,
          1501,
          75,
          50,
          153,
          255,
          54,
          1264,
          137,
          66,
          38,
          67,
          68,
          63,
          102,
          123,
          54,
          163,
          113,
          395,
          105,
          227,
          79,
          511,
          835,
          65,
          620,
          140,
          278,
          40,
          86,
          229,
          45,
          1066,
          24,
          43,
          140,
          39,
          81,
          42,
          50,
          123,
          37,
          217,
          106,
          104,
          214,
          165,
          130,
          108,
          130,
          97,
          940,
          1024,
          494,
          258,
          4,
          49,
          65,
          17,
          311,
          111,
          227,
          78,
          204,
          57,
          44,
          7,
          27,
          6,
          58,
          20,
          79,
          96,
          187,
          129,
          79,
          27,
          2,
          439,
          15,
          200,
          16,
          18,
          165,
          104,
          96,
          14,
          6,
          139,
          79,
          130,
          7,
          22,
          6,
          8,
          17,
          29,
          56,
          18,
          37,
          128,
          41,
          26,
          13,
          67,
          72,
          65,
          22,
          24,
          23,
          74,
          73,
          94,
          61,
          44,
          177,
          20,
          20,
          32,
          1312,
          85,
          80,
          70,
          0,
          53,
          76,
          78,
          80,
          131,
          22,
          12,
          195,
          78,
          56,
          106,
          34,
          17,
          1126,
          0,
          123,
          119,
          23,
          18,
          36,
          15,
          22,
          235,
          9,
          30,
          39,
          23,
          12,
          82,
          83,
          1,
          7,
          11,
          33,
          148,
          41,
          72,
          78,
          8,
          168,
          22,
          81,
          64,
          326,
          16,
          615,
          56,
          1,
          4,
          87,
          0,
          24,
          5,
          30,
          252,
          1,
          80,
          189,
          2016,
          148,
          389,
          142,
          1042,
          343,
          96,
          1328,
          418,
          441,
          8,
          176,
          228,
          824,
          96,
          156,
          67,
          136,
          156,
          526,
          559,
          1411,
          41,
          417,
          328,
          21,
          375,
          15,
          42,
          135,
          179,
          99,
          88,
          482,
          1165,
          216,
          295,
          862,
          829,
          296,
          75,
          266,
          181,
          321,
          1736,
          67,
          717,
          360,
          101,
          3762,
          54,
          25,
          412,
          86,
          218,
          21,
          62,
          112,
          0,
          89,
          102,
          104,
          307,
          84,
          779,
          54,
          831,
          0,
          0,
          0,
          0,
          0,
          0,
          0,
          0,
          0,
          0,
          0,
          0,
          0,
          0,
          0,
          0,
          0,
          0,
          0,
          0,
          0,
          0,
          0,
          0,
          0,
          0,
          0,
          0,
          0,
          0,
          0,
          0,
          0,
          0,
          0,
          0,
          0,
          0,
          0,
          0,
          0,
          0,
          0,
          0,
          0,
          0,
          0,
          0,
          0,
          0,
          0,
          0,
          0,
          0,
          0,
          0,
          0,
          0,
          0,
          0,
          0,
          0,
          0,
          0,
          0,
          0,
          0,
          0,
          0,
          0,
          0,
          0,
          2552,
          0,
          0,
          0,
          0,
          0,
          0,
          0,
          0,
          145,
          365,
          42,
          1997,
          10,
          171,
          41,
          224,
          15,
          532,
          53,
          58,
          210,
          208,
          37,
          517,
          158,
          76,
          108,
          113,
          132,
          180,
          85,
          223,
          43,
          83,
          425,
          141,
          1035,
          174,
          52,
          585,
          50,
          140,
          173,
          173,
          64,
          480,
          108,
          59,
          28,
          109,
          139,
          255,
          304,
          579,
          48,
          833,
          211,
          0,
          84,
          103,
          393,
          15,
          40,
          9,
          28,
          37,
          95,
          10,
          14,
          20,
          4,
          22,
          5,
          15,
          83,
          12,
          13,
          67,
          29,
          9,
          29,
          9,
          14,
          16,
          13,
          42,
          30,
          10,
          39,
          6,
          4,
          1,
          42,
          28,
          1,
          14,
          16,
          0,
          18,
          20,
          48,
          78,
          11,
          6,
          25,
          4,
          31,
          2,
          10,
          366,
          20,
          50,
          205,
          14,
          4,
          42,
          3,
          26,
          2,
          3,
          33,
          17,
          58,
          0,
          43,
          15,
          34,
          9,
          175,
          132,
          41,
          11,
          198,
          154,
          62,
          32,
          83,
          159,
          56,
          51,
          74,
          30,
          100,
          123,
          50,
          140,
          951,
          56,
          39,
          115,
          108,
          83,
          49,
          92,
          150,
          100,
          50,
          159,
          35,
          174,
          508,
          13,
          64,
          69,
          113,
          62,
          79,
          76,
          47,
          34,
          32,
          37,
          126,
          39,
          648,
          30,
          50,
          94,
          26,
          67,
          71,
          78,
          244,
          49,
          61,
          177,
          103,
          55,
          24,
          97,
          234,
          17,
          37,
          97,
          88,
          62,
          29,
          24,
          24,
          179,
          82,
          108,
          141,
          448,
          48,
          29,
          178,
          1695,
          40,
          28,
          311,
          356,
          104,
          21,
          95,
          50,
          34,
          23,
          84,
          254,
          36,
          69,
          73,
          218,
          250,
          133,
          47,
          287,
          41,
          12,
          6,
          151,
          37,
          19,
          29,
          101,
          13,
          75,
          448,
          3634,
          21,
          2,
          37,
          225,
          535,
          263,
          17,
          6,
          36,
          121,
          48,
          67,
          100,
          25,
          41,
          1689,
          44,
          14,
          84,
          32,
          29,
          145,
          17,
          17,
          15,
          13,
          34,
          850,
          9,
          32,
          306,
          51,
          8,
          72,
          88,
          7,
          12,
          15,
          29,
          11,
          26,
          4135,
          69,
          61,
          68,
          12,
          778,
          10,
          37,
          15,
          42,
          50,
          379,
          6,
          2742,
          324,
          70,
          33,
          109,
          69,
          14,
          30,
          10,
          709,
          26,
          50,
          52,
          45,
          447,
          22,
          52,
          2,
          15,
          58,
          57,
          346,
          360,
          74,
          222,
          156,
          14,
          27,
          24,
          12,
          116,
          6600,
          112,
          2,
          27,
          262,
          3,
          194,
          2911,
          111,
          104,
          134,
          114,
          58,
          102,
          12,
          179,
          72,
          1,
          16,
          31,
          93,
          5,
          443,
          16,
          108,
          379,
          55,
          37,
          266,
          72,
          2,
          2,
          92,
          7,
          0,
          6,
          94,
          17,
          30,
          157,
          83,
          33,
          76,
          39,
          43,
          197,
          80,
          12,
          22,
          53,
          0,
          798,
          24,
          30,
          33,
          19,
          6,
          114,
          361,
          20,
          482,
          5,
          107,
          9,
          274,
          49,
          21,
          31,
          73,
          603,
          73,
          34,
          8,
          174,
          145,
          38,
          52,
          843,
          27,
          4,
          155,
          76,
          76,
          189,
          35,
          35,
          120,
          462,
          25,
          27,
          292,
          8,
          13,
          38,
          44,
          23,
          1,
          47,
          158,
          39,
          109,
          45,
          32,
          39,
          152,
          23,
          6,
          62,
          5,
          72,
          12,
          489,
          14,
          304,
          25,
          4,
          6,
          8,
          18,
          3577,
          416,
          2,
          57,
          5,
          84,
          273,
          1041,
          29,
          42,
          0,
          77,
          10,
          73,
          223,
          123,
          227,
          133,
          51,
          24,
          95,
          799,
          118,
          12,
          381,
          55,
          92,
          483,
          69,
          21,
          127,
          129,
          28,
          45,
          36,
          41,
          112,
          70,
          182,
          918,
          37,
          29,
          280,
          14,
          45,
          38,
          0,
          406,
          22,
          225,
          8,
          15,
          7,
          106,
          2,
          39,
          2,
          3,
          3,
          11,
          20,
          0,
          15,
          14,
          13,
          30,
          45,
          85,
          140,
          50,
          36,
          40,
          26,
          258,
          80,
          11,
          109,
          10,
          38,
          37,
          25,
          45,
          32,
          22,
          100,
          40,
          79,
          16,
          21,
          57,
          308,
          451,
          21,
          62,
          14,
          6,
          67,
          10,
          141,
          18,
          46,
          42,
          11,
          1116,
          20,
          8,
          69,
          22,
          20,
          81,
          33,
          103,
          25,
          53,
          22,
          49,
          23,
          38,
          18,
          26,
          78,
          182,
          167,
          95,
          638,
          124,
          1,
          79,
          70,
          72,
          20,
          14,
          9,
          17,
          49,
          33,
          283,
          34,
          15,
          147,
          14,
          48,
          11,
          79,
          12,
          68,
          20,
          98,
          13,
          19,
          239,
          272,
          36,
          20,
          7,
          49,
          40,
          59,
          43,
          87,
          83,
          18,
          204,
          17,
          36,
          32,
          508,
          62,
          19,
          2,
          15,
          271,
          147,
          199,
          48,
          112,
          40,
          50,
          60,
          134,
          96,
          57,
          125,
          82,
          70,
          190,
          9,
          23,
          75,
          0,
          417,
          61,
          111,
          38,
          27,
          14,
          49,
          104,
          81,
          59,
          24,
          30,
          230,
          71,
          12,
          289,
          6,
          92,
          23,
          8,
          116,
          5,
          84,
          76,
          29,
          4,
          1657,
          117,
          36,
          10,
          77,
          12,
          34,
          43,
          14,
          9,
          647,
          0,
          77,
          1,
          606,
          680,
          32,
          112,
          3,
          1,
          68,
          103,
          50,
          451,
          32,
          132,
          36,
          5,
          60,
          178,
          1,
          11,
          6,
          80,
          6,
          28,
          64,
          36,
          89,
          24,
          81,
          61,
          59,
          357,
          22,
          24,
          96,
          52,
          79,
          37,
          26,
          127,
          92,
          43,
          90,
          17,
          23,
          22,
          87,
          11,
          12,
          12,
          46,
          93,
          98,
          15,
          11,
          9,
          22,
          25,
          10,
          13,
          0,
          34,
          44,
          8,
          32,
          4,
          176,
          41,
          20,
          15,
          86,
          20,
          302,
          7,
          26,
          56,
          97,
          65,
          73,
          19,
          338,
          201,
          32,
          64,
          33,
          122,
          13,
          139,
          26,
          94,
          25,
          23,
          14,
          40,
          29,
          136,
          31,
          336,
          36,
          90,
          10,
          51,
          96,
          94,
          227,
          73,
          28,
          11,
          1429,
          48,
          68,
          78,
          242,
          104,
          7,
          43,
          64,
          74,
          7,
          399,
          16,
          209,
          24,
          57,
          29,
          85,
          168,
          70,
          38,
          48,
          0,
          43,
          45,
          166,
          24,
          191,
          634,
          167,
          38,
          225,
          106,
          17,
          35,
          60,
          24,
          18,
          13,
          87,
          24,
          3,
          10,
          121,
          14,
          140,
          2,
          32,
          13,
          31,
          7,
          40,
          11,
          13,
          0,
          26,
          6
         ]
        }
       ],
       "layout": {
        "geo": {
         "lakecolor": "rgb(85,173,240)",
         "scope": "usa",
         "showlakes": true
        },
        "template": {
         "data": {
          "bar": [
           {
            "error_x": {
             "color": "#2a3f5f"
            },
            "error_y": {
             "color": "#2a3f5f"
            },
            "marker": {
             "line": {
              "color": "#E5ECF6",
              "width": 0.5
             },
             "pattern": {
              "fillmode": "overlay",
              "size": 10,
              "solidity": 0.2
             }
            },
            "type": "bar"
           }
          ],
          "barpolar": [
           {
            "marker": {
             "line": {
              "color": "#E5ECF6",
              "width": 0.5
             },
             "pattern": {
              "fillmode": "overlay",
              "size": 10,
              "solidity": 0.2
             }
            },
            "type": "barpolar"
           }
          ],
          "carpet": [
           {
            "aaxis": {
             "endlinecolor": "#2a3f5f",
             "gridcolor": "white",
             "linecolor": "white",
             "minorgridcolor": "white",
             "startlinecolor": "#2a3f5f"
            },
            "baxis": {
             "endlinecolor": "#2a3f5f",
             "gridcolor": "white",
             "linecolor": "white",
             "minorgridcolor": "white",
             "startlinecolor": "#2a3f5f"
            },
            "type": "carpet"
           }
          ],
          "choropleth": [
           {
            "colorbar": {
             "outlinewidth": 0,
             "ticks": ""
            },
            "type": "choropleth"
           }
          ],
          "contour": [
           {
            "colorbar": {
             "outlinewidth": 0,
             "ticks": ""
            },
            "colorscale": [
             [
              0,
              "#0d0887"
             ],
             [
              0.1111111111111111,
              "#46039f"
             ],
             [
              0.2222222222222222,
              "#7201a8"
             ],
             [
              0.3333333333333333,
              "#9c179e"
             ],
             [
              0.4444444444444444,
              "#bd3786"
             ],
             [
              0.5555555555555556,
              "#d8576b"
             ],
             [
              0.6666666666666666,
              "#ed7953"
             ],
             [
              0.7777777777777778,
              "#fb9f3a"
             ],
             [
              0.8888888888888888,
              "#fdca26"
             ],
             [
              1,
              "#f0f921"
             ]
            ],
            "type": "contour"
           }
          ],
          "contourcarpet": [
           {
            "colorbar": {
             "outlinewidth": 0,
             "ticks": ""
            },
            "type": "contourcarpet"
           }
          ],
          "heatmap": [
           {
            "colorbar": {
             "outlinewidth": 0,
             "ticks": ""
            },
            "colorscale": [
             [
              0,
              "#0d0887"
             ],
             [
              0.1111111111111111,
              "#46039f"
             ],
             [
              0.2222222222222222,
              "#7201a8"
             ],
             [
              0.3333333333333333,
              "#9c179e"
             ],
             [
              0.4444444444444444,
              "#bd3786"
             ],
             [
              0.5555555555555556,
              "#d8576b"
             ],
             [
              0.6666666666666666,
              "#ed7953"
             ],
             [
              0.7777777777777778,
              "#fb9f3a"
             ],
             [
              0.8888888888888888,
              "#fdca26"
             ],
             [
              1,
              "#f0f921"
             ]
            ],
            "type": "heatmap"
           }
          ],
          "heatmapgl": [
           {
            "colorbar": {
             "outlinewidth": 0,
             "ticks": ""
            },
            "colorscale": [
             [
              0,
              "#0d0887"
             ],
             [
              0.1111111111111111,
              "#46039f"
             ],
             [
              0.2222222222222222,
              "#7201a8"
             ],
             [
              0.3333333333333333,
              "#9c179e"
             ],
             [
              0.4444444444444444,
              "#bd3786"
             ],
             [
              0.5555555555555556,
              "#d8576b"
             ],
             [
              0.6666666666666666,
              "#ed7953"
             ],
             [
              0.7777777777777778,
              "#fb9f3a"
             ],
             [
              0.8888888888888888,
              "#fdca26"
             ],
             [
              1,
              "#f0f921"
             ]
            ],
            "type": "heatmapgl"
           }
          ],
          "histogram": [
           {
            "marker": {
             "pattern": {
              "fillmode": "overlay",
              "size": 10,
              "solidity": 0.2
             }
            },
            "type": "histogram"
           }
          ],
          "histogram2d": [
           {
            "colorbar": {
             "outlinewidth": 0,
             "ticks": ""
            },
            "colorscale": [
             [
              0,
              "#0d0887"
             ],
             [
              0.1111111111111111,
              "#46039f"
             ],
             [
              0.2222222222222222,
              "#7201a8"
             ],
             [
              0.3333333333333333,
              "#9c179e"
             ],
             [
              0.4444444444444444,
              "#bd3786"
             ],
             [
              0.5555555555555556,
              "#d8576b"
             ],
             [
              0.6666666666666666,
              "#ed7953"
             ],
             [
              0.7777777777777778,
              "#fb9f3a"
             ],
             [
              0.8888888888888888,
              "#fdca26"
             ],
             [
              1,
              "#f0f921"
             ]
            ],
            "type": "histogram2d"
           }
          ],
          "histogram2dcontour": [
           {
            "colorbar": {
             "outlinewidth": 0,
             "ticks": ""
            },
            "colorscale": [
             [
              0,
              "#0d0887"
             ],
             [
              0.1111111111111111,
              "#46039f"
             ],
             [
              0.2222222222222222,
              "#7201a8"
             ],
             [
              0.3333333333333333,
              "#9c179e"
             ],
             [
              0.4444444444444444,
              "#bd3786"
             ],
             [
              0.5555555555555556,
              "#d8576b"
             ],
             [
              0.6666666666666666,
              "#ed7953"
             ],
             [
              0.7777777777777778,
              "#fb9f3a"
             ],
             [
              0.8888888888888888,
              "#fdca26"
             ],
             [
              1,
              "#f0f921"
             ]
            ],
            "type": "histogram2dcontour"
           }
          ],
          "mesh3d": [
           {
            "colorbar": {
             "outlinewidth": 0,
             "ticks": ""
            },
            "type": "mesh3d"
           }
          ],
          "parcoords": [
           {
            "line": {
             "colorbar": {
              "outlinewidth": 0,
              "ticks": ""
             }
            },
            "type": "parcoords"
           }
          ],
          "pie": [
           {
            "automargin": true,
            "type": "pie"
           }
          ],
          "scatter": [
           {
            "marker": {
             "colorbar": {
              "outlinewidth": 0,
              "ticks": ""
             }
            },
            "type": "scatter"
           }
          ],
          "scatter3d": [
           {
            "line": {
             "colorbar": {
              "outlinewidth": 0,
              "ticks": ""
             }
            },
            "marker": {
             "colorbar": {
              "outlinewidth": 0,
              "ticks": ""
             }
            },
            "type": "scatter3d"
           }
          ],
          "scattercarpet": [
           {
            "marker": {
             "colorbar": {
              "outlinewidth": 0,
              "ticks": ""
             }
            },
            "type": "scattercarpet"
           }
          ],
          "scattergeo": [
           {
            "marker": {
             "colorbar": {
              "outlinewidth": 0,
              "ticks": ""
             }
            },
            "type": "scattergeo"
           }
          ],
          "scattergl": [
           {
            "marker": {
             "colorbar": {
              "outlinewidth": 0,
              "ticks": ""
             }
            },
            "type": "scattergl"
           }
          ],
          "scattermapbox": [
           {
            "marker": {
             "colorbar": {
              "outlinewidth": 0,
              "ticks": ""
             }
            },
            "type": "scattermapbox"
           }
          ],
          "scatterpolar": [
           {
            "marker": {
             "colorbar": {
              "outlinewidth": 0,
              "ticks": ""
             }
            },
            "type": "scatterpolar"
           }
          ],
          "scatterpolargl": [
           {
            "marker": {
             "colorbar": {
              "outlinewidth": 0,
              "ticks": ""
             }
            },
            "type": "scatterpolargl"
           }
          ],
          "scatterternary": [
           {
            "marker": {
             "colorbar": {
              "outlinewidth": 0,
              "ticks": ""
             }
            },
            "type": "scatterternary"
           }
          ],
          "surface": [
           {
            "colorbar": {
             "outlinewidth": 0,
             "ticks": ""
            },
            "colorscale": [
             [
              0,
              "#0d0887"
             ],
             [
              0.1111111111111111,
              "#46039f"
             ],
             [
              0.2222222222222222,
              "#7201a8"
             ],
             [
              0.3333333333333333,
              "#9c179e"
             ],
             [
              0.4444444444444444,
              "#bd3786"
             ],
             [
              0.5555555555555556,
              "#d8576b"
             ],
             [
              0.6666666666666666,
              "#ed7953"
             ],
             [
              0.7777777777777778,
              "#fb9f3a"
             ],
             [
              0.8888888888888888,
              "#fdca26"
             ],
             [
              1,
              "#f0f921"
             ]
            ],
            "type": "surface"
           }
          ],
          "table": [
           {
            "cells": {
             "fill": {
              "color": "#EBF0F8"
             },
             "line": {
              "color": "white"
             }
            },
            "header": {
             "fill": {
              "color": "#C8D4E3"
             },
             "line": {
              "color": "white"
             }
            },
            "type": "table"
           }
          ]
         },
         "layout": {
          "annotationdefaults": {
           "arrowcolor": "#2a3f5f",
           "arrowhead": 0,
           "arrowwidth": 1
          },
          "autotypenumbers": "strict",
          "coloraxis": {
           "colorbar": {
            "outlinewidth": 0,
            "ticks": ""
           }
          },
          "colorscale": {
           "diverging": [
            [
             0,
             "#8e0152"
            ],
            [
             0.1,
             "#c51b7d"
            ],
            [
             0.2,
             "#de77ae"
            ],
            [
             0.3,
             "#f1b6da"
            ],
            [
             0.4,
             "#fde0ef"
            ],
            [
             0.5,
             "#f7f7f7"
            ],
            [
             0.6,
             "#e6f5d0"
            ],
            [
             0.7,
             "#b8e186"
            ],
            [
             0.8,
             "#7fbc41"
            ],
            [
             0.9,
             "#4d9221"
            ],
            [
             1,
             "#276419"
            ]
           ],
           "sequential": [
            [
             0,
             "#0d0887"
            ],
            [
             0.1111111111111111,
             "#46039f"
            ],
            [
             0.2222222222222222,
             "#7201a8"
            ],
            [
             0.3333333333333333,
             "#9c179e"
            ],
            [
             0.4444444444444444,
             "#bd3786"
            ],
            [
             0.5555555555555556,
             "#d8576b"
            ],
            [
             0.6666666666666666,
             "#ed7953"
            ],
            [
             0.7777777777777778,
             "#fb9f3a"
            ],
            [
             0.8888888888888888,
             "#fdca26"
            ],
            [
             1,
             "#f0f921"
            ]
           ],
           "sequentialminus": [
            [
             0,
             "#0d0887"
            ],
            [
             0.1111111111111111,
             "#46039f"
            ],
            [
             0.2222222222222222,
             "#7201a8"
            ],
            [
             0.3333333333333333,
             "#9c179e"
            ],
            [
             0.4444444444444444,
             "#bd3786"
            ],
            [
             0.5555555555555556,
             "#d8576b"
            ],
            [
             0.6666666666666666,
             "#ed7953"
            ],
            [
             0.7777777777777778,
             "#fb9f3a"
            ],
            [
             0.8888888888888888,
             "#fdca26"
            ],
            [
             1,
             "#f0f921"
            ]
           ]
          },
          "colorway": [
           "#636efa",
           "#EF553B",
           "#00cc96",
           "#ab63fa",
           "#FFA15A",
           "#19d3f3",
           "#FF6692",
           "#B6E880",
           "#FF97FF",
           "#FECB52"
          ],
          "font": {
           "color": "#2a3f5f"
          },
          "geo": {
           "bgcolor": "white",
           "lakecolor": "white",
           "landcolor": "#E5ECF6",
           "showlakes": true,
           "showland": true,
           "subunitcolor": "white"
          },
          "hoverlabel": {
           "align": "left"
          },
          "hovermode": "closest",
          "mapbox": {
           "style": "light"
          },
          "paper_bgcolor": "white",
          "plot_bgcolor": "#E5ECF6",
          "polar": {
           "angularaxis": {
            "gridcolor": "white",
            "linecolor": "white",
            "ticks": ""
           },
           "bgcolor": "#E5ECF6",
           "radialaxis": {
            "gridcolor": "white",
            "linecolor": "white",
            "ticks": ""
           }
          },
          "scene": {
           "xaxis": {
            "backgroundcolor": "#E5ECF6",
            "gridcolor": "white",
            "gridwidth": 2,
            "linecolor": "white",
            "showbackground": true,
            "ticks": "",
            "zerolinecolor": "white"
           },
           "yaxis": {
            "backgroundcolor": "#E5ECF6",
            "gridcolor": "white",
            "gridwidth": 2,
            "linecolor": "white",
            "showbackground": true,
            "ticks": "",
            "zerolinecolor": "white"
           },
           "zaxis": {
            "backgroundcolor": "#E5ECF6",
            "gridcolor": "white",
            "gridwidth": 2,
            "linecolor": "white",
            "showbackground": true,
            "ticks": "",
            "zerolinecolor": "white"
           }
          },
          "shapedefaults": {
           "line": {
            "color": "#2a3f5f"
           }
          },
          "ternary": {
           "aaxis": {
            "gridcolor": "white",
            "linecolor": "white",
            "ticks": ""
           },
           "baxis": {
            "gridcolor": "white",
            "linecolor": "white",
            "ticks": ""
           },
           "bgcolor": "#E5ECF6",
           "caxis": {
            "gridcolor": "white",
            "linecolor": "white",
            "ticks": ""
           }
          },
          "title": {
           "x": 0.05
          },
          "xaxis": {
           "automargin": true,
           "gridcolor": "white",
           "linecolor": "white",
           "ticks": "",
           "title": {
            "standoff": 15
           },
           "zerolinecolor": "white",
           "zerolinewidth": 2
          },
          "yaxis": {
           "automargin": true,
           "gridcolor": "white",
           "linecolor": "white",
           "ticks": "",
           "title": {
            "standoff": 15
           },
           "zerolinecolor": "white",
           "zerolinewidth": 2
          }
         }
        },
        "title": {
         "text": "July 5th 2021 COVID-19 deaths US"
        }
       }
      }
     },
     "metadata": {},
     "output_type": "display_data"
    }
   ],
   "source": [
    "data = dict(type='choropleth',\n",
    "            colorscale = 'balance',\n",
    "            locations = df_us['State'],\n",
    "            z = df_us['Deaths'],\n",
    "            locationmode = 'USA-states',\n",
    "            text = df_us['Deaths'],\n",
    "            marker = dict(line = dict(color = 'rgb(255,255,255)',width = 2)),\n",
    "            colorbar = {'title':\"Deaths in the US by COVID-19\"}\n",
    "            )\n",
    "\n",
    "layout = dict(title = 'July 5th 2021 COVID-19 deaths US',\n",
    "              geo = dict(scope='usa',\n",
    "                         showlakes = True,\n",
    "                         lakecolor = 'rgb(85,173,240)')\n",
    "             )\n",
    "\n",
    "choromap = go.Figure(data = [data],layout = layout)\n",
    "iplot(choromap)"
   ]
  },
  {
   "cell_type": "code",
   "execution_count": 50,
   "metadata": {},
   "outputs": [
    {
     "data": {
      "application/vnd.plotly.v1+json": {
       "config": {
        "plotlyServerURL": "https://plot.ly"
       },
       "data": [
        {
         "customdata": [
          [
           232236,
           831,
           229102,
           2303
          ],
          [
           147790,
           669,
           145362,
           1759
          ],
          [
           0,
           null,
           0,
           1
          ],
          [
           13,
           0,
           13,
           0
          ],
          [
           56482,
           1022,
           54309,
           1151
          ],
          [
           2338,
           19,
           2273,
           46
          ],
          [
           1400,
           21,
           1372,
           7
          ],
          [
           128,
           0,
           128,
           0
          ],
          [
           5854,
           45,
           5717,
           92
          ],
          [
           657,
           0,
           653,
           4
          ],
          [
           553551,
           1939,
           542430,
           9215
          ],
          [
           207,
           1,
           206,
           0
          ],
          [
           375522,
           732,
           363245,
           11218
          ],
          [
           13,
           0,
           13,
           0
          ],
          [
           48978,
           360,
           48050,
           568
          ],
          [
           425,
           143,
           277,
           5
          ]
         ],
         "geo": "geo",
         "hovertemplate": "<b>%{hovertext}</b><br><br>Confirmed=%{customdata[0]}<br>Country=%{location}<br>Active=%{customdata[1]}<br>Recovered=%{customdata[2]}<br>Deaths=%{marker.color}<extra></extra>",
         "hovertext": [
          "Canada",
          "Canada",
          "Canada",
          "Canada",
          "Canada",
          "Canada",
          "Canada",
          "Canada",
          "Canada",
          "Canada",
          "Canada",
          "Canada",
          "Canada",
          "Canada",
          "Canada",
          "Canada"
         ],
         "legendgroup": "",
         "locationmode": "country names",
         "locations": [
          "Canada",
          "Canada",
          "Canada",
          "Canada",
          "Canada",
          "Canada",
          "Canada",
          "Canada",
          "Canada",
          "Canada",
          "Canada",
          "Canada",
          "Canada",
          "Canada",
          "Canada",
          "Canada"
         ],
         "marker": {
          "color": [
           2303,
           1759,
           1,
           0,
           1151,
           46,
           7,
           0,
           92,
           4,
           9215,
           0,
           11218,
           0,
           568,
           5
          ],
          "coloraxis": "coloraxis",
          "size": [
           232236,
           147790,
           0,
           13,
           56482,
           2338,
           1400,
           128,
           5854,
           657,
           553551,
           207,
           375522,
           13,
           48978,
           425
          ],
          "sizemode": "area",
          "sizeref": 221.4204,
          "symbol": "circle"
         },
         "mode": "markers",
         "name": "",
         "showlegend": false,
         "type": "scattergeo"
        }
       ],
       "layout": {
        "coloraxis": {
         "cmax": 1000,
         "cmin": 0,
         "colorbar": {
          "title": {
           "text": "Deaths"
          }
         },
         "colorscale": [
          [
           0,
           "#0d0887"
          ],
          [
           0.1111111111111111,
           "#46039f"
          ],
          [
           0.2222222222222222,
           "#7201a8"
          ],
          [
           0.3333333333333333,
           "#9c179e"
          ],
          [
           0.4444444444444444,
           "#bd3786"
          ],
          [
           0.5555555555555556,
           "#d8576b"
          ],
          [
           0.6666666666666666,
           "#ed7953"
          ],
          [
           0.7777777777777778,
           "#fb9f3a"
          ],
          [
           0.8888888888888888,
           "#fdca26"
          ],
          [
           1,
           "#f0f921"
          ]
         ]
        },
        "geo": {
         "center": {},
         "domain": {
          "x": [
           0,
           1
          ],
          "y": [
           0,
           1
          ]
         },
         "projection": {
          "type": "natural earth"
         }
        },
        "legend": {
         "itemsizing": "constant",
         "tracegroupgap": 0
        },
        "margin": {
         "t": 60
        },
        "template": {
         "data": {
          "bar": [
           {
            "error_x": {
             "color": "#2a3f5f"
            },
            "error_y": {
             "color": "#2a3f5f"
            },
            "marker": {
             "line": {
              "color": "#E5ECF6",
              "width": 0.5
             },
             "pattern": {
              "fillmode": "overlay",
              "size": 10,
              "solidity": 0.2
             }
            },
            "type": "bar"
           }
          ],
          "barpolar": [
           {
            "marker": {
             "line": {
              "color": "#E5ECF6",
              "width": 0.5
             },
             "pattern": {
              "fillmode": "overlay",
              "size": 10,
              "solidity": 0.2
             }
            },
            "type": "barpolar"
           }
          ],
          "carpet": [
           {
            "aaxis": {
             "endlinecolor": "#2a3f5f",
             "gridcolor": "white",
             "linecolor": "white",
             "minorgridcolor": "white",
             "startlinecolor": "#2a3f5f"
            },
            "baxis": {
             "endlinecolor": "#2a3f5f",
             "gridcolor": "white",
             "linecolor": "white",
             "minorgridcolor": "white",
             "startlinecolor": "#2a3f5f"
            },
            "type": "carpet"
           }
          ],
          "choropleth": [
           {
            "colorbar": {
             "outlinewidth": 0,
             "ticks": ""
            },
            "type": "choropleth"
           }
          ],
          "contour": [
           {
            "colorbar": {
             "outlinewidth": 0,
             "ticks": ""
            },
            "colorscale": [
             [
              0,
              "#0d0887"
             ],
             [
              0.1111111111111111,
              "#46039f"
             ],
             [
              0.2222222222222222,
              "#7201a8"
             ],
             [
              0.3333333333333333,
              "#9c179e"
             ],
             [
              0.4444444444444444,
              "#bd3786"
             ],
             [
              0.5555555555555556,
              "#d8576b"
             ],
             [
              0.6666666666666666,
              "#ed7953"
             ],
             [
              0.7777777777777778,
              "#fb9f3a"
             ],
             [
              0.8888888888888888,
              "#fdca26"
             ],
             [
              1,
              "#f0f921"
             ]
            ],
            "type": "contour"
           }
          ],
          "contourcarpet": [
           {
            "colorbar": {
             "outlinewidth": 0,
             "ticks": ""
            },
            "type": "contourcarpet"
           }
          ],
          "heatmap": [
           {
            "colorbar": {
             "outlinewidth": 0,
             "ticks": ""
            },
            "colorscale": [
             [
              0,
              "#0d0887"
             ],
             [
              0.1111111111111111,
              "#46039f"
             ],
             [
              0.2222222222222222,
              "#7201a8"
             ],
             [
              0.3333333333333333,
              "#9c179e"
             ],
             [
              0.4444444444444444,
              "#bd3786"
             ],
             [
              0.5555555555555556,
              "#d8576b"
             ],
             [
              0.6666666666666666,
              "#ed7953"
             ],
             [
              0.7777777777777778,
              "#fb9f3a"
             ],
             [
              0.8888888888888888,
              "#fdca26"
             ],
             [
              1,
              "#f0f921"
             ]
            ],
            "type": "heatmap"
           }
          ],
          "heatmapgl": [
           {
            "colorbar": {
             "outlinewidth": 0,
             "ticks": ""
            },
            "colorscale": [
             [
              0,
              "#0d0887"
             ],
             [
              0.1111111111111111,
              "#46039f"
             ],
             [
              0.2222222222222222,
              "#7201a8"
             ],
             [
              0.3333333333333333,
              "#9c179e"
             ],
             [
              0.4444444444444444,
              "#bd3786"
             ],
             [
              0.5555555555555556,
              "#d8576b"
             ],
             [
              0.6666666666666666,
              "#ed7953"
             ],
             [
              0.7777777777777778,
              "#fb9f3a"
             ],
             [
              0.8888888888888888,
              "#fdca26"
             ],
             [
              1,
              "#f0f921"
             ]
            ],
            "type": "heatmapgl"
           }
          ],
          "histogram": [
           {
            "marker": {
             "pattern": {
              "fillmode": "overlay",
              "size": 10,
              "solidity": 0.2
             }
            },
            "type": "histogram"
           }
          ],
          "histogram2d": [
           {
            "colorbar": {
             "outlinewidth": 0,
             "ticks": ""
            },
            "colorscale": [
             [
              0,
              "#0d0887"
             ],
             [
              0.1111111111111111,
              "#46039f"
             ],
             [
              0.2222222222222222,
              "#7201a8"
             ],
             [
              0.3333333333333333,
              "#9c179e"
             ],
             [
              0.4444444444444444,
              "#bd3786"
             ],
             [
              0.5555555555555556,
              "#d8576b"
             ],
             [
              0.6666666666666666,
              "#ed7953"
             ],
             [
              0.7777777777777778,
              "#fb9f3a"
             ],
             [
              0.8888888888888888,
              "#fdca26"
             ],
             [
              1,
              "#f0f921"
             ]
            ],
            "type": "histogram2d"
           }
          ],
          "histogram2dcontour": [
           {
            "colorbar": {
             "outlinewidth": 0,
             "ticks": ""
            },
            "colorscale": [
             [
              0,
              "#0d0887"
             ],
             [
              0.1111111111111111,
              "#46039f"
             ],
             [
              0.2222222222222222,
              "#7201a8"
             ],
             [
              0.3333333333333333,
              "#9c179e"
             ],
             [
              0.4444444444444444,
              "#bd3786"
             ],
             [
              0.5555555555555556,
              "#d8576b"
             ],
             [
              0.6666666666666666,
              "#ed7953"
             ],
             [
              0.7777777777777778,
              "#fb9f3a"
             ],
             [
              0.8888888888888888,
              "#fdca26"
             ],
             [
              1,
              "#f0f921"
             ]
            ],
            "type": "histogram2dcontour"
           }
          ],
          "mesh3d": [
           {
            "colorbar": {
             "outlinewidth": 0,
             "ticks": ""
            },
            "type": "mesh3d"
           }
          ],
          "parcoords": [
           {
            "line": {
             "colorbar": {
              "outlinewidth": 0,
              "ticks": ""
             }
            },
            "type": "parcoords"
           }
          ],
          "pie": [
           {
            "automargin": true,
            "type": "pie"
           }
          ],
          "scatter": [
           {
            "marker": {
             "colorbar": {
              "outlinewidth": 0,
              "ticks": ""
             }
            },
            "type": "scatter"
           }
          ],
          "scatter3d": [
           {
            "line": {
             "colorbar": {
              "outlinewidth": 0,
              "ticks": ""
             }
            },
            "marker": {
             "colorbar": {
              "outlinewidth": 0,
              "ticks": ""
             }
            },
            "type": "scatter3d"
           }
          ],
          "scattercarpet": [
           {
            "marker": {
             "colorbar": {
              "outlinewidth": 0,
              "ticks": ""
             }
            },
            "type": "scattercarpet"
           }
          ],
          "scattergeo": [
           {
            "marker": {
             "colorbar": {
              "outlinewidth": 0,
              "ticks": ""
             }
            },
            "type": "scattergeo"
           }
          ],
          "scattergl": [
           {
            "marker": {
             "colorbar": {
              "outlinewidth": 0,
              "ticks": ""
             }
            },
            "type": "scattergl"
           }
          ],
          "scattermapbox": [
           {
            "marker": {
             "colorbar": {
              "outlinewidth": 0,
              "ticks": ""
             }
            },
            "type": "scattermapbox"
           }
          ],
          "scatterpolar": [
           {
            "marker": {
             "colorbar": {
              "outlinewidth": 0,
              "ticks": ""
             }
            },
            "type": "scatterpolar"
           }
          ],
          "scatterpolargl": [
           {
            "marker": {
             "colorbar": {
              "outlinewidth": 0,
              "ticks": ""
             }
            },
            "type": "scatterpolargl"
           }
          ],
          "scatterternary": [
           {
            "marker": {
             "colorbar": {
              "outlinewidth": 0,
              "ticks": ""
             }
            },
            "type": "scatterternary"
           }
          ],
          "surface": [
           {
            "colorbar": {
             "outlinewidth": 0,
             "ticks": ""
            },
            "colorscale": [
             [
              0,
              "#0d0887"
             ],
             [
              0.1111111111111111,
              "#46039f"
             ],
             [
              0.2222222222222222,
              "#7201a8"
             ],
             [
              0.3333333333333333,
              "#9c179e"
             ],
             [
              0.4444444444444444,
              "#bd3786"
             ],
             [
              0.5555555555555556,
              "#d8576b"
             ],
             [
              0.6666666666666666,
              "#ed7953"
             ],
             [
              0.7777777777777778,
              "#fb9f3a"
             ],
             [
              0.8888888888888888,
              "#fdca26"
             ],
             [
              1,
              "#f0f921"
             ]
            ],
            "type": "surface"
           }
          ],
          "table": [
           {
            "cells": {
             "fill": {
              "color": "#EBF0F8"
             },
             "line": {
              "color": "white"
             }
            },
            "header": {
             "fill": {
              "color": "#C8D4E3"
             },
             "line": {
              "color": "white"
             }
            },
            "type": "table"
           }
          ]
         },
         "layout": {
          "annotationdefaults": {
           "arrowcolor": "#2a3f5f",
           "arrowhead": 0,
           "arrowwidth": 1
          },
          "autotypenumbers": "strict",
          "coloraxis": {
           "colorbar": {
            "outlinewidth": 0,
            "ticks": ""
           }
          },
          "colorscale": {
           "diverging": [
            [
             0,
             "#8e0152"
            ],
            [
             0.1,
             "#c51b7d"
            ],
            [
             0.2,
             "#de77ae"
            ],
            [
             0.3,
             "#f1b6da"
            ],
            [
             0.4,
             "#fde0ef"
            ],
            [
             0.5,
             "#f7f7f7"
            ],
            [
             0.6,
             "#e6f5d0"
            ],
            [
             0.7,
             "#b8e186"
            ],
            [
             0.8,
             "#7fbc41"
            ],
            [
             0.9,
             "#4d9221"
            ],
            [
             1,
             "#276419"
            ]
           ],
           "sequential": [
            [
             0,
             "#0d0887"
            ],
            [
             0.1111111111111111,
             "#46039f"
            ],
            [
             0.2222222222222222,
             "#7201a8"
            ],
            [
             0.3333333333333333,
             "#9c179e"
            ],
            [
             0.4444444444444444,
             "#bd3786"
            ],
            [
             0.5555555555555556,
             "#d8576b"
            ],
            [
             0.6666666666666666,
             "#ed7953"
            ],
            [
             0.7777777777777778,
             "#fb9f3a"
            ],
            [
             0.8888888888888888,
             "#fdca26"
            ],
            [
             1,
             "#f0f921"
            ]
           ],
           "sequentialminus": [
            [
             0,
             "#0d0887"
            ],
            [
             0.1111111111111111,
             "#46039f"
            ],
            [
             0.2222222222222222,
             "#7201a8"
            ],
            [
             0.3333333333333333,
             "#9c179e"
            ],
            [
             0.4444444444444444,
             "#bd3786"
            ],
            [
             0.5555555555555556,
             "#d8576b"
            ],
            [
             0.6666666666666666,
             "#ed7953"
            ],
            [
             0.7777777777777778,
             "#fb9f3a"
            ],
            [
             0.8888888888888888,
             "#fdca26"
            ],
            [
             1,
             "#f0f921"
            ]
           ]
          },
          "colorway": [
           "#636efa",
           "#EF553B",
           "#00cc96",
           "#ab63fa",
           "#FFA15A",
           "#19d3f3",
           "#FF6692",
           "#B6E880",
           "#FF97FF",
           "#FECB52"
          ],
          "font": {
           "color": "#2a3f5f"
          },
          "geo": {
           "bgcolor": "white",
           "lakecolor": "white",
           "landcolor": "#E5ECF6",
           "showlakes": true,
           "showland": true,
           "subunitcolor": "white"
          },
          "hoverlabel": {
           "align": "left"
          },
          "hovermode": "closest",
          "mapbox": {
           "style": "light"
          },
          "paper_bgcolor": "white",
          "plot_bgcolor": "#E5ECF6",
          "polar": {
           "angularaxis": {
            "gridcolor": "white",
            "linecolor": "white",
            "ticks": ""
           },
           "bgcolor": "#E5ECF6",
           "radialaxis": {
            "gridcolor": "white",
            "linecolor": "white",
            "ticks": ""
           }
          },
          "scene": {
           "xaxis": {
            "backgroundcolor": "#E5ECF6",
            "gridcolor": "white",
            "gridwidth": 2,
            "linecolor": "white",
            "showbackground": true,
            "ticks": "",
            "zerolinecolor": "white"
           },
           "yaxis": {
            "backgroundcolor": "#E5ECF6",
            "gridcolor": "white",
            "gridwidth": 2,
            "linecolor": "white",
            "showbackground": true,
            "ticks": "",
            "zerolinecolor": "white"
           },
           "zaxis": {
            "backgroundcolor": "#E5ECF6",
            "gridcolor": "white",
            "gridwidth": 2,
            "linecolor": "white",
            "showbackground": true,
            "ticks": "",
            "zerolinecolor": "white"
           }
          },
          "shapedefaults": {
           "line": {
            "color": "#2a3f5f"
           }
          },
          "ternary": {
           "aaxis": {
            "gridcolor": "white",
            "linecolor": "white",
            "ticks": ""
           },
           "baxis": {
            "gridcolor": "white",
            "linecolor": "white",
            "ticks": ""
           },
           "bgcolor": "#E5ECF6",
           "caxis": {
            "gridcolor": "white",
            "linecolor": "white",
            "ticks": ""
           }
          },
          "title": {
           "x": 0.05
          },
          "xaxis": {
           "automargin": true,
           "gridcolor": "white",
           "linecolor": "white",
           "ticks": "",
           "title": {
            "standoff": 15
           },
           "zerolinecolor": "white",
           "zerolinewidth": 2
          },
          "yaxis": {
           "automargin": true,
           "gridcolor": "white",
           "linecolor": "white",
           "ticks": "",
           "title": {
            "standoff": 15
           },
           "zerolinecolor": "white",
           "zerolinewidth": 2
          }
         }
        }
       }
      }
     },
     "metadata": {},
     "output_type": "display_data"
    }
   ],
   "source": [
    "fig = px.scatter_geo(df[df['Country'] == 'Canada'],\n",
    "                        locations='Country',\n",
    "                        locationmode='country names',\n",
    "                        color='Deaths',\n",
    "                        hover_name='Country',\n",
    "                        hover_data=['Confirmed', 'Active', 'Recovered', 'Deaths'],\n",
    "                        size='Confirmed',\n",
    "                        size_max=50,\n",
    "                        range_color=(0, 1000),  # set the range of the color scale\n",
    "                        projection='natural earth')\n",
    "\n",
    "fig.show()\n",
    "                        \n"
   ]
  },
  {
   "cell_type": "code",
   "execution_count": 51,
   "metadata": {},
   "outputs": [
    {
     "data": {
      "application/vnd.plotly.v1+json": {
       "config": {
        "plotlyServerURL": "https://plot.ly"
       },
       "data": [
        {
         "customdata": [
          [
           85983,
           1872,
           82354,
           1757
          ],
          [
           220022,
           3955,
           210634,
           5433
          ],
          [
           117927,
           18766,
           97309,
           1852
          ],
          [
           404347,
           44277,
           346721,
           13349
          ],
          [
           1138377,
           11307,
           1102758,
           24312
          ],
          [
           893270,
           243933,
           626584,
           22753
          ],
          [
           434114,
           7849,
           416953,
           9312
          ],
          [
           521830,
           14459,
           495815,
           11556
          ],
          [
           683684,
           9015,
           655260,
           19409
          ],
          [
           320832,
           33134,
           278534,
           9164
          ],
          [
           454430,
           7302,
           435158,
           11970
          ],
          [
           338645,
           10027,
           320253,
           8365
          ],
          [
           1828904,
           75220,
           1706564,
           47120
          ],
          [
           556694,
           20148,
           520959,
           15587
          ],
          [
           401700,
           126678,
           266319,
           8703
          ],
          [
           1305082,
           358534,
           915019,
           31529
          ],
          [
           559358,
           66170,
           475280,
           17908
          ],
          [
           298645,
           560,
           291428,
           6657
          ],
          [
           345615,
           188125,
           150649,
           6841
          ],
          [
           1231166,
           13823,
           1185582,
           31761
          ],
          [
           966888,
           7980,
           902869,
           56039
          ],
          [
           252024,
           11327,
           234484,
           6213
          ],
          [
           113568,
           5436,
           106376,
           1756
          ],
          [
           1063393,
           19916,
           1026413,
           17064
          ],
          [
           3790090,
           265069,
           3395346,
           129675
          ],
          [
           266273,
           13419,
           247089,
           5765
          ],
          [
           199650,
           13537,
           182851,
           3262
          ]
         ],
         "geo": "geo",
         "hovertemplate": "<b>%{hovertext}</b><br><br>Confirmed=%{customdata[0]}<br>Country=%{location}<br>Active=%{customdata[1]}<br>Recovered=%{customdata[2]}<br>Deaths=%{marker.color}<extra></extra>",
         "hovertext": [
          "Brazil",
          "Brazil",
          "Brazil",
          "Brazil",
          "Brazil",
          "Brazil",
          "Brazil",
          "Brazil",
          "Brazil",
          "Brazil",
          "Brazil",
          "Brazil",
          "Brazil",
          "Brazil",
          "Brazil",
          "Brazil",
          "Brazil",
          "Brazil",
          "Brazil",
          "Brazil",
          "Brazil",
          "Brazil",
          "Brazil",
          "Brazil",
          "Brazil",
          "Brazil",
          "Brazil"
         ],
         "legendgroup": "",
         "locationmode": "country names",
         "locations": [
          "Brazil",
          "Brazil",
          "Brazil",
          "Brazil",
          "Brazil",
          "Brazil",
          "Brazil",
          "Brazil",
          "Brazil",
          "Brazil",
          "Brazil",
          "Brazil",
          "Brazil",
          "Brazil",
          "Brazil",
          "Brazil",
          "Brazil",
          "Brazil",
          "Brazil",
          "Brazil",
          "Brazil",
          "Brazil",
          "Brazil",
          "Brazil",
          "Brazil",
          "Brazil",
          "Brazil"
         ],
         "marker": {
          "color": [
           1757,
           5433,
           1852,
           13349,
           24312,
           22753,
           9312,
           11556,
           19409,
           9164,
           11970,
           8365,
           47120,
           15587,
           8703,
           31529,
           17908,
           6657,
           6841,
           31761,
           56039,
           6213,
           1756,
           17064,
           129675,
           5765,
           3262
          ],
          "coloraxis": "coloraxis",
          "size": [
           85983,
           220022,
           117927,
           404347,
           1138377,
           893270,
           434114,
           521830,
           683684,
           320832,
           454430,
           338645,
           1828904,
           556694,
           401700,
           1305082,
           559358,
           298645,
           345615,
           1231166,
           966888,
           252024,
           113568,
           1063393,
           3790090,
           266273,
           199650
          ],
          "sizemode": "area",
          "sizeref": 1516.036,
          "symbol": "circle"
         },
         "mode": "markers",
         "name": "",
         "showlegend": false,
         "type": "scattergeo"
        }
       ],
       "layout": {
        "coloraxis": {
         "cmax": 1000,
         "cmin": 0,
         "colorbar": {
          "title": {
           "text": "Deaths"
          }
         },
         "colorscale": [
          [
           0,
           "#0d0887"
          ],
          [
           0.1111111111111111,
           "#46039f"
          ],
          [
           0.2222222222222222,
           "#7201a8"
          ],
          [
           0.3333333333333333,
           "#9c179e"
          ],
          [
           0.4444444444444444,
           "#bd3786"
          ],
          [
           0.5555555555555556,
           "#d8576b"
          ],
          [
           0.6666666666666666,
           "#ed7953"
          ],
          [
           0.7777777777777778,
           "#fb9f3a"
          ],
          [
           0.8888888888888888,
           "#fdca26"
          ],
          [
           1,
           "#f0f921"
          ]
         ]
        },
        "geo": {
         "center": {},
         "domain": {
          "x": [
           0,
           1
          ],
          "y": [
           0,
           1
          ]
         },
         "projection": {
          "type": "natural earth"
         }
        },
        "legend": {
         "itemsizing": "constant",
         "tracegroupgap": 0
        },
        "margin": {
         "t": 60
        },
        "template": {
         "data": {
          "bar": [
           {
            "error_x": {
             "color": "#2a3f5f"
            },
            "error_y": {
             "color": "#2a3f5f"
            },
            "marker": {
             "line": {
              "color": "#E5ECF6",
              "width": 0.5
             },
             "pattern": {
              "fillmode": "overlay",
              "size": 10,
              "solidity": 0.2
             }
            },
            "type": "bar"
           }
          ],
          "barpolar": [
           {
            "marker": {
             "line": {
              "color": "#E5ECF6",
              "width": 0.5
             },
             "pattern": {
              "fillmode": "overlay",
              "size": 10,
              "solidity": 0.2
             }
            },
            "type": "barpolar"
           }
          ],
          "carpet": [
           {
            "aaxis": {
             "endlinecolor": "#2a3f5f",
             "gridcolor": "white",
             "linecolor": "white",
             "minorgridcolor": "white",
             "startlinecolor": "#2a3f5f"
            },
            "baxis": {
             "endlinecolor": "#2a3f5f",
             "gridcolor": "white",
             "linecolor": "white",
             "minorgridcolor": "white",
             "startlinecolor": "#2a3f5f"
            },
            "type": "carpet"
           }
          ],
          "choropleth": [
           {
            "colorbar": {
             "outlinewidth": 0,
             "ticks": ""
            },
            "type": "choropleth"
           }
          ],
          "contour": [
           {
            "colorbar": {
             "outlinewidth": 0,
             "ticks": ""
            },
            "colorscale": [
             [
              0,
              "#0d0887"
             ],
             [
              0.1111111111111111,
              "#46039f"
             ],
             [
              0.2222222222222222,
              "#7201a8"
             ],
             [
              0.3333333333333333,
              "#9c179e"
             ],
             [
              0.4444444444444444,
              "#bd3786"
             ],
             [
              0.5555555555555556,
              "#d8576b"
             ],
             [
              0.6666666666666666,
              "#ed7953"
             ],
             [
              0.7777777777777778,
              "#fb9f3a"
             ],
             [
              0.8888888888888888,
              "#fdca26"
             ],
             [
              1,
              "#f0f921"
             ]
            ],
            "type": "contour"
           }
          ],
          "contourcarpet": [
           {
            "colorbar": {
             "outlinewidth": 0,
             "ticks": ""
            },
            "type": "contourcarpet"
           }
          ],
          "heatmap": [
           {
            "colorbar": {
             "outlinewidth": 0,
             "ticks": ""
            },
            "colorscale": [
             [
              0,
              "#0d0887"
             ],
             [
              0.1111111111111111,
              "#46039f"
             ],
             [
              0.2222222222222222,
              "#7201a8"
             ],
             [
              0.3333333333333333,
              "#9c179e"
             ],
             [
              0.4444444444444444,
              "#bd3786"
             ],
             [
              0.5555555555555556,
              "#d8576b"
             ],
             [
              0.6666666666666666,
              "#ed7953"
             ],
             [
              0.7777777777777778,
              "#fb9f3a"
             ],
             [
              0.8888888888888888,
              "#fdca26"
             ],
             [
              1,
              "#f0f921"
             ]
            ],
            "type": "heatmap"
           }
          ],
          "heatmapgl": [
           {
            "colorbar": {
             "outlinewidth": 0,
             "ticks": ""
            },
            "colorscale": [
             [
              0,
              "#0d0887"
             ],
             [
              0.1111111111111111,
              "#46039f"
             ],
             [
              0.2222222222222222,
              "#7201a8"
             ],
             [
              0.3333333333333333,
              "#9c179e"
             ],
             [
              0.4444444444444444,
              "#bd3786"
             ],
             [
              0.5555555555555556,
              "#d8576b"
             ],
             [
              0.6666666666666666,
              "#ed7953"
             ],
             [
              0.7777777777777778,
              "#fb9f3a"
             ],
             [
              0.8888888888888888,
              "#fdca26"
             ],
             [
              1,
              "#f0f921"
             ]
            ],
            "type": "heatmapgl"
           }
          ],
          "histogram": [
           {
            "marker": {
             "pattern": {
              "fillmode": "overlay",
              "size": 10,
              "solidity": 0.2
             }
            },
            "type": "histogram"
           }
          ],
          "histogram2d": [
           {
            "colorbar": {
             "outlinewidth": 0,
             "ticks": ""
            },
            "colorscale": [
             [
              0,
              "#0d0887"
             ],
             [
              0.1111111111111111,
              "#46039f"
             ],
             [
              0.2222222222222222,
              "#7201a8"
             ],
             [
              0.3333333333333333,
              "#9c179e"
             ],
             [
              0.4444444444444444,
              "#bd3786"
             ],
             [
              0.5555555555555556,
              "#d8576b"
             ],
             [
              0.6666666666666666,
              "#ed7953"
             ],
             [
              0.7777777777777778,
              "#fb9f3a"
             ],
             [
              0.8888888888888888,
              "#fdca26"
             ],
             [
              1,
              "#f0f921"
             ]
            ],
            "type": "histogram2d"
           }
          ],
          "histogram2dcontour": [
           {
            "colorbar": {
             "outlinewidth": 0,
             "ticks": ""
            },
            "colorscale": [
             [
              0,
              "#0d0887"
             ],
             [
              0.1111111111111111,
              "#46039f"
             ],
             [
              0.2222222222222222,
              "#7201a8"
             ],
             [
              0.3333333333333333,
              "#9c179e"
             ],
             [
              0.4444444444444444,
              "#bd3786"
             ],
             [
              0.5555555555555556,
              "#d8576b"
             ],
             [
              0.6666666666666666,
              "#ed7953"
             ],
             [
              0.7777777777777778,
              "#fb9f3a"
             ],
             [
              0.8888888888888888,
              "#fdca26"
             ],
             [
              1,
              "#f0f921"
             ]
            ],
            "type": "histogram2dcontour"
           }
          ],
          "mesh3d": [
           {
            "colorbar": {
             "outlinewidth": 0,
             "ticks": ""
            },
            "type": "mesh3d"
           }
          ],
          "parcoords": [
           {
            "line": {
             "colorbar": {
              "outlinewidth": 0,
              "ticks": ""
             }
            },
            "type": "parcoords"
           }
          ],
          "pie": [
           {
            "automargin": true,
            "type": "pie"
           }
          ],
          "scatter": [
           {
            "marker": {
             "colorbar": {
              "outlinewidth": 0,
              "ticks": ""
             }
            },
            "type": "scatter"
           }
          ],
          "scatter3d": [
           {
            "line": {
             "colorbar": {
              "outlinewidth": 0,
              "ticks": ""
             }
            },
            "marker": {
             "colorbar": {
              "outlinewidth": 0,
              "ticks": ""
             }
            },
            "type": "scatter3d"
           }
          ],
          "scattercarpet": [
           {
            "marker": {
             "colorbar": {
              "outlinewidth": 0,
              "ticks": ""
             }
            },
            "type": "scattercarpet"
           }
          ],
          "scattergeo": [
           {
            "marker": {
             "colorbar": {
              "outlinewidth": 0,
              "ticks": ""
             }
            },
            "type": "scattergeo"
           }
          ],
          "scattergl": [
           {
            "marker": {
             "colorbar": {
              "outlinewidth": 0,
              "ticks": ""
             }
            },
            "type": "scattergl"
           }
          ],
          "scattermapbox": [
           {
            "marker": {
             "colorbar": {
              "outlinewidth": 0,
              "ticks": ""
             }
            },
            "type": "scattermapbox"
           }
          ],
          "scatterpolar": [
           {
            "marker": {
             "colorbar": {
              "outlinewidth": 0,
              "ticks": ""
             }
            },
            "type": "scatterpolar"
           }
          ],
          "scatterpolargl": [
           {
            "marker": {
             "colorbar": {
              "outlinewidth": 0,
              "ticks": ""
             }
            },
            "type": "scatterpolargl"
           }
          ],
          "scatterternary": [
           {
            "marker": {
             "colorbar": {
              "outlinewidth": 0,
              "ticks": ""
             }
            },
            "type": "scatterternary"
           }
          ],
          "surface": [
           {
            "colorbar": {
             "outlinewidth": 0,
             "ticks": ""
            },
            "colorscale": [
             [
              0,
              "#0d0887"
             ],
             [
              0.1111111111111111,
              "#46039f"
             ],
             [
              0.2222222222222222,
              "#7201a8"
             ],
             [
              0.3333333333333333,
              "#9c179e"
             ],
             [
              0.4444444444444444,
              "#bd3786"
             ],
             [
              0.5555555555555556,
              "#d8576b"
             ],
             [
              0.6666666666666666,
              "#ed7953"
             ],
             [
              0.7777777777777778,
              "#fb9f3a"
             ],
             [
              0.8888888888888888,
              "#fdca26"
             ],
             [
              1,
              "#f0f921"
             ]
            ],
            "type": "surface"
           }
          ],
          "table": [
           {
            "cells": {
             "fill": {
              "color": "#EBF0F8"
             },
             "line": {
              "color": "white"
             }
            },
            "header": {
             "fill": {
              "color": "#C8D4E3"
             },
             "line": {
              "color": "white"
             }
            },
            "type": "table"
           }
          ]
         },
         "layout": {
          "annotationdefaults": {
           "arrowcolor": "#2a3f5f",
           "arrowhead": 0,
           "arrowwidth": 1
          },
          "autotypenumbers": "strict",
          "coloraxis": {
           "colorbar": {
            "outlinewidth": 0,
            "ticks": ""
           }
          },
          "colorscale": {
           "diverging": [
            [
             0,
             "#8e0152"
            ],
            [
             0.1,
             "#c51b7d"
            ],
            [
             0.2,
             "#de77ae"
            ],
            [
             0.3,
             "#f1b6da"
            ],
            [
             0.4,
             "#fde0ef"
            ],
            [
             0.5,
             "#f7f7f7"
            ],
            [
             0.6,
             "#e6f5d0"
            ],
            [
             0.7,
             "#b8e186"
            ],
            [
             0.8,
             "#7fbc41"
            ],
            [
             0.9,
             "#4d9221"
            ],
            [
             1,
             "#276419"
            ]
           ],
           "sequential": [
            [
             0,
             "#0d0887"
            ],
            [
             0.1111111111111111,
             "#46039f"
            ],
            [
             0.2222222222222222,
             "#7201a8"
            ],
            [
             0.3333333333333333,
             "#9c179e"
            ],
            [
             0.4444444444444444,
             "#bd3786"
            ],
            [
             0.5555555555555556,
             "#d8576b"
            ],
            [
             0.6666666666666666,
             "#ed7953"
            ],
            [
             0.7777777777777778,
             "#fb9f3a"
            ],
            [
             0.8888888888888888,
             "#fdca26"
            ],
            [
             1,
             "#f0f921"
            ]
           ],
           "sequentialminus": [
            [
             0,
             "#0d0887"
            ],
            [
             0.1111111111111111,
             "#46039f"
            ],
            [
             0.2222222222222222,
             "#7201a8"
            ],
            [
             0.3333333333333333,
             "#9c179e"
            ],
            [
             0.4444444444444444,
             "#bd3786"
            ],
            [
             0.5555555555555556,
             "#d8576b"
            ],
            [
             0.6666666666666666,
             "#ed7953"
            ],
            [
             0.7777777777777778,
             "#fb9f3a"
            ],
            [
             0.8888888888888888,
             "#fdca26"
            ],
            [
             1,
             "#f0f921"
            ]
           ]
          },
          "colorway": [
           "#636efa",
           "#EF553B",
           "#00cc96",
           "#ab63fa",
           "#FFA15A",
           "#19d3f3",
           "#FF6692",
           "#B6E880",
           "#FF97FF",
           "#FECB52"
          ],
          "font": {
           "color": "#2a3f5f"
          },
          "geo": {
           "bgcolor": "white",
           "lakecolor": "white",
           "landcolor": "#E5ECF6",
           "showlakes": true,
           "showland": true,
           "subunitcolor": "white"
          },
          "hoverlabel": {
           "align": "left"
          },
          "hovermode": "closest",
          "mapbox": {
           "style": "light"
          },
          "paper_bgcolor": "white",
          "plot_bgcolor": "#E5ECF6",
          "polar": {
           "angularaxis": {
            "gridcolor": "white",
            "linecolor": "white",
            "ticks": ""
           },
           "bgcolor": "#E5ECF6",
           "radialaxis": {
            "gridcolor": "white",
            "linecolor": "white",
            "ticks": ""
           }
          },
          "scene": {
           "xaxis": {
            "backgroundcolor": "#E5ECF6",
            "gridcolor": "white",
            "gridwidth": 2,
            "linecolor": "white",
            "showbackground": true,
            "ticks": "",
            "zerolinecolor": "white"
           },
           "yaxis": {
            "backgroundcolor": "#E5ECF6",
            "gridcolor": "white",
            "gridwidth": 2,
            "linecolor": "white",
            "showbackground": true,
            "ticks": "",
            "zerolinecolor": "white"
           },
           "zaxis": {
            "backgroundcolor": "#E5ECF6",
            "gridcolor": "white",
            "gridwidth": 2,
            "linecolor": "white",
            "showbackground": true,
            "ticks": "",
            "zerolinecolor": "white"
           }
          },
          "shapedefaults": {
           "line": {
            "color": "#2a3f5f"
           }
          },
          "ternary": {
           "aaxis": {
            "gridcolor": "white",
            "linecolor": "white",
            "ticks": ""
           },
           "baxis": {
            "gridcolor": "white",
            "linecolor": "white",
            "ticks": ""
           },
           "bgcolor": "#E5ECF6",
           "caxis": {
            "gridcolor": "white",
            "linecolor": "white",
            "ticks": ""
           }
          },
          "title": {
           "x": 0.05
          },
          "xaxis": {
           "automargin": true,
           "gridcolor": "white",
           "linecolor": "white",
           "ticks": "",
           "title": {
            "standoff": 15
           },
           "zerolinecolor": "white",
           "zerolinewidth": 2
          },
          "yaxis": {
           "automargin": true,
           "gridcolor": "white",
           "linecolor": "white",
           "ticks": "",
           "title": {
            "standoff": 15
           },
           "zerolinecolor": "white",
           "zerolinewidth": 2
          }
         }
        }
       }
      }
     },
     "metadata": {},
     "output_type": "display_data"
    }
   ],
   "source": [
    "# make a data visualization of the data about Brazil\n",
    "fig = px.scatter_geo(df[df['Country'] == 'Brazil'],\n",
    "                        locations='Country',\n",
    "                        locationmode='country names',\n",
    "                        color='Deaths',\n",
    "                        hover_name='Country',\n",
    "                        hover_data=['Confirmed', 'Active', 'Recovered', 'Deaths'],\n",
    "                        size='Confirmed',\n",
    "                        size_max=50,\n",
    "                        range_color=(0, 1000),  # set the range of the color scale\n",
    "                        projection='natural earth')\n",
    "\n",
    "fig.show()\n",
    "                        \n"
   ]
  },
  {
   "cell_type": "code",
   "execution_count": 53,
   "metadata": {},
   "outputs": [
    {
     "data": {
      "text/html": [
       "<div>\n",
       "<style scoped>\n",
       "    .dataframe tbody tr th:only-of-type {\n",
       "        vertical-align: middle;\n",
       "    }\n",
       "\n",
       "    .dataframe tbody tr th {\n",
       "        vertical-align: top;\n",
       "    }\n",
       "\n",
       "    .dataframe thead th {\n",
       "        text-align: right;\n",
       "    }\n",
       "</style>\n",
       "<table border=\"1\" class=\"dataframe\">\n",
       "  <thead>\n",
       "    <tr style=\"text-align: right;\">\n",
       "      <th></th>\n",
       "      <th>State</th>\n",
       "      <th>Country</th>\n",
       "      <th>Confirmed</th>\n",
       "      <th>Deaths</th>\n",
       "      <th>Recovered</th>\n",
       "      <th>Active</th>\n",
       "    </tr>\n",
       "  </thead>\n",
       "  <tbody>\n",
       "    <tr>\n",
       "      <th>866</th>\n",
       "      <td>California</td>\n",
       "      <td>US</td>\n",
       "      <td>1252739</td>\n",
       "      <td>24506</td>\n",
       "      <td>NaN</td>\n",
       "      <td>NaN</td>\n",
       "    </tr>\n",
       "    <tr>\n",
       "      <th>762</th>\n",
       "      <td>Arizona</td>\n",
       "      <td>US</td>\n",
       "      <td>561596</td>\n",
       "      <td>10309</td>\n",
       "      <td>NaN</td>\n",
       "      <td>NaN</td>\n",
       "    </tr>\n",
       "    <tr>\n",
       "      <th>1285</th>\n",
       "      <td>Illinois</td>\n",
       "      <td>US</td>\n",
       "      <td>557173</td>\n",
       "      <td>10494</td>\n",
       "      <td>NaN</td>\n",
       "      <td>NaN</td>\n",
       "    </tr>\n",
       "    <tr>\n",
       "      <th>1030</th>\n",
       "      <td>Florida</td>\n",
       "      <td>US</td>\n",
       "      <td>511394</td>\n",
       "      <td>6472</td>\n",
       "      <td>NaN</td>\n",
       "      <td>NaN</td>\n",
       "    </tr>\n",
       "    <tr>\n",
       "      <th>3420</th>\n",
       "      <td>Texas</td>\n",
       "      <td>US</td>\n",
       "      <td>403645</td>\n",
       "      <td>6600</td>\n",
       "      <td>NaN</td>\n",
       "      <td>NaN</td>\n",
       "    </tr>\n",
       "    <tr>\n",
       "      <th>...</th>\n",
       "      <td>...</td>\n",
       "      <td>...</td>\n",
       "      <td>...</td>\n",
       "      <td>...</td>\n",
       "      <td>...</td>\n",
       "      <td>...</td>\n",
       "    </tr>\n",
       "    <tr>\n",
       "      <th>751</th>\n",
       "      <td>Alaska</td>\n",
       "      <td>US</td>\n",
       "      <td>0</td>\n",
       "      <td>0</td>\n",
       "      <td>NaN</td>\n",
       "      <td>NaN</td>\n",
       "    </tr>\n",
       "    <tr>\n",
       "      <th>2568</th>\n",
       "      <td>New York</td>\n",
       "      <td>US</td>\n",
       "      <td>0</td>\n",
       "      <td>250</td>\n",
       "      <td>NaN</td>\n",
       "      <td>NaN</td>\n",
       "    </tr>\n",
       "    <tr>\n",
       "      <th>2828</th>\n",
       "      <td>Ohio</td>\n",
       "      <td>US</td>\n",
       "      <td>0</td>\n",
       "      <td>4</td>\n",
       "      <td>NaN</td>\n",
       "      <td>NaN</td>\n",
       "    </tr>\n",
       "    <tr>\n",
       "      <th>3102</th>\n",
       "      <td>Recovered</td>\n",
       "      <td>US</td>\n",
       "      <td>0</td>\n",
       "      <td>0</td>\n",
       "      <td>NaN</td>\n",
       "      <td>NaN</td>\n",
       "    </tr>\n",
       "    <tr>\n",
       "      <th>1666</th>\n",
       "      <td>Kansas</td>\n",
       "      <td>US</td>\n",
       "      <td>0</td>\n",
       "      <td>0</td>\n",
       "      <td>NaN</td>\n",
       "      <td>NaN</td>\n",
       "    </tr>\n",
       "  </tbody>\n",
       "</table>\n",
       "<p>3277 rows × 6 columns</p>\n",
       "</div>"
      ],
      "text/plain": [
       "           State Country  Confirmed  Deaths  Recovered  Active\n",
       "866   California      US    1252739   24506        NaN     NaN\n",
       "762      Arizona      US     561596   10309        NaN     NaN\n",
       "1285    Illinois      US     557173   10494        NaN     NaN\n",
       "1030     Florida      US     511394    6472        NaN     NaN\n",
       "3420       Texas      US     403645    6600        NaN     NaN\n",
       "...          ...     ...        ...     ...        ...     ...\n",
       "751       Alaska      US          0       0        NaN     NaN\n",
       "2568    New York      US          0     250        NaN     NaN\n",
       "2828        Ohio      US          0       4        NaN     NaN\n",
       "3102   Recovered      US          0       0        NaN     NaN\n",
       "1666      Kansas      US          0       0        NaN     NaN\n",
       "\n",
       "[3277 rows x 6 columns]"
      ]
     },
     "execution_count": 53,
     "metadata": {},
     "output_type": "execute_result"
    }
   ],
   "source": [
    "df[df['Country'] == 'US'].sort_values(by='Confirmed', ascending=False)"
   ]
  },
  {
   "cell_type": "code",
   "execution_count": 57,
   "metadata": {},
   "outputs": [
    {
     "data": {
      "text/html": [
       "<div>\n",
       "<style scoped>\n",
       "    .dataframe tbody tr th:only-of-type {\n",
       "        vertical-align: middle;\n",
       "    }\n",
       "\n",
       "    .dataframe tbody tr th {\n",
       "        vertical-align: top;\n",
       "    }\n",
       "\n",
       "    .dataframe thead th {\n",
       "        text-align: right;\n",
       "    }\n",
       "</style>\n",
       "<table border=\"1\" class=\"dataframe\">\n",
       "  <thead>\n",
       "    <tr style=\"text-align: right;\">\n",
       "      <th></th>\n",
       "      <th>State</th>\n",
       "      <th>Country</th>\n",
       "      <th>Confirmed</th>\n",
       "      <th>Deaths</th>\n",
       "    </tr>\n",
       "  </thead>\n",
       "  <tbody>\n",
       "    <tr>\n",
       "      <th>3047</th>\n",
       "      <td>Puerto Rico</td>\n",
       "      <td>US</td>\n",
       "      <td>2051</td>\n",
       "      <td>0</td>\n",
       "    </tr>\n",
       "    <tr>\n",
       "      <th>1666</th>\n",
       "      <td>Kansas</td>\n",
       "      <td>US</td>\n",
       "      <td>0</td>\n",
       "      <td>0</td>\n",
       "    </tr>\n",
       "    <tr>\n",
       "      <th>3218</th>\n",
       "      <td>South Dakota</td>\n",
       "      <td>US</td>\n",
       "      <td>0</td>\n",
       "      <td>0</td>\n",
       "    </tr>\n",
       "    <tr>\n",
       "      <th>3033</th>\n",
       "      <td>Puerto Rico</td>\n",
       "      <td>US</td>\n",
       "      <td>922</td>\n",
       "      <td>0</td>\n",
       "    </tr>\n",
       "    <tr>\n",
       "      <th>3034</th>\n",
       "      <td>Puerto Rico</td>\n",
       "      <td>US</td>\n",
       "      <td>6289</td>\n",
       "      <td>0</td>\n",
       "    </tr>\n",
       "    <tr>\n",
       "      <th>...</th>\n",
       "      <td>...</td>\n",
       "      <td>...</td>\n",
       "      <td>...</td>\n",
       "      <td>...</td>\n",
       "    </tr>\n",
       "    <tr>\n",
       "      <th>2570</th>\n",
       "      <td>New York</td>\n",
       "      <td>US</td>\n",
       "      <td>278222</td>\n",
       "      <td>9986</td>\n",
       "    </tr>\n",
       "    <tr>\n",
       "      <th>762</th>\n",
       "      <td>Arizona</td>\n",
       "      <td>US</td>\n",
       "      <td>561596</td>\n",
       "      <td>10309</td>\n",
       "    </tr>\n",
       "    <tr>\n",
       "      <th>2552</th>\n",
       "      <td>New York</td>\n",
       "      <td>US</td>\n",
       "      <td>281604</td>\n",
       "      <td>10489</td>\n",
       "    </tr>\n",
       "    <tr>\n",
       "      <th>1285</th>\n",
       "      <td>Illinois</td>\n",
       "      <td>US</td>\n",
       "      <td>557173</td>\n",
       "      <td>10494</td>\n",
       "    </tr>\n",
       "    <tr>\n",
       "      <th>866</th>\n",
       "      <td>California</td>\n",
       "      <td>US</td>\n",
       "      <td>1252739</td>\n",
       "      <td>24506</td>\n",
       "    </tr>\n",
       "  </tbody>\n",
       "</table>\n",
       "<p>3277 rows × 4 columns</p>\n",
       "</div>"
      ],
      "text/plain": [
       "             State Country  Confirmed  Deaths\n",
       "3047   Puerto Rico      US       2051       0\n",
       "1666        Kansas      US          0       0\n",
       "3218  South Dakota      US          0       0\n",
       "3033   Puerto Rico      US        922       0\n",
       "3034   Puerto Rico      US       6289       0\n",
       "...            ...     ...        ...     ...\n",
       "2570      New York      US     278222    9986\n",
       "762        Arizona      US     561596   10309\n",
       "2552      New York      US     281604   10489\n",
       "1285      Illinois      US     557173   10494\n",
       "866     California      US    1252739   24506\n",
       "\n",
       "[3277 rows x 4 columns]"
      ]
     },
     "execution_count": 57,
     "metadata": {},
     "output_type": "execute_result"
    }
   ],
   "source": [
    "df_us.sort_values(by=\"Deaths\", ascending=True)"
   ]
  },
  {
   "cell_type": "code",
   "execution_count": 56,
   "metadata": {},
   "outputs": [
    {
     "data": {
      "text/html": [
       "<div>\n",
       "<style scoped>\n",
       "    .dataframe tbody tr th:only-of-type {\n",
       "        vertical-align: middle;\n",
       "    }\n",
       "\n",
       "    .dataframe tbody tr th {\n",
       "        vertical-align: top;\n",
       "    }\n",
       "\n",
       "    .dataframe thead th {\n",
       "        text-align: right;\n",
       "    }\n",
       "</style>\n",
       "<table border=\"1\" class=\"dataframe\">\n",
       "  <thead>\n",
       "    <tr style=\"text-align: right;\">\n",
       "      <th></th>\n",
       "      <th>Province</th>\n",
       "      <th>Country</th>\n",
       "      <th>Confirmed</th>\n",
       "      <th>Deaths</th>\n",
       "      <th>Recovered</th>\n",
       "      <th>Active</th>\n",
       "    </tr>\n",
       "  </thead>\n",
       "  <tbody>\n",
       "    <tr>\n",
       "      <th>79</th>\n",
       "      <td>Grand Princess</td>\n",
       "      <td>Canada</td>\n",
       "      <td>13</td>\n",
       "      <td>0</td>\n",
       "      <td>13.0</td>\n",
       "      <td>0.0</td>\n",
       "    </tr>\n",
       "    <tr>\n",
       "      <th>83</th>\n",
       "      <td>Northwest Territories</td>\n",
       "      <td>Canada</td>\n",
       "      <td>128</td>\n",
       "      <td>0</td>\n",
       "      <td>128.0</td>\n",
       "      <td>0.0</td>\n",
       "    </tr>\n",
       "    <tr>\n",
       "      <th>87</th>\n",
       "      <td>Prince Edward Island</td>\n",
       "      <td>Canada</td>\n",
       "      <td>207</td>\n",
       "      <td>0</td>\n",
       "      <td>206.0</td>\n",
       "      <td>1.0</td>\n",
       "    </tr>\n",
       "    <tr>\n",
       "      <th>89</th>\n",
       "      <td>Repatriated Travellers</td>\n",
       "      <td>Canada</td>\n",
       "      <td>13</td>\n",
       "      <td>0</td>\n",
       "      <td>13.0</td>\n",
       "      <td>0.0</td>\n",
       "    </tr>\n",
       "    <tr>\n",
       "      <th>78</th>\n",
       "      <td>Diamond Princess</td>\n",
       "      <td>Canada</td>\n",
       "      <td>0</td>\n",
       "      <td>1</td>\n",
       "      <td>0.0</td>\n",
       "      <td>NaN</td>\n",
       "    </tr>\n",
       "    <tr>\n",
       "      <th>85</th>\n",
       "      <td>Nunavut</td>\n",
       "      <td>Canada</td>\n",
       "      <td>657</td>\n",
       "      <td>4</td>\n",
       "      <td>653.0</td>\n",
       "      <td>0.0</td>\n",
       "    </tr>\n",
       "    <tr>\n",
       "      <th>91</th>\n",
       "      <td>Yukon</td>\n",
       "      <td>Canada</td>\n",
       "      <td>425</td>\n",
       "      <td>5</td>\n",
       "      <td>277.0</td>\n",
       "      <td>143.0</td>\n",
       "    </tr>\n",
       "    <tr>\n",
       "      <th>82</th>\n",
       "      <td>Newfoundland and Labrador</td>\n",
       "      <td>Canada</td>\n",
       "      <td>1400</td>\n",
       "      <td>7</td>\n",
       "      <td>1372.0</td>\n",
       "      <td>21.0</td>\n",
       "    </tr>\n",
       "    <tr>\n",
       "      <th>81</th>\n",
       "      <td>New Brunswick</td>\n",
       "      <td>Canada</td>\n",
       "      <td>2338</td>\n",
       "      <td>46</td>\n",
       "      <td>2273.0</td>\n",
       "      <td>19.0</td>\n",
       "    </tr>\n",
       "    <tr>\n",
       "      <th>84</th>\n",
       "      <td>Nova Scotia</td>\n",
       "      <td>Canada</td>\n",
       "      <td>5854</td>\n",
       "      <td>92</td>\n",
       "      <td>5717.0</td>\n",
       "      <td>45.0</td>\n",
       "    </tr>\n",
       "    <tr>\n",
       "      <th>90</th>\n",
       "      <td>Saskatchewan</td>\n",
       "      <td>Canada</td>\n",
       "      <td>48978</td>\n",
       "      <td>568</td>\n",
       "      <td>48050.0</td>\n",
       "      <td>360.0</td>\n",
       "    </tr>\n",
       "    <tr>\n",
       "      <th>80</th>\n",
       "      <td>Manitoba</td>\n",
       "      <td>Canada</td>\n",
       "      <td>56482</td>\n",
       "      <td>1151</td>\n",
       "      <td>54309.0</td>\n",
       "      <td>1022.0</td>\n",
       "    </tr>\n",
       "    <tr>\n",
       "      <th>77</th>\n",
       "      <td>British Columbia</td>\n",
       "      <td>Canada</td>\n",
       "      <td>147790</td>\n",
       "      <td>1759</td>\n",
       "      <td>145362.0</td>\n",
       "      <td>669.0</td>\n",
       "    </tr>\n",
       "    <tr>\n",
       "      <th>76</th>\n",
       "      <td>Alberta</td>\n",
       "      <td>Canada</td>\n",
       "      <td>232236</td>\n",
       "      <td>2303</td>\n",
       "      <td>229102.0</td>\n",
       "      <td>831.0</td>\n",
       "    </tr>\n",
       "    <tr>\n",
       "      <th>86</th>\n",
       "      <td>Ontario</td>\n",
       "      <td>Canada</td>\n",
       "      <td>553551</td>\n",
       "      <td>9215</td>\n",
       "      <td>542430.0</td>\n",
       "      <td>1939.0</td>\n",
       "    </tr>\n",
       "    <tr>\n",
       "      <th>88</th>\n",
       "      <td>Quebec</td>\n",
       "      <td>Canada</td>\n",
       "      <td>375522</td>\n",
       "      <td>11218</td>\n",
       "      <td>363245.0</td>\n",
       "      <td>732.0</td>\n",
       "    </tr>\n",
       "  </tbody>\n",
       "</table>\n",
       "</div>"
      ],
      "text/plain": [
       "                     Province Country  Confirmed  Deaths  Recovered  Active\n",
       "79             Grand Princess  Canada         13       0       13.0     0.0\n",
       "83      Northwest Territories  Canada        128       0      128.0     0.0\n",
       "87       Prince Edward Island  Canada        207       0      206.0     1.0\n",
       "89     Repatriated Travellers  Canada         13       0       13.0     0.0\n",
       "78           Diamond Princess  Canada          0       1        0.0     NaN\n",
       "85                    Nunavut  Canada        657       4      653.0     0.0\n",
       "91                      Yukon  Canada        425       5      277.0   143.0\n",
       "82  Newfoundland and Labrador  Canada       1400       7     1372.0    21.0\n",
       "81              New Brunswick  Canada       2338      46     2273.0    19.0\n",
       "84                Nova Scotia  Canada       5854      92     5717.0    45.0\n",
       "90               Saskatchewan  Canada      48978     568    48050.0   360.0\n",
       "80                   Manitoba  Canada      56482    1151    54309.0  1022.0\n",
       "77           British Columbia  Canada     147790    1759   145362.0   669.0\n",
       "76                    Alberta  Canada     232236    2303   229102.0   831.0\n",
       "86                    Ontario  Canada     553551    9215   542430.0  1939.0\n",
       "88                     Quebec  Canada     375522   11218   363245.0   732.0"
      ]
     },
     "execution_count": 56,
     "metadata": {},
     "output_type": "execute_result"
    }
   ],
   "source": [
    "df_canada.sort_values(by=\"Deaths\", ascending=True)"
   ]
  },
  {
   "cell_type": "code",
   "execution_count": 58,
   "metadata": {},
   "outputs": [
    {
     "data": {
      "text/plain": [
       "State     Country  Confirmed  Deaths\n",
       "New York  US       0          250       1\n",
       "                   92         16        1\n",
       "                   6672       97        1\n",
       "                   6699       76        1\n",
       "                   6974       146       1\n",
       "                                       ..\n",
       "                   4571       89        1\n",
       "                   4855       33        1\n",
       "                   5209       109       1\n",
       "                   5442       124       1\n",
       "                   281604     10489     1\n",
       "Length: 64, dtype: int64"
      ]
     },
     "execution_count": 58,
     "metadata": {},
     "output_type": "execute_result"
    }
   ],
   "source": [
    "df_us[df_us['State'] == 'New York'].value_counts()"
   ]
  },
  {
   "cell_type": "code",
   "execution_count": 59,
   "metadata": {},
   "outputs": [
    {
     "data": {
      "text/plain": [
       "Province  Country  Confirmed  Deaths  Recovered  Active\n",
       "Quebec    Canada   375522     11218   363245.0   732.0     1\n",
       "dtype: int64"
      ]
     },
     "execution_count": 59,
     "metadata": {},
     "output_type": "execute_result"
    }
   ],
   "source": [
    "df_canada[df_canada['Province'] == 'Quebec'].value_counts()"
   ]
  },
  {
   "cell_type": "code",
   "execution_count": 60,
   "metadata": {},
   "outputs": [
    {
     "data": {
      "text/plain": [
       "Province                   Country  Confirmed  Deaths  Recovered  Active\n",
       "Alberta                    Canada   232236     2303    229102.0   831.0     1\n",
       "British Columbia           Canada   147790     1759    145362.0   669.0     1\n",
       "Grand Princess             Canada   13         0       13.0       0.0       1\n",
       "Manitoba                   Canada   56482      1151    54309.0    1022.0    1\n",
       "New Brunswick              Canada   2338       46      2273.0     19.0      1\n",
       "Newfoundland and Labrador  Canada   1400       7       1372.0     21.0      1\n",
       "Northwest Territories      Canada   128        0       128.0      0.0       1\n",
       "Nova Scotia                Canada   5854       92      5717.0     45.0      1\n",
       "Nunavut                    Canada   657        4       653.0      0.0       1\n",
       "Ontario                    Canada   553551     9215    542430.0   1939.0    1\n",
       "Prince Edward Island       Canada   207        0       206.0      1.0       1\n",
       "Quebec                     Canada   375522     11218   363245.0   732.0     1\n",
       "Repatriated Travellers     Canada   13         0       13.0       0.0       1\n",
       "Saskatchewan               Canada   48978      568     48050.0    360.0     1\n",
       "Yukon                      Canada   425        5       277.0      143.0     1\n",
       "dtype: int64"
      ]
     },
     "execution_count": 60,
     "metadata": {},
     "output_type": "execute_result"
    }
   ],
   "source": [
    "df_canada.value_counts()"
   ]
  },
  {
   "cell_type": "code",
   "execution_count": 61,
   "metadata": {},
   "outputs": [
    {
     "data": {
      "text/html": [
       "<div>\n",
       "<style scoped>\n",
       "    .dataframe tbody tr th:only-of-type {\n",
       "        vertical-align: middle;\n",
       "    }\n",
       "\n",
       "    .dataframe tbody tr th {\n",
       "        vertical-align: top;\n",
       "    }\n",
       "\n",
       "    .dataframe thead th {\n",
       "        text-align: right;\n",
       "    }\n",
       "</style>\n",
       "<table border=\"1\" class=\"dataframe\">\n",
       "  <thead>\n",
       "    <tr style=\"text-align: right;\">\n",
       "      <th></th>\n",
       "      <th>State</th>\n",
       "      <th>Country</th>\n",
       "      <th>Confirmed</th>\n",
       "      <th>Deaths</th>\n",
       "      <th>Recovered</th>\n",
       "      <th>Active</th>\n",
       "    </tr>\n",
       "  </thead>\n",
       "  <tbody>\n",
       "    <tr>\n",
       "      <th>41</th>\n",
       "      <td>Acre</td>\n",
       "      <td>Brazil</td>\n",
       "      <td>85983</td>\n",
       "      <td>1757</td>\n",
       "      <td>82354.0</td>\n",
       "      <td>1872.0</td>\n",
       "    </tr>\n",
       "    <tr>\n",
       "      <th>42</th>\n",
       "      <td>Alagoas</td>\n",
       "      <td>Brazil</td>\n",
       "      <td>220022</td>\n",
       "      <td>5433</td>\n",
       "      <td>210634.0</td>\n",
       "      <td>3955.0</td>\n",
       "    </tr>\n",
       "    <tr>\n",
       "      <th>43</th>\n",
       "      <td>Amapa</td>\n",
       "      <td>Brazil</td>\n",
       "      <td>117927</td>\n",
       "      <td>1852</td>\n",
       "      <td>97309.0</td>\n",
       "      <td>18766.0</td>\n",
       "    </tr>\n",
       "    <tr>\n",
       "      <th>44</th>\n",
       "      <td>Amazonas</td>\n",
       "      <td>Brazil</td>\n",
       "      <td>404347</td>\n",
       "      <td>13349</td>\n",
       "      <td>346721.0</td>\n",
       "      <td>44277.0</td>\n",
       "    </tr>\n",
       "    <tr>\n",
       "      <th>45</th>\n",
       "      <td>Bahia</td>\n",
       "      <td>Brazil</td>\n",
       "      <td>1138377</td>\n",
       "      <td>24312</td>\n",
       "      <td>1102758.0</td>\n",
       "      <td>11307.0</td>\n",
       "    </tr>\n",
       "    <tr>\n",
       "      <th>46</th>\n",
       "      <td>Ceara</td>\n",
       "      <td>Brazil</td>\n",
       "      <td>893270</td>\n",
       "      <td>22753</td>\n",
       "      <td>626584.0</td>\n",
       "      <td>243933.0</td>\n",
       "    </tr>\n",
       "    <tr>\n",
       "      <th>47</th>\n",
       "      <td>Distrito Federal</td>\n",
       "      <td>Brazil</td>\n",
       "      <td>434114</td>\n",
       "      <td>9312</td>\n",
       "      <td>416953.0</td>\n",
       "      <td>7849.0</td>\n",
       "    </tr>\n",
       "    <tr>\n",
       "      <th>48</th>\n",
       "      <td>Espirito Santo</td>\n",
       "      <td>Brazil</td>\n",
       "      <td>521830</td>\n",
       "      <td>11556</td>\n",
       "      <td>495815.0</td>\n",
       "      <td>14459.0</td>\n",
       "    </tr>\n",
       "    <tr>\n",
       "      <th>49</th>\n",
       "      <td>Goias</td>\n",
       "      <td>Brazil</td>\n",
       "      <td>683684</td>\n",
       "      <td>19409</td>\n",
       "      <td>655260.0</td>\n",
       "      <td>9015.0</td>\n",
       "    </tr>\n",
       "    <tr>\n",
       "      <th>50</th>\n",
       "      <td>Maranhao</td>\n",
       "      <td>Brazil</td>\n",
       "      <td>320832</td>\n",
       "      <td>9164</td>\n",
       "      <td>278534.0</td>\n",
       "      <td>33134.0</td>\n",
       "    </tr>\n",
       "    <tr>\n",
       "      <th>51</th>\n",
       "      <td>Mato Grosso</td>\n",
       "      <td>Brazil</td>\n",
       "      <td>454430</td>\n",
       "      <td>11970</td>\n",
       "      <td>435158.0</td>\n",
       "      <td>7302.0</td>\n",
       "    </tr>\n",
       "    <tr>\n",
       "      <th>52</th>\n",
       "      <td>Mato Grosso do Sul</td>\n",
       "      <td>Brazil</td>\n",
       "      <td>338645</td>\n",
       "      <td>8365</td>\n",
       "      <td>320253.0</td>\n",
       "      <td>10027.0</td>\n",
       "    </tr>\n",
       "    <tr>\n",
       "      <th>53</th>\n",
       "      <td>Minas Gerais</td>\n",
       "      <td>Brazil</td>\n",
       "      <td>1828904</td>\n",
       "      <td>47120</td>\n",
       "      <td>1706564.0</td>\n",
       "      <td>75220.0</td>\n",
       "    </tr>\n",
       "    <tr>\n",
       "      <th>54</th>\n",
       "      <td>Para</td>\n",
       "      <td>Brazil</td>\n",
       "      <td>556694</td>\n",
       "      <td>15587</td>\n",
       "      <td>520959.0</td>\n",
       "      <td>20148.0</td>\n",
       "    </tr>\n",
       "    <tr>\n",
       "      <th>55</th>\n",
       "      <td>Paraiba</td>\n",
       "      <td>Brazil</td>\n",
       "      <td>401700</td>\n",
       "      <td>8703</td>\n",
       "      <td>266319.0</td>\n",
       "      <td>126678.0</td>\n",
       "    </tr>\n",
       "    <tr>\n",
       "      <th>56</th>\n",
       "      <td>Parana</td>\n",
       "      <td>Brazil</td>\n",
       "      <td>1305082</td>\n",
       "      <td>31529</td>\n",
       "      <td>915019.0</td>\n",
       "      <td>358534.0</td>\n",
       "    </tr>\n",
       "    <tr>\n",
       "      <th>57</th>\n",
       "      <td>Pernambuco</td>\n",
       "      <td>Brazil</td>\n",
       "      <td>559358</td>\n",
       "      <td>17908</td>\n",
       "      <td>475280.0</td>\n",
       "      <td>66170.0</td>\n",
       "    </tr>\n",
       "    <tr>\n",
       "      <th>58</th>\n",
       "      <td>Piaui</td>\n",
       "      <td>Brazil</td>\n",
       "      <td>298645</td>\n",
       "      <td>6657</td>\n",
       "      <td>291428.0</td>\n",
       "      <td>560.0</td>\n",
       "    </tr>\n",
       "    <tr>\n",
       "      <th>59</th>\n",
       "      <td>Rio Grande do Norte</td>\n",
       "      <td>Brazil</td>\n",
       "      <td>345615</td>\n",
       "      <td>6841</td>\n",
       "      <td>150649.0</td>\n",
       "      <td>188125.0</td>\n",
       "    </tr>\n",
       "    <tr>\n",
       "      <th>60</th>\n",
       "      <td>Rio Grande do Sul</td>\n",
       "      <td>Brazil</td>\n",
       "      <td>1231166</td>\n",
       "      <td>31761</td>\n",
       "      <td>1185582.0</td>\n",
       "      <td>13823.0</td>\n",
       "    </tr>\n",
       "    <tr>\n",
       "      <th>61</th>\n",
       "      <td>Rio de Janeiro</td>\n",
       "      <td>Brazil</td>\n",
       "      <td>966888</td>\n",
       "      <td>56039</td>\n",
       "      <td>902869.0</td>\n",
       "      <td>7980.0</td>\n",
       "    </tr>\n",
       "    <tr>\n",
       "      <th>62</th>\n",
       "      <td>Rondonia</td>\n",
       "      <td>Brazil</td>\n",
       "      <td>252024</td>\n",
       "      <td>6213</td>\n",
       "      <td>234484.0</td>\n",
       "      <td>11327.0</td>\n",
       "    </tr>\n",
       "    <tr>\n",
       "      <th>63</th>\n",
       "      <td>Roraima</td>\n",
       "      <td>Brazil</td>\n",
       "      <td>113568</td>\n",
       "      <td>1756</td>\n",
       "      <td>106376.0</td>\n",
       "      <td>5436.0</td>\n",
       "    </tr>\n",
       "    <tr>\n",
       "      <th>64</th>\n",
       "      <td>Santa Catarina</td>\n",
       "      <td>Brazil</td>\n",
       "      <td>1063393</td>\n",
       "      <td>17064</td>\n",
       "      <td>1026413.0</td>\n",
       "      <td>19916.0</td>\n",
       "    </tr>\n",
       "    <tr>\n",
       "      <th>65</th>\n",
       "      <td>Sao Paulo</td>\n",
       "      <td>Brazil</td>\n",
       "      <td>3790090</td>\n",
       "      <td>129675</td>\n",
       "      <td>3395346.0</td>\n",
       "      <td>265069.0</td>\n",
       "    </tr>\n",
       "    <tr>\n",
       "      <th>66</th>\n",
       "      <td>Sergipe</td>\n",
       "      <td>Brazil</td>\n",
       "      <td>266273</td>\n",
       "      <td>5765</td>\n",
       "      <td>247089.0</td>\n",
       "      <td>13419.0</td>\n",
       "    </tr>\n",
       "    <tr>\n",
       "      <th>67</th>\n",
       "      <td>Tocantins</td>\n",
       "      <td>Brazil</td>\n",
       "      <td>199650</td>\n",
       "      <td>3262</td>\n",
       "      <td>182851.0</td>\n",
       "      <td>13537.0</td>\n",
       "    </tr>\n",
       "  </tbody>\n",
       "</table>\n",
       "</div>"
      ],
      "text/plain": [
       "                  State Country  Confirmed  Deaths  Recovered    Active\n",
       "41                 Acre  Brazil      85983    1757    82354.0    1872.0\n",
       "42              Alagoas  Brazil     220022    5433   210634.0    3955.0\n",
       "43                Amapa  Brazil     117927    1852    97309.0   18766.0\n",
       "44             Amazonas  Brazil     404347   13349   346721.0   44277.0\n",
       "45                Bahia  Brazil    1138377   24312  1102758.0   11307.0\n",
       "46                Ceara  Brazil     893270   22753   626584.0  243933.0\n",
       "47     Distrito Federal  Brazil     434114    9312   416953.0    7849.0\n",
       "48       Espirito Santo  Brazil     521830   11556   495815.0   14459.0\n",
       "49                Goias  Brazil     683684   19409   655260.0    9015.0\n",
       "50             Maranhao  Brazil     320832    9164   278534.0   33134.0\n",
       "51          Mato Grosso  Brazil     454430   11970   435158.0    7302.0\n",
       "52   Mato Grosso do Sul  Brazil     338645    8365   320253.0   10027.0\n",
       "53         Minas Gerais  Brazil    1828904   47120  1706564.0   75220.0\n",
       "54                 Para  Brazil     556694   15587   520959.0   20148.0\n",
       "55              Paraiba  Brazil     401700    8703   266319.0  126678.0\n",
       "56               Parana  Brazil    1305082   31529   915019.0  358534.0\n",
       "57           Pernambuco  Brazil     559358   17908   475280.0   66170.0\n",
       "58                Piaui  Brazil     298645    6657   291428.0     560.0\n",
       "59  Rio Grande do Norte  Brazil     345615    6841   150649.0  188125.0\n",
       "60    Rio Grande do Sul  Brazil    1231166   31761  1185582.0   13823.0\n",
       "61       Rio de Janeiro  Brazil     966888   56039   902869.0    7980.0\n",
       "62             Rondonia  Brazil     252024    6213   234484.0   11327.0\n",
       "63              Roraima  Brazil     113568    1756   106376.0    5436.0\n",
       "64       Santa Catarina  Brazil    1063393   17064  1026413.0   19916.0\n",
       "65            Sao Paulo  Brazil    3790090  129675  3395346.0  265069.0\n",
       "66              Sergipe  Brazil     266273    5765   247089.0   13419.0\n",
       "67            Tocantins  Brazil     199650    3262   182851.0   13537.0"
      ]
     },
     "execution_count": 61,
     "metadata": {},
     "output_type": "execute_result"
    }
   ],
   "source": [
    "df_brazil"
   ]
  },
  {
   "cell_type": "code",
   "execution_count": 62,
   "metadata": {},
   "outputs": [
    {
     "data": {
      "text/plain": [
       "56039    1\n",
       "Name: Deaths, dtype: int64"
      ]
     },
     "execution_count": 62,
     "metadata": {},
     "output_type": "execute_result"
    }
   ],
   "source": [
    "df_brazil[df_brazil['State'] == 'Rio de Janeiro']['Deaths'].value_counts()"
   ]
  },
  {
   "cell_type": "code",
   "execution_count": 63,
   "metadata": {},
   "outputs": [
    {
     "data": {
      "text/plain": [
       "129675    1\n",
       "Name: Deaths, dtype: int64"
      ]
     },
     "execution_count": 63,
     "metadata": {},
     "output_type": "execute_result"
    }
   ],
   "source": [
    "df_brazil[df_brazil['State'] == 'Sao Paulo']['Deaths'].value_counts()"
   ]
  },
  {
   "cell_type": "code",
   "execution_count": 76,
   "metadata": {},
   "outputs": [
    {
     "data": {
      "text/plain": [
       "<AxesSubplot:xlabel='Rio de Janeiro, Brazil COVID-19'>"
      ]
     },
     "execution_count": 76,
     "metadata": {},
     "output_type": "execute_result"
    },
    {
     "data": {
      "image/png": "[encoded data removed]",
      "text/plain": [
       "<Figure size 432x288 with 1 Axes>"
      ]
     },
     "metadata": {},
     "output_type": "display_data"
    }
   ],
   "source": [
    "df_brazil[df_brazil['State'] == 'Rio de Janeiro'].sort_values(by='Deaths', ascending=False).plot(kind='bar', legend=True, xlabel='Rio de Janeiro, Brazil COVID-19')"
   ]
  },
  {
   "cell_type": "code",
   "execution_count": 85,
   "metadata": {},
   "outputs": [
    {
     "data": {
      "text/plain": [
       "Index(['State', 'Country', 'Confirmed', 'Deaths', 'Recovered', 'Active'], dtype='object')"
      ]
     },
     "execution_count": 85,
     "metadata": {},
     "output_type": "execute_result"
    }
   ],
   "source": [
    "df.columns"
   ]
  },
  {
   "cell_type": "code",
   "execution_count": 93,
   "metadata": {},
   "outputs": [
    {
     "data": {
      "image/png": "[encoded data removed]",
      "text/plain": [
       "<Figure size 720x576 with 1 Axes>"
      ]
     },
     "metadata": {},
     "output_type": "display_data"
    }
   ],
   "source": [
    "plt.figure(figsize=(10, 8))\n",
    "sns.barplot(x='State', y='Deaths', data=df_us.sort_values(by='Deaths', ascending=False).head(10))\n",
    "plt.show()"
   ]
  },
  {
   "cell_type": "code",
   "execution_count": 97,
   "metadata": {},
   "outputs": [
    {
     "data": {
      "image/png": "[encoded data removed]",
      "text/plain": [
       "<Figure size 720x576 with 1 Axes>"
      ]
     },
     "metadata": {},
     "output_type": "display_data"
    }
   ],
   "source": [
    "plt.figure(figsize=(10, 8))\n",
    "sns.barplot(x='Province', y='Deaths', data=df_canada.sort_values(by='Deaths', ascending=False).head(5))\n",
    "plt.show()"
   ]
  },
  {
   "cell_type": "code",
   "execution_count": 99,
   "metadata": {},
   "outputs": [
    {
     "data": {
      "image/png": "[encoded data removed]",
      "text/plain": [
       "<Figure size 720x576 with 1 Axes>"
      ]
     },
     "metadata": {},
     "output_type": "display_data"
    }
   ],
   "source": [
    "plt.figure(figsize=(10, 8))\n",
    "sns.barplot(x='State', y='Deaths', data=df_brazil.sort_values(by='Deaths', ascending=False).head(5))\n",
    "plt.show()"
   ]
  },
  {
   "cell_type": "code",
   "execution_count": 102,
   "metadata": {},
   "outputs": [],
   "source": [
    "top_ten_world = df.sort_values(by='Confirmed', ascending=False).head(10)"
   ]
  },
  {
   "cell_type": "code",
   "execution_count": 103,
   "metadata": {},
   "outputs": [
    {
     "data": {
      "text/html": [
       "<div>\n",
       "<style scoped>\n",
       "    .dataframe tbody tr th:only-of-type {\n",
       "        vertical-align: middle;\n",
       "    }\n",
       "\n",
       "    .dataframe tbody tr th {\n",
       "        vertical-align: top;\n",
       "    }\n",
       "\n",
       "    .dataframe thead th {\n",
       "        text-align: right;\n",
       "    }\n",
       "</style>\n",
       "<table border=\"1\" class=\"dataframe\">\n",
       "  <thead>\n",
       "    <tr style=\"text-align: right;\">\n",
       "      <th></th>\n",
       "      <th>State</th>\n",
       "      <th>Country</th>\n",
       "      <th>Confirmed</th>\n",
       "      <th>Deaths</th>\n",
       "      <th>Recovered</th>\n",
       "      <th>Active</th>\n",
       "    </tr>\n",
       "  </thead>\n",
       "  <tbody>\n",
       "    <tr>\n",
       "      <th>269</th>\n",
       "      <td>Maharashtra</td>\n",
       "      <td>India</td>\n",
       "      <td>6104917</td>\n",
       "      <td>123136</td>\n",
       "      <td>5861720.0</td>\n",
       "      <td>120061.0</td>\n",
       "    </tr>\n",
       "    <tr>\n",
       "      <th>216</th>\n",
       "      <td>NaN</td>\n",
       "      <td>France</td>\n",
       "      <td>5718270</td>\n",
       "      <td>110270</td>\n",
       "      <td>341121.0</td>\n",
       "      <td>5266879.0</td>\n",
       "    </tr>\n",
       "    <tr>\n",
       "      <th>654</th>\n",
       "      <td>NaN</td>\n",
       "      <td>Turkey</td>\n",
       "      <td>5449464</td>\n",
       "      <td>49959</td>\n",
       "      <td>5319665.0</td>\n",
       "      <td>79725.0</td>\n",
       "    </tr>\n",
       "    <tr>\n",
       "      <th>6</th>\n",
       "      <td>NaN</td>\n",
       "      <td>Argentina</td>\n",
       "      <td>4552750</td>\n",
       "      <td>96521</td>\n",
       "      <td>4175856.0</td>\n",
       "      <td>280373.0</td>\n",
       "    </tr>\n",
       "    <tr>\n",
       "      <th>3966</th>\n",
       "      <td>England</td>\n",
       "      <td>United Kingdom</td>\n",
       "      <td>4282762</td>\n",
       "      <td>112769</td>\n",
       "      <td>0.0</td>\n",
       "      <td>4169993.0</td>\n",
       "    </tr>\n",
       "    <tr>\n",
       "      <th>65</th>\n",
       "      <td>Sao Paulo</td>\n",
       "      <td>Brazil</td>\n",
       "      <td>3790090</td>\n",
       "      <td>129675</td>\n",
       "      <td>3395346.0</td>\n",
       "      <td>265069.0</td>\n",
       "    </tr>\n",
       "    <tr>\n",
       "      <th>287</th>\n",
       "      <td>NaN</td>\n",
       "      <td>Iran</td>\n",
       "      <td>3270843</td>\n",
       "      <td>84949</td>\n",
       "      <td>2940874.0</td>\n",
       "      <td>245020.0</td>\n",
       "    </tr>\n",
       "    <tr>\n",
       "      <th>265</th>\n",
       "      <td>Kerala</td>\n",
       "      <td>India</td>\n",
       "      <td>2981721</td>\n",
       "      <td>13818</td>\n",
       "      <td>2866806.0</td>\n",
       "      <td>101097.0</td>\n",
       "    </tr>\n",
       "    <tr>\n",
       "      <th>493</th>\n",
       "      <td>NaN</td>\n",
       "      <td>Poland</td>\n",
       "      <td>2880308</td>\n",
       "      <td>75085</td>\n",
       "      <td>2652228.0</td>\n",
       "      <td>152995.0</td>\n",
       "    </tr>\n",
       "    <tr>\n",
       "      <th>264</th>\n",
       "      <td>Karnataka</td>\n",
       "      <td>India</td>\n",
       "      <td>2856491</td>\n",
       "      <td>35434</td>\n",
       "      <td>2779038.0</td>\n",
       "      <td>42019.0</td>\n",
       "    </tr>\n",
       "  </tbody>\n",
       "</table>\n",
       "</div>"
      ],
      "text/plain": [
       "            State         Country  Confirmed  Deaths  Recovered     Active\n",
       "269   Maharashtra           India    6104917  123136  5861720.0   120061.0\n",
       "216           NaN          France    5718270  110270   341121.0  5266879.0\n",
       "654           NaN          Turkey    5449464   49959  5319665.0    79725.0\n",
       "6             NaN       Argentina    4552750   96521  4175856.0   280373.0\n",
       "3966      England  United Kingdom    4282762  112769        0.0  4169993.0\n",
       "65      Sao Paulo          Brazil    3790090  129675  3395346.0   265069.0\n",
       "287           NaN            Iran    3270843   84949  2940874.0   245020.0\n",
       "265        Kerala           India    2981721   13818  2866806.0   101097.0\n",
       "493           NaN          Poland    2880308   75085  2652228.0   152995.0\n",
       "264     Karnataka           India    2856491   35434  2779038.0    42019.0"
      ]
     },
     "execution_count": 103,
     "metadata": {},
     "output_type": "execute_result"
    }
   ],
   "source": [
    "top_ten_world"
   ]
  },
  {
   "cell_type": "code",
   "execution_count": 105,
   "metadata": {},
   "outputs": [
    {
     "data": {
      "text/plain": [
       "State        5\n",
       "Country      0\n",
       "Confirmed    0\n",
       "Deaths       0\n",
       "Recovered    0\n",
       "Active       0\n",
       "dtype: int64"
      ]
     },
     "execution_count": 105,
     "metadata": {},
     "output_type": "execute_result"
    }
   ],
   "source": [
    "top_ten_world.isnull().sum()"
   ]
  },
  {
   "cell_type": "code",
   "execution_count": 106,
   "metadata": {},
   "outputs": [
    {
     "data": {
      "text/html": [
       "<div>\n",
       "<style scoped>\n",
       "    .dataframe tbody tr th:only-of-type {\n",
       "        vertical-align: middle;\n",
       "    }\n",
       "\n",
       "    .dataframe tbody tr th {\n",
       "        vertical-align: top;\n",
       "    }\n",
       "\n",
       "    .dataframe thead th {\n",
       "        text-align: right;\n",
       "    }\n",
       "</style>\n",
       "<table border=\"1\" class=\"dataframe\">\n",
       "  <thead>\n",
       "    <tr style=\"text-align: right;\">\n",
       "      <th></th>\n",
       "      <th>State</th>\n",
       "      <th>Country</th>\n",
       "      <th>Confirmed</th>\n",
       "      <th>Deaths</th>\n",
       "      <th>Recovered</th>\n",
       "      <th>Active</th>\n",
       "    </tr>\n",
       "  </thead>\n",
       "  <tbody>\n",
       "    <tr>\n",
       "      <th>269</th>\n",
       "      <td>Maharashtra</td>\n",
       "      <td>India</td>\n",
       "      <td>6104917</td>\n",
       "      <td>123136</td>\n",
       "      <td>5861720.0</td>\n",
       "      <td>120061.0</td>\n",
       "    </tr>\n",
       "    <tr>\n",
       "      <th>3966</th>\n",
       "      <td>England</td>\n",
       "      <td>United Kingdom</td>\n",
       "      <td>4282762</td>\n",
       "      <td>112769</td>\n",
       "      <td>0.0</td>\n",
       "      <td>4169993.0</td>\n",
       "    </tr>\n",
       "    <tr>\n",
       "      <th>65</th>\n",
       "      <td>Sao Paulo</td>\n",
       "      <td>Brazil</td>\n",
       "      <td>3790090</td>\n",
       "      <td>129675</td>\n",
       "      <td>3395346.0</td>\n",
       "      <td>265069.0</td>\n",
       "    </tr>\n",
       "    <tr>\n",
       "      <th>265</th>\n",
       "      <td>Kerala</td>\n",
       "      <td>India</td>\n",
       "      <td>2981721</td>\n",
       "      <td>13818</td>\n",
       "      <td>2866806.0</td>\n",
       "      <td>101097.0</td>\n",
       "    </tr>\n",
       "    <tr>\n",
       "      <th>264</th>\n",
       "      <td>Karnataka</td>\n",
       "      <td>India</td>\n",
       "      <td>2856491</td>\n",
       "      <td>35434</td>\n",
       "      <td>2779038.0</td>\n",
       "      <td>42019.0</td>\n",
       "    </tr>\n",
       "  </tbody>\n",
       "</table>\n",
       "</div>"
      ],
      "text/plain": [
       "            State         Country  Confirmed  Deaths  Recovered     Active\n",
       "269   Maharashtra           India    6104917  123136  5861720.0   120061.0\n",
       "3966      England  United Kingdom    4282762  112769        0.0  4169993.0\n",
       "65      Sao Paulo          Brazil    3790090  129675  3395346.0   265069.0\n",
       "265        Kerala           India    2981721   13818  2866806.0   101097.0\n",
       "264     Karnataka           India    2856491   35434  2779038.0    42019.0"
      ]
     },
     "execution_count": 106,
     "metadata": {},
     "output_type": "execute_result"
    }
   ],
   "source": [
    "top_ten_world.dropna()"
   ]
  },
  {
   "cell_type": "code",
   "execution_count": 107,
   "metadata": {},
   "outputs": [
    {
     "data": {
      "text/html": [
       "<div>\n",
       "<style scoped>\n",
       "    .dataframe tbody tr th:only-of-type {\n",
       "        vertical-align: middle;\n",
       "    }\n",
       "\n",
       "    .dataframe tbody tr th {\n",
       "        vertical-align: top;\n",
       "    }\n",
       "\n",
       "    .dataframe thead th {\n",
       "        text-align: right;\n",
       "    }\n",
       "</style>\n",
       "<table border=\"1\" class=\"dataframe\">\n",
       "  <thead>\n",
       "    <tr style=\"text-align: right;\">\n",
       "      <th></th>\n",
       "      <th>State</th>\n",
       "      <th>Country</th>\n",
       "      <th>Confirmed</th>\n",
       "      <th>Deaths</th>\n",
       "      <th>Recovered</th>\n",
       "      <th>Active</th>\n",
       "    </tr>\n",
       "  </thead>\n",
       "  <tbody>\n",
       "    <tr>\n",
       "      <th>269</th>\n",
       "      <td>Maharashtra</td>\n",
       "      <td>India</td>\n",
       "      <td>6104917</td>\n",
       "      <td>123136</td>\n",
       "      <td>5861720.0</td>\n",
       "      <td>120061.0</td>\n",
       "    </tr>\n",
       "    <tr>\n",
       "      <th>216</th>\n",
       "      <td>NaN</td>\n",
       "      <td>France</td>\n",
       "      <td>5718270</td>\n",
       "      <td>110270</td>\n",
       "      <td>341121.0</td>\n",
       "      <td>5266879.0</td>\n",
       "    </tr>\n",
       "    <tr>\n",
       "      <th>654</th>\n",
       "      <td>NaN</td>\n",
       "      <td>Turkey</td>\n",
       "      <td>5449464</td>\n",
       "      <td>49959</td>\n",
       "      <td>5319665.0</td>\n",
       "      <td>79725.0</td>\n",
       "    </tr>\n",
       "    <tr>\n",
       "      <th>6</th>\n",
       "      <td>NaN</td>\n",
       "      <td>Argentina</td>\n",
       "      <td>4552750</td>\n",
       "      <td>96521</td>\n",
       "      <td>4175856.0</td>\n",
       "      <td>280373.0</td>\n",
       "    </tr>\n",
       "    <tr>\n",
       "      <th>3966</th>\n",
       "      <td>England</td>\n",
       "      <td>United Kingdom</td>\n",
       "      <td>4282762</td>\n",
       "      <td>112769</td>\n",
       "      <td>0.0</td>\n",
       "      <td>4169993.0</td>\n",
       "    </tr>\n",
       "    <tr>\n",
       "      <th>65</th>\n",
       "      <td>Sao Paulo</td>\n",
       "      <td>Brazil</td>\n",
       "      <td>3790090</td>\n",
       "      <td>129675</td>\n",
       "      <td>3395346.0</td>\n",
       "      <td>265069.0</td>\n",
       "    </tr>\n",
       "    <tr>\n",
       "      <th>287</th>\n",
       "      <td>NaN</td>\n",
       "      <td>Iran</td>\n",
       "      <td>3270843</td>\n",
       "      <td>84949</td>\n",
       "      <td>2940874.0</td>\n",
       "      <td>245020.0</td>\n",
       "    </tr>\n",
       "    <tr>\n",
       "      <th>265</th>\n",
       "      <td>Kerala</td>\n",
       "      <td>India</td>\n",
       "      <td>2981721</td>\n",
       "      <td>13818</td>\n",
       "      <td>2866806.0</td>\n",
       "      <td>101097.0</td>\n",
       "    </tr>\n",
       "    <tr>\n",
       "      <th>493</th>\n",
       "      <td>NaN</td>\n",
       "      <td>Poland</td>\n",
       "      <td>2880308</td>\n",
       "      <td>75085</td>\n",
       "      <td>2652228.0</td>\n",
       "      <td>152995.0</td>\n",
       "    </tr>\n",
       "    <tr>\n",
       "      <th>264</th>\n",
       "      <td>Karnataka</td>\n",
       "      <td>India</td>\n",
       "      <td>2856491</td>\n",
       "      <td>35434</td>\n",
       "      <td>2779038.0</td>\n",
       "      <td>42019.0</td>\n",
       "    </tr>\n",
       "  </tbody>\n",
       "</table>\n",
       "</div>"
      ],
      "text/plain": [
       "            State         Country  Confirmed  Deaths  Recovered     Active\n",
       "269   Maharashtra           India    6104917  123136  5861720.0   120061.0\n",
       "216           NaN          France    5718270  110270   341121.0  5266879.0\n",
       "654           NaN          Turkey    5449464   49959  5319665.0    79725.0\n",
       "6             NaN       Argentina    4552750   96521  4175856.0   280373.0\n",
       "3966      England  United Kingdom    4282762  112769        0.0  4169993.0\n",
       "65      Sao Paulo          Brazil    3790090  129675  3395346.0   265069.0\n",
       "287           NaN            Iran    3270843   84949  2940874.0   245020.0\n",
       "265        Kerala           India    2981721   13818  2866806.0   101097.0\n",
       "493           NaN          Poland    2880308   75085  2652228.0   152995.0\n",
       "264     Karnataka           India    2856491   35434  2779038.0    42019.0"
      ]
     },
     "execution_count": 107,
     "metadata": {},
     "output_type": "execute_result"
    }
   ],
   "source": [
    "top_ten_world"
   ]
  },
  {
   "cell_type": "code",
   "execution_count": 108,
   "metadata": {},
   "outputs": [
    {
     "data": {
      "image/png": "[encoded data removed]",
      "text/plain": [
       "<Figure size 864x576 with 1 Axes>"
      ]
     },
     "metadata": {},
     "output_type": "display_data"
    }
   ],
   "source": [
    "plt.figure(figsize=(12, 8))\n",
    "plot = sns.barplot(x='Confirmed', y='Country', data=top_ten_world)\n",
    "for i, (value, name) in enumerate(zip(top_ten_world['Confirmed'], top_ten_world['Country'])):\n",
    "    plot.text(value, i - 0.05, f\"{value:,.0f}\", size=12)\n",
    "\n",
    "plt.show()"
   ]
  },
  {
   "cell_type": "code",
   "execution_count": 109,
   "metadata": {},
   "outputs": [],
   "source": [
    "plt.figure(figsize=(12, 8))\n",
    "plot = sns.barplot(x='Confirmed', y='State', data=df_us)\n",
    "for i, (value, name) in enumerate(zip(df_us['Confirmed'], df_us['State'])):\n",
    "    plot.text(value, i - 0.05, f\"{value:,.0f}\", size=12)\n",
    "\n",
    "plt.show()"
   ]
  },
  {
   "cell_type": "code",
   "execution_count": null,
   "metadata": {},
   "outputs": [],
   "source": []
  }
 ],
 "metadata": {
  "interpreter": {
   "hash": "916dbcbb3f70747c44a77c7bcd40155683ae19c65e1c03b4aa3499c5328201f1"
  },
  "kernelspec": {
   "display_name": "Python 3.8.10 64-bit",
   "name": "python3"
  },
  "language_info": {
   "codemirror_mode": {
    "name": "ipython",
    "version": 3
   },
   "file_extension": ".py",
   "mimetype": "text/x-python",
   "name": "python",
   "nbconvert_exporter": "python",
   "pygments_lexer": "ipython3",
   "version": "3.8.10"
  },
  "orig_nbformat": 4
 },
 "nbformat": 4,
 "nbformat_minor": 2
}
