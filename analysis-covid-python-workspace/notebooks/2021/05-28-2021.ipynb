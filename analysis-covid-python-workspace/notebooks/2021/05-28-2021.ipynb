{
 "cells": [
  {
   "cell_type": "code",
   "execution_count": 1,
   "metadata": {},
   "outputs": [],
   "source": [
    "import pandas as pd\n",
    "import numpy as np\n",
    "import matplotlib.pyplot as plt\n",
    "import seaborn as sns\n",
    "\n",
    "sns.set_style('darkgrid')"
   ]
  },
  {
   "cell_type": "code",
   "execution_count": 8,
   "metadata": {},
   "outputs": [],
   "source": [
    "path = '../../data/2021/05-28-2021.csv'"
   ]
  },
  {
   "cell_type": "code",
   "execution_count": 9,
   "metadata": {},
   "outputs": [],
   "source": [
    "df = pd.read_csv(path)"
   ]
  },
  {
   "cell_type": "code",
   "execution_count": 10,
   "metadata": {},
   "outputs": [
    {
     "name": "stdout",
     "output_type": "stream",
     "text": [
      "<class 'pandas.core.frame.DataFrame'>\n",
      "RangeIndex: 4003 entries, 0 to 4002\n",
      "Data columns (total 14 columns):\n",
      " #   Column               Non-Null Count  Dtype  \n",
      "---  ------               --------------  -----  \n",
      " 0   FIPS                 3266 non-null   float64\n",
      " 1   Admin2               3271 non-null   object \n",
      " 2   Province_State       3830 non-null   object \n",
      " 3   Country_Region       4003 non-null   object \n",
      " 4   Last_Update          4003 non-null   object \n",
      " 5   Lat                  3914 non-null   float64\n",
      " 6   Long_                3914 non-null   float64\n",
      " 7   Confirmed            4003 non-null   int64  \n",
      " 8   Deaths               4003 non-null   int64  \n",
      " 9   Recovered            726 non-null    float64\n",
      " 10  Active               725 non-null    float64\n",
      " 11  Combined_Key         4003 non-null   object \n",
      " 12  Incident_Rate        3915 non-null   float64\n",
      " 13  Case_Fatality_Ratio  3962 non-null   float64\n",
      "dtypes: float64(7), int64(2), object(5)\n",
      "memory usage: 438.0+ KB\n"
     ]
    }
   ],
   "source": [
    "df.info()"
   ]
  },
  {
   "cell_type": "code",
   "execution_count": 11,
   "metadata": {},
   "outputs": [
    {
     "data": {
      "text/plain": [
       "FIPS                    737\n",
       "Admin2                  732\n",
       "Province_State          173\n",
       "Country_Region            0\n",
       "Last_Update               0\n",
       "Lat                      89\n",
       "Long_                    89\n",
       "Confirmed                 0\n",
       "Deaths                    0\n",
       "Recovered              3277\n",
       "Active                 3278\n",
       "Combined_Key              0\n",
       "Incident_Rate            88\n",
       "Case_Fatality_Ratio      41\n",
       "dtype: int64"
      ]
     },
     "execution_count": 11,
     "metadata": {},
     "output_type": "execute_result"
    }
   ],
   "source": [
    "df.isnull().sum()"
   ]
  },
  {
   "cell_type": "code",
   "execution_count": 12,
   "metadata": {},
   "outputs": [
    {
     "data": {
      "text/html": [
       "<div>\n",
       "<style scoped>\n",
       "    .dataframe tbody tr th:only-of-type {\n",
       "        vertical-align: middle;\n",
       "    }\n",
       "\n",
       "    .dataframe tbody tr th {\n",
       "        vertical-align: top;\n",
       "    }\n",
       "\n",
       "    .dataframe thead th {\n",
       "        text-align: right;\n",
       "    }\n",
       "</style>\n",
       "<table border=\"1\" class=\"dataframe\">\n",
       "  <thead>\n",
       "    <tr style=\"text-align: right;\">\n",
       "      <th></th>\n",
       "      <th>FIPS</th>\n",
       "      <th>Admin2</th>\n",
       "      <th>Province_State</th>\n",
       "      <th>Country_Region</th>\n",
       "      <th>Last_Update</th>\n",
       "      <th>Lat</th>\n",
       "      <th>Long_</th>\n",
       "      <th>Confirmed</th>\n",
       "      <th>Deaths</th>\n",
       "      <th>Recovered</th>\n",
       "      <th>Active</th>\n",
       "      <th>Combined_Key</th>\n",
       "      <th>Incident_Rate</th>\n",
       "      <th>Case_Fatality_Ratio</th>\n",
       "    </tr>\n",
       "  </thead>\n",
       "  <tbody>\n",
       "    <tr>\n",
       "      <th>0</th>\n",
       "      <td>NaN</td>\n",
       "      <td>NaN</td>\n",
       "      <td>NaN</td>\n",
       "      <td>Afghanistan</td>\n",
       "      <td>2021-05-29 04:20:41</td>\n",
       "      <td>33.93911</td>\n",
       "      <td>67.709953</td>\n",
       "      <td>69130</td>\n",
       "      <td>2881</td>\n",
       "      <td>57119.0</td>\n",
       "      <td>9130.0</td>\n",
       "      <td>Afghanistan</td>\n",
       "      <td>177.582703</td>\n",
       "      <td>4.167510</td>\n",
       "    </tr>\n",
       "    <tr>\n",
       "      <th>1</th>\n",
       "      <td>NaN</td>\n",
       "      <td>NaN</td>\n",
       "      <td>NaN</td>\n",
       "      <td>Albania</td>\n",
       "      <td>2021-05-29 04:20:41</td>\n",
       "      <td>41.15330</td>\n",
       "      <td>20.168300</td>\n",
       "      <td>132285</td>\n",
       "      <td>2448</td>\n",
       "      <td>129097.0</td>\n",
       "      <td>740.0</td>\n",
       "      <td>Albania</td>\n",
       "      <td>4596.740566</td>\n",
       "      <td>1.850550</td>\n",
       "    </tr>\n",
       "    <tr>\n",
       "      <th>2</th>\n",
       "      <td>NaN</td>\n",
       "      <td>NaN</td>\n",
       "      <td>NaN</td>\n",
       "      <td>Algeria</td>\n",
       "      <td>2021-05-29 04:20:41</td>\n",
       "      <td>28.03390</td>\n",
       "      <td>1.659600</td>\n",
       "      <td>128198</td>\n",
       "      <td>3455</td>\n",
       "      <td>89232.0</td>\n",
       "      <td>35511.0</td>\n",
       "      <td>Algeria</td>\n",
       "      <td>292.348805</td>\n",
       "      <td>2.695050</td>\n",
       "    </tr>\n",
       "    <tr>\n",
       "      <th>3</th>\n",
       "      <td>NaN</td>\n",
       "      <td>NaN</td>\n",
       "      <td>NaN</td>\n",
       "      <td>Andorra</td>\n",
       "      <td>2021-05-29 04:20:41</td>\n",
       "      <td>42.50630</td>\n",
       "      <td>1.521800</td>\n",
       "      <td>13693</td>\n",
       "      <td>127</td>\n",
       "      <td>13416.0</td>\n",
       "      <td>150.0</td>\n",
       "      <td>Andorra</td>\n",
       "      <td>17722.125154</td>\n",
       "      <td>0.927481</td>\n",
       "    </tr>\n",
       "    <tr>\n",
       "      <th>4</th>\n",
       "      <td>NaN</td>\n",
       "      <td>NaN</td>\n",
       "      <td>NaN</td>\n",
       "      <td>Angola</td>\n",
       "      <td>2021-05-29 04:20:41</td>\n",
       "      <td>-11.20270</td>\n",
       "      <td>17.873900</td>\n",
       "      <td>33944</td>\n",
       "      <td>749</td>\n",
       "      <td>27577.0</td>\n",
       "      <td>5618.0</td>\n",
       "      <td>Angola</td>\n",
       "      <td>103.279143</td>\n",
       "      <td>2.206576</td>\n",
       "    </tr>\n",
       "    <tr>\n",
       "      <th>5</th>\n",
       "      <td>NaN</td>\n",
       "      <td>NaN</td>\n",
       "      <td>NaN</td>\n",
       "      <td>Antigua and Barbuda</td>\n",
       "      <td>2021-05-29 04:20:41</td>\n",
       "      <td>17.06080</td>\n",
       "      <td>-61.796400</td>\n",
       "      <td>1259</td>\n",
       "      <td>42</td>\n",
       "      <td>1206.0</td>\n",
       "      <td>11.0</td>\n",
       "      <td>Antigua and Barbuda</td>\n",
       "      <td>1285.638428</td>\n",
       "      <td>3.335981</td>\n",
       "    </tr>\n",
       "    <tr>\n",
       "      <th>6</th>\n",
       "      <td>NaN</td>\n",
       "      <td>NaN</td>\n",
       "      <td>NaN</td>\n",
       "      <td>Argentina</td>\n",
       "      <td>2021-05-29 04:20:41</td>\n",
       "      <td>-38.41610</td>\n",
       "      <td>-63.616700</td>\n",
       "      <td>3702422</td>\n",
       "      <td>76693</td>\n",
       "      <td>3252843.0</td>\n",
       "      <td>372886.0</td>\n",
       "      <td>Argentina</td>\n",
       "      <td>8191.964484</td>\n",
       "      <td>2.071428</td>\n",
       "    </tr>\n",
       "    <tr>\n",
       "      <th>7</th>\n",
       "      <td>NaN</td>\n",
       "      <td>NaN</td>\n",
       "      <td>NaN</td>\n",
       "      <td>Armenia</td>\n",
       "      <td>2021-05-29 04:20:41</td>\n",
       "      <td>40.06910</td>\n",
       "      <td>45.038200</td>\n",
       "      <td>222513</td>\n",
       "      <td>4423</td>\n",
       "      <td>212566.0</td>\n",
       "      <td>5524.0</td>\n",
       "      <td>Armenia</td>\n",
       "      <td>7509.126853</td>\n",
       "      <td>1.987749</td>\n",
       "    </tr>\n",
       "    <tr>\n",
       "      <th>8</th>\n",
       "      <td>NaN</td>\n",
       "      <td>NaN</td>\n",
       "      <td>Australian Capital Territory</td>\n",
       "      <td>Australia</td>\n",
       "      <td>2021-05-29 04:20:41</td>\n",
       "      <td>-35.47350</td>\n",
       "      <td>149.012400</td>\n",
       "      <td>124</td>\n",
       "      <td>3</td>\n",
       "      <td>121.0</td>\n",
       "      <td>0.0</td>\n",
       "      <td>Australian Capital Territory, Australia</td>\n",
       "      <td>28.965195</td>\n",
       "      <td>2.419355</td>\n",
       "    </tr>\n",
       "    <tr>\n",
       "      <th>9</th>\n",
       "      <td>NaN</td>\n",
       "      <td>NaN</td>\n",
       "      <td>New South Wales</td>\n",
       "      <td>Australia</td>\n",
       "      <td>2021-05-29 04:20:41</td>\n",
       "      <td>-33.86880</td>\n",
       "      <td>151.209300</td>\n",
       "      <td>5580</td>\n",
       "      <td>54</td>\n",
       "      <td>0.0</td>\n",
       "      <td>5526.0</td>\n",
       "      <td>New South Wales, Australia</td>\n",
       "      <td>68.736142</td>\n",
       "      <td>0.967742</td>\n",
       "    </tr>\n",
       "  </tbody>\n",
       "</table>\n",
       "</div>"
      ],
      "text/plain": [
       "   FIPS Admin2                Province_State       Country_Region  \\\n",
       "0   NaN    NaN                           NaN          Afghanistan   \n",
       "1   NaN    NaN                           NaN              Albania   \n",
       "2   NaN    NaN                           NaN              Algeria   \n",
       "3   NaN    NaN                           NaN              Andorra   \n",
       "4   NaN    NaN                           NaN               Angola   \n",
       "5   NaN    NaN                           NaN  Antigua and Barbuda   \n",
       "6   NaN    NaN                           NaN            Argentina   \n",
       "7   NaN    NaN                           NaN              Armenia   \n",
       "8   NaN    NaN  Australian Capital Territory            Australia   \n",
       "9   NaN    NaN               New South Wales            Australia   \n",
       "\n",
       "           Last_Update       Lat       Long_  Confirmed  Deaths  Recovered  \\\n",
       "0  2021-05-29 04:20:41  33.93911   67.709953      69130    2881    57119.0   \n",
       "1  2021-05-29 04:20:41  41.15330   20.168300     132285    2448   129097.0   \n",
       "2  2021-05-29 04:20:41  28.03390    1.659600     128198    3455    89232.0   \n",
       "3  2021-05-29 04:20:41  42.50630    1.521800      13693     127    13416.0   \n",
       "4  2021-05-29 04:20:41 -11.20270   17.873900      33944     749    27577.0   \n",
       "5  2021-05-29 04:20:41  17.06080  -61.796400       1259      42     1206.0   \n",
       "6  2021-05-29 04:20:41 -38.41610  -63.616700    3702422   76693  3252843.0   \n",
       "7  2021-05-29 04:20:41  40.06910   45.038200     222513    4423   212566.0   \n",
       "8  2021-05-29 04:20:41 -35.47350  149.012400        124       3      121.0   \n",
       "9  2021-05-29 04:20:41 -33.86880  151.209300       5580      54        0.0   \n",
       "\n",
       "     Active                             Combined_Key  Incident_Rate  \\\n",
       "0    9130.0                              Afghanistan     177.582703   \n",
       "1     740.0                                  Albania    4596.740566   \n",
       "2   35511.0                                  Algeria     292.348805   \n",
       "3     150.0                                  Andorra   17722.125154   \n",
       "4    5618.0                                   Angola     103.279143   \n",
       "5      11.0                      Antigua and Barbuda    1285.638428   \n",
       "6  372886.0                                Argentina    8191.964484   \n",
       "7    5524.0                                  Armenia    7509.126853   \n",
       "8       0.0  Australian Capital Territory, Australia      28.965195   \n",
       "9    5526.0               New South Wales, Australia      68.736142   \n",
       "\n",
       "   Case_Fatality_Ratio  \n",
       "0             4.167510  \n",
       "1             1.850550  \n",
       "2             2.695050  \n",
       "3             0.927481  \n",
       "4             2.206576  \n",
       "5             3.335981  \n",
       "6             2.071428  \n",
       "7             1.987749  \n",
       "8             2.419355  \n",
       "9             0.967742  "
      ]
     },
     "execution_count": 12,
     "metadata": {},
     "output_type": "execute_result"
    }
   ],
   "source": [
    "df.head(10)"
   ]
  },
  {
   "cell_type": "code",
   "execution_count": 14,
   "metadata": {},
   "outputs": [
    {
     "data": {
      "text/html": [
       "<div>\n",
       "<style scoped>\n",
       "    .dataframe tbody tr th:only-of-type {\n",
       "        vertical-align: middle;\n",
       "    }\n",
       "\n",
       "    .dataframe tbody tr th {\n",
       "        vertical-align: top;\n",
       "    }\n",
       "\n",
       "    .dataframe thead th {\n",
       "        text-align: right;\n",
       "    }\n",
       "</style>\n",
       "<table border=\"1\" class=\"dataframe\">\n",
       "  <thead>\n",
       "    <tr style=\"text-align: right;\">\n",
       "      <th></th>\n",
       "      <th>FIPS</th>\n",
       "      <th>Admin2</th>\n",
       "      <th>Province_State</th>\n",
       "      <th>Country_Region</th>\n",
       "      <th>Last_Update</th>\n",
       "      <th>Lat</th>\n",
       "      <th>Long_</th>\n",
       "      <th>Confirmed</th>\n",
       "      <th>Deaths</th>\n",
       "      <th>Recovered</th>\n",
       "      <th>Active</th>\n",
       "      <th>Combined_Key</th>\n",
       "      <th>Incident_Rate</th>\n",
       "      <th>Case_Fatality_Ratio</th>\n",
       "    </tr>\n",
       "  </thead>\n",
       "  <tbody>\n",
       "    <tr>\n",
       "      <th>652</th>\n",
       "      <td>1001.0</td>\n",
       "      <td>Autauga</td>\n",
       "      <td>Alabama</td>\n",
       "      <td>US</td>\n",
       "      <td>2021-05-29 04:20:41</td>\n",
       "      <td>32.539527</td>\n",
       "      <td>-86.644082</td>\n",
       "      <td>7142</td>\n",
       "      <td>110</td>\n",
       "      <td>NaN</td>\n",
       "      <td>NaN</td>\n",
       "      <td>Autauga, Alabama, US</td>\n",
       "      <td>12783.475630</td>\n",
       "      <td>1.540185</td>\n",
       "    </tr>\n",
       "    <tr>\n",
       "      <th>653</th>\n",
       "      <td>1003.0</td>\n",
       "      <td>Baldwin</td>\n",
       "      <td>Alabama</td>\n",
       "      <td>US</td>\n",
       "      <td>2021-05-29 04:20:41</td>\n",
       "      <td>30.727750</td>\n",
       "      <td>-87.722071</td>\n",
       "      <td>21620</td>\n",
       "      <td>311</td>\n",
       "      <td>NaN</td>\n",
       "      <td>NaN</td>\n",
       "      <td>Baldwin, Alabama, US</td>\n",
       "      <td>9684.904629</td>\n",
       "      <td>1.438483</td>\n",
       "    </tr>\n",
       "    <tr>\n",
       "      <th>654</th>\n",
       "      <td>1005.0</td>\n",
       "      <td>Barbour</td>\n",
       "      <td>Alabama</td>\n",
       "      <td>US</td>\n",
       "      <td>2021-05-29 04:20:41</td>\n",
       "      <td>31.868263</td>\n",
       "      <td>-85.387129</td>\n",
       "      <td>2334</td>\n",
       "      <td>59</td>\n",
       "      <td>NaN</td>\n",
       "      <td>NaN</td>\n",
       "      <td>Barbour, Alabama, US</td>\n",
       "      <td>9454.751681</td>\n",
       "      <td>2.527849</td>\n",
       "    </tr>\n",
       "    <tr>\n",
       "      <th>655</th>\n",
       "      <td>1007.0</td>\n",
       "      <td>Bibb</td>\n",
       "      <td>Alabama</td>\n",
       "      <td>US</td>\n",
       "      <td>2021-05-29 04:20:41</td>\n",
       "      <td>32.996421</td>\n",
       "      <td>-87.125115</td>\n",
       "      <td>2664</td>\n",
       "      <td>64</td>\n",
       "      <td>NaN</td>\n",
       "      <td>NaN</td>\n",
       "      <td>Bibb, Alabama, US</td>\n",
       "      <td>11896.043583</td>\n",
       "      <td>2.402402</td>\n",
       "    </tr>\n",
       "    <tr>\n",
       "      <th>656</th>\n",
       "      <td>1009.0</td>\n",
       "      <td>Blount</td>\n",
       "      <td>Alabama</td>\n",
       "      <td>US</td>\n",
       "      <td>2021-05-29 04:20:41</td>\n",
       "      <td>33.982109</td>\n",
       "      <td>-86.567906</td>\n",
       "      <td>6864</td>\n",
       "      <td>139</td>\n",
       "      <td>NaN</td>\n",
       "      <td>NaN</td>\n",
       "      <td>Blount, Alabama, US</td>\n",
       "      <td>11870.093038</td>\n",
       "      <td>2.025058</td>\n",
       "    </tr>\n",
       "  </tbody>\n",
       "</table>\n",
       "</div>"
      ],
      "text/plain": [
       "       FIPS   Admin2 Province_State Country_Region          Last_Update  \\\n",
       "652  1001.0  Autauga        Alabama             US  2021-05-29 04:20:41   \n",
       "653  1003.0  Baldwin        Alabama             US  2021-05-29 04:20:41   \n",
       "654  1005.0  Barbour        Alabama             US  2021-05-29 04:20:41   \n",
       "655  1007.0     Bibb        Alabama             US  2021-05-29 04:20:41   \n",
       "656  1009.0   Blount        Alabama             US  2021-05-29 04:20:41   \n",
       "\n",
       "           Lat      Long_  Confirmed  Deaths  Recovered  Active  \\\n",
       "652  32.539527 -86.644082       7142     110        NaN     NaN   \n",
       "653  30.727750 -87.722071      21620     311        NaN     NaN   \n",
       "654  31.868263 -85.387129       2334      59        NaN     NaN   \n",
       "655  32.996421 -87.125115       2664      64        NaN     NaN   \n",
       "656  33.982109 -86.567906       6864     139        NaN     NaN   \n",
       "\n",
       "             Combined_Key  Incident_Rate  Case_Fatality_Ratio  \n",
       "652  Autauga, Alabama, US   12783.475630             1.540185  \n",
       "653  Baldwin, Alabama, US    9684.904629             1.438483  \n",
       "654  Barbour, Alabama, US    9454.751681             2.527849  \n",
       "655     Bibb, Alabama, US   11896.043583             2.402402  \n",
       "656   Blount, Alabama, US   11870.093038             2.025058  "
      ]
     },
     "execution_count": 14,
     "metadata": {},
     "output_type": "execute_result"
    }
   ],
   "source": [
    "df[df.Country_Region == 'US'].head()"
   ]
  },
  {
   "cell_type": "code",
   "execution_count": 15,
   "metadata": {},
   "outputs": [
    {
     "data": {
      "text/plain": [
       "<AxesSubplot:>"
      ]
     },
     "execution_count": 15,
     "metadata": {},
     "output_type": "execute_result"
    },
    {
     "data": {
      "image/png": "[encoded data removed]",
      "text/plain": [
       "<Figure size 720x432 with 1 Axes>"
      ]
     },
     "metadata": {},
     "output_type": "display_data"
    }
   ],
   "source": [
    "df[df['Country_Region'] == 'US']['Deaths'].plot(kind='line', figsize=(10, 6))"
   ]
  },
  {
   "cell_type": "code",
   "execution_count": 18,
   "metadata": {},
   "outputs": [
    {
     "data": {
      "text/plain": [
       "<AxesSubplot:xlabel='Confirmed', ylabel='Deaths'>"
      ]
     },
     "execution_count": 18,
     "metadata": {},
     "output_type": "execute_result"
    },
    {
     "data": {
      "image/png": "[encoded data removed]",
      "text/plain": [
       "<Figure size 432x288 with 1 Axes>"
      ]
     },
     "metadata": {},
     "output_type": "display_data"
    }
   ],
   "source": [
    "sns.lineplot(x='Confirmed', y='Deaths', data=df[df['Country_Region'] == 'US'])"
   ]
  },
  {
   "cell_type": "code",
   "execution_count": 21,
   "metadata": {},
   "outputs": [
    {
     "data": {
      "image/png": "[encoded data removed]",
      "text/plain": [
       "<Figure size 720x432 with 1 Axes>"
      ]
     },
     "metadata": {},
     "output_type": "display_data"
    }
   ],
   "source": [
    "plt.figure(figsize=(10, 6))\n",
    "sns.histplot(x='Deaths', y='Confirmed', data=df[df['Country_Region'] == 'US'])\n",
    "\n",
    "plt.show()"
   ]
  },
  {
   "cell_type": "code",
   "execution_count": 22,
   "metadata": {},
   "outputs": [
    {
     "data": {
      "text/plain": [
       "'\\nperform some data cleaning:\\n- drop the columns that are not needed\\n- rename columns to more descriptive names\\n- drop rows with missing values\\n'"
      ]
     },
     "execution_count": 22,
     "metadata": {},
     "output_type": "execute_result"
    }
   ],
   "source": [
    "\"\"\"\n",
    "perform some data cleaning:\n",
    "- drop the columns that are not needed\n",
    "- rename columns to more descriptive names\n",
    "- drop rows with missing values\n",
    "\"\"\""
   ]
  },
  {
   "cell_type": "code",
   "execution_count": 23,
   "metadata": {},
   "outputs": [
    {
     "data": {
      "text/html": [
       "<div>\n",
       "<style scoped>\n",
       "    .dataframe tbody tr th:only-of-type {\n",
       "        vertical-align: middle;\n",
       "    }\n",
       "\n",
       "    .dataframe tbody tr th {\n",
       "        vertical-align: top;\n",
       "    }\n",
       "\n",
       "    .dataframe thead th {\n",
       "        text-align: right;\n",
       "    }\n",
       "</style>\n",
       "<table border=\"1\" class=\"dataframe\">\n",
       "  <thead>\n",
       "    <tr style=\"text-align: right;\">\n",
       "      <th></th>\n",
       "      <th>FIPS</th>\n",
       "      <th>Admin2</th>\n",
       "      <th>Province_State</th>\n",
       "      <th>Country_Region</th>\n",
       "      <th>Last_Update</th>\n",
       "      <th>Lat</th>\n",
       "      <th>Long_</th>\n",
       "      <th>Confirmed</th>\n",
       "      <th>Deaths</th>\n",
       "      <th>Recovered</th>\n",
       "      <th>Active</th>\n",
       "      <th>Combined_Key</th>\n",
       "      <th>Incident_Rate</th>\n",
       "      <th>Case_Fatality_Ratio</th>\n",
       "    </tr>\n",
       "  </thead>\n",
       "  <tbody>\n",
       "    <tr>\n",
       "      <th>0</th>\n",
       "      <td>NaN</td>\n",
       "      <td>NaN</td>\n",
       "      <td>NaN</td>\n",
       "      <td>Afghanistan</td>\n",
       "      <td>2021-05-29 04:20:41</td>\n",
       "      <td>33.93911</td>\n",
       "      <td>67.709953</td>\n",
       "      <td>69130</td>\n",
       "      <td>2881</td>\n",
       "      <td>57119.0</td>\n",
       "      <td>9130.0</td>\n",
       "      <td>Afghanistan</td>\n",
       "      <td>177.582703</td>\n",
       "      <td>4.167510</td>\n",
       "    </tr>\n",
       "    <tr>\n",
       "      <th>1</th>\n",
       "      <td>NaN</td>\n",
       "      <td>NaN</td>\n",
       "      <td>NaN</td>\n",
       "      <td>Albania</td>\n",
       "      <td>2021-05-29 04:20:41</td>\n",
       "      <td>41.15330</td>\n",
       "      <td>20.168300</td>\n",
       "      <td>132285</td>\n",
       "      <td>2448</td>\n",
       "      <td>129097.0</td>\n",
       "      <td>740.0</td>\n",
       "      <td>Albania</td>\n",
       "      <td>4596.740566</td>\n",
       "      <td>1.850550</td>\n",
       "    </tr>\n",
       "    <tr>\n",
       "      <th>2</th>\n",
       "      <td>NaN</td>\n",
       "      <td>NaN</td>\n",
       "      <td>NaN</td>\n",
       "      <td>Algeria</td>\n",
       "      <td>2021-05-29 04:20:41</td>\n",
       "      <td>28.03390</td>\n",
       "      <td>1.659600</td>\n",
       "      <td>128198</td>\n",
       "      <td>3455</td>\n",
       "      <td>89232.0</td>\n",
       "      <td>35511.0</td>\n",
       "      <td>Algeria</td>\n",
       "      <td>292.348805</td>\n",
       "      <td>2.695050</td>\n",
       "    </tr>\n",
       "    <tr>\n",
       "      <th>3</th>\n",
       "      <td>NaN</td>\n",
       "      <td>NaN</td>\n",
       "      <td>NaN</td>\n",
       "      <td>Andorra</td>\n",
       "      <td>2021-05-29 04:20:41</td>\n",
       "      <td>42.50630</td>\n",
       "      <td>1.521800</td>\n",
       "      <td>13693</td>\n",
       "      <td>127</td>\n",
       "      <td>13416.0</td>\n",
       "      <td>150.0</td>\n",
       "      <td>Andorra</td>\n",
       "      <td>17722.125154</td>\n",
       "      <td>0.927481</td>\n",
       "    </tr>\n",
       "    <tr>\n",
       "      <th>4</th>\n",
       "      <td>NaN</td>\n",
       "      <td>NaN</td>\n",
       "      <td>NaN</td>\n",
       "      <td>Angola</td>\n",
       "      <td>2021-05-29 04:20:41</td>\n",
       "      <td>-11.20270</td>\n",
       "      <td>17.873900</td>\n",
       "      <td>33944</td>\n",
       "      <td>749</td>\n",
       "      <td>27577.0</td>\n",
       "      <td>5618.0</td>\n",
       "      <td>Angola</td>\n",
       "      <td>103.279143</td>\n",
       "      <td>2.206576</td>\n",
       "    </tr>\n",
       "  </tbody>\n",
       "</table>\n",
       "</div>"
      ],
      "text/plain": [
       "   FIPS Admin2 Province_State Country_Region          Last_Update       Lat  \\\n",
       "0   NaN    NaN            NaN    Afghanistan  2021-05-29 04:20:41  33.93911   \n",
       "1   NaN    NaN            NaN        Albania  2021-05-29 04:20:41  41.15330   \n",
       "2   NaN    NaN            NaN        Algeria  2021-05-29 04:20:41  28.03390   \n",
       "3   NaN    NaN            NaN        Andorra  2021-05-29 04:20:41  42.50630   \n",
       "4   NaN    NaN            NaN         Angola  2021-05-29 04:20:41 -11.20270   \n",
       "\n",
       "       Long_  Confirmed  Deaths  Recovered   Active Combined_Key  \\\n",
       "0  67.709953      69130    2881    57119.0   9130.0  Afghanistan   \n",
       "1  20.168300     132285    2448   129097.0    740.0      Albania   \n",
       "2   1.659600     128198    3455    89232.0  35511.0      Algeria   \n",
       "3   1.521800      13693     127    13416.0    150.0      Andorra   \n",
       "4  17.873900      33944     749    27577.0   5618.0       Angola   \n",
       "\n",
       "   Incident_Rate  Case_Fatality_Ratio  \n",
       "0     177.582703             4.167510  \n",
       "1    4596.740566             1.850550  \n",
       "2     292.348805             2.695050  \n",
       "3   17722.125154             0.927481  \n",
       "4     103.279143             2.206576  "
      ]
     },
     "execution_count": 23,
     "metadata": {},
     "output_type": "execute_result"
    }
   ],
   "source": [
    "df.head()"
   ]
  },
  {
   "cell_type": "code",
   "execution_count": 24,
   "metadata": {},
   "outputs": [],
   "source": [
    "df.drop(['FIPS', 'Admin2', 'Province_State', 'Last_Update', 'Lat', 'Long_', \n",
    "        'Combined_Key', 'Incident_Rate', 'Case_Fatality_Ratio'], axis=1, inplace=True)"
   ]
  },
  {
   "cell_type": "code",
   "execution_count": 25,
   "metadata": {},
   "outputs": [
    {
     "data": {
      "text/html": [
       "<div>\n",
       "<style scoped>\n",
       "    .dataframe tbody tr th:only-of-type {\n",
       "        vertical-align: middle;\n",
       "    }\n",
       "\n",
       "    .dataframe tbody tr th {\n",
       "        vertical-align: top;\n",
       "    }\n",
       "\n",
       "    .dataframe thead th {\n",
       "        text-align: right;\n",
       "    }\n",
       "</style>\n",
       "<table border=\"1\" class=\"dataframe\">\n",
       "  <thead>\n",
       "    <tr style=\"text-align: right;\">\n",
       "      <th></th>\n",
       "      <th>Country_Region</th>\n",
       "      <th>Confirmed</th>\n",
       "      <th>Deaths</th>\n",
       "      <th>Recovered</th>\n",
       "      <th>Active</th>\n",
       "    </tr>\n",
       "  </thead>\n",
       "  <tbody>\n",
       "    <tr>\n",
       "      <th>0</th>\n",
       "      <td>Afghanistan</td>\n",
       "      <td>69130</td>\n",
       "      <td>2881</td>\n",
       "      <td>57119.0</td>\n",
       "      <td>9130.0</td>\n",
       "    </tr>\n",
       "    <tr>\n",
       "      <th>1</th>\n",
       "      <td>Albania</td>\n",
       "      <td>132285</td>\n",
       "      <td>2448</td>\n",
       "      <td>129097.0</td>\n",
       "      <td>740.0</td>\n",
       "    </tr>\n",
       "    <tr>\n",
       "      <th>2</th>\n",
       "      <td>Algeria</td>\n",
       "      <td>128198</td>\n",
       "      <td>3455</td>\n",
       "      <td>89232.0</td>\n",
       "      <td>35511.0</td>\n",
       "    </tr>\n",
       "    <tr>\n",
       "      <th>3</th>\n",
       "      <td>Andorra</td>\n",
       "      <td>13693</td>\n",
       "      <td>127</td>\n",
       "      <td>13416.0</td>\n",
       "      <td>150.0</td>\n",
       "    </tr>\n",
       "    <tr>\n",
       "      <th>4</th>\n",
       "      <td>Angola</td>\n",
       "      <td>33944</td>\n",
       "      <td>749</td>\n",
       "      <td>27577.0</td>\n",
       "      <td>5618.0</td>\n",
       "    </tr>\n",
       "  </tbody>\n",
       "</table>\n",
       "</div>"
      ],
      "text/plain": [
       "  Country_Region  Confirmed  Deaths  Recovered   Active\n",
       "0    Afghanistan      69130    2881    57119.0   9130.0\n",
       "1        Albania     132285    2448   129097.0    740.0\n",
       "2        Algeria     128198    3455    89232.0  35511.0\n",
       "3        Andorra      13693     127    13416.0    150.0\n",
       "4         Angola      33944     749    27577.0   5618.0"
      ]
     },
     "execution_count": 25,
     "metadata": {},
     "output_type": "execute_result"
    }
   ],
   "source": [
    "df.head()"
   ]
  },
  {
   "cell_type": "code",
   "execution_count": 26,
   "metadata": {},
   "outputs": [
    {
     "name": "stdout",
     "output_type": "stream",
     "text": [
      "<class 'pandas.core.frame.DataFrame'>\n",
      "RangeIndex: 4003 entries, 0 to 4002\n",
      "Data columns (total 5 columns):\n",
      " #   Column          Non-Null Count  Dtype  \n",
      "---  ------          --------------  -----  \n",
      " 0   Country_Region  4003 non-null   object \n",
      " 1   Confirmed       4003 non-null   int64  \n",
      " 2   Deaths          4003 non-null   int64  \n",
      " 3   Recovered       726 non-null    float64\n",
      " 4   Active          725 non-null    float64\n",
      "dtypes: float64(2), int64(2), object(1)\n",
      "memory usage: 156.5+ KB\n"
     ]
    }
   ],
   "source": [
    "df.info()"
   ]
  },
  {
   "cell_type": "code",
   "execution_count": 27,
   "metadata": {},
   "outputs": [
    {
     "data": {
      "text/plain": [
       "Country_Region       0\n",
       "Confirmed            0\n",
       "Deaths               0\n",
       "Recovered         3277\n",
       "Active            3278\n",
       "dtype: int64"
      ]
     },
     "execution_count": 27,
     "metadata": {},
     "output_type": "execute_result"
    }
   ],
   "source": [
    "df.isnull().sum()"
   ]
  },
  {
   "cell_type": "code",
   "execution_count": 28,
   "metadata": {},
   "outputs": [],
   "source": [
    "# drop all the missing values\n",
    "df.dropna(inplace=True)"
   ]
  },
  {
   "cell_type": "code",
   "execution_count": 29,
   "metadata": {},
   "outputs": [
    {
     "name": "stdout",
     "output_type": "stream",
     "text": [
      "<class 'pandas.core.frame.DataFrame'>\n",
      "Int64Index: 725 entries, 0 to 4002\n",
      "Data columns (total 5 columns):\n",
      " #   Column          Non-Null Count  Dtype  \n",
      "---  ------          --------------  -----  \n",
      " 0   Country_Region  725 non-null    object \n",
      " 1   Confirmed       725 non-null    int64  \n",
      " 2   Deaths          725 non-null    int64  \n",
      " 3   Recovered       725 non-null    float64\n",
      " 4   Active          725 non-null    float64\n",
      "dtypes: float64(2), int64(2), object(1)\n",
      "memory usage: 34.0+ KB\n"
     ]
    }
   ],
   "source": [
    "df.info()"
   ]
  },
  {
   "cell_type": "code",
   "execution_count": 30,
   "metadata": {},
   "outputs": [
    {
     "data": {
      "text/plain": [
       "Country_Region    0\n",
       "Confirmed         0\n",
       "Deaths            0\n",
       "Recovered         0\n",
       "Active            0\n",
       "dtype: int64"
      ]
     },
     "execution_count": 30,
     "metadata": {},
     "output_type": "execute_result"
    }
   ],
   "source": [
    "df.isnull().sum()"
   ]
  },
  {
   "cell_type": "code",
   "execution_count": 32,
   "metadata": {},
   "outputs": [],
   "source": [
    "df.rename(columns={'Country_Region': 'Country', 'Province_State': 'State', 'Confirmed': 'Cases', 'Deaths': 'Deaths'}, inplace=True)"
   ]
  },
  {
   "cell_type": "code",
   "execution_count": 33,
   "metadata": {},
   "outputs": [
    {
     "data": {
      "text/html": [
       "<div>\n",
       "<style scoped>\n",
       "    .dataframe tbody tr th:only-of-type {\n",
       "        vertical-align: middle;\n",
       "    }\n",
       "\n",
       "    .dataframe tbody tr th {\n",
       "        vertical-align: top;\n",
       "    }\n",
       "\n",
       "    .dataframe thead th {\n",
       "        text-align: right;\n",
       "    }\n",
       "</style>\n",
       "<table border=\"1\" class=\"dataframe\">\n",
       "  <thead>\n",
       "    <tr style=\"text-align: right;\">\n",
       "      <th></th>\n",
       "      <th>Country</th>\n",
       "      <th>Cases</th>\n",
       "      <th>Deaths</th>\n",
       "      <th>Recovered</th>\n",
       "      <th>Active</th>\n",
       "    </tr>\n",
       "  </thead>\n",
       "  <tbody>\n",
       "    <tr>\n",
       "      <th>0</th>\n",
       "      <td>Afghanistan</td>\n",
       "      <td>69130</td>\n",
       "      <td>2881</td>\n",
       "      <td>57119.0</td>\n",
       "      <td>9130.0</td>\n",
       "    </tr>\n",
       "    <tr>\n",
       "      <th>1</th>\n",
       "      <td>Albania</td>\n",
       "      <td>132285</td>\n",
       "      <td>2448</td>\n",
       "      <td>129097.0</td>\n",
       "      <td>740.0</td>\n",
       "    </tr>\n",
       "    <tr>\n",
       "      <th>2</th>\n",
       "      <td>Algeria</td>\n",
       "      <td>128198</td>\n",
       "      <td>3455</td>\n",
       "      <td>89232.0</td>\n",
       "      <td>35511.0</td>\n",
       "    </tr>\n",
       "    <tr>\n",
       "      <th>3</th>\n",
       "      <td>Andorra</td>\n",
       "      <td>13693</td>\n",
       "      <td>127</td>\n",
       "      <td>13416.0</td>\n",
       "      <td>150.0</td>\n",
       "    </tr>\n",
       "    <tr>\n",
       "      <th>4</th>\n",
       "      <td>Angola</td>\n",
       "      <td>33944</td>\n",
       "      <td>749</td>\n",
       "      <td>27577.0</td>\n",
       "      <td>5618.0</td>\n",
       "    </tr>\n",
       "  </tbody>\n",
       "</table>\n",
       "</div>"
      ],
      "text/plain": [
       "       Country   Cases  Deaths  Recovered   Active\n",
       "0  Afghanistan   69130    2881    57119.0   9130.0\n",
       "1      Albania  132285    2448   129097.0    740.0\n",
       "2      Algeria  128198    3455    89232.0  35511.0\n",
       "3      Andorra   13693     127    13416.0    150.0\n",
       "4       Angola   33944     749    27577.0   5618.0"
      ]
     },
     "execution_count": 33,
     "metadata": {},
     "output_type": "execute_result"
    }
   ],
   "source": [
    "df.head()"
   ]
  },
  {
   "cell_type": "code",
   "execution_count": 38,
   "metadata": {},
   "outputs": [
    {
     "data": {
      "text/plain": [
       "<AxesSubplot:>"
      ]
     },
     "execution_count": 38,
     "metadata": {},
     "output_type": "execute_result"
    },
    {
     "data": {
      "image/png": "[encoded data removed]",
      "text/plain": [
       "<Figure size 720x432 with 1 Axes>"
      ]
     },
     "metadata": {},
     "output_type": "display_data"
    }
   ],
   "source": [
    "df[df.Country == 'US']['Deaths'].plot(kind='line', figsize=(10, 6))"
   ]
  },
  {
   "cell_type": "code",
   "execution_count": 40,
   "metadata": {},
   "outputs": [],
   "source": [
    "columns = ['Cases', 'Active', 'Recovered', 'Deaths']\n",
    "world = df.groupby('Country')[columns].sum().reset_index()"
   ]
  },
  {
   "cell_type": "code",
   "execution_count": 42,
   "metadata": {},
   "outputs": [
    {
     "data": {
      "text/html": [
       "<div>\n",
       "<style scoped>\n",
       "    .dataframe tbody tr th:only-of-type {\n",
       "        vertical-align: middle;\n",
       "    }\n",
       "\n",
       "    .dataframe tbody tr th {\n",
       "        vertical-align: top;\n",
       "    }\n",
       "\n",
       "    .dataframe thead th {\n",
       "        text-align: right;\n",
       "    }\n",
       "</style>\n",
       "<table border=\"1\" class=\"dataframe\">\n",
       "  <thead>\n",
       "    <tr style=\"text-align: right;\">\n",
       "      <th></th>\n",
       "      <th>Country</th>\n",
       "      <th>Cases</th>\n",
       "      <th>Active</th>\n",
       "      <th>Recovered</th>\n",
       "      <th>Deaths</th>\n",
       "    </tr>\n",
       "  </thead>\n",
       "  <tbody>\n",
       "    <tr>\n",
       "      <th>0</th>\n",
       "      <td>Afghanistan</td>\n",
       "      <td>69130</td>\n",
       "      <td>9130.0</td>\n",
       "      <td>57119.0</td>\n",
       "      <td>2881</td>\n",
       "    </tr>\n",
       "    <tr>\n",
       "      <th>1</th>\n",
       "      <td>Albania</td>\n",
       "      <td>132285</td>\n",
       "      <td>740.0</td>\n",
       "      <td>129097.0</td>\n",
       "      <td>2448</td>\n",
       "    </tr>\n",
       "    <tr>\n",
       "      <th>2</th>\n",
       "      <td>Algeria</td>\n",
       "      <td>128198</td>\n",
       "      <td>35511.0</td>\n",
       "      <td>89232.0</td>\n",
       "      <td>3455</td>\n",
       "    </tr>\n",
       "    <tr>\n",
       "      <th>3</th>\n",
       "      <td>Andorra</td>\n",
       "      <td>13693</td>\n",
       "      <td>150.0</td>\n",
       "      <td>13416.0</td>\n",
       "      <td>127</td>\n",
       "    </tr>\n",
       "    <tr>\n",
       "      <th>4</th>\n",
       "      <td>Angola</td>\n",
       "      <td>33944</td>\n",
       "      <td>5618.0</td>\n",
       "      <td>27577.0</td>\n",
       "      <td>749</td>\n",
       "    </tr>\n",
       "    <tr>\n",
       "      <th>5</th>\n",
       "      <td>Antigua and Barbuda</td>\n",
       "      <td>1259</td>\n",
       "      <td>11.0</td>\n",
       "      <td>1206.0</td>\n",
       "      <td>42</td>\n",
       "    </tr>\n",
       "    <tr>\n",
       "      <th>6</th>\n",
       "      <td>Argentina</td>\n",
       "      <td>3702422</td>\n",
       "      <td>372886.0</td>\n",
       "      <td>3252843.0</td>\n",
       "      <td>76693</td>\n",
       "    </tr>\n",
       "    <tr>\n",
       "      <th>7</th>\n",
       "      <td>Armenia</td>\n",
       "      <td>222513</td>\n",
       "      <td>5524.0</td>\n",
       "      <td>212566.0</td>\n",
       "      <td>4423</td>\n",
       "    </tr>\n",
       "    <tr>\n",
       "      <th>8</th>\n",
       "      <td>Australia</td>\n",
       "      <td>30083</td>\n",
       "      <td>5598.0</td>\n",
       "      <td>23575.0</td>\n",
       "      <td>910</td>\n",
       "    </tr>\n",
       "    <tr>\n",
       "      <th>9</th>\n",
       "      <td>Austria</td>\n",
       "      <td>643709</td>\n",
       "      <td>6306.0</td>\n",
       "      <td>626815.0</td>\n",
       "      <td>10588</td>\n",
       "    </tr>\n",
       "    <tr>\n",
       "      <th>10</th>\n",
       "      <td>Azerbaijan</td>\n",
       "      <td>333559</td>\n",
       "      <td>5465.0</td>\n",
       "      <td>323198.0</td>\n",
       "      <td>4896</td>\n",
       "    </tr>\n",
       "    <tr>\n",
       "      <th>11</th>\n",
       "      <td>Bahamas</td>\n",
       "      <td>11684</td>\n",
       "      <td>952.0</td>\n",
       "      <td>10503.0</td>\n",
       "      <td>229</td>\n",
       "    </tr>\n",
       "    <tr>\n",
       "      <th>12</th>\n",
       "      <td>Bahrain</td>\n",
       "      <td>232425</td>\n",
       "      <td>28073.0</td>\n",
       "      <td>203429.0</td>\n",
       "      <td>923</td>\n",
       "    </tr>\n",
       "    <tr>\n",
       "      <th>13</th>\n",
       "      <td>Bangladesh</td>\n",
       "      <td>796343</td>\n",
       "      <td>47611.0</td>\n",
       "      <td>736221.0</td>\n",
       "      <td>12511</td>\n",
       "    </tr>\n",
       "    <tr>\n",
       "      <th>14</th>\n",
       "      <td>Barbados</td>\n",
       "      <td>4009</td>\n",
       "      <td>40.0</td>\n",
       "      <td>3922.0</td>\n",
       "      <td>47</td>\n",
       "    </tr>\n",
       "    <tr>\n",
       "      <th>15</th>\n",
       "      <td>Belarus</td>\n",
       "      <td>391637</td>\n",
       "      <td>6649.0</td>\n",
       "      <td>382167.0</td>\n",
       "      <td>2821</td>\n",
       "    </tr>\n",
       "    <tr>\n",
       "      <th>16</th>\n",
       "      <td>Belgium</td>\n",
       "      <td>1057903</td>\n",
       "      <td>1032993.0</td>\n",
       "      <td>0.0</td>\n",
       "      <td>24910</td>\n",
       "    </tr>\n",
       "    <tr>\n",
       "      <th>17</th>\n",
       "      <td>Belize</td>\n",
       "      <td>12791</td>\n",
       "      <td>89.0</td>\n",
       "      <td>12378.0</td>\n",
       "      <td>324</td>\n",
       "    </tr>\n",
       "    <tr>\n",
       "      <th>18</th>\n",
       "      <td>Benin</td>\n",
       "      <td>8058</td>\n",
       "      <td>64.0</td>\n",
       "      <td>7893.0</td>\n",
       "      <td>101</td>\n",
       "    </tr>\n",
       "    <tr>\n",
       "      <th>19</th>\n",
       "      <td>Bhutan</td>\n",
       "      <td>1503</td>\n",
       "      <td>261.0</td>\n",
       "      <td>1241.0</td>\n",
       "      <td>1</td>\n",
       "    </tr>\n",
       "  </tbody>\n",
       "</table>\n",
       "</div>"
      ],
      "text/plain": [
       "                Country    Cases     Active  Recovered  Deaths\n",
       "0           Afghanistan    69130     9130.0    57119.0    2881\n",
       "1               Albania   132285      740.0   129097.0    2448\n",
       "2               Algeria   128198    35511.0    89232.0    3455\n",
       "3               Andorra    13693      150.0    13416.0     127\n",
       "4                Angola    33944     5618.0    27577.0     749\n",
       "5   Antigua and Barbuda     1259       11.0     1206.0      42\n",
       "6             Argentina  3702422   372886.0  3252843.0   76693\n",
       "7               Armenia   222513     5524.0   212566.0    4423\n",
       "8             Australia    30083     5598.0    23575.0     910\n",
       "9               Austria   643709     6306.0   626815.0   10588\n",
       "10           Azerbaijan   333559     5465.0   323198.0    4896\n",
       "11              Bahamas    11684      952.0    10503.0     229\n",
       "12              Bahrain   232425    28073.0   203429.0     923\n",
       "13           Bangladesh   796343    47611.0   736221.0   12511\n",
       "14             Barbados     4009       40.0     3922.0      47\n",
       "15              Belarus   391637     6649.0   382167.0    2821\n",
       "16              Belgium  1057903  1032993.0        0.0   24910\n",
       "17               Belize    12791       89.0    12378.0     324\n",
       "18                Benin     8058       64.0     7893.0     101\n",
       "19               Bhutan     1503      261.0     1241.0       1"
      ]
     },
     "execution_count": 42,
     "metadata": {},
     "output_type": "execute_result"
    }
   ],
   "source": [
    "world.head(20)"
   ]
  },
  {
   "cell_type": "code",
   "execution_count": 44,
   "metadata": {},
   "outputs": [
    {
     "data": {
      "text/html": [
       "<div>\n",
       "<style scoped>\n",
       "    .dataframe tbody tr th:only-of-type {\n",
       "        vertical-align: middle;\n",
       "    }\n",
       "\n",
       "    .dataframe tbody tr th {\n",
       "        vertical-align: top;\n",
       "    }\n",
       "\n",
       "    .dataframe thead th {\n",
       "        text-align: right;\n",
       "    }\n",
       "</style>\n",
       "<table border=\"1\" class=\"dataframe\">\n",
       "  <thead>\n",
       "    <tr style=\"text-align: right;\">\n",
       "      <th></th>\n",
       "      <th>Country</th>\n",
       "      <th>Cases</th>\n",
       "      <th>Active</th>\n",
       "      <th>Recovered</th>\n",
       "      <th>Deaths</th>\n",
       "    </tr>\n",
       "  </thead>\n",
       "  <tbody>\n",
       "    <tr>\n",
       "      <th>79</th>\n",
       "      <td>India</td>\n",
       "      <td>27729247</td>\n",
       "      <td>2228724.0</td>\n",
       "      <td>25178011.0</td>\n",
       "      <td>322512</td>\n",
       "    </tr>\n",
       "    <tr>\n",
       "      <th>23</th>\n",
       "      <td>Brazil</td>\n",
       "      <td>16391930</td>\n",
       "      <td>1440184.0</td>\n",
       "      <td>14492701.0</td>\n",
       "      <td>459045</td>\n",
       "    </tr>\n",
       "    <tr>\n",
       "      <th>62</th>\n",
       "      <td>France</td>\n",
       "      <td>5708350</td>\n",
       "      <td>5208702.0</td>\n",
       "      <td>390196.0</td>\n",
       "      <td>109455</td>\n",
       "    </tr>\n",
       "    <tr>\n",
       "      <th>180</th>\n",
       "      <td>Turkey</td>\n",
       "      <td>5228322</td>\n",
       "      <td>98089.0</td>\n",
       "      <td>5083099.0</td>\n",
       "      <td>47134</td>\n",
       "    </tr>\n",
       "    <tr>\n",
       "      <th>144</th>\n",
       "      <td>Russia</td>\n",
       "      <td>4986458</td>\n",
       "      <td>260796.0</td>\n",
       "      <td>4607276.0</td>\n",
       "      <td>118386</td>\n",
       "    </tr>\n",
       "    <tr>\n",
       "      <th>...</th>\n",
       "      <td>...</td>\n",
       "      <td>...</td>\n",
       "      <td>...</td>\n",
       "      <td>...</td>\n",
       "      <td>...</td>\n",
       "    </tr>\n",
       "    <tr>\n",
       "      <th>149</th>\n",
       "      <td>Samoa</td>\n",
       "      <td>3</td>\n",
       "      <td>0.0</td>\n",
       "      <td>3.0</td>\n",
       "      <td>0</td>\n",
       "    </tr>\n",
       "    <tr>\n",
       "      <th>91</th>\n",
       "      <td>Kiribati</td>\n",
       "      <td>2</td>\n",
       "      <td>2.0</td>\n",
       "      <td>0.0</td>\n",
       "      <td>0</td>\n",
       "    </tr>\n",
       "    <tr>\n",
       "      <th>116</th>\n",
       "      <td>Micronesia</td>\n",
       "      <td>1</td>\n",
       "      <td>0.0</td>\n",
       "      <td>1.0</td>\n",
       "      <td>0</td>\n",
       "    </tr>\n",
       "    <tr>\n",
       "      <th>134</th>\n",
       "      <td>Palau</td>\n",
       "      <td>0</td>\n",
       "      <td>0.0</td>\n",
       "      <td>0.0</td>\n",
       "      <td>0</td>\n",
       "    </tr>\n",
       "    <tr>\n",
       "      <th>167</th>\n",
       "      <td>Summer Olympics 2020</td>\n",
       "      <td>0</td>\n",
       "      <td>0.0</td>\n",
       "      <td>0.0</td>\n",
       "      <td>0</td>\n",
       "    </tr>\n",
       "  </tbody>\n",
       "</table>\n",
       "<p>194 rows × 5 columns</p>\n",
       "</div>"
      ],
      "text/plain": [
       "                  Country     Cases     Active   Recovered  Deaths\n",
       "79                  India  27729247  2228724.0  25178011.0  322512\n",
       "23                 Brazil  16391930  1440184.0  14492701.0  459045\n",
       "62                 France   5708350  5208702.0    390196.0  109455\n",
       "180                Turkey   5228322    98089.0   5083099.0   47134\n",
       "144                Russia   4986458   260796.0   4607276.0  118386\n",
       "..                    ...       ...        ...         ...     ...\n",
       "149                 Samoa         3        0.0         3.0       0\n",
       "91               Kiribati         2        2.0         0.0       0\n",
       "116            Micronesia         1        0.0         1.0       0\n",
       "134                 Palau         0        0.0         0.0       0\n",
       "167  Summer Olympics 2020         0        0.0         0.0       0\n",
       "\n",
       "[194 rows x 5 columns]"
      ]
     },
     "execution_count": 44,
     "metadata": {},
     "output_type": "execute_result"
    }
   ],
   "source": [
    "# sort out by country with the most cases\n",
    "world.sort_values(by='Cases', ascending=False)"
   ]
  },
  {
   "cell_type": "code",
   "execution_count": 46,
   "metadata": {},
   "outputs": [
    {
     "data": {
      "text/html": [
       "<div>\n",
       "<style scoped>\n",
       "    .dataframe tbody tr th:only-of-type {\n",
       "        vertical-align: middle;\n",
       "    }\n",
       "\n",
       "    .dataframe tbody tr th {\n",
       "        vertical-align: top;\n",
       "    }\n",
       "\n",
       "    .dataframe thead th {\n",
       "        text-align: right;\n",
       "    }\n",
       "</style>\n",
       "<table border=\"1\" class=\"dataframe\">\n",
       "  <thead>\n",
       "    <tr style=\"text-align: right;\">\n",
       "      <th></th>\n",
       "      <th>Country</th>\n",
       "      <th>Cases</th>\n",
       "      <th>Active</th>\n",
       "      <th>Recovered</th>\n",
       "      <th>Deaths</th>\n",
       "    </tr>\n",
       "  </thead>\n",
       "  <tbody>\n",
       "    <tr>\n",
       "      <th>23</th>\n",
       "      <td>Brazil</td>\n",
       "      <td>16391930</td>\n",
       "      <td>1440184.0</td>\n",
       "      <td>14492701.0</td>\n",
       "      <td>459045</td>\n",
       "    </tr>\n",
       "    <tr>\n",
       "      <th>79</th>\n",
       "      <td>India</td>\n",
       "      <td>27729247</td>\n",
       "      <td>2228724.0</td>\n",
       "      <td>25178011.0</td>\n",
       "      <td>322512</td>\n",
       "    </tr>\n",
       "    <tr>\n",
       "      <th>115</th>\n",
       "      <td>Mexico</td>\n",
       "      <td>2408778</td>\n",
       "      <td>261962.0</td>\n",
       "      <td>1923744.0</td>\n",
       "      <td>223072</td>\n",
       "    </tr>\n",
       "    <tr>\n",
       "      <th>138</th>\n",
       "      <td>Peru</td>\n",
       "      <td>1942054</td>\n",
       "      <td>-19556.0</td>\n",
       "      <td>1892794.0</td>\n",
       "      <td>182556</td>\n",
       "    </tr>\n",
       "    <tr>\n",
       "      <th>184</th>\n",
       "      <td>United Kingdom</td>\n",
       "      <td>4493582</td>\n",
       "      <td>4350072.0</td>\n",
       "      <td>15480.0</td>\n",
       "      <td>128030</td>\n",
       "    </tr>\n",
       "  </tbody>\n",
       "</table>\n",
       "</div>"
      ],
      "text/plain": [
       "            Country     Cases     Active   Recovered  Deaths\n",
       "23           Brazil  16391930  1440184.0  14492701.0  459045\n",
       "79            India  27729247  2228724.0  25178011.0  322512\n",
       "115          Mexico   2408778   261962.0   1923744.0  223072\n",
       "138            Peru   1942054   -19556.0   1892794.0  182556\n",
       "184  United Kingdom   4493582  4350072.0     15480.0  128030"
      ]
     },
     "execution_count": 46,
     "metadata": {},
     "output_type": "execute_result"
    }
   ],
   "source": [
    "# show countries with the most deaths\n",
    "world.sort_values(by='Deaths', ascending=False).head(5)"
   ]
  },
  {
   "cell_type": "code",
   "execution_count": 48,
   "metadata": {},
   "outputs": [
    {
     "data": {
      "text/plain": [
       "<AxesSubplot:title={'center':'Countries with the most deaths'}>"
      ]
     },
     "execution_count": 48,
     "metadata": {},
     "output_type": "execute_result"
    },
    {
     "data": {
      "image/png": "[encoded data removed]",
      "text/plain": [
       "<Figure size 864x576 with 1 Axes>"
      ]
     },
     "metadata": {},
     "output_type": "display_data"
    }
   ],
   "source": [
    "# plot countries with the most deaths\n",
    "world.sort_values(by='Deaths', ascending=False).head(5).plot(kind='bar', \n",
    "                                                            figsize=(12, 8),\n",
    "                                                            title='Countries with the most deaths',\n",
    "                                                            )"
   ]
  },
  {
   "cell_type": "code",
   "execution_count": 52,
   "metadata": {},
   "outputs": [
    {
     "data": {
      "text/plain": [
       "<AxesSubplot:title={'center':'COVID-19 in Canada on May-28-2021'}>"
      ]
     },
     "execution_count": 52,
     "metadata": {},
     "output_type": "execute_result"
    },
    {
     "data": {
      "image/png": "[encoded data removed]",
      "text/plain": [
       "<Figure size 864x576 with 1 Axes>"
      ]
     },
     "metadata": {},
     "output_type": "display_data"
    }
   ],
   "source": [
    "world[world['Country'] == 'Canada'].sort_values(by='Deaths', ascending=False).head(5).plot(kind='bar',\n",
    "                                                                                            figsize=(12, 8),\n",
    "                                                                                            title='COVID-19 in Canada on May-28-2021')"
   ]
  },
  {
   "cell_type": "code",
   "execution_count": 53,
   "metadata": {},
   "outputs": [],
   "source": [
    "import plotly.express as px"
   ]
  },
  {
   "cell_type": "code",
   "execution_count": 55,
   "metadata": {},
   "outputs": [
    {
     "data": {
      "application/vnd.plotly.v1+json": {
       "config": {
        "plotlyServerURL": "https://plot.ly"
       },
       "data": [
        {
         "customdata": [
          [
           27729247,
           2228724,
           25178011,
           322512
          ],
          [
           16391930,
           1440184,
           14492701,
           459045
          ],
          [
           5708350,
           5208702,
           390196,
           109455
          ],
          [
           5228322,
           98089,
           5083099,
           47134
          ],
          [
           4986458,
           260796,
           4607276,
           118386
          ],
          [
           4493582,
           4350072,
           15480,
           128030
          ],
          [
           4209707,
           246270,
           3837518,
           125919
          ],
          [
           3702422,
           372886,
           3252843,
           76693
          ],
          [
           3680159,
           119149,
           3472650,
           88360
          ],
          [
           3668658,
           3438377,
           150376,
           79905
          ],
          [
           3342567,
           133472,
           3121888,
           87207
          ],
          [
           2886111,
           396291,
           2410252,
           79568
          ],
          [
           2870595,
           162327,
           2634711,
           73557
          ],
          [
           2408778,
           261962,
           1923744,
           223072
          ],
          [
           2254674,
           128248,
           2074174,
           52252
          ],
          [
           1942054,
           -19556,
           1892794,
           182556
          ],
          [
           1803361,
           98704,
           1654557,
           50100
          ],
          [
           1668581,
           1623920,
           26780,
           17881
          ],
          [
           1660481,
           15385,
           1615008,
           30088
          ],
          [
           1654551,
           46738,
           1551520,
           56293
          ],
          [
           1382769,
           37965,
           1318719,
           25440
          ],
          [
           1361381,
           44649,
           1287804,
           28928
          ],
          [
           1209154,
           53770,
           1134818,
           20566
          ],
          [
           1190351,
           72364,
           1101676,
           16311
          ],
          [
           1077161,
           9258,
           1037729,
           30174
          ],
          [
           1068473,
           1054022,
           0,
           14451
          ],
          [
           1057903,
           1032993,
           0,
           24910
          ],
          [
           916239,
           58857,
           836702,
           20680
          ],
          [
           847604,
           22534,
           808047,
           17023
          ],
          [
           839433,
           501,
           832525,
           6407
          ],
          [
           803567,
           84719,
           689166,
           29682
          ],
          [
           796343,
           47611,
           736221,
           12511
          ],
          [
           738935,
           66573,
           659576,
           12786
          ],
          [
           734659,
           11590,
           713633,
           9436
          ],
          [
           711772,
           704938,
           0,
           6834
          ],
          [
           693023,
           364622,
           317600,
           10705
          ],
          [
           643709,
           6306,
           626815,
           10588
          ],
          [
           565451,
           18554,
           545229,
           1668
          ],
          [
           549514,
           0,
           474138,
           2552
          ],
          [
           549111,
           113394,
           428670,
           7047
          ],
          [
           539888,
           15647,
           516530,
           7711
          ],
          [
           518458,
           2880,
           506443,
           9135
          ],
          [
           447178,
           10195,
           429663,
           7320
          ],
          [
           438619,
           33002,
           402182,
           7149
          ],
          [
           423165,
           36332,
           366425,
           20408
          ],
          [
           418106,
           20200,
           380254,
           17652
          ],
          [
           398898,
           293139,
           93764,
           11995
          ],
          [
           391637,
           6649,
           382167,
           2821
          ],
          [
           389440,
           121807,
           255300,
           12333
          ],
          [
           376854,
           6192,
           364297,
           6365
          ],
          [
           364570,
           60384,
           289809,
           14377
          ],
          [
           355617,
           2726,
           344899,
           7992
          ],
          [
           348184,
           53287,
           286005,
           8892
          ],
          [
           341952,
           29668,
           299771,
           12513
          ],
          [
           341894,
           12741,
           324426,
           4727
          ],
          [
           333559,
           5465,
           323198,
           4896
          ],
          [
           314102,
           68121,
           242019,
           3962
          ],
          [
           307569,
           3955,
           300125,
           3489
          ],
          [
           305583,
           13446,
           290377,
           1760
          ],
          [
           289288,
           47050,
           238615,
           3623
          ],
          [
           282198,
           35419,
           242661,
           4118
          ],
          [
           279139,
           13176,
           263450,
           2513
          ],
          [
           273346,
           16529,
           252582,
           4235
          ],
          [
           270944,
           30955,
           235850,
           4139
          ],
          [
           260850,
           226565,
           23364,
           4941
          ],
          [
           259540,
           54336,
           190254,
           14950
          ],
          [
           255060,
           1723,
           247240,
           6097
          ],
          [
           253140,
           4617,
           244153,
           4370
          ],
          [
           252929,
           13241,
           231594,
           8094
          ],
          [
           236451,
           145944,
           84223,
           6284
          ],
          [
           232425,
           28073,
           203429,
           923
          ],
          [
           230147,
           15353,
           212199,
           2595
          ],
          [
           222513,
           5524,
           212566,
           4423
          ],
          [
           216885,
           3954,
           212379,
           552
          ],
          [
           213784,
           14401,
           197080,
           2303
          ],
          [
           203839,
           20392,
           174236,
           9211
          ],
          [
           184815,
           10420,
           171279,
           3116
          ],
          [
           177711,
           29986,
           146362,
           1363
          ],
          [
           170041,
           50899,
           116018,
           3124
          ],
          [
           166254,
           7637,
           156546,
           2071
          ],
          [
           155217,
           2449,
           147381,
           5387
          ],
          [
           147039,
           119212,
           26873,
           954
          ],
          [
           143486,
           7991,
           132279,
           3216
          ],
          [
           139431,
           7741,
           129739,
           1951
          ],
          [
           138899,
           6505,
           131461,
           933
          ],
          [
           132612,
           6106,
           124147,
           2359
          ],
          [
           132285,
           740,
           129097,
           2448
          ],
          [
           129297,
           5508,
           122542,
           1247
          ],
          [
           128198,
           35511,
           89232,
           3455
          ],
          [
           124410,
           105629,
           17998,
           783
          ],
          [
           106946,
           2396,
           102303,
           2247
          ],
          [
           103866,
           4536,
           97542,
           1788
          ],
          [
           102948,
           376,
           97726,
           4846
          ],
          [
           99580,
           3643,
           95250,
           687
          ],
          [
           99518,
           928,
           97010,
           1580
          ],
          [
           94430,
           1712,
           91443,
           1275
          ],
          [
           93775,
           1138,
           91853,
           784
          ],
          [
           92244,
           45296,
           46000,
           948
          ],
          [
           77982,
           41451,
           35261,
           1270
          ],
          [
           73310,
           32886,
           39061,
           358
          ],
          [
           73246,
           2601,
           68408,
           2237
          ],
          [
           70697,
           630,
           69232,
           835
          ],
          [
           69830,
           1023,
           67993,
           814
          ],
          [
           69130,
           9130,
           57119,
           2881
          ],
          [
           61970,
           531,
           61407,
           32
          ],
          [
           61844,
           24827,
           36862,
           155
          ],
          [
           56621,
           7033,
           49320,
           268
          ],
          [
           54268,
           3408,
           50053,
           807
          ],
          [
           53771,
           2446,
           50494,
           831
          ],
          [
           48288,
           22649,
           24703,
           936
          ],
          [
           47195,
           303,
           46591,
           301
          ],
          [
           45231,
           1469,
           43401,
           361
          ],
          [
           41296,
           226,
           39932,
           1138
          ],
          [
           41184,
           329,
           40028,
           827
          ],
          [
           38918,
           763,
           36563,
           1592
          ],
          [
           35289,
           4740,
           27949,
           2600
          ],
          [
           34323,
           571,
           32598,
           1154
          ],
          [
           33944,
           5618,
           27577,
           749
          ],
          [
           31386,
           2950,
           27654,
           782
          ],
          [
           30526,
           66,
           30041,
           419
          ],
          [
           30122,
           1698,
           28163,
           261
          ],
          [
           30083,
           5598,
           23575,
           910
          ],
          [
           28237,
           7141,
           20900,
           196
          ],
          [
           26878,
           984,
           25542,
           352
          ],
          [
           24410,
           1064,
           21588,
           1758
          ],
          [
           24365,
           2424,
           21791,
           150
          ],
          [
           23110,
           2109,
           20840,
           161
          ],
          [
           22620,
           9192,
           12970,
           458
          ],
          [
           19407,
           542,
           18403,
           462
          ],
          [
           18587,
           60,
           17855,
           672
          ],
          [
           16724,
           1968,
           14376,
           380
          ],
          [
           15772,
           753,
           14857,
           162
          ],
          [
           14647,
           7162,
           6717,
           768
          ],
          [
           14305,
           2690,
           11333,
           282
          ],
          [
           14262,
           4187,
           9559,
           516
          ],
          [
           14037,
           1234,
           12511,
           292
          ],
          [
           13714,
           0,
           13218,
           91
          ],
          [
           13693,
           150,
           13416,
           127
          ],
          [
           13432,
           663,
           12644,
           125
          ],
          [
           13424,
           10,
           13248,
           166
          ],
          [
           12791,
           89,
           12378,
           324
          ],
          [
           11684,
           952,
           10503,
           229
          ],
          [
           11658,
           3297,
           8208,
           153
          ],
          [
           11523,
           16,
           11354,
           153
          ],
          [
           11112,
           1169,
           9936,
           38
          ],
          [
           10825,
           4065,
           6434,
           326
          ],
          [
           10688,
           59,
           10514,
           115
          ],
          [
           8476,
           217,
           8146,
           113
          ],
          [
           8058,
           64,
           7893,
           101
          ],
          [
           7324,
           2913,
           4225,
           186
          ],
          [
           7315,
           6104,
           1133,
           78
          ],
          [
           7085,
           322,
           6665,
           98
          ],
          [
           6723,
           2032,
           3375,
           1316
          ],
          [
           6622,
           2692,
           3915,
           15
          ],
          [
           6564,
           50,
           6476,
           30
          ],
          [
           6396,
           3453,
           2896,
           47
          ],
          [
           5990,
           45,
           5767,
           178
          ],
          [
           5406,
           143,
           5071,
           192
          ],
          [
           5090,
           4,
           4995,
           90
          ],
          [
           5035,
           186,
           4772,
           77
          ],
          [
           4927,
           12,
           4742,
           173
          ],
          [
           4669,
           3890,
           773,
           6
          ],
          [
           4140,
           933,
           3128,
           79
          ],
          [
           4022,
           196,
           3812,
           14
          ],
          [
           4009,
           40,
           3922,
           47
          ],
          [
           3879,
           17,
           3716,
           146
          ],
          [
           3760,
           181,
           3511,
           68
          ],
          [
           3098,
           19,
           2929,
           57
          ],
          [
           2671,
           21,
           2623,
           26
          ],
          [
           2503,
           8,
           2463,
           32
          ],
          [
           2344,
           19,
           2288,
           37
          ],
          [
           2174,
           60,
           2033,
           86
          ],
          [
           2014,
           171,
           1831,
           12
          ],
          [
           1905,
           621,
           1281,
           3
          ],
          [
           1503,
           261,
           1241,
           1
          ],
          [
           1356,
           158,
           1181,
           17
          ],
          [
           1259,
           11,
           1206,
           42
          ],
          [
           712,
           0,
           699,
           13
          ],
          [
           509,
           305,
           183,
           21
          ],
          [
           360,
           195,
           161,
           4
          ],
          [
           241,
           10,
           228,
           3
          ],
          [
           188,
           6,
           182,
           0
          ],
          [
           161,
           0,
           160,
           1
          ],
          [
           68,
           23,
           45,
           0
          ],
          [
           27,
           0,
           27,
           0
          ],
          [
           20,
           0,
           20,
           0
          ],
          [
           9,
           0,
           7,
           2
          ],
          [
           4,
           0,
           4,
           0
          ],
          [
           4,
           0,
           3,
           1
          ],
          [
           3,
           0,
           3,
           0
          ],
          [
           2,
           2,
           0,
           0
          ],
          [
           1,
           0,
           1,
           0
          ],
          [
           0,
           0,
           0,
           0
          ],
          [
           0,
           0,
           0,
           0
          ]
         ],
         "geo": "geo",
         "hovertemplate": "<b>%{hovertext}</b><br><br>Deaths=%{marker.color}<br>Country=%{location}<br>Cases=%{customdata[0]}<br>Active=%{customdata[1]}<br>Recovered=%{customdata[2]}<extra></extra>",
         "hovertext": [
          "India",
          "Brazil",
          "France",
          "Turkey",
          "Russia",
          "United Kingdom",
          "Italy",
          "Argentina",
          "Germany",
          "Spain",
          "Colombia",
          "Iran",
          "Poland",
          "Mexico",
          "Ukraine",
          "Peru",
          "Indonesia",
          "Netherlands",
          "Czechia",
          "South Africa",
          "Canada",
          "Chile",
          "Philippines",
          "Iraq",
          "Romania",
          "Sweden",
          "Belgium",
          "Pakistan",
          "Portugal",
          "Israel",
          "Hungary",
          "Bangladesh",
          "Japan",
          "Jordan",
          "Serbia",
          "Switzerland",
          "Austria",
          "United Arab Emirates",
          "Malaysia",
          "Nepal",
          "Lebanon",
          "Morocco",
          "Saudi Arabia",
          "Kazakhstan",
          "Ecuador",
          "Bulgaria",
          "Greece",
          "Belarus",
          "Slovakia",
          "Panama",
          "Bolivia",
          "Croatia",
          "Paraguay",
          "Tunisia",
          "Georgia",
          "Azerbaijan",
          "Costa Rica",
          "West Bank and Gaza",
          "Kuwait",
          "Dominican Republic",
          "Uruguay",
          "Denmark",
          "Lithuania",
          "Ethiopia",
          "Ireland",
          "Egypt",
          "Moldova",
          "Slovenia",
          "Guatemala",
          "Honduras",
          "Bahrain",
          "Venezuela",
          "Armenia",
          "Qatar",
          "Oman",
          "Bosnia and Herzegovina",
          "Libya",
          "Sri Lanka",
          "Kenya",
          "Nigeria",
          "North Macedonia",
          "Thailand",
          "Burma",
          "Korea, South",
          "Cuba",
          "Latvia",
          "Albania",
          "Estonia",
          "Algeria",
          "Norway",
          "Kosovo",
          "Kyrgyzstan",
          "China",
          "Uzbekistan",
          "Montenegro",
          "Zambia",
          "Ghana",
          "Finland",
          "Cameroon",
          "Cyprus",
          "El Salvador",
          "Mozambique",
          "Luxembourg",
          "Afghanistan",
          "Singapore",
          "Maldives",
          "Mongolia",
          "Namibia",
          "Botswana",
          "Jamaica",
          "Cote d'Ivoire",
          "Uganda",
          "Senegal",
          "Madagascar",
          "Zimbabwe",
          "Sudan",
          "Malawi",
          "Angola",
          "Congo (Kinshasa)",
          "Malta",
          "Cabo Verde",
          "Australia",
          "Cambodia",
          "Rwanda",
          "Syria",
          "Gabon",
          "Guinea",
          "Trinidad and Tobago",
          "Mauritania",
          "Eswatini",
          "Guyana",
          "Papua New Guinea",
          "Somalia",
          "Suriname",
          "Mali",
          "Haiti",
          "Tajikistan",
          "Andorra",
          "Togo",
          "Burkina Faso",
          "Belize",
          "Bahamas",
          "Congo (Brazzaville)",
          "Djibouti",
          "Seychelles",
          "Lesotho",
          "South Sudan",
          "Equatorial Guinea",
          "Benin",
          "Nicaragua",
          "Taiwan*",
          "Central African Republic",
          "Yemen",
          "Timor-Leste",
          "Iceland",
          "Vietnam",
          "Gambia",
          "Niger",
          "San Marino",
          "Saint Lucia",
          "Chad",
          "Burundi",
          "Sierra Leone",
          "Eritrea",
          "Barbados",
          "Comoros",
          "Guinea-Bissau",
          "Liechtenstein",
          "New Zealand",
          "Monaco",
          "Sao Tome and Principe",
          "Liberia",
          "Saint Vincent and the Grenadines",
          "Laos",
          "Bhutan",
          "Mauritius",
          "Antigua and Barbuda",
          "Diamond Princess",
          "Tanzania",
          "Fiji",
          "Brunei",
          "Dominica",
          "Grenada",
          "Saint Kitts and Nevis",
          "Holy See",
          "Solomon Islands",
          "MS Zaandam",
          "Marshall Islands",
          "Vanuatu",
          "Samoa",
          "Kiribati",
          "Micronesia",
          "Palau",
          "Summer Olympics 2020"
         ],
         "legendgroup": "",
         "locationmode": "country names",
         "locations": [
          "India",
          "Brazil",
          "France",
          "Turkey",
          "Russia",
          "United Kingdom",
          "Italy",
          "Argentina",
          "Germany",
          "Spain",
          "Colombia",
          "Iran",
          "Poland",
          "Mexico",
          "Ukraine",
          "Peru",
          "Indonesia",
          "Netherlands",
          "Czechia",
          "South Africa",
          "Canada",
          "Chile",
          "Philippines",
          "Iraq",
          "Romania",
          "Sweden",
          "Belgium",
          "Pakistan",
          "Portugal",
          "Israel",
          "Hungary",
          "Bangladesh",
          "Japan",
          "Jordan",
          "Serbia",
          "Switzerland",
          "Austria",
          "United Arab Emirates",
          "Malaysia",
          "Nepal",
          "Lebanon",
          "Morocco",
          "Saudi Arabia",
          "Kazakhstan",
          "Ecuador",
          "Bulgaria",
          "Greece",
          "Belarus",
          "Slovakia",
          "Panama",
          "Bolivia",
          "Croatia",
          "Paraguay",
          "Tunisia",
          "Georgia",
          "Azerbaijan",
          "Costa Rica",
          "West Bank and Gaza",
          "Kuwait",
          "Dominican Republic",
          "Uruguay",
          "Denmark",
          "Lithuania",
          "Ethiopia",
          "Ireland",
          "Egypt",
          "Moldova",
          "Slovenia",
          "Guatemala",
          "Honduras",
          "Bahrain",
          "Venezuela",
          "Armenia",
          "Qatar",
          "Oman",
          "Bosnia and Herzegovina",
          "Libya",
          "Sri Lanka",
          "Kenya",
          "Nigeria",
          "North Macedonia",
          "Thailand",
          "Burma",
          "Korea, South",
          "Cuba",
          "Latvia",
          "Albania",
          "Estonia",
          "Algeria",
          "Norway",
          "Kosovo",
          "Kyrgyzstan",
          "China",
          "Uzbekistan",
          "Montenegro",
          "Zambia",
          "Ghana",
          "Finland",
          "Cameroon",
          "Cyprus",
          "El Salvador",
          "Mozambique",
          "Luxembourg",
          "Afghanistan",
          "Singapore",
          "Maldives",
          "Mongolia",
          "Namibia",
          "Botswana",
          "Jamaica",
          "Cote d'Ivoire",
          "Uganda",
          "Senegal",
          "Madagascar",
          "Zimbabwe",
          "Sudan",
          "Malawi",
          "Angola",
          "Congo (Kinshasa)",
          "Malta",
          "Cabo Verde",
          "Australia",
          "Cambodia",
          "Rwanda",
          "Syria",
          "Gabon",
          "Guinea",
          "Trinidad and Tobago",
          "Mauritania",
          "Eswatini",
          "Guyana",
          "Papua New Guinea",
          "Somalia",
          "Suriname",
          "Mali",
          "Haiti",
          "Tajikistan",
          "Andorra",
          "Togo",
          "Burkina Faso",
          "Belize",
          "Bahamas",
          "Congo (Brazzaville)",
          "Djibouti",
          "Seychelles",
          "Lesotho",
          "South Sudan",
          "Equatorial Guinea",
          "Benin",
          "Nicaragua",
          "Taiwan*",
          "Central African Republic",
          "Yemen",
          "Timor-Leste",
          "Iceland",
          "Vietnam",
          "Gambia",
          "Niger",
          "San Marino",
          "Saint Lucia",
          "Chad",
          "Burundi",
          "Sierra Leone",
          "Eritrea",
          "Barbados",
          "Comoros",
          "Guinea-Bissau",
          "Liechtenstein",
          "New Zealand",
          "Monaco",
          "Sao Tome and Principe",
          "Liberia",
          "Saint Vincent and the Grenadines",
          "Laos",
          "Bhutan",
          "Mauritius",
          "Antigua and Barbuda",
          "Diamond Princess",
          "Tanzania",
          "Fiji",
          "Brunei",
          "Dominica",
          "Grenada",
          "Saint Kitts and Nevis",
          "Holy See",
          "Solomon Islands",
          "MS Zaandam",
          "Marshall Islands",
          "Vanuatu",
          "Samoa",
          "Kiribati",
          "Micronesia",
          "Palau",
          "Summer Olympics 2020"
         ],
         "marker": {
          "color": [
           322512,
           459045,
           109455,
           47134,
           118386,
           128030,
           125919,
           76693,
           88360,
           79905,
           87207,
           79568,
           73557,
           223072,
           52252,
           182556,
           50100,
           17881,
           30088,
           56293,
           25440,
           28928,
           20566,
           16311,
           30174,
           14451,
           24910,
           20680,
           17023,
           6407,
           29682,
           12511,
           12786,
           9436,
           6834,
           10705,
           10588,
           1668,
           2552,
           7047,
           7711,
           9135,
           7320,
           7149,
           20408,
           17652,
           11995,
           2821,
           12333,
           6365,
           14377,
           7992,
           8892,
           12513,
           4727,
           4896,
           3962,
           3489,
           1760,
           3623,
           4118,
           2513,
           4235,
           4139,
           4941,
           14950,
           6097,
           4370,
           8094,
           6284,
           923,
           2595,
           4423,
           552,
           2303,
           9211,
           3116,
           1363,
           3124,
           2071,
           5387,
           954,
           3216,
           1951,
           933,
           2359,
           2448,
           1247,
           3455,
           783,
           2247,
           1788,
           4846,
           687,
           1580,
           1275,
           784,
           948,
           1270,
           358,
           2237,
           835,
           814,
           2881,
           32,
           155,
           268,
           807,
           831,
           936,
           301,
           361,
           1138,
           827,
           1592,
           2600,
           1154,
           749,
           782,
           419,
           261,
           910,
           196,
           352,
           1758,
           150,
           161,
           458,
           462,
           672,
           380,
           162,
           768,
           282,
           516,
           292,
           91,
           127,
           125,
           166,
           324,
           229,
           153,
           153,
           38,
           326,
           115,
           113,
           101,
           186,
           78,
           98,
           1316,
           15,
           30,
           47,
           178,
           192,
           90,
           77,
           173,
           6,
           79,
           14,
           47,
           146,
           68,
           57,
           26,
           32,
           37,
           86,
           12,
           3,
           1,
           17,
           42,
           13,
           21,
           4,
           3,
           0,
           1,
           0,
           0,
           0,
           2,
           0,
           1,
           0,
           0,
           0,
           0,
           0
          ],
          "coloraxis": "coloraxis",
          "size": [
           322512,
           459045,
           109455,
           47134,
           118386,
           128030,
           125919,
           76693,
           88360,
           79905,
           87207,
           79568,
           73557,
           223072,
           52252,
           182556,
           50100,
           17881,
           30088,
           56293,
           25440,
           28928,
           20566,
           16311,
           30174,
           14451,
           24910,
           20680,
           17023,
           6407,
           29682,
           12511,
           12786,
           9436,
           6834,
           10705,
           10588,
           1668,
           2552,
           7047,
           7711,
           9135,
           7320,
           7149,
           20408,
           17652,
           11995,
           2821,
           12333,
           6365,
           14377,
           7992,
           8892,
           12513,
           4727,
           4896,
           3962,
           3489,
           1760,
           3623,
           4118,
           2513,
           4235,
           4139,
           4941,
           14950,
           6097,
           4370,
           8094,
           6284,
           923,
           2595,
           4423,
           552,
           2303,
           9211,
           3116,
           1363,
           3124,
           2071,
           5387,
           954,
           3216,
           1951,
           933,
           2359,
           2448,
           1247,
           3455,
           783,
           2247,
           1788,
           4846,
           687,
           1580,
           1275,
           784,
           948,
           1270,
           358,
           2237,
           835,
           814,
           2881,
           32,
           155,
           268,
           807,
           831,
           936,
           301,
           361,
           1138,
           827,
           1592,
           2600,
           1154,
           749,
           782,
           419,
           261,
           910,
           196,
           352,
           1758,
           150,
           161,
           458,
           462,
           672,
           380,
           162,
           768,
           282,
           516,
           292,
           91,
           127,
           125,
           166,
           324,
           229,
           153,
           153,
           38,
           326,
           115,
           113,
           101,
           186,
           78,
           98,
           1316,
           15,
           30,
           47,
           178,
           192,
           90,
           77,
           173,
           6,
           79,
           14,
           47,
           146,
           68,
           57,
           26,
           32,
           37,
           86,
           12,
           3,
           1,
           17,
           42,
           13,
           21,
           4,
           3,
           0,
           1,
           0,
           0,
           0,
           2,
           0,
           1,
           0,
           0,
           0,
           0,
           0
          ],
          "sizemode": "area",
          "sizeref": 183.618,
          "symbol": "circle"
         },
         "mode": "markers",
         "name": "",
         "showlegend": false,
         "type": "scattergeo"
        }
       ],
       "layout": {
        "coloraxis": {
         "cmax": 1000,
         "cmin": 0,
         "colorbar": {
          "title": {
           "text": "Deaths"
          }
         },
         "colorscale": [
          [
           0,
           "#0d0887"
          ],
          [
           0.1111111111111111,
           "#46039f"
          ],
          [
           0.2222222222222222,
           "#7201a8"
          ],
          [
           0.3333333333333333,
           "#9c179e"
          ],
          [
           0.4444444444444444,
           "#bd3786"
          ],
          [
           0.5555555555555556,
           "#d8576b"
          ],
          [
           0.6666666666666666,
           "#ed7953"
          ],
          [
           0.7777777777777778,
           "#fb9f3a"
          ],
          [
           0.8888888888888888,
           "#fdca26"
          ],
          [
           1,
           "#f0f921"
          ]
         ]
        },
        "geo": {
         "center": {},
         "domain": {
          "x": [
           0,
           1
          ],
          "y": [
           0,
           1
          ]
         },
         "projection": {
          "type": "natural earth"
         }
        },
        "legend": {
         "itemsizing": "constant",
         "tracegroupgap": 0
        },
        "margin": {
         "t": 60
        },
        "template": {
         "data": {
          "bar": [
           {
            "error_x": {
             "color": "#2a3f5f"
            },
            "error_y": {
             "color": "#2a3f5f"
            },
            "marker": {
             "line": {
              "color": "#E5ECF6",
              "width": 0.5
             },
             "pattern": {
              "fillmode": "overlay",
              "size": 10,
              "solidity": 0.2
             }
            },
            "type": "bar"
           }
          ],
          "barpolar": [
           {
            "marker": {
             "line": {
              "color": "#E5ECF6",
              "width": 0.5
             },
             "pattern": {
              "fillmode": "overlay",
              "size": 10,
              "solidity": 0.2
             }
            },
            "type": "barpolar"
           }
          ],
          "carpet": [
           {
            "aaxis": {
             "endlinecolor": "#2a3f5f",
             "gridcolor": "white",
             "linecolor": "white",
             "minorgridcolor": "white",
             "startlinecolor": "#2a3f5f"
            },
            "baxis": {
             "endlinecolor": "#2a3f5f",
             "gridcolor": "white",
             "linecolor": "white",
             "minorgridcolor": "white",
             "startlinecolor": "#2a3f5f"
            },
            "type": "carpet"
           }
          ],
          "choropleth": [
           {
            "colorbar": {
             "outlinewidth": 0,
             "ticks": ""
            },
            "type": "choropleth"
           }
          ],
          "contour": [
           {
            "colorbar": {
             "outlinewidth": 0,
             "ticks": ""
            },
            "colorscale": [
             [
              0,
              "#0d0887"
             ],
             [
              0.1111111111111111,
              "#46039f"
             ],
             [
              0.2222222222222222,
              "#7201a8"
             ],
             [
              0.3333333333333333,
              "#9c179e"
             ],
             [
              0.4444444444444444,
              "#bd3786"
             ],
             [
              0.5555555555555556,
              "#d8576b"
             ],
             [
              0.6666666666666666,
              "#ed7953"
             ],
             [
              0.7777777777777778,
              "#fb9f3a"
             ],
             [
              0.8888888888888888,
              "#fdca26"
             ],
             [
              1,
              "#f0f921"
             ]
            ],
            "type": "contour"
           }
          ],
          "contourcarpet": [
           {
            "colorbar": {
             "outlinewidth": 0,
             "ticks": ""
            },
            "type": "contourcarpet"
           }
          ],
          "heatmap": [
           {
            "colorbar": {
             "outlinewidth": 0,
             "ticks": ""
            },
            "colorscale": [
             [
              0,
              "#0d0887"
             ],
             [
              0.1111111111111111,
              "#46039f"
             ],
             [
              0.2222222222222222,
              "#7201a8"
             ],
             [
              0.3333333333333333,
              "#9c179e"
             ],
             [
              0.4444444444444444,
              "#bd3786"
             ],
             [
              0.5555555555555556,
              "#d8576b"
             ],
             [
              0.6666666666666666,
              "#ed7953"
             ],
             [
              0.7777777777777778,
              "#fb9f3a"
             ],
             [
              0.8888888888888888,
              "#fdca26"
             ],
             [
              1,
              "#f0f921"
             ]
            ],
            "type": "heatmap"
           }
          ],
          "heatmapgl": [
           {
            "colorbar": {
             "outlinewidth": 0,
             "ticks": ""
            },
            "colorscale": [
             [
              0,
              "#0d0887"
             ],
             [
              0.1111111111111111,
              "#46039f"
             ],
             [
              0.2222222222222222,
              "#7201a8"
             ],
             [
              0.3333333333333333,
              "#9c179e"
             ],
             [
              0.4444444444444444,
              "#bd3786"
             ],
             [
              0.5555555555555556,
              "#d8576b"
             ],
             [
              0.6666666666666666,
              "#ed7953"
             ],
             [
              0.7777777777777778,
              "#fb9f3a"
             ],
             [
              0.8888888888888888,
              "#fdca26"
             ],
             [
              1,
              "#f0f921"
             ]
            ],
            "type": "heatmapgl"
           }
          ],
          "histogram": [
           {
            "marker": {
             "pattern": {
              "fillmode": "overlay",
              "size": 10,
              "solidity": 0.2
             }
            },
            "type": "histogram"
           }
          ],
          "histogram2d": [
           {
            "colorbar": {
             "outlinewidth": 0,
             "ticks": ""
            },
            "colorscale": [
             [
              0,
              "#0d0887"
             ],
             [
              0.1111111111111111,
              "#46039f"
             ],
             [
              0.2222222222222222,
              "#7201a8"
             ],
             [
              0.3333333333333333,
              "#9c179e"
             ],
             [
              0.4444444444444444,
              "#bd3786"
             ],
             [
              0.5555555555555556,
              "#d8576b"
             ],
             [
              0.6666666666666666,
              "#ed7953"
             ],
             [
              0.7777777777777778,
              "#fb9f3a"
             ],
             [
              0.8888888888888888,
              "#fdca26"
             ],
             [
              1,
              "#f0f921"
             ]
            ],
            "type": "histogram2d"
           }
          ],
          "histogram2dcontour": [
           {
            "colorbar": {
             "outlinewidth": 0,
             "ticks": ""
            },
            "colorscale": [
             [
              0,
              "#0d0887"
             ],
             [
              0.1111111111111111,
              "#46039f"
             ],
             [
              0.2222222222222222,
              "#7201a8"
             ],
             [
              0.3333333333333333,
              "#9c179e"
             ],
             [
              0.4444444444444444,
              "#bd3786"
             ],
             [
              0.5555555555555556,
              "#d8576b"
             ],
             [
              0.6666666666666666,
              "#ed7953"
             ],
             [
              0.7777777777777778,
              "#fb9f3a"
             ],
             [
              0.8888888888888888,
              "#fdca26"
             ],
             [
              1,
              "#f0f921"
             ]
            ],
            "type": "histogram2dcontour"
           }
          ],
          "mesh3d": [
           {
            "colorbar": {
             "outlinewidth": 0,
             "ticks": ""
            },
            "type": "mesh3d"
           }
          ],
          "parcoords": [
           {
            "line": {
             "colorbar": {
              "outlinewidth": 0,
              "ticks": ""
             }
            },
            "type": "parcoords"
           }
          ],
          "pie": [
           {
            "automargin": true,
            "type": "pie"
           }
          ],
          "scatter": [
           {
            "marker": {
             "colorbar": {
              "outlinewidth": 0,
              "ticks": ""
             }
            },
            "type": "scatter"
           }
          ],
          "scatter3d": [
           {
            "line": {
             "colorbar": {
              "outlinewidth": 0,
              "ticks": ""
             }
            },
            "marker": {
             "colorbar": {
              "outlinewidth": 0,
              "ticks": ""
             }
            },
            "type": "scatter3d"
           }
          ],
          "scattercarpet": [
           {
            "marker": {
             "colorbar": {
              "outlinewidth": 0,
              "ticks": ""
             }
            },
            "type": "scattercarpet"
           }
          ],
          "scattergeo": [
           {
            "marker": {
             "colorbar": {
              "outlinewidth": 0,
              "ticks": ""
             }
            },
            "type": "scattergeo"
           }
          ],
          "scattergl": [
           {
            "marker": {
             "colorbar": {
              "outlinewidth": 0,
              "ticks": ""
             }
            },
            "type": "scattergl"
           }
          ],
          "scattermapbox": [
           {
            "marker": {
             "colorbar": {
              "outlinewidth": 0,
              "ticks": ""
             }
            },
            "type": "scattermapbox"
           }
          ],
          "scatterpolar": [
           {
            "marker": {
             "colorbar": {
              "outlinewidth": 0,
              "ticks": ""
             }
            },
            "type": "scatterpolar"
           }
          ],
          "scatterpolargl": [
           {
            "marker": {
             "colorbar": {
              "outlinewidth": 0,
              "ticks": ""
             }
            },
            "type": "scatterpolargl"
           }
          ],
          "scatterternary": [
           {
            "marker": {
             "colorbar": {
              "outlinewidth": 0,
              "ticks": ""
             }
            },
            "type": "scatterternary"
           }
          ],
          "surface": [
           {
            "colorbar": {
             "outlinewidth": 0,
             "ticks": ""
            },
            "colorscale": [
             [
              0,
              "#0d0887"
             ],
             [
              0.1111111111111111,
              "#46039f"
             ],
             [
              0.2222222222222222,
              "#7201a8"
             ],
             [
              0.3333333333333333,
              "#9c179e"
             ],
             [
              0.4444444444444444,
              "#bd3786"
             ],
             [
              0.5555555555555556,
              "#d8576b"
             ],
             [
              0.6666666666666666,
              "#ed7953"
             ],
             [
              0.7777777777777778,
              "#fb9f3a"
             ],
             [
              0.8888888888888888,
              "#fdca26"
             ],
             [
              1,
              "#f0f921"
             ]
            ],
            "type": "surface"
           }
          ],
          "table": [
           {
            "cells": {
             "fill": {
              "color": "#EBF0F8"
             },
             "line": {
              "color": "white"
             }
            },
            "header": {
             "fill": {
              "color": "#C8D4E3"
             },
             "line": {
              "color": "white"
             }
            },
            "type": "table"
           }
          ]
         },
         "layout": {
          "annotationdefaults": {
           "arrowcolor": "#2a3f5f",
           "arrowhead": 0,
           "arrowwidth": 1
          },
          "autotypenumbers": "strict",
          "coloraxis": {
           "colorbar": {
            "outlinewidth": 0,
            "ticks": ""
           }
          },
          "colorscale": {
           "diverging": [
            [
             0,
             "#8e0152"
            ],
            [
             0.1,
             "#c51b7d"
            ],
            [
             0.2,
             "#de77ae"
            ],
            [
             0.3,
             "#f1b6da"
            ],
            [
             0.4,
             "#fde0ef"
            ],
            [
             0.5,
             "#f7f7f7"
            ],
            [
             0.6,
             "#e6f5d0"
            ],
            [
             0.7,
             "#b8e186"
            ],
            [
             0.8,
             "#7fbc41"
            ],
            [
             0.9,
             "#4d9221"
            ],
            [
             1,
             "#276419"
            ]
           ],
           "sequential": [
            [
             0,
             "#0d0887"
            ],
            [
             0.1111111111111111,
             "#46039f"
            ],
            [
             0.2222222222222222,
             "#7201a8"
            ],
            [
             0.3333333333333333,
             "#9c179e"
            ],
            [
             0.4444444444444444,
             "#bd3786"
            ],
            [
             0.5555555555555556,
             "#d8576b"
            ],
            [
             0.6666666666666666,
             "#ed7953"
            ],
            [
             0.7777777777777778,
             "#fb9f3a"
            ],
            [
             0.8888888888888888,
             "#fdca26"
            ],
            [
             1,
             "#f0f921"
            ]
           ],
           "sequentialminus": [
            [
             0,
             "#0d0887"
            ],
            [
             0.1111111111111111,
             "#46039f"
            ],
            [
             0.2222222222222222,
             "#7201a8"
            ],
            [
             0.3333333333333333,
             "#9c179e"
            ],
            [
             0.4444444444444444,
             "#bd3786"
            ],
            [
             0.5555555555555556,
             "#d8576b"
            ],
            [
             0.6666666666666666,
             "#ed7953"
            ],
            [
             0.7777777777777778,
             "#fb9f3a"
            ],
            [
             0.8888888888888888,
             "#fdca26"
            ],
            [
             1,
             "#f0f921"
            ]
           ]
          },
          "colorway": [
           "#636efa",
           "#EF553B",
           "#00cc96",
           "#ab63fa",
           "#FFA15A",
           "#19d3f3",
           "#FF6692",
           "#B6E880",
           "#FF97FF",
           "#FECB52"
          ],
          "font": {
           "color": "#2a3f5f"
          },
          "geo": {
           "bgcolor": "white",
           "lakecolor": "white",
           "landcolor": "#E5ECF6",
           "showlakes": true,
           "showland": true,
           "subunitcolor": "white"
          },
          "hoverlabel": {
           "align": "left"
          },
          "hovermode": "closest",
          "mapbox": {
           "style": "light"
          },
          "paper_bgcolor": "white",
          "plot_bgcolor": "#E5ECF6",
          "polar": {
           "angularaxis": {
            "gridcolor": "white",
            "linecolor": "white",
            "ticks": ""
           },
           "bgcolor": "#E5ECF6",
           "radialaxis": {
            "gridcolor": "white",
            "linecolor": "white",
            "ticks": ""
           }
          },
          "scene": {
           "xaxis": {
            "backgroundcolor": "#E5ECF6",
            "gridcolor": "white",
            "gridwidth": 2,
            "linecolor": "white",
            "showbackground": true,
            "ticks": "",
            "zerolinecolor": "white"
           },
           "yaxis": {
            "backgroundcolor": "#E5ECF6",
            "gridcolor": "white",
            "gridwidth": 2,
            "linecolor": "white",
            "showbackground": true,
            "ticks": "",
            "zerolinecolor": "white"
           },
           "zaxis": {
            "backgroundcolor": "#E5ECF6",
            "gridcolor": "white",
            "gridwidth": 2,
            "linecolor": "white",
            "showbackground": true,
            "ticks": "",
            "zerolinecolor": "white"
           }
          },
          "shapedefaults": {
           "line": {
            "color": "#2a3f5f"
           }
          },
          "ternary": {
           "aaxis": {
            "gridcolor": "white",
            "linecolor": "white",
            "ticks": ""
           },
           "baxis": {
            "gridcolor": "white",
            "linecolor": "white",
            "ticks": ""
           },
           "bgcolor": "#E5ECF6",
           "caxis": {
            "gridcolor": "white",
            "linecolor": "white",
            "ticks": ""
           }
          },
          "title": {
           "x": 0.05
          },
          "xaxis": {
           "automargin": true,
           "gridcolor": "white",
           "linecolor": "white",
           "ticks": "",
           "title": {
            "standoff": 15
           },
           "zerolinecolor": "white",
           "zerolinewidth": 2
          },
          "yaxis": {
           "automargin": true,
           "gridcolor": "white",
           "linecolor": "white",
           "ticks": "",
           "title": {
            "standoff": 15
           },
           "zerolinecolor": "white",
           "zerolinewidth": 2
          }
         }
        }
       }
      }
     },
     "metadata": {},
     "output_type": "display_data"
    }
   ],
   "source": [
    "#  check the data for the entire planet\n",
    "fig = px.scatter_geo(world,\n",
    "                        locations='Country',\n",
    "                        locationmode='country names',\n",
    "                        color='Deaths',\n",
    "                        hover_name='Country',\n",
    "                        hover_data=['Cases', 'Active', 'Recovered', 'Deaths'],\n",
    "                        size='Deaths',\n",
    "                        size_max=50,\n",
    "                        range_color=(0, 1000),  # set the range of the color scale\n",
    "                        projection='natural earth')\n",
    "\n",
    "fig.show()\n"
   ]
  },
  {
   "cell_type": "code",
   "execution_count": 56,
   "metadata": {},
   "outputs": [
    {
     "data": {
      "image/png": "[encoded data removed]",
      "text/plain": [
       "<Figure size 864x576 with 1 Axes>"
      ]
     },
     "metadata": {},
     "output_type": "display_data"
    }
   ],
   "source": [
    "# make a barplot of the top 10 countries with the most deaths\n",
    "plt.figure(figsize=(12, 8))\n",
    "sns.barplot(x='Country', y='Deaths', data=world.sort_values(by='Deaths', ascending=False).head(10))\n",
    "plt.show()"
   ]
  },
  {
   "cell_type": "code",
   "execution_count": 57,
   "metadata": {},
   "outputs": [],
   "source": [
    "top_ten = world.sort_values(by='Deaths', ascending=False).head(10)"
   ]
  },
  {
   "cell_type": "code",
   "execution_count": 58,
   "metadata": {},
   "outputs": [
    {
     "data": {
      "text/html": [
       "<div>\n",
       "<style scoped>\n",
       "    .dataframe tbody tr th:only-of-type {\n",
       "        vertical-align: middle;\n",
       "    }\n",
       "\n",
       "    .dataframe tbody tr th {\n",
       "        vertical-align: top;\n",
       "    }\n",
       "\n",
       "    .dataframe thead th {\n",
       "        text-align: right;\n",
       "    }\n",
       "</style>\n",
       "<table border=\"1\" class=\"dataframe\">\n",
       "  <thead>\n",
       "    <tr style=\"text-align: right;\">\n",
       "      <th></th>\n",
       "      <th>Country</th>\n",
       "      <th>Cases</th>\n",
       "      <th>Active</th>\n",
       "      <th>Recovered</th>\n",
       "      <th>Deaths</th>\n",
       "    </tr>\n",
       "  </thead>\n",
       "  <tbody>\n",
       "    <tr>\n",
       "      <th>23</th>\n",
       "      <td>Brazil</td>\n",
       "      <td>16391930</td>\n",
       "      <td>1440184.0</td>\n",
       "      <td>14492701.0</td>\n",
       "      <td>459045</td>\n",
       "    </tr>\n",
       "    <tr>\n",
       "      <th>79</th>\n",
       "      <td>India</td>\n",
       "      <td>27729247</td>\n",
       "      <td>2228724.0</td>\n",
       "      <td>25178011.0</td>\n",
       "      <td>322512</td>\n",
       "    </tr>\n",
       "    <tr>\n",
       "      <th>115</th>\n",
       "      <td>Mexico</td>\n",
       "      <td>2408778</td>\n",
       "      <td>261962.0</td>\n",
       "      <td>1923744.0</td>\n",
       "      <td>223072</td>\n",
       "    </tr>\n",
       "    <tr>\n",
       "      <th>138</th>\n",
       "      <td>Peru</td>\n",
       "      <td>1942054</td>\n",
       "      <td>-19556.0</td>\n",
       "      <td>1892794.0</td>\n",
       "      <td>182556</td>\n",
       "    </tr>\n",
       "    <tr>\n",
       "      <th>184</th>\n",
       "      <td>United Kingdom</td>\n",
       "      <td>4493582</td>\n",
       "      <td>4350072.0</td>\n",
       "      <td>15480.0</td>\n",
       "      <td>128030</td>\n",
       "    </tr>\n",
       "    <tr>\n",
       "      <th>85</th>\n",
       "      <td>Italy</td>\n",
       "      <td>4209707</td>\n",
       "      <td>246270.0</td>\n",
       "      <td>3837518.0</td>\n",
       "      <td>125919</td>\n",
       "    </tr>\n",
       "    <tr>\n",
       "      <th>144</th>\n",
       "      <td>Russia</td>\n",
       "      <td>4986458</td>\n",
       "      <td>260796.0</td>\n",
       "      <td>4607276.0</td>\n",
       "      <td>118386</td>\n",
       "    </tr>\n",
       "    <tr>\n",
       "      <th>62</th>\n",
       "      <td>France</td>\n",
       "      <td>5708350</td>\n",
       "      <td>5208702.0</td>\n",
       "      <td>390196.0</td>\n",
       "      <td>109455</td>\n",
       "    </tr>\n",
       "    <tr>\n",
       "      <th>66</th>\n",
       "      <td>Germany</td>\n",
       "      <td>3680159</td>\n",
       "      <td>119149.0</td>\n",
       "      <td>3472650.0</td>\n",
       "      <td>88360</td>\n",
       "    </tr>\n",
       "    <tr>\n",
       "      <th>37</th>\n",
       "      <td>Colombia</td>\n",
       "      <td>3342567</td>\n",
       "      <td>133472.0</td>\n",
       "      <td>3121888.0</td>\n",
       "      <td>87207</td>\n",
       "    </tr>\n",
       "  </tbody>\n",
       "</table>\n",
       "</div>"
      ],
      "text/plain": [
       "            Country     Cases     Active   Recovered  Deaths\n",
       "23           Brazil  16391930  1440184.0  14492701.0  459045\n",
       "79            India  27729247  2228724.0  25178011.0  322512\n",
       "115          Mexico   2408778   261962.0   1923744.0  223072\n",
       "138            Peru   1942054   -19556.0   1892794.0  182556\n",
       "184  United Kingdom   4493582  4350072.0     15480.0  128030\n",
       "85            Italy   4209707   246270.0   3837518.0  125919\n",
       "144          Russia   4986458   260796.0   4607276.0  118386\n",
       "62           France   5708350  5208702.0    390196.0  109455\n",
       "66          Germany   3680159   119149.0   3472650.0   88360\n",
       "37         Colombia   3342567   133472.0   3121888.0   87207"
      ]
     },
     "execution_count": 58,
     "metadata": {},
     "output_type": "execute_result"
    }
   ],
   "source": [
    "top_ten"
   ]
  },
  {
   "cell_type": "code",
   "execution_count": 59,
   "metadata": {},
   "outputs": [
    {
     "data": {
      "text/plain": [
       "<AxesSubplot:title={'center':'Top 10 Countries with the most deaths'}>"
      ]
     },
     "execution_count": 59,
     "metadata": {},
     "output_type": "execute_result"
    },
    {
     "data": {
      "image/png": "[encoded data removed]",
      "text/plain": [
       "<Figure size 864x576 with 1 Axes>"
      ]
     },
     "metadata": {},
     "output_type": "display_data"
    }
   ],
   "source": [
    "top_ten.plot(kind='bar', figsize=(12, 8), title='Top 10 Countries with the most deaths')"
   ]
  },
  {
   "cell_type": "code",
   "execution_count": 60,
   "metadata": {},
   "outputs": [
    {
     "data": {
      "image/png": "[encoded data removed]",
      "text/plain": [
       "<Figure size 864x576 with 1 Axes>"
      ]
     },
     "metadata": {},
     "output_type": "display_data"
    }
   ],
   "source": [
    "plt.figure(figsize=(12, 8))\n",
    "plot = sns.barplot(x='Deaths', y='Country', data=top_ten)\n",
    "for i, (value, name) in enumerate(zip(top_ten['Deaths'], top_ten['Country'])):\n",
    "    plot.text(value, i-0.05, f\"{value:,.0f}\", size=12, color='black')\n",
    "\n",
    "plt.show()"
   ]
  },
  {
   "cell_type": "code",
   "execution_count": 61,
   "metadata": {},
   "outputs": [],
   "source": [
    "top_five = world.sort_values(by='Deaths', ascending=False).head(5)"
   ]
  },
  {
   "cell_type": "code",
   "execution_count": 62,
   "metadata": {},
   "outputs": [
    {
     "data": {
      "text/html": [
       "<div>\n",
       "<style scoped>\n",
       "    .dataframe tbody tr th:only-of-type {\n",
       "        vertical-align: middle;\n",
       "    }\n",
       "\n",
       "    .dataframe tbody tr th {\n",
       "        vertical-align: top;\n",
       "    }\n",
       "\n",
       "    .dataframe thead th {\n",
       "        text-align: right;\n",
       "    }\n",
       "</style>\n",
       "<table border=\"1\" class=\"dataframe\">\n",
       "  <thead>\n",
       "    <tr style=\"text-align: right;\">\n",
       "      <th></th>\n",
       "      <th>Country</th>\n",
       "      <th>Cases</th>\n",
       "      <th>Active</th>\n",
       "      <th>Recovered</th>\n",
       "      <th>Deaths</th>\n",
       "    </tr>\n",
       "  </thead>\n",
       "  <tbody>\n",
       "    <tr>\n",
       "      <th>23</th>\n",
       "      <td>Brazil</td>\n",
       "      <td>16391930</td>\n",
       "      <td>1440184.0</td>\n",
       "      <td>14492701.0</td>\n",
       "      <td>459045</td>\n",
       "    </tr>\n",
       "    <tr>\n",
       "      <th>79</th>\n",
       "      <td>India</td>\n",
       "      <td>27729247</td>\n",
       "      <td>2228724.0</td>\n",
       "      <td>25178011.0</td>\n",
       "      <td>322512</td>\n",
       "    </tr>\n",
       "    <tr>\n",
       "      <th>115</th>\n",
       "      <td>Mexico</td>\n",
       "      <td>2408778</td>\n",
       "      <td>261962.0</td>\n",
       "      <td>1923744.0</td>\n",
       "      <td>223072</td>\n",
       "    </tr>\n",
       "    <tr>\n",
       "      <th>138</th>\n",
       "      <td>Peru</td>\n",
       "      <td>1942054</td>\n",
       "      <td>-19556.0</td>\n",
       "      <td>1892794.0</td>\n",
       "      <td>182556</td>\n",
       "    </tr>\n",
       "    <tr>\n",
       "      <th>184</th>\n",
       "      <td>United Kingdom</td>\n",
       "      <td>4493582</td>\n",
       "      <td>4350072.0</td>\n",
       "      <td>15480.0</td>\n",
       "      <td>128030</td>\n",
       "    </tr>\n",
       "  </tbody>\n",
       "</table>\n",
       "</div>"
      ],
      "text/plain": [
       "            Country     Cases     Active   Recovered  Deaths\n",
       "23           Brazil  16391930  1440184.0  14492701.0  459045\n",
       "79            India  27729247  2228724.0  25178011.0  322512\n",
       "115          Mexico   2408778   261962.0   1923744.0  223072\n",
       "138            Peru   1942054   -19556.0   1892794.0  182556\n",
       "184  United Kingdom   4493582  4350072.0     15480.0  128030"
      ]
     },
     "execution_count": 62,
     "metadata": {},
     "output_type": "execute_result"
    }
   ],
   "source": [
    "top_five"
   ]
  },
  {
   "cell_type": "code",
   "execution_count": 64,
   "metadata": {},
   "outputs": [
    {
     "name": "stderr",
     "output_type": "stream",
     "text": [
      "No handles with labels found to put in legend.\n"
     ]
    },
    {
     "data": {
      "image/png": "[encoded data removed]",
      "text/plain": [
       "<Figure size 864x576 with 1 Axes>"
      ]
     },
     "metadata": {},
     "output_type": "display_data"
    }
   ],
   "source": [
    "plt.figure(figsize=(12, 8))\n",
    "sns.barplot(x='Deaths', y='Country', data=top_five)\n",
    "for i, (value, name) in enumerate(zip(top_five['Deaths'], top_five['Country'])):\n",
    "    plt.text(value, i-0.05, f\"{value:,.0f}\", size=12, color='black')\n",
    "\n",
    "plt.legend(loc='upper left')\n",
    "plt.show()"
   ]
  },
  {
   "cell_type": "code",
   "execution_count": 67,
   "metadata": {},
   "outputs": [
    {
     "data": {
      "application/vnd.plotly.v1+json": {
       "config": {
        "plotlyServerURL": "https://plot.ly"
       },
       "data": [
        {
         "coloraxis": "coloraxis",
         "geo": "geo",
         "hovertemplate": "<b>%{hovertext}</b><br><br>Country=%{location}<br>Cases=%{z}<extra></extra>",
         "hovertext": [
          "India",
          "Brazil",
          "France",
          "Turkey",
          "Russia",
          "United Kingdom",
          "Italy",
          "Argentina",
          "Germany",
          "Spain",
          "Colombia",
          "Iran",
          "Poland",
          "Mexico",
          "Ukraine",
          "Peru",
          "Indonesia",
          "Netherlands",
          "Czechia",
          "South Africa",
          "Canada",
          "Chile",
          "Philippines",
          "Iraq",
          "Romania",
          "Sweden",
          "Belgium",
          "Pakistan",
          "Portugal",
          "Israel",
          "Hungary",
          "Bangladesh",
          "Japan",
          "Jordan",
          "Serbia",
          "Switzerland",
          "Austria",
          "United Arab Emirates",
          "Malaysia",
          "Nepal",
          "Lebanon",
          "Morocco",
          "Saudi Arabia",
          "Kazakhstan",
          "Ecuador",
          "Bulgaria",
          "Greece",
          "Belarus",
          "Slovakia",
          "Panama",
          "Bolivia",
          "Croatia",
          "Paraguay",
          "Tunisia",
          "Georgia",
          "Azerbaijan",
          "Costa Rica",
          "West Bank and Gaza",
          "Kuwait",
          "Dominican Republic",
          "Uruguay",
          "Denmark",
          "Lithuania",
          "Ethiopia",
          "Ireland",
          "Egypt",
          "Moldova",
          "Slovenia",
          "Guatemala",
          "Honduras",
          "Bahrain",
          "Venezuela",
          "Armenia",
          "Qatar",
          "Oman",
          "Bosnia and Herzegovina",
          "Libya",
          "Sri Lanka",
          "Kenya",
          "Nigeria",
          "North Macedonia",
          "Thailand",
          "Burma",
          "Korea, South",
          "Cuba",
          "Latvia",
          "Albania",
          "Estonia",
          "Algeria",
          "Norway",
          "Kosovo",
          "Kyrgyzstan",
          "China",
          "Uzbekistan",
          "Montenegro",
          "Zambia",
          "Ghana",
          "Finland",
          "Cameroon",
          "Cyprus",
          "El Salvador",
          "Mozambique",
          "Luxembourg",
          "Afghanistan",
          "Singapore",
          "Maldives",
          "Mongolia",
          "Namibia",
          "Botswana",
          "Jamaica",
          "Cote d'Ivoire",
          "Uganda",
          "Senegal",
          "Madagascar",
          "Zimbabwe",
          "Sudan",
          "Malawi",
          "Angola",
          "Congo (Kinshasa)",
          "Malta",
          "Cabo Verde",
          "Australia",
          "Cambodia",
          "Rwanda",
          "Syria",
          "Gabon",
          "Guinea",
          "Trinidad and Tobago",
          "Mauritania",
          "Eswatini",
          "Guyana",
          "Papua New Guinea",
          "Somalia",
          "Suriname",
          "Mali",
          "Haiti",
          "Tajikistan",
          "Andorra",
          "Togo",
          "Burkina Faso",
          "Belize",
          "Bahamas",
          "Congo (Brazzaville)",
          "Djibouti",
          "Seychelles",
          "Lesotho",
          "South Sudan",
          "Equatorial Guinea",
          "Benin",
          "Nicaragua",
          "Taiwan*",
          "Central African Republic",
          "Yemen",
          "Timor-Leste",
          "Iceland",
          "Vietnam",
          "Gambia",
          "Niger",
          "San Marino",
          "Saint Lucia",
          "Chad",
          "Burundi",
          "Sierra Leone",
          "Eritrea",
          "Barbados",
          "Comoros",
          "Guinea-Bissau",
          "Liechtenstein",
          "New Zealand",
          "Monaco",
          "Sao Tome and Principe",
          "Liberia",
          "Saint Vincent and the Grenadines",
          "Laos",
          "Bhutan",
          "Mauritius",
          "Antigua and Barbuda",
          "Diamond Princess",
          "Tanzania",
          "Fiji",
          "Brunei",
          "Dominica",
          "Grenada",
          "Saint Kitts and Nevis",
          "Holy See",
          "Solomon Islands",
          "MS Zaandam",
          "Marshall Islands",
          "Vanuatu",
          "Samoa",
          "Kiribati",
          "Micronesia",
          "Palau",
          "Summer Olympics 2020"
         ],
         "locationmode": "country names",
         "locations": [
          "India",
          "Brazil",
          "France",
          "Turkey",
          "Russia",
          "United Kingdom",
          "Italy",
          "Argentina",
          "Germany",
          "Spain",
          "Colombia",
          "Iran",
          "Poland",
          "Mexico",
          "Ukraine",
          "Peru",
          "Indonesia",
          "Netherlands",
          "Czechia",
          "South Africa",
          "Canada",
          "Chile",
          "Philippines",
          "Iraq",
          "Romania",
          "Sweden",
          "Belgium",
          "Pakistan",
          "Portugal",
          "Israel",
          "Hungary",
          "Bangladesh",
          "Japan",
          "Jordan",
          "Serbia",
          "Switzerland",
          "Austria",
          "United Arab Emirates",
          "Malaysia",
          "Nepal",
          "Lebanon",
          "Morocco",
          "Saudi Arabia",
          "Kazakhstan",
          "Ecuador",
          "Bulgaria",
          "Greece",
          "Belarus",
          "Slovakia",
          "Panama",
          "Bolivia",
          "Croatia",
          "Paraguay",
          "Tunisia",
          "Georgia",
          "Azerbaijan",
          "Costa Rica",
          "West Bank and Gaza",
          "Kuwait",
          "Dominican Republic",
          "Uruguay",
          "Denmark",
          "Lithuania",
          "Ethiopia",
          "Ireland",
          "Egypt",
          "Moldova",
          "Slovenia",
          "Guatemala",
          "Honduras",
          "Bahrain",
          "Venezuela",
          "Armenia",
          "Qatar",
          "Oman",
          "Bosnia and Herzegovina",
          "Libya",
          "Sri Lanka",
          "Kenya",
          "Nigeria",
          "North Macedonia",
          "Thailand",
          "Burma",
          "Korea, South",
          "Cuba",
          "Latvia",
          "Albania",
          "Estonia",
          "Algeria",
          "Norway",
          "Kosovo",
          "Kyrgyzstan",
          "China",
          "Uzbekistan",
          "Montenegro",
          "Zambia",
          "Ghana",
          "Finland",
          "Cameroon",
          "Cyprus",
          "El Salvador",
          "Mozambique",
          "Luxembourg",
          "Afghanistan",
          "Singapore",
          "Maldives",
          "Mongolia",
          "Namibia",
          "Botswana",
          "Jamaica",
          "Cote d'Ivoire",
          "Uganda",
          "Senegal",
          "Madagascar",
          "Zimbabwe",
          "Sudan",
          "Malawi",
          "Angola",
          "Congo (Kinshasa)",
          "Malta",
          "Cabo Verde",
          "Australia",
          "Cambodia",
          "Rwanda",
          "Syria",
          "Gabon",
          "Guinea",
          "Trinidad and Tobago",
          "Mauritania",
          "Eswatini",
          "Guyana",
          "Papua New Guinea",
          "Somalia",
          "Suriname",
          "Mali",
          "Haiti",
          "Tajikistan",
          "Andorra",
          "Togo",
          "Burkina Faso",
          "Belize",
          "Bahamas",
          "Congo (Brazzaville)",
          "Djibouti",
          "Seychelles",
          "Lesotho",
          "South Sudan",
          "Equatorial Guinea",
          "Benin",
          "Nicaragua",
          "Taiwan*",
          "Central African Republic",
          "Yemen",
          "Timor-Leste",
          "Iceland",
          "Vietnam",
          "Gambia",
          "Niger",
          "San Marino",
          "Saint Lucia",
          "Chad",
          "Burundi",
          "Sierra Leone",
          "Eritrea",
          "Barbados",
          "Comoros",
          "Guinea-Bissau",
          "Liechtenstein",
          "New Zealand",
          "Monaco",
          "Sao Tome and Principe",
          "Liberia",
          "Saint Vincent and the Grenadines",
          "Laos",
          "Bhutan",
          "Mauritius",
          "Antigua and Barbuda",
          "Diamond Princess",
          "Tanzania",
          "Fiji",
          "Brunei",
          "Dominica",
          "Grenada",
          "Saint Kitts and Nevis",
          "Holy See",
          "Solomon Islands",
          "MS Zaandam",
          "Marshall Islands",
          "Vanuatu",
          "Samoa",
          "Kiribati",
          "Micronesia",
          "Palau",
          "Summer Olympics 2020"
         ],
         "name": "",
         "type": "choropleth",
         "z": [
          27729247,
          16391930,
          5708350,
          5228322,
          4986458,
          4493582,
          4209707,
          3702422,
          3680159,
          3668658,
          3342567,
          2886111,
          2870595,
          2408778,
          2254674,
          1942054,
          1803361,
          1668581,
          1660481,
          1654551,
          1382769,
          1361381,
          1209154,
          1190351,
          1077161,
          1068473,
          1057903,
          916239,
          847604,
          839433,
          803567,
          796343,
          738935,
          734659,
          711772,
          693023,
          643709,
          565451,
          549514,
          549111,
          539888,
          518458,
          447178,
          438619,
          423165,
          418106,
          398898,
          391637,
          389440,
          376854,
          364570,
          355617,
          348184,
          341952,
          341894,
          333559,
          314102,
          307569,
          305583,
          289288,
          282198,
          279139,
          273346,
          270944,
          260850,
          259540,
          255060,
          253140,
          252929,
          236451,
          232425,
          230147,
          222513,
          216885,
          213784,
          203839,
          184815,
          177711,
          170041,
          166254,
          155217,
          147039,
          143486,
          139431,
          138899,
          132612,
          132285,
          129297,
          128198,
          124410,
          106946,
          103866,
          102948,
          99580,
          99518,
          94430,
          93775,
          92244,
          77982,
          73310,
          73246,
          70697,
          69830,
          69130,
          61970,
          61844,
          56621,
          54268,
          53771,
          48288,
          47195,
          45231,
          41296,
          41184,
          38918,
          35289,
          34323,
          33944,
          31386,
          30526,
          30122,
          30083,
          28237,
          26878,
          24410,
          24365,
          23110,
          22620,
          19407,
          18587,
          16724,
          15772,
          14647,
          14305,
          14262,
          14037,
          13714,
          13693,
          13432,
          13424,
          12791,
          11684,
          11658,
          11523,
          11112,
          10825,
          10688,
          8476,
          8058,
          7324,
          7315,
          7085,
          6723,
          6622,
          6564,
          6396,
          5990,
          5406,
          5090,
          5035,
          4927,
          4669,
          4140,
          4022,
          4009,
          3879,
          3760,
          3098,
          2671,
          2503,
          2344,
          2174,
          2014,
          1905,
          1503,
          1356,
          1259,
          712,
          509,
          360,
          241,
          188,
          161,
          68,
          27,
          20,
          9,
          4,
          4,
          3,
          2,
          1,
          0,
          0
         ]
        }
       ],
       "layout": {
        "coloraxis": {
         "cmax": 1000,
         "cmin": 0,
         "colorbar": {
          "title": {
           "text": "Cases"
          }
         },
         "colorscale": [
          [
           0,
           "#440154"
          ],
          [
           0.1111111111111111,
           "#482878"
          ],
          [
           0.2222222222222222,
           "#3e4989"
          ],
          [
           0.3333333333333333,
           "#31688e"
          ],
          [
           0.4444444444444444,
           "#26828e"
          ],
          [
           0.5555555555555556,
           "#1f9e89"
          ],
          [
           0.6666666666666666,
           "#35b779"
          ],
          [
           0.7777777777777778,
           "#6ece58"
          ],
          [
           0.8888888888888888,
           "#b5de2b"
          ],
          [
           1,
           "#fde725"
          ]
         ]
        },
        "geo": {
         "center": {},
         "domain": {
          "x": [
           0,
           1
          ],
          "y": [
           0,
           1
          ]
         }
        },
        "legend": {
         "tracegroupgap": 0
        },
        "template": {
         "data": {
          "bar": [
           {
            "error_x": {
             "color": "#2a3f5f"
            },
            "error_y": {
             "color": "#2a3f5f"
            },
            "marker": {
             "line": {
              "color": "#E5ECF6",
              "width": 0.5
             },
             "pattern": {
              "fillmode": "overlay",
              "size": 10,
              "solidity": 0.2
             }
            },
            "type": "bar"
           }
          ],
          "barpolar": [
           {
            "marker": {
             "line": {
              "color": "#E5ECF6",
              "width": 0.5
             },
             "pattern": {
              "fillmode": "overlay",
              "size": 10,
              "solidity": 0.2
             }
            },
            "type": "barpolar"
           }
          ],
          "carpet": [
           {
            "aaxis": {
             "endlinecolor": "#2a3f5f",
             "gridcolor": "white",
             "linecolor": "white",
             "minorgridcolor": "white",
             "startlinecolor": "#2a3f5f"
            },
            "baxis": {
             "endlinecolor": "#2a3f5f",
             "gridcolor": "white",
             "linecolor": "white",
             "minorgridcolor": "white",
             "startlinecolor": "#2a3f5f"
            },
            "type": "carpet"
           }
          ],
          "choropleth": [
           {
            "colorbar": {
             "outlinewidth": 0,
             "ticks": ""
            },
            "type": "choropleth"
           }
          ],
          "contour": [
           {
            "colorbar": {
             "outlinewidth": 0,
             "ticks": ""
            },
            "colorscale": [
             [
              0,
              "#0d0887"
             ],
             [
              0.1111111111111111,
              "#46039f"
             ],
             [
              0.2222222222222222,
              "#7201a8"
             ],
             [
              0.3333333333333333,
              "#9c179e"
             ],
             [
              0.4444444444444444,
              "#bd3786"
             ],
             [
              0.5555555555555556,
              "#d8576b"
             ],
             [
              0.6666666666666666,
              "#ed7953"
             ],
             [
              0.7777777777777778,
              "#fb9f3a"
             ],
             [
              0.8888888888888888,
              "#fdca26"
             ],
             [
              1,
              "#f0f921"
             ]
            ],
            "type": "contour"
           }
          ],
          "contourcarpet": [
           {
            "colorbar": {
             "outlinewidth": 0,
             "ticks": ""
            },
            "type": "contourcarpet"
           }
          ],
          "heatmap": [
           {
            "colorbar": {
             "outlinewidth": 0,
             "ticks": ""
            },
            "colorscale": [
             [
              0,
              "#0d0887"
             ],
             [
              0.1111111111111111,
              "#46039f"
             ],
             [
              0.2222222222222222,
              "#7201a8"
             ],
             [
              0.3333333333333333,
              "#9c179e"
             ],
             [
              0.4444444444444444,
              "#bd3786"
             ],
             [
              0.5555555555555556,
              "#d8576b"
             ],
             [
              0.6666666666666666,
              "#ed7953"
             ],
             [
              0.7777777777777778,
              "#fb9f3a"
             ],
             [
              0.8888888888888888,
              "#fdca26"
             ],
             [
              1,
              "#f0f921"
             ]
            ],
            "type": "heatmap"
           }
          ],
          "heatmapgl": [
           {
            "colorbar": {
             "outlinewidth": 0,
             "ticks": ""
            },
            "colorscale": [
             [
              0,
              "#0d0887"
             ],
             [
              0.1111111111111111,
              "#46039f"
             ],
             [
              0.2222222222222222,
              "#7201a8"
             ],
             [
              0.3333333333333333,
              "#9c179e"
             ],
             [
              0.4444444444444444,
              "#bd3786"
             ],
             [
              0.5555555555555556,
              "#d8576b"
             ],
             [
              0.6666666666666666,
              "#ed7953"
             ],
             [
              0.7777777777777778,
              "#fb9f3a"
             ],
             [
              0.8888888888888888,
              "#fdca26"
             ],
             [
              1,
              "#f0f921"
             ]
            ],
            "type": "heatmapgl"
           }
          ],
          "histogram": [
           {
            "marker": {
             "pattern": {
              "fillmode": "overlay",
              "size": 10,
              "solidity": 0.2
             }
            },
            "type": "histogram"
           }
          ],
          "histogram2d": [
           {
            "colorbar": {
             "outlinewidth": 0,
             "ticks": ""
            },
            "colorscale": [
             [
              0,
              "#0d0887"
             ],
             [
              0.1111111111111111,
              "#46039f"
             ],
             [
              0.2222222222222222,
              "#7201a8"
             ],
             [
              0.3333333333333333,
              "#9c179e"
             ],
             [
              0.4444444444444444,
              "#bd3786"
             ],
             [
              0.5555555555555556,
              "#d8576b"
             ],
             [
              0.6666666666666666,
              "#ed7953"
             ],
             [
              0.7777777777777778,
              "#fb9f3a"
             ],
             [
              0.8888888888888888,
              "#fdca26"
             ],
             [
              1,
              "#f0f921"
             ]
            ],
            "type": "histogram2d"
           }
          ],
          "histogram2dcontour": [
           {
            "colorbar": {
             "outlinewidth": 0,
             "ticks": ""
            },
            "colorscale": [
             [
              0,
              "#0d0887"
             ],
             [
              0.1111111111111111,
              "#46039f"
             ],
             [
              0.2222222222222222,
              "#7201a8"
             ],
             [
              0.3333333333333333,
              "#9c179e"
             ],
             [
              0.4444444444444444,
              "#bd3786"
             ],
             [
              0.5555555555555556,
              "#d8576b"
             ],
             [
              0.6666666666666666,
              "#ed7953"
             ],
             [
              0.7777777777777778,
              "#fb9f3a"
             ],
             [
              0.8888888888888888,
              "#fdca26"
             ],
             [
              1,
              "#f0f921"
             ]
            ],
            "type": "histogram2dcontour"
           }
          ],
          "mesh3d": [
           {
            "colorbar": {
             "outlinewidth": 0,
             "ticks": ""
            },
            "type": "mesh3d"
           }
          ],
          "parcoords": [
           {
            "line": {
             "colorbar": {
              "outlinewidth": 0,
              "ticks": ""
             }
            },
            "type": "parcoords"
           }
          ],
          "pie": [
           {
            "automargin": true,
            "type": "pie"
           }
          ],
          "scatter": [
           {
            "marker": {
             "colorbar": {
              "outlinewidth": 0,
              "ticks": ""
             }
            },
            "type": "scatter"
           }
          ],
          "scatter3d": [
           {
            "line": {
             "colorbar": {
              "outlinewidth": 0,
              "ticks": ""
             }
            },
            "marker": {
             "colorbar": {
              "outlinewidth": 0,
              "ticks": ""
             }
            },
            "type": "scatter3d"
           }
          ],
          "scattercarpet": [
           {
            "marker": {
             "colorbar": {
              "outlinewidth": 0,
              "ticks": ""
             }
            },
            "type": "scattercarpet"
           }
          ],
          "scattergeo": [
           {
            "marker": {
             "colorbar": {
              "outlinewidth": 0,
              "ticks": ""
             }
            },
            "type": "scattergeo"
           }
          ],
          "scattergl": [
           {
            "marker": {
             "colorbar": {
              "outlinewidth": 0,
              "ticks": ""
             }
            },
            "type": "scattergl"
           }
          ],
          "scattermapbox": [
           {
            "marker": {
             "colorbar": {
              "outlinewidth": 0,
              "ticks": ""
             }
            },
            "type": "scattermapbox"
           }
          ],
          "scatterpolar": [
           {
            "marker": {
             "colorbar": {
              "outlinewidth": 0,
              "ticks": ""
             }
            },
            "type": "scatterpolar"
           }
          ],
          "scatterpolargl": [
           {
            "marker": {
             "colorbar": {
              "outlinewidth": 0,
              "ticks": ""
             }
            },
            "type": "scatterpolargl"
           }
          ],
          "scatterternary": [
           {
            "marker": {
             "colorbar": {
              "outlinewidth": 0,
              "ticks": ""
             }
            },
            "type": "scatterternary"
           }
          ],
          "surface": [
           {
            "colorbar": {
             "outlinewidth": 0,
             "ticks": ""
            },
            "colorscale": [
             [
              0,
              "#0d0887"
             ],
             [
              0.1111111111111111,
              "#46039f"
             ],
             [
              0.2222222222222222,
              "#7201a8"
             ],
             [
              0.3333333333333333,
              "#9c179e"
             ],
             [
              0.4444444444444444,
              "#bd3786"
             ],
             [
              0.5555555555555556,
              "#d8576b"
             ],
             [
              0.6666666666666666,
              "#ed7953"
             ],
             [
              0.7777777777777778,
              "#fb9f3a"
             ],
             [
              0.8888888888888888,
              "#fdca26"
             ],
             [
              1,
              "#f0f921"
             ]
            ],
            "type": "surface"
           }
          ],
          "table": [
           {
            "cells": {
             "fill": {
              "color": "#EBF0F8"
             },
             "line": {
              "color": "white"
             }
            },
            "header": {
             "fill": {
              "color": "#C8D4E3"
             },
             "line": {
              "color": "white"
             }
            },
            "type": "table"
           }
          ]
         },
         "layout": {
          "annotationdefaults": {
           "arrowcolor": "#2a3f5f",
           "arrowhead": 0,
           "arrowwidth": 1
          },
          "autotypenumbers": "strict",
          "coloraxis": {
           "colorbar": {
            "outlinewidth": 0,
            "ticks": ""
           }
          },
          "colorscale": {
           "diverging": [
            [
             0,
             "#8e0152"
            ],
            [
             0.1,
             "#c51b7d"
            ],
            [
             0.2,
             "#de77ae"
            ],
            [
             0.3,
             "#f1b6da"
            ],
            [
             0.4,
             "#fde0ef"
            ],
            [
             0.5,
             "#f7f7f7"
            ],
            [
             0.6,
             "#e6f5d0"
            ],
            [
             0.7,
             "#b8e186"
            ],
            [
             0.8,
             "#7fbc41"
            ],
            [
             0.9,
             "#4d9221"
            ],
            [
             1,
             "#276419"
            ]
           ],
           "sequential": [
            [
             0,
             "#0d0887"
            ],
            [
             0.1111111111111111,
             "#46039f"
            ],
            [
             0.2222222222222222,
             "#7201a8"
            ],
            [
             0.3333333333333333,
             "#9c179e"
            ],
            [
             0.4444444444444444,
             "#bd3786"
            ],
            [
             0.5555555555555556,
             "#d8576b"
            ],
            [
             0.6666666666666666,
             "#ed7953"
            ],
            [
             0.7777777777777778,
             "#fb9f3a"
            ],
            [
             0.8888888888888888,
             "#fdca26"
            ],
            [
             1,
             "#f0f921"
            ]
           ],
           "sequentialminus": [
            [
             0,
             "#0d0887"
            ],
            [
             0.1111111111111111,
             "#46039f"
            ],
            [
             0.2222222222222222,
             "#7201a8"
            ],
            [
             0.3333333333333333,
             "#9c179e"
            ],
            [
             0.4444444444444444,
             "#bd3786"
            ],
            [
             0.5555555555555556,
             "#d8576b"
            ],
            [
             0.6666666666666666,
             "#ed7953"
            ],
            [
             0.7777777777777778,
             "#fb9f3a"
            ],
            [
             0.8888888888888888,
             "#fdca26"
            ],
            [
             1,
             "#f0f921"
            ]
           ]
          },
          "colorway": [
           "#636efa",
           "#EF553B",
           "#00cc96",
           "#ab63fa",
           "#FFA15A",
           "#19d3f3",
           "#FF6692",
           "#B6E880",
           "#FF97FF",
           "#FECB52"
          ],
          "font": {
           "color": "#2a3f5f"
          },
          "geo": {
           "bgcolor": "white",
           "lakecolor": "white",
           "landcolor": "#E5ECF6",
           "showlakes": true,
           "showland": true,
           "subunitcolor": "white"
          },
          "hoverlabel": {
           "align": "left"
          },
          "hovermode": "closest",
          "mapbox": {
           "style": "light"
          },
          "paper_bgcolor": "white",
          "plot_bgcolor": "#E5ECF6",
          "polar": {
           "angularaxis": {
            "gridcolor": "white",
            "linecolor": "white",
            "ticks": ""
           },
           "bgcolor": "#E5ECF6",
           "radialaxis": {
            "gridcolor": "white",
            "linecolor": "white",
            "ticks": ""
           }
          },
          "scene": {
           "xaxis": {
            "backgroundcolor": "#E5ECF6",
            "gridcolor": "white",
            "gridwidth": 2,
            "linecolor": "white",
            "showbackground": true,
            "ticks": "",
            "zerolinecolor": "white"
           },
           "yaxis": {
            "backgroundcolor": "#E5ECF6",
            "gridcolor": "white",
            "gridwidth": 2,
            "linecolor": "white",
            "showbackground": true,
            "ticks": "",
            "zerolinecolor": "white"
           },
           "zaxis": {
            "backgroundcolor": "#E5ECF6",
            "gridcolor": "white",
            "gridwidth": 2,
            "linecolor": "white",
            "showbackground": true,
            "ticks": "",
            "zerolinecolor": "white"
           }
          },
          "shapedefaults": {
           "line": {
            "color": "#2a3f5f"
           }
          },
          "ternary": {
           "aaxis": {
            "gridcolor": "white",
            "linecolor": "white",
            "ticks": ""
           },
           "baxis": {
            "gridcolor": "white",
            "linecolor": "white",
            "ticks": ""
           },
           "bgcolor": "#E5ECF6",
           "caxis": {
            "gridcolor": "white",
            "linecolor": "white",
            "ticks": ""
           }
          },
          "title": {
           "x": 0.05
          },
          "xaxis": {
           "automargin": true,
           "gridcolor": "white",
           "linecolor": "white",
           "ticks": "",
           "title": {
            "standoff": 15
           },
           "zerolinecolor": "white",
           "zerolinewidth": 2
          },
          "yaxis": {
           "automargin": true,
           "gridcolor": "white",
           "linecolor": "white",
           "ticks": "",
           "title": {
            "standoff": 15
           },
           "zerolinecolor": "white",
           "zerolinewidth": 2
          }
         }
        },
        "title": {
         "text": "COVID-19 Confirmed Cases in the World"
        }
       }
      }
     },
     "metadata": {},
     "output_type": "display_data"
    }
   ],
   "source": [
    "# plotting a choropleth map on a world map\n",
    "fig = px.choropleth(world, locations='Country', \n",
    "                    locationmode='country names',\n",
    "                    color='Cases',\n",
    "                    hover_name='Country',\n",
    "                    color_continuous_scale='viridis',\n",
    "                    range_color=(0, 1000),  # set the range of the color scale\n",
    "                    title='COVID-19 Confirmed Cases in the World')\n",
    "\n",
    "fig.show()"
   ]
  },
  {
   "cell_type": "code",
   "execution_count": null,
   "metadata": {},
   "outputs": [],
   "source": []
  }
 ],
 "metadata": {
  "interpreter": {
   "hash": "dee03b1924112c3238d23c98c3f985545bca73e9aa3cd91bc9d617365e696192"
  },
  "kernelspec": {
   "display_name": "Python 3.8.8 64-bit ('base': conda)",
   "name": "python3"
  },
  "language_info": {
   "codemirror_mode": {
    "name": "ipython",
    "version": 3
   },
   "file_extension": ".py",
   "mimetype": "text/x-python",
   "name": "python",
   "nbconvert_exporter": "python",
   "pygments_lexer": "ipython3",
   "version": "3.8.8"
  },
  "orig_nbformat": 4
 },
 "nbformat": 4,
 "nbformat_minor": 2
}
