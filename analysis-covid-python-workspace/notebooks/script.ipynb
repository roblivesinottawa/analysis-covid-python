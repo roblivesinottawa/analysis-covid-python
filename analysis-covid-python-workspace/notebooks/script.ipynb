{
 "cells": [
  {
   "cell_type": "code",
   "execution_count": 6,
   "metadata": {},
   "outputs": [
    {
     "name": "stdout",
     "output_type": "stream",
     "text": [
      "Collecting plotly.express\n",
      "  Using cached plotly_express-0.4.1-py2.py3-none-any.whl (2.9 kB)\n",
      "Requirement already satisfied: statsmodels>=0.9.0 in /Users/roblivesinottawa/opt/anaconda3/lib/python3.8/site-packages (from plotly.express) (0.12.2)\n",
      "Requirement already satisfied: scipy>=0.18 in /Users/roblivesinottawa/opt/anaconda3/lib/python3.8/site-packages (from plotly.express) (1.6.2)\n",
      "Requirement already satisfied: pandas>=0.20.0 in /Users/roblivesinottawa/opt/anaconda3/lib/python3.8/site-packages (from plotly.express) (1.2.4)\n",
      "Requirement already satisfied: numpy>=1.11 in /Users/roblivesinottawa/opt/anaconda3/lib/python3.8/site-packages (from plotly.express) (1.20.1)\n",
      "Collecting plotly>=4.1.0\n",
      "  Using cached plotly-5.3.1-py2.py3-none-any.whl (23.9 MB)\n",
      "Requirement already satisfied: patsy>=0.5 in /Users/roblivesinottawa/opt/anaconda3/lib/python3.8/site-packages (from plotly.express) (0.5.1)\n",
      "Requirement already satisfied: python-dateutil>=2.7.3 in /Users/roblivesinottawa/opt/anaconda3/lib/python3.8/site-packages (from pandas>=0.20.0->plotly.express) (2.8.1)\n",
      "Requirement already satisfied: pytz>=2017.3 in /Users/roblivesinottawa/opt/anaconda3/lib/python3.8/site-packages (from pandas>=0.20.0->plotly.express) (2021.1)\n",
      "Requirement already satisfied: six in /Users/roblivesinottawa/opt/anaconda3/lib/python3.8/site-packages (from patsy>=0.5->plotly.express) (1.15.0)\n",
      "Collecting tenacity>=6.2.0\n",
      "  Using cached tenacity-8.0.1-py3-none-any.whl (24 kB)\n",
      "Installing collected packages: tenacity, plotly, plotly.express\n",
      "Successfully installed plotly-5.3.1 plotly.express-0.4.1 tenacity-8.0.1\n",
      "\u001b[33mWARNING: You are using pip version 21.2.4; however, version 21.3.1 is available.\n",
      "You should consider upgrading via the '/Users/roblivesinottawa/opt/anaconda3/bin/python -m pip install --upgrade pip' command.\u001b[0m\n",
      "Note: you may need to restart the kernel to use updated packages.\n"
     ]
    }
   ],
   "source": [
    "%pip install plotly.express"
   ]
  },
  {
   "cell_type": "code",
   "execution_count": 7,
   "metadata": {},
   "outputs": [],
   "source": [
    "import pandas as pd\n",
    "import numpy as np\n",
    "import matplotlib.pyplot as plt\n",
    "import seaborn as sns\n"
   ]
  },
  {
   "cell_type": "code",
   "execution_count": 2,
   "metadata": {},
   "outputs": [],
   "source": [
    "sns.set_style(\"darkgrid\")"
   ]
  },
  {
   "cell_type": "code",
   "execution_count": 25,
   "metadata": {},
   "outputs": [],
   "source": [
    "path = '../data/01-01-2021.csv'"
   ]
  },
  {
   "cell_type": "code",
   "execution_count": 26,
   "metadata": {},
   "outputs": [],
   "source": [
    "df = pd.read_csv(path)"
   ]
  },
  {
   "cell_type": "code",
   "execution_count": 27,
   "metadata": {},
   "outputs": [
    {
     "name": "stdout",
     "output_type": "stream",
     "text": [
      "<class 'pandas.core.frame.DataFrame'>\n",
      "RangeIndex: 4000 entries, 0 to 3999\n",
      "Data columns (total 14 columns):\n",
      " #   Column               Non-Null Count  Dtype  \n",
      "---  ------               --------------  -----  \n",
      " 0   FIPS                 3265 non-null   float64\n",
      " 1   Admin2               3270 non-null   object \n",
      " 2   Province_State       3828 non-null   object \n",
      " 3   Country_Region       4000 non-null   object \n",
      " 4   Last_Update          4000 non-null   object \n",
      " 5   Lat                  3912 non-null   float64\n",
      " 6   Long_                3912 non-null   float64\n",
      " 7   Confirmed            4000 non-null   int64  \n",
      " 8   Deaths               4000 non-null   int64  \n",
      " 9   Recovered            4000 non-null   int64  \n",
      " 10  Active               3999 non-null   float64\n",
      " 11  Combined_Key         4000 non-null   object \n",
      " 12  Incident_Rate        3911 non-null   float64\n",
      " 13  Case_Fatality_Ratio  3956 non-null   float64\n",
      "dtypes: float64(6), int64(3), object(5)\n",
      "memory usage: 437.6+ KB\n"
     ]
    }
   ],
   "source": [
    "df.info()"
   ]
  },
  {
   "cell_type": "code",
   "execution_count": 29,
   "metadata": {},
   "outputs": [
    {
     "data": {
      "text/html": [
       "<div>\n",
       "<style scoped>\n",
       "    .dataframe tbody tr th:only-of-type {\n",
       "        vertical-align: middle;\n",
       "    }\n",
       "\n",
       "    .dataframe tbody tr th {\n",
       "        vertical-align: top;\n",
       "    }\n",
       "\n",
       "    .dataframe thead th {\n",
       "        text-align: right;\n",
       "    }\n",
       "</style>\n",
       "<table border=\"1\" class=\"dataframe\">\n",
       "  <thead>\n",
       "    <tr style=\"text-align: right;\">\n",
       "      <th></th>\n",
       "      <th>FIPS</th>\n",
       "      <th>Admin2</th>\n",
       "      <th>Province_State</th>\n",
       "      <th>Country_Region</th>\n",
       "      <th>Last_Update</th>\n",
       "      <th>Lat</th>\n",
       "      <th>Long_</th>\n",
       "      <th>Confirmed</th>\n",
       "      <th>Deaths</th>\n",
       "      <th>Recovered</th>\n",
       "      <th>Active</th>\n",
       "      <th>Combined_Key</th>\n",
       "      <th>Incident_Rate</th>\n",
       "      <th>Case_Fatality_Ratio</th>\n",
       "    </tr>\n",
       "  </thead>\n",
       "  <tbody>\n",
       "    <tr>\n",
       "      <th>0</th>\n",
       "      <td>NaN</td>\n",
       "      <td>NaN</td>\n",
       "      <td>NaN</td>\n",
       "      <td>Afghanistan</td>\n",
       "      <td>2021-01-02 05:22:33</td>\n",
       "      <td>33.93911</td>\n",
       "      <td>67.709953</td>\n",
       "      <td>52513</td>\n",
       "      <td>2201</td>\n",
       "      <td>41727</td>\n",
       "      <td>0.0</td>\n",
       "      <td>Afghanistan</td>\n",
       "      <td>0.000000</td>\n",
       "      <td>4.252222</td>\n",
       "    </tr>\n",
       "    <tr>\n",
       "      <th>1</th>\n",
       "      <td>NaN</td>\n",
       "      <td>NaN</td>\n",
       "      <td>NaN</td>\n",
       "      <td>Albania</td>\n",
       "      <td>2021-01-02 05:22:33</td>\n",
       "      <td>41.15330</td>\n",
       "      <td>20.168300</td>\n",
       "      <td>58316</td>\n",
       "      <td>1181</td>\n",
       "      <td>33634</td>\n",
       "      <td>23501.0</td>\n",
       "      <td>Albania</td>\n",
       "      <td>2026.409062</td>\n",
       "      <td>2.025173</td>\n",
       "    </tr>\n",
       "    <tr>\n",
       "      <th>2</th>\n",
       "      <td>NaN</td>\n",
       "      <td>NaN</td>\n",
       "      <td>NaN</td>\n",
       "      <td>Algeria</td>\n",
       "      <td>2021-01-02 05:22:33</td>\n",
       "      <td>28.03390</td>\n",
       "      <td>1.659600</td>\n",
       "      <td>99897</td>\n",
       "      <td>2762</td>\n",
       "      <td>67395</td>\n",
       "      <td>29740.0</td>\n",
       "      <td>Algeria</td>\n",
       "      <td>227.809861</td>\n",
       "      <td>2.764848</td>\n",
       "    </tr>\n",
       "    <tr>\n",
       "      <th>3</th>\n",
       "      <td>NaN</td>\n",
       "      <td>NaN</td>\n",
       "      <td>NaN</td>\n",
       "      <td>Andorra</td>\n",
       "      <td>2021-01-02 05:22:33</td>\n",
       "      <td>42.50630</td>\n",
       "      <td>1.521800</td>\n",
       "      <td>8117</td>\n",
       "      <td>84</td>\n",
       "      <td>7463</td>\n",
       "      <td>570.0</td>\n",
       "      <td>Andorra</td>\n",
       "      <td>10505.403482</td>\n",
       "      <td>1.034865</td>\n",
       "    </tr>\n",
       "    <tr>\n",
       "      <th>4</th>\n",
       "      <td>NaN</td>\n",
       "      <td>NaN</td>\n",
       "      <td>NaN</td>\n",
       "      <td>Angola</td>\n",
       "      <td>2021-01-02 05:22:33</td>\n",
       "      <td>-11.20270</td>\n",
       "      <td>17.873900</td>\n",
       "      <td>17568</td>\n",
       "      <td>405</td>\n",
       "      <td>11146</td>\n",
       "      <td>6017.0</td>\n",
       "      <td>Angola</td>\n",
       "      <td>53.452981</td>\n",
       "      <td>2.305328</td>\n",
       "    </tr>\n",
       "    <tr>\n",
       "      <th>5</th>\n",
       "      <td>NaN</td>\n",
       "      <td>NaN</td>\n",
       "      <td>NaN</td>\n",
       "      <td>Antigua and Barbuda</td>\n",
       "      <td>2021-01-02 05:22:33</td>\n",
       "      <td>17.06080</td>\n",
       "      <td>-61.796400</td>\n",
       "      <td>159</td>\n",
       "      <td>5</td>\n",
       "      <td>148</td>\n",
       "      <td>6.0</td>\n",
       "      <td>Antigua and Barbuda</td>\n",
       "      <td>162.364186</td>\n",
       "      <td>3.144654</td>\n",
       "    </tr>\n",
       "    <tr>\n",
       "      <th>6</th>\n",
       "      <td>NaN</td>\n",
       "      <td>NaN</td>\n",
       "      <td>NaN</td>\n",
       "      <td>Argentina</td>\n",
       "      <td>2021-01-02 05:22:33</td>\n",
       "      <td>-38.41610</td>\n",
       "      <td>-63.616700</td>\n",
       "      <td>1629594</td>\n",
       "      <td>43319</td>\n",
       "      <td>1426676</td>\n",
       "      <td>159599.0</td>\n",
       "      <td>Argentina</td>\n",
       "      <td>3605.633332</td>\n",
       "      <td>2.658269</td>\n",
       "    </tr>\n",
       "    <tr>\n",
       "      <th>7</th>\n",
       "      <td>NaN</td>\n",
       "      <td>NaN</td>\n",
       "      <td>NaN</td>\n",
       "      <td>Armenia</td>\n",
       "      <td>2021-01-02 05:22:33</td>\n",
       "      <td>40.06910</td>\n",
       "      <td>45.038200</td>\n",
       "      <td>159738</td>\n",
       "      <td>2828</td>\n",
       "      <td>143355</td>\n",
       "      <td>13555.0</td>\n",
       "      <td>Armenia</td>\n",
       "      <td>5390.664389</td>\n",
       "      <td>1.770399</td>\n",
       "    </tr>\n",
       "    <tr>\n",
       "      <th>8</th>\n",
       "      <td>NaN</td>\n",
       "      <td>NaN</td>\n",
       "      <td>Australian Capital Territory</td>\n",
       "      <td>Australia</td>\n",
       "      <td>2021-01-02 05:22:33</td>\n",
       "      <td>-35.47350</td>\n",
       "      <td>149.012400</td>\n",
       "      <td>118</td>\n",
       "      <td>3</td>\n",
       "      <td>114</td>\n",
       "      <td>1.0</td>\n",
       "      <td>Australian Capital Territory, Australia</td>\n",
       "      <td>27.563653</td>\n",
       "      <td>2.542373</td>\n",
       "    </tr>\n",
       "    <tr>\n",
       "      <th>9</th>\n",
       "      <td>NaN</td>\n",
       "      <td>NaN</td>\n",
       "      <td>New South Wales</td>\n",
       "      <td>Australia</td>\n",
       "      <td>2021-01-02 05:22:33</td>\n",
       "      <td>-33.86880</td>\n",
       "      <td>151.209300</td>\n",
       "      <td>4947</td>\n",
       "      <td>54</td>\n",
       "      <td>0</td>\n",
       "      <td>1696.0</td>\n",
       "      <td>New South Wales, Australia</td>\n",
       "      <td>60.938655</td>\n",
       "      <td>1.091571</td>\n",
       "    </tr>\n",
       "  </tbody>\n",
       "</table>\n",
       "</div>"
      ],
      "text/plain": [
       "   FIPS Admin2                Province_State       Country_Region  \\\n",
       "0   NaN    NaN                           NaN          Afghanistan   \n",
       "1   NaN    NaN                           NaN              Albania   \n",
       "2   NaN    NaN                           NaN              Algeria   \n",
       "3   NaN    NaN                           NaN              Andorra   \n",
       "4   NaN    NaN                           NaN               Angola   \n",
       "5   NaN    NaN                           NaN  Antigua and Barbuda   \n",
       "6   NaN    NaN                           NaN            Argentina   \n",
       "7   NaN    NaN                           NaN              Armenia   \n",
       "8   NaN    NaN  Australian Capital Territory            Australia   \n",
       "9   NaN    NaN               New South Wales            Australia   \n",
       "\n",
       "           Last_Update       Lat       Long_  Confirmed  Deaths  Recovered  \\\n",
       "0  2021-01-02 05:22:33  33.93911   67.709953      52513    2201      41727   \n",
       "1  2021-01-02 05:22:33  41.15330   20.168300      58316    1181      33634   \n",
       "2  2021-01-02 05:22:33  28.03390    1.659600      99897    2762      67395   \n",
       "3  2021-01-02 05:22:33  42.50630    1.521800       8117      84       7463   \n",
       "4  2021-01-02 05:22:33 -11.20270   17.873900      17568     405      11146   \n",
       "5  2021-01-02 05:22:33  17.06080  -61.796400        159       5        148   \n",
       "6  2021-01-02 05:22:33 -38.41610  -63.616700    1629594   43319    1426676   \n",
       "7  2021-01-02 05:22:33  40.06910   45.038200     159738    2828     143355   \n",
       "8  2021-01-02 05:22:33 -35.47350  149.012400        118       3        114   \n",
       "9  2021-01-02 05:22:33 -33.86880  151.209300       4947      54          0   \n",
       "\n",
       "     Active                             Combined_Key  Incident_Rate  \\\n",
       "0       0.0                              Afghanistan       0.000000   \n",
       "1   23501.0                                  Albania    2026.409062   \n",
       "2   29740.0                                  Algeria     227.809861   \n",
       "3     570.0                                  Andorra   10505.403482   \n",
       "4    6017.0                                   Angola      53.452981   \n",
       "5       6.0                      Antigua and Barbuda     162.364186   \n",
       "6  159599.0                                Argentina    3605.633332   \n",
       "7   13555.0                                  Armenia    5390.664389   \n",
       "8       1.0  Australian Capital Territory, Australia      27.563653   \n",
       "9    1696.0               New South Wales, Australia      60.938655   \n",
       "\n",
       "   Case_Fatality_Ratio  \n",
       "0             4.252222  \n",
       "1             2.025173  \n",
       "2             2.764848  \n",
       "3             1.034865  \n",
       "4             2.305328  \n",
       "5             3.144654  \n",
       "6             2.658269  \n",
       "7             1.770399  \n",
       "8             2.542373  \n",
       "9             1.091571  "
      ]
     },
     "execution_count": 29,
     "metadata": {},
     "output_type": "execute_result"
    }
   ],
   "source": [
    "df.head(10)"
   ]
  },
  {
   "cell_type": "code",
   "execution_count": 33,
   "metadata": {},
   "outputs": [
    {
     "data": {
      "text/html": [
       "<div>\n",
       "<style scoped>\n",
       "    .dataframe tbody tr th:only-of-type {\n",
       "        vertical-align: middle;\n",
       "    }\n",
       "\n",
       "    .dataframe tbody tr th {\n",
       "        vertical-align: top;\n",
       "    }\n",
       "\n",
       "    .dataframe thead th {\n",
       "        text-align: right;\n",
       "    }\n",
       "</style>\n",
       "<table border=\"1\" class=\"dataframe\">\n",
       "  <thead>\n",
       "    <tr style=\"text-align: right;\">\n",
       "      <th></th>\n",
       "      <th>FIPS</th>\n",
       "      <th>Admin2</th>\n",
       "      <th>Province_State</th>\n",
       "      <th>Country_Region</th>\n",
       "      <th>Last_Update</th>\n",
       "      <th>Lat</th>\n",
       "      <th>Long_</th>\n",
       "      <th>Confirmed</th>\n",
       "      <th>Deaths</th>\n",
       "      <th>Recovered</th>\n",
       "      <th>Active</th>\n",
       "      <th>Combined_Key</th>\n",
       "      <th>Incident_Rate</th>\n",
       "      <th>Case_Fatality_Ratio</th>\n",
       "    </tr>\n",
       "  </thead>\n",
       "  <tbody>\n",
       "    <tr>\n",
       "      <th>41</th>\n",
       "      <td>NaN</td>\n",
       "      <td>NaN</td>\n",
       "      <td>Acre</td>\n",
       "      <td>Brazil</td>\n",
       "      <td>2021-01-02 05:22:33</td>\n",
       "      <td>-9.0238</td>\n",
       "      <td>-70.8120</td>\n",
       "      <td>41689</td>\n",
       "      <td>796</td>\n",
       "      <td>33670</td>\n",
       "      <td>7223.0</td>\n",
       "      <td>Acre, Brazil</td>\n",
       "      <td>4726.992352</td>\n",
       "      <td>1.909377</td>\n",
       "    </tr>\n",
       "    <tr>\n",
       "      <th>42</th>\n",
       "      <td>NaN</td>\n",
       "      <td>NaN</td>\n",
       "      <td>Alagoas</td>\n",
       "      <td>Brazil</td>\n",
       "      <td>2021-01-02 05:22:33</td>\n",
       "      <td>-9.5713</td>\n",
       "      <td>-36.7820</td>\n",
       "      <td>105091</td>\n",
       "      <td>2496</td>\n",
       "      <td>99710</td>\n",
       "      <td>2885.0</td>\n",
       "      <td>Alagoas, Brazil</td>\n",
       "      <td>3148.928928</td>\n",
       "      <td>2.375084</td>\n",
       "    </tr>\n",
       "    <tr>\n",
       "      <th>43</th>\n",
       "      <td>NaN</td>\n",
       "      <td>NaN</td>\n",
       "      <td>Amapa</td>\n",
       "      <td>Brazil</td>\n",
       "      <td>2021-01-02 05:22:33</td>\n",
       "      <td>0.9020</td>\n",
       "      <td>-52.0030</td>\n",
       "      <td>68361</td>\n",
       "      <td>926</td>\n",
       "      <td>52670</td>\n",
       "      <td>14765.0</td>\n",
       "      <td>Amapa, Brazil</td>\n",
       "      <td>8083.066602</td>\n",
       "      <td>1.354574</td>\n",
       "    </tr>\n",
       "    <tr>\n",
       "      <th>44</th>\n",
       "      <td>NaN</td>\n",
       "      <td>NaN</td>\n",
       "      <td>Amazonas</td>\n",
       "      <td>Brazil</td>\n",
       "      <td>2021-01-02 05:22:33</td>\n",
       "      <td>-3.4168</td>\n",
       "      <td>-65.8561</td>\n",
       "      <td>201574</td>\n",
       "      <td>5295</td>\n",
       "      <td>170178</td>\n",
       "      <td>26101.0</td>\n",
       "      <td>Amazonas, Brazil</td>\n",
       "      <td>4863.536793</td>\n",
       "      <td>2.626827</td>\n",
       "    </tr>\n",
       "    <tr>\n",
       "      <th>45</th>\n",
       "      <td>NaN</td>\n",
       "      <td>NaN</td>\n",
       "      <td>Bahia</td>\n",
       "      <td>Brazil</td>\n",
       "      <td>2021-01-02 05:22:33</td>\n",
       "      <td>-12.5797</td>\n",
       "      <td>-41.7007</td>\n",
       "      <td>494684</td>\n",
       "      <td>9159</td>\n",
       "      <td>478198</td>\n",
       "      <td>7327.0</td>\n",
       "      <td>Bahia, Brazil</td>\n",
       "      <td>3326.039611</td>\n",
       "      <td>1.851485</td>\n",
       "    </tr>\n",
       "    <tr>\n",
       "      <th>46</th>\n",
       "      <td>NaN</td>\n",
       "      <td>NaN</td>\n",
       "      <td>Ceara</td>\n",
       "      <td>Brazil</td>\n",
       "      <td>2021-01-02 05:22:33</td>\n",
       "      <td>-5.4984</td>\n",
       "      <td>-39.3206</td>\n",
       "      <td>335992</td>\n",
       "      <td>9993</td>\n",
       "      <td>269846</td>\n",
       "      <td>56153.0</td>\n",
       "      <td>Ceara, Brazil</td>\n",
       "      <td>3679.250221</td>\n",
       "      <td>2.974178</td>\n",
       "    </tr>\n",
       "    <tr>\n",
       "      <th>47</th>\n",
       "      <td>NaN</td>\n",
       "      <td>NaN</td>\n",
       "      <td>Distrito Federal</td>\n",
       "      <td>Brazil</td>\n",
       "      <td>2021-01-02 05:22:33</td>\n",
       "      <td>-15.7998</td>\n",
       "      <td>-47.8645</td>\n",
       "      <td>252077</td>\n",
       "      <td>4263</td>\n",
       "      <td>241952</td>\n",
       "      <td>5862.0</td>\n",
       "      <td>Distrito Federal, Brazil</td>\n",
       "      <td>8360.019740</td>\n",
       "      <td>1.691150</td>\n",
       "    </tr>\n",
       "    <tr>\n",
       "      <th>48</th>\n",
       "      <td>NaN</td>\n",
       "      <td>NaN</td>\n",
       "      <td>Espirito Santo</td>\n",
       "      <td>Brazil</td>\n",
       "      <td>2021-01-02 05:22:33</td>\n",
       "      <td>-19.1834</td>\n",
       "      <td>-40.3089</td>\n",
       "      <td>249260</td>\n",
       "      <td>5087</td>\n",
       "      <td>227931</td>\n",
       "      <td>16242.0</td>\n",
       "      <td>Espirito Santo, Brazil</td>\n",
       "      <td>6202.580469</td>\n",
       "      <td>2.040841</td>\n",
       "    </tr>\n",
       "    <tr>\n",
       "      <th>49</th>\n",
       "      <td>NaN</td>\n",
       "      <td>NaN</td>\n",
       "      <td>Goias</td>\n",
       "      <td>Brazil</td>\n",
       "      <td>2021-01-02 05:22:33</td>\n",
       "      <td>-15.8270</td>\n",
       "      <td>-49.8362</td>\n",
       "      <td>309112</td>\n",
       "      <td>6805</td>\n",
       "      <td>298401</td>\n",
       "      <td>3906.0</td>\n",
       "      <td>Goias, Brazil</td>\n",
       "      <td>4404.337541</td>\n",
       "      <td>2.201467</td>\n",
       "    </tr>\n",
       "    <tr>\n",
       "      <th>50</th>\n",
       "      <td>NaN</td>\n",
       "      <td>NaN</td>\n",
       "      <td>Maranhao</td>\n",
       "      <td>Brazil</td>\n",
       "      <td>2021-01-02 05:22:33</td>\n",
       "      <td>-4.9609</td>\n",
       "      <td>-45.2744</td>\n",
       "      <td>200959</td>\n",
       "      <td>4506</td>\n",
       "      <td>190884</td>\n",
       "      <td>5569.0</td>\n",
       "      <td>Maranhao, Brazil</td>\n",
       "      <td>2840.337230</td>\n",
       "      <td>2.242248</td>\n",
       "    </tr>\n",
       "    <tr>\n",
       "      <th>51</th>\n",
       "      <td>NaN</td>\n",
       "      <td>NaN</td>\n",
       "      <td>Mato Grosso</td>\n",
       "      <td>Brazil</td>\n",
       "      <td>2021-01-02 05:22:33</td>\n",
       "      <td>-12.6819</td>\n",
       "      <td>-56.9211</td>\n",
       "      <td>179704</td>\n",
       "      <td>4467</td>\n",
       "      <td>170171</td>\n",
       "      <td>5066.0</td>\n",
       "      <td>Mato Grosso, Brazil</td>\n",
       "      <td>5157.289524</td>\n",
       "      <td>2.485754</td>\n",
       "    </tr>\n",
       "    <tr>\n",
       "      <th>52</th>\n",
       "      <td>NaN</td>\n",
       "      <td>NaN</td>\n",
       "      <td>Mato Grosso do Sul</td>\n",
       "      <td>Brazil</td>\n",
       "      <td>2021-01-02 05:22:33</td>\n",
       "      <td>-20.7722</td>\n",
       "      <td>-54.7852</td>\n",
       "      <td>134750</td>\n",
       "      <td>2347</td>\n",
       "      <td>117816</td>\n",
       "      <td>14587.0</td>\n",
       "      <td>Mato Grosso do Sul, Brazil</td>\n",
       "      <td>4848.890926</td>\n",
       "      <td>1.741744</td>\n",
       "    </tr>\n",
       "    <tr>\n",
       "      <th>53</th>\n",
       "      <td>NaN</td>\n",
       "      <td>NaN</td>\n",
       "      <td>Minas Gerais</td>\n",
       "      <td>Brazil</td>\n",
       "      <td>2021-01-02 05:22:33</td>\n",
       "      <td>-18.5122</td>\n",
       "      <td>-44.5550</td>\n",
       "      <td>546884</td>\n",
       "      <td>12001</td>\n",
       "      <td>494278</td>\n",
       "      <td>40605.0</td>\n",
       "      <td>Minas Gerais, Brazil</td>\n",
       "      <td>2583.444657</td>\n",
       "      <td>2.194432</td>\n",
       "    </tr>\n",
       "    <tr>\n",
       "      <th>54</th>\n",
       "      <td>NaN</td>\n",
       "      <td>NaN</td>\n",
       "      <td>Para</td>\n",
       "      <td>Brazil</td>\n",
       "      <td>2021-01-02 05:22:33</td>\n",
       "      <td>-1.9981</td>\n",
       "      <td>-54.9306</td>\n",
       "      <td>293802</td>\n",
       "      <td>7199</td>\n",
       "      <td>275483</td>\n",
       "      <td>11120.0</td>\n",
       "      <td>Para, Brazil</td>\n",
       "      <td>3415.164599</td>\n",
       "      <td>2.450290</td>\n",
       "    </tr>\n",
       "    <tr>\n",
       "      <th>55</th>\n",
       "      <td>NaN</td>\n",
       "      <td>NaN</td>\n",
       "      <td>Paraiba</td>\n",
       "      <td>Brazil</td>\n",
       "      <td>2021-01-02 05:22:33</td>\n",
       "      <td>-7.2400</td>\n",
       "      <td>-36.7820</td>\n",
       "      <td>167062</td>\n",
       "      <td>3680</td>\n",
       "      <td>127030</td>\n",
       "      <td>36352.0</td>\n",
       "      <td>Paraiba, Brazil</td>\n",
       "      <td>4157.708305</td>\n",
       "      <td>2.202775</td>\n",
       "    </tr>\n",
       "    <tr>\n",
       "      <th>56</th>\n",
       "      <td>NaN</td>\n",
       "      <td>NaN</td>\n",
       "      <td>Parana</td>\n",
       "      <td>Brazil</td>\n",
       "      <td>2021-01-02 05:22:33</td>\n",
       "      <td>-25.2521</td>\n",
       "      <td>-52.0215</td>\n",
       "      <td>418323</td>\n",
       "      <td>7993</td>\n",
       "      <td>305194</td>\n",
       "      <td>105136.0</td>\n",
       "      <td>Parana, Brazil</td>\n",
       "      <td>3658.602179</td>\n",
       "      <td>1.910724</td>\n",
       "    </tr>\n",
       "    <tr>\n",
       "      <th>57</th>\n",
       "      <td>NaN</td>\n",
       "      <td>NaN</td>\n",
       "      <td>Pernambuco</td>\n",
       "      <td>Brazil</td>\n",
       "      <td>2021-01-02 05:22:33</td>\n",
       "      <td>-8.8137</td>\n",
       "      <td>-36.9541</td>\n",
       "      <td>222993</td>\n",
       "      <td>9666</td>\n",
       "      <td>189850</td>\n",
       "      <td>23477.0</td>\n",
       "      <td>Pernambuco, Brazil</td>\n",
       "      <td>2333.277633</td>\n",
       "      <td>4.334665</td>\n",
       "    </tr>\n",
       "    <tr>\n",
       "      <th>58</th>\n",
       "      <td>NaN</td>\n",
       "      <td>NaN</td>\n",
       "      <td>Piaui</td>\n",
       "      <td>Brazil</td>\n",
       "      <td>2021-01-02 05:22:33</td>\n",
       "      <td>-7.7183</td>\n",
       "      <td>-42.7289</td>\n",
       "      <td>143179</td>\n",
       "      <td>2840</td>\n",
       "      <td>139971</td>\n",
       "      <td>368.0</td>\n",
       "      <td>Piaui, Brazil</td>\n",
       "      <td>4374.245966</td>\n",
       "      <td>1.983531</td>\n",
       "    </tr>\n",
       "    <tr>\n",
       "      <th>59</th>\n",
       "      <td>NaN</td>\n",
       "      <td>NaN</td>\n",
       "      <td>Rio Grande do Norte</td>\n",
       "      <td>Brazil</td>\n",
       "      <td>2021-01-02 05:22:33</td>\n",
       "      <td>-5.4026</td>\n",
       "      <td>-36.9541</td>\n",
       "      <td>118353</td>\n",
       "      <td>2993</td>\n",
       "      <td>68394</td>\n",
       "      <td>46966.0</td>\n",
       "      <td>Rio Grande do Norte, Brazil</td>\n",
       "      <td>3374.906219</td>\n",
       "      <td>2.528875</td>\n",
       "    </tr>\n",
       "    <tr>\n",
       "      <th>60</th>\n",
       "      <td>NaN</td>\n",
       "      <td>NaN</td>\n",
       "      <td>Rio Grande do Sul</td>\n",
       "      <td>Brazil</td>\n",
       "      <td>2021-01-02 05:22:33</td>\n",
       "      <td>-30.0346</td>\n",
       "      <td>-51.2177</td>\n",
       "      <td>451912</td>\n",
       "      <td>8917</td>\n",
       "      <td>424406</td>\n",
       "      <td>18589.0</td>\n",
       "      <td>Rio Grande do Sul, Brazil</td>\n",
       "      <td>3972.070904</td>\n",
       "      <td>1.973172</td>\n",
       "    </tr>\n",
       "    <tr>\n",
       "      <th>61</th>\n",
       "      <td>NaN</td>\n",
       "      <td>NaN</td>\n",
       "      <td>Rio de Janeiro</td>\n",
       "      <td>Brazil</td>\n",
       "      <td>2021-01-02 05:22:33</td>\n",
       "      <td>-22.9068</td>\n",
       "      <td>-43.1729</td>\n",
       "      <td>435390</td>\n",
       "      <td>25600</td>\n",
       "      <td>397324</td>\n",
       "      <td>12466.0</td>\n",
       "      <td>Rio de Janeiro, Brazil</td>\n",
       "      <td>2521.815450</td>\n",
       "      <td>5.879786</td>\n",
       "    </tr>\n",
       "    <tr>\n",
       "      <th>62</th>\n",
       "      <td>NaN</td>\n",
       "      <td>NaN</td>\n",
       "      <td>Rondonia</td>\n",
       "      <td>Brazil</td>\n",
       "      <td>2021-01-02 05:22:33</td>\n",
       "      <td>-11.5057</td>\n",
       "      <td>-63.5806</td>\n",
       "      <td>95999</td>\n",
       "      <td>1822</td>\n",
       "      <td>81122</td>\n",
       "      <td>13055.0</td>\n",
       "      <td>Rondonia, Brazil</td>\n",
       "      <td>5401.623317</td>\n",
       "      <td>1.897936</td>\n",
       "    </tr>\n",
       "    <tr>\n",
       "      <th>63</th>\n",
       "      <td>NaN</td>\n",
       "      <td>NaN</td>\n",
       "      <td>Roraima</td>\n",
       "      <td>Brazil</td>\n",
       "      <td>2021-01-02 05:22:33</td>\n",
       "      <td>-2.7376</td>\n",
       "      <td>-62.0751</td>\n",
       "      <td>68710</td>\n",
       "      <td>787</td>\n",
       "      <td>65405</td>\n",
       "      <td>2518.0</td>\n",
       "      <td>Roraima, Brazil</td>\n",
       "      <td>11342.757292</td>\n",
       "      <td>1.145394</td>\n",
       "    </tr>\n",
       "    <tr>\n",
       "      <th>64</th>\n",
       "      <td>NaN</td>\n",
       "      <td>NaN</td>\n",
       "      <td>Santa Catarina</td>\n",
       "      <td>Brazil</td>\n",
       "      <td>2021-01-02 05:22:33</td>\n",
       "      <td>-27.2423</td>\n",
       "      <td>-50.2189</td>\n",
       "      <td>494447</td>\n",
       "      <td>5270</td>\n",
       "      <td>467020</td>\n",
       "      <td>22157.0</td>\n",
       "      <td>Santa Catarina, Brazil</td>\n",
       "      <td>6901.069508</td>\n",
       "      <td>1.065837</td>\n",
       "    </tr>\n",
       "    <tr>\n",
       "      <th>65</th>\n",
       "      <td>NaN</td>\n",
       "      <td>NaN</td>\n",
       "      <td>Sao Paulo</td>\n",
       "      <td>Brazil</td>\n",
       "      <td>2021-01-02 05:22:33</td>\n",
       "      <td>-23.5505</td>\n",
       "      <td>-46.6333</td>\n",
       "      <td>1466191</td>\n",
       "      <td>46775</td>\n",
       "      <td>1287986</td>\n",
       "      <td>131430.0</td>\n",
       "      <td>Sao Paulo, Brazil</td>\n",
       "      <td>3192.990778</td>\n",
       "      <td>3.190239</td>\n",
       "    </tr>\n",
       "    <tr>\n",
       "      <th>66</th>\n",
       "      <td>NaN</td>\n",
       "      <td>NaN</td>\n",
       "      <td>Sergipe</td>\n",
       "      <td>Brazil</td>\n",
       "      <td>2021-01-02 05:22:33</td>\n",
       "      <td>-10.5741</td>\n",
       "      <td>-37.3857</td>\n",
       "      <td>113544</td>\n",
       "      <td>2492</td>\n",
       "      <td>99824</td>\n",
       "      <td>11228.0</td>\n",
       "      <td>Sergipe, Brazil</td>\n",
       "      <td>4939.496132</td>\n",
       "      <td>2.194744</td>\n",
       "    </tr>\n",
       "    <tr>\n",
       "      <th>67</th>\n",
       "      <td>NaN</td>\n",
       "      <td>NaN</td>\n",
       "      <td>Tocantins</td>\n",
       "      <td>Brazil</td>\n",
       "      <td>2021-01-02 05:22:33</td>\n",
       "      <td>-10.1753</td>\n",
       "      <td>-48.2982</td>\n",
       "      <td>90536</td>\n",
       "      <td>1236</td>\n",
       "      <td>80658</td>\n",
       "      <td>8642.0</td>\n",
       "      <td>Tocantins, Brazil</td>\n",
       "      <td>5756.116541</td>\n",
       "      <td>1.365203</td>\n",
       "    </tr>\n",
       "  </tbody>\n",
       "</table>\n",
       "</div>"
      ],
      "text/plain": [
       "    FIPS Admin2       Province_State Country_Region          Last_Update  \\\n",
       "41   NaN    NaN                 Acre         Brazil  2021-01-02 05:22:33   \n",
       "42   NaN    NaN              Alagoas         Brazil  2021-01-02 05:22:33   \n",
       "43   NaN    NaN                Amapa         Brazil  2021-01-02 05:22:33   \n",
       "44   NaN    NaN             Amazonas         Brazil  2021-01-02 05:22:33   \n",
       "45   NaN    NaN                Bahia         Brazil  2021-01-02 05:22:33   \n",
       "46   NaN    NaN                Ceara         Brazil  2021-01-02 05:22:33   \n",
       "47   NaN    NaN     Distrito Federal         Brazil  2021-01-02 05:22:33   \n",
       "48   NaN    NaN       Espirito Santo         Brazil  2021-01-02 05:22:33   \n",
       "49   NaN    NaN                Goias         Brazil  2021-01-02 05:22:33   \n",
       "50   NaN    NaN             Maranhao         Brazil  2021-01-02 05:22:33   \n",
       "51   NaN    NaN          Mato Grosso         Brazil  2021-01-02 05:22:33   \n",
       "52   NaN    NaN   Mato Grosso do Sul         Brazil  2021-01-02 05:22:33   \n",
       "53   NaN    NaN         Minas Gerais         Brazil  2021-01-02 05:22:33   \n",
       "54   NaN    NaN                 Para         Brazil  2021-01-02 05:22:33   \n",
       "55   NaN    NaN              Paraiba         Brazil  2021-01-02 05:22:33   \n",
       "56   NaN    NaN               Parana         Brazil  2021-01-02 05:22:33   \n",
       "57   NaN    NaN           Pernambuco         Brazil  2021-01-02 05:22:33   \n",
       "58   NaN    NaN                Piaui         Brazil  2021-01-02 05:22:33   \n",
       "59   NaN    NaN  Rio Grande do Norte         Brazil  2021-01-02 05:22:33   \n",
       "60   NaN    NaN    Rio Grande do Sul         Brazil  2021-01-02 05:22:33   \n",
       "61   NaN    NaN       Rio de Janeiro         Brazil  2021-01-02 05:22:33   \n",
       "62   NaN    NaN             Rondonia         Brazil  2021-01-02 05:22:33   \n",
       "63   NaN    NaN              Roraima         Brazil  2021-01-02 05:22:33   \n",
       "64   NaN    NaN       Santa Catarina         Brazil  2021-01-02 05:22:33   \n",
       "65   NaN    NaN            Sao Paulo         Brazil  2021-01-02 05:22:33   \n",
       "66   NaN    NaN              Sergipe         Brazil  2021-01-02 05:22:33   \n",
       "67   NaN    NaN            Tocantins         Brazil  2021-01-02 05:22:33   \n",
       "\n",
       "        Lat    Long_  Confirmed  Deaths  Recovered    Active  \\\n",
       "41  -9.0238 -70.8120      41689     796      33670    7223.0   \n",
       "42  -9.5713 -36.7820     105091    2496      99710    2885.0   \n",
       "43   0.9020 -52.0030      68361     926      52670   14765.0   \n",
       "44  -3.4168 -65.8561     201574    5295     170178   26101.0   \n",
       "45 -12.5797 -41.7007     494684    9159     478198    7327.0   \n",
       "46  -5.4984 -39.3206     335992    9993     269846   56153.0   \n",
       "47 -15.7998 -47.8645     252077    4263     241952    5862.0   \n",
       "48 -19.1834 -40.3089     249260    5087     227931   16242.0   \n",
       "49 -15.8270 -49.8362     309112    6805     298401    3906.0   \n",
       "50  -4.9609 -45.2744     200959    4506     190884    5569.0   \n",
       "51 -12.6819 -56.9211     179704    4467     170171    5066.0   \n",
       "52 -20.7722 -54.7852     134750    2347     117816   14587.0   \n",
       "53 -18.5122 -44.5550     546884   12001     494278   40605.0   \n",
       "54  -1.9981 -54.9306     293802    7199     275483   11120.0   \n",
       "55  -7.2400 -36.7820     167062    3680     127030   36352.0   \n",
       "56 -25.2521 -52.0215     418323    7993     305194  105136.0   \n",
       "57  -8.8137 -36.9541     222993    9666     189850   23477.0   \n",
       "58  -7.7183 -42.7289     143179    2840     139971     368.0   \n",
       "59  -5.4026 -36.9541     118353    2993      68394   46966.0   \n",
       "60 -30.0346 -51.2177     451912    8917     424406   18589.0   \n",
       "61 -22.9068 -43.1729     435390   25600     397324   12466.0   \n",
       "62 -11.5057 -63.5806      95999    1822      81122   13055.0   \n",
       "63  -2.7376 -62.0751      68710     787      65405    2518.0   \n",
       "64 -27.2423 -50.2189     494447    5270     467020   22157.0   \n",
       "65 -23.5505 -46.6333    1466191   46775    1287986  131430.0   \n",
       "66 -10.5741 -37.3857     113544    2492      99824   11228.0   \n",
       "67 -10.1753 -48.2982      90536    1236      80658    8642.0   \n",
       "\n",
       "                   Combined_Key  Incident_Rate  Case_Fatality_Ratio  \n",
       "41                 Acre, Brazil    4726.992352             1.909377  \n",
       "42              Alagoas, Brazil    3148.928928             2.375084  \n",
       "43                Amapa, Brazil    8083.066602             1.354574  \n",
       "44             Amazonas, Brazil    4863.536793             2.626827  \n",
       "45                Bahia, Brazil    3326.039611             1.851485  \n",
       "46                Ceara, Brazil    3679.250221             2.974178  \n",
       "47     Distrito Federal, Brazil    8360.019740             1.691150  \n",
       "48       Espirito Santo, Brazil    6202.580469             2.040841  \n",
       "49                Goias, Brazil    4404.337541             2.201467  \n",
       "50             Maranhao, Brazil    2840.337230             2.242248  \n",
       "51          Mato Grosso, Brazil    5157.289524             2.485754  \n",
       "52   Mato Grosso do Sul, Brazil    4848.890926             1.741744  \n",
       "53         Minas Gerais, Brazil    2583.444657             2.194432  \n",
       "54                 Para, Brazil    3415.164599             2.450290  \n",
       "55              Paraiba, Brazil    4157.708305             2.202775  \n",
       "56               Parana, Brazil    3658.602179             1.910724  \n",
       "57           Pernambuco, Brazil    2333.277633             4.334665  \n",
       "58                Piaui, Brazil    4374.245966             1.983531  \n",
       "59  Rio Grande do Norte, Brazil    3374.906219             2.528875  \n",
       "60    Rio Grande do Sul, Brazil    3972.070904             1.973172  \n",
       "61       Rio de Janeiro, Brazil    2521.815450             5.879786  \n",
       "62             Rondonia, Brazil    5401.623317             1.897936  \n",
       "63              Roraima, Brazil   11342.757292             1.145394  \n",
       "64       Santa Catarina, Brazil    6901.069508             1.065837  \n",
       "65            Sao Paulo, Brazil    3192.990778             3.190239  \n",
       "66              Sergipe, Brazil    4939.496132             2.194744  \n",
       "67            Tocantins, Brazil    5756.116541             1.365203  "
      ]
     },
     "execution_count": 33,
     "metadata": {},
     "output_type": "execute_result"
    }
   ],
   "source": [
    "df[df['Country_Region'] == 'Brazil']"
   ]
  },
  {
   "cell_type": "code",
   "execution_count": 32,
   "metadata": {},
   "outputs": [
    {
     "data": {
      "text/plain": [
       "<AxesSubplot:>"
      ]
     },
     "execution_count": 32,
     "metadata": {},
     "output_type": "execute_result"
    },
    {
     "data": {
      "image/png": "[encoded data removed]",
      "text/plain": [
       "<Figure size 432x288 with 1 Axes>"
      ]
     },
     "metadata": {},
     "output_type": "display_data"
    }
   ],
   "source": [
    "df[df['Country_Region'] == 'Brazil']['Confirmed'].plot(kind='line')"
   ]
  },
  {
   "cell_type": "code",
   "execution_count": 34,
   "metadata": {},
   "outputs": [
    {
     "data": {
      "text/html": [
       "<div>\n",
       "<style scoped>\n",
       "    .dataframe tbody tr th:only-of-type {\n",
       "        vertical-align: middle;\n",
       "    }\n",
       "\n",
       "    .dataframe tbody tr th {\n",
       "        vertical-align: top;\n",
       "    }\n",
       "\n",
       "    .dataframe thead th {\n",
       "        text-align: right;\n",
       "    }\n",
       "</style>\n",
       "<table border=\"1\" class=\"dataframe\">\n",
       "  <thead>\n",
       "    <tr style=\"text-align: right;\">\n",
       "      <th></th>\n",
       "      <th>FIPS</th>\n",
       "      <th>Admin2</th>\n",
       "      <th>Province_State</th>\n",
       "      <th>Country_Region</th>\n",
       "      <th>Last_Update</th>\n",
       "      <th>Lat</th>\n",
       "      <th>Long_</th>\n",
       "      <th>Confirmed</th>\n",
       "      <th>Deaths</th>\n",
       "      <th>Recovered</th>\n",
       "      <th>Active</th>\n",
       "      <th>Combined_Key</th>\n",
       "      <th>Incident_Rate</th>\n",
       "      <th>Case_Fatality_Ratio</th>\n",
       "    </tr>\n",
       "  </thead>\n",
       "  <tbody>\n",
       "    <tr>\n",
       "      <th>0</th>\n",
       "      <td>NaN</td>\n",
       "      <td>NaN</td>\n",
       "      <td>NaN</td>\n",
       "      <td>Afghanistan</td>\n",
       "      <td>2021-01-02 05:22:33</td>\n",
       "      <td>33.93911</td>\n",
       "      <td>67.709953</td>\n",
       "      <td>52513</td>\n",
       "      <td>2201</td>\n",
       "      <td>41727</td>\n",
       "      <td>0.0</td>\n",
       "      <td>Afghanistan</td>\n",
       "      <td>0.000000</td>\n",
       "      <td>4.252222</td>\n",
       "    </tr>\n",
       "    <tr>\n",
       "      <th>1</th>\n",
       "      <td>NaN</td>\n",
       "      <td>NaN</td>\n",
       "      <td>NaN</td>\n",
       "      <td>Albania</td>\n",
       "      <td>2021-01-02 05:22:33</td>\n",
       "      <td>41.15330</td>\n",
       "      <td>20.168300</td>\n",
       "      <td>58316</td>\n",
       "      <td>1181</td>\n",
       "      <td>33634</td>\n",
       "      <td>23501.0</td>\n",
       "      <td>Albania</td>\n",
       "      <td>2026.409062</td>\n",
       "      <td>2.025173</td>\n",
       "    </tr>\n",
       "    <tr>\n",
       "      <th>2</th>\n",
       "      <td>NaN</td>\n",
       "      <td>NaN</td>\n",
       "      <td>NaN</td>\n",
       "      <td>Algeria</td>\n",
       "      <td>2021-01-02 05:22:33</td>\n",
       "      <td>28.03390</td>\n",
       "      <td>1.659600</td>\n",
       "      <td>99897</td>\n",
       "      <td>2762</td>\n",
       "      <td>67395</td>\n",
       "      <td>29740.0</td>\n",
       "      <td>Algeria</td>\n",
       "      <td>227.809861</td>\n",
       "      <td>2.764848</td>\n",
       "    </tr>\n",
       "    <tr>\n",
       "      <th>3</th>\n",
       "      <td>NaN</td>\n",
       "      <td>NaN</td>\n",
       "      <td>NaN</td>\n",
       "      <td>Andorra</td>\n",
       "      <td>2021-01-02 05:22:33</td>\n",
       "      <td>42.50630</td>\n",
       "      <td>1.521800</td>\n",
       "      <td>8117</td>\n",
       "      <td>84</td>\n",
       "      <td>7463</td>\n",
       "      <td>570.0</td>\n",
       "      <td>Andorra</td>\n",
       "      <td>10505.403482</td>\n",
       "      <td>1.034865</td>\n",
       "    </tr>\n",
       "    <tr>\n",
       "      <th>4</th>\n",
       "      <td>NaN</td>\n",
       "      <td>NaN</td>\n",
       "      <td>NaN</td>\n",
       "      <td>Angola</td>\n",
       "      <td>2021-01-02 05:22:33</td>\n",
       "      <td>-11.20270</td>\n",
       "      <td>17.873900</td>\n",
       "      <td>17568</td>\n",
       "      <td>405</td>\n",
       "      <td>11146</td>\n",
       "      <td>6017.0</td>\n",
       "      <td>Angola</td>\n",
       "      <td>53.452981</td>\n",
       "      <td>2.305328</td>\n",
       "    </tr>\n",
       "  </tbody>\n",
       "</table>\n",
       "</div>"
      ],
      "text/plain": [
       "   FIPS Admin2 Province_State Country_Region          Last_Update       Lat  \\\n",
       "0   NaN    NaN            NaN    Afghanistan  2021-01-02 05:22:33  33.93911   \n",
       "1   NaN    NaN            NaN        Albania  2021-01-02 05:22:33  41.15330   \n",
       "2   NaN    NaN            NaN        Algeria  2021-01-02 05:22:33  28.03390   \n",
       "3   NaN    NaN            NaN        Andorra  2021-01-02 05:22:33  42.50630   \n",
       "4   NaN    NaN            NaN         Angola  2021-01-02 05:22:33 -11.20270   \n",
       "\n",
       "       Long_  Confirmed  Deaths  Recovered   Active Combined_Key  \\\n",
       "0  67.709953      52513    2201      41727      0.0  Afghanistan   \n",
       "1  20.168300      58316    1181      33634  23501.0      Albania   \n",
       "2   1.659600      99897    2762      67395  29740.0      Algeria   \n",
       "3   1.521800       8117      84       7463    570.0      Andorra   \n",
       "4  17.873900      17568     405      11146   6017.0       Angola   \n",
       "\n",
       "   Incident_Rate  Case_Fatality_Ratio  \n",
       "0       0.000000             4.252222  \n",
       "1    2026.409062             2.025173  \n",
       "2     227.809861             2.764848  \n",
       "3   10505.403482             1.034865  \n",
       "4      53.452981             2.305328  "
      ]
     },
     "execution_count": 34,
     "metadata": {},
     "output_type": "execute_result"
    }
   ],
   "source": [
    "df.head()"
   ]
  },
  {
   "cell_type": "code",
   "execution_count": 35,
   "metadata": {},
   "outputs": [],
   "source": [
    "# remove some columns since statewide data is not available for all countries\n",
    "df.drop(['FIPS', 'Admin2', 'Province_State', 'Last_Update', 'Combined_Key'], axis=1, inplace=True)"
   ]
  },
  {
   "cell_type": "code",
   "execution_count": 36,
   "metadata": {},
   "outputs": [],
   "source": [
    "# rename some columns for more user-friendly readability\n",
    "df.rename(columns={'Country_Region': 'Country', 'Lat': 'Latitude', 'Long_': 'Longitude'}, inplace=True)"
   ]
  },
  {
   "cell_type": "code",
   "execution_count": 44,
   "metadata": {},
   "outputs": [
    {
     "data": {
      "text/html": [
       "<div>\n",
       "<style scoped>\n",
       "    .dataframe tbody tr th:only-of-type {\n",
       "        vertical-align: middle;\n",
       "    }\n",
       "\n",
       "    .dataframe tbody tr th {\n",
       "        vertical-align: top;\n",
       "    }\n",
       "\n",
       "    .dataframe thead th {\n",
       "        text-align: right;\n",
       "    }\n",
       "</style>\n",
       "<table border=\"1\" class=\"dataframe\">\n",
       "  <thead>\n",
       "    <tr style=\"text-align: right;\">\n",
       "      <th></th>\n",
       "      <th>Country</th>\n",
       "      <th>Latitude</th>\n",
       "      <th>Longitude</th>\n",
       "      <th>Confirmed</th>\n",
       "      <th>Deaths</th>\n",
       "      <th>Recovered</th>\n",
       "      <th>Active</th>\n",
       "      <th>Incident_Rate</th>\n",
       "      <th>Case_Fatality_Ratio</th>\n",
       "    </tr>\n",
       "  </thead>\n",
       "  <tbody>\n",
       "    <tr>\n",
       "      <th>0</th>\n",
       "      <td>Afghanistan</td>\n",
       "      <td>33.939110</td>\n",
       "      <td>67.709953</td>\n",
       "      <td>52513</td>\n",
       "      <td>2201</td>\n",
       "      <td>41727</td>\n",
       "      <td>0.0</td>\n",
       "      <td>0.000000</td>\n",
       "      <td>4.252222</td>\n",
       "    </tr>\n",
       "    <tr>\n",
       "      <th>1</th>\n",
       "      <td>Albania</td>\n",
       "      <td>41.153300</td>\n",
       "      <td>20.168300</td>\n",
       "      <td>58316</td>\n",
       "      <td>1181</td>\n",
       "      <td>33634</td>\n",
       "      <td>23501.0</td>\n",
       "      <td>2026.409062</td>\n",
       "      <td>2.025173</td>\n",
       "    </tr>\n",
       "    <tr>\n",
       "      <th>2</th>\n",
       "      <td>Algeria</td>\n",
       "      <td>28.033900</td>\n",
       "      <td>1.659600</td>\n",
       "      <td>99897</td>\n",
       "      <td>2762</td>\n",
       "      <td>67395</td>\n",
       "      <td>29740.0</td>\n",
       "      <td>227.809861</td>\n",
       "      <td>2.764848</td>\n",
       "    </tr>\n",
       "    <tr>\n",
       "      <th>3</th>\n",
       "      <td>Andorra</td>\n",
       "      <td>42.506300</td>\n",
       "      <td>1.521800</td>\n",
       "      <td>8117</td>\n",
       "      <td>84</td>\n",
       "      <td>7463</td>\n",
       "      <td>570.0</td>\n",
       "      <td>10505.403482</td>\n",
       "      <td>1.034865</td>\n",
       "    </tr>\n",
       "    <tr>\n",
       "      <th>4</th>\n",
       "      <td>Angola</td>\n",
       "      <td>-11.202700</td>\n",
       "      <td>17.873900</td>\n",
       "      <td>17568</td>\n",
       "      <td>405</td>\n",
       "      <td>11146</td>\n",
       "      <td>6017.0</td>\n",
       "      <td>53.452981</td>\n",
       "      <td>2.305328</td>\n",
       "    </tr>\n",
       "    <tr>\n",
       "      <th>5</th>\n",
       "      <td>Antigua and Barbuda</td>\n",
       "      <td>17.060800</td>\n",
       "      <td>-61.796400</td>\n",
       "      <td>159</td>\n",
       "      <td>5</td>\n",
       "      <td>148</td>\n",
       "      <td>6.0</td>\n",
       "      <td>162.364186</td>\n",
       "      <td>3.144654</td>\n",
       "    </tr>\n",
       "    <tr>\n",
       "      <th>6</th>\n",
       "      <td>Argentina</td>\n",
       "      <td>-38.416100</td>\n",
       "      <td>-63.616700</td>\n",
       "      <td>1629594</td>\n",
       "      <td>43319</td>\n",
       "      <td>1426676</td>\n",
       "      <td>159599.0</td>\n",
       "      <td>3605.633332</td>\n",
       "      <td>2.658269</td>\n",
       "    </tr>\n",
       "    <tr>\n",
       "      <th>7</th>\n",
       "      <td>Armenia</td>\n",
       "      <td>40.069100</td>\n",
       "      <td>45.038200</td>\n",
       "      <td>159738</td>\n",
       "      <td>2828</td>\n",
       "      <td>143355</td>\n",
       "      <td>13555.0</td>\n",
       "      <td>5390.664389</td>\n",
       "      <td>1.770399</td>\n",
       "    </tr>\n",
       "    <tr>\n",
       "      <th>8</th>\n",
       "      <td>Australia</td>\n",
       "      <td>-35.473500</td>\n",
       "      <td>149.012400</td>\n",
       "      <td>118</td>\n",
       "      <td>3</td>\n",
       "      <td>114</td>\n",
       "      <td>1.0</td>\n",
       "      <td>27.563653</td>\n",
       "      <td>2.542373</td>\n",
       "    </tr>\n",
       "    <tr>\n",
       "      <th>9</th>\n",
       "      <td>Australia</td>\n",
       "      <td>-33.868800</td>\n",
       "      <td>151.209300</td>\n",
       "      <td>4947</td>\n",
       "      <td>54</td>\n",
       "      <td>0</td>\n",
       "      <td>1696.0</td>\n",
       "      <td>60.938655</td>\n",
       "      <td>1.091571</td>\n",
       "    </tr>\n",
       "    <tr>\n",
       "      <th>10</th>\n",
       "      <td>Australia</td>\n",
       "      <td>-12.463400</td>\n",
       "      <td>130.845600</td>\n",
       "      <td>75</td>\n",
       "      <td>0</td>\n",
       "      <td>71</td>\n",
       "      <td>4.0</td>\n",
       "      <td>30.537459</td>\n",
       "      <td>0.000000</td>\n",
       "    </tr>\n",
       "    <tr>\n",
       "      <th>11</th>\n",
       "      <td>Australia</td>\n",
       "      <td>-27.469800</td>\n",
       "      <td>153.025100</td>\n",
       "      <td>1255</td>\n",
       "      <td>6</td>\n",
       "      <td>1224</td>\n",
       "      <td>25.0</td>\n",
       "      <td>24.533281</td>\n",
       "      <td>0.478088</td>\n",
       "    </tr>\n",
       "    <tr>\n",
       "      <th>12</th>\n",
       "      <td>Australia</td>\n",
       "      <td>-34.928500</td>\n",
       "      <td>138.600700</td>\n",
       "      <td>580</td>\n",
       "      <td>4</td>\n",
       "      <td>566</td>\n",
       "      <td>10.0</td>\n",
       "      <td>33.020211</td>\n",
       "      <td>0.689655</td>\n",
       "    </tr>\n",
       "    <tr>\n",
       "      <th>13</th>\n",
       "      <td>Australia</td>\n",
       "      <td>-42.882100</td>\n",
       "      <td>147.327200</td>\n",
       "      <td>234</td>\n",
       "      <td>13</td>\n",
       "      <td>221</td>\n",
       "      <td>0.0</td>\n",
       "      <td>43.697479</td>\n",
       "      <td>5.555556</td>\n",
       "    </tr>\n",
       "    <tr>\n",
       "      <th>14</th>\n",
       "      <td>Australia</td>\n",
       "      <td>-37.813600</td>\n",
       "      <td>144.963100</td>\n",
       "      <td>20388</td>\n",
       "      <td>820</td>\n",
       "      <td>19539</td>\n",
       "      <td>29.0</td>\n",
       "      <td>307.515950</td>\n",
       "      <td>4.021974</td>\n",
       "    </tr>\n",
       "    <tr>\n",
       "      <th>15</th>\n",
       "      <td>Australia</td>\n",
       "      <td>-31.950500</td>\n",
       "      <td>115.860500</td>\n",
       "      <td>863</td>\n",
       "      <td>9</td>\n",
       "      <td>838</td>\n",
       "      <td>16.0</td>\n",
       "      <td>32.806204</td>\n",
       "      <td>1.042874</td>\n",
       "    </tr>\n",
       "    <tr>\n",
       "      <th>16</th>\n",
       "      <td>Austria</td>\n",
       "      <td>47.516200</td>\n",
       "      <td>14.550100</td>\n",
       "      <td>362911</td>\n",
       "      <td>6261</td>\n",
       "      <td>334901</td>\n",
       "      <td>21749.0</td>\n",
       "      <td>4029.479037</td>\n",
       "      <td>1.725216</td>\n",
       "    </tr>\n",
       "    <tr>\n",
       "      <th>17</th>\n",
       "      <td>Azerbaijan</td>\n",
       "      <td>40.143100</td>\n",
       "      <td>47.576900</td>\n",
       "      <td>219041</td>\n",
       "      <td>2670</td>\n",
       "      <td>188280</td>\n",
       "      <td>28091.0</td>\n",
       "      <td>2160.343420</td>\n",
       "      <td>1.218950</td>\n",
       "    </tr>\n",
       "    <tr>\n",
       "      <th>18</th>\n",
       "      <td>Bahamas</td>\n",
       "      <td>25.025885</td>\n",
       "      <td>-78.035889</td>\n",
       "      <td>7887</td>\n",
       "      <td>171</td>\n",
       "      <td>6239</td>\n",
       "      <td>1477.0</td>\n",
       "      <td>2005.604606</td>\n",
       "      <td>2.168125</td>\n",
       "    </tr>\n",
       "    <tr>\n",
       "      <th>19</th>\n",
       "      <td>Bahrain</td>\n",
       "      <td>26.027500</td>\n",
       "      <td>50.550000</td>\n",
       "      <td>92913</td>\n",
       "      <td>352</td>\n",
       "      <td>90369</td>\n",
       "      <td>2192.0</td>\n",
       "      <td>5460.386005</td>\n",
       "      <td>0.378849</td>\n",
       "    </tr>\n",
       "  </tbody>\n",
       "</table>\n",
       "</div>"
      ],
      "text/plain": [
       "                Country   Latitude   Longitude  Confirmed  Deaths  Recovered  \\\n",
       "0           Afghanistan  33.939110   67.709953      52513    2201      41727   \n",
       "1               Albania  41.153300   20.168300      58316    1181      33634   \n",
       "2               Algeria  28.033900    1.659600      99897    2762      67395   \n",
       "3               Andorra  42.506300    1.521800       8117      84       7463   \n",
       "4                Angola -11.202700   17.873900      17568     405      11146   \n",
       "5   Antigua and Barbuda  17.060800  -61.796400        159       5        148   \n",
       "6             Argentina -38.416100  -63.616700    1629594   43319    1426676   \n",
       "7               Armenia  40.069100   45.038200     159738    2828     143355   \n",
       "8             Australia -35.473500  149.012400        118       3        114   \n",
       "9             Australia -33.868800  151.209300       4947      54          0   \n",
       "10            Australia -12.463400  130.845600         75       0         71   \n",
       "11            Australia -27.469800  153.025100       1255       6       1224   \n",
       "12            Australia -34.928500  138.600700        580       4        566   \n",
       "13            Australia -42.882100  147.327200        234      13        221   \n",
       "14            Australia -37.813600  144.963100      20388     820      19539   \n",
       "15            Australia -31.950500  115.860500        863       9        838   \n",
       "16              Austria  47.516200   14.550100     362911    6261     334901   \n",
       "17           Azerbaijan  40.143100   47.576900     219041    2670     188280   \n",
       "18              Bahamas  25.025885  -78.035889       7887     171       6239   \n",
       "19              Bahrain  26.027500   50.550000      92913     352      90369   \n",
       "\n",
       "      Active  Incident_Rate  Case_Fatality_Ratio  \n",
       "0        0.0       0.000000             4.252222  \n",
       "1    23501.0    2026.409062             2.025173  \n",
       "2    29740.0     227.809861             2.764848  \n",
       "3      570.0   10505.403482             1.034865  \n",
       "4     6017.0      53.452981             2.305328  \n",
       "5        6.0     162.364186             3.144654  \n",
       "6   159599.0    3605.633332             2.658269  \n",
       "7    13555.0    5390.664389             1.770399  \n",
       "8        1.0      27.563653             2.542373  \n",
       "9     1696.0      60.938655             1.091571  \n",
       "10       4.0      30.537459             0.000000  \n",
       "11      25.0      24.533281             0.478088  \n",
       "12      10.0      33.020211             0.689655  \n",
       "13       0.0      43.697479             5.555556  \n",
       "14      29.0     307.515950             4.021974  \n",
       "15      16.0      32.806204             1.042874  \n",
       "16   21749.0    4029.479037             1.725216  \n",
       "17   28091.0    2160.343420             1.218950  \n",
       "18    1477.0    2005.604606             2.168125  \n",
       "19    2192.0    5460.386005             0.378849  "
      ]
     },
     "execution_count": 44,
     "metadata": {},
     "output_type": "execute_result"
    }
   ],
   "source": [
    "# show the first 20 rows of the dataframe\n",
    "df.head(20)"
   ]
  },
  {
   "cell_type": "code",
   "execution_count": 45,
   "metadata": {},
   "outputs": [
    {
     "name": "stderr",
     "output_type": "stream",
     "text": [
      "<ipython-input-45-5d1260eaf68f>:1: FutureWarning: Indexing with multiple keys (implicitly converted to a tuple of keys) will be deprecated, use a list instead.\n",
      "  world_df = df.groupby('Country')['Confirmed', 'Active', 'Recovered', 'Deaths'].sum().reset_index()\n"
     ]
    }
   ],
   "source": [
    "# group the data together by country\n",
    "world_df = df.groupby('Country')['Confirmed', 'Active', 'Recovered', 'Deaths'].sum().reset_index()"
   ]
  },
  {
   "cell_type": "code",
   "execution_count": 46,
   "metadata": {},
   "outputs": [
    {
     "data": {
      "text/html": [
       "<div>\n",
       "<style scoped>\n",
       "    .dataframe tbody tr th:only-of-type {\n",
       "        vertical-align: middle;\n",
       "    }\n",
       "\n",
       "    .dataframe tbody tr th {\n",
       "        vertical-align: top;\n",
       "    }\n",
       "\n",
       "    .dataframe thead th {\n",
       "        text-align: right;\n",
       "    }\n",
       "</style>\n",
       "<table border=\"1\" class=\"dataframe\">\n",
       "  <thead>\n",
       "    <tr style=\"text-align: right;\">\n",
       "      <th></th>\n",
       "      <th>Country</th>\n",
       "      <th>Confirmed</th>\n",
       "      <th>Active</th>\n",
       "      <th>Recovered</th>\n",
       "      <th>Deaths</th>\n",
       "    </tr>\n",
       "  </thead>\n",
       "  <tbody>\n",
       "    <tr>\n",
       "      <th>0</th>\n",
       "      <td>Afghanistan</td>\n",
       "      <td>52513</td>\n",
       "      <td>0.0</td>\n",
       "      <td>41727</td>\n",
       "      <td>2201</td>\n",
       "    </tr>\n",
       "    <tr>\n",
       "      <th>1</th>\n",
       "      <td>Albania</td>\n",
       "      <td>58316</td>\n",
       "      <td>23501.0</td>\n",
       "      <td>33634</td>\n",
       "      <td>1181</td>\n",
       "    </tr>\n",
       "    <tr>\n",
       "      <th>2</th>\n",
       "      <td>Algeria</td>\n",
       "      <td>99897</td>\n",
       "      <td>29740.0</td>\n",
       "      <td>67395</td>\n",
       "      <td>2762</td>\n",
       "    </tr>\n",
       "    <tr>\n",
       "      <th>3</th>\n",
       "      <td>Andorra</td>\n",
       "      <td>8117</td>\n",
       "      <td>570.0</td>\n",
       "      <td>7463</td>\n",
       "      <td>84</td>\n",
       "    </tr>\n",
       "    <tr>\n",
       "      <th>4</th>\n",
       "      <td>Angola</td>\n",
       "      <td>17568</td>\n",
       "      <td>6017.0</td>\n",
       "      <td>11146</td>\n",
       "      <td>405</td>\n",
       "    </tr>\n",
       "  </tbody>\n",
       "</table>\n",
       "</div>"
      ],
      "text/plain": [
       "       Country  Confirmed   Active  Recovered  Deaths\n",
       "0  Afghanistan      52513      0.0      41727    2201\n",
       "1      Albania      58316  23501.0      33634    1181\n",
       "2      Algeria      99897  29740.0      67395    2762\n",
       "3      Andorra       8117    570.0       7463      84\n",
       "4       Angola      17568   6017.0      11146     405"
      ]
     },
     "execution_count": 46,
     "metadata": {},
     "output_type": "execute_result"
    }
   ],
   "source": [
    "# check the head of the dataframe\n",
    "world_df.head()"
   ]
  },
  {
   "cell_type": "code",
   "execution_count": 47,
   "metadata": {},
   "outputs": [
    {
     "data": {
      "text/html": [
       "<div>\n",
       "<style scoped>\n",
       "    .dataframe tbody tr th:only-of-type {\n",
       "        vertical-align: middle;\n",
       "    }\n",
       "\n",
       "    .dataframe tbody tr th {\n",
       "        vertical-align: top;\n",
       "    }\n",
       "\n",
       "    .dataframe thead th {\n",
       "        text-align: right;\n",
       "    }\n",
       "</style>\n",
       "<table border=\"1\" class=\"dataframe\">\n",
       "  <thead>\n",
       "    <tr style=\"text-align: right;\">\n",
       "      <th></th>\n",
       "      <th>Country</th>\n",
       "      <th>Confirmed</th>\n",
       "      <th>Active</th>\n",
       "      <th>Recovered</th>\n",
       "      <th>Deaths</th>\n",
       "    </tr>\n",
       "  </thead>\n",
       "  <tbody>\n",
       "    <tr>\n",
       "      <th>23</th>\n",
       "      <td>Brazil</td>\n",
       "      <td>7700578</td>\n",
       "      <td>649795.0</td>\n",
       "      <td>6855372</td>\n",
       "      <td>195411</td>\n",
       "    </tr>\n",
       "  </tbody>\n",
       "</table>\n",
       "</div>"
      ],
      "text/plain": [
       "   Country  Confirmed    Active  Recovered  Deaths\n",
       "23  Brazil    7700578  649795.0    6855372  195411"
      ]
     },
     "execution_count": 47,
     "metadata": {},
     "output_type": "execute_result"
    }
   ],
   "source": [
    "# check the data for Brazil\n",
    "world_df[world_df['Country'] == 'Brazil'].sort_values(by='Confirmed', ascending=False)"
   ]
  },
  {
   "cell_type": "code",
   "execution_count": 49,
   "metadata": {},
   "outputs": [],
   "source": [
    "import plotly.express as px"
   ]
  },
  {
   "cell_type": "code",
   "execution_count": 54,
   "metadata": {},
   "outputs": [
    {
     "data": {
      "application/vnd.plotly.v1+json": {
       "config": {
        "plotlyServerURL": "https://plot.ly"
       },
       "data": [
        {
         "customdata": [
          [
           7700578,
           649795,
           6855372,
           195411
          ]
         ],
         "geo": "geo",
         "hovertemplate": "<b>%{hovertext}</b><br><br>Confirmed=%{marker.color}<br>Country=%{location}<br>Active=%{customdata[1]}<br>Recovered=%{customdata[2]}<br>Deaths=%{customdata[3]}<extra></extra>",
         "hovertext": [
          "Brazil"
         ],
         "legendgroup": "",
         "locationmode": "country names",
         "locations": [
          "Brazil"
         ],
         "marker": {
          "color": [
           7700578
          ],
          "coloraxis": "coloraxis",
          "size": [
           7700578
          ],
          "sizemode": "area",
          "sizeref": 3080.2312,
          "symbol": "circle"
         },
         "mode": "markers",
         "name": "",
         "showlegend": false,
         "type": "scattergeo"
        }
       ],
       "layout": {
        "coloraxis": {
         "cmax": 1000,
         "cmin": 0,
         "colorbar": {
          "title": {
           "text": "Confirmed"
          }
         },
         "colorscale": [
          [
           0,
           "#0d0887"
          ],
          [
           0.1111111111111111,
           "#46039f"
          ],
          [
           0.2222222222222222,
           "#7201a8"
          ],
          [
           0.3333333333333333,
           "#9c179e"
          ],
          [
           0.4444444444444444,
           "#bd3786"
          ],
          [
           0.5555555555555556,
           "#d8576b"
          ],
          [
           0.6666666666666666,
           "#ed7953"
          ],
          [
           0.7777777777777778,
           "#fb9f3a"
          ],
          [
           0.8888888888888888,
           "#fdca26"
          ],
          [
           1,
           "#f0f921"
          ]
         ]
        },
        "geo": {
         "center": {},
         "domain": {
          "x": [
           0,
           1
          ],
          "y": [
           0,
           1
          ]
         },
         "projection": {
          "type": "natural earth"
         }
        },
        "legend": {
         "itemsizing": "constant",
         "tracegroupgap": 0
        },
        "margin": {
         "t": 60
        },
        "template": {
         "data": {
          "bar": [
           {
            "error_x": {
             "color": "#2a3f5f"
            },
            "error_y": {
             "color": "#2a3f5f"
            },
            "marker": {
             "line": {
              "color": "#E5ECF6",
              "width": 0.5
             },
             "pattern": {
              "fillmode": "overlay",
              "size": 10,
              "solidity": 0.2
             }
            },
            "type": "bar"
           }
          ],
          "barpolar": [
           {
            "marker": {
             "line": {
              "color": "#E5ECF6",
              "width": 0.5
             },
             "pattern": {
              "fillmode": "overlay",
              "size": 10,
              "solidity": 0.2
             }
            },
            "type": "barpolar"
           }
          ],
          "carpet": [
           {
            "aaxis": {
             "endlinecolor": "#2a3f5f",
             "gridcolor": "white",
             "linecolor": "white",
             "minorgridcolor": "white",
             "startlinecolor": "#2a3f5f"
            },
            "baxis": {
             "endlinecolor": "#2a3f5f",
             "gridcolor": "white",
             "linecolor": "white",
             "minorgridcolor": "white",
             "startlinecolor": "#2a3f5f"
            },
            "type": "carpet"
           }
          ],
          "choropleth": [
           {
            "colorbar": {
             "outlinewidth": 0,
             "ticks": ""
            },
            "type": "choropleth"
           }
          ],
          "contour": [
           {
            "colorbar": {
             "outlinewidth": 0,
             "ticks": ""
            },
            "colorscale": [
             [
              0,
              "#0d0887"
             ],
             [
              0.1111111111111111,
              "#46039f"
             ],
             [
              0.2222222222222222,
              "#7201a8"
             ],
             [
              0.3333333333333333,
              "#9c179e"
             ],
             [
              0.4444444444444444,
              "#bd3786"
             ],
             [
              0.5555555555555556,
              "#d8576b"
             ],
             [
              0.6666666666666666,
              "#ed7953"
             ],
             [
              0.7777777777777778,
              "#fb9f3a"
             ],
             [
              0.8888888888888888,
              "#fdca26"
             ],
             [
              1,
              "#f0f921"
             ]
            ],
            "type": "contour"
           }
          ],
          "contourcarpet": [
           {
            "colorbar": {
             "outlinewidth": 0,
             "ticks": ""
            },
            "type": "contourcarpet"
           }
          ],
          "heatmap": [
           {
            "colorbar": {
             "outlinewidth": 0,
             "ticks": ""
            },
            "colorscale": [
             [
              0,
              "#0d0887"
             ],
             [
              0.1111111111111111,
              "#46039f"
             ],
             [
              0.2222222222222222,
              "#7201a8"
             ],
             [
              0.3333333333333333,
              "#9c179e"
             ],
             [
              0.4444444444444444,
              "#bd3786"
             ],
             [
              0.5555555555555556,
              "#d8576b"
             ],
             [
              0.6666666666666666,
              "#ed7953"
             ],
             [
              0.7777777777777778,
              "#fb9f3a"
             ],
             [
              0.8888888888888888,
              "#fdca26"
             ],
             [
              1,
              "#f0f921"
             ]
            ],
            "type": "heatmap"
           }
          ],
          "heatmapgl": [
           {
            "colorbar": {
             "outlinewidth": 0,
             "ticks": ""
            },
            "colorscale": [
             [
              0,
              "#0d0887"
             ],
             [
              0.1111111111111111,
              "#46039f"
             ],
             [
              0.2222222222222222,
              "#7201a8"
             ],
             [
              0.3333333333333333,
              "#9c179e"
             ],
             [
              0.4444444444444444,
              "#bd3786"
             ],
             [
              0.5555555555555556,
              "#d8576b"
             ],
             [
              0.6666666666666666,
              "#ed7953"
             ],
             [
              0.7777777777777778,
              "#fb9f3a"
             ],
             [
              0.8888888888888888,
              "#fdca26"
             ],
             [
              1,
              "#f0f921"
             ]
            ],
            "type": "heatmapgl"
           }
          ],
          "histogram": [
           {
            "marker": {
             "pattern": {
              "fillmode": "overlay",
              "size": 10,
              "solidity": 0.2
             }
            },
            "type": "histogram"
           }
          ],
          "histogram2d": [
           {
            "colorbar": {
             "outlinewidth": 0,
             "ticks": ""
            },
            "colorscale": [
             [
              0,
              "#0d0887"
             ],
             [
              0.1111111111111111,
              "#46039f"
             ],
             [
              0.2222222222222222,
              "#7201a8"
             ],
             [
              0.3333333333333333,
              "#9c179e"
             ],
             [
              0.4444444444444444,
              "#bd3786"
             ],
             [
              0.5555555555555556,
              "#d8576b"
             ],
             [
              0.6666666666666666,
              "#ed7953"
             ],
             [
              0.7777777777777778,
              "#fb9f3a"
             ],
             [
              0.8888888888888888,
              "#fdca26"
             ],
             [
              1,
              "#f0f921"
             ]
            ],
            "type": "histogram2d"
           }
          ],
          "histogram2dcontour": [
           {
            "colorbar": {
             "outlinewidth": 0,
             "ticks": ""
            },
            "colorscale": [
             [
              0,
              "#0d0887"
             ],
             [
              0.1111111111111111,
              "#46039f"
             ],
             [
              0.2222222222222222,
              "#7201a8"
             ],
             [
              0.3333333333333333,
              "#9c179e"
             ],
             [
              0.4444444444444444,
              "#bd3786"
             ],
             [
              0.5555555555555556,
              "#d8576b"
             ],
             [
              0.6666666666666666,
              "#ed7953"
             ],
             [
              0.7777777777777778,
              "#fb9f3a"
             ],
             [
              0.8888888888888888,
              "#fdca26"
             ],
             [
              1,
              "#f0f921"
             ]
            ],
            "type": "histogram2dcontour"
           }
          ],
          "mesh3d": [
           {
            "colorbar": {
             "outlinewidth": 0,
             "ticks": ""
            },
            "type": "mesh3d"
           }
          ],
          "parcoords": [
           {
            "line": {
             "colorbar": {
              "outlinewidth": 0,
              "ticks": ""
             }
            },
            "type": "parcoords"
           }
          ],
          "pie": [
           {
            "automargin": true,
            "type": "pie"
           }
          ],
          "scatter": [
           {
            "marker": {
             "colorbar": {
              "outlinewidth": 0,
              "ticks": ""
             }
            },
            "type": "scatter"
           }
          ],
          "scatter3d": [
           {
            "line": {
             "colorbar": {
              "outlinewidth": 0,
              "ticks": ""
             }
            },
            "marker": {
             "colorbar": {
              "outlinewidth": 0,
              "ticks": ""
             }
            },
            "type": "scatter3d"
           }
          ],
          "scattercarpet": [
           {
            "marker": {
             "colorbar": {
              "outlinewidth": 0,
              "ticks": ""
             }
            },
            "type": "scattercarpet"
           }
          ],
          "scattergeo": [
           {
            "marker": {
             "colorbar": {
              "outlinewidth": 0,
              "ticks": ""
             }
            },
            "type": "scattergeo"
           }
          ],
          "scattergl": [
           {
            "marker": {
             "colorbar": {
              "outlinewidth": 0,
              "ticks": ""
             }
            },
            "type": "scattergl"
           }
          ],
          "scattermapbox": [
           {
            "marker": {
             "colorbar": {
              "outlinewidth": 0,
              "ticks": ""
             }
            },
            "type": "scattermapbox"
           }
          ],
          "scatterpolar": [
           {
            "marker": {
             "colorbar": {
              "outlinewidth": 0,
              "ticks": ""
             }
            },
            "type": "scatterpolar"
           }
          ],
          "scatterpolargl": [
           {
            "marker": {
             "colorbar": {
              "outlinewidth": 0,
              "ticks": ""
             }
            },
            "type": "scatterpolargl"
           }
          ],
          "scatterternary": [
           {
            "marker": {
             "colorbar": {
              "outlinewidth": 0,
              "ticks": ""
             }
            },
            "type": "scatterternary"
           }
          ],
          "surface": [
           {
            "colorbar": {
             "outlinewidth": 0,
             "ticks": ""
            },
            "colorscale": [
             [
              0,
              "#0d0887"
             ],
             [
              0.1111111111111111,
              "#46039f"
             ],
             [
              0.2222222222222222,
              "#7201a8"
             ],
             [
              0.3333333333333333,
              "#9c179e"
             ],
             [
              0.4444444444444444,
              "#bd3786"
             ],
             [
              0.5555555555555556,
              "#d8576b"
             ],
             [
              0.6666666666666666,
              "#ed7953"
             ],
             [
              0.7777777777777778,
              "#fb9f3a"
             ],
             [
              0.8888888888888888,
              "#fdca26"
             ],
             [
              1,
              "#f0f921"
             ]
            ],
            "type": "surface"
           }
          ],
          "table": [
           {
            "cells": {
             "fill": {
              "color": "#EBF0F8"
             },
             "line": {
              "color": "white"
             }
            },
            "header": {
             "fill": {
              "color": "#C8D4E3"
             },
             "line": {
              "color": "white"
             }
            },
            "type": "table"
           }
          ]
         },
         "layout": {
          "annotationdefaults": {
           "arrowcolor": "#2a3f5f",
           "arrowhead": 0,
           "arrowwidth": 1
          },
          "autotypenumbers": "strict",
          "coloraxis": {
           "colorbar": {
            "outlinewidth": 0,
            "ticks": ""
           }
          },
          "colorscale": {
           "diverging": [
            [
             0,
             "#8e0152"
            ],
            [
             0.1,
             "#c51b7d"
            ],
            [
             0.2,
             "#de77ae"
            ],
            [
             0.3,
             "#f1b6da"
            ],
            [
             0.4,
             "#fde0ef"
            ],
            [
             0.5,
             "#f7f7f7"
            ],
            [
             0.6,
             "#e6f5d0"
            ],
            [
             0.7,
             "#b8e186"
            ],
            [
             0.8,
             "#7fbc41"
            ],
            [
             0.9,
             "#4d9221"
            ],
            [
             1,
             "#276419"
            ]
           ],
           "sequential": [
            [
             0,
             "#0d0887"
            ],
            [
             0.1111111111111111,
             "#46039f"
            ],
            [
             0.2222222222222222,
             "#7201a8"
            ],
            [
             0.3333333333333333,
             "#9c179e"
            ],
            [
             0.4444444444444444,
             "#bd3786"
            ],
            [
             0.5555555555555556,
             "#d8576b"
            ],
            [
             0.6666666666666666,
             "#ed7953"
            ],
            [
             0.7777777777777778,
             "#fb9f3a"
            ],
            [
             0.8888888888888888,
             "#fdca26"
            ],
            [
             1,
             "#f0f921"
            ]
           ],
           "sequentialminus": [
            [
             0,
             "#0d0887"
            ],
            [
             0.1111111111111111,
             "#46039f"
            ],
            [
             0.2222222222222222,
             "#7201a8"
            ],
            [
             0.3333333333333333,
             "#9c179e"
            ],
            [
             0.4444444444444444,
             "#bd3786"
            ],
            [
             0.5555555555555556,
             "#d8576b"
            ],
            [
             0.6666666666666666,
             "#ed7953"
            ],
            [
             0.7777777777777778,
             "#fb9f3a"
            ],
            [
             0.8888888888888888,
             "#fdca26"
            ],
            [
             1,
             "#f0f921"
            ]
           ]
          },
          "colorway": [
           "#636efa",
           "#EF553B",
           "#00cc96",
           "#ab63fa",
           "#FFA15A",
           "#19d3f3",
           "#FF6692",
           "#B6E880",
           "#FF97FF",
           "#FECB52"
          ],
          "font": {
           "color": "#2a3f5f"
          },
          "geo": {
           "bgcolor": "white",
           "lakecolor": "white",
           "landcolor": "#E5ECF6",
           "showlakes": true,
           "showland": true,
           "subunitcolor": "white"
          },
          "hoverlabel": {
           "align": "left"
          },
          "hovermode": "closest",
          "mapbox": {
           "style": "light"
          },
          "paper_bgcolor": "white",
          "plot_bgcolor": "#E5ECF6",
          "polar": {
           "angularaxis": {
            "gridcolor": "white",
            "linecolor": "white",
            "ticks": ""
           },
           "bgcolor": "#E5ECF6",
           "radialaxis": {
            "gridcolor": "white",
            "linecolor": "white",
            "ticks": ""
           }
          },
          "scene": {
           "xaxis": {
            "backgroundcolor": "#E5ECF6",
            "gridcolor": "white",
            "gridwidth": 2,
            "linecolor": "white",
            "showbackground": true,
            "ticks": "",
            "zerolinecolor": "white"
           },
           "yaxis": {
            "backgroundcolor": "#E5ECF6",
            "gridcolor": "white",
            "gridwidth": 2,
            "linecolor": "white",
            "showbackground": true,
            "ticks": "",
            "zerolinecolor": "white"
           },
           "zaxis": {
            "backgroundcolor": "#E5ECF6",
            "gridcolor": "white",
            "gridwidth": 2,
            "linecolor": "white",
            "showbackground": true,
            "ticks": "",
            "zerolinecolor": "white"
           }
          },
          "shapedefaults": {
           "line": {
            "color": "#2a3f5f"
           }
          },
          "ternary": {
           "aaxis": {
            "gridcolor": "white",
            "linecolor": "white",
            "ticks": ""
           },
           "baxis": {
            "gridcolor": "white",
            "linecolor": "white",
            "ticks": ""
           },
           "bgcolor": "#E5ECF6",
           "caxis": {
            "gridcolor": "white",
            "linecolor": "white",
            "ticks": ""
           }
          },
          "title": {
           "x": 0.05
          },
          "xaxis": {
           "automargin": true,
           "gridcolor": "white",
           "linecolor": "white",
           "ticks": "",
           "title": {
            "standoff": 15
           },
           "zerolinecolor": "white",
           "zerolinewidth": 2
          },
          "yaxis": {
           "automargin": true,
           "gridcolor": "white",
           "linecolor": "white",
           "ticks": "",
           "title": {
            "standoff": 15
           },
           "zerolinecolor": "white",
           "zerolinewidth": 2
          }
         }
        }
       }
      }
     },
     "metadata": {},
     "output_type": "display_data"
    }
   ],
   "source": [
    "# make a data visualization of the data about Brazil\n",
    "fig = px.scatter_geo(world_df[world_df['Country'] == 'Brazil'],\n",
    "                        locations='Country',\n",
    "                        locationmode='country names',\n",
    "                        color='Confirmed',\n",
    "                        hover_name='Country',\n",
    "                        hover_data=['Confirmed', 'Active', 'Recovered', 'Deaths'],\n",
    "                        size='Confirmed',\n",
    "                        size_max=50,\n",
    "                        range_color=(0, 1000),  # set the range of the color scale\n",
    "                        projection='natural earth')\n",
    "\n",
    "fig.show()\n",
    "                        \n"
   ]
  },
  {
   "cell_type": "code",
   "execution_count": 55,
   "metadata": {},
   "outputs": [
    {
     "data": {
      "text/html": [
       "<div>\n",
       "<style scoped>\n",
       "    .dataframe tbody tr th:only-of-type {\n",
       "        vertical-align: middle;\n",
       "    }\n",
       "\n",
       "    .dataframe tbody tr th {\n",
       "        vertical-align: top;\n",
       "    }\n",
       "\n",
       "    .dataframe thead th {\n",
       "        text-align: right;\n",
       "    }\n",
       "</style>\n",
       "<table border=\"1\" class=\"dataframe\">\n",
       "  <thead>\n",
       "    <tr style=\"text-align: right;\">\n",
       "      <th></th>\n",
       "      <th>Country</th>\n",
       "      <th>Confirmed</th>\n",
       "      <th>Active</th>\n",
       "      <th>Recovered</th>\n",
       "      <th>Deaths</th>\n",
       "    </tr>\n",
       "  </thead>\n",
       "  <tbody>\n",
       "    <tr>\n",
       "      <th>32</th>\n",
       "      <td>Canada</td>\n",
       "      <td>591149</td>\n",
       "      <td>75320.0</td>\n",
       "      <td>494437</td>\n",
       "      <td>15806</td>\n",
       "    </tr>\n",
       "  </tbody>\n",
       "</table>\n",
       "</div>"
      ],
      "text/plain": [
       "   Country  Confirmed   Active  Recovered  Deaths\n",
       "32  Canada     591149  75320.0     494437   15806"
      ]
     },
     "execution_count": 55,
     "metadata": {},
     "output_type": "execute_result"
    }
   ],
   "source": [
    "world_df[world_df['Country'] == 'Canada'].sort_values(by='Confirmed', ascending=False)"
   ]
  },
  {
   "cell_type": "code",
   "execution_count": 57,
   "metadata": {},
   "outputs": [
    {
     "data": {
      "text/html": [
       "<div>\n",
       "<style scoped>\n",
       "    .dataframe tbody tr th:only-of-type {\n",
       "        vertical-align: middle;\n",
       "    }\n",
       "\n",
       "    .dataframe tbody tr th {\n",
       "        vertical-align: top;\n",
       "    }\n",
       "\n",
       "    .dataframe thead th {\n",
       "        text-align: right;\n",
       "    }\n",
       "</style>\n",
       "<table border=\"1\" class=\"dataframe\">\n",
       "  <thead>\n",
       "    <tr style=\"text-align: right;\">\n",
       "      <th></th>\n",
       "      <th>Country</th>\n",
       "      <th>Confirmed</th>\n",
       "      <th>Active</th>\n",
       "      <th>Recovered</th>\n",
       "      <th>Deaths</th>\n",
       "    </tr>\n",
       "  </thead>\n",
       "  <tbody>\n",
       "    <tr>\n",
       "      <th>180</th>\n",
       "      <td>US</td>\n",
       "      <td>20318085</td>\n",
       "      <td>19780905.0</td>\n",
       "      <td>0</td>\n",
       "      <td>353948</td>\n",
       "    </tr>\n",
       "  </tbody>\n",
       "</table>\n",
       "</div>"
      ],
      "text/plain": [
       "    Country  Confirmed      Active  Recovered  Deaths\n",
       "180      US   20318085  19780905.0          0  353948"
      ]
     },
     "execution_count": 57,
     "metadata": {},
     "output_type": "execute_result"
    }
   ],
   "source": [
    "world_df[world_df['Country'] == 'US'].sort_values(by='Confirmed', ascending=False)"
   ]
  },
  {
   "cell_type": "code",
   "execution_count": 58,
   "metadata": {},
   "outputs": [
    {
     "data": {
      "text/html": [
       "<div>\n",
       "<style scoped>\n",
       "    .dataframe tbody tr th:only-of-type {\n",
       "        vertical-align: middle;\n",
       "    }\n",
       "\n",
       "    .dataframe tbody tr th {\n",
       "        vertical-align: top;\n",
       "    }\n",
       "\n",
       "    .dataframe thead th {\n",
       "        text-align: right;\n",
       "    }\n",
       "</style>\n",
       "<table border=\"1\" class=\"dataframe\">\n",
       "  <thead>\n",
       "    <tr style=\"text-align: right;\">\n",
       "      <th></th>\n",
       "      <th>Country</th>\n",
       "      <th>Confirmed</th>\n",
       "      <th>Active</th>\n",
       "      <th>Recovered</th>\n",
       "      <th>Deaths</th>\n",
       "    </tr>\n",
       "  </thead>\n",
       "  <tbody>\n",
       "    <tr>\n",
       "      <th>8</th>\n",
       "      <td>Australia</td>\n",
       "      <td>28460</td>\n",
       "      <td>1781.0</td>\n",
       "      <td>22573</td>\n",
       "      <td>909</td>\n",
       "    </tr>\n",
       "  </tbody>\n",
       "</table>\n",
       "</div>"
      ],
      "text/plain": [
       "     Country  Confirmed  Active  Recovered  Deaths\n",
       "8  Australia      28460  1781.0      22573     909"
      ]
     },
     "execution_count": 58,
     "metadata": {},
     "output_type": "execute_result"
    }
   ],
   "source": [
    "world_df[world_df['Country'] == 'Australia'].sort_values(by='Confirmed', ascending=False)"
   ]
  },
  {
   "cell_type": "code",
   "execution_count": 59,
   "metadata": {},
   "outputs": [
    {
     "data": {
      "text/html": [
       "<div>\n",
       "<style scoped>\n",
       "    .dataframe tbody tr th:only-of-type {\n",
       "        vertical-align: middle;\n",
       "    }\n",
       "\n",
       "    .dataframe tbody tr th {\n",
       "        vertical-align: top;\n",
       "    }\n",
       "\n",
       "    .dataframe thead th {\n",
       "        text-align: right;\n",
       "    }\n",
       "</style>\n",
       "<table border=\"1\" class=\"dataframe\">\n",
       "  <thead>\n",
       "    <tr style=\"text-align: right;\">\n",
       "      <th></th>\n",
       "      <th>Country</th>\n",
       "      <th>Confirmed</th>\n",
       "      <th>Active</th>\n",
       "      <th>Recovered</th>\n",
       "      <th>Deaths</th>\n",
       "    </tr>\n",
       "  </thead>\n",
       "  <tbody>\n",
       "    <tr>\n",
       "      <th>66</th>\n",
       "      <td>Germany</td>\n",
       "      <td>1762637</td>\n",
       "      <td>339748.0</td>\n",
       "      <td>1388744</td>\n",
       "      <td>34145</td>\n",
       "    </tr>\n",
       "  </tbody>\n",
       "</table>\n",
       "</div>"
      ],
      "text/plain": [
       "    Country  Confirmed    Active  Recovered  Deaths\n",
       "66  Germany    1762637  339748.0    1388744   34145"
      ]
     },
     "execution_count": 59,
     "metadata": {},
     "output_type": "execute_result"
    }
   ],
   "source": [
    "world_df[world_df['Country'] == 'Germany'].sort_values(by='Confirmed', ascending=False)"
   ]
  },
  {
   "cell_type": "code",
   "execution_count": 60,
   "metadata": {},
   "outputs": [
    {
     "data": {
      "text/html": [
       "<div>\n",
       "<style scoped>\n",
       "    .dataframe tbody tr th:only-of-type {\n",
       "        vertical-align: middle;\n",
       "    }\n",
       "\n",
       "    .dataframe tbody tr th {\n",
       "        vertical-align: top;\n",
       "    }\n",
       "\n",
       "    .dataframe thead th {\n",
       "        text-align: right;\n",
       "    }\n",
       "</style>\n",
       "<table border=\"1\" class=\"dataframe\">\n",
       "  <thead>\n",
       "    <tr style=\"text-align: right;\">\n",
       "      <th></th>\n",
       "      <th>Country</th>\n",
       "      <th>Latitude</th>\n",
       "      <th>Longitude</th>\n",
       "      <th>Confirmed</th>\n",
       "      <th>Deaths</th>\n",
       "      <th>Recovered</th>\n",
       "      <th>Active</th>\n",
       "      <th>Incident_Rate</th>\n",
       "      <th>Case_Fatality_Ratio</th>\n",
       "    </tr>\n",
       "  </thead>\n",
       "  <tbody>\n",
       "    <tr>\n",
       "      <th>0</th>\n",
       "      <td>Afghanistan</td>\n",
       "      <td>33.939110</td>\n",
       "      <td>67.709953</td>\n",
       "      <td>52513</td>\n",
       "      <td>2201</td>\n",
       "      <td>41727</td>\n",
       "      <td>0.0</td>\n",
       "      <td>0.000000</td>\n",
       "      <td>4.252222</td>\n",
       "    </tr>\n",
       "    <tr>\n",
       "      <th>1</th>\n",
       "      <td>Albania</td>\n",
       "      <td>41.153300</td>\n",
       "      <td>20.168300</td>\n",
       "      <td>58316</td>\n",
       "      <td>1181</td>\n",
       "      <td>33634</td>\n",
       "      <td>23501.0</td>\n",
       "      <td>2026.409062</td>\n",
       "      <td>2.025173</td>\n",
       "    </tr>\n",
       "    <tr>\n",
       "      <th>2</th>\n",
       "      <td>Algeria</td>\n",
       "      <td>28.033900</td>\n",
       "      <td>1.659600</td>\n",
       "      <td>99897</td>\n",
       "      <td>2762</td>\n",
       "      <td>67395</td>\n",
       "      <td>29740.0</td>\n",
       "      <td>227.809861</td>\n",
       "      <td>2.764848</td>\n",
       "    </tr>\n",
       "    <tr>\n",
       "      <th>3</th>\n",
       "      <td>Andorra</td>\n",
       "      <td>42.506300</td>\n",
       "      <td>1.521800</td>\n",
       "      <td>8117</td>\n",
       "      <td>84</td>\n",
       "      <td>7463</td>\n",
       "      <td>570.0</td>\n",
       "      <td>10505.403482</td>\n",
       "      <td>1.034865</td>\n",
       "    </tr>\n",
       "    <tr>\n",
       "      <th>4</th>\n",
       "      <td>Angola</td>\n",
       "      <td>-11.202700</td>\n",
       "      <td>17.873900</td>\n",
       "      <td>17568</td>\n",
       "      <td>405</td>\n",
       "      <td>11146</td>\n",
       "      <td>6017.0</td>\n",
       "      <td>53.452981</td>\n",
       "      <td>2.305328</td>\n",
       "    </tr>\n",
       "    <tr>\n",
       "      <th>5</th>\n",
       "      <td>Antigua and Barbuda</td>\n",
       "      <td>17.060800</td>\n",
       "      <td>-61.796400</td>\n",
       "      <td>159</td>\n",
       "      <td>5</td>\n",
       "      <td>148</td>\n",
       "      <td>6.0</td>\n",
       "      <td>162.364186</td>\n",
       "      <td>3.144654</td>\n",
       "    </tr>\n",
       "    <tr>\n",
       "      <th>6</th>\n",
       "      <td>Argentina</td>\n",
       "      <td>-38.416100</td>\n",
       "      <td>-63.616700</td>\n",
       "      <td>1629594</td>\n",
       "      <td>43319</td>\n",
       "      <td>1426676</td>\n",
       "      <td>159599.0</td>\n",
       "      <td>3605.633332</td>\n",
       "      <td>2.658269</td>\n",
       "    </tr>\n",
       "    <tr>\n",
       "      <th>7</th>\n",
       "      <td>Armenia</td>\n",
       "      <td>40.069100</td>\n",
       "      <td>45.038200</td>\n",
       "      <td>159738</td>\n",
       "      <td>2828</td>\n",
       "      <td>143355</td>\n",
       "      <td>13555.0</td>\n",
       "      <td>5390.664389</td>\n",
       "      <td>1.770399</td>\n",
       "    </tr>\n",
       "    <tr>\n",
       "      <th>8</th>\n",
       "      <td>Australia</td>\n",
       "      <td>-35.473500</td>\n",
       "      <td>149.012400</td>\n",
       "      <td>118</td>\n",
       "      <td>3</td>\n",
       "      <td>114</td>\n",
       "      <td>1.0</td>\n",
       "      <td>27.563653</td>\n",
       "      <td>2.542373</td>\n",
       "    </tr>\n",
       "    <tr>\n",
       "      <th>9</th>\n",
       "      <td>Australia</td>\n",
       "      <td>-33.868800</td>\n",
       "      <td>151.209300</td>\n",
       "      <td>4947</td>\n",
       "      <td>54</td>\n",
       "      <td>0</td>\n",
       "      <td>1696.0</td>\n",
       "      <td>60.938655</td>\n",
       "      <td>1.091571</td>\n",
       "    </tr>\n",
       "    <tr>\n",
       "      <th>10</th>\n",
       "      <td>Australia</td>\n",
       "      <td>-12.463400</td>\n",
       "      <td>130.845600</td>\n",
       "      <td>75</td>\n",
       "      <td>0</td>\n",
       "      <td>71</td>\n",
       "      <td>4.0</td>\n",
       "      <td>30.537459</td>\n",
       "      <td>0.000000</td>\n",
       "    </tr>\n",
       "    <tr>\n",
       "      <th>11</th>\n",
       "      <td>Australia</td>\n",
       "      <td>-27.469800</td>\n",
       "      <td>153.025100</td>\n",
       "      <td>1255</td>\n",
       "      <td>6</td>\n",
       "      <td>1224</td>\n",
       "      <td>25.0</td>\n",
       "      <td>24.533281</td>\n",
       "      <td>0.478088</td>\n",
       "    </tr>\n",
       "    <tr>\n",
       "      <th>12</th>\n",
       "      <td>Australia</td>\n",
       "      <td>-34.928500</td>\n",
       "      <td>138.600700</td>\n",
       "      <td>580</td>\n",
       "      <td>4</td>\n",
       "      <td>566</td>\n",
       "      <td>10.0</td>\n",
       "      <td>33.020211</td>\n",
       "      <td>0.689655</td>\n",
       "    </tr>\n",
       "    <tr>\n",
       "      <th>13</th>\n",
       "      <td>Australia</td>\n",
       "      <td>-42.882100</td>\n",
       "      <td>147.327200</td>\n",
       "      <td>234</td>\n",
       "      <td>13</td>\n",
       "      <td>221</td>\n",
       "      <td>0.0</td>\n",
       "      <td>43.697479</td>\n",
       "      <td>5.555556</td>\n",
       "    </tr>\n",
       "    <tr>\n",
       "      <th>14</th>\n",
       "      <td>Australia</td>\n",
       "      <td>-37.813600</td>\n",
       "      <td>144.963100</td>\n",
       "      <td>20388</td>\n",
       "      <td>820</td>\n",
       "      <td>19539</td>\n",
       "      <td>29.0</td>\n",
       "      <td>307.515950</td>\n",
       "      <td>4.021974</td>\n",
       "    </tr>\n",
       "    <tr>\n",
       "      <th>15</th>\n",
       "      <td>Australia</td>\n",
       "      <td>-31.950500</td>\n",
       "      <td>115.860500</td>\n",
       "      <td>863</td>\n",
       "      <td>9</td>\n",
       "      <td>838</td>\n",
       "      <td>16.0</td>\n",
       "      <td>32.806204</td>\n",
       "      <td>1.042874</td>\n",
       "    </tr>\n",
       "    <tr>\n",
       "      <th>16</th>\n",
       "      <td>Austria</td>\n",
       "      <td>47.516200</td>\n",
       "      <td>14.550100</td>\n",
       "      <td>362911</td>\n",
       "      <td>6261</td>\n",
       "      <td>334901</td>\n",
       "      <td>21749.0</td>\n",
       "      <td>4029.479037</td>\n",
       "      <td>1.725216</td>\n",
       "    </tr>\n",
       "    <tr>\n",
       "      <th>17</th>\n",
       "      <td>Azerbaijan</td>\n",
       "      <td>40.143100</td>\n",
       "      <td>47.576900</td>\n",
       "      <td>219041</td>\n",
       "      <td>2670</td>\n",
       "      <td>188280</td>\n",
       "      <td>28091.0</td>\n",
       "      <td>2160.343420</td>\n",
       "      <td>1.218950</td>\n",
       "    </tr>\n",
       "    <tr>\n",
       "      <th>18</th>\n",
       "      <td>Bahamas</td>\n",
       "      <td>25.025885</td>\n",
       "      <td>-78.035889</td>\n",
       "      <td>7887</td>\n",
       "      <td>171</td>\n",
       "      <td>6239</td>\n",
       "      <td>1477.0</td>\n",
       "      <td>2005.604606</td>\n",
       "      <td>2.168125</td>\n",
       "    </tr>\n",
       "    <tr>\n",
       "      <th>19</th>\n",
       "      <td>Bahrain</td>\n",
       "      <td>26.027500</td>\n",
       "      <td>50.550000</td>\n",
       "      <td>92913</td>\n",
       "      <td>352</td>\n",
       "      <td>90369</td>\n",
       "      <td>2192.0</td>\n",
       "      <td>5460.386005</td>\n",
       "      <td>0.378849</td>\n",
       "    </tr>\n",
       "  </tbody>\n",
       "</table>\n",
       "</div>"
      ],
      "text/plain": [
       "                Country   Latitude   Longitude  Confirmed  Deaths  Recovered  \\\n",
       "0           Afghanistan  33.939110   67.709953      52513    2201      41727   \n",
       "1               Albania  41.153300   20.168300      58316    1181      33634   \n",
       "2               Algeria  28.033900    1.659600      99897    2762      67395   \n",
       "3               Andorra  42.506300    1.521800       8117      84       7463   \n",
       "4                Angola -11.202700   17.873900      17568     405      11146   \n",
       "5   Antigua and Barbuda  17.060800  -61.796400        159       5        148   \n",
       "6             Argentina -38.416100  -63.616700    1629594   43319    1426676   \n",
       "7               Armenia  40.069100   45.038200     159738    2828     143355   \n",
       "8             Australia -35.473500  149.012400        118       3        114   \n",
       "9             Australia -33.868800  151.209300       4947      54          0   \n",
       "10            Australia -12.463400  130.845600         75       0         71   \n",
       "11            Australia -27.469800  153.025100       1255       6       1224   \n",
       "12            Australia -34.928500  138.600700        580       4        566   \n",
       "13            Australia -42.882100  147.327200        234      13        221   \n",
       "14            Australia -37.813600  144.963100      20388     820      19539   \n",
       "15            Australia -31.950500  115.860500        863       9        838   \n",
       "16              Austria  47.516200   14.550100     362911    6261     334901   \n",
       "17           Azerbaijan  40.143100   47.576900     219041    2670     188280   \n",
       "18              Bahamas  25.025885  -78.035889       7887     171       6239   \n",
       "19              Bahrain  26.027500   50.550000      92913     352      90369   \n",
       "\n",
       "      Active  Incident_Rate  Case_Fatality_Ratio  \n",
       "0        0.0       0.000000             4.252222  \n",
       "1    23501.0    2026.409062             2.025173  \n",
       "2    29740.0     227.809861             2.764848  \n",
       "3      570.0   10505.403482             1.034865  \n",
       "4     6017.0      53.452981             2.305328  \n",
       "5        6.0     162.364186             3.144654  \n",
       "6   159599.0    3605.633332             2.658269  \n",
       "7    13555.0    5390.664389             1.770399  \n",
       "8        1.0      27.563653             2.542373  \n",
       "9     1696.0      60.938655             1.091571  \n",
       "10       4.0      30.537459             0.000000  \n",
       "11      25.0      24.533281             0.478088  \n",
       "12      10.0      33.020211             0.689655  \n",
       "13       0.0      43.697479             5.555556  \n",
       "14      29.0     307.515950             4.021974  \n",
       "15      16.0      32.806204             1.042874  \n",
       "16   21749.0    4029.479037             1.725216  \n",
       "17   28091.0    2160.343420             1.218950  \n",
       "18    1477.0    2005.604606             2.168125  \n",
       "19    2192.0    5460.386005             0.378849  "
      ]
     },
     "execution_count": 60,
     "metadata": {},
     "output_type": "execute_result"
    }
   ],
   "source": [
    "df.head(20)"
   ]
  },
  {
   "cell_type": "code",
   "execution_count": 61,
   "metadata": {},
   "outputs": [
    {
     "data": {
      "text/html": [
       "<div>\n",
       "<style scoped>\n",
       "    .dataframe tbody tr th:only-of-type {\n",
       "        vertical-align: middle;\n",
       "    }\n",
       "\n",
       "    .dataframe tbody tr th {\n",
       "        vertical-align: top;\n",
       "    }\n",
       "\n",
       "    .dataframe thead th {\n",
       "        text-align: right;\n",
       "    }\n",
       "</style>\n",
       "<table border=\"1\" class=\"dataframe\">\n",
       "  <thead>\n",
       "    <tr style=\"text-align: right;\">\n",
       "      <th></th>\n",
       "      <th>Country</th>\n",
       "      <th>Confirmed</th>\n",
       "      <th>Active</th>\n",
       "      <th>Recovered</th>\n",
       "      <th>Deaths</th>\n",
       "    </tr>\n",
       "  </thead>\n",
       "  <tbody>\n",
       "    <tr>\n",
       "      <th>0</th>\n",
       "      <td>Afghanistan</td>\n",
       "      <td>52513</td>\n",
       "      <td>0.0</td>\n",
       "      <td>41727</td>\n",
       "      <td>2201</td>\n",
       "    </tr>\n",
       "    <tr>\n",
       "      <th>1</th>\n",
       "      <td>Albania</td>\n",
       "      <td>58316</td>\n",
       "      <td>23501.0</td>\n",
       "      <td>33634</td>\n",
       "      <td>1181</td>\n",
       "    </tr>\n",
       "    <tr>\n",
       "      <th>2</th>\n",
       "      <td>Algeria</td>\n",
       "      <td>99897</td>\n",
       "      <td>29740.0</td>\n",
       "      <td>67395</td>\n",
       "      <td>2762</td>\n",
       "    </tr>\n",
       "    <tr>\n",
       "      <th>3</th>\n",
       "      <td>Andorra</td>\n",
       "      <td>8117</td>\n",
       "      <td>570.0</td>\n",
       "      <td>7463</td>\n",
       "      <td>84</td>\n",
       "    </tr>\n",
       "    <tr>\n",
       "      <th>4</th>\n",
       "      <td>Angola</td>\n",
       "      <td>17568</td>\n",
       "      <td>6017.0</td>\n",
       "      <td>11146</td>\n",
       "      <td>405</td>\n",
       "    </tr>\n",
       "    <tr>\n",
       "      <th>5</th>\n",
       "      <td>Antigua and Barbuda</td>\n",
       "      <td>159</td>\n",
       "      <td>6.0</td>\n",
       "      <td>148</td>\n",
       "      <td>5</td>\n",
       "    </tr>\n",
       "    <tr>\n",
       "      <th>6</th>\n",
       "      <td>Argentina</td>\n",
       "      <td>1629594</td>\n",
       "      <td>159599.0</td>\n",
       "      <td>1426676</td>\n",
       "      <td>43319</td>\n",
       "    </tr>\n",
       "    <tr>\n",
       "      <th>7</th>\n",
       "      <td>Armenia</td>\n",
       "      <td>159738</td>\n",
       "      <td>13555.0</td>\n",
       "      <td>143355</td>\n",
       "      <td>2828</td>\n",
       "    </tr>\n",
       "    <tr>\n",
       "      <th>8</th>\n",
       "      <td>Australia</td>\n",
       "      <td>28460</td>\n",
       "      <td>1781.0</td>\n",
       "      <td>22573</td>\n",
       "      <td>909</td>\n",
       "    </tr>\n",
       "    <tr>\n",
       "      <th>9</th>\n",
       "      <td>Austria</td>\n",
       "      <td>362911</td>\n",
       "      <td>21749.0</td>\n",
       "      <td>334901</td>\n",
       "      <td>6261</td>\n",
       "    </tr>\n",
       "    <tr>\n",
       "      <th>10</th>\n",
       "      <td>Azerbaijan</td>\n",
       "      <td>219041</td>\n",
       "      <td>28091.0</td>\n",
       "      <td>188280</td>\n",
       "      <td>2670</td>\n",
       "    </tr>\n",
       "    <tr>\n",
       "      <th>11</th>\n",
       "      <td>Bahamas</td>\n",
       "      <td>7887</td>\n",
       "      <td>1477.0</td>\n",
       "      <td>6239</td>\n",
       "      <td>171</td>\n",
       "    </tr>\n",
       "    <tr>\n",
       "      <th>12</th>\n",
       "      <td>Bahrain</td>\n",
       "      <td>92913</td>\n",
       "      <td>2192.0</td>\n",
       "      <td>90369</td>\n",
       "      <td>352</td>\n",
       "    </tr>\n",
       "    <tr>\n",
       "      <th>13</th>\n",
       "      <td>Bangladesh</td>\n",
       "      <td>514500</td>\n",
       "      <td>48268.0</td>\n",
       "      <td>458656</td>\n",
       "      <td>7576</td>\n",
       "    </tr>\n",
       "    <tr>\n",
       "      <th>14</th>\n",
       "      <td>Barbados</td>\n",
       "      <td>395</td>\n",
       "      <td>69.0</td>\n",
       "      <td>319</td>\n",
       "      <td>7</td>\n",
       "    </tr>\n",
       "    <tr>\n",
       "      <th>15</th>\n",
       "      <td>Belarus</td>\n",
       "      <td>196223</td>\n",
       "      <td>16688.0</td>\n",
       "      <td>178102</td>\n",
       "      <td>1433</td>\n",
       "    </tr>\n",
       "    <tr>\n",
       "      <th>16</th>\n",
       "      <td>Belgium</td>\n",
       "      <td>648289</td>\n",
       "      <td>628708.0</td>\n",
       "      <td>0</td>\n",
       "      <td>19581</td>\n",
       "    </tr>\n",
       "    <tr>\n",
       "      <th>17</th>\n",
       "      <td>Belize</td>\n",
       "      <td>10776</td>\n",
       "      <td>733.0</td>\n",
       "      <td>9795</td>\n",
       "      <td>248</td>\n",
       "    </tr>\n",
       "    <tr>\n",
       "      <th>18</th>\n",
       "      <td>Benin</td>\n",
       "      <td>3251</td>\n",
       "      <td>146.0</td>\n",
       "      <td>3061</td>\n",
       "      <td>44</td>\n",
       "    </tr>\n",
       "    <tr>\n",
       "      <th>19</th>\n",
       "      <td>Bhutan</td>\n",
       "      <td>689</td>\n",
       "      <td>240.0</td>\n",
       "      <td>449</td>\n",
       "      <td>0</td>\n",
       "    </tr>\n",
       "  </tbody>\n",
       "</table>\n",
       "</div>"
      ],
      "text/plain": [
       "                Country  Confirmed    Active  Recovered  Deaths\n",
       "0           Afghanistan      52513       0.0      41727    2201\n",
       "1               Albania      58316   23501.0      33634    1181\n",
       "2               Algeria      99897   29740.0      67395    2762\n",
       "3               Andorra       8117     570.0       7463      84\n",
       "4                Angola      17568    6017.0      11146     405\n",
       "5   Antigua and Barbuda        159       6.0        148       5\n",
       "6             Argentina    1629594  159599.0    1426676   43319\n",
       "7               Armenia     159738   13555.0     143355    2828\n",
       "8             Australia      28460    1781.0      22573     909\n",
       "9               Austria     362911   21749.0     334901    6261\n",
       "10           Azerbaijan     219041   28091.0     188280    2670\n",
       "11              Bahamas       7887    1477.0       6239     171\n",
       "12              Bahrain      92913    2192.0      90369     352\n",
       "13           Bangladesh     514500   48268.0     458656    7576\n",
       "14             Barbados        395      69.0        319       7\n",
       "15              Belarus     196223   16688.0     178102    1433\n",
       "16              Belgium     648289  628708.0          0   19581\n",
       "17               Belize      10776     733.0       9795     248\n",
       "18                Benin       3251     146.0       3061      44\n",
       "19               Bhutan        689     240.0        449       0"
      ]
     },
     "execution_count": 61,
     "metadata": {},
     "output_type": "execute_result"
    }
   ],
   "source": [
    "world_df.head(20)"
   ]
  },
  {
   "cell_type": "code",
   "execution_count": 62,
   "metadata": {},
   "outputs": [
    {
     "data": {
      "text/html": [
       "<div>\n",
       "<style scoped>\n",
       "    .dataframe tbody tr th:only-of-type {\n",
       "        vertical-align: middle;\n",
       "    }\n",
       "\n",
       "    .dataframe tbody tr th {\n",
       "        vertical-align: top;\n",
       "    }\n",
       "\n",
       "    .dataframe thead th {\n",
       "        text-align: right;\n",
       "    }\n",
       "</style>\n",
       "<table border=\"1\" class=\"dataframe\">\n",
       "  <thead>\n",
       "    <tr style=\"text-align: right;\">\n",
       "      <th></th>\n",
       "      <th>Country</th>\n",
       "      <th>Confirmed</th>\n",
       "      <th>Active</th>\n",
       "      <th>Recovered</th>\n",
       "      <th>Deaths</th>\n",
       "    </tr>\n",
       "  </thead>\n",
       "  <tbody>\n",
       "    <tr>\n",
       "      <th>180</th>\n",
       "      <td>US</td>\n",
       "      <td>20318085</td>\n",
       "      <td>19780905.0</td>\n",
       "      <td>0</td>\n",
       "      <td>353948</td>\n",
       "    </tr>\n",
       "    <tr>\n",
       "      <th>79</th>\n",
       "      <td>India</td>\n",
       "      <td>10325823</td>\n",
       "      <td>254254.0</td>\n",
       "      <td>9929568</td>\n",
       "      <td>149474</td>\n",
       "    </tr>\n",
       "    <tr>\n",
       "      <th>23</th>\n",
       "      <td>Brazil</td>\n",
       "      <td>7700578</td>\n",
       "      <td>649795.0</td>\n",
       "      <td>6855372</td>\n",
       "      <td>195411</td>\n",
       "    </tr>\n",
       "    <tr>\n",
       "      <th>143</th>\n",
       "      <td>Russia</td>\n",
       "      <td>3153960</td>\n",
       "      <td>543695.0</td>\n",
       "      <td>2553467</td>\n",
       "      <td>56798</td>\n",
       "    </tr>\n",
       "    <tr>\n",
       "      <th>62</th>\n",
       "      <td>France</td>\n",
       "      <td>2697014</td>\n",
       "      <td>2431300.0</td>\n",
       "      <td>200822</td>\n",
       "      <td>64891</td>\n",
       "    </tr>\n",
       "    <tr>\n",
       "      <th>184</th>\n",
       "      <td>United Kingdom</td>\n",
       "      <td>2549693</td>\n",
       "      <td>2469773.0</td>\n",
       "      <td>5682</td>\n",
       "      <td>74237</td>\n",
       "    </tr>\n",
       "    <tr>\n",
       "      <th>179</th>\n",
       "      <td>Turkey</td>\n",
       "      <td>2220855</td>\n",
       "      <td>85002.0</td>\n",
       "      <td>2114760</td>\n",
       "      <td>21093</td>\n",
       "    </tr>\n",
       "    <tr>\n",
       "      <th>85</th>\n",
       "      <td>Italy</td>\n",
       "      <td>2129376</td>\n",
       "      <td>574767.0</td>\n",
       "      <td>1479988</td>\n",
       "      <td>74621</td>\n",
       "    </tr>\n",
       "    <tr>\n",
       "      <th>163</th>\n",
       "      <td>Spain</td>\n",
       "      <td>1928265</td>\n",
       "      <td>1727052.0</td>\n",
       "      <td>150376</td>\n",
       "      <td>50837</td>\n",
       "    </tr>\n",
       "    <tr>\n",
       "      <th>66</th>\n",
       "      <td>Germany</td>\n",
       "      <td>1762637</td>\n",
       "      <td>339748.0</td>\n",
       "      <td>1388744</td>\n",
       "      <td>34145</td>\n",
       "    </tr>\n",
       "  </tbody>\n",
       "</table>\n",
       "</div>"
      ],
      "text/plain": [
       "            Country  Confirmed      Active  Recovered  Deaths\n",
       "180              US   20318085  19780905.0          0  353948\n",
       "79            India   10325823    254254.0    9929568  149474\n",
       "23           Brazil    7700578    649795.0    6855372  195411\n",
       "143          Russia    3153960    543695.0    2553467   56798\n",
       "62           France    2697014   2431300.0     200822   64891\n",
       "184  United Kingdom    2549693   2469773.0       5682   74237\n",
       "179          Turkey    2220855     85002.0    2114760   21093\n",
       "85            Italy    2129376    574767.0    1479988   74621\n",
       "163           Spain    1928265   1727052.0     150376   50837\n",
       "66          Germany    1762637    339748.0    1388744   34145"
      ]
     },
     "execution_count": 62,
     "metadata": {},
     "output_type": "execute_result"
    }
   ],
   "source": [
    "# find 10 countries with the most confirmed cases\n",
    "world_df.sort_values(by='Confirmed', ascending=False).head(10)"
   ]
  },
  {
   "cell_type": "code",
   "execution_count": 65,
   "metadata": {},
   "outputs": [
    {
     "data": {
      "image/png": "[encoded data removed]",
      "text/plain": [
       "<Figure size 720x720 with 1 Axes>"
      ]
     },
     "metadata": {},
     "output_type": "display_data"
    }
   ],
   "source": [
    "plt.figure(figsize=(10, 10))\n",
    "sns.barplot(x='Country', y='Confirmed', data=world_df.sort_values(by='Confirmed', ascending=False).head(10))\n",
    "plt.show()"
   ]
  },
  {
   "cell_type": "code",
   "execution_count": 66,
   "metadata": {},
   "outputs": [],
   "source": [
    "# find the top 20\n",
    "top_twenty = world_df.sort_values(by='Confirmed', ascending=False).head(20)"
   ]
  },
  {
   "cell_type": "code",
   "execution_count": 68,
   "metadata": {},
   "outputs": [
    {
     "data": {
      "text/html": [
       "<div>\n",
       "<style scoped>\n",
       "    .dataframe tbody tr th:only-of-type {\n",
       "        vertical-align: middle;\n",
       "    }\n",
       "\n",
       "    .dataframe tbody tr th {\n",
       "        vertical-align: top;\n",
       "    }\n",
       "\n",
       "    .dataframe thead th {\n",
       "        text-align: right;\n",
       "    }\n",
       "</style>\n",
       "<table border=\"1\" class=\"dataframe\">\n",
       "  <thead>\n",
       "    <tr style=\"text-align: right;\">\n",
       "      <th></th>\n",
       "      <th>Country</th>\n",
       "      <th>Confirmed</th>\n",
       "      <th>Active</th>\n",
       "      <th>Recovered</th>\n",
       "      <th>Deaths</th>\n",
       "    </tr>\n",
       "  </thead>\n",
       "  <tbody>\n",
       "    <tr>\n",
       "      <th>180</th>\n",
       "      <td>US</td>\n",
       "      <td>20318085</td>\n",
       "      <td>19780905.0</td>\n",
       "      <td>0</td>\n",
       "      <td>353948</td>\n",
       "    </tr>\n",
       "    <tr>\n",
       "      <th>79</th>\n",
       "      <td>India</td>\n",
       "      <td>10325823</td>\n",
       "      <td>254254.0</td>\n",
       "      <td>9929568</td>\n",
       "      <td>149474</td>\n",
       "    </tr>\n",
       "    <tr>\n",
       "      <th>23</th>\n",
       "      <td>Brazil</td>\n",
       "      <td>7700578</td>\n",
       "      <td>649795.0</td>\n",
       "      <td>6855372</td>\n",
       "      <td>195411</td>\n",
       "    </tr>\n",
       "    <tr>\n",
       "      <th>143</th>\n",
       "      <td>Russia</td>\n",
       "      <td>3153960</td>\n",
       "      <td>543695.0</td>\n",
       "      <td>2553467</td>\n",
       "      <td>56798</td>\n",
       "    </tr>\n",
       "    <tr>\n",
       "      <th>62</th>\n",
       "      <td>France</td>\n",
       "      <td>2697014</td>\n",
       "      <td>2431300.0</td>\n",
       "      <td>200822</td>\n",
       "      <td>64891</td>\n",
       "    </tr>\n",
       "    <tr>\n",
       "      <th>184</th>\n",
       "      <td>United Kingdom</td>\n",
       "      <td>2549693</td>\n",
       "      <td>2469773.0</td>\n",
       "      <td>5682</td>\n",
       "      <td>74237</td>\n",
       "    </tr>\n",
       "    <tr>\n",
       "      <th>179</th>\n",
       "      <td>Turkey</td>\n",
       "      <td>2220855</td>\n",
       "      <td>85002.0</td>\n",
       "      <td>2114760</td>\n",
       "      <td>21093</td>\n",
       "    </tr>\n",
       "    <tr>\n",
       "      <th>85</th>\n",
       "      <td>Italy</td>\n",
       "      <td>2129376</td>\n",
       "      <td>574767.0</td>\n",
       "      <td>1479988</td>\n",
       "      <td>74621</td>\n",
       "    </tr>\n",
       "    <tr>\n",
       "      <th>163</th>\n",
       "      <td>Spain</td>\n",
       "      <td>1928265</td>\n",
       "      <td>1727052.0</td>\n",
       "      <td>150376</td>\n",
       "      <td>50837</td>\n",
       "    </tr>\n",
       "    <tr>\n",
       "      <th>66</th>\n",
       "      <td>Germany</td>\n",
       "      <td>1762637</td>\n",
       "      <td>339748.0</td>\n",
       "      <td>1388744</td>\n",
       "      <td>34145</td>\n",
       "    </tr>\n",
       "    <tr>\n",
       "      <th>37</th>\n",
       "      <td>Colombia</td>\n",
       "      <td>1654880</td>\n",
       "      <td>90837.0</td>\n",
       "      <td>1520548</td>\n",
       "      <td>43495</td>\n",
       "    </tr>\n",
       "    <tr>\n",
       "      <th>6</th>\n",
       "      <td>Argentina</td>\n",
       "      <td>1629594</td>\n",
       "      <td>159599.0</td>\n",
       "      <td>1426676</td>\n",
       "      <td>43319</td>\n",
       "    </tr>\n",
       "    <tr>\n",
       "      <th>115</th>\n",
       "      <td>Mexico</td>\n",
       "      <td>1437185</td>\n",
       "      <td>226910.0</td>\n",
       "      <td>1083768</td>\n",
       "      <td>126507</td>\n",
       "    </tr>\n",
       "    <tr>\n",
       "      <th>139</th>\n",
       "      <td>Poland</td>\n",
       "      <td>1305774</td>\n",
       "      <td>230537.0</td>\n",
       "      <td>1046281</td>\n",
       "      <td>28956</td>\n",
       "    </tr>\n",
       "    <tr>\n",
       "      <th>81</th>\n",
       "      <td>Iran</td>\n",
       "      <td>1231429</td>\n",
       "      <td>180522.0</td>\n",
       "      <td>995570</td>\n",
       "      <td>55337</td>\n",
       "    </tr>\n",
       "    <tr>\n",
       "      <th>182</th>\n",
       "      <td>Ukraine</td>\n",
       "      <td>1096855</td>\n",
       "      <td>330738.0</td>\n",
       "      <td>746680</td>\n",
       "      <td>19437</td>\n",
       "    </tr>\n",
       "    <tr>\n",
       "      <th>161</th>\n",
       "      <td>South Africa</td>\n",
       "      <td>1073887</td>\n",
       "      <td>157299.0</td>\n",
       "      <td>887701</td>\n",
       "      <td>28887</td>\n",
       "    </tr>\n",
       "    <tr>\n",
       "      <th>137</th>\n",
       "      <td>Peru</td>\n",
       "      <td>1015137</td>\n",
       "      <td>26139.0</td>\n",
       "      <td>951318</td>\n",
       "      <td>93231</td>\n",
       "    </tr>\n",
       "    <tr>\n",
       "      <th>124</th>\n",
       "      <td>Netherlands</td>\n",
       "      <td>816616</td>\n",
       "      <td>795341.0</td>\n",
       "      <td>9651</td>\n",
       "      <td>11624</td>\n",
       "    </tr>\n",
       "    <tr>\n",
       "      <th>80</th>\n",
       "      <td>Indonesia</td>\n",
       "      <td>751270</td>\n",
       "      <td>111005.0</td>\n",
       "      <td>617936</td>\n",
       "      <td>22329</td>\n",
       "    </tr>\n",
       "  </tbody>\n",
       "</table>\n",
       "</div>"
      ],
      "text/plain": [
       "            Country  Confirmed      Active  Recovered  Deaths\n",
       "180              US   20318085  19780905.0          0  353948\n",
       "79            India   10325823    254254.0    9929568  149474\n",
       "23           Brazil    7700578    649795.0    6855372  195411\n",
       "143          Russia    3153960    543695.0    2553467   56798\n",
       "62           France    2697014   2431300.0     200822   64891\n",
       "184  United Kingdom    2549693   2469773.0       5682   74237\n",
       "179          Turkey    2220855     85002.0    2114760   21093\n",
       "85            Italy    2129376    574767.0    1479988   74621\n",
       "163           Spain    1928265   1727052.0     150376   50837\n",
       "66          Germany    1762637    339748.0    1388744   34145\n",
       "37         Colombia    1654880     90837.0    1520548   43495\n",
       "6         Argentina    1629594    159599.0    1426676   43319\n",
       "115          Mexico    1437185    226910.0    1083768  126507\n",
       "139          Poland    1305774    230537.0    1046281   28956\n",
       "81             Iran    1231429    180522.0     995570   55337\n",
       "182         Ukraine    1096855    330738.0     746680   19437\n",
       "161    South Africa    1073887    157299.0     887701   28887\n",
       "137            Peru    1015137     26139.0     951318   93231\n",
       "124     Netherlands     816616    795341.0       9651   11624\n",
       "80        Indonesia     751270    111005.0     617936   22329"
      ]
     },
     "execution_count": 68,
     "metadata": {},
     "output_type": "execute_result"
    }
   ],
   "source": [
    "top_twenty"
   ]
  },
  {
   "cell_type": "code",
   "execution_count": 74,
   "metadata": {},
   "outputs": [
    {
     "data": {
      "image/png": "[encoded data removed]",
      "text/plain": [
       "<Figure size 864x576 with 1 Axes>"
      ]
     },
     "metadata": {},
     "output_type": "display_data"
    }
   ],
   "source": [
    "plt.figure(figsize=(12, 8))\n",
    "plot = sns.barplot(x='Confirmed', y='Country', data=top_twenty)\n",
    "for i, (value, name) in enumerate(zip(top_twenty['Confirmed'], top_twenty['Country'])):\n",
    "    plot.text(value, i - 0.05, f\"{value:,.0f}\", size=12)\n",
    "\n",
    "plt.show()"
   ]
  },
  {
   "cell_type": "code",
   "execution_count": 75,
   "metadata": {},
   "outputs": [],
   "source": [
    "# find the 5 countries with the most confirmed cases\n",
    "top_five = world_df.sort_values(by='Confirmed', ascending=False).head(5)"
   ]
  },
  {
   "cell_type": "code",
   "execution_count": 82,
   "metadata": {},
   "outputs": [
    {
     "data": {
      "image/png": "[encoded data removed]",
      "text/plain": [
       "<Figure size 864x576 with 1 Axes>"
      ]
     },
     "metadata": {},
     "output_type": "display_data"
    }
   ],
   "source": [
    "plt.figure(figsize=(12, 8))\n",
    "sns.barplot(x='Confirmed', y='Country', data=top_five, color='red', label='Confirmed')\n",
    "for i, (value, name) in enumerate(zip(top_five['Confirmed'], top_five['Country'])):\n",
    "    plt.text(value, i - 0.05, f\"{value:,.0f}\", size=12)\n",
    "\n",
    "plt.legend(loc=4)\n",
    "plt.show()"
   ]
  },
  {
   "cell_type": "code",
   "execution_count": 84,
   "metadata": {},
   "outputs": [
    {
     "data": {
      "image/png": "[encoded data removed]",
      "text/plain": [
       "<Figure size 864x576 with 1 Axes>"
      ]
     },
     "metadata": {},
     "output_type": "display_data"
    }
   ],
   "source": [
    "plt.figure(figsize=(12, 8))\n",
    "sns.barplot(x='Recovered', y='Country', data=top_five, color='green', label='Recovered')\n",
    "for i, (value, name) in enumerate(zip(top_five['Recovered'], top_five['Country'])):\n",
    "    plt.text(value, i - 0.05, f\"{value:,.0f}\", size=12)\n",
    "\n",
    "plt.legend(loc=4)\n",
    "plt.show()"
   ]
  },
  {
   "cell_type": "code",
   "execution_count": 85,
   "metadata": {},
   "outputs": [],
   "source": [
    "# combine the recovered and confirmed cases\n",
    "top_five['Total'] = top_five['Confirmed'] + top_five['Recovered']"
   ]
  },
  {
   "cell_type": "code",
   "execution_count": 86,
   "metadata": {},
   "outputs": [
    {
     "data": {
      "text/plain": [
       "180    20318085\n",
       "79     20255391\n",
       "23     14555950\n",
       "143     5707427\n",
       "62      2897836\n",
       "Name: Total, dtype: int64"
      ]
     },
     "execution_count": 86,
     "metadata": {},
     "output_type": "execute_result"
    }
   ],
   "source": [
    "top_five.Total"
   ]
  },
  {
   "cell_type": "code",
   "execution_count": 87,
   "metadata": {},
   "outputs": [
    {
     "data": {
      "image/png": "[encoded data removed]",
      "text/plain": [
       "<Figure size 864x576 with 1 Axes>"
      ]
     },
     "metadata": {},
     "output_type": "display_data"
    }
   ],
   "source": [
    "# plot the total cases\n",
    "plt.figure(figsize=(12, 8))\n",
    "sns.barplot(x='Total', y='Country', data=top_five, color='orange', label='Total')\n",
    "for i, (value, name) in enumerate(zip(top_five['Total'], top_five['Country'])):\n",
    "    plt.text(value, i - 0.05, f\"{value:,.0f}\", size=12)\n",
    "\n",
    "plt.show()"
   ]
  },
  {
   "cell_type": "code",
   "execution_count": 88,
   "metadata": {},
   "outputs": [
    {
     "data": {
      "application/vnd.plotly.v1+json": {
       "config": {
        "plotlyServerURL": "https://plot.ly"
       },
       "data": [
        {
         "coloraxis": "coloraxis",
         "geo": "geo",
         "hovertemplate": "<b>%{hovertext}</b><br><br>Country=%{location}<br>Confirmed=%{z}<extra></extra>",
         "hovertext": [
          "Afghanistan",
          "Albania",
          "Algeria",
          "Andorra",
          "Angola",
          "Antigua and Barbuda",
          "Argentina",
          "Armenia",
          "Australia",
          "Austria",
          "Azerbaijan",
          "Bahamas",
          "Bahrain",
          "Bangladesh",
          "Barbados",
          "Belarus",
          "Belgium",
          "Belize",
          "Benin",
          "Bhutan",
          "Bolivia",
          "Bosnia and Herzegovina",
          "Botswana",
          "Brazil",
          "Brunei",
          "Bulgaria",
          "Burkina Faso",
          "Burma",
          "Burundi",
          "Cabo Verde",
          "Cambodia",
          "Cameroon",
          "Canada",
          "Central African Republic",
          "Chad",
          "Chile",
          "China",
          "Colombia",
          "Comoros",
          "Congo (Brazzaville)",
          "Congo (Kinshasa)",
          "Costa Rica",
          "Cote d'Ivoire",
          "Croatia",
          "Cuba",
          "Cyprus",
          "Czechia",
          "Denmark",
          "Diamond Princess",
          "Djibouti",
          "Dominica",
          "Dominican Republic",
          "Ecuador",
          "Egypt",
          "El Salvador",
          "Equatorial Guinea",
          "Eritrea",
          "Estonia",
          "Eswatini",
          "Ethiopia",
          "Fiji",
          "Finland",
          "France",
          "Gabon",
          "Gambia",
          "Georgia",
          "Germany",
          "Ghana",
          "Greece",
          "Grenada",
          "Guatemala",
          "Guinea",
          "Guinea-Bissau",
          "Guyana",
          "Haiti",
          "Holy See",
          "Honduras",
          "Hungary",
          "Iceland",
          "India",
          "Indonesia",
          "Iran",
          "Iraq",
          "Ireland",
          "Israel",
          "Italy",
          "Jamaica",
          "Japan",
          "Jordan",
          "Kazakhstan",
          "Kenya",
          "Kiribati",
          "Korea, South",
          "Kosovo",
          "Kuwait",
          "Kyrgyzstan",
          "Laos",
          "Latvia",
          "Lebanon",
          "Lesotho",
          "Liberia",
          "Libya",
          "Liechtenstein",
          "Lithuania",
          "Luxembourg",
          "MS Zaandam",
          "Madagascar",
          "Malawi",
          "Malaysia",
          "Maldives",
          "Mali",
          "Malta",
          "Marshall Islands",
          "Mauritania",
          "Mauritius",
          "Mexico",
          "Moldova",
          "Monaco",
          "Mongolia",
          "Montenegro",
          "Morocco",
          "Mozambique",
          "Namibia",
          "Nepal",
          "Netherlands",
          "New Zealand",
          "Nicaragua",
          "Niger",
          "Nigeria",
          "North Macedonia",
          "Norway",
          "Oman",
          "Pakistan",
          "Palau",
          "Panama",
          "Papua New Guinea",
          "Paraguay",
          "Peru",
          "Philippines",
          "Poland",
          "Portugal",
          "Qatar",
          "Romania",
          "Russia",
          "Rwanda",
          "Saint Kitts and Nevis",
          "Saint Lucia",
          "Saint Vincent and the Grenadines",
          "Samoa",
          "San Marino",
          "Sao Tome and Principe",
          "Saudi Arabia",
          "Senegal",
          "Serbia",
          "Seychelles",
          "Sierra Leone",
          "Singapore",
          "Slovakia",
          "Slovenia",
          "Solomon Islands",
          "Somalia",
          "South Africa",
          "South Sudan",
          "Spain",
          "Sri Lanka",
          "Sudan",
          "Summer Olympics 2020",
          "Suriname",
          "Sweden",
          "Switzerland",
          "Syria",
          "Taiwan*",
          "Tajikistan",
          "Tanzania",
          "Thailand",
          "Timor-Leste",
          "Togo",
          "Trinidad and Tobago",
          "Tunisia",
          "Turkey",
          "US",
          "Uganda",
          "Ukraine",
          "United Arab Emirates",
          "United Kingdom",
          "Uruguay",
          "Uzbekistan",
          "Vanuatu",
          "Venezuela",
          "Vietnam",
          "West Bank and Gaza",
          "Yemen",
          "Zambia",
          "Zimbabwe"
         ],
         "locationmode": "country names",
         "locations": [
          "Afghanistan",
          "Albania",
          "Algeria",
          "Andorra",
          "Angola",
          "Antigua and Barbuda",
          "Argentina",
          "Armenia",
          "Australia",
          "Austria",
          "Azerbaijan",
          "Bahamas",
          "Bahrain",
          "Bangladesh",
          "Barbados",
          "Belarus",
          "Belgium",
          "Belize",
          "Benin",
          "Bhutan",
          "Bolivia",
          "Bosnia and Herzegovina",
          "Botswana",
          "Brazil",
          "Brunei",
          "Bulgaria",
          "Burkina Faso",
          "Burma",
          "Burundi",
          "Cabo Verde",
          "Cambodia",
          "Cameroon",
          "Canada",
          "Central African Republic",
          "Chad",
          "Chile",
          "China",
          "Colombia",
          "Comoros",
          "Congo (Brazzaville)",
          "Congo (Kinshasa)",
          "Costa Rica",
          "Cote d'Ivoire",
          "Croatia",
          "Cuba",
          "Cyprus",
          "Czechia",
          "Denmark",
          "Diamond Princess",
          "Djibouti",
          "Dominica",
          "Dominican Republic",
          "Ecuador",
          "Egypt",
          "El Salvador",
          "Equatorial Guinea",
          "Eritrea",
          "Estonia",
          "Eswatini",
          "Ethiopia",
          "Fiji",
          "Finland",
          "France",
          "Gabon",
          "Gambia",
          "Georgia",
          "Germany",
          "Ghana",
          "Greece",
          "Grenada",
          "Guatemala",
          "Guinea",
          "Guinea-Bissau",
          "Guyana",
          "Haiti",
          "Holy See",
          "Honduras",
          "Hungary",
          "Iceland",
          "India",
          "Indonesia",
          "Iran",
          "Iraq",
          "Ireland",
          "Israel",
          "Italy",
          "Jamaica",
          "Japan",
          "Jordan",
          "Kazakhstan",
          "Kenya",
          "Kiribati",
          "Korea, South",
          "Kosovo",
          "Kuwait",
          "Kyrgyzstan",
          "Laos",
          "Latvia",
          "Lebanon",
          "Lesotho",
          "Liberia",
          "Libya",
          "Liechtenstein",
          "Lithuania",
          "Luxembourg",
          "MS Zaandam",
          "Madagascar",
          "Malawi",
          "Malaysia",
          "Maldives",
          "Mali",
          "Malta",
          "Marshall Islands",
          "Mauritania",
          "Mauritius",
          "Mexico",
          "Moldova",
          "Monaco",
          "Mongolia",
          "Montenegro",
          "Morocco",
          "Mozambique",
          "Namibia",
          "Nepal",
          "Netherlands",
          "New Zealand",
          "Nicaragua",
          "Niger",
          "Nigeria",
          "North Macedonia",
          "Norway",
          "Oman",
          "Pakistan",
          "Palau",
          "Panama",
          "Papua New Guinea",
          "Paraguay",
          "Peru",
          "Philippines",
          "Poland",
          "Portugal",
          "Qatar",
          "Romania",
          "Russia",
          "Rwanda",
          "Saint Kitts and Nevis",
          "Saint Lucia",
          "Saint Vincent and the Grenadines",
          "Samoa",
          "San Marino",
          "Sao Tome and Principe",
          "Saudi Arabia",
          "Senegal",
          "Serbia",
          "Seychelles",
          "Sierra Leone",
          "Singapore",
          "Slovakia",
          "Slovenia",
          "Solomon Islands",
          "Somalia",
          "South Africa",
          "South Sudan",
          "Spain",
          "Sri Lanka",
          "Sudan",
          "Summer Olympics 2020",
          "Suriname",
          "Sweden",
          "Switzerland",
          "Syria",
          "Taiwan*",
          "Tajikistan",
          "Tanzania",
          "Thailand",
          "Timor-Leste",
          "Togo",
          "Trinidad and Tobago",
          "Tunisia",
          "Turkey",
          "US",
          "Uganda",
          "Ukraine",
          "United Arab Emirates",
          "United Kingdom",
          "Uruguay",
          "Uzbekistan",
          "Vanuatu",
          "Venezuela",
          "Vietnam",
          "West Bank and Gaza",
          "Yemen",
          "Zambia",
          "Zimbabwe"
         ],
         "name": "",
         "type": "choropleth",
         "z": [
          52513,
          58316,
          99897,
          8117,
          17568,
          159,
          1629594,
          159738,
          28460,
          362911,
          219041,
          7887,
          92913,
          514500,
          395,
          196223,
          648289,
          10776,
          3251,
          689,
          160985,
          112143,
          14805,
          7700578,
          157,
          202540,
          6828,
          125042,
          822,
          11872,
          379,
          26848,
          591149,
          4963,
          2141,
          612564,
          96023,
          1654880,
          823,
          7107,
          17849,
          169321,
          22563,
          212007,
          12056,
          23108,
          732022,
          166567,
          712,
          5840,
          88,
          172218,
          213378,
          139471,
          46515,
          5277,
          1320,
          28406,
          9482,
          124652,
          49,
          36403,
          2697014,
          9571,
          3800,
          228410,
          1762637,
          54930,
          139447,
          127,
          138236,
          13738,
          2452,
          6348,
          10015,
          27,
          122974,
          325278,
          5754,
          10325823,
          751270,
          1231429,
          596193,
          93532,
          428510,
          2129376,
          12915,
          239068,
          295765,
          202060,
          96614,
          0,
          62593,
          51502,
          150869,
          81156,
          41,
          41615,
          183888,
          3206,
          1800,
          100744,
          2245,
          145430,
          46415,
          9,
          17714,
          6684,
          115078,
          13804,
          7203,
          12909,
          4,
          14581,
          527,
          1437185,
          145258,
          885,
          1242,
          48589,
          440970,
          18794,
          24545,
          261019,
          816616,
          2162,
          6046,
          3403,
          88587,
          83743,
          49803,
          128867,
          484362,
          0,
          249733,
          780,
          108349,
          1015137,
          475820,
          1305774,
          420629,
          144042,
          636201,
          3153960,
          8460,
          32,
          353,
          121,
          2,
          2384,
          1022,
          362878,
          19364,
          339997,
          267,
          2635,
          58629,
          184508,
          123950,
          17,
          4714,
          1073887,
          3558,
          1928265,
          43856,
          25730,
          0,
          6277,
          437379,
          452296,
          11526,
          802,
          13665,
          509,
          7379,
          44,
          3662,
          7158,
          140557,
          2220855,
          20318085,
          35511,
          1096855,
          209678,
          2549693,
          19753,
          77182,
          1,
          113884,
          1474,
          139223,
          2101,
          20997,
          14084
         ]
        }
       ],
       "layout": {
        "coloraxis": {
         "cmax": 1000,
         "cmin": 0,
         "colorbar": {
          "title": {
           "text": "Confirmed"
          }
         },
         "colorscale": [
          [
           0,
           "rgb(176, 242, 188)"
          ],
          [
           0.16666666666666666,
           "rgb(137, 232, 172)"
          ],
          [
           0.3333333333333333,
           "rgb(103, 219, 165)"
          ],
          [
           0.5,
           "rgb(76, 200, 163)"
          ],
          [
           0.6666666666666666,
           "rgb(56, 178, 163)"
          ],
          [
           0.8333333333333334,
           "rgb(44, 152, 160)"
          ],
          [
           1,
           "rgb(37, 125, 152)"
          ]
         ]
        },
        "geo": {
         "center": {},
         "domain": {
          "x": [
           0,
           1
          ],
          "y": [
           0,
           1
          ]
         }
        },
        "legend": {
         "tracegroupgap": 0
        },
        "template": {
         "data": {
          "bar": [
           {
            "error_x": {
             "color": "#2a3f5f"
            },
            "error_y": {
             "color": "#2a3f5f"
            },
            "marker": {
             "line": {
              "color": "#E5ECF6",
              "width": 0.5
             },
             "pattern": {
              "fillmode": "overlay",
              "size": 10,
              "solidity": 0.2
             }
            },
            "type": "bar"
           }
          ],
          "barpolar": [
           {
            "marker": {
             "line": {
              "color": "#E5ECF6",
              "width": 0.5
             },
             "pattern": {
              "fillmode": "overlay",
              "size": 10,
              "solidity": 0.2
             }
            },
            "type": "barpolar"
           }
          ],
          "carpet": [
           {
            "aaxis": {
             "endlinecolor": "#2a3f5f",
             "gridcolor": "white",
             "linecolor": "white",
             "minorgridcolor": "white",
             "startlinecolor": "#2a3f5f"
            },
            "baxis": {
             "endlinecolor": "#2a3f5f",
             "gridcolor": "white",
             "linecolor": "white",
             "minorgridcolor": "white",
             "startlinecolor": "#2a3f5f"
            },
            "type": "carpet"
           }
          ],
          "choropleth": [
           {
            "colorbar": {
             "outlinewidth": 0,
             "ticks": ""
            },
            "type": "choropleth"
           }
          ],
          "contour": [
           {
            "colorbar": {
             "outlinewidth": 0,
             "ticks": ""
            },
            "colorscale": [
             [
              0,
              "#0d0887"
             ],
             [
              0.1111111111111111,
              "#46039f"
             ],
             [
              0.2222222222222222,
              "#7201a8"
             ],
             [
              0.3333333333333333,
              "#9c179e"
             ],
             [
              0.4444444444444444,
              "#bd3786"
             ],
             [
              0.5555555555555556,
              "#d8576b"
             ],
             [
              0.6666666666666666,
              "#ed7953"
             ],
             [
              0.7777777777777778,
              "#fb9f3a"
             ],
             [
              0.8888888888888888,
              "#fdca26"
             ],
             [
              1,
              "#f0f921"
             ]
            ],
            "type": "contour"
           }
          ],
          "contourcarpet": [
           {
            "colorbar": {
             "outlinewidth": 0,
             "ticks": ""
            },
            "type": "contourcarpet"
           }
          ],
          "heatmap": [
           {
            "colorbar": {
             "outlinewidth": 0,
             "ticks": ""
            },
            "colorscale": [
             [
              0,
              "#0d0887"
             ],
             [
              0.1111111111111111,
              "#46039f"
             ],
             [
              0.2222222222222222,
              "#7201a8"
             ],
             [
              0.3333333333333333,
              "#9c179e"
             ],
             [
              0.4444444444444444,
              "#bd3786"
             ],
             [
              0.5555555555555556,
              "#d8576b"
             ],
             [
              0.6666666666666666,
              "#ed7953"
             ],
             [
              0.7777777777777778,
              "#fb9f3a"
             ],
             [
              0.8888888888888888,
              "#fdca26"
             ],
             [
              1,
              "#f0f921"
             ]
            ],
            "type": "heatmap"
           }
          ],
          "heatmapgl": [
           {
            "colorbar": {
             "outlinewidth": 0,
             "ticks": ""
            },
            "colorscale": [
             [
              0,
              "#0d0887"
             ],
             [
              0.1111111111111111,
              "#46039f"
             ],
             [
              0.2222222222222222,
              "#7201a8"
             ],
             [
              0.3333333333333333,
              "#9c179e"
             ],
             [
              0.4444444444444444,
              "#bd3786"
             ],
             [
              0.5555555555555556,
              "#d8576b"
             ],
             [
              0.6666666666666666,
              "#ed7953"
             ],
             [
              0.7777777777777778,
              "#fb9f3a"
             ],
             [
              0.8888888888888888,
              "#fdca26"
             ],
             [
              1,
              "#f0f921"
             ]
            ],
            "type": "heatmapgl"
           }
          ],
          "histogram": [
           {
            "marker": {
             "pattern": {
              "fillmode": "overlay",
              "size": 10,
              "solidity": 0.2
             }
            },
            "type": "histogram"
           }
          ],
          "histogram2d": [
           {
            "colorbar": {
             "outlinewidth": 0,
             "ticks": ""
            },
            "colorscale": [
             [
              0,
              "#0d0887"
             ],
             [
              0.1111111111111111,
              "#46039f"
             ],
             [
              0.2222222222222222,
              "#7201a8"
             ],
             [
              0.3333333333333333,
              "#9c179e"
             ],
             [
              0.4444444444444444,
              "#bd3786"
             ],
             [
              0.5555555555555556,
              "#d8576b"
             ],
             [
              0.6666666666666666,
              "#ed7953"
             ],
             [
              0.7777777777777778,
              "#fb9f3a"
             ],
             [
              0.8888888888888888,
              "#fdca26"
             ],
             [
              1,
              "#f0f921"
             ]
            ],
            "type": "histogram2d"
           }
          ],
          "histogram2dcontour": [
           {
            "colorbar": {
             "outlinewidth": 0,
             "ticks": ""
            },
            "colorscale": [
             [
              0,
              "#0d0887"
             ],
             [
              0.1111111111111111,
              "#46039f"
             ],
             [
              0.2222222222222222,
              "#7201a8"
             ],
             [
              0.3333333333333333,
              "#9c179e"
             ],
             [
              0.4444444444444444,
              "#bd3786"
             ],
             [
              0.5555555555555556,
              "#d8576b"
             ],
             [
              0.6666666666666666,
              "#ed7953"
             ],
             [
              0.7777777777777778,
              "#fb9f3a"
             ],
             [
              0.8888888888888888,
              "#fdca26"
             ],
             [
              1,
              "#f0f921"
             ]
            ],
            "type": "histogram2dcontour"
           }
          ],
          "mesh3d": [
           {
            "colorbar": {
             "outlinewidth": 0,
             "ticks": ""
            },
            "type": "mesh3d"
           }
          ],
          "parcoords": [
           {
            "line": {
             "colorbar": {
              "outlinewidth": 0,
              "ticks": ""
             }
            },
            "type": "parcoords"
           }
          ],
          "pie": [
           {
            "automargin": true,
            "type": "pie"
           }
          ],
          "scatter": [
           {
            "marker": {
             "colorbar": {
              "outlinewidth": 0,
              "ticks": ""
             }
            },
            "type": "scatter"
           }
          ],
          "scatter3d": [
           {
            "line": {
             "colorbar": {
              "outlinewidth": 0,
              "ticks": ""
             }
            },
            "marker": {
             "colorbar": {
              "outlinewidth": 0,
              "ticks": ""
             }
            },
            "type": "scatter3d"
           }
          ],
          "scattercarpet": [
           {
            "marker": {
             "colorbar": {
              "outlinewidth": 0,
              "ticks": ""
             }
            },
            "type": "scattercarpet"
           }
          ],
          "scattergeo": [
           {
            "marker": {
             "colorbar": {
              "outlinewidth": 0,
              "ticks": ""
             }
            },
            "type": "scattergeo"
           }
          ],
          "scattergl": [
           {
            "marker": {
             "colorbar": {
              "outlinewidth": 0,
              "ticks": ""
             }
            },
            "type": "scattergl"
           }
          ],
          "scattermapbox": [
           {
            "marker": {
             "colorbar": {
              "outlinewidth": 0,
              "ticks": ""
             }
            },
            "type": "scattermapbox"
           }
          ],
          "scatterpolar": [
           {
            "marker": {
             "colorbar": {
              "outlinewidth": 0,
              "ticks": ""
             }
            },
            "type": "scatterpolar"
           }
          ],
          "scatterpolargl": [
           {
            "marker": {
             "colorbar": {
              "outlinewidth": 0,
              "ticks": ""
             }
            },
            "type": "scatterpolargl"
           }
          ],
          "scatterternary": [
           {
            "marker": {
             "colorbar": {
              "outlinewidth": 0,
              "ticks": ""
             }
            },
            "type": "scatterternary"
           }
          ],
          "surface": [
           {
            "colorbar": {
             "outlinewidth": 0,
             "ticks": ""
            },
            "colorscale": [
             [
              0,
              "#0d0887"
             ],
             [
              0.1111111111111111,
              "#46039f"
             ],
             [
              0.2222222222222222,
              "#7201a8"
             ],
             [
              0.3333333333333333,
              "#9c179e"
             ],
             [
              0.4444444444444444,
              "#bd3786"
             ],
             [
              0.5555555555555556,
              "#d8576b"
             ],
             [
              0.6666666666666666,
              "#ed7953"
             ],
             [
              0.7777777777777778,
              "#fb9f3a"
             ],
             [
              0.8888888888888888,
              "#fdca26"
             ],
             [
              1,
              "#f0f921"
             ]
            ],
            "type": "surface"
           }
          ],
          "table": [
           {
            "cells": {
             "fill": {
              "color": "#EBF0F8"
             },
             "line": {
              "color": "white"
             }
            },
            "header": {
             "fill": {
              "color": "#C8D4E3"
             },
             "line": {
              "color": "white"
             }
            },
            "type": "table"
           }
          ]
         },
         "layout": {
          "annotationdefaults": {
           "arrowcolor": "#2a3f5f",
           "arrowhead": 0,
           "arrowwidth": 1
          },
          "autotypenumbers": "strict",
          "coloraxis": {
           "colorbar": {
            "outlinewidth": 0,
            "ticks": ""
           }
          },
          "colorscale": {
           "diverging": [
            [
             0,
             "#8e0152"
            ],
            [
             0.1,
             "#c51b7d"
            ],
            [
             0.2,
             "#de77ae"
            ],
            [
             0.3,
             "#f1b6da"
            ],
            [
             0.4,
             "#fde0ef"
            ],
            [
             0.5,
             "#f7f7f7"
            ],
            [
             0.6,
             "#e6f5d0"
            ],
            [
             0.7,
             "#b8e186"
            ],
            [
             0.8,
             "#7fbc41"
            ],
            [
             0.9,
             "#4d9221"
            ],
            [
             1,
             "#276419"
            ]
           ],
           "sequential": [
            [
             0,
             "#0d0887"
            ],
            [
             0.1111111111111111,
             "#46039f"
            ],
            [
             0.2222222222222222,
             "#7201a8"
            ],
            [
             0.3333333333333333,
             "#9c179e"
            ],
            [
             0.4444444444444444,
             "#bd3786"
            ],
            [
             0.5555555555555556,
             "#d8576b"
            ],
            [
             0.6666666666666666,
             "#ed7953"
            ],
            [
             0.7777777777777778,
             "#fb9f3a"
            ],
            [
             0.8888888888888888,
             "#fdca26"
            ],
            [
             1,
             "#f0f921"
            ]
           ],
           "sequentialminus": [
            [
             0,
             "#0d0887"
            ],
            [
             0.1111111111111111,
             "#46039f"
            ],
            [
             0.2222222222222222,
             "#7201a8"
            ],
            [
             0.3333333333333333,
             "#9c179e"
            ],
            [
             0.4444444444444444,
             "#bd3786"
            ],
            [
             0.5555555555555556,
             "#d8576b"
            ],
            [
             0.6666666666666666,
             "#ed7953"
            ],
            [
             0.7777777777777778,
             "#fb9f3a"
            ],
            [
             0.8888888888888888,
             "#fdca26"
            ],
            [
             1,
             "#f0f921"
            ]
           ]
          },
          "colorway": [
           "#636efa",
           "#EF553B",
           "#00cc96",
           "#ab63fa",
           "#FFA15A",
           "#19d3f3",
           "#FF6692",
           "#B6E880",
           "#FF97FF",
           "#FECB52"
          ],
          "font": {
           "color": "#2a3f5f"
          },
          "geo": {
           "bgcolor": "white",
           "lakecolor": "white",
           "landcolor": "#E5ECF6",
           "showlakes": true,
           "showland": true,
           "subunitcolor": "white"
          },
          "hoverlabel": {
           "align": "left"
          },
          "hovermode": "closest",
          "mapbox": {
           "style": "light"
          },
          "paper_bgcolor": "white",
          "plot_bgcolor": "#E5ECF6",
          "polar": {
           "angularaxis": {
            "gridcolor": "white",
            "linecolor": "white",
            "ticks": ""
           },
           "bgcolor": "#E5ECF6",
           "radialaxis": {
            "gridcolor": "white",
            "linecolor": "white",
            "ticks": ""
           }
          },
          "scene": {
           "xaxis": {
            "backgroundcolor": "#E5ECF6",
            "gridcolor": "white",
            "gridwidth": 2,
            "linecolor": "white",
            "showbackground": true,
            "ticks": "",
            "zerolinecolor": "white"
           },
           "yaxis": {
            "backgroundcolor": "#E5ECF6",
            "gridcolor": "white",
            "gridwidth": 2,
            "linecolor": "white",
            "showbackground": true,
            "ticks": "",
            "zerolinecolor": "white"
           },
           "zaxis": {
            "backgroundcolor": "#E5ECF6",
            "gridcolor": "white",
            "gridwidth": 2,
            "linecolor": "white",
            "showbackground": true,
            "ticks": "",
            "zerolinecolor": "white"
           }
          },
          "shapedefaults": {
           "line": {
            "color": "#2a3f5f"
           }
          },
          "ternary": {
           "aaxis": {
            "gridcolor": "white",
            "linecolor": "white",
            "ticks": ""
           },
           "baxis": {
            "gridcolor": "white",
            "linecolor": "white",
            "ticks": ""
           },
           "bgcolor": "#E5ECF6",
           "caxis": {
            "gridcolor": "white",
            "linecolor": "white",
            "ticks": ""
           }
          },
          "title": {
           "x": 0.05
          },
          "xaxis": {
           "automargin": true,
           "gridcolor": "white",
           "linecolor": "white",
           "ticks": "",
           "title": {
            "standoff": 15
           },
           "zerolinecolor": "white",
           "zerolinewidth": 2
          },
          "yaxis": {
           "automargin": true,
           "gridcolor": "white",
           "linecolor": "white",
           "ticks": "",
           "title": {
            "standoff": 15
           },
           "zerolinecolor": "white",
           "zerolinewidth": 2
          }
         }
        },
        "title": {
         "text": "COVID-19 Confirmed Cases in the World"
        }
       }
      }
     },
     "metadata": {},
     "output_type": "display_data"
    }
   ],
   "source": [
    "# plotting a choropleth map on a world map\n",
    "fig = px.choropleth(world_df, locations='Country', \n",
    "                    locationmode='country names',\n",
    "                    color='Confirmed',\n",
    "                    hover_name='Country',\n",
    "                    color_continuous_scale='tealgrn',\n",
    "                    range_color=(0, 1000),  # set the range of the color scale\n",
    "                    title='COVID-19 Confirmed Cases in the World')\n",
    "\n",
    "fig.show()\n"
   ]
  },
  {
   "cell_type": "code",
   "execution_count": null,
   "metadata": {},
   "outputs": [],
   "source": []
  }
 ],
 "metadata": {
  "interpreter": {
   "hash": "dee03b1924112c3238d23c98c3f985545bca73e9aa3cd91bc9d617365e696192"
  },
  "kernelspec": {
   "display_name": "Python 3.8.8 64-bit ('base': conda)",
   "name": "python3"
  },
  "language_info": {
   "codemirror_mode": {
    "name": "ipython",
    "version": 3
   },
   "file_extension": ".py",
   "mimetype": "text/x-python",
   "name": "python",
   "nbconvert_exporter": "python",
   "pygments_lexer": "ipython3",
   "version": "3.8.8"
  },
  "orig_nbformat": 4
 },
 "nbformat": 4,
 "nbformat_minor": 2
}
